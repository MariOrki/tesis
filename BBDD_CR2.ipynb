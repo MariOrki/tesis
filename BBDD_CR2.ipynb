{
 "cells": [
  {
   "attachments": {},
   "cell_type": "markdown",
   "id": "ed501650",
   "metadata": {},
   "source": [
    "# Chilean cities database 🌆🌳\n",
    "Provided by CR2 on 24 April 2023\n",
    "\n",
    "Mariana Bruning-González mariana.bruning@alumnos.uach.cl Doctorado en Ecología y Evolución, Universidad Austral de Chile"
   ]
  },
  {
   "attachments": {},
   "cell_type": "markdown",
   "id": "a54771e6",
   "metadata": {},
   "source": [
    "# Packages"
   ]
  },
  {
   "cell_type": "code",
   "execution_count": 3,
   "id": "05b9158e",
   "metadata": {},
   "outputs": [
    {
     "name": "stdout",
     "output_type": "stream",
     "text": [
      "Requirement already satisfied: pandas in c:\\users\\mariana\\.conda\\envs\\tesis\\lib\\site-packages (2.0.1)\n",
      "Requirement already satisfied: python-dateutil>=2.8.2 in c:\\users\\mariana\\.conda\\envs\\tesis\\lib\\site-packages (from pandas) (2.8.2)\n",
      "Requirement already satisfied: pytz>=2020.1 in c:\\users\\mariana\\.conda\\envs\\tesis\\lib\\site-packages (from pandas) (2023.3)\n",
      "Requirement already satisfied: tzdata>=2022.1 in c:\\users\\mariana\\.conda\\envs\\tesis\\lib\\site-packages (from pandas) (2023.3)\n",
      "Requirement already satisfied: numpy>=1.21.0 in c:\\users\\mariana\\.conda\\envs\\tesis\\lib\\site-packages (from pandas) (1.24.3)\n",
      "Requirement already satisfied: six>=1.5 in c:\\users\\mariana\\.conda\\envs\\tesis\\lib\\site-packages (from python-dateutil>=2.8.2->pandas) (1.16.0)\n",
      "Requirement already satisfied: geopandas in c:\\users\\mariana\\.conda\\envs\\tesis\\lib\\site-packages (0.13.0)\n",
      "Requirement already satisfied: fiona>=1.8.19 in c:\\users\\mariana\\.conda\\envs\\tesis\\lib\\site-packages (from geopandas) (1.9.3)\n",
      "Requirement already satisfied: packaging in c:\\users\\mariana\\.conda\\envs\\tesis\\lib\\site-packages (from geopandas) (23.1)\n",
      "Requirement already satisfied: pandas>=1.1.0 in c:\\users\\mariana\\.conda\\envs\\tesis\\lib\\site-packages (from geopandas) (2.0.1)\n",
      "Requirement already satisfied: pyproj>=3.0.1 in c:\\users\\mariana\\.conda\\envs\\tesis\\lib\\site-packages (from geopandas) (3.5.0)\n",
      "Requirement already satisfied: shapely>=1.7.1 in c:\\users\\mariana\\.conda\\envs\\tesis\\lib\\site-packages (from geopandas) (2.0.1)\n",
      "Requirement already satisfied: attrs>=19.2.0 in c:\\users\\mariana\\.conda\\envs\\tesis\\lib\\site-packages (from fiona>=1.8.19->geopandas) (22.1.0)\n",
      "Requirement already satisfied: certifi in c:\\users\\mariana\\.conda\\envs\\tesis\\lib\\site-packages (from fiona>=1.8.19->geopandas) (2023.5.7)\n",
      "Requirement already satisfied: click~=8.0 in c:\\users\\mariana\\.conda\\envs\\tesis\\lib\\site-packages (from fiona>=1.8.19->geopandas) (8.1.3)\n",
      "Requirement already satisfied: click-plugins>=1.0 in c:\\users\\mariana\\.conda\\envs\\tesis\\lib\\site-packages (from fiona>=1.8.19->geopandas) (1.1.1)\n",
      "Requirement already satisfied: cligj>=0.5 in c:\\users\\mariana\\.conda\\envs\\tesis\\lib\\site-packages (from fiona>=1.8.19->geopandas) (0.7.2)\n",
      "Requirement already satisfied: munch>=2.3.2 in c:\\users\\mariana\\.conda\\envs\\tesis\\lib\\site-packages (from fiona>=1.8.19->geopandas) (2.5.0)\n",
      "Requirement already satisfied: python-dateutil>=2.8.2 in c:\\users\\mariana\\.conda\\envs\\tesis\\lib\\site-packages (from pandas>=1.1.0->geopandas) (2.8.2)\n",
      "Requirement already satisfied: pytz>=2020.1 in c:\\users\\mariana\\.conda\\envs\\tesis\\lib\\site-packages (from pandas>=1.1.0->geopandas) (2023.3)\n",
      "Requirement already satisfied: tzdata>=2022.1 in c:\\users\\mariana\\.conda\\envs\\tesis\\lib\\site-packages (from pandas>=1.1.0->geopandas) (2023.3)\n",
      "Requirement already satisfied: numpy>=1.21.0 in c:\\users\\mariana\\.conda\\envs\\tesis\\lib\\site-packages (from pandas>=1.1.0->geopandas) (1.24.3)\n",
      "Requirement already satisfied: colorama in c:\\users\\mariana\\.conda\\envs\\tesis\\lib\\site-packages (from click~=8.0->fiona>=1.8.19->geopandas) (0.4.6)\n",
      "Requirement already satisfied: six in c:\\users\\mariana\\.conda\\envs\\tesis\\lib\\site-packages (from munch>=2.3.2->fiona>=1.8.19->geopandas) (1.16.0)\n",
      "Requirement already satisfied: plotly.express in c:\\users\\mariana\\.conda\\envs\\tesis\\lib\\site-packages (0.4.1)\n",
      "Requirement already satisfied: pandas>=0.20.0 in c:\\users\\mariana\\.conda\\envs\\tesis\\lib\\site-packages (from plotly.express) (2.0.1)\n",
      "Requirement already satisfied: plotly>=4.1.0 in c:\\users\\mariana\\.conda\\envs\\tesis\\lib\\site-packages (from plotly.express) (5.14.1)\n",
      "Requirement already satisfied: statsmodels>=0.9.0 in c:\\users\\mariana\\.conda\\envs\\tesis\\lib\\site-packages (from plotly.express) (0.14.0)\n",
      "Requirement already satisfied: scipy>=0.18 in c:\\users\\mariana\\.conda\\envs\\tesis\\lib\\site-packages (from plotly.express) (1.10.1)\n",
      "Requirement already satisfied: patsy>=0.5 in c:\\users\\mariana\\.conda\\envs\\tesis\\lib\\site-packages (from plotly.express) (0.5.3)\n",
      "Requirement already satisfied: numpy>=1.11 in c:\\users\\mariana\\.conda\\envs\\tesis\\lib\\site-packages (from plotly.express) (1.24.3)\n",
      "Requirement already satisfied: python-dateutil>=2.8.2 in c:\\users\\mariana\\.conda\\envs\\tesis\\lib\\site-packages (from pandas>=0.20.0->plotly.express) (2.8.2)\n",
      "Requirement already satisfied: pytz>=2020.1 in c:\\users\\mariana\\.conda\\envs\\tesis\\lib\\site-packages (from pandas>=0.20.0->plotly.express) (2023.3)\n",
      "Requirement already satisfied: tzdata>=2022.1 in c:\\users\\mariana\\.conda\\envs\\tesis\\lib\\site-packages (from pandas>=0.20.0->plotly.express) (2023.3)\n",
      "Requirement already satisfied: six in c:\\users\\mariana\\.conda\\envs\\tesis\\lib\\site-packages (from patsy>=0.5->plotly.express) (1.16.0)\n",
      "Requirement already satisfied: tenacity>=6.2.0 in c:\\users\\mariana\\.conda\\envs\\tesis\\lib\\site-packages (from plotly>=4.1.0->plotly.express) (8.2.2)\n",
      "Requirement already satisfied: packaging in c:\\users\\mariana\\.conda\\envs\\tesis\\lib\\site-packages (from plotly>=4.1.0->plotly.express) (23.1)\n",
      "Requirement already satisfied: matplotlib in c:\\users\\mariana\\.conda\\envs\\tesis\\lib\\site-packages (3.7.1)\n",
      "Requirement already satisfied: contourpy>=1.0.1 in c:\\users\\mariana\\.conda\\envs\\tesis\\lib\\site-packages (from matplotlib) (1.0.7)\n",
      "Requirement already satisfied: cycler>=0.10 in c:\\users\\mariana\\.conda\\envs\\tesis\\lib\\site-packages (from matplotlib) (0.11.0)\n",
      "Requirement already satisfied: fonttools>=4.22.0 in c:\\users\\mariana\\.conda\\envs\\tesis\\lib\\site-packages (from matplotlib) (4.39.4)\n",
      "Requirement already satisfied: kiwisolver>=1.0.1 in c:\\users\\mariana\\.conda\\envs\\tesis\\lib\\site-packages (from matplotlib) (1.4.4)\n",
      "Requirement already satisfied: numpy>=1.20 in c:\\users\\mariana\\.conda\\envs\\tesis\\lib\\site-packages (from matplotlib) (1.24.3)\n",
      "Requirement already satisfied: packaging>=20.0 in c:\\users\\mariana\\.conda\\envs\\tesis\\lib\\site-packages (from matplotlib) (23.1)\n",
      "Requirement already satisfied: pillow>=6.2.0 in c:\\users\\mariana\\.conda\\envs\\tesis\\lib\\site-packages (from matplotlib) (9.5.0)\n",
      "Requirement already satisfied: pyparsing>=2.3.1 in c:\\users\\mariana\\.conda\\envs\\tesis\\lib\\site-packages (from matplotlib) (3.0.9)\n",
      "Requirement already satisfied: python-dateutil>=2.7 in c:\\users\\mariana\\.conda\\envs\\tesis\\lib\\site-packages (from matplotlib) (2.8.2)\n",
      "Requirement already satisfied: six>=1.5 in c:\\users\\mariana\\.conda\\envs\\tesis\\lib\\site-packages (from python-dateutil>=2.7->matplotlib) (1.16.0)\n",
      "Requirement already satisfied: geojson in c:\\users\\mariana\\.conda\\envs\\tesis\\lib\\site-packages (3.0.1)\n",
      "Requirement already satisfied: ipykernel in c:\\users\\mariana\\.conda\\envs\\tesis\\lib\\site-packages (6.15.0)\n",
      "Requirement already satisfied: debugpy>=1.0 in c:\\users\\mariana\\.conda\\envs\\tesis\\lib\\site-packages (from ipykernel) (1.5.1)\n",
      "Requirement already satisfied: ipython>=7.23.1 in c:\\users\\mariana\\.conda\\envs\\tesis\\lib\\site-packages (from ipykernel) (8.13.2)\n",
      "Requirement already satisfied: jupyter-client>=6.1.12 in c:\\users\\mariana\\.conda\\envs\\tesis\\lib\\site-packages (from ipykernel) (8.2.0)\n",
      "Requirement already satisfied: matplotlib-inline>=0.1 in c:\\users\\mariana\\.conda\\envs\\tesis\\lib\\site-packages (from ipykernel) (0.1.6)\n",
      "Requirement already satisfied: nest-asyncio in c:\\users\\mariana\\.conda\\envs\\tesis\\lib\\site-packages (from ipykernel) (1.5.6)\n",
      "Requirement already satisfied: packaging in c:\\users\\mariana\\.conda\\envs\\tesis\\lib\\site-packages (from ipykernel) (23.1)\n",
      "Requirement already satisfied: psutil in c:\\users\\mariana\\.conda\\envs\\tesis\\lib\\site-packages (from ipykernel) (5.9.0)\n",
      "Requirement already satisfied: pyzmq>=17 in c:\\users\\mariana\\.conda\\envs\\tesis\\lib\\site-packages (from ipykernel) (25.0.2)\n",
      "Requirement already satisfied: tornado>=6.1 in c:\\users\\mariana\\.conda\\envs\\tesis\\lib\\site-packages (from ipykernel) (6.2)\n",
      "Requirement already satisfied: traitlets>=5.1.0 in c:\\users\\mariana\\.conda\\envs\\tesis\\lib\\site-packages (from ipykernel) (5.9.0)\n",
      "Requirement already satisfied: backcall in c:\\users\\mariana\\.conda\\envs\\tesis\\lib\\site-packages (from ipython>=7.23.1->ipykernel) (0.2.0)\n",
      "Requirement already satisfied: decorator in c:\\users\\mariana\\.conda\\envs\\tesis\\lib\\site-packages (from ipython>=7.23.1->ipykernel) (5.1.1)\n",
      "Requirement already satisfied: jedi>=0.16 in c:\\users\\mariana\\.conda\\envs\\tesis\\lib\\site-packages (from ipython>=7.23.1->ipykernel) (0.18.2)\n",
      "Requirement already satisfied: pickleshare in c:\\users\\mariana\\.conda\\envs\\tesis\\lib\\site-packages (from ipython>=7.23.1->ipykernel) (0.7.5)\n",
      "Requirement already satisfied: prompt-toolkit!=3.0.37,<3.1.0,>=3.0.30 in c:\\users\\mariana\\.conda\\envs\\tesis\\lib\\site-packages (from ipython>=7.23.1->ipykernel) (3.0.38)\n",
      "Requirement already satisfied: pygments>=2.4.0 in c:\\users\\mariana\\.conda\\envs\\tesis\\lib\\site-packages (from ipython>=7.23.1->ipykernel) (2.15.1)\n",
      "Requirement already satisfied: stack-data in c:\\users\\mariana\\.conda\\envs\\tesis\\lib\\site-packages (from ipython>=7.23.1->ipykernel) (0.6.2)\n",
      "Requirement already satisfied: colorama in c:\\users\\mariana\\.conda\\envs\\tesis\\lib\\site-packages (from ipython>=7.23.1->ipykernel) (0.4.6)\n",
      "Requirement already satisfied: jupyter-core!=5.0.*,>=4.12 in c:\\users\\mariana\\.conda\\envs\\tesis\\lib\\site-packages (from jupyter-client>=6.1.12->ipykernel) (5.3.0)\n",
      "Requirement already satisfied: python-dateutil>=2.8.2 in c:\\users\\mariana\\.conda\\envs\\tesis\\lib\\site-packages (from jupyter-client>=6.1.12->ipykernel) (2.8.2)\n",
      "Requirement already satisfied: parso<0.9.0,>=0.8.0 in c:\\users\\mariana\\.conda\\envs\\tesis\\lib\\site-packages (from jedi>=0.16->ipython>=7.23.1->ipykernel) (0.8.3)\n",
      "Requirement already satisfied: platformdirs>=2.5 in c:\\users\\mariana\\.conda\\envs\\tesis\\lib\\site-packages (from jupyter-core!=5.0.*,>=4.12->jupyter-client>=6.1.12->ipykernel) (3.5.0)\n",
      "Requirement already satisfied: pywin32>=300 in c:\\users\\mariana\\.conda\\envs\\tesis\\lib\\site-packages (from jupyter-core!=5.0.*,>=4.12->jupyter-client>=6.1.12->ipykernel) (305.1)\n",
      "Requirement already satisfied: wcwidth in c:\\users\\mariana\\.conda\\envs\\tesis\\lib\\site-packages (from prompt-toolkit!=3.0.37,<3.1.0,>=3.0.30->ipython>=7.23.1->ipykernel) (0.2.6)\n",
      "Requirement already satisfied: six>=1.5 in c:\\users\\mariana\\.conda\\envs\\tesis\\lib\\site-packages (from python-dateutil>=2.8.2->jupyter-client>=6.1.12->ipykernel) (1.16.0)\n",
      "Requirement already satisfied: executing>=1.2.0 in c:\\users\\mariana\\.conda\\envs\\tesis\\lib\\site-packages (from stack-data->ipython>=7.23.1->ipykernel) (1.2.0)\n",
      "Requirement already satisfied: asttokens>=2.1.0 in c:\\users\\mariana\\.conda\\envs\\tesis\\lib\\site-packages (from stack-data->ipython>=7.23.1->ipykernel) (2.2.1)\n",
      "Requirement already satisfied: pure-eval in c:\\users\\mariana\\.conda\\envs\\tesis\\lib\\site-packages (from stack-data->ipython>=7.23.1->ipykernel) (0.2.2)\n"
     ]
    },
    {
     "name": "stderr",
     "output_type": "stream",
     "text": [
      "ERROR: Invalid requirement: '#quizás'\n"
     ]
    },
    {
     "name": "stdout",
     "output_type": "stream",
     "text": [
      "Collecting ast\n",
      "  Using cached AST-0.0.2.tar.gz (19 kB)\n",
      "  Preparing metadata (setup.py): started\n",
      "  Preparing metadata (setup.py): finished with status 'error'\n"
     ]
    },
    {
     "name": "stderr",
     "output_type": "stream",
     "text": [
      "  error: subprocess-exited-with-error\n",
      "  \n",
      "  × python setup.py egg_info did not run successfully.\n",
      "  │ exit code: 1\n",
      "  ╰─> [8 lines of output]\n",
      "      Traceback (most recent call last):\n",
      "        File \"<string>\", line 2, in <module>\n",
      "        File \"<pip-setuptools-caller>\", line 34, in <module>\n",
      "        File \"C:\\Users\\Mariana\\AppData\\Local\\Temp\\pip-install-o5s_sj55\\ast_2a7222902d37495491f22111a30baa42\\setup.py\", line 6, in <module>\n",
      "          README = codecs.open(os.path.join(here, 'AST/README'), encoding='utf8').read()\n",
      "                   ^^^^^^^^^^^^^^^^^^^^^^^^^^^^^^^^^^^^^^^^^^^^^^^^^^^^^^^^^^^^^^\n",
      "        File \"<frozen codecs>\", line 906, in open\n",
      "      FileNotFoundError: [Errno 2] No such file or directory: 'C:\\\\Users\\\\Mariana\\\\AppData\\\\Local\\\\Temp\\\\pip-install-o5s_sj55\\\\ast_2a7222902d37495491f22111a30baa42\\\\AST/README'\n",
      "      [end of output]\n",
      "  \n",
      "  note: This error originates from a subprocess, and is likely not a problem with pip.\n",
      "error: metadata-generation-failed\n",
      "\n",
      "× Encountered error while generating package metadata.\n",
      "╰─> See above for output.\n",
      "\n",
      "note: This is an issue with the package mentioned above, not pip.\n",
      "hint: See above for details.\n"
     ]
    },
    {
     "name": "stdout",
     "output_type": "stream",
     "text": [
      "Requirement already satisfied: nbformat in c:\\users\\mariana\\.conda\\envs\\tesis\\lib\\site-packages (5.7.0)\n",
      "Requirement already satisfied: fastjsonschema in c:\\users\\mariana\\.conda\\envs\\tesis\\lib\\site-packages (from nbformat) (2.16.2)\n",
      "Requirement already satisfied: jsonschema>=2.6 in c:\\users\\mariana\\.conda\\envs\\tesis\\lib\\site-packages (from nbformat) (4.17.3)\n",
      "Requirement already satisfied: jupyter-core in c:\\users\\mariana\\.conda\\envs\\tesis\\lib\\site-packages (from nbformat) (5.3.0)\n",
      "Requirement already satisfied: traitlets>=5.1 in c:\\users\\mariana\\.conda\\envs\\tesis\\lib\\site-packages (from nbformat) (5.9.0)\n",
      "Requirement already satisfied: attrs>=17.4.0 in c:\\users\\mariana\\.conda\\envs\\tesis\\lib\\site-packages (from jsonschema>=2.6->nbformat) (22.1.0)\n",
      "Requirement already satisfied: pyrsistent!=0.17.0,!=0.17.1,!=0.17.2,>=0.14.0 in c:\\users\\mariana\\.conda\\envs\\tesis\\lib\\site-packages (from jsonschema>=2.6->nbformat) (0.18.0)\n",
      "Requirement already satisfied: platformdirs>=2.5 in c:\\users\\mariana\\.conda\\envs\\tesis\\lib\\site-packages (from jupyter-core->nbformat) (3.5.0)\n",
      "Requirement already satisfied: pywin32>=300 in c:\\users\\mariana\\.conda\\envs\\tesis\\lib\\site-packages (from jupyter-core->nbformat) (305.1)\n",
      "Requirement already satisfied: nbformat in c:\\users\\mariana\\.conda\\envs\\tesis\\lib\\site-packages (5.7.0)\n",
      "Collecting nbformat\n",
      "  Downloading nbformat-5.9.0-py3-none-any.whl (77 kB)\n",
      "     ---------------------------------------- 77.6/77.6 kB 4.2 MB/s eta 0:00:00\n",
      "Requirement already satisfied: fastjsonschema in c:\\users\\mariana\\.conda\\envs\\tesis\\lib\\site-packages (from nbformat) (2.16.2)\n",
      "Requirement already satisfied: jsonschema>=2.6 in c:\\users\\mariana\\.conda\\envs\\tesis\\lib\\site-packages (from nbformat) (4.17.3)\n",
      "Requirement already satisfied: jupyter-core in c:\\users\\mariana\\.conda\\envs\\tesis\\lib\\site-packages (from nbformat) (5.3.0)\n",
      "Requirement already satisfied: traitlets>=5.1 in c:\\users\\mariana\\.conda\\envs\\tesis\\lib\\site-packages (from nbformat) (5.9.0)\n",
      "Requirement already satisfied: attrs>=17.4.0 in c:\\users\\mariana\\.conda\\envs\\tesis\\lib\\site-packages (from jsonschema>=2.6->nbformat) (22.1.0)\n",
      "Requirement already satisfied: pyrsistent!=0.17.0,!=0.17.1,!=0.17.2,>=0.14.0 in c:\\users\\mariana\\.conda\\envs\\tesis\\lib\\site-packages (from jsonschema>=2.6->nbformat) (0.18.0)\n",
      "Requirement already satisfied: platformdirs>=2.5 in c:\\users\\mariana\\.conda\\envs\\tesis\\lib\\site-packages (from jupyter-core->nbformat) (3.5.0)\n",
      "Requirement already satisfied: pywin32>=300 in c:\\users\\mariana\\.conda\\envs\\tesis\\lib\\site-packages (from jupyter-core->nbformat) (305.1)\n",
      "Installing collected packages: nbformat\n",
      "  Attempting uninstall: nbformat\n",
      "    Found existing installation: nbformat 5.7.0\n",
      "    Uninstalling nbformat-5.7.0:\n",
      "      Successfully uninstalled nbformat-5.7.0\n",
      "Successfully installed nbformat-5.8.0\n",
      "Collecting geoplot\n",
      "  Using cached geoplot-0.5.1-py3-none-any.whl (28 kB)\n",
      "Requirement already satisfied: matplotlib>=3.1.2 in c:\\users\\mariana\\.conda\\envs\\tesis\\lib\\site-packages (from geoplot) (3.7.1)\n",
      "Collecting seaborn\n",
      "  Using cached seaborn-0.12.2-py3-none-any.whl (293 kB)\n",
      "Requirement already satisfied: pandas in c:\\users\\mariana\\.conda\\envs\\tesis\\lib\\site-packages (from geoplot) (2.0.1)\n",
      "Requirement already satisfied: geopandas>=0.9.0 in c:\\users\\mariana\\.conda\\envs\\tesis\\lib\\site-packages (from geoplot) (0.13.0)\n",
      "Collecting cartopy\n",
      "  Using cached Cartopy-0.21.1.tar.gz (10.9 MB)\n",
      "  Installing build dependencies: started\n",
      "  Installing build dependencies: finished with status 'done'\n",
      "  Getting requirements to build wheel: started\n",
      "  Getting requirements to build wheel: finished with status 'done'\n",
      "  Preparing metadata (pyproject.toml): started\n",
      "  Preparing metadata (pyproject.toml): finished with status 'done'\n",
      "Collecting mapclassify>=2.1\n",
      "  Using cached mapclassify-2.5.0-py3-none-any.whl (39 kB)\n",
      "Collecting contextily>=1.0.0\n",
      "  Using cached contextily-1.3.0-py3-none-any.whl (16 kB)\n",
      "Collecting geopy\n",
      "  Using cached geopy-2.3.0-py3-none-any.whl (119 kB)\n",
      "Collecting mercantile\n",
      "  Using cached mercantile-1.2.1-py3-none-any.whl (14 kB)\n",
      "Requirement already satisfied: pillow in c:\\users\\mariana\\.conda\\envs\\tesis\\lib\\site-packages (from contextily>=1.0.0->geoplot) (9.5.0)\n",
      "Collecting rasterio\n",
      "  Downloading rasterio-1.3.7-cp311-cp311-win_amd64.whl (23.0 MB)\n",
      "     ---------------------------------------- 23.0/23.0 MB 3.6 MB/s eta 0:00:00\n",
      "Requirement already satisfied: requests in c:\\users\\mariana\\.conda\\envs\\tesis\\lib\\site-packages (from contextily>=1.0.0->geoplot) (2.30.0)\n",
      "Collecting joblib\n",
      "  Using cached joblib-1.2.0-py3-none-any.whl (297 kB)\n",
      "Collecting xyzservices\n",
      "  Downloading xyzservices-2023.5.0-py3-none-any.whl (56 kB)\n",
      "     ---------------------------------------- 56.5/56.5 kB 3.1 MB/s eta 0:00:00\n",
      "Requirement already satisfied: fiona>=1.8.19 in c:\\users\\mariana\\.conda\\envs\\tesis\\lib\\site-packages (from geopandas>=0.9.0->geoplot) (1.9.3)\n",
      "Requirement already satisfied: packaging in c:\\users\\mariana\\.conda\\envs\\tesis\\lib\\site-packages (from geopandas>=0.9.0->geoplot) (23.1)\n",
      "Requirement already satisfied: pyproj>=3.0.1 in c:\\users\\mariana\\.conda\\envs\\tesis\\lib\\site-packages (from geopandas>=0.9.0->geoplot) (3.5.0)\n",
      "Requirement already satisfied: shapely>=1.7.1 in c:\\users\\mariana\\.conda\\envs\\tesis\\lib\\site-packages (from geopandas>=0.9.0->geoplot) (2.0.1)\n",
      "Requirement already satisfied: scipy>=1.0 in c:\\users\\mariana\\.conda\\envs\\tesis\\lib\\site-packages (from mapclassify>=2.1->geoplot) (1.10.1)\n",
      "Requirement already satisfied: numpy>=1.3 in c:\\users\\mariana\\.conda\\envs\\tesis\\lib\\site-packages (from mapclassify>=2.1->geoplot) (1.24.3)\n",
      "Collecting scikit-learn\n",
      "  Using cached scikit_learn-1.2.2-cp311-cp311-win_amd64.whl (8.3 MB)\n",
      "Collecting networkx\n",
      "  Using cached networkx-3.1-py3-none-any.whl (2.1 MB)\n",
      "Requirement already satisfied: contourpy>=1.0.1 in c:\\users\\mariana\\.conda\\envs\\tesis\\lib\\site-packages (from matplotlib>=3.1.2->geoplot) (1.0.7)\n",
      "Requirement already satisfied: cycler>=0.10 in c:\\users\\mariana\\.conda\\envs\\tesis\\lib\\site-packages (from matplotlib>=3.1.2->geoplot) (0.11.0)\n",
      "Requirement already satisfied: fonttools>=4.22.0 in c:\\users\\mariana\\.conda\\envs\\tesis\\lib\\site-packages (from matplotlib>=3.1.2->geoplot) (4.39.4)\n",
      "Requirement already satisfied: kiwisolver>=1.0.1 in c:\\users\\mariana\\.conda\\envs\\tesis\\lib\\site-packages (from matplotlib>=3.1.2->geoplot) (1.4.4)\n",
      "Requirement already satisfied: pyparsing>=2.3.1 in c:\\users\\mariana\\.conda\\envs\\tesis\\lib\\site-packages (from matplotlib>=3.1.2->geoplot) (3.0.9)\n",
      "Requirement already satisfied: python-dateutil>=2.7 in c:\\users\\mariana\\.conda\\envs\\tesis\\lib\\site-packages (from matplotlib>=3.1.2->geoplot) (2.8.2)\n",
      "Requirement already satisfied: pytz>=2020.1 in c:\\users\\mariana\\.conda\\envs\\tesis\\lib\\site-packages (from pandas->geoplot) (2023.3)\n",
      "Requirement already satisfied: tzdata>=2022.1 in c:\\users\\mariana\\.conda\\envs\\tesis\\lib\\site-packages (from pandas->geoplot) (2023.3)\n",
      "Collecting pyshp>=2.1\n",
      "  Using cached pyshp-2.3.1-py2.py3-none-any.whl (46 kB)\n",
      "Requirement already satisfied: attrs>=19.2.0 in c:\\users\\mariana\\.conda\\envs\\tesis\\lib\\site-packages (from fiona>=1.8.19->geopandas>=0.9.0->geoplot) (22.1.0)\n",
      "Requirement already satisfied: certifi in c:\\users\\mariana\\.conda\\envs\\tesis\\lib\\site-packages (from fiona>=1.8.19->geopandas>=0.9.0->geoplot) (2023.5.7)\n",
      "Requirement already satisfied: click~=8.0 in c:\\users\\mariana\\.conda\\envs\\tesis\\lib\\site-packages (from fiona>=1.8.19->geopandas>=0.9.0->geoplot) (8.1.3)\n",
      "Requirement already satisfied: click-plugins>=1.0 in c:\\users\\mariana\\.conda\\envs\\tesis\\lib\\site-packages (from fiona>=1.8.19->geopandas>=0.9.0->geoplot) (1.1.1)\n",
      "Requirement already satisfied: cligj>=0.5 in c:\\users\\mariana\\.conda\\envs\\tesis\\lib\\site-packages (from fiona>=1.8.19->geopandas>=0.9.0->geoplot) (0.7.2)\n",
      "Requirement already satisfied: munch>=2.3.2 in c:\\users\\mariana\\.conda\\envs\\tesis\\lib\\site-packages (from fiona>=1.8.19->geopandas>=0.9.0->geoplot) (2.5.0)\n",
      "Requirement already satisfied: six>=1.5 in c:\\users\\mariana\\.conda\\envs\\tesis\\lib\\site-packages (from python-dateutil>=2.7->matplotlib>=3.1.2->geoplot) (1.16.0)\n",
      "Collecting geographiclib<3,>=1.52\n",
      "  Using cached geographiclib-2.0-py3-none-any.whl (40 kB)\n",
      "Collecting affine\n",
      "  Using cached affine-2.4.0-py3-none-any.whl (15 kB)\n",
      "Collecting snuggs>=1.4.1\n",
      "  Using cached snuggs-1.4.7-py3-none-any.whl (5.4 kB)\n",
      "Requirement already satisfied: setuptools in c:\\users\\mariana\\.conda\\envs\\tesis\\lib\\site-packages (from rasterio->contextily>=1.0.0->geoplot) (66.0.0)\n",
      "Requirement already satisfied: charset-normalizer<4,>=2 in c:\\users\\mariana\\.conda\\envs\\tesis\\lib\\site-packages (from requests->contextily>=1.0.0->geoplot) (3.1.0)\n",
      "Requirement already satisfied: idna<4,>=2.5 in c:\\users\\mariana\\.conda\\envs\\tesis\\lib\\site-packages (from requests->contextily>=1.0.0->geoplot) (3.4)\n",
      "Requirement already satisfied: urllib3<3,>=1.21.1 in c:\\users\\mariana\\.conda\\envs\\tesis\\lib\\site-packages (from requests->contextily>=1.0.0->geoplot) (2.0.2)\n",
      "Collecting threadpoolctl>=2.0.0\n",
      "  Using cached threadpoolctl-3.1.0-py3-none-any.whl (14 kB)\n",
      "Requirement already satisfied: colorama in c:\\users\\mariana\\.conda\\envs\\tesis\\lib\\site-packages (from click~=8.0->fiona>=1.8.19->geopandas>=0.9.0->geoplot) (0.4.6)\n",
      "Building wheels for collected packages: cartopy\n",
      "  Building wheel for cartopy (pyproject.toml): started\n",
      "  Building wheel for cartopy (pyproject.toml): finished with status 'error'\n",
      "Failed to build cartopy\n"
     ]
    },
    {
     "name": "stderr",
     "output_type": "stream",
     "text": [
      "  error: subprocess-exited-with-error\n",
      "  \n",
      "  × Building wheel for cartopy (pyproject.toml) did not run successfully.\n",
      "  │ exit code: 1\n",
      "  ╰─> [279 lines of output]\n",
      "      <string>:90: UserWarning: Unable to determine GEOS version. Ensure you have 3.7.2 or later installed, or installation may fail.\n",
      "      running bdist_wheel\n",
      "      running build\n",
      "      running build_py\n",
      "      creating build\n",
      "      creating build\\lib.win-amd64-cpython-311\n",
      "      creating build\\lib.win-amd64-cpython-311\\cartopy\n",
      "      copying lib\\cartopy\\crs.py -> build\\lib.win-amd64-cpython-311\\cartopy\n",
      "      copying lib\\cartopy\\geodesic.py -> build\\lib.win-amd64-cpython-311\\cartopy\n",
      "      copying lib\\cartopy\\img_transform.py -> build\\lib.win-amd64-cpython-311\\cartopy\n",
      "      copying lib\\cartopy\\util.py -> build\\lib.win-amd64-cpython-311\\cartopy\n",
      "      copying lib\\cartopy\\vector_transform.py -> build\\lib.win-amd64-cpython-311\\cartopy\n",
      "      copying lib\\cartopy\\_epsg.py -> build\\lib.win-amd64-cpython-311\\cartopy\n",
      "      copying lib\\cartopy\\_version.py -> build\\lib.win-amd64-cpython-311\\cartopy\n",
      "      copying lib\\cartopy\\__init__.py -> build\\lib.win-amd64-cpython-311\\cartopy\n",
      "      creating build\\lib.win-amd64-cpython-311\\cartopy\\feature\n",
      "      copying lib\\cartopy\\feature\\nightshade.py -> build\\lib.win-amd64-cpython-311\\cartopy\\feature\n",
      "      copying lib\\cartopy\\feature\\__init__.py -> build\\lib.win-amd64-cpython-311\\cartopy\\feature\n",
      "      creating build\\lib.win-amd64-cpython-311\\cartopy\\io\n",
      "      copying lib\\cartopy\\io\\img_nest.py -> build\\lib.win-amd64-cpython-311\\cartopy\\io\n",
      "      copying lib\\cartopy\\io\\img_tiles.py -> build\\lib.win-amd64-cpython-311\\cartopy\\io\n",
      "      copying lib\\cartopy\\io\\ogc_clients.py -> build\\lib.win-amd64-cpython-311\\cartopy\\io\n",
      "      copying lib\\cartopy\\io\\shapereader.py -> build\\lib.win-amd64-cpython-311\\cartopy\\io\n",
      "      copying lib\\cartopy\\io\\srtm.py -> build\\lib.win-amd64-cpython-311\\cartopy\\io\n",
      "      copying lib\\cartopy\\io\\__init__.py -> build\\lib.win-amd64-cpython-311\\cartopy\\io\n",
      "      creating build\\lib.win-amd64-cpython-311\\cartopy\\mpl\n",
      "      copying lib\\cartopy\\mpl\\clip_path.py -> build\\lib.win-amd64-cpython-311\\cartopy\\mpl\n",
      "      copying lib\\cartopy\\mpl\\contour.py -> build\\lib.win-amd64-cpython-311\\cartopy\\mpl\n",
      "      copying lib\\cartopy\\mpl\\feature_artist.py -> build\\lib.win-amd64-cpython-311\\cartopy\\mpl\n",
      "      copying lib\\cartopy\\mpl\\geoaxes.py -> build\\lib.win-amd64-cpython-311\\cartopy\\mpl\n",
      "      copying lib\\cartopy\\mpl\\geocollection.py -> build\\lib.win-amd64-cpython-311\\cartopy\\mpl\n",
      "      copying lib\\cartopy\\mpl\\gridliner.py -> build\\lib.win-amd64-cpython-311\\cartopy\\mpl\n",
      "      copying lib\\cartopy\\mpl\\patch.py -> build\\lib.win-amd64-cpython-311\\cartopy\\mpl\n",
      "      copying lib\\cartopy\\mpl\\slippy_image_artist.py -> build\\lib.win-amd64-cpython-311\\cartopy\\mpl\n",
      "      copying lib\\cartopy\\mpl\\style.py -> build\\lib.win-amd64-cpython-311\\cartopy\\mpl\n",
      "      copying lib\\cartopy\\mpl\\ticker.py -> build\\lib.win-amd64-cpython-311\\cartopy\\mpl\n",
      "      copying lib\\cartopy\\mpl\\__init__.py -> build\\lib.win-amd64-cpython-311\\cartopy\\mpl\n",
      "      creating build\\lib.win-amd64-cpython-311\\cartopy\\tests\n",
      "      copying lib\\cartopy\\tests\\conftest.py -> build\\lib.win-amd64-cpython-311\\cartopy\\tests\n",
      "      copying lib\\cartopy\\tests\\test_coastline.py -> build\\lib.win-amd64-cpython-311\\cartopy\\tests\n",
      "      copying lib\\cartopy\\tests\\test_coding_standards.py -> build\\lib.win-amd64-cpython-311\\cartopy\\tests\n",
      "      copying lib\\cartopy\\tests\\test_crs.py -> build\\lib.win-amd64-cpython-311\\cartopy\\tests\n",
      "      copying lib\\cartopy\\tests\\test_crs_transform_vectors.py -> build\\lib.win-amd64-cpython-311\\cartopy\\tests\n",
      "      copying lib\\cartopy\\tests\\test_features.py -> build\\lib.win-amd64-cpython-311\\cartopy\\tests\n",
      "      copying lib\\cartopy\\tests\\test_geodesic.py -> build\\lib.win-amd64-cpython-311\\cartopy\\tests\n",
      "      copying lib\\cartopy\\tests\\test_img_nest.py -> build\\lib.win-amd64-cpython-311\\cartopy\\tests\n",
      "      copying lib\\cartopy\\tests\\test_img_tiles.py -> build\\lib.win-amd64-cpython-311\\cartopy\\tests\n",
      "      copying lib\\cartopy\\tests\\test_img_transform.py -> build\\lib.win-amd64-cpython-311\\cartopy\\tests\n",
      "      copying lib\\cartopy\\tests\\test_linear_ring.py -> build\\lib.win-amd64-cpython-311\\cartopy\\tests\n",
      "      copying lib\\cartopy\\tests\\test_line_string.py -> build\\lib.win-amd64-cpython-311\\cartopy\\tests\n",
      "      copying lib\\cartopy\\tests\\test_polygon.py -> build\\lib.win-amd64-cpython-311\\cartopy\\tests\n",
      "      copying lib\\cartopy\\tests\\test_shapereader.py -> build\\lib.win-amd64-cpython-311\\cartopy\\tests\n",
      "      copying lib\\cartopy\\tests\\test_util.py -> build\\lib.win-amd64-cpython-311\\cartopy\\tests\n",
      "      copying lib\\cartopy\\tests\\test_vector_transform.py -> build\\lib.win-amd64-cpython-311\\cartopy\\tests\n",
      "      copying lib\\cartopy\\tests\\__init__.py -> build\\lib.win-amd64-cpython-311\\cartopy\\tests\n",
      "      creating build\\lib.win-amd64-cpython-311\\cartopy\\tests\\crs\n",
      "      copying lib\\cartopy\\tests\\crs\\helpers.py -> build\\lib.win-amd64-cpython-311\\cartopy\\tests\\crs\n",
      "      copying lib\\cartopy\\tests\\crs\\test_albers_equal_area.py -> build\\lib.win-amd64-cpython-311\\cartopy\\tests\\crs\n",
      "      copying lib\\cartopy\\tests\\crs\\test_azimuthal_equidistant.py -> build\\lib.win-amd64-cpython-311\\cartopy\\tests\\crs\n",
      "      copying lib\\cartopy\\tests\\crs\\test_eckert.py -> build\\lib.win-amd64-cpython-311\\cartopy\\tests\\crs\n",
      "      copying lib\\cartopy\\tests\\crs\\test_equal_earth.py -> build\\lib.win-amd64-cpython-311\\cartopy\\tests\\crs\n",
      "      copying lib\\cartopy\\tests\\crs\\test_equidistant_conic.py -> build\\lib.win-amd64-cpython-311\\cartopy\\tests\\crs\n",
      "      copying lib\\cartopy\\tests\\crs\\test_geostationary.py -> build\\lib.win-amd64-cpython-311\\cartopy\\tests\\crs\n",
      "      copying lib\\cartopy\\tests\\crs\\test_gnomonic.py -> build\\lib.win-amd64-cpython-311\\cartopy\\tests\\crs\n",
      "      copying lib\\cartopy\\tests\\crs\\test_interrupted_goode_homolosine.py -> build\\lib.win-amd64-cpython-311\\cartopy\\tests\\crs\n",
      "      copying lib\\cartopy\\tests\\crs\\test_lambert_azimuthal_equal_area.py -> build\\lib.win-amd64-cpython-311\\cartopy\\tests\\crs\n",
      "      copying lib\\cartopy\\tests\\crs\\test_lambert_conformal.py -> build\\lib.win-amd64-cpython-311\\cartopy\\tests\\crs\n",
      "      copying lib\\cartopy\\tests\\crs\\test_mercator.py -> build\\lib.win-amd64-cpython-311\\cartopy\\tests\\crs\n",
      "      copying lib\\cartopy\\tests\\crs\\test_miller.py -> build\\lib.win-amd64-cpython-311\\cartopy\\tests\\crs\n",
      "      copying lib\\cartopy\\tests\\crs\\test_mollweide.py -> build\\lib.win-amd64-cpython-311\\cartopy\\tests\\crs\n",
      "      copying lib\\cartopy\\tests\\crs\\test_nearside_perspective.py -> build\\lib.win-amd64-cpython-311\\cartopy\\tests\\crs\n",
      "      copying lib\\cartopy\\tests\\crs\\test_orthographic.py -> build\\lib.win-amd64-cpython-311\\cartopy\\tests\\crs\n",
      "      copying lib\\cartopy\\tests\\crs\\test_robinson.py -> build\\lib.win-amd64-cpython-311\\cartopy\\tests\\crs\n",
      "      copying lib\\cartopy\\tests\\crs\\test_rotated_geodetic.py -> build\\lib.win-amd64-cpython-311\\cartopy\\tests\\crs\n",
      "      copying lib\\cartopy\\tests\\crs\\test_rotated_pole.py -> build\\lib.win-amd64-cpython-311\\cartopy\\tests\\crs\n",
      "      copying lib\\cartopy\\tests\\crs\\test_sinusoidal.py -> build\\lib.win-amd64-cpython-311\\cartopy\\tests\\crs\n",
      "      copying lib\\cartopy\\tests\\crs\\test_stereographic.py -> build\\lib.win-amd64-cpython-311\\cartopy\\tests\\crs\n",
      "      copying lib\\cartopy\\tests\\crs\\test_transverse_mercator.py -> build\\lib.win-amd64-cpython-311\\cartopy\\tests\\crs\n",
      "      copying lib\\cartopy\\tests\\crs\\test_utm.py -> build\\lib.win-amd64-cpython-311\\cartopy\\tests\\crs\n",
      "      copying lib\\cartopy\\tests\\crs\\__init__.py -> build\\lib.win-amd64-cpython-311\\cartopy\\tests\\crs\n",
      "      creating build\\lib.win-amd64-cpython-311\\cartopy\\tests\\feature\n",
      "      copying lib\\cartopy\\tests\\feature\\test_nightshade.py -> build\\lib.win-amd64-cpython-311\\cartopy\\tests\\feature\n",
      "      copying lib\\cartopy\\tests\\feature\\__init__.py -> build\\lib.win-amd64-cpython-311\\cartopy\\tests\\feature\n",
      "      creating build\\lib.win-amd64-cpython-311\\cartopy\\tests\\io\n",
      "      copying lib\\cartopy\\tests\\io\\test_downloaders.py -> build\\lib.win-amd64-cpython-311\\cartopy\\tests\\io\n",
      "      copying lib\\cartopy\\tests\\io\\test_ogc_clients.py -> build\\lib.win-amd64-cpython-311\\cartopy\\tests\\io\n",
      "      copying lib\\cartopy\\tests\\io\\test_srtm.py -> build\\lib.win-amd64-cpython-311\\cartopy\\tests\\io\n",
      "      copying lib\\cartopy\\tests\\io\\__init__.py -> build\\lib.win-amd64-cpython-311\\cartopy\\tests\\io\n",
      "      creating build\\lib.win-amd64-cpython-311\\cartopy\\tests\\mpl\n",
      "      copying lib\\cartopy\\tests\\mpl\\conftest.py -> build\\lib.win-amd64-cpython-311\\cartopy\\tests\\mpl\n",
      "      copying lib\\cartopy\\tests\\mpl\\test_axes.py -> build\\lib.win-amd64-cpython-311\\cartopy\\tests\\mpl\n",
      "      copying lib\\cartopy\\tests\\mpl\\test_caching.py -> build\\lib.win-amd64-cpython-311\\cartopy\\tests\\mpl\n",
      "      copying lib\\cartopy\\tests\\mpl\\test_contour.py -> build\\lib.win-amd64-cpython-311\\cartopy\\tests\\mpl\n",
      "      copying lib\\cartopy\\tests\\mpl\\test_crs.py -> build\\lib.win-amd64-cpython-311\\cartopy\\tests\\mpl\n",
      "      copying lib\\cartopy\\tests\\mpl\\test_examples.py -> build\\lib.win-amd64-cpython-311\\cartopy\\tests\\mpl\n",
      "      copying lib\\cartopy\\tests\\mpl\\test_features.py -> build\\lib.win-amd64-cpython-311\\cartopy\\tests\\mpl\n",
      "      copying lib\\cartopy\\tests\\mpl\\test_feature_artist.py -> build\\lib.win-amd64-cpython-311\\cartopy\\tests\\mpl\n",
      "      copying lib\\cartopy\\tests\\mpl\\test_gridliner.py -> build\\lib.win-amd64-cpython-311\\cartopy\\tests\\mpl\n",
      "      copying lib\\cartopy\\tests\\mpl\\test_images.py -> build\\lib.win-amd64-cpython-311\\cartopy\\tests\\mpl\n",
      "      copying lib\\cartopy\\tests\\mpl\\test_img_transform.py -> build\\lib.win-amd64-cpython-311\\cartopy\\tests\\mpl\n",
      "      copying lib\\cartopy\\tests\\mpl\\test_mpl_integration.py -> build\\lib.win-amd64-cpython-311\\cartopy\\tests\\mpl\n",
      "      copying lib\\cartopy\\tests\\mpl\\test_nightshade.py -> build\\lib.win-amd64-cpython-311\\cartopy\\tests\\mpl\n",
      "      copying lib\\cartopy\\tests\\mpl\\test_patch.py -> build\\lib.win-amd64-cpython-311\\cartopy\\tests\\mpl\n",
      "      copying lib\\cartopy\\tests\\mpl\\test_plots.py -> build\\lib.win-amd64-cpython-311\\cartopy\\tests\\mpl\n",
      "      copying lib\\cartopy\\tests\\mpl\\test_pseudo_color.py -> build\\lib.win-amd64-cpython-311\\cartopy\\tests\\mpl\n",
      "      copying lib\\cartopy\\tests\\mpl\\test_quiver.py -> build\\lib.win-amd64-cpython-311\\cartopy\\tests\\mpl\n",
      "      copying lib\\cartopy\\tests\\mpl\\test_set_extent.py -> build\\lib.win-amd64-cpython-311\\cartopy\\tests\\mpl\n",
      "      copying lib\\cartopy\\tests\\mpl\\test_shapely_to_mpl.py -> build\\lib.win-amd64-cpython-311\\cartopy\\tests\\mpl\n",
      "      copying lib\\cartopy\\tests\\mpl\\test_style.py -> build\\lib.win-amd64-cpython-311\\cartopy\\tests\\mpl\n",
      "      copying lib\\cartopy\\tests\\mpl\\test_ticker.py -> build\\lib.win-amd64-cpython-311\\cartopy\\tests\\mpl\n",
      "      copying lib\\cartopy\\tests\\mpl\\test_ticks.py -> build\\lib.win-amd64-cpython-311\\cartopy\\tests\\mpl\n",
      "      copying lib\\cartopy\\tests\\mpl\\test_web_services.py -> build\\lib.win-amd64-cpython-311\\cartopy\\tests\\mpl\n",
      "      copying lib\\cartopy\\tests\\mpl\\__init__.py -> build\\lib.win-amd64-cpython-311\\cartopy\\tests\\mpl\n",
      "      creating build\\lib.win-amd64-cpython-311\\cartopy\\tests\\mpl\\baseline_images\n",
      "      creating build\\lib.win-amd64-cpython-311\\cartopy\\tests\\mpl\\baseline_images\\mpl\n",
      "      creating build\\lib.win-amd64-cpython-311\\cartopy\\tests\\mpl\\baseline_images\\mpl\\test_axes\n",
      "      copying lib\\cartopy\\tests\\mpl\\baseline_images\\mpl\\test_axes\\geoaxes_set_boundary_clipping.png -> build\\lib.win-amd64-cpython-311\\cartopy\\tests\\mpl\\baseline_images\\mpl\\test_axes\n",
      "      copying lib\\cartopy\\tests\\mpl\\baseline_images\\mpl\\test_axes\\geoaxes_subslice.png -> build\\lib.win-amd64-cpython-311\\cartopy\\tests\\mpl\\baseline_images\\mpl\\test_axes\n",
      "      creating build\\lib.win-amd64-cpython-311\\cartopy\\tests\\mpl\\baseline_images\\mpl\\test_crs\n",
      "      copying lib\\cartopy\\tests\\mpl\\baseline_images\\mpl\\test_crs\\igh_land.png -> build\\lib.win-amd64-cpython-311\\cartopy\\tests\\mpl\\baseline_images\\mpl\\test_crs\n",
      "      copying lib\\cartopy\\tests\\mpl\\baseline_images\\mpl\\test_crs\\igh_ocean.png -> build\\lib.win-amd64-cpython-311\\cartopy\\tests\\mpl\\baseline_images\\mpl\\test_crs\n",
      "      copying lib\\cartopy\\tests\\mpl\\baseline_images\\mpl\\test_crs\\lambert_conformal_south.png -> build\\lib.win-amd64-cpython-311\\cartopy\\tests\\mpl\\baseline_images\\mpl\\test_crs\n",
      "      creating build\\lib.win-amd64-cpython-311\\cartopy\\tests\\mpl\\baseline_images\\mpl\\test_examples\n",
      "      copying lib\\cartopy\\tests\\mpl\\baseline_images\\mpl\\test_examples\\contour_label.png -> build\\lib.win-amd64-cpython-311\\cartopy\\tests\\mpl\\baseline_images\\mpl\\test_examples\n",
      "      copying lib\\cartopy\\tests\\mpl\\baseline_images\\mpl\\test_examples\\global_map.png -> build\\lib.win-amd64-cpython-311\\cartopy\\tests\\mpl\\baseline_images\\mpl\\test_examples\n",
      "      creating build\\lib.win-amd64-cpython-311\\cartopy\\tests\\mpl\\baseline_images\\mpl\\test_features\n",
      "      copying lib\\cartopy\\tests\\mpl\\baseline_images\\mpl\\test_features\\gshhs_coastlines.png -> build\\lib.win-amd64-cpython-311\\cartopy\\tests\\mpl\\baseline_images\\mpl\\test_features\n",
      "      copying lib\\cartopy\\tests\\mpl\\baseline_images\\mpl\\test_features\\natural_earth.png -> build\\lib.win-amd64-cpython-311\\cartopy\\tests\\mpl\\baseline_images\\mpl\\test_features\n",
      "      copying lib\\cartopy\\tests\\mpl\\baseline_images\\mpl\\test_features\\natural_earth_custom.png -> build\\lib.win-amd64-cpython-311\\cartopy\\tests\\mpl\\baseline_images\\mpl\\test_features\n",
      "      copying lib\\cartopy\\tests\\mpl\\baseline_images\\mpl\\test_features\\wfs.png -> build\\lib.win-amd64-cpython-311\\cartopy\\tests\\mpl\\baseline_images\\mpl\\test_features\n",
      "      creating build\\lib.win-amd64-cpython-311\\cartopy\\tests\\mpl\\baseline_images\\mpl\\test_gridliner\n",
      "      copying lib\\cartopy\\tests\\mpl\\baseline_images\\mpl\\test_gridliner\\gridliner1.png -> build\\lib.win-amd64-cpython-311\\cartopy\\tests\\mpl\\baseline_images\\mpl\\test_gridliner\n",
      "      copying lib\\cartopy\\tests\\mpl\\baseline_images\\mpl\\test_gridliner\\gridliner_labels.png -> build\\lib.win-amd64-cpython-311\\cartopy\\tests\\mpl\\baseline_images\\mpl\\test_gridliner\n",
      "      copying lib\\cartopy\\tests\\mpl\\baseline_images\\mpl\\test_gridliner\\gridliner_labels_bbox_style.png -> build\\lib.win-amd64-cpython-311\\cartopy\\tests\\mpl\\baseline_images\\mpl\\test_gridliner\n",
      "      copying lib\\cartopy\\tests\\mpl\\baseline_images\\mpl\\test_gridliner\\gridliner_labels_tight.png -> build\\lib.win-amd64-cpython-311\\cartopy\\tests\\mpl\\baseline_images\\mpl\\test_gridliner\n",
      "      copying lib\\cartopy\\tests\\mpl\\baseline_images\\mpl\\test_gridliner\\test_grid_labels_inline_AlbersEqualArea.png -> build\\lib.win-amd64-cpython-311\\cartopy\\tests\\mpl\\baseline_images\\mpl\\test_gridliner\n",
      "      copying lib\\cartopy\\tests\\mpl\\baseline_images\\mpl\\test_gridliner\\test_grid_labels_inline_AzimuthalEquidistant.png -> build\\lib.win-amd64-cpython-311\\cartopy\\tests\\mpl\\baseline_images\\mpl\\test_gridliner\n",
      "      copying lib\\cartopy\\tests\\mpl\\baseline_images\\mpl\\test_gridliner\\test_grid_labels_inline_EuroPP.png -> build\\lib.win-amd64-cpython-311\\cartopy\\tests\\mpl\\baseline_images\\mpl\\test_gridliner\n",
      "      copying lib\\cartopy\\tests\\mpl\\baseline_images\\mpl\\test_gridliner\\test_grid_labels_inline_Geostationary.png -> build\\lib.win-amd64-cpython-311\\cartopy\\tests\\mpl\\baseline_images\\mpl\\test_gridliner\n",
      "      copying lib\\cartopy\\tests\\mpl\\baseline_images\\mpl\\test_gridliner\\test_grid_labels_inline_Gnomonic.png -> build\\lib.win-amd64-cpython-311\\cartopy\\tests\\mpl\\baseline_images\\mpl\\test_gridliner\n",
      "      copying lib\\cartopy\\tests\\mpl\\baseline_images\\mpl\\test_gridliner\\test_grid_labels_inline_InterruptedGoodeHomolosine.png -> build\\lib.win-amd64-cpython-311\\cartopy\\tests\\mpl\\baseline_images\\mpl\\test_gridliner\n",
      "      copying lib\\cartopy\\tests\\mpl\\baseline_images\\mpl\\test_gridliner\\test_grid_labels_inline_LambertAzimuthalEqualArea.png -> build\\lib.win-amd64-cpython-311\\cartopy\\tests\\mpl\\baseline_images\\mpl\\test_gridliner\n",
      "      copying lib\\cartopy\\tests\\mpl\\baseline_images\\mpl\\test_gridliner\\test_grid_labels_inline_LambertConformal.png -> build\\lib.win-amd64-cpython-311\\cartopy\\tests\\mpl\\baseline_images\\mpl\\test_gridliner\n",
      "      copying lib\\cartopy\\tests\\mpl\\baseline_images\\mpl\\test_gridliner\\test_grid_labels_inline_LambertCylindrical.png -> build\\lib.win-amd64-cpython-311\\cartopy\\tests\\mpl\\baseline_images\\mpl\\test_gridliner\n",
      "      copying lib\\cartopy\\tests\\mpl\\baseline_images\\mpl\\test_gridliner\\test_grid_labels_inline_Mercator.png -> build\\lib.win-amd64-cpython-311\\cartopy\\tests\\mpl\\baseline_images\\mpl\\test_gridliner\n",
      "      copying lib\\cartopy\\tests\\mpl\\baseline_images\\mpl\\test_gridliner\\test_grid_labels_inline_Miller.png -> build\\lib.win-amd64-cpython-311\\cartopy\\tests\\mpl\\baseline_images\\mpl\\test_gridliner\n",
      "      copying lib\\cartopy\\tests\\mpl\\baseline_images\\mpl\\test_gridliner\\test_grid_labels_inline_Mollweide.png -> build\\lib.win-amd64-cpython-311\\cartopy\\tests\\mpl\\baseline_images\\mpl\\test_gridliner\n",
      "      copying lib\\cartopy\\tests\\mpl\\baseline_images\\mpl\\test_gridliner\\test_grid_labels_inline_NearsidePerspective.png -> build\\lib.win-amd64-cpython-311\\cartopy\\tests\\mpl\\baseline_images\\mpl\\test_gridliner\n",
      "      copying lib\\cartopy\\tests\\mpl\\baseline_images\\mpl\\test_gridliner\\test_grid_labels_inline_NorthPolarStereo.png -> build\\lib.win-amd64-cpython-311\\cartopy\\tests\\mpl\\baseline_images\\mpl\\test_gridliner\n",
      "      copying lib\\cartopy\\tests\\mpl\\baseline_images\\mpl\\test_gridliner\\test_grid_labels_inline_Orthographic.png -> build\\lib.win-amd64-cpython-311\\cartopy\\tests\\mpl\\baseline_images\\mpl\\test_gridliner\n",
      "      copying lib\\cartopy\\tests\\mpl\\baseline_images\\mpl\\test_gridliner\\test_grid_labels_inline_OSGB.png -> build\\lib.win-amd64-cpython-311\\cartopy\\tests\\mpl\\baseline_images\\mpl\\test_gridliner\n",
      "      copying lib\\cartopy\\tests\\mpl\\baseline_images\\mpl\\test_gridliner\\test_grid_labels_inline_OSNI.png -> build\\lib.win-amd64-cpython-311\\cartopy\\tests\\mpl\\baseline_images\\mpl\\test_gridliner\n",
      "      copying lib\\cartopy\\tests\\mpl\\baseline_images\\mpl\\test_gridliner\\test_grid_labels_inline_PlateCarree.png -> build\\lib.win-amd64-cpython-311\\cartopy\\tests\\mpl\\baseline_images\\mpl\\test_gridliner\n",
      "      copying lib\\cartopy\\tests\\mpl\\baseline_images\\mpl\\test_gridliner\\test_grid_labels_inline_Robinson.png -> build\\lib.win-amd64-cpython-311\\cartopy\\tests\\mpl\\baseline_images\\mpl\\test_gridliner\n",
      "      copying lib\\cartopy\\tests\\mpl\\baseline_images\\mpl\\test_gridliner\\test_grid_labels_inline_RotatedPole.png -> build\\lib.win-amd64-cpython-311\\cartopy\\tests\\mpl\\baseline_images\\mpl\\test_gridliner\n",
      "      copying lib\\cartopy\\tests\\mpl\\baseline_images\\mpl\\test_gridliner\\test_grid_labels_inline_Sinusoidal.png -> build\\lib.win-amd64-cpython-311\\cartopy\\tests\\mpl\\baseline_images\\mpl\\test_gridliner\n",
      "      copying lib\\cartopy\\tests\\mpl\\baseline_images\\mpl\\test_gridliner\\test_grid_labels_inline_SouthPolarStereo.png -> build\\lib.win-amd64-cpython-311\\cartopy\\tests\\mpl\\baseline_images\\mpl\\test_gridliner\n",
      "      copying lib\\cartopy\\tests\\mpl\\baseline_images\\mpl\\test_gridliner\\test_grid_labels_inline_Stereographic.png -> build\\lib.win-amd64-cpython-311\\cartopy\\tests\\mpl\\baseline_images\\mpl\\test_gridliner\n",
      "      copying lib\\cartopy\\tests\\mpl\\baseline_images\\mpl\\test_gridliner\\test_grid_labels_inline_usa_AlbersEqualArea.png -> build\\lib.win-amd64-cpython-311\\cartopy\\tests\\mpl\\baseline_images\\mpl\\test_gridliner\n",
      "      copying lib\\cartopy\\tests\\mpl\\baseline_images\\mpl\\test_gridliner\\test_grid_labels_inline_usa_AzimuthalEquidistant.png -> build\\lib.win-amd64-cpython-311\\cartopy\\tests\\mpl\\baseline_images\\mpl\\test_gridliner\n",
      "      copying lib\\cartopy\\tests\\mpl\\baseline_images\\mpl\\test_gridliner\\test_grid_labels_inline_usa_Geostationary.png -> build\\lib.win-amd64-cpython-311\\cartopy\\tests\\mpl\\baseline_images\\mpl\\test_gridliner\n",
      "      copying lib\\cartopy\\tests\\mpl\\baseline_images\\mpl\\test_gridliner\\test_grid_labels_inline_usa_Gnomonic.png -> build\\lib.win-amd64-cpython-311\\cartopy\\tests\\mpl\\baseline_images\\mpl\\test_gridliner\n",
      "      copying lib\\cartopy\\tests\\mpl\\baseline_images\\mpl\\test_gridliner\\test_grid_labels_inline_usa_InterruptedGoodeHomolosine.png -> build\\lib.win-amd64-cpython-311\\cartopy\\tests\\mpl\\baseline_images\\mpl\\test_gridliner\n",
      "      copying lib\\cartopy\\tests\\mpl\\baseline_images\\mpl\\test_gridliner\\test_grid_labels_inline_usa_LambertAzimuthalEqualArea.png -> build\\lib.win-amd64-cpython-311\\cartopy\\tests\\mpl\\baseline_images\\mpl\\test_gridliner\n",
      "      copying lib\\cartopy\\tests\\mpl\\baseline_images\\mpl\\test_gridliner\\test_grid_labels_inline_usa_LambertConformal.png -> build\\lib.win-amd64-cpython-311\\cartopy\\tests\\mpl\\baseline_images\\mpl\\test_gridliner\n",
      "      copying lib\\cartopy\\tests\\mpl\\baseline_images\\mpl\\test_gridliner\\test_grid_labels_inline_usa_LambertCylindrical.png -> build\\lib.win-amd64-cpython-311\\cartopy\\tests\\mpl\\baseline_images\\mpl\\test_gridliner\n",
      "      copying lib\\cartopy\\tests\\mpl\\baseline_images\\mpl\\test_gridliner\\test_grid_labels_inline_usa_Mercator.png -> build\\lib.win-amd64-cpython-311\\cartopy\\tests\\mpl\\baseline_images\\mpl\\test_gridliner\n",
      "      copying lib\\cartopy\\tests\\mpl\\baseline_images\\mpl\\test_gridliner\\test_grid_labels_inline_usa_Miller.png -> build\\lib.win-amd64-cpython-311\\cartopy\\tests\\mpl\\baseline_images\\mpl\\test_gridliner\n",
      "      copying lib\\cartopy\\tests\\mpl\\baseline_images\\mpl\\test_gridliner\\test_grid_labels_inline_usa_Mollweide.png -> build\\lib.win-amd64-cpython-311\\cartopy\\tests\\mpl\\baseline_images\\mpl\\test_gridliner\n",
      "      copying lib\\cartopy\\tests\\mpl\\baseline_images\\mpl\\test_gridliner\\test_grid_labels_inline_usa_NearsidePerspective.png -> build\\lib.win-amd64-cpython-311\\cartopy\\tests\\mpl\\baseline_images\\mpl\\test_gridliner\n",
      "      copying lib\\cartopy\\tests\\mpl\\baseline_images\\mpl\\test_gridliner\\test_grid_labels_inline_usa_NorthPolarStereo.png -> build\\lib.win-amd64-cpython-311\\cartopy\\tests\\mpl\\baseline_images\\mpl\\test_gridliner\n",
      "      copying lib\\cartopy\\tests\\mpl\\baseline_images\\mpl\\test_gridliner\\test_grid_labels_inline_usa_Orthographic.png -> build\\lib.win-amd64-cpython-311\\cartopy\\tests\\mpl\\baseline_images\\mpl\\test_gridliner\n",
      "      copying lib\\cartopy\\tests\\mpl\\baseline_images\\mpl\\test_gridliner\\test_grid_labels_inline_usa_PlateCarree.png -> build\\lib.win-amd64-cpython-311\\cartopy\\tests\\mpl\\baseline_images\\mpl\\test_gridliner\n",
      "      copying lib\\cartopy\\tests\\mpl\\baseline_images\\mpl\\test_gridliner\\test_grid_labels_inline_usa_Robinson.png -> build\\lib.win-amd64-cpython-311\\cartopy\\tests\\mpl\\baseline_images\\mpl\\test_gridliner\n",
      "      copying lib\\cartopy\\tests\\mpl\\baseline_images\\mpl\\test_gridliner\\test_grid_labels_inline_usa_RotatedPole.png -> build\\lib.win-amd64-cpython-311\\cartopy\\tests\\mpl\\baseline_images\\mpl\\test_gridliner\n",
      "      copying lib\\cartopy\\tests\\mpl\\baseline_images\\mpl\\test_gridliner\\test_grid_labels_inline_usa_Sinusoidal.png -> build\\lib.win-amd64-cpython-311\\cartopy\\tests\\mpl\\baseline_images\\mpl\\test_gridliner\n",
      "      copying lib\\cartopy\\tests\\mpl\\baseline_images\\mpl\\test_gridliner\\test_grid_labels_inline_usa_SouthPolarStereo.png -> build\\lib.win-amd64-cpython-311\\cartopy\\tests\\mpl\\baseline_images\\mpl\\test_gridliner\n",
      "      copying lib\\cartopy\\tests\\mpl\\baseline_images\\mpl\\test_gridliner\\test_grid_labels_inline_usa_Stereographic.png -> build\\lib.win-amd64-cpython-311\\cartopy\\tests\\mpl\\baseline_images\\mpl\\test_gridliner\n",
      "      creating build\\lib.win-amd64-cpython-311\\cartopy\\tests\\mpl\\baseline_images\\mpl\\test_images\n",
      "      copying lib\\cartopy\\tests\\mpl\\baseline_images\\mpl\\test_images\\image_merge.png -> build\\lib.win-amd64-cpython-311\\cartopy\\tests\\mpl\\baseline_images\\mpl\\test_images\n",
      "      copying lib\\cartopy\\tests\\mpl\\baseline_images\\mpl\\test_images\\image_nest.png -> build\\lib.win-amd64-cpython-311\\cartopy\\tests\\mpl\\baseline_images\\mpl\\test_images\n",
      "      copying lib\\cartopy\\tests\\mpl\\baseline_images\\mpl\\test_images\\imshow_natural_earth_ortho.png -> build\\lib.win-amd64-cpython-311\\cartopy\\tests\\mpl\\baseline_images\\mpl\\test_images\n",
      "      copying lib\\cartopy\\tests\\mpl\\baseline_images\\mpl\\test_images\\imshow_regional_projected.png -> build\\lib.win-amd64-cpython-311\\cartopy\\tests\\mpl\\baseline_images\\mpl\\test_images\n",
      "      copying lib\\cartopy\\tests\\mpl\\baseline_images\\mpl\\test_images\\web_tiles.png -> build\\lib.win-amd64-cpython-311\\cartopy\\tests\\mpl\\baseline_images\\mpl\\test_images\n",
      "      creating build\\lib.win-amd64-cpython-311\\cartopy\\tests\\mpl\\baseline_images\\mpl\\test_img_tiles2\n",
      "      copying lib\\cartopy\\tests\\mpl\\baseline_images\\mpl\\test_img_tiles2\\web_tiles.png -> build\\lib.win-amd64-cpython-311\\cartopy\\tests\\mpl\\baseline_images\\mpl\\test_img_tiles2\n",
      "      creating build\\lib.win-amd64-cpython-311\\cartopy\\tests\\mpl\\baseline_images\\mpl\\test_img_transform\n",
      "      copying lib\\cartopy\\tests\\mpl\\baseline_images\\mpl\\test_img_transform\\regrid_image.png -> build\\lib.win-amd64-cpython-311\\cartopy\\tests\\mpl\\baseline_images\\mpl\\test_img_transform\n",
      "      creating build\\lib.win-amd64-cpython-311\\cartopy\\tests\\mpl\\baseline_images\\mpl\\test_mpl_integration\n",
      "      copying lib\\cartopy\\tests\\mpl\\baseline_images\\mpl\\test_mpl_integration\\barbs_1d.png -> build\\lib.win-amd64-cpython-311\\cartopy\\tests\\mpl\\baseline_images\\mpl\\test_mpl_integration\n",
      "      copying lib\\cartopy\\tests\\mpl\\baseline_images\\mpl\\test_mpl_integration\\barbs_1d_transformed.png -> build\\lib.win-amd64-cpython-311\\cartopy\\tests\\mpl\\baseline_images\\mpl\\test_mpl_integration\n",
      "      copying lib\\cartopy\\tests\\mpl\\baseline_images\\mpl\\test_mpl_integration\\barbs_plate_carree.png -> build\\lib.win-amd64-cpython-311\\cartopy\\tests\\mpl\\baseline_images\\mpl\\test_mpl_integration\n",
      "      copying lib\\cartopy\\tests\\mpl\\baseline_images\\mpl\\test_mpl_integration\\barbs_regrid.png -> build\\lib.win-amd64-cpython-311\\cartopy\\tests\\mpl\\baseline_images\\mpl\\test_mpl_integration\n",
      "      copying lib\\cartopy\\tests\\mpl\\baseline_images\\mpl\\test_mpl_integration\\barbs_regrid_with_extent.png -> build\\lib.win-amd64-cpython-311\\cartopy\\tests\\mpl\\baseline_images\\mpl\\test_mpl_integration\n",
      "      copying lib\\cartopy\\tests\\mpl\\baseline_images\\mpl\\test_mpl_integration\\global_contourf_wrap.png -> build\\lib.win-amd64-cpython-311\\cartopy\\tests\\mpl\\baseline_images\\mpl\\test_mpl_integration\n",
      "      copying lib\\cartopy\\tests\\mpl\\baseline_images\\mpl\\test_mpl_integration\\global_contour_wrap.png -> build\\lib.win-amd64-cpython-311\\cartopy\\tests\\mpl\\baseline_images\\mpl\\test_mpl_integration\n",
      "      copying lib\\cartopy\\tests\\mpl\\baseline_images\\mpl\\test_mpl_integration\\global_hexbin_wrap.png -> build\\lib.win-amd64-cpython-311\\cartopy\\tests\\mpl\\baseline_images\\mpl\\test_mpl_integration\n",
      "      copying lib\\cartopy\\tests\\mpl\\baseline_images\\mpl\\test_mpl_integration\\global_pcolor_wrap.png -> build\\lib.win-amd64-cpython-311\\cartopy\\tests\\mpl\\baseline_images\\mpl\\test_mpl_integration\n",
      "      copying lib\\cartopy\\tests\\mpl\\baseline_images\\mpl\\test_mpl_integration\\global_scatter_wrap.png -> build\\lib.win-amd64-cpython-311\\cartopy\\tests\\mpl\\baseline_images\\mpl\\test_mpl_integration\n",
      "      copying lib\\cartopy\\tests\\mpl\\baseline_images\\mpl\\test_mpl_integration\\pcolormesh_global_wrap1.png -> build\\lib.win-amd64-cpython-311\\cartopy\\tests\\mpl\\baseline_images\\mpl\\test_mpl_integration\n",
      "      copying lib\\cartopy\\tests\\mpl\\baseline_images\\mpl\\test_mpl_integration\\pcolormesh_global_wrap2.png -> build\\lib.win-amd64-cpython-311\\cartopy\\tests\\mpl\\baseline_images\\mpl\\test_mpl_integration\n",
      "      copying lib\\cartopy\\tests\\mpl\\baseline_images\\mpl\\test_mpl_integration\\pcolormesh_global_wrap3.png -> build\\lib.win-amd64-cpython-311\\cartopy\\tests\\mpl\\baseline_images\\mpl\\test_mpl_integration\n",
      "      copying lib\\cartopy\\tests\\mpl\\baseline_images\\mpl\\test_mpl_integration\\pcolormesh_goode_wrap.png -> build\\lib.win-amd64-cpython-311\\cartopy\\tests\\mpl\\baseline_images\\mpl\\test_mpl_integration\n",
      "      copying lib\\cartopy\\tests\\mpl\\baseline_images\\mpl\\test_mpl_integration\\pcolormesh_limited_area_wrap.png -> build\\lib.win-amd64-cpython-311\\cartopy\\tests\\mpl\\baseline_images\\mpl\\test_mpl_integration\n",
      "      copying lib\\cartopy\\tests\\mpl\\baseline_images\\mpl\\test_mpl_integration\\pcolormesh_mercator_wrap.png -> build\\lib.win-amd64-cpython-311\\cartopy\\tests\\mpl\\baseline_images\\mpl\\test_mpl_integration\n",
      "      copying lib\\cartopy\\tests\\mpl\\baseline_images\\mpl\\test_mpl_integration\\pcolormesh_single_column_wrap.png -> build\\lib.win-amd64-cpython-311\\cartopy\\tests\\mpl\\baseline_images\\mpl\\test_mpl_integration\n",
      "      copying lib\\cartopy\\tests\\mpl\\baseline_images\\mpl\\test_mpl_integration\\quiver_plate_carree.png -> build\\lib.win-amd64-cpython-311\\cartopy\\tests\\mpl\\baseline_images\\mpl\\test_mpl_integration\n",
      "      copying lib\\cartopy\\tests\\mpl\\baseline_images\\mpl\\test_mpl_integration\\quiver_regrid.png -> build\\lib.win-amd64-cpython-311\\cartopy\\tests\\mpl\\baseline_images\\mpl\\test_mpl_integration\n",
      "      copying lib\\cartopy\\tests\\mpl\\baseline_images\\mpl\\test_mpl_integration\\quiver_regrid_with_extent.png -> build\\lib.win-amd64-cpython-311\\cartopy\\tests\\mpl\\baseline_images\\mpl\\test_mpl_integration\n",
      "      copying lib\\cartopy\\tests\\mpl\\baseline_images\\mpl\\test_mpl_integration\\quiver_rotated_pole.png -> build\\lib.win-amd64-cpython-311\\cartopy\\tests\\mpl\\baseline_images\\mpl\\test_mpl_integration\n",
      "      copying lib\\cartopy\\tests\\mpl\\baseline_images\\mpl\\test_mpl_integration\\simple_global.png -> build\\lib.win-amd64-cpython-311\\cartopy\\tests\\mpl\\baseline_images\\mpl\\test_mpl_integration\n",
      "      copying lib\\cartopy\\tests\\mpl\\baseline_images\\mpl\\test_mpl_integration\\streamplot.png -> build\\lib.win-amd64-cpython-311\\cartopy\\tests\\mpl\\baseline_images\\mpl\\test_mpl_integration\n",
      "      copying lib\\cartopy\\tests\\mpl\\baseline_images\\mpl\\test_mpl_integration\\test_annotate.png -> build\\lib.win-amd64-cpython-311\\cartopy\\tests\\mpl\\baseline_images\\mpl\\test_mpl_integration\n",
      "      copying lib\\cartopy\\tests\\mpl\\baseline_images\\mpl\\test_mpl_integration\\test_global_map_EckertI.png -> build\\lib.win-amd64-cpython-311\\cartopy\\tests\\mpl\\baseline_images\\mpl\\test_mpl_integration\n",
      "      copying lib\\cartopy\\tests\\mpl\\baseline_images\\mpl\\test_mpl_integration\\test_global_map_EckertII.png -> build\\lib.win-amd64-cpython-311\\cartopy\\tests\\mpl\\baseline_images\\mpl\\test_mpl_integration\n",
      "      copying lib\\cartopy\\tests\\mpl\\baseline_images\\mpl\\test_mpl_integration\\test_global_map_EckertIII.png -> build\\lib.win-amd64-cpython-311\\cartopy\\tests\\mpl\\baseline_images\\mpl\\test_mpl_integration\n",
      "      copying lib\\cartopy\\tests\\mpl\\baseline_images\\mpl\\test_mpl_integration\\test_global_map_EckertIV.png -> build\\lib.win-amd64-cpython-311\\cartopy\\tests\\mpl\\baseline_images\\mpl\\test_mpl_integration\n",
      "      copying lib\\cartopy\\tests\\mpl\\baseline_images\\mpl\\test_mpl_integration\\test_global_map_EckertV.png -> build\\lib.win-amd64-cpython-311\\cartopy\\tests\\mpl\\baseline_images\\mpl\\test_mpl_integration\n",
      "      copying lib\\cartopy\\tests\\mpl\\baseline_images\\mpl\\test_mpl_integration\\test_global_map_EckertVI.png -> build\\lib.win-amd64-cpython-311\\cartopy\\tests\\mpl\\baseline_images\\mpl\\test_mpl_integration\n",
      "      copying lib\\cartopy\\tests\\mpl\\baseline_images\\mpl\\test_mpl_integration\\test_global_map_EqualEarth.png -> build\\lib.win-amd64-cpython-311\\cartopy\\tests\\mpl\\baseline_images\\mpl\\test_mpl_integration\n",
      "      copying lib\\cartopy\\tests\\mpl\\baseline_images\\mpl\\test_mpl_integration\\test_global_map_Gnomonic.png -> build\\lib.win-amd64-cpython-311\\cartopy\\tests\\mpl\\baseline_images\\mpl\\test_mpl_integration\n",
      "      copying lib\\cartopy\\tests\\mpl\\baseline_images\\mpl\\test_mpl_integration\\test_global_map_InterruptedGoodeHomolosine.png -> build\\lib.win-amd64-cpython-311\\cartopy\\tests\\mpl\\baseline_images\\mpl\\test_mpl_integration\n",
      "      copying lib\\cartopy\\tests\\mpl\\baseline_images\\mpl\\test_mpl_integration\\test_global_map_LambertCylindrical.png -> build\\lib.win-amd64-cpython-311\\cartopy\\tests\\mpl\\baseline_images\\mpl\\test_mpl_integration\n",
      "      copying lib\\cartopy\\tests\\mpl\\baseline_images\\mpl\\test_mpl_integration\\test_global_map_Mercator.png -> build\\lib.win-amd64-cpython-311\\cartopy\\tests\\mpl\\baseline_images\\mpl\\test_mpl_integration\n",
      "      copying lib\\cartopy\\tests\\mpl\\baseline_images\\mpl\\test_mpl_integration\\test_global_map_Miller.png -> build\\lib.win-amd64-cpython-311\\cartopy\\tests\\mpl\\baseline_images\\mpl\\test_mpl_integration\n",
      "      copying lib\\cartopy\\tests\\mpl\\baseline_images\\mpl\\test_mpl_integration\\test_global_map_Mollweide.png -> build\\lib.win-amd64-cpython-311\\cartopy\\tests\\mpl\\baseline_images\\mpl\\test_mpl_integration\n",
      "      copying lib\\cartopy\\tests\\mpl\\baseline_images\\mpl\\test_mpl_integration\\test_global_map_NorthPolarStereo.png -> build\\lib.win-amd64-cpython-311\\cartopy\\tests\\mpl\\baseline_images\\mpl\\test_mpl_integration\n",
      "      copying lib\\cartopy\\tests\\mpl\\baseline_images\\mpl\\test_mpl_integration\\test_global_map_Orthographic.png -> build\\lib.win-amd64-cpython-311\\cartopy\\tests\\mpl\\baseline_images\\mpl\\test_mpl_integration\n",
      "      copying lib\\cartopy\\tests\\mpl\\baseline_images\\mpl\\test_mpl_integration\\test_global_map_OSGB.png -> build\\lib.win-amd64-cpython-311\\cartopy\\tests\\mpl\\baseline_images\\mpl\\test_mpl_integration\n",
      "      copying lib\\cartopy\\tests\\mpl\\baseline_images\\mpl\\test_mpl_integration\\test_global_map_PlateCarree.png -> build\\lib.win-amd64-cpython-311\\cartopy\\tests\\mpl\\baseline_images\\mpl\\test_mpl_integration\n",
      "      copying lib\\cartopy\\tests\\mpl\\baseline_images\\mpl\\test_mpl_integration\\test_global_map_Robinson.png -> build\\lib.win-amd64-cpython-311\\cartopy\\tests\\mpl\\baseline_images\\mpl\\test_mpl_integration\n",
      "      copying lib\\cartopy\\tests\\mpl\\baseline_images\\mpl\\test_mpl_integration\\test_global_map_RotatedPole.png -> build\\lib.win-amd64-cpython-311\\cartopy\\tests\\mpl\\baseline_images\\mpl\\test_mpl_integration\n",
      "      copying lib\\cartopy\\tests\\mpl\\baseline_images\\mpl\\test_mpl_integration\\test_global_map_SouthPolarStereo.png -> build\\lib.win-amd64-cpython-311\\cartopy\\tests\\mpl\\baseline_images\\mpl\\test_mpl_integration\n",
      "      copying lib\\cartopy\\tests\\mpl\\baseline_images\\mpl\\test_mpl_integration\\test_global_map_Stereographic.png -> build\\lib.win-amd64-cpython-311\\cartopy\\tests\\mpl\\baseline_images\\mpl\\test_mpl_integration\n",
      "      copying lib\\cartopy\\tests\\mpl\\baseline_images\\mpl\\test_mpl_integration\\test_global_map_TransverseMercator.png -> build\\lib.win-amd64-cpython-311\\cartopy\\tests\\mpl\\baseline_images\\mpl\\test_mpl_integration\n",
      "      creating build\\lib.win-amd64-cpython-311\\cartopy\\tests\\mpl\\baseline_images\\mpl\\test_nightshade\n",
      "      copying lib\\cartopy\\tests\\mpl\\baseline_images\\mpl\\test_nightshade\\nightshade_platecarree.png -> build\\lib.win-amd64-cpython-311\\cartopy\\tests\\mpl\\baseline_images\\mpl\\test_nightshade\n",
      "      creating build\\lib.win-amd64-cpython-311\\cartopy\\tests\\mpl\\baseline_images\\mpl\\test_shapely_to_mpl\n",
      "      copying lib\\cartopy\\tests\\mpl\\baseline_images\\mpl\\test_shapely_to_mpl\\contour_with_interiors.png -> build\\lib.win-amd64-cpython-311\\cartopy\\tests\\mpl\\baseline_images\\mpl\\test_shapely_to_mpl\n",
      "      copying lib\\cartopy\\tests\\mpl\\baseline_images\\mpl\\test_shapely_to_mpl\\poly_interiors.png -> build\\lib.win-amd64-cpython-311\\cartopy\\tests\\mpl\\baseline_images\\mpl\\test_shapely_to_mpl\n",
      "      creating build\\lib.win-amd64-cpython-311\\cartopy\\tests\\mpl\\baseline_images\\mpl\\test_ticks\n",
      "      copying lib\\cartopy\\tests\\mpl\\baseline_images\\mpl\\test_ticks\\xticks_cylindrical.png -> build\\lib.win-amd64-cpython-311\\cartopy\\tests\\mpl\\baseline_images\\mpl\\test_ticks\n",
      "      copying lib\\cartopy\\tests\\mpl\\baseline_images\\mpl\\test_ticks\\xticks_no_transform.png -> build\\lib.win-amd64-cpython-311\\cartopy\\tests\\mpl\\baseline_images\\mpl\\test_ticks\n",
      "      copying lib\\cartopy\\tests\\mpl\\baseline_images\\mpl\\test_ticks\\xyticks.png -> build\\lib.win-amd64-cpython-311\\cartopy\\tests\\mpl\\baseline_images\\mpl\\test_ticks\n",
      "      copying lib\\cartopy\\tests\\mpl\\baseline_images\\mpl\\test_ticks\\yticks_cylindrical.png -> build\\lib.win-amd64-cpython-311\\cartopy\\tests\\mpl\\baseline_images\\mpl\\test_ticks\n",
      "      copying lib\\cartopy\\tests\\mpl\\baseline_images\\mpl\\test_ticks\\yticks_no_transform.png -> build\\lib.win-amd64-cpython-311\\cartopy\\tests\\mpl\\baseline_images\\mpl\\test_ticks\n",
      "      creating build\\lib.win-amd64-cpython-311\\cartopy\\tests\\mpl\\baseline_images\\mpl\\test_web_services\n",
      "      copying lib\\cartopy\\tests\\mpl\\baseline_images\\mpl\\test_web_services\\wms.png -> build\\lib.win-amd64-cpython-311\\cartopy\\tests\\mpl\\baseline_images\\mpl\\test_web_services\n",
      "      copying lib\\cartopy\\tests\\mpl\\baseline_images\\mpl\\test_web_services\\wmts.png -> build\\lib.win-amd64-cpython-311\\cartopy\\tests\\mpl\\baseline_images\\mpl\\test_web_services\n",
      "      creating build\\lib.win-amd64-cpython-311\\cartopy\\data\n",
      "      creating build\\lib.win-amd64-cpython-311\\cartopy\\data\\raster\n",
      "      creating build\\lib.win-amd64-cpython-311\\cartopy\\data\\raster\\natural_earth\n",
      "      copying lib\\cartopy\\data\\raster\\natural_earth\\50-natural-earth-1-downsampled.png -> build\\lib.win-amd64-cpython-311\\cartopy\\data\\raster\\natural_earth\n",
      "      copying lib\\cartopy\\data\\raster\\natural_earth\\images.json -> build\\lib.win-amd64-cpython-311\\cartopy\\data\\raster\\natural_earth\n",
      "      creating build\\lib.win-amd64-cpython-311\\cartopy\\data\\raster\\sample\n",
      "      copying lib\\cartopy\\data\\raster\\sample\\Miriam.A2012270.2050.2km.jpg -> build\\lib.win-amd64-cpython-311\\cartopy\\data\\raster\\sample\n",
      "      copying lib\\cartopy\\data\\raster\\sample\\Miriam.A2012270.2050.2km.README.txt -> build\\lib.win-amd64-cpython-311\\cartopy\\data\\raster\\sample\n",
      "      creating build\\lib.win-amd64-cpython-311\\cartopy\\data\\netcdf\n",
      "      copying lib\\cartopy\\data\\netcdf\\HadISST1_SST_update.nc -> build\\lib.win-amd64-cpython-311\\cartopy\\data\\netcdf\n",
      "      copying lib\\cartopy\\data\\netcdf\\HadISST1_SST_update.README.txt -> build\\lib.win-amd64-cpython-311\\cartopy\\data\\netcdf\n",
      "      creating build\\lib.win-amd64-cpython-311\\cartopy\\data\\shapefiles\n",
      "      creating build\\lib.win-amd64-cpython-311\\cartopy\\data\\shapefiles\\gshhs\n",
      "      copying lib\\cartopy\\data\\shapefiles\\gshhs\\README.TXT -> build\\lib.win-amd64-cpython-311\\cartopy\\data\\shapefiles\\gshhs\n",
      "      creating build\\lib.win-amd64-cpython-311\\cartopy\\data\\shapefiles\\gshhs\\c\n",
      "      copying lib\\cartopy\\data\\shapefiles\\gshhs\\c\\GSHHS_c_L1.dbf -> build\\lib.win-amd64-cpython-311\\cartopy\\data\\shapefiles\\gshhs\\c\n",
      "      copying lib\\cartopy\\data\\shapefiles\\gshhs\\c\\GSHHS_c_L1.shp -> build\\lib.win-amd64-cpython-311\\cartopy\\data\\shapefiles\\gshhs\\c\n",
      "      copying lib\\cartopy\\data\\shapefiles\\gshhs\\c\\GSHHS_c_L1.shx -> build\\lib.win-amd64-cpython-311\\cartopy\\data\\shapefiles\\gshhs\\c\n",
      "      creating build\\lib.win-amd64-cpython-311\\cartopy\\data\\shapefiles\\gshhs\\l\n",
      "      copying lib\\cartopy\\data\\shapefiles\\gshhs\\l\\GSHHS_l_L2.dbf -> build\\lib.win-amd64-cpython-311\\cartopy\\data\\shapefiles\\gshhs\\l\n",
      "      copying lib\\cartopy\\data\\shapefiles\\gshhs\\l\\GSHHS_l_L2.shp -> build\\lib.win-amd64-cpython-311\\cartopy\\data\\shapefiles\\gshhs\\l\n",
      "      copying lib\\cartopy\\data\\shapefiles\\gshhs\\l\\GSHHS_l_L2.shx -> build\\lib.win-amd64-cpython-311\\cartopy\\data\\shapefiles\\gshhs\\l\n",
      "      creating build\\lib.win-amd64-cpython-311\\cartopy\\tests\\lakes_shapefile\n",
      "      copying lib\\cartopy\\tests\\lakes_shapefile\\ne_110m_lakes.dbf -> build\\lib.win-amd64-cpython-311\\cartopy\\tests\\lakes_shapefile\n",
      "      copying lib\\cartopy\\tests\\lakes_shapefile\\ne_110m_lakes.shp -> build\\lib.win-amd64-cpython-311\\cartopy\\tests\\lakes_shapefile\n",
      "      copying lib\\cartopy\\tests\\lakes_shapefile\\ne_110m_lakes.shx -> build\\lib.win-amd64-cpython-311\\cartopy\\tests\\lakes_shapefile\n",
      "      copying lib\\cartopy\\io\\srtm.npz -> build\\lib.win-amd64-cpython-311\\cartopy\\io\n",
      "      running build_ext\n",
      "      building 'cartopy.trace' extension\n",
      "      error: Microsoft Visual C++ 14.0 or greater is required. Get it with \"Microsoft C++ Build Tools\": https://visualstudio.microsoft.com/visual-cpp-build-tools/\n",
      "      [end of output]\n",
      "  \n",
      "  note: This error originates from a subprocess, and is likely not a problem with pip.\n",
      "  ERROR: Failed building wheel for cartopy\n",
      "ERROR: Could not build wheels for cartopy, which is required to install pyproject.toml-based projects\n"
     ]
    },
    {
     "name": "stdout",
     "output_type": "stream",
     "text": [
      "Requirement already satisfied: statsmodels in c:\\users\\mariana\\.conda\\envs\\tesis\\lib\\site-packages (0.14.0)\n",
      "Requirement already satisfied: numpy>=1.18 in c:\\users\\mariana\\.conda\\envs\\tesis\\lib\\site-packages (from statsmodels) (1.24.3)\n",
      "Requirement already satisfied: scipy!=1.9.2,>=1.4 in c:\\users\\mariana\\.conda\\envs\\tesis\\lib\\site-packages (from statsmodels) (1.10.1)\n",
      "Requirement already satisfied: pandas>=1.0 in c:\\users\\mariana\\.conda\\envs\\tesis\\lib\\site-packages (from statsmodels) (2.0.1)\n",
      "Requirement already satisfied: patsy>=0.5.2 in c:\\users\\mariana\\.conda\\envs\\tesis\\lib\\site-packages (from statsmodels) (0.5.3)\n",
      "Requirement already satisfied: packaging>=21.3 in c:\\users\\mariana\\.conda\\envs\\tesis\\lib\\site-packages (from statsmodels) (23.1)\n",
      "Requirement already satisfied: python-dateutil>=2.8.2 in c:\\users\\mariana\\.conda\\envs\\tesis\\lib\\site-packages (from pandas>=1.0->statsmodels) (2.8.2)\n",
      "Requirement already satisfied: pytz>=2020.1 in c:\\users\\mariana\\.conda\\envs\\tesis\\lib\\site-packages (from pandas>=1.0->statsmodels) (2023.3)\n",
      "Requirement already satisfied: tzdata>=2022.1 in c:\\users\\mariana\\.conda\\envs\\tesis\\lib\\site-packages (from pandas>=1.0->statsmodels) (2023.3)\n",
      "Requirement already satisfied: six in c:\\users\\mariana\\.conda\\envs\\tesis\\lib\\site-packages (from patsy>=0.5.2->statsmodels) (1.16.0)\n"
     ]
    }
   ],
   "source": [
    "! pip install pandas\n",
    "! pip install geopandas\n",
    "! pip install plotly.express\n",
    "! pip install matplotlib\n",
    "! pip install geojson\n",
    "! pip install ipykernel\n",
    "#! pip install \"jupyterlab>=3\" \"ipywidgets>=7.6\"\n",
    "! pip install plotly #quizás no es necesario con plotly express?\n",
    "! pip install ast\n",
    "! pip install nbformat \n",
    "! pip install --upgrade nbformat\n",
    "! pip install geoplot\n",
    "! pip install statsmodels\n"
   ]
  },
  {
   "cell_type": "code",
   "execution_count": 4,
   "id": "27b03a31",
   "metadata": {},
   "outputs": [],
   "source": [
    "import pandas as pd\n",
    "import plotly.graph_objects as go\n",
    "import geopandas as gpd \n",
    "import matplotlib.pyplot as plt\n",
    "import plotly.express as px #annotations\n",
    "import plotly.graph_objs as pg\n",
    "import datetime\n",
    "import numpy as np\n",
    "import scipy.interpolate\n",
    "import statsmodels\n",
    "import requests\n",
    "from bs4 import BeautifulSoup\n"
   ]
  },
  {
   "cell_type": "code",
   "execution_count": 2,
   "id": "92a809f5",
   "metadata": {},
   "outputs": [
    {
     "name": "stdout",
     "output_type": "stream",
     "text": [
      "Defaulting to user installation because normal site-packages is not writeable\n",
      "Requirement already satisfied: geojson in /mnt/home2/mari/.local/lib/python3.10/site-packages (3.0.1)\n"
     ]
    }
   ],
   "source": [
    "! pip3 install geojson \n",
    "import geojson\n",
    "from geojson import GeometryCollection, Point, LineString, Feature, FeatureCollection\n",
    "import ast"
   ]
  },
  {
   "cell_type": "code",
   "execution_count": null,
   "id": "210d1d34",
   "metadata": {},
   "outputs": [],
   "source": [
    "! pip install statsmodels\n",
    "import statsmodels.api as sm"
   ]
  },
  {
   "attachments": {},
   "cell_type": "markdown",
   "id": "8da6fd7e",
   "metadata": {},
   "source": [
    "# Geodata"
   ]
  },
  {
   "cell_type": "code",
   "execution_count": 1,
   "id": "15c05846",
   "metadata": {},
   "outputs": [
    {
     "name": "stdout",
     "output_type": "stream",
     "text": [
      " El volumen de la unidad C es OS\n",
      " El n�mero de serie del volumen es: 9E3A-F665\n",
      "\n",
      " Directorio de c:\\Users\\Mariana\\Google Drive\\Doctorado\\BD_resili\\tesis\n",
      "\n",
      "26-06-2023  17:03    <DIR>          .\n",
      "26-06-2023  16:38    <DIR>          ..\n",
      "26-05-2023  13:22               920 app.py\n",
      "26-06-2023  17:03           644.663 BBDD_CR2.ipynb\n",
      "26-05-2023  12:27            65.784 bbdd_NLU.ipynb\n",
      "26-06-2023  17:03           226.986 CR2WU_NLU_DrinkingWater_historical_1950-2020_communes.csv\n",
      "26-06-2023  17:03             1.634 CR2WU_NLU_DrinkingWater_historical_1950-2020_nation.csv\n",
      "26-06-2023  17:03            12.137 CR2WU_NLU_DrinkingWater_historical_1950-2020_regions.csv\n",
      "26-06-2023  17:03           162.004 CR2WU_NLU_DrinkingWater_Rural_Domestic_historical_1950-2020_communes.csv\n",
      "26-06-2023  17:03             1.352 CR2WU_NLU_DrinkingWater_Rural_Domestic_historical_1950-2020_nation.csv\n",
      "26-06-2023  17:03             8.722 CR2WU_NLU_DrinkingWater_Rural_Domestic_historical_1950-2020_regions.csv\n",
      "26-06-2023  17:03           161.700 CR2WU_NLU_DrinkingWater_Rural_historical_1950-2020_communes.csv\n",
      "26-06-2023  17:03             1.347 CR2WU_NLU_DrinkingWater_Rural_historical_1950-2020_nation.csv\n",
      "26-06-2023  17:03             8.740 CR2WU_NLU_DrinkingWater_Rural_historical_1950-2020_regions.csv\n",
      "26-06-2023  17:03           156.418 CR2WU_NLU_DrinkingWater_Rural_Losses_historical_1950-2020_communes.csv\n",
      "26-06-2023  17:03             1.349 CR2WU_NLU_DrinkingWater_Rural_Losses_historical_1950-2020_nation.csv\n",
      "26-06-2023  17:03             8.729 CR2WU_NLU_DrinkingWater_Rural_Losses_historical_1950-2020_regions.csv\n",
      "26-06-2023  17:03           184.335 CR2WU_NLU_DrinkingWater_Urban_Commercial_historical_1950-2020_communes.csv\n",
      "26-06-2023  17:03             1.487 CR2WU_NLU_DrinkingWater_Urban_Commercial_historical_1950-2020_nation.csv\n",
      "26-06-2023  17:03            10.872 CR2WU_NLU_DrinkingWater_Urban_Commercial_historical_1950-2020_regions.csv\n",
      "26-06-2023  17:03           163.524 CR2WU_NLU_DrinkingWater_Urban_Domestic_historical_1950-2020_communes.csv\n",
      "26-06-2023  17:03             1.412 CR2WU_NLU_DrinkingWater_Urban_Domestic_historical_1950-2020_nation.csv\n",
      "26-06-2023  17:03             8.765 CR2WU_NLU_DrinkingWater_Urban_Domestic_historical_1950-2020_regions.csv\n",
      "26-06-2023  17:03           136.685 CR2WU_NLU_DrinkingWater_Urban_GreenAreas_historical_1950-2020_communes.csv\n",
      "26-06-2023  17:03             1.563 CR2WU_NLU_DrinkingWater_Urban_GreenAreas_historical_1950-2020_nation.csv\n",
      "26-06-2023  17:03            10.991 CR2WU_NLU_DrinkingWater_Urban_GreenAreas_historical_1950-2020_regions.csv\n",
      "26-06-2023  17:03           221.198 CR2WU_NLU_DrinkingWater_Urban_historical_1950-2020_communes.csv\n",
      "26-06-2023  17:03             1.631 CR2WU_NLU_DrinkingWater_Urban_historical_1950-2020_nation.csv\n",
      "26-06-2023  17:03            12.139 CR2WU_NLU_DrinkingWater_Urban_historical_1950-2020_regions.csv\n",
      "26-06-2023  17:03           163.751 CR2WU_NLU_DrinkingWater_Urban_Industrial_historical_1950-2020_communes.csv\n",
      "26-06-2023  17:03             1.477 CR2WU_NLU_DrinkingWater_Urban_Industrial_historical_1950-2020_nation.csv\n",
      "26-06-2023  17:03            10.878 CR2WU_NLU_DrinkingWater_Urban_Industrial_historical_1950-2020_regions.csv\n",
      "26-06-2023  17:03           219.299 CR2WU_NLU_DrinkingWater_Urban_Losses_historical_1950-2020_communes.csv\n",
      "26-06-2023  17:03             1.584 CR2WU_NLU_DrinkingWater_Urban_Losses_historical_1950-2020_nation.csv\n",
      "26-06-2023  17:03            12.070 CR2WU_NLU_DrinkingWater_Urban_Losses_historical_1950-2020_regions.csv\n",
      "26-06-2023  17:03            61.408 CR2WU_NLU_Energy_historical_1950-2020_communes.csv\n",
      "26-06-2023  17:03             1.543 CR2WU_NLU_Energy_historical_1950-2020_nation.csv\n",
      "26-06-2023  17:03             6.917 CR2WU_NLU_Energy_historical_1950-2020_regions.csv\n",
      "26-06-2023  17:03            56.770 CR2WU_NLU_Energy_Hydraulic_historical_1950-2020_communes.csv\n",
      "26-06-2023  17:03             1.394 CR2WU_NLU_Energy_Hydraulic_historical_1950-2020_nation.csv\n",
      "26-06-2023  17:03             5.638 CR2WU_NLU_Energy_Hydraulic_historical_1950-2020_regions.csv\n",
      "26-06-2023  17:03            52.344 CR2WU_NLU_Energy_Hydraulic_Reservoir_historical_1950-2020_communes.csv\n",
      "26-06-2023  17:03             1.332 CR2WU_NLU_Energy_Hydraulic_Reservoir_historical_1950-2020_nation.csv\n",
      "26-06-2023  17:03             3.980 CR2WU_NLU_Energy_Hydraulic_Reservoir_historical_1950-2020_regions.csv\n",
      "26-06-2023  17:03            56.268 CR2WU_NLU_Energy_Hydraulic_ROR_historical_1950-2020_communes.csv\n",
      "26-06-2023  17:03             1.377 CR2WU_NLU_Energy_Hydraulic_ROR_historical_1950-2020_nation.csv\n",
      "26-06-2023  17:03             5.520 CR2WU_NLU_Energy_Hydraulic_ROR_historical_1950-2020_regions.csv\n",
      "26-06-2023  17:03            51.418 CR2WU_NLU_Energy_NCRE_historical_1950-2020_communes.csv\n",
      "26-06-2023  17:03             1.002 CR2WU_NLU_Energy_NCRE_historical_1950-2020_nation.csv\n",
      "26-06-2023  17:03             3.169 CR2WU_NLU_Energy_NCRE_historical_1950-2020_regions.csv\n",
      "26-06-2023  17:03            51.418 CR2WU_NLU_Energy_NCRE_Solar_historical_1950-2020_communes.csv\n",
      "26-06-2023  17:03             1.002 CR2WU_NLU_Energy_NCRE_Solar_historical_1950-2020_nation.csv\n",
      "26-06-2023  17:03             3.169 CR2WU_NLU_Energy_NCRE_Solar_historical_1950-2020_regions.csv\n",
      "26-06-2023  17:03            51.418 CR2WU_NLU_Energy_NCRE_Wind_historical_1950-2020_communes.csv\n",
      "26-06-2023  17:03             1.002 CR2WU_NLU_Energy_NCRE_Wind_historical_1950-2020_nation.csv\n",
      "26-06-2023  17:03             3.169 CR2WU_NLU_Energy_NCRE_Wind_historical_1950-2020_regions.csv\n",
      "26-06-2023  17:03            52.575 CR2WU_NLU_Energy_Thermal_Biomass_historical_1950-2020_communes.csv\n",
      "26-06-2023  17:03             1.123 CR2WU_NLU_Energy_Thermal_Biomass_historical_1950-2020_nation.csv\n",
      "26-06-2023  17:03             3.739 CR2WU_NLU_Energy_Thermal_Biomass_historical_1950-2020_regions.csv\n",
      "26-06-2023  17:03            52.896 CR2WU_NLU_Energy_Thermal_Coal_historical_1950-2020_communes.csv\n",
      "26-06-2023  17:03             1.368 CR2WU_NLU_Energy_Thermal_Coal_historical_1950-2020_nation.csv\n",
      "26-06-2023  17:03             4.193 CR2WU_NLU_Energy_Thermal_Coal_historical_1950-2020_regions.csv\n",
      "26-06-2023  17:03            52.427 CR2WU_NLU_Energy_Thermal_Gas_historical_1950-2020_communes.csv\n",
      "26-06-2023  17:03             1.121 CR2WU_NLU_Energy_Thermal_Gas_historical_1950-2020_nation.csv\n",
      "26-06-2023  17:03             3.762 CR2WU_NLU_Energy_Thermal_Gas_historical_1950-2020_regions.csv\n",
      "26-06-2023  17:03            51.437 CR2WU_NLU_Energy_Thermal_Geothermal_historical_1950-2020_communes.csv\n",
      "26-06-2023  17:03             1.021 CR2WU_NLU_Energy_Thermal_Geothermal_historical_1950-2020_nation.csv\n",
      "26-06-2023  17:03             3.188 CR2WU_NLU_Energy_Thermal_Geothermal_historical_1950-2020_regions.csv\n",
      "26-06-2023  17:03            56.220 CR2WU_NLU_Energy_Thermal_historical_1950-2020_communes.csv\n",
      "26-06-2023  17:03             1.376 CR2WU_NLU_Energy_Thermal_historical_1950-2020_nation.csv\n",
      "26-06-2023  17:03             5.359 CR2WU_NLU_Energy_Thermal_historical_1950-2020_regions.csv\n",
      "26-06-2023  17:03            54.306 CR2WU_NLU_Energy_Thermal_Petroleum_historical_1950-2020_communes.csv\n",
      "26-06-2023  17:03             1.289 CR2WU_NLU_Energy_Thermal_Petroleum_historical_1950-2020_nation.csv\n",
      "26-06-2023  17:03             4.605 CR2WU_NLU_Energy_Thermal_Petroleum_historical_1950-2020_regions.csv\n",
      "26-06-2023  17:03            56.926 CR2WU_NLU_Industry_Cellulose_historical_1950-2020_communes.csv\n",
      "26-06-2023  17:03             1.299 CR2WU_NLU_Industry_Cellulose_historical_1950-2020_nation.csv\n",
      "26-06-2023  17:03             5.089 CR2WU_NLU_Industry_Cellulose_historical_1950-2020_regions.csv\n",
      "26-06-2023  17:03            53.288 CR2WU_NLU_Industry_ChemicalRubberPlastic_historical_1950-2020_communes.csv\n",
      "26-06-2023  17:03             1.302 CR2WU_NLU_Industry_ChemicalRubberPlastic_historical_1950-2020_nation.csv\n",
      "26-06-2023  17:03             4.495 CR2WU_NLU_Industry_ChemicalRubberPlastic_historical_1950-2020_regions.csv\n",
      "26-06-2023  17:03            56.756 CR2WU_NLU_Industry_DrinksTobacco_historical_1950-2020_communes.csv\n",
      "26-06-2023  17:03             1.299 CR2WU_NLU_Industry_DrinksTobacco_historical_1950-2020_nation.csv\n",
      "26-06-2023  17:03             4.795 CR2WU_NLU_Industry_DrinksTobacco_historical_1950-2020_regions.csv\n",
      "26-06-2023  17:03            72.622 CR2WU_NLU_Industry_Food_historical_1950-2020_communes.csv\n",
      "26-06-2023  17:03             1.299 CR2WU_NLU_Industry_Food_historical_1950-2020_nation.csv\n",
      "26-06-2023  17:03             7.337 CR2WU_NLU_Industry_Food_historical_1950-2020_regions.csv\n",
      "26-06-2023  17:03            81.638 CR2WU_NLU_Industry_historical_1950-2020_communes.csv\n",
      "26-06-2023  17:03             1.327 CR2WU_NLU_Industry_historical_1950-2020_nation.csv\n",
      "26-06-2023  17:03             7.341 CR2WU_NLU_Industry_historical_1950-2020_regions.csv\n",
      "26-06-2023  17:03            53.819 CR2WU_NLU_Industry_MineralsMetallicProducts_historical_1950-2020_communes.csv\n",
      "26-06-2023  17:03             1.301 CR2WU_NLU_Industry_MineralsMetallicProducts_historical_1950-2020_nation.csv\n",
      "26-06-2023  17:03             4.788 CR2WU_NLU_Industry_MineralsMetallicProducts_historical_1950-2020_regions.csv\n",
      "26-06-2023  17:03            52.015 CR2WU_NLU_Industry_PetroleumRefining_historical_1950-2020_communes.csv\n",
      "26-06-2023  17:03             1.303 CR2WU_NLU_Industry_PetroleumRefining_historical_1950-2020_nation.csv\n",
      "26-06-2023  17:03             3.766 CR2WU_NLU_Industry_PetroleumRefining_historical_1950-2020_regions.csv\n",
      "26-06-2023  17:03            52.001 CR2WU_NLU_Industry_Textile_historical_1950-2020_communes.csv\n",
      "26-06-2023  17:03             1.301 CR2WU_NLU_Industry_Textile_historical_1950-2020_nation.csv\n",
      "26-06-2023  17:03             3.752 CR2WU_NLU_Industry_Textile_historical_1950-2020_regions.csv\n",
      "26-06-2023  17:03            53.180 CR2WU_NLU_Industry_WoodFurniture_historical_1950-2020_communes.csv\n",
      "26-06-2023  17:03             1.301 CR2WU_NLU_Industry_WoodFurniture_historical_1950-2020_nation.csv\n",
      "26-06-2023  17:03             4.440 CR2WU_NLU_Industry_WoodFurniture_historical_1950-2020_regions.csv\n",
      "26-06-2023  17:03           166.513 CR2WU_NLU_Livestock_Birds_Chickens_historical_1950-2020_communes.csv\n",
      "26-06-2023  17:03             1.491 CR2WU_NLU_Livestock_Birds_Chickens_historical_1950-2020_nation.csv\n",
      "26-06-2023  17:03            10.530 CR2WU_NLU_Livestock_Birds_Chickens_historical_1950-2020_regions.csv\n",
      "26-06-2023  17:03           138.112 CR2WU_NLU_Livestock_Birds_Ducks_historical_1950-2020_communes.csv\n",
      "26-06-2023  17:03             1.495 CR2WU_NLU_Livestock_Birds_Ducks_historical_1950-2020_nation.csv\n",
      "26-06-2023  17:03            10.007 CR2WU_NLU_Livestock_Birds_Ducks_historical_1950-2020_regions.csv\n",
      "26-06-2023  17:03           121.902 CR2WU_NLU_Livestock_Birds_Gooses_historical_1950-2020_communes.csv\n",
      "26-06-2023  17:03             1.493 CR2WU_NLU_Livestock_Birds_Gooses_historical_1950-2020_nation.csv\n",
      "26-06-2023  17:03             9.090 CR2WU_NLU_Livestock_Birds_Gooses_historical_1950-2020_regions.csv\n",
      "26-06-2023  17:03           176.366 CR2WU_NLU_Livestock_Birds_historical_1950-2020_communes.csv\n",
      "26-06-2023  17:03             1.493 CR2WU_NLU_Livestock_Birds_historical_1950-2020_nation.csv\n",
      "26-06-2023  17:03            10.832 CR2WU_NLU_Livestock_Birds_historical_1950-2020_regions.csv\n",
      "26-06-2023  17:03            59.066 CR2WU_NLU_Livestock_Birds_OtherBirds_historical_1950-2020_communes.csv\n",
      "26-06-2023  17:03             1.168 CR2WU_NLU_Livestock_Birds_OtherBirds_historical_1950-2020_nation.csv\n",
      "26-06-2023  17:03             4.915 CR2WU_NLU_Livestock_Birds_OtherBirds_historical_1950-2020_regions.csv\n",
      "26-06-2023  17:03           127.530 CR2WU_NLU_Livestock_Birds_Turkeys_historical_1950-2020_communes.csv\n",
      "26-06-2023  17:03             1.492 CR2WU_NLU_Livestock_Birds_Turkeys_historical_1950-2020_nation.csv\n",
      "26-06-2023  17:03             9.816 CR2WU_NLU_Livestock_Birds_Turkeys_historical_1950-2020_regions.csv\n",
      "26-06-2023  17:03           180.365 CR2WU_NLU_Livestock_Bovine_Bulls_historical_1950-2020_communes.csv\n",
      "26-06-2023  17:03             1.491 CR2WU_NLU_Livestock_Bovine_Bulls_historical_1950-2020_nation.csv\n",
      "26-06-2023  17:03            10.716 CR2WU_NLU_Livestock_Bovine_Bulls_historical_1950-2020_regions.csv\n",
      "26-06-2023  17:03           190.677 CR2WU_NLU_Livestock_Bovine_Calves_historical_1950-2020_communes.csv\n",
      "26-06-2023  17:03             1.491 CR2WU_NLU_Livestock_Bovine_Calves_historical_1950-2020_nation.csv\n",
      "26-06-2023  17:03            10.801 CR2WU_NLU_Livestock_Bovine_Calves_historical_1950-2020_regions.csv\n",
      "26-06-2023  17:03           195.953 CR2WU_NLU_Livestock_Bovine_Cows_historical_1950-2020_communes.csv\n",
      "26-06-2023  17:03             1.492 CR2WU_NLU_Livestock_Bovine_Cows_historical_1950-2020_nation.csv\n",
      "26-06-2023  17:03            10.868 CR2WU_NLU_Livestock_Bovine_Cows_historical_1950-2020_regions.csv\n",
      "26-06-2023  17:03           186.012 CR2WU_NLU_Livestock_Bovine_Heifers_historical_1950-2020_communes.csv\n",
      "26-06-2023  17:03             1.492 CR2WU_NLU_Livestock_Bovine_Heifers_historical_1950-2020_nation.csv\n",
      "26-06-2023  17:03            10.780 CR2WU_NLU_Livestock_Bovine_Heifers_historical_1950-2020_regions.csv\n",
      "26-06-2023  17:03           200.529 CR2WU_NLU_Livestock_Bovine_historical_1950-2020_communes.csv\n",
      "26-06-2023  17:03             1.489 CR2WU_NLU_Livestock_Bovine_historical_1950-2020_nation.csv\n",
      "26-06-2023  17:03            10.949 CR2WU_NLU_Livestock_Bovine_historical_1950-2020_regions.csv\n",
      "26-06-2023  17:03           161.900 CR2WU_NLU_Livestock_Bovine_Oxen_historical_1950-2020_communes.csv\n",
      "26-06-2023  17:03             1.486 CR2WU_NLU_Livestock_Bovine_Oxen_historical_1950-2020_nation.csv\n",
      "26-06-2023  17:03            10.160 CR2WU_NLU_Livestock_Bovine_Oxen_historical_1950-2020_regions.csv\n",
      "26-06-2023  17:03           186.806 CR2WU_NLU_Livestock_Bovine_Steers_historical_1950-2020_communes.csv\n",
      "26-06-2023  17:03             1.487 CR2WU_NLU_Livestock_Bovine_Steers_historical_1950-2020_nation.csv\n",
      "26-06-2023  17:03            10.621 CR2WU_NLU_Livestock_Bovine_Steers_historical_1950-2020_regions.csv\n",
      "26-06-2023  17:03            67.317 CR2WU_NLU_Livestock_Camelids_Alpacas_historical_1950-2020_communes.csv\n",
      "26-06-2023  17:03             1.489 CR2WU_NLU_Livestock_Camelids_Alpacas_historical_1950-2020_nation.csv\n",
      "26-06-2023  17:03             7.441 CR2WU_NLU_Livestock_Camelids_Alpacas_historical_1950-2020_regions.csv\n",
      "26-06-2023  17:03            73.261 CR2WU_NLU_Livestock_Camelids_historical_1950-2020_communes.csv\n",
      "26-06-2023  17:03             1.498 CR2WU_NLU_Livestock_Camelids_historical_1950-2020_nation.csv\n",
      "26-06-2023  17:03             7.880 CR2WU_NLU_Livestock_Camelids_historical_1950-2020_regions.csv\n",
      "26-06-2023  17:03            64.999 CR2WU_NLU_Livestock_Camelids_Llamas_historical_1950-2020_communes.csv\n",
      "26-06-2023  17:03             1.496 CR2WU_NLU_Livestock_Camelids_Llamas_historical_1950-2020_nation.csv\n",
      "26-06-2023  17:03             6.744 CR2WU_NLU_Livestock_Camelids_Llamas_historical_1950-2020_regions.csv\n",
      "26-06-2023  17:03           202.646 CR2WU_NLU_Livestock_Equines_historical_1950-2020_communes.csv\n",
      "26-06-2023  17:03             1.493 CR2WU_NLU_Livestock_Equines_historical_1950-2020_nation.csv\n",
      "26-06-2023  17:03            10.987 CR2WU_NLU_Livestock_Equines_historical_1950-2020_regions.csv\n",
      "26-06-2023  17:03           199.480 CR2WU_NLU_Livestock_Equines_Horses_historical_1950-2020_communes.csv\n",
      "26-06-2023  17:03             1.490 CR2WU_NLU_Livestock_Equines_Horses_historical_1950-2020_nation.csv\n",
      "26-06-2023  17:03            10.918 CR2WU_NLU_Livestock_Equines_Horses_historical_1950-2020_regions.csv\n",
      "26-06-2023  17:03           131.104 CR2WU_NLU_Livestock_Equines_MulesDonkeys_historical_1950-2020_communes.csv\n",
      "26-06-2023  17:03             1.488 CR2WU_NLU_Livestock_Equines_MulesDonkeys_historical_1950-2020_nation.csv\n",
      "26-06-2023  17:03            10.084 CR2WU_NLU_Livestock_Equines_MulesDonkeys_historical_1950-2020_regions.csv\n",
      "26-06-2023  17:03           209.102 CR2WU_NLU_Livestock_historical_1950-2020_communes.csv\n",
      "26-06-2023  17:03             1.488 CR2WU_NLU_Livestock_historical_1950-2020_nation.csv\n",
      "26-06-2023  17:03            10.999 CR2WU_NLU_Livestock_historical_1950-2020_regions.csv\n",
      "26-06-2023  17:03           155.099 CR2WU_NLU_Livestock_OtherLivestock_Goats_historical_1950-2020_communes.csv\n",
      "26-06-2023  17:03             1.490 CR2WU_NLU_Livestock_OtherLivestock_Goats_historical_1950-2020_nation.csv\n",
      "26-06-2023  17:03            10.621 CR2WU_NLU_Livestock_OtherLivestock_Goats_historical_1950-2020_regions.csv\n",
      "26-06-2023  17:03           201.011 CR2WU_NLU_Livestock_OtherLivestock_historical_1950-2020_communes.csv\n",
      "26-06-2023  17:03             1.489 CR2WU_NLU_Livestock_OtherLivestock_historical_1950-2020_nation.csv\n",
      "26-06-2023  17:03            10.983 CR2WU_NLU_Livestock_OtherLivestock_historical_1950-2020_regions.csv\n",
      "26-06-2023  17:03           189.365 CR2WU_NLU_Livestock_OtherLivestock_Pigs_historical_1950-2020_communes.csv\n",
      "26-06-2023  17:03             1.490 CR2WU_NLU_Livestock_OtherLivestock_Pigs_historical_1950-2020_nation.csv\n",
      "26-06-2023  17:03            11.003 CR2WU_NLU_Livestock_OtherLivestock_Pigs_historical_1950-2020_regions.csv\n",
      "26-06-2023  17:03            85.192 CR2WU_NLU_Livestock_OtherLivestock_Rabbits_historical_1950-2020_communes.csv\n",
      "26-06-2023  17:03             1.495 CR2WU_NLU_Livestock_OtherLivestock_Rabbits_historical_1950-2020_nation.csv\n",
      "26-06-2023  17:03             8.244 CR2WU_NLU_Livestock_OtherLivestock_Rabbits_historical_1950-2020_regions.csv\n",
      "26-06-2023  17:03           183.578 CR2WU_NLU_Livestock_OtherLivestock_Sheeps_historical_1950-2020_communes.csv\n",
      "26-06-2023  17:03             1.494 CR2WU_NLU_Livestock_OtherLivestock_Sheeps_historical_1950-2020_nation.csv\n",
      "26-06-2023  17:03            10.968 CR2WU_NLU_Livestock_OtherLivestock_Sheeps_historical_1950-2020_regions.csv\n",
      "26-06-2023  17:03            75.091 CR2WU_NLU_Mining_historical_1950-2020_communes.csv\n",
      "26-06-2023  17:03             1.653 CR2WU_NLU_Mining_historical_1950-2020_nation.csv\n",
      "26-06-2023  17:03             8.947 CR2WU_NLU_Mining_historical_1950-2020_regions.csv\n",
      "26-06-2023  17:03            57.247 CR2WU_NLU_Mining_Metallic_CopperCathodes_historical_1950-2020_communes.csv\n",
      "26-06-2023  17:03             1.278 CR2WU_NLU_Mining_Metallic_CopperCathodes_historical_1950-2020_nation.csv\n",
      "26-06-2023  17:03             5.101 CR2WU_NLU_Mining_Metallic_CopperCathodes_historical_1950-2020_regions.csv\n",
      "26-06-2023  17:03            62.761 CR2WU_NLU_Mining_Metallic_CopperConcetrates_historical_1950-2020_communes.csv\n",
      "26-06-2023  17:03             1.638 CR2WU_NLU_Mining_Metallic_CopperConcetrates_historical_1950-2020_nation.csv\n",
      "26-06-2023  17:03             7.595 CR2WU_NLU_Mining_Metallic_CopperConcetrates_historical_1950-2020_regions.csv\n",
      "26-06-2023  17:03            62.617 CR2WU_NLU_Mining_Metallic_Gold_historical_1950-2020_communes.csv\n",
      "26-06-2023  17:03             1.483 CR2WU_NLU_Mining_Metallic_Gold_historical_1950-2020_nation.csv\n",
      "26-06-2023  17:03             6.159 CR2WU_NLU_Mining_Metallic_Gold_historical_1950-2020_regions.csv\n",
      "26-06-2023  17:03            72.247 CR2WU_NLU_Mining_Metallic_historical_1950-2020_communes.csv\n",
      "26-06-2023  17:03             1.651 CR2WU_NLU_Mining_Metallic_historical_1950-2020_nation.csv\n",
      "26-06-2023  17:03             8.448 CR2WU_NLU_Mining_Metallic_historical_1950-2020_regions.csv\n",
      "26-06-2023  17:03            54.108 CR2WU_NLU_Mining_Metallic_Iron_historical_1950-2020_communes.csv\n",
      "26-06-2023  17:03             1.491 CR2WU_NLU_Mining_Metallic_Iron_historical_1950-2020_nation.csv\n",
      "26-06-2023  17:03             4.144 CR2WU_NLU_Mining_Metallic_Iron_historical_1950-2020_regions.csv\n",
      "26-06-2023  17:03            53.989 CR2WU_NLU_Mining_Metallic_Molybdenum_historical_1950-2020_communes.csv\n",
      "26-06-2023  17:03             1.493 CR2WU_NLU_Mining_Metallic_Molybdenum_historical_1950-2020_nation.csv\n",
      "26-06-2023  17:03             5.242 CR2WU_NLU_Mining_Metallic_Molybdenum_historical_1950-2020_regions.csv\n",
      "26-06-2023  17:03            52.001 CR2WU_NLU_Mining_Metallic_Silver_historical_1950-2020_communes.csv\n",
      "26-06-2023  17:03             1.247 CR2WU_NLU_Mining_Metallic_Silver_historical_1950-2020_nation.csv\n",
      "26-06-2023  17:03             3.505 CR2WU_NLU_Mining_Metallic_Silver_historical_1950-2020_regions.csv\n",
      "26-06-2023  17:03            51.662 CR2WU_NLU_Mining_Metallic_Zinc_historical_1950-2020_communes.csv\n",
      "26-06-2023  17:03             1.246 CR2WU_NLU_Mining_Metallic_Zinc_historical_1950-2020_nation.csv\n",
      "26-06-2023  17:03             3.413 CR2WU_NLU_Mining_Metallic_Zinc_historical_1950-2020_regions.csv\n",
      "26-06-2023  17:03            53.269 CR2WU_NLU_Mining_NonMetallic_Coal_historical_1950-2020_communes.csv\n",
      "26-06-2023  17:03             1.252 CR2WU_NLU_Mining_NonMetallic_Coal_historical_1950-2020_nation.csv\n",
      "26-06-2023  17:03             3.648 CR2WU_NLU_Mining_NonMetallic_Coal_historical_1950-2020_regions.csv\n",
      "26-06-2023  17:03            55.876 CR2WU_NLU_Mining_NonMetallic_historical_1950-2020_communes.csv\n",
      "26-06-2023  17:03             1.252 CR2WU_NLU_Mining_NonMetallic_historical_1950-2020_nation.csv\n",
      "26-06-2023  17:03             4.366 CR2WU_NLU_Mining_NonMetallic_historical_1950-2020_regions.csv\n",
      "26-06-2023  17:03            52.586 CR2WU_NLU_Mining_NonMetallic_Iodine_historical_1950-2020_communes.csv\n",
      "26-06-2023  17:03             1.244 CR2WU_NLU_Mining_NonMetallic_Iodine_historical_1950-2020_nation.csv\n",
      "26-06-2023  17:03             3.640 CR2WU_NLU_Mining_NonMetallic_Iodine_historical_1950-2020_regions.csv\n",
      "26-06-2023  17:03            51.916 CR2WU_NLU_Mining_NonMetallic_LithiumCarbonate_historical_1950-2020_communes.csv\n",
      "26-06-2023  17:03             1.250 CR2WU_NLU_Mining_NonMetallic_LithiumCarbonate_historical_1950-2020_nation.csv\n",
      "26-06-2023  17:03             3.417 CR2WU_NLU_Mining_NonMetallic_LithiumCarbonate_historical_1950-2020_regions.csv\n",
      "26-06-2023  17:03            52.324 CR2WU_NLU_Mining_NonMetallic_Nitrates_historical_1950-2020_communes.csv\n",
      "26-06-2023  17:03             1.228 CR2WU_NLU_Mining_NonMetallic_Nitrates_historical_1950-2020_nation.csv\n",
      "26-06-2023  17:03             3.517 CR2WU_NLU_Mining_NonMetallic_Nitrates_historical_1950-2020_regions.csv\n",
      "26-06-2023  17:03            53.171 CR2WU_NLU_Mining_NonMetallic_Ulexite_historical_1950-2020_communes.csv\n",
      "26-06-2023  17:03             1.251 CR2WU_NLU_Mining_NonMetallic_Ulexite_historical_1950-2020_nation.csv\n",
      "26-06-2023  17:03             3.643 CR2WU_NLU_Mining_NonMetallic_Ulexite_historical_1950-2020_regions.csv\n",
      "26-06-2023  17:03           241.168 CR2WU_NLU_Total_historical_1950-2020_communes.csv\n",
      "26-06-2023  17:03             1.821 CR2WU_NLU_Total_historical_1950-2020_nation.csv\n",
      "26-06-2023  17:03            41.466 CR2WU_NLU_Total_historical_1950-2020_provinces.csv\n",
      "26-06-2023  17:03            13.459 CR2WU_NLU_Total_historical_1950-2020_regions.csv\n",
      "26-06-2023  17:03            72.633 CR2WU_NLU_WaterBodies_Dams_historical_1950-2020_communes.csv\n",
      "26-06-2023  17:03             1.352 CR2WU_NLU_WaterBodies_Dams_historical_1950-2020_nation.csv\n",
      "26-06-2023  17:03             6.616 CR2WU_NLU_WaterBodies_Dams_historical_1950-2020_regions.csv\n",
      "26-06-2023  17:03            85.136 CR2WU_NLU_WaterBodies_historical_1950-2020_communes.csv\n",
      "26-06-2023  17:03             1.349 CR2WU_NLU_WaterBodies_historical_1950-2020_nation.csv\n",
      "26-06-2023  17:03             7.533 CR2WU_NLU_WaterBodies_historical_1950-2020_regions.csv\n",
      "26-06-2023  17:03            70.904 CR2WU_NLU_WaterBodies_Reservoirs_historical_1950-2020_communes.csv\n",
      "26-06-2023  17:03             1.348 CR2WU_NLU_WaterBodies_Reservoirs_historical_1950-2020_nation.csv\n",
      "26-06-2023  17:03             6.829 CR2WU_NLU_WaterBodies_Reservoirs_historical_1950-2020_regions.csv\n",
      "26-06-2023  17:03         4.779.501 INE_2002-2035.csv\n",
      "26-06-2023  17:03            36.147 logpopul_logdw.png\n",
      "26-06-2023  17:03            52.219 logpopul_logwater.png\n",
      "26-06-2023  17:03            52.727 logpopul_water.png\n",
      "26-06-2023  17:03            25.113 LUT_cod_com_Chile.csv\n",
      "26-06-2023  17:03        22.370.187 nation_ContinentalChile_epsg4326.geojson\n",
      "26-05-2023  13:03             1.530 NLU_nation.csv\n",
      "26-06-2023  16:38    <DIR>          pages\n",
      "26-06-2023  17:03            39.302 pop_dw.png\n",
      "26-06-2023  17:03            56.350 popul_water.png\n",
      "26-06-2023  17:03             1.817 README.txt\n",
      "26-06-2023  17:03        23.132.488 regions_ContinentalChile_epsg4326.geojson\n",
      "26-05-2023  13:22                75 requirements.txt\n",
      "             244 archivos     60.182.368 bytes\n",
      "               3 dirs  42.482.397.184 bytes libres\n"
     ]
    }
   ],
   "source": [
    "ls"
   ]
  },
  {
   "cell_type": "code",
   "execution_count": 4,
   "id": "30b37c75",
   "metadata": {},
   "outputs": [
    {
     "name": "stdout",
     "output_type": "stream",
     "text": [
      "[Errno 2] No such file or directory: 'Tesis'\n",
      "/mnt/home2/mari/Tesis\n"
     ]
    }
   ],
   "source": [
    "#cd Tesis #este era en el PC Corral"
   ]
  },
  {
   "cell_type": "code",
   "execution_count": 2,
   "id": "e25d7f3c",
   "metadata": {},
   "outputs": [
    {
     "ename": "NameError",
     "evalue": "name 'gpd' is not defined",
     "output_type": "error",
     "traceback": [
      "\u001b[1;31m---------------------------------------------------------------------------\u001b[0m",
      "\u001b[1;31mNameError\u001b[0m                                 Traceback (most recent call last)",
      "Cell \u001b[1;32mIn[2], line 1\u001b[0m\n\u001b[1;32m----> 1\u001b[0m ch \u001b[39m=\u001b[39m gpd\u001b[39m.\u001b[39mread_file(\u001b[39mr\u001b[39m\u001b[39m'\u001b[39m\u001b[39mC:\u001b[39m\u001b[39m\\\u001b[39m\u001b[39mUsers\u001b[39m\u001b[39m\\\u001b[39m\u001b[39mMariana\u001b[39m\u001b[39m\\\u001b[39m\u001b[39mGoogle Drive\u001b[39m\u001b[39m\\\u001b[39m\u001b[39mDoctorado\u001b[39m\u001b[39m\\\u001b[39m\u001b[39mBD_resili\u001b[39m\u001b[39m\\\u001b[39m\u001b[39mtesis\u001b[39m\u001b[39m\\\u001b[39m\u001b[39mnation_ContinentalChile_epsg4326.geojson\u001b[39m\u001b[39m'\u001b[39m)\n",
      "\u001b[1;31mNameError\u001b[0m: name 'gpd' is not defined"
     ]
    }
   ],
   "source": [
    "ch = gpd.read_file(r'C:\\Users\\Mariana\\Google Drive\\Doctorado\\BD_resili\\tesis\\nation_ContinentalChile_epsg4326.geojson')"
   ]
  },
  {
   "cell_type": "code",
   "execution_count": 3,
   "id": "fd44485e",
   "metadata": {},
   "outputs": [],
   "source": [
    "#ch = gpd.read_file(r'/mnt/home2/mari/Tesis/NLU/GeoJSON/nation_ContinentalChile_epsg4326.geojson')\n",
    "reg = gpd.read_file(r'/mnt/home2/mari/Tesis/NLU/GeoJSON/regions_ContinentalChile_epsg4326.geojson')\n",
    "com = gpd.read_file(r'/mnt/home2/mari/Tesis/NLU/GeoJSON/communes_ContinentalChile_epsg4326.geojson')"
   ]
  },
  {
   "cell_type": "code",
   "execution_count": 7,
   "id": "0a8b21ff",
   "metadata": {},
   "outputs": [],
   "source": [
    "#file containing codes and names\n",
    "\n",
    "#código PC Corral\n",
    "#cod = pd.read_csv(r'/mnt/home2/mari/Tesis/NLU/LUT_cod_com_Chile.csv')\n",
    "cod = pd.read_csv(r'C:\\Users\\Mariana\\Google Drive\\Doctorado\\BD_resili\\tesis\\LUT_cod_com_Chile.csv')\n",
    "\n",
    "#dictionary code region : name region\n",
    "cod_reg_nom_reg = cod[['cod_reg', 'nom_reg']].drop_duplicates().set_index('cod_reg')['nom_reg'].astype(str).to_dict()\n",
    "cod_reg_nom_reg = {str(k): v for k, v in cod_reg_nom_reg.items()} #same type of data as csv column names NLU_XX\n",
    "\n",
    "#dictionary code commune : name commune\n",
    "cod_com_nom_com = cod[['cod_com', 'nom_com']].drop_duplicates().set_index('cod_com')['nom_com'].astype(str).to_dict()\n",
    "cod_com_nom_com = {str(k): v for k, v in cod_com_nom_com.items()} "
   ]
  },
  {
   "cell_type": "code",
   "execution_count": 5,
   "id": "d4467c81",
   "metadata": {},
   "outputs": [],
   "source": [
    "#buscar si hay una forma de leer directo una geojson\n",
    "ch_json = ch.to_json()\n",
    "reg_json = reg.to_json()\n",
    "com_json = com.to_json()\n",
    "ch_json = ast.literal_eval(ch_json)\n",
    "reg_json = ast.literal_eval(reg_json)\n",
    "com_json = ast.literal_eval(com_json)"
   ]
  },
  {
   "cell_type": "code",
   "execution_count": null,
   "id": "c63f5b47",
   "metadata": {},
   "outputs": [],
   "source": [
    "#¿borrar?\n",
    "fig = px.choropleth(reg, geojson = reg_json, \n",
    "                    locations = 'id', \n",
    "                    scope = 'south america',\n",
    "                    color = 'id', #no cod_comuna \n",
    "                    fitbounds = 'geojson' #False, locations or geojson no plotea\n",
    "                   )\n",
    "\n",
    "\n",
    "fig.show()\n",
    "#no logré plotear acá porque me aparece Gah Yout Tab just crashed"
   ]
  },
  {
   "cell_type": "code",
   "execution_count": 13,
   "id": "d8973d3f",
   "metadata": {},
   "outputs": [],
   "source": [
    "years_with_365_days = []\n",
    "years_with_366_days = []\n",
    "\n",
    "for year in range(1950, 2021):\n",
    "    date = datetime.date(year, 12, 31)  # Crear una fecha para el último día del año\n",
    "    \n",
    "    if date.timetuple().tm_yday == 365:\n",
    "        years_with_365_days.append(year)\n",
    "\n",
    "    if date.timetuple().tm_yday == 366:\n",
    "        years_with_366_days.append(year)\n",
    "\n",
    "y_365=[str(item) for item in years_with_365_days]\n",
    "y_366=[str(item) for item in years_with_366_days]\n"
   ]
  },
  {
   "attachments": {},
   "cell_type": "markdown",
   "id": "e3cd4e56",
   "metadata": {},
   "source": [
    "# National and Regional data"
   ]
  },
  {
   "cell_type": "code",
   "execution_count": 9,
   "id": "af3c8af5",
   "metadata": {},
   "outputs": [],
   "source": [
    "#Reading files\n",
    "NLU_nation = pd.read_csv(r'C:\\Users\\Mariana\\Google Drive\\Doctorado\\BD_resili\\tesis\\CR2WU_NLU_Total_historical_1950-2020_nation.csv')\n",
    "NLU_regions = pd.read_csv(r'C:\\Users\\Mariana\\Google Drive\\Doctorado\\BD_resili\\tesis\\CR2WU_NLU_Total_historical_1950-2020_regions.csv')\n",
    "NLU_communes = pd.read_csv(r'C:\\Users\\Mariana\\Google Drive\\Doctorado\\BD_resili\\tesis\\CR2WU_NLU_Total_historical_1950-2020_communes.csv')\n",
    "\n",
    "#cod PC Corral\n",
    "#NLU_nation = pd.read_csv(r'/mnt/home2/mari/Tesis/NLU/csv/Total/CR2WU_NLU_Total_historical_1950-2020_nation.csv')\n",
    "#NLU_regions = pd.read_csv(r'/mnt/home2/mari/Tesis/NLU/csv/Total/CR2WU_NLU_Total_historical_1950-2020_regions.csv')\n",
    "#NLU_nation.dtypes #para saber qué tipo de datos tiene"
   ]
  },
  {
   "cell_type": "code",
   "execution_count": 10,
   "id": "f92c58ee",
   "metadata": {},
   "outputs": [],
   "source": [
    "#Database cleaning\n",
    "NLU_nation['Date'] = pd.to_datetime(NLU_nation[\"Date\"])\n",
    "NLU_nation['Date'] = NLU_nation['Date'].dt.strftime('%Y')\n",
    "NLU_nation = NLU_nation.rename(columns={\"Date\": \"Years\",\"1\":\"NLU\"})\n",
    "NLU_nation['Years'] = NLU_nation['Years'].astype(int)\n",
    "\n",
    "NLU_regions['Date'] = pd.to_datetime(NLU_regions[\"Date\"])\n",
    "NLU_regions['Date'] = NLU_regions['Date'].dt.strftime('%Y')\n",
    "NLU_regions = NLU_regions.rename(columns={\"Date\": \"Years\"})\n",
    "NLU_regions['Years'] = NLU_regions['Years'].astype(int)\n",
    "\n",
    "#Adding Region's names\n",
    "NLU_regions_plot = NLU_regions.rename(columns=cod_reg_nom_reg)\n",
    "\n",
    "#NLU national 2 decimal\n",
    "NLU_nation_ = NLU_nation\n",
    "NLU_nation_['NLU'] = NLU_nation_['NLU'].round(decimals=2)"
   ]
  },
  {
   "cell_type": "code",
   "execution_count": 11,
   "id": "c75abb43",
   "metadata": {},
   "outputs": [],
   "source": [
    "#Database cleaning communes\n",
    "\n",
    "NLU_communes['Date'] = pd.to_datetime(NLU_communes[\"Date\"])\n",
    "NLU_communes['Date'] = NLU_communes['Date'].dt.strftime('%Y')\n",
    "NLU_communes = NLU_communes.rename(columns={\"Date\": \"Years\"})\n",
    "NLU_communes ['Years'] = NLU_communes['Years'].astype(int)\n",
    "\n",
    "#Adding Region's names\n",
    "NLU_communes_plot = NLU_communes.rename(columns=cod_com_nom_com)\n"
   ]
  },
  {
   "cell_type": "code",
   "execution_count": 20,
   "id": "d3fa49e1",
   "metadata": {},
   "outputs": [],
   "source": [
    "#Useful lists\n",
    "year_list = NLU_regions['Years'].tolist()\n",
    "reg_list = [i for i in cod_reg_nom_reg.values()] #not ordered by lat\n",
    "com_list = [i for i in cod_com_nom_com.values()] #not ordered by lat"
   ]
  },
  {
   "cell_type": "code",
   "execution_count": 13,
   "id": "02a2db58",
   "metadata": {},
   "outputs": [
    {
     "data": {
      "text/html": [
       "<div>\n",
       "<style scoped>\n",
       "    .dataframe tbody tr th:only-of-type {\n",
       "        vertical-align: middle;\n",
       "    }\n",
       "\n",
       "    .dataframe tbody tr th {\n",
       "        vertical-align: top;\n",
       "    }\n",
       "\n",
       "    .dataframe thead th {\n",
       "        text-align: right;\n",
       "    }\n",
       "</style>\n",
       "<table border=\"1\" class=\"dataframe\">\n",
       "  <thead>\n",
       "    <tr style=\"text-align: right;\">\n",
       "      <th></th>\n",
       "      <th>Years</th>\n",
       "      <th>10101</th>\n",
       "      <th>10102</th>\n",
       "      <th>10103</th>\n",
       "      <th>10104</th>\n",
       "      <th>10105</th>\n",
       "      <th>10106</th>\n",
       "      <th>10107</th>\n",
       "      <th>10108</th>\n",
       "      <th>10109</th>\n",
       "      <th>...</th>\n",
       "      <th>9202</th>\n",
       "      <th>9203</th>\n",
       "      <th>9204</th>\n",
       "      <th>9205</th>\n",
       "      <th>9206</th>\n",
       "      <th>9207</th>\n",
       "      <th>9208</th>\n",
       "      <th>9209</th>\n",
       "      <th>9210</th>\n",
       "      <th>9211</th>\n",
       "    </tr>\n",
       "  </thead>\n",
       "  <tbody>\n",
       "    <tr>\n",
       "      <th>35</th>\n",
       "      <td>1985</td>\n",
       "      <td>0.274317</td>\n",
       "      <td>0.067735</td>\n",
       "      <td>0.014227</td>\n",
       "      <td>0.046510</td>\n",
       "      <td>0.057147</td>\n",
       "      <td>0.065667</td>\n",
       "      <td>0.049354</td>\n",
       "      <td>0.043022</td>\n",
       "      <td>0.078817</td>\n",
       "      <td>...</td>\n",
       "      <td>0.148025</td>\n",
       "      <td>0.050327</td>\n",
       "      <td>0.022249</td>\n",
       "      <td>0.036865</td>\n",
       "      <td>0.026678</td>\n",
       "      <td>0.029618</td>\n",
       "      <td>0.032499</td>\n",
       "      <td>0.061049</td>\n",
       "      <td>0.063259</td>\n",
       "      <td>0.094229</td>\n",
       "    </tr>\n",
       "    <tr>\n",
       "      <th>3</th>\n",
       "      <td>1953</td>\n",
       "      <td>0.111721</td>\n",
       "      <td>0.046072</td>\n",
       "      <td>0.012926</td>\n",
       "      <td>0.035144</td>\n",
       "      <td>0.037297</td>\n",
       "      <td>0.039209</td>\n",
       "      <td>0.022605</td>\n",
       "      <td>0.032818</td>\n",
       "      <td>0.042148</td>\n",
       "      <td>...</td>\n",
       "      <td>0.034011</td>\n",
       "      <td>0.039439</td>\n",
       "      <td>0.018919</td>\n",
       "      <td>0.029878</td>\n",
       "      <td>0.024584</td>\n",
       "      <td>0.035775</td>\n",
       "      <td>0.027615</td>\n",
       "      <td>0.051569</td>\n",
       "      <td>0.056455</td>\n",
       "      <td>0.067334</td>\n",
       "    </tr>\n",
       "    <tr>\n",
       "      <th>39</th>\n",
       "      <td>1989</td>\n",
       "      <td>0.310280</td>\n",
       "      <td>0.073670</td>\n",
       "      <td>0.014462</td>\n",
       "      <td>0.049549</td>\n",
       "      <td>0.062265</td>\n",
       "      <td>0.069289</td>\n",
       "      <td>0.053868</td>\n",
       "      <td>0.047239</td>\n",
       "      <td>0.087122</td>\n",
       "      <td>...</td>\n",
       "      <td>0.192213</td>\n",
       "      <td>0.051166</td>\n",
       "      <td>0.022429</td>\n",
       "      <td>0.037184</td>\n",
       "      <td>0.027173</td>\n",
       "      <td>0.030187</td>\n",
       "      <td>0.033996</td>\n",
       "      <td>0.062384</td>\n",
       "      <td>0.064536</td>\n",
       "      <td>0.096678</td>\n",
       "    </tr>\n",
       "    <tr>\n",
       "      <th>14</th>\n",
       "      <td>1964</td>\n",
       "      <td>0.167615</td>\n",
       "      <td>0.053983</td>\n",
       "      <td>0.013972</td>\n",
       "      <td>0.037049</td>\n",
       "      <td>0.041781</td>\n",
       "      <td>0.047614</td>\n",
       "      <td>0.032716</td>\n",
       "      <td>0.034125</td>\n",
       "      <td>0.055518</td>\n",
       "      <td>...</td>\n",
       "      <td>0.075347</td>\n",
       "      <td>0.045458</td>\n",
       "      <td>0.019955</td>\n",
       "      <td>0.034783</td>\n",
       "      <td>0.025910</td>\n",
       "      <td>0.034964</td>\n",
       "      <td>0.028281</td>\n",
       "      <td>0.055886</td>\n",
       "      <td>0.060289</td>\n",
       "      <td>0.081848</td>\n",
       "    </tr>\n",
       "    <tr>\n",
       "      <th>56</th>\n",
       "      <td>2006</td>\n",
       "      <td>0.561747</td>\n",
       "      <td>0.120186</td>\n",
       "      <td>378.853612</td>\n",
       "      <td>0.050941</td>\n",
       "      <td>0.078835</td>\n",
       "      <td>0.083707</td>\n",
       "      <td>0.083470</td>\n",
       "      <td>0.049988</td>\n",
       "      <td>0.127094</td>\n",
       "      <td>...</td>\n",
       "      <td>0.529462</td>\n",
       "      <td>0.050211</td>\n",
       "      <td>0.022415</td>\n",
       "      <td>0.096057</td>\n",
       "      <td>0.023490</td>\n",
       "      <td>0.027512</td>\n",
       "      <td>0.032016</td>\n",
       "      <td>0.061225</td>\n",
       "      <td>0.062022</td>\n",
       "      <td>0.106508</td>\n",
       "    </tr>\n",
       "    <tr>\n",
       "      <th>22</th>\n",
       "      <td>1972</td>\n",
       "      <td>0.207985</td>\n",
       "      <td>0.059450</td>\n",
       "      <td>0.014475</td>\n",
       "      <td>0.039272</td>\n",
       "      <td>0.045896</td>\n",
       "      <td>0.054667</td>\n",
       "      <td>0.041247</td>\n",
       "      <td>0.035393</td>\n",
       "      <td>0.064573</td>\n",
       "      <td>...</td>\n",
       "      <td>0.109720</td>\n",
       "      <td>0.046514</td>\n",
       "      <td>0.019689</td>\n",
       "      <td>0.034948</td>\n",
       "      <td>0.024724</td>\n",
       "      <td>0.031586</td>\n",
       "      <td>0.027284</td>\n",
       "      <td>0.057536</td>\n",
       "      <td>0.059558</td>\n",
       "      <td>0.085738</td>\n",
       "    </tr>\n",
       "    <tr>\n",
       "      <th>29</th>\n",
       "      <td>1979</td>\n",
       "      <td>0.249281</td>\n",
       "      <td>0.066006</td>\n",
       "      <td>0.014227</td>\n",
       "      <td>0.042409</td>\n",
       "      <td>0.050594</td>\n",
       "      <td>0.060304</td>\n",
       "      <td>0.046741</td>\n",
       "      <td>0.038664</td>\n",
       "      <td>0.071503</td>\n",
       "      <td>...</td>\n",
       "      <td>0.161504</td>\n",
       "      <td>0.048960</td>\n",
       "      <td>0.021311</td>\n",
       "      <td>0.036054</td>\n",
       "      <td>0.025727</td>\n",
       "      <td>0.029612</td>\n",
       "      <td>0.030062</td>\n",
       "      <td>0.059194</td>\n",
       "      <td>0.061532</td>\n",
       "      <td>0.091006</td>\n",
       "    </tr>\n",
       "    <tr>\n",
       "      <th>58</th>\n",
       "      <td>2008</td>\n",
       "      <td>0.596439</td>\n",
       "      <td>0.121909</td>\n",
       "      <td>392.353344</td>\n",
       "      <td>0.050112</td>\n",
       "      <td>0.079932</td>\n",
       "      <td>0.085588</td>\n",
       "      <td>0.084545</td>\n",
       "      <td>0.050185</td>\n",
       "      <td>0.133947</td>\n",
       "      <td>...</td>\n",
       "      <td>0.714034</td>\n",
       "      <td>0.050127</td>\n",
       "      <td>0.022127</td>\n",
       "      <td>0.098772</td>\n",
       "      <td>0.023290</td>\n",
       "      <td>0.026897</td>\n",
       "      <td>0.031653</td>\n",
       "      <td>0.063266</td>\n",
       "      <td>0.062429</td>\n",
       "      <td>0.108553</td>\n",
       "    </tr>\n",
       "    <tr>\n",
       "      <th>69</th>\n",
       "      <td>2019</td>\n",
       "      <td>1.949654</td>\n",
       "      <td>0.216037</td>\n",
       "      <td>274.291409</td>\n",
       "      <td>0.045244</td>\n",
       "      <td>0.085657</td>\n",
       "      <td>0.095108</td>\n",
       "      <td>0.144659</td>\n",
       "      <td>0.050194</td>\n",
       "      <td>0.166875</td>\n",
       "      <td>...</td>\n",
       "      <td>0.806610</td>\n",
       "      <td>0.050008</td>\n",
       "      <td>0.020438</td>\n",
       "      <td>0.094053</td>\n",
       "      <td>0.020570</td>\n",
       "      <td>0.022953</td>\n",
       "      <td>0.028882</td>\n",
       "      <td>0.061165</td>\n",
       "      <td>0.058877</td>\n",
       "      <td>0.116367</td>\n",
       "    </tr>\n",
       "    <tr>\n",
       "      <th>54</th>\n",
       "      <td>2004</td>\n",
       "      <td>0.510119</td>\n",
       "      <td>0.109842</td>\n",
       "      <td>450.503983</td>\n",
       "      <td>0.051763</td>\n",
       "      <td>0.077657</td>\n",
       "      <td>0.081830</td>\n",
       "      <td>0.077499</td>\n",
       "      <td>0.049700</td>\n",
       "      <td>0.119428</td>\n",
       "      <td>...</td>\n",
       "      <td>0.471992</td>\n",
       "      <td>0.049997</td>\n",
       "      <td>0.022797</td>\n",
       "      <td>0.096872</td>\n",
       "      <td>0.023739</td>\n",
       "      <td>0.028244</td>\n",
       "      <td>0.032259</td>\n",
       "      <td>0.061774</td>\n",
       "      <td>0.062162</td>\n",
       "      <td>0.104313</td>\n",
       "    </tr>\n",
       "  </tbody>\n",
       "</table>\n",
       "<p>10 rows × 344 columns</p>\n",
       "</div>"
      ],
      "text/plain": [
       "    Years     10101     10102       10103     10104     10105     10106   \n",
       "35   1985  0.274317  0.067735    0.014227  0.046510  0.057147  0.065667  \\\n",
       "3    1953  0.111721  0.046072    0.012926  0.035144  0.037297  0.039209   \n",
       "39   1989  0.310280  0.073670    0.014462  0.049549  0.062265  0.069289   \n",
       "14   1964  0.167615  0.053983    0.013972  0.037049  0.041781  0.047614   \n",
       "56   2006  0.561747  0.120186  378.853612  0.050941  0.078835  0.083707   \n",
       "22   1972  0.207985  0.059450    0.014475  0.039272  0.045896  0.054667   \n",
       "29   1979  0.249281  0.066006    0.014227  0.042409  0.050594  0.060304   \n",
       "58   2008  0.596439  0.121909  392.353344  0.050112  0.079932  0.085588   \n",
       "69   2019  1.949654  0.216037  274.291409  0.045244  0.085657  0.095108   \n",
       "54   2004  0.510119  0.109842  450.503983  0.051763  0.077657  0.081830   \n",
       "\n",
       "       10107     10108     10109  ...      9202      9203      9204      9205   \n",
       "35  0.049354  0.043022  0.078817  ...  0.148025  0.050327  0.022249  0.036865  \\\n",
       "3   0.022605  0.032818  0.042148  ...  0.034011  0.039439  0.018919  0.029878   \n",
       "39  0.053868  0.047239  0.087122  ...  0.192213  0.051166  0.022429  0.037184   \n",
       "14  0.032716  0.034125  0.055518  ...  0.075347  0.045458  0.019955  0.034783   \n",
       "56  0.083470  0.049988  0.127094  ...  0.529462  0.050211  0.022415  0.096057   \n",
       "22  0.041247  0.035393  0.064573  ...  0.109720  0.046514  0.019689  0.034948   \n",
       "29  0.046741  0.038664  0.071503  ...  0.161504  0.048960  0.021311  0.036054   \n",
       "58  0.084545  0.050185  0.133947  ...  0.714034  0.050127  0.022127  0.098772   \n",
       "69  0.144659  0.050194  0.166875  ...  0.806610  0.050008  0.020438  0.094053   \n",
       "54  0.077499  0.049700  0.119428  ...  0.471992  0.049997  0.022797  0.096872   \n",
       "\n",
       "        9206      9207      9208      9209      9210      9211  \n",
       "35  0.026678  0.029618  0.032499  0.061049  0.063259  0.094229  \n",
       "3   0.024584  0.035775  0.027615  0.051569  0.056455  0.067334  \n",
       "39  0.027173  0.030187  0.033996  0.062384  0.064536  0.096678  \n",
       "14  0.025910  0.034964  0.028281  0.055886  0.060289  0.081848  \n",
       "56  0.023490  0.027512  0.032016  0.061225  0.062022  0.106508  \n",
       "22  0.024724  0.031586  0.027284  0.057536  0.059558  0.085738  \n",
       "29  0.025727  0.029612  0.030062  0.059194  0.061532  0.091006  \n",
       "58  0.023290  0.026897  0.031653  0.063266  0.062429  0.108553  \n",
       "69  0.020570  0.022953  0.028882  0.061165  0.058877  0.116367  \n",
       "54  0.023739  0.028244  0.032259  0.061774  0.062162  0.104313  \n",
       "\n",
       "[10 rows x 344 columns]"
      ]
     },
     "metadata": {},
     "output_type": "display_data"
    }
   ],
   "source": [
    "display(NLU_communes.sample(10))"
   ]
  },
  {
   "cell_type": "code",
   "execution_count": 22,
   "id": "4a076171",
   "metadata": {},
   "outputs": [
    {
     "data": {
      "text/html": [
       "<div>\n",
       "<style scoped>\n",
       "    .dataframe tbody tr th:only-of-type {\n",
       "        vertical-align: middle;\n",
       "    }\n",
       "\n",
       "    .dataframe tbody tr th {\n",
       "        vertical-align: top;\n",
       "    }\n",
       "\n",
       "    .dataframe thead th {\n",
       "        text-align: right;\n",
       "    }\n",
       "</style>\n",
       "<table border=\"1\" class=\"dataframe\">\n",
       "  <thead>\n",
       "    <tr style=\"text-align: right;\">\n",
       "      <th></th>\n",
       "      <th>Years</th>\n",
       "      <th>NLU</th>\n",
       "    </tr>\n",
       "  </thead>\n",
       "  <tbody>\n",
       "    <tr>\n",
       "      <th>25</th>\n",
       "      <td>1975</td>\n",
       "      <td>1010.41</td>\n",
       "    </tr>\n",
       "    <tr>\n",
       "      <th>11</th>\n",
       "      <td>1961</td>\n",
       "      <td>426.54</td>\n",
       "    </tr>\n",
       "    <tr>\n",
       "      <th>32</th>\n",
       "      <td>1982</td>\n",
       "      <td>1210.61</td>\n",
       "    </tr>\n",
       "    <tr>\n",
       "      <th>13</th>\n",
       "      <td>1963</td>\n",
       "      <td>506.78</td>\n",
       "    </tr>\n",
       "    <tr>\n",
       "      <th>16</th>\n",
       "      <td>1966</td>\n",
       "      <td>608.98</td>\n",
       "    </tr>\n",
       "    <tr>\n",
       "      <th>45</th>\n",
       "      <td>1995</td>\n",
       "      <td>2332.17</td>\n",
       "    </tr>\n",
       "    <tr>\n",
       "      <th>29</th>\n",
       "      <td>1979</td>\n",
       "      <td>1168.26</td>\n",
       "    </tr>\n",
       "    <tr>\n",
       "      <th>26</th>\n",
       "      <td>1976</td>\n",
       "      <td>1046.52</td>\n",
       "    </tr>\n",
       "    <tr>\n",
       "      <th>14</th>\n",
       "      <td>1964</td>\n",
       "      <td>589.22</td>\n",
       "    </tr>\n",
       "    <tr>\n",
       "      <th>50</th>\n",
       "      <td>2000</td>\n",
       "      <td>2597.21</td>\n",
       "    </tr>\n",
       "  </tbody>\n",
       "</table>\n",
       "</div>"
      ],
      "text/plain": [
       "    Years      NLU\n",
       "25   1975  1010.41\n",
       "11   1961   426.54\n",
       "32   1982  1210.61\n",
       "13   1963   506.78\n",
       "16   1966   608.98\n",
       "45   1995  2332.17\n",
       "29   1979  1168.26\n",
       "26   1976  1046.52\n",
       "14   1964   589.22\n",
       "50   2000  2597.21"
      ]
     },
     "metadata": {},
     "output_type": "display_data"
    }
   ],
   "source": [
    "display(NLU_nation.sample(10))"
   ]
  },
  {
   "cell_type": "code",
   "execution_count": 16,
   "id": "3147428e",
   "metadata": {},
   "outputs": [],
   "source": [
    "#Adding yearly use\n",
    "def calcular_consumo_anual(row):\n",
    "    year_col = 'Years'  # Nombre de la columna que contiene los años en el dataframe\n",
    "    use_col = 'NLU'  # Nombre de la columna que contiene el consumo diario en el dataframe\n",
    "\n",
    "    year = row[year_col]\n",
    "    use_col= row[use_col]\n",
    "\n",
    "    if year in y_365:\n",
    "        return use_col * 3600 * 24 * 365 #1/s*3600s/hr*24hr/d*365d/year\n",
    "    elif year in y_366:\n",
    "        return use_col * 3600 * 24 *366 #1/s*3600s/hr*24hr/d*366d/year\n",
    "    else:\n",
    "        return None  # Otra opción si el año no está en la lista de 365 días\n",
    "    \n",
    "NLU_nation['NLU_year'] = NLU_nation.apply(calcular_consumo_anual, axis=1)/1e+9 "
   ]
  },
  {
   "cell_type": "code",
   "execution_count": 16,
   "id": "eac10f06",
   "metadata": {},
   "outputs": [
    {
     "data": {
      "text/plain": [
       "Index(['Years', 'NLU'], dtype='object')"
      ]
     },
     "execution_count": 16,
     "metadata": {},
     "output_type": "execute_result"
    }
   ],
   "source": [
    "NLU_nation.columns"
   ]
  },
  {
   "cell_type": "code",
   "execution_count": 14,
   "id": "608f6492",
   "metadata": {},
   "outputs": [
    {
     "name": "stdout",
     "output_type": "stream",
     "text": [
      "Total water use: 117136.8[m³/s]\n",
      "Highest water use year: 3512.3[m³/s] in 2006\n",
      "Lowest water use year: 372.0[m³/s] in 1950\n",
      "Mean water during the last 10 years: 2922.0[m³/s]\n"
     ]
    }
   ],
   "source": [
    "#National data\n",
    "total_use = NLU_nation['NLU'].sum()\n",
    "#total_use_km3 = NLU_nation['NLU_year'].sum()\n",
    "\n",
    "#Min and max\n",
    "year_max = NLU_nation.loc[NLU_nation['NLU'].idxmax(), 'Years']\n",
    "year_min = NLU_nation.loc[NLU_nation['NLU'].idxmin(), 'Years']\n",
    "use_max = NLU_nation['NLU'].max()\n",
    "use_min = NLU_nation['NLU'].min()\n",
    "\n",
    "#Mean use in the last 10 years\n",
    "last_years = (NLU_nation['Years'] >= 2010) & (NLU_nation['Years'] <= 2020)\n",
    "NLU_last_years = NLU_nation[last_years]\n",
    "mean_use = NLU_last_years['NLU'].mean()\n",
    "\n",
    "#Mean use since 2002\n",
    "years_2002 = (NLU_nation['Years'] >= 2002) & (NLU_nation['Years'] <= 2020)\n",
    "NLU_2002 = NLU_nation[years_2002]\n",
    "mean_use_2002 = NLU_2002['NLU'].mean()\n",
    "\n",
    "\n",
    "print(\"Total water use:\", f\"{total_use:.1f}\"\"[m³/s]\") #quizás esto no tiene mucho sentido\n",
    "#print(\"Total water use:\", f\"{total_use_km3:.1f}\"\"[km³]\")\n",
    "print(\"Highest water use year:\", f\"{use_max:.1f}\" \"[m³/s]\", \"in\", year_max)\n",
    "print(\"Lowest water use year:\", f\"{use_min:.1f}\" \"[m³/s]\", \"in\",year_min)\n",
    "print(\"Mean water during the last 10 years:\", f\"{mean_use:.1f}\"\"[m³/s]\")\n",
    "#print(\"Mean water during the last 10 years per year:\", f\"{mean_use_km3:.1f}\"\"[km³/y]\")\n"
   ]
  },
  {
   "cell_type": "code",
   "execution_count": null,
   "id": "aad8f8fd",
   "metadata": {},
   "outputs": [],
   "source": [
    "#Según el Informe Mundial de las Naciones Unidas sobre el Desarrollo de los Recursos Hídricos, \n",
    "#el consumo total de agua dulce a nivel mundial se estima en alrededor de 4.600 kilómetros cúbicos (km³) por año.\n",
    "#y según Naciones Unidas, existen 195 países\n",
    "\n",
    "#4600/195 = 23.6 => cada país usa 23.6[km3] de agua dulce al año\n",
    "#92.2/23.6 =3.9 => pero Chile, usa casi 4 veces ese volumen (92.2[km3] usados en promedio entre 2010 y 2020) "
   ]
  },
  {
   "cell_type": "code",
   "execution_count": 51,
   "id": "679e73ae",
   "metadata": {},
   "outputs": [
    {
     "data": {
      "text/html": [
       "<div>\n",
       "<style scoped>\n",
       "    .dataframe tbody tr th:only-of-type {\n",
       "        vertical-align: middle;\n",
       "    }\n",
       "\n",
       "    .dataframe tbody tr th {\n",
       "        vertical-align: top;\n",
       "    }\n",
       "\n",
       "    .dataframe thead th {\n",
       "        text-align: right;\n",
       "    }\n",
       "</style>\n",
       "<table border=\"1\" class=\"dataframe\">\n",
       "  <thead>\n",
       "    <tr style=\"text-align: right;\">\n",
       "      <th></th>\n",
       "      <th>Years</th>\n",
       "      <th>NLU</th>\n",
       "    </tr>\n",
       "  </thead>\n",
       "  <tbody>\n",
       "    <tr>\n",
       "      <th>0</th>\n",
       "      <td>1950</td>\n",
       "      <td>371.98</td>\n",
       "    </tr>\n",
       "    <tr>\n",
       "      <th>1</th>\n",
       "      <td>1951</td>\n",
       "      <td>372.25</td>\n",
       "    </tr>\n",
       "    <tr>\n",
       "      <th>2</th>\n",
       "      <td>1952</td>\n",
       "      <td>372.55</td>\n",
       "    </tr>\n",
       "    <tr>\n",
       "      <th>3</th>\n",
       "      <td>1953</td>\n",
       "      <td>373.61</td>\n",
       "    </tr>\n",
       "    <tr>\n",
       "      <th>4</th>\n",
       "      <td>1954</td>\n",
       "      <td>374.20</td>\n",
       "    </tr>\n",
       "  </tbody>\n",
       "</table>\n",
       "</div>"
      ],
      "text/plain": [
       "   Years     NLU\n",
       "0   1950  371.98\n",
       "1   1951  372.25\n",
       "2   1952  372.55\n",
       "3   1953  373.61\n",
       "4   1954  374.20"
      ]
     },
     "execution_count": 51,
     "metadata": {},
     "output_type": "execute_result"
    }
   ],
   "source": [
    "NLU_nation.head()"
   ]
  },
  {
   "cell_type": "code",
   "execution_count": 50,
   "id": "8b6345ae",
   "metadata": {},
   "outputs": [
    {
     "data": {
      "application/vnd.plotly.v1+json": {
       "config": {
        "plotlyServerURL": "https://plot.ly"
       },
       "data": [
        {
         "hovertemplate": "Years=%{x}<br>Water use [km³]=%{y}<extra></extra>",
         "legendgroup": "",
         "marker": {
          "color": "#636efa",
          "symbol": "circle"
         },
         "mode": "markers",
         "name": "",
         "orientation": "v",
         "showlegend": false,
         "type": "scatter",
         "x": [
          1950,
          1951,
          1952,
          1953,
          1954,
          1955,
          1956,
          1957,
          1958,
          1959,
          1960,
          1961,
          1962,
          1963,
          1964,
          1965,
          1966,
          1967,
          1968,
          1969,
          1970,
          1971,
          1972,
          1973,
          1974,
          1975,
          1976,
          1977,
          1978,
          1979,
          1980,
          1981,
          1982,
          1983,
          1984,
          1985,
          1986,
          1987,
          1988,
          1989,
          1990,
          1991,
          1992,
          1993,
          1994,
          1995,
          1996,
          1997,
          1998,
          1999,
          2000,
          2001,
          2002,
          2003,
          2004,
          2005,
          2006,
          2007,
          2008,
          2009,
          2010,
          2011,
          2012,
          2013,
          2014,
          2015,
          2016,
          2017,
          2018,
          2019,
          2020
         ],
         "xaxis": "x",
         "y": [
          371.98,
          372.25,
          372.55,
          373.61,
          374.2,
          374.83,
          386.31,
          386.82,
          387.33,
          387.95,
          425.95,
          426.54,
          427.42,
          506.78,
          589.22,
          581.84,
          608.98,
          621.29,
          539.02,
          848.28,
          902.97,
          995.23,
          1147.35,
          1141.25,
          1005.4,
          1010.41,
          1046.52,
          1088.73,
          1129.33,
          1168.26,
          1217.45,
          1274.09,
          1210.61,
          1317.29,
          1353.58,
          1509.21,
          1576.55,
          1700.89,
          1694.19,
          1447.51,
          1252.81,
          2097.78,
          2288.9,
          2355.43,
          2194.87,
          2332.17,
          1786.25,
          2637.05,
          2050.84,
          1809.05,
          2597.21,
          2895.19,
          3050.61,
          2772.61,
          2715.1,
          3276.18,
          3512.31,
          2833.89,
          3099.25,
          3137.54,
          2794.58,
          2597.94,
          2711.39,
          2649.47,
          3343.9,
          3318.4,
          2623.62,
          3175.38,
          3325.53,
          2717.58,
          2883.97
         ],
         "yaxis": "y"
        },
        {
         "hovertemplate": "<b>OLS trendline</b><br>NLU = 47.4282 * Years + -92495.2<br>R<sup>2</sup>=0.917540<br><br>Years=%{x}<br>Water use [km³]=%{y} <b>(trend)</b><extra></extra>",
         "legendgroup": "",
         "marker": {
          "color": "#636efa",
          "symbol": "circle"
         },
         "mode": "lines",
         "name": "",
         "showlegend": false,
         "type": "scatter",
         "x": [
          1950,
          1951,
          1952,
          1953,
          1954,
          1955,
          1956,
          1957,
          1958,
          1959,
          1960,
          1961,
          1962,
          1963,
          1964,
          1965,
          1966,
          1967,
          1968,
          1969,
          1970,
          1971,
          1972,
          1973,
          1974,
          1975,
          1976,
          1977,
          1978,
          1979,
          1980,
          1981,
          1982,
          1983,
          1984,
          1985,
          1986,
          1987,
          1988,
          1989,
          1990,
          1991,
          1992,
          1993,
          1994,
          1995,
          1996,
          1997,
          1998,
          1999,
          2000,
          2001,
          2002,
          2003,
          2004,
          2005,
          2006,
          2007,
          2008,
          2009,
          2010,
          2011,
          2012,
          2013,
          2014,
          2015,
          2016,
          2017,
          2018,
          2019,
          2020
         ],
         "xaxis": "x",
         "y": [
          -10.173978873324813,
          37.254239436544594,
          84.68245774639945,
          132.1106760562543,
          179.5388943661237,
          226.96711267597857,
          274.3953309858334,
          321.82354929570283,
          369.2517676055577,
          416.67998591541254,
          464.10820422528195,
          511.5364225351368,
          558.9646408449917,
          606.3928591548611,
          653.8210774647159,
          701.2492957745708,
          748.6775140844256,
          796.105732394295,
          843.5339507041499,
          890.9621690140048,
          938.3903873238742,
          985.818605633729,
          1033.2468239435839,
          1080.6750422534533,
          1128.1032605633081,
          1175.531478873163,
          1222.9596971830324,
          1270.3879154928873,
          1317.8161338027421,
          1365.2443521126115,
          1412.6725704224664,
          1460.1007887323212,
          1507.5290070421906,
          1554.9572253520455,
          1602.3854436619004,
          1649.8136619717698,
          1697.2418802816246,
          1744.6700985914795,
          1792.0983169013489,
          1839.5265352112037,
          1886.9547535210586,
          1934.382971830928,
          1981.8111901407829,
          2029.2394084506377,
          2076.667626760507,
          2124.095845070362,
          2171.524063380217,
          2218.9522816900862,
          2266.380499999941,
          2313.808718309796,
          2361.236936619651,
          2408.66515492952,
          2456.093373239375,
          2503.52159154923,
          2550.9498098590993,
          2598.378028168954,
          2645.806246478809,
          2693.2344647886785,
          2740.6626830985333,
          2788.090901408388,
          2835.5191197182576,
          2882.9473380281124,
          2930.3755563379673,
          2977.8037746478367,
          3025.2319929576915,
          3072.6602112675464,
          3120.088429577416,
          3167.5166478872707,
          3214.9448661971255,
          3262.373084506995,
          3309.80130281685
         ],
         "yaxis": "y"
        }
       ],
       "layout": {
        "annotations": [
         {
          "align": "right",
          "font": {
           "size": 12
          },
          "showarrow": false,
          "text": "R-squared: 0.92",
          "x": 2020,
          "y": 1000
         }
        ],
        "legend": {
         "tracegroupgap": 0
        },
        "template": {
         "data": {
          "bar": [
           {
            "error_x": {
             "color": "#2a3f5f"
            },
            "error_y": {
             "color": "#2a3f5f"
            },
            "marker": {
             "line": {
              "color": "#E5ECF6",
              "width": 0.5
             },
             "pattern": {
              "fillmode": "overlay",
              "size": 10,
              "solidity": 0.2
             }
            },
            "type": "bar"
           }
          ],
          "barpolar": [
           {
            "marker": {
             "line": {
              "color": "#E5ECF6",
              "width": 0.5
             },
             "pattern": {
              "fillmode": "overlay",
              "size": 10,
              "solidity": 0.2
             }
            },
            "type": "barpolar"
           }
          ],
          "carpet": [
           {
            "aaxis": {
             "endlinecolor": "#2a3f5f",
             "gridcolor": "white",
             "linecolor": "white",
             "minorgridcolor": "white",
             "startlinecolor": "#2a3f5f"
            },
            "baxis": {
             "endlinecolor": "#2a3f5f",
             "gridcolor": "white",
             "linecolor": "white",
             "minorgridcolor": "white",
             "startlinecolor": "#2a3f5f"
            },
            "type": "carpet"
           }
          ],
          "choropleth": [
           {
            "colorbar": {
             "outlinewidth": 0,
             "ticks": ""
            },
            "type": "choropleth"
           }
          ],
          "contour": [
           {
            "colorbar": {
             "outlinewidth": 0,
             "ticks": ""
            },
            "colorscale": [
             [
              0,
              "#0d0887"
             ],
             [
              0.1111111111111111,
              "#46039f"
             ],
             [
              0.2222222222222222,
              "#7201a8"
             ],
             [
              0.3333333333333333,
              "#9c179e"
             ],
             [
              0.4444444444444444,
              "#bd3786"
             ],
             [
              0.5555555555555556,
              "#d8576b"
             ],
             [
              0.6666666666666666,
              "#ed7953"
             ],
             [
              0.7777777777777778,
              "#fb9f3a"
             ],
             [
              0.8888888888888888,
              "#fdca26"
             ],
             [
              1,
              "#f0f921"
             ]
            ],
            "type": "contour"
           }
          ],
          "contourcarpet": [
           {
            "colorbar": {
             "outlinewidth": 0,
             "ticks": ""
            },
            "type": "contourcarpet"
           }
          ],
          "heatmap": [
           {
            "colorbar": {
             "outlinewidth": 0,
             "ticks": ""
            },
            "colorscale": [
             [
              0,
              "#0d0887"
             ],
             [
              0.1111111111111111,
              "#46039f"
             ],
             [
              0.2222222222222222,
              "#7201a8"
             ],
             [
              0.3333333333333333,
              "#9c179e"
             ],
             [
              0.4444444444444444,
              "#bd3786"
             ],
             [
              0.5555555555555556,
              "#d8576b"
             ],
             [
              0.6666666666666666,
              "#ed7953"
             ],
             [
              0.7777777777777778,
              "#fb9f3a"
             ],
             [
              0.8888888888888888,
              "#fdca26"
             ],
             [
              1,
              "#f0f921"
             ]
            ],
            "type": "heatmap"
           }
          ],
          "heatmapgl": [
           {
            "colorbar": {
             "outlinewidth": 0,
             "ticks": ""
            },
            "colorscale": [
             [
              0,
              "#0d0887"
             ],
             [
              0.1111111111111111,
              "#46039f"
             ],
             [
              0.2222222222222222,
              "#7201a8"
             ],
             [
              0.3333333333333333,
              "#9c179e"
             ],
             [
              0.4444444444444444,
              "#bd3786"
             ],
             [
              0.5555555555555556,
              "#d8576b"
             ],
             [
              0.6666666666666666,
              "#ed7953"
             ],
             [
              0.7777777777777778,
              "#fb9f3a"
             ],
             [
              0.8888888888888888,
              "#fdca26"
             ],
             [
              1,
              "#f0f921"
             ]
            ],
            "type": "heatmapgl"
           }
          ],
          "histogram": [
           {
            "marker": {
             "pattern": {
              "fillmode": "overlay",
              "size": 10,
              "solidity": 0.2
             }
            },
            "type": "histogram"
           }
          ],
          "histogram2d": [
           {
            "colorbar": {
             "outlinewidth": 0,
             "ticks": ""
            },
            "colorscale": [
             [
              0,
              "#0d0887"
             ],
             [
              0.1111111111111111,
              "#46039f"
             ],
             [
              0.2222222222222222,
              "#7201a8"
             ],
             [
              0.3333333333333333,
              "#9c179e"
             ],
             [
              0.4444444444444444,
              "#bd3786"
             ],
             [
              0.5555555555555556,
              "#d8576b"
             ],
             [
              0.6666666666666666,
              "#ed7953"
             ],
             [
              0.7777777777777778,
              "#fb9f3a"
             ],
             [
              0.8888888888888888,
              "#fdca26"
             ],
             [
              1,
              "#f0f921"
             ]
            ],
            "type": "histogram2d"
           }
          ],
          "histogram2dcontour": [
           {
            "colorbar": {
             "outlinewidth": 0,
             "ticks": ""
            },
            "colorscale": [
             [
              0,
              "#0d0887"
             ],
             [
              0.1111111111111111,
              "#46039f"
             ],
             [
              0.2222222222222222,
              "#7201a8"
             ],
             [
              0.3333333333333333,
              "#9c179e"
             ],
             [
              0.4444444444444444,
              "#bd3786"
             ],
             [
              0.5555555555555556,
              "#d8576b"
             ],
             [
              0.6666666666666666,
              "#ed7953"
             ],
             [
              0.7777777777777778,
              "#fb9f3a"
             ],
             [
              0.8888888888888888,
              "#fdca26"
             ],
             [
              1,
              "#f0f921"
             ]
            ],
            "type": "histogram2dcontour"
           }
          ],
          "mesh3d": [
           {
            "colorbar": {
             "outlinewidth": 0,
             "ticks": ""
            },
            "type": "mesh3d"
           }
          ],
          "parcoords": [
           {
            "line": {
             "colorbar": {
              "outlinewidth": 0,
              "ticks": ""
             }
            },
            "type": "parcoords"
           }
          ],
          "pie": [
           {
            "automargin": true,
            "type": "pie"
           }
          ],
          "scatter": [
           {
            "fillpattern": {
             "fillmode": "overlay",
             "size": 10,
             "solidity": 0.2
            },
            "type": "scatter"
           }
          ],
          "scatter3d": [
           {
            "line": {
             "colorbar": {
              "outlinewidth": 0,
              "ticks": ""
             }
            },
            "marker": {
             "colorbar": {
              "outlinewidth": 0,
              "ticks": ""
             }
            },
            "type": "scatter3d"
           }
          ],
          "scattercarpet": [
           {
            "marker": {
             "colorbar": {
              "outlinewidth": 0,
              "ticks": ""
             }
            },
            "type": "scattercarpet"
           }
          ],
          "scattergeo": [
           {
            "marker": {
             "colorbar": {
              "outlinewidth": 0,
              "ticks": ""
             }
            },
            "type": "scattergeo"
           }
          ],
          "scattergl": [
           {
            "marker": {
             "colorbar": {
              "outlinewidth": 0,
              "ticks": ""
             }
            },
            "type": "scattergl"
           }
          ],
          "scattermapbox": [
           {
            "marker": {
             "colorbar": {
              "outlinewidth": 0,
              "ticks": ""
             }
            },
            "type": "scattermapbox"
           }
          ],
          "scatterpolar": [
           {
            "marker": {
             "colorbar": {
              "outlinewidth": 0,
              "ticks": ""
             }
            },
            "type": "scatterpolar"
           }
          ],
          "scatterpolargl": [
           {
            "marker": {
             "colorbar": {
              "outlinewidth": 0,
              "ticks": ""
             }
            },
            "type": "scatterpolargl"
           }
          ],
          "scatterternary": [
           {
            "marker": {
             "colorbar": {
              "outlinewidth": 0,
              "ticks": ""
             }
            },
            "type": "scatterternary"
           }
          ],
          "surface": [
           {
            "colorbar": {
             "outlinewidth": 0,
             "ticks": ""
            },
            "colorscale": [
             [
              0,
              "#0d0887"
             ],
             [
              0.1111111111111111,
              "#46039f"
             ],
             [
              0.2222222222222222,
              "#7201a8"
             ],
             [
              0.3333333333333333,
              "#9c179e"
             ],
             [
              0.4444444444444444,
              "#bd3786"
             ],
             [
              0.5555555555555556,
              "#d8576b"
             ],
             [
              0.6666666666666666,
              "#ed7953"
             ],
             [
              0.7777777777777778,
              "#fb9f3a"
             ],
             [
              0.8888888888888888,
              "#fdca26"
             ],
             [
              1,
              "#f0f921"
             ]
            ],
            "type": "surface"
           }
          ],
          "table": [
           {
            "cells": {
             "fill": {
              "color": "#EBF0F8"
             },
             "line": {
              "color": "white"
             }
            },
            "header": {
             "fill": {
              "color": "#C8D4E3"
             },
             "line": {
              "color": "white"
             }
            },
            "type": "table"
           }
          ]
         },
         "layout": {
          "annotationdefaults": {
           "arrowcolor": "#2a3f5f",
           "arrowhead": 0,
           "arrowwidth": 1
          },
          "autotypenumbers": "strict",
          "coloraxis": {
           "colorbar": {
            "outlinewidth": 0,
            "ticks": ""
           }
          },
          "colorscale": {
           "diverging": [
            [
             0,
             "#8e0152"
            ],
            [
             0.1,
             "#c51b7d"
            ],
            [
             0.2,
             "#de77ae"
            ],
            [
             0.3,
             "#f1b6da"
            ],
            [
             0.4,
             "#fde0ef"
            ],
            [
             0.5,
             "#f7f7f7"
            ],
            [
             0.6,
             "#e6f5d0"
            ],
            [
             0.7,
             "#b8e186"
            ],
            [
             0.8,
             "#7fbc41"
            ],
            [
             0.9,
             "#4d9221"
            ],
            [
             1,
             "#276419"
            ]
           ],
           "sequential": [
            [
             0,
             "#0d0887"
            ],
            [
             0.1111111111111111,
             "#46039f"
            ],
            [
             0.2222222222222222,
             "#7201a8"
            ],
            [
             0.3333333333333333,
             "#9c179e"
            ],
            [
             0.4444444444444444,
             "#bd3786"
            ],
            [
             0.5555555555555556,
             "#d8576b"
            ],
            [
             0.6666666666666666,
             "#ed7953"
            ],
            [
             0.7777777777777778,
             "#fb9f3a"
            ],
            [
             0.8888888888888888,
             "#fdca26"
            ],
            [
             1,
             "#f0f921"
            ]
           ],
           "sequentialminus": [
            [
             0,
             "#0d0887"
            ],
            [
             0.1111111111111111,
             "#46039f"
            ],
            [
             0.2222222222222222,
             "#7201a8"
            ],
            [
             0.3333333333333333,
             "#9c179e"
            ],
            [
             0.4444444444444444,
             "#bd3786"
            ],
            [
             0.5555555555555556,
             "#d8576b"
            ],
            [
             0.6666666666666666,
             "#ed7953"
            ],
            [
             0.7777777777777778,
             "#fb9f3a"
            ],
            [
             0.8888888888888888,
             "#fdca26"
            ],
            [
             1,
             "#f0f921"
            ]
           ]
          },
          "colorway": [
           "#636efa",
           "#EF553B",
           "#00cc96",
           "#ab63fa",
           "#FFA15A",
           "#19d3f3",
           "#FF6692",
           "#B6E880",
           "#FF97FF",
           "#FECB52"
          ],
          "font": {
           "color": "#2a3f5f"
          },
          "geo": {
           "bgcolor": "white",
           "lakecolor": "white",
           "landcolor": "#E5ECF6",
           "showlakes": true,
           "showland": true,
           "subunitcolor": "white"
          },
          "hoverlabel": {
           "align": "left"
          },
          "hovermode": "closest",
          "mapbox": {
           "style": "light"
          },
          "paper_bgcolor": "white",
          "plot_bgcolor": "#E5ECF6",
          "polar": {
           "angularaxis": {
            "gridcolor": "white",
            "linecolor": "white",
            "ticks": ""
           },
           "bgcolor": "#E5ECF6",
           "radialaxis": {
            "gridcolor": "white",
            "linecolor": "white",
            "ticks": ""
           }
          },
          "scene": {
           "xaxis": {
            "backgroundcolor": "#E5ECF6",
            "gridcolor": "white",
            "gridwidth": 2,
            "linecolor": "white",
            "showbackground": true,
            "ticks": "",
            "zerolinecolor": "white"
           },
           "yaxis": {
            "backgroundcolor": "#E5ECF6",
            "gridcolor": "white",
            "gridwidth": 2,
            "linecolor": "white",
            "showbackground": true,
            "ticks": "",
            "zerolinecolor": "white"
           },
           "zaxis": {
            "backgroundcolor": "#E5ECF6",
            "gridcolor": "white",
            "gridwidth": 2,
            "linecolor": "white",
            "showbackground": true,
            "ticks": "",
            "zerolinecolor": "white"
           }
          },
          "shapedefaults": {
           "line": {
            "color": "#2a3f5f"
           }
          },
          "ternary": {
           "aaxis": {
            "gridcolor": "white",
            "linecolor": "white",
            "ticks": ""
           },
           "baxis": {
            "gridcolor": "white",
            "linecolor": "white",
            "ticks": ""
           },
           "bgcolor": "#E5ECF6",
           "caxis": {
            "gridcolor": "white",
            "linecolor": "white",
            "ticks": ""
           }
          },
          "title": {
           "x": 0.05
          },
          "xaxis": {
           "automargin": true,
           "gridcolor": "white",
           "linecolor": "white",
           "ticks": "",
           "title": {
            "standoff": 15
           },
           "zerolinecolor": "white",
           "zerolinewidth": 2
          },
          "yaxis": {
           "automargin": true,
           "gridcolor": "white",
           "linecolor": "white",
           "ticks": "",
           "title": {
            "standoff": 15
           },
           "zerolinecolor": "white",
           "zerolinewidth": 2
          }
         }
        },
        "title": {
         "text": "Non Land Water Use in Chile"
        },
        "xaxis": {
         "anchor": "y",
         "domain": [
          0,
          1
         ],
         "title": {
          "text": "Years"
         }
        },
        "yaxis": {
         "anchor": "x",
         "domain": [
          0,
          1
         ],
         "title": {
          "text": "Water use [km³]"
         }
        }
       }
      }
     },
     "metadata": {},
     "output_type": "display_data"
    },
    {
     "data": {
      "application/vnd.plotly.v1+json": {
       "config": {
        "plotlyServerURL": "https://plot.ly"
       },
       "data": [
        {
         "hovertemplate": "Años=%{x}<br>Uso de acgua [m³/s]=%{y}<extra></extra>",
         "legendgroup": "",
         "marker": {
          "color": "#636efa",
          "symbol": "circle"
         },
         "mode": "markers",
         "name": "",
         "orientation": "v",
         "showlegend": false,
         "type": "scatter",
         "x": [
          1950,
          1951,
          1952,
          1953,
          1954,
          1955,
          1956,
          1957,
          1958,
          1959,
          1960,
          1961,
          1962,
          1963,
          1964,
          1965,
          1966,
          1967,
          1968,
          1969,
          1970,
          1971,
          1972,
          1973,
          1974,
          1975,
          1976,
          1977,
          1978,
          1979,
          1980,
          1981,
          1982,
          1983,
          1984,
          1985,
          1986,
          1987,
          1988,
          1989,
          1990,
          1991,
          1992,
          1993,
          1994,
          1995,
          1996,
          1997,
          1998,
          1999,
          2000,
          2001,
          2002,
          2003,
          2004,
          2005,
          2006,
          2007,
          2008,
          2009,
          2010,
          2011,
          2012,
          2013,
          2014,
          2015,
          2016,
          2017,
          2018,
          2019,
          2020
         ],
         "xaxis": "x",
         "y": [
          371.98,
          372.25,
          372.55,
          373.61,
          374.2,
          374.83,
          386.31,
          386.82,
          387.33,
          387.95,
          425.95,
          426.54,
          427.42,
          506.78,
          589.22,
          581.84,
          608.98,
          621.29,
          539.02,
          848.28,
          902.97,
          995.23,
          1147.35,
          1141.25,
          1005.4,
          1010.41,
          1046.52,
          1088.73,
          1129.33,
          1168.26,
          1217.45,
          1274.09,
          1210.61,
          1317.29,
          1353.58,
          1509.21,
          1576.55,
          1700.89,
          1694.19,
          1447.51,
          1252.81,
          2097.78,
          2288.9,
          2355.43,
          2194.87,
          2332.17,
          1786.25,
          2637.05,
          2050.84,
          1809.05,
          2597.21,
          2895.19,
          3050.61,
          2772.61,
          2715.1,
          3276.18,
          3512.31,
          2833.89,
          3099.25,
          3137.54,
          2794.58,
          2597.94,
          2711.39,
          2649.47,
          3343.9,
          3318.4,
          2623.62,
          3175.38,
          3325.53,
          2717.58,
          2883.97
         ],
         "yaxis": "y"
        },
        {
         "hovertemplate": "<b>OLS trendline</b><br>NLU = 47.4282 * Years + -92495.2<br>R<sup>2</sup>=0.917540<br><br>Años=%{x}<br>Uso de acgua [m³/s]=%{y} <b>(trend)</b><extra></extra>",
         "legendgroup": "",
         "marker": {
          "color": "#636efa",
          "symbol": "circle"
         },
         "mode": "lines",
         "name": "",
         "showlegend": false,
         "type": "scatter",
         "x": [
          1950,
          1951,
          1952,
          1953,
          1954,
          1955,
          1956,
          1957,
          1958,
          1959,
          1960,
          1961,
          1962,
          1963,
          1964,
          1965,
          1966,
          1967,
          1968,
          1969,
          1970,
          1971,
          1972,
          1973,
          1974,
          1975,
          1976,
          1977,
          1978,
          1979,
          1980,
          1981,
          1982,
          1983,
          1984,
          1985,
          1986,
          1987,
          1988,
          1989,
          1990,
          1991,
          1992,
          1993,
          1994,
          1995,
          1996,
          1997,
          1998,
          1999,
          2000,
          2001,
          2002,
          2003,
          2004,
          2005,
          2006,
          2007,
          2008,
          2009,
          2010,
          2011,
          2012,
          2013,
          2014,
          2015,
          2016,
          2017,
          2018,
          2019,
          2020
         ],
         "xaxis": "x",
         "y": [
          -10.173978873324813,
          37.254239436544594,
          84.68245774639945,
          132.1106760562543,
          179.5388943661237,
          226.96711267597857,
          274.3953309858334,
          321.82354929570283,
          369.2517676055577,
          416.67998591541254,
          464.10820422528195,
          511.5364225351368,
          558.9646408449917,
          606.3928591548611,
          653.8210774647159,
          701.2492957745708,
          748.6775140844256,
          796.105732394295,
          843.5339507041499,
          890.9621690140048,
          938.3903873238742,
          985.818605633729,
          1033.2468239435839,
          1080.6750422534533,
          1128.1032605633081,
          1175.531478873163,
          1222.9596971830324,
          1270.3879154928873,
          1317.8161338027421,
          1365.2443521126115,
          1412.6725704224664,
          1460.1007887323212,
          1507.5290070421906,
          1554.9572253520455,
          1602.3854436619004,
          1649.8136619717698,
          1697.2418802816246,
          1744.6700985914795,
          1792.0983169013489,
          1839.5265352112037,
          1886.9547535210586,
          1934.382971830928,
          1981.8111901407829,
          2029.2394084506377,
          2076.667626760507,
          2124.095845070362,
          2171.524063380217,
          2218.9522816900862,
          2266.380499999941,
          2313.808718309796,
          2361.236936619651,
          2408.66515492952,
          2456.093373239375,
          2503.52159154923,
          2550.9498098590993,
          2598.378028168954,
          2645.806246478809,
          2693.2344647886785,
          2740.6626830985333,
          2788.090901408388,
          2835.5191197182576,
          2882.9473380281124,
          2930.3755563379673,
          2977.8037746478367,
          3025.2319929576915,
          3072.6602112675464,
          3120.088429577416,
          3167.5166478872707,
          3214.9448661971255,
          3262.373084506995,
          3309.80130281685
         ],
         "yaxis": "y"
        }
       ],
       "layout": {
        "annotations": [
         {
          "align": "right",
          "font": {
           "size": 12
          },
          "showarrow": false,
          "text": "R cuadrado: 0.92",
          "x": 2020,
          "y": 1000
         }
        ],
        "legend": {
         "tracegroupgap": 0
        },
        "template": {
         "data": {
          "bar": [
           {
            "error_x": {
             "color": "#2a3f5f"
            },
            "error_y": {
             "color": "#2a3f5f"
            },
            "marker": {
             "line": {
              "color": "#E5ECF6",
              "width": 0.5
             },
             "pattern": {
              "fillmode": "overlay",
              "size": 10,
              "solidity": 0.2
             }
            },
            "type": "bar"
           }
          ],
          "barpolar": [
           {
            "marker": {
             "line": {
              "color": "#E5ECF6",
              "width": 0.5
             },
             "pattern": {
              "fillmode": "overlay",
              "size": 10,
              "solidity": 0.2
             }
            },
            "type": "barpolar"
           }
          ],
          "carpet": [
           {
            "aaxis": {
             "endlinecolor": "#2a3f5f",
             "gridcolor": "white",
             "linecolor": "white",
             "minorgridcolor": "white",
             "startlinecolor": "#2a3f5f"
            },
            "baxis": {
             "endlinecolor": "#2a3f5f",
             "gridcolor": "white",
             "linecolor": "white",
             "minorgridcolor": "white",
             "startlinecolor": "#2a3f5f"
            },
            "type": "carpet"
           }
          ],
          "choropleth": [
           {
            "colorbar": {
             "outlinewidth": 0,
             "ticks": ""
            },
            "type": "choropleth"
           }
          ],
          "contour": [
           {
            "colorbar": {
             "outlinewidth": 0,
             "ticks": ""
            },
            "colorscale": [
             [
              0,
              "#0d0887"
             ],
             [
              0.1111111111111111,
              "#46039f"
             ],
             [
              0.2222222222222222,
              "#7201a8"
             ],
             [
              0.3333333333333333,
              "#9c179e"
             ],
             [
              0.4444444444444444,
              "#bd3786"
             ],
             [
              0.5555555555555556,
              "#d8576b"
             ],
             [
              0.6666666666666666,
              "#ed7953"
             ],
             [
              0.7777777777777778,
              "#fb9f3a"
             ],
             [
              0.8888888888888888,
              "#fdca26"
             ],
             [
              1,
              "#f0f921"
             ]
            ],
            "type": "contour"
           }
          ],
          "contourcarpet": [
           {
            "colorbar": {
             "outlinewidth": 0,
             "ticks": ""
            },
            "type": "contourcarpet"
           }
          ],
          "heatmap": [
           {
            "colorbar": {
             "outlinewidth": 0,
             "ticks": ""
            },
            "colorscale": [
             [
              0,
              "#0d0887"
             ],
             [
              0.1111111111111111,
              "#46039f"
             ],
             [
              0.2222222222222222,
              "#7201a8"
             ],
             [
              0.3333333333333333,
              "#9c179e"
             ],
             [
              0.4444444444444444,
              "#bd3786"
             ],
             [
              0.5555555555555556,
              "#d8576b"
             ],
             [
              0.6666666666666666,
              "#ed7953"
             ],
             [
              0.7777777777777778,
              "#fb9f3a"
             ],
             [
              0.8888888888888888,
              "#fdca26"
             ],
             [
              1,
              "#f0f921"
             ]
            ],
            "type": "heatmap"
           }
          ],
          "heatmapgl": [
           {
            "colorbar": {
             "outlinewidth": 0,
             "ticks": ""
            },
            "colorscale": [
             [
              0,
              "#0d0887"
             ],
             [
              0.1111111111111111,
              "#46039f"
             ],
             [
              0.2222222222222222,
              "#7201a8"
             ],
             [
              0.3333333333333333,
              "#9c179e"
             ],
             [
              0.4444444444444444,
              "#bd3786"
             ],
             [
              0.5555555555555556,
              "#d8576b"
             ],
             [
              0.6666666666666666,
              "#ed7953"
             ],
             [
              0.7777777777777778,
              "#fb9f3a"
             ],
             [
              0.8888888888888888,
              "#fdca26"
             ],
             [
              1,
              "#f0f921"
             ]
            ],
            "type": "heatmapgl"
           }
          ],
          "histogram": [
           {
            "marker": {
             "pattern": {
              "fillmode": "overlay",
              "size": 10,
              "solidity": 0.2
             }
            },
            "type": "histogram"
           }
          ],
          "histogram2d": [
           {
            "colorbar": {
             "outlinewidth": 0,
             "ticks": ""
            },
            "colorscale": [
             [
              0,
              "#0d0887"
             ],
             [
              0.1111111111111111,
              "#46039f"
             ],
             [
              0.2222222222222222,
              "#7201a8"
             ],
             [
              0.3333333333333333,
              "#9c179e"
             ],
             [
              0.4444444444444444,
              "#bd3786"
             ],
             [
              0.5555555555555556,
              "#d8576b"
             ],
             [
              0.6666666666666666,
              "#ed7953"
             ],
             [
              0.7777777777777778,
              "#fb9f3a"
             ],
             [
              0.8888888888888888,
              "#fdca26"
             ],
             [
              1,
              "#f0f921"
             ]
            ],
            "type": "histogram2d"
           }
          ],
          "histogram2dcontour": [
           {
            "colorbar": {
             "outlinewidth": 0,
             "ticks": ""
            },
            "colorscale": [
             [
              0,
              "#0d0887"
             ],
             [
              0.1111111111111111,
              "#46039f"
             ],
             [
              0.2222222222222222,
              "#7201a8"
             ],
             [
              0.3333333333333333,
              "#9c179e"
             ],
             [
              0.4444444444444444,
              "#bd3786"
             ],
             [
              0.5555555555555556,
              "#d8576b"
             ],
             [
              0.6666666666666666,
              "#ed7953"
             ],
             [
              0.7777777777777778,
              "#fb9f3a"
             ],
             [
              0.8888888888888888,
              "#fdca26"
             ],
             [
              1,
              "#f0f921"
             ]
            ],
            "type": "histogram2dcontour"
           }
          ],
          "mesh3d": [
           {
            "colorbar": {
             "outlinewidth": 0,
             "ticks": ""
            },
            "type": "mesh3d"
           }
          ],
          "parcoords": [
           {
            "line": {
             "colorbar": {
              "outlinewidth": 0,
              "ticks": ""
             }
            },
            "type": "parcoords"
           }
          ],
          "pie": [
           {
            "automargin": true,
            "type": "pie"
           }
          ],
          "scatter": [
           {
            "fillpattern": {
             "fillmode": "overlay",
             "size": 10,
             "solidity": 0.2
            },
            "type": "scatter"
           }
          ],
          "scatter3d": [
           {
            "line": {
             "colorbar": {
              "outlinewidth": 0,
              "ticks": ""
             }
            },
            "marker": {
             "colorbar": {
              "outlinewidth": 0,
              "ticks": ""
             }
            },
            "type": "scatter3d"
           }
          ],
          "scattercarpet": [
           {
            "marker": {
             "colorbar": {
              "outlinewidth": 0,
              "ticks": ""
             }
            },
            "type": "scattercarpet"
           }
          ],
          "scattergeo": [
           {
            "marker": {
             "colorbar": {
              "outlinewidth": 0,
              "ticks": ""
             }
            },
            "type": "scattergeo"
           }
          ],
          "scattergl": [
           {
            "marker": {
             "colorbar": {
              "outlinewidth": 0,
              "ticks": ""
             }
            },
            "type": "scattergl"
           }
          ],
          "scattermapbox": [
           {
            "marker": {
             "colorbar": {
              "outlinewidth": 0,
              "ticks": ""
             }
            },
            "type": "scattermapbox"
           }
          ],
          "scatterpolar": [
           {
            "marker": {
             "colorbar": {
              "outlinewidth": 0,
              "ticks": ""
             }
            },
            "type": "scatterpolar"
           }
          ],
          "scatterpolargl": [
           {
            "marker": {
             "colorbar": {
              "outlinewidth": 0,
              "ticks": ""
             }
            },
            "type": "scatterpolargl"
           }
          ],
          "scatterternary": [
           {
            "marker": {
             "colorbar": {
              "outlinewidth": 0,
              "ticks": ""
             }
            },
            "type": "scatterternary"
           }
          ],
          "surface": [
           {
            "colorbar": {
             "outlinewidth": 0,
             "ticks": ""
            },
            "colorscale": [
             [
              0,
              "#0d0887"
             ],
             [
              0.1111111111111111,
              "#46039f"
             ],
             [
              0.2222222222222222,
              "#7201a8"
             ],
             [
              0.3333333333333333,
              "#9c179e"
             ],
             [
              0.4444444444444444,
              "#bd3786"
             ],
             [
              0.5555555555555556,
              "#d8576b"
             ],
             [
              0.6666666666666666,
              "#ed7953"
             ],
             [
              0.7777777777777778,
              "#fb9f3a"
             ],
             [
              0.8888888888888888,
              "#fdca26"
             ],
             [
              1,
              "#f0f921"
             ]
            ],
            "type": "surface"
           }
          ],
          "table": [
           {
            "cells": {
             "fill": {
              "color": "#EBF0F8"
             },
             "line": {
              "color": "white"
             }
            },
            "header": {
             "fill": {
              "color": "#C8D4E3"
             },
             "line": {
              "color": "white"
             }
            },
            "type": "table"
           }
          ]
         },
         "layout": {
          "annotationdefaults": {
           "arrowcolor": "#2a3f5f",
           "arrowhead": 0,
           "arrowwidth": 1
          },
          "autotypenumbers": "strict",
          "coloraxis": {
           "colorbar": {
            "outlinewidth": 0,
            "ticks": ""
           }
          },
          "colorscale": {
           "diverging": [
            [
             0,
             "#8e0152"
            ],
            [
             0.1,
             "#c51b7d"
            ],
            [
             0.2,
             "#de77ae"
            ],
            [
             0.3,
             "#f1b6da"
            ],
            [
             0.4,
             "#fde0ef"
            ],
            [
             0.5,
             "#f7f7f7"
            ],
            [
             0.6,
             "#e6f5d0"
            ],
            [
             0.7,
             "#b8e186"
            ],
            [
             0.8,
             "#7fbc41"
            ],
            [
             0.9,
             "#4d9221"
            ],
            [
             1,
             "#276419"
            ]
           ],
           "sequential": [
            [
             0,
             "#0d0887"
            ],
            [
             0.1111111111111111,
             "#46039f"
            ],
            [
             0.2222222222222222,
             "#7201a8"
            ],
            [
             0.3333333333333333,
             "#9c179e"
            ],
            [
             0.4444444444444444,
             "#bd3786"
            ],
            [
             0.5555555555555556,
             "#d8576b"
            ],
            [
             0.6666666666666666,
             "#ed7953"
            ],
            [
             0.7777777777777778,
             "#fb9f3a"
            ],
            [
             0.8888888888888888,
             "#fdca26"
            ],
            [
             1,
             "#f0f921"
            ]
           ],
           "sequentialminus": [
            [
             0,
             "#0d0887"
            ],
            [
             0.1111111111111111,
             "#46039f"
            ],
            [
             0.2222222222222222,
             "#7201a8"
            ],
            [
             0.3333333333333333,
             "#9c179e"
            ],
            [
             0.4444444444444444,
             "#bd3786"
            ],
            [
             0.5555555555555556,
             "#d8576b"
            ],
            [
             0.6666666666666666,
             "#ed7953"
            ],
            [
             0.7777777777777778,
             "#fb9f3a"
            ],
            [
             0.8888888888888888,
             "#fdca26"
            ],
            [
             1,
             "#f0f921"
            ]
           ]
          },
          "colorway": [
           "#636efa",
           "#EF553B",
           "#00cc96",
           "#ab63fa",
           "#FFA15A",
           "#19d3f3",
           "#FF6692",
           "#B6E880",
           "#FF97FF",
           "#FECB52"
          ],
          "font": {
           "color": "#2a3f5f"
          },
          "geo": {
           "bgcolor": "white",
           "lakecolor": "white",
           "landcolor": "#E5ECF6",
           "showlakes": true,
           "showland": true,
           "subunitcolor": "white"
          },
          "hoverlabel": {
           "align": "left"
          },
          "hovermode": "closest",
          "mapbox": {
           "style": "light"
          },
          "paper_bgcolor": "white",
          "plot_bgcolor": "#E5ECF6",
          "polar": {
           "angularaxis": {
            "gridcolor": "white",
            "linecolor": "white",
            "ticks": ""
           },
           "bgcolor": "#E5ECF6",
           "radialaxis": {
            "gridcolor": "white",
            "linecolor": "white",
            "ticks": ""
           }
          },
          "scene": {
           "xaxis": {
            "backgroundcolor": "#E5ECF6",
            "gridcolor": "white",
            "gridwidth": 2,
            "linecolor": "white",
            "showbackground": true,
            "ticks": "",
            "zerolinecolor": "white"
           },
           "yaxis": {
            "backgroundcolor": "#E5ECF6",
            "gridcolor": "white",
            "gridwidth": 2,
            "linecolor": "white",
            "showbackground": true,
            "ticks": "",
            "zerolinecolor": "white"
           },
           "zaxis": {
            "backgroundcolor": "#E5ECF6",
            "gridcolor": "white",
            "gridwidth": 2,
            "linecolor": "white",
            "showbackground": true,
            "ticks": "",
            "zerolinecolor": "white"
           }
          },
          "shapedefaults": {
           "line": {
            "color": "#2a3f5f"
           }
          },
          "ternary": {
           "aaxis": {
            "gridcolor": "white",
            "linecolor": "white",
            "ticks": ""
           },
           "baxis": {
            "gridcolor": "white",
            "linecolor": "white",
            "ticks": ""
           },
           "bgcolor": "#E5ECF6",
           "caxis": {
            "gridcolor": "white",
            "linecolor": "white",
            "ticks": ""
           }
          },
          "title": {
           "x": 0.05
          },
          "xaxis": {
           "automargin": true,
           "gridcolor": "white",
           "linecolor": "white",
           "ticks": "",
           "title": {
            "standoff": 15
           },
           "zerolinecolor": "white",
           "zerolinewidth": 2
          },
          "yaxis": {
           "automargin": true,
           "gridcolor": "white",
           "linecolor": "white",
           "ticks": "",
           "title": {
            "standoff": 15
           },
           "zerolinecolor": "white",
           "zerolinewidth": 2
          }
         }
        },
        "title": {
         "text": "Uso de agua (no relacionado con la tierra) de Chile"
        },
        "xaxis": {
         "anchor": "y",
         "domain": [
          0,
          1
         ],
         "title": {
          "text": "Años"
         }
        },
        "yaxis": {
         "anchor": "x",
         "domain": [
          0,
          1
         ],
         "title": {
          "text": "Uso de acgua [m³/s]"
         }
        }
       }
      }
     },
     "metadata": {},
     "output_type": "display_data"
    },
    {
     "data": {
      "application/vnd.plotly.v1+json": {
       "config": {
        "plotlyServerURL": "https://plot.ly"
       },
       "data": [
        {
         "hovertemplate": "Años=%{x}<br>Uso de acgua [m³/s]=%{y}<extra></extra>",
         "legendgroup": "",
         "marker": {
          "color": "#636efa",
          "symbol": "circle"
         },
         "mode": "markers",
         "name": "",
         "orientation": "v",
         "showlegend": false,
         "type": "scatter",
         "x": [
          1950,
          1951,
          1952,
          1953,
          1954,
          1955,
          1956,
          1957,
          1958,
          1959,
          1960,
          1961,
          1962,
          1963,
          1964,
          1965,
          1966,
          1967,
          1968,
          1969,
          1970,
          1971,
          1972,
          1973,
          1974,
          1975,
          1976,
          1977,
          1978,
          1979,
          1980,
          1981,
          1982,
          1983,
          1984,
          1985,
          1986,
          1987,
          1988,
          1989,
          1990,
          1991,
          1992,
          1993,
          1994,
          1995,
          1996,
          1997,
          1998,
          1999,
          2000,
          2001,
          2002,
          2003,
          2004,
          2005,
          2006,
          2007,
          2008,
          2009,
          2010,
          2011,
          2012,
          2013,
          2014,
          2015,
          2016,
          2017,
          2018,
          2019,
          2020
         ],
         "xaxis": "x",
         "y": [
          371.98,
          372.25,
          372.55,
          373.61,
          374.2,
          374.83,
          386.31,
          386.82,
          387.33,
          387.95,
          425.95,
          426.54,
          427.42,
          506.78,
          589.22,
          581.84,
          608.98,
          621.29,
          539.02,
          848.28,
          902.97,
          995.23,
          1147.35,
          1141.25,
          1005.4,
          1010.41,
          1046.52,
          1088.73,
          1129.33,
          1168.26,
          1217.45,
          1274.09,
          1210.61,
          1317.29,
          1353.58,
          1509.21,
          1576.55,
          1700.89,
          1694.19,
          1447.51,
          1252.81,
          2097.78,
          2288.9,
          2355.43,
          2194.87,
          2332.17,
          1786.25,
          2637.05,
          2050.84,
          1809.05,
          2597.21,
          2895.19,
          3050.61,
          2772.61,
          2715.1,
          3276.18,
          3512.31,
          2833.89,
          3099.25,
          3137.54,
          2794.58,
          2597.94,
          2711.39,
          2649.47,
          3343.9,
          3318.4,
          2623.62,
          3175.38,
          3325.53,
          2717.58,
          2883.97
         ],
         "yaxis": "y"
        },
        {
         "hovertemplate": "<b>OLS trendline</b><br>NLU = 47.4282 * Years + -92495.2<br>R<sup>2</sup>=0.917540<br><br>Años=%{x}<br>Uso de acgua [m³/s]=%{y} <b>(trend)</b><extra></extra>",
         "legendgroup": "",
         "marker": {
          "color": "#636efa",
          "symbol": "circle"
         },
         "mode": "lines",
         "name": "",
         "showlegend": false,
         "type": "scatter",
         "x": [
          1950,
          1951,
          1952,
          1953,
          1954,
          1955,
          1956,
          1957,
          1958,
          1959,
          1960,
          1961,
          1962,
          1963,
          1964,
          1965,
          1966,
          1967,
          1968,
          1969,
          1970,
          1971,
          1972,
          1973,
          1974,
          1975,
          1976,
          1977,
          1978,
          1979,
          1980,
          1981,
          1982,
          1983,
          1984,
          1985,
          1986,
          1987,
          1988,
          1989,
          1990,
          1991,
          1992,
          1993,
          1994,
          1995,
          1996,
          1997,
          1998,
          1999,
          2000,
          2001,
          2002,
          2003,
          2004,
          2005,
          2006,
          2007,
          2008,
          2009,
          2010,
          2011,
          2012,
          2013,
          2014,
          2015,
          2016,
          2017,
          2018,
          2019,
          2020
         ],
         "xaxis": "x",
         "y": [
          -10.173978873324813,
          37.254239436544594,
          84.68245774639945,
          132.1106760562543,
          179.5388943661237,
          226.96711267597857,
          274.3953309858334,
          321.82354929570283,
          369.2517676055577,
          416.67998591541254,
          464.10820422528195,
          511.5364225351368,
          558.9646408449917,
          606.3928591548611,
          653.8210774647159,
          701.2492957745708,
          748.6775140844256,
          796.105732394295,
          843.5339507041499,
          890.9621690140048,
          938.3903873238742,
          985.818605633729,
          1033.2468239435839,
          1080.6750422534533,
          1128.1032605633081,
          1175.531478873163,
          1222.9596971830324,
          1270.3879154928873,
          1317.8161338027421,
          1365.2443521126115,
          1412.6725704224664,
          1460.1007887323212,
          1507.5290070421906,
          1554.9572253520455,
          1602.3854436619004,
          1649.8136619717698,
          1697.2418802816246,
          1744.6700985914795,
          1792.0983169013489,
          1839.5265352112037,
          1886.9547535210586,
          1934.382971830928,
          1981.8111901407829,
          2029.2394084506377,
          2076.667626760507,
          2124.095845070362,
          2171.524063380217,
          2218.9522816900862,
          2266.380499999941,
          2313.808718309796,
          2361.236936619651,
          2408.66515492952,
          2456.093373239375,
          2503.52159154923,
          2550.9498098590993,
          2598.378028168954,
          2645.806246478809,
          2693.2344647886785,
          2740.6626830985333,
          2788.090901408388,
          2835.5191197182576,
          2882.9473380281124,
          2930.3755563379673,
          2977.8037746478367,
          3025.2319929576915,
          3072.6602112675464,
          3120.088429577416,
          3167.5166478872707,
          3214.9448661971255,
          3262.373084506995,
          3309.80130281685
         ],
         "yaxis": "y"
        }
       ],
       "layout": {
        "annotations": [
         {
          "align": "right",
          "font": {
           "size": 12
          },
          "showarrow": false,
          "text": "R cuadrado: 0.92",
          "x": 2020,
          "y": 1000
         }
        ],
        "legend": {
         "tracegroupgap": 0
        },
        "template": {
         "data": {
          "bar": [
           {
            "error_x": {
             "color": "#2a3f5f"
            },
            "error_y": {
             "color": "#2a3f5f"
            },
            "marker": {
             "line": {
              "color": "#E5ECF6",
              "width": 0.5
             },
             "pattern": {
              "fillmode": "overlay",
              "size": 10,
              "solidity": 0.2
             }
            },
            "type": "bar"
           }
          ],
          "barpolar": [
           {
            "marker": {
             "line": {
              "color": "#E5ECF6",
              "width": 0.5
             },
             "pattern": {
              "fillmode": "overlay",
              "size": 10,
              "solidity": 0.2
             }
            },
            "type": "barpolar"
           }
          ],
          "carpet": [
           {
            "aaxis": {
             "endlinecolor": "#2a3f5f",
             "gridcolor": "white",
             "linecolor": "white",
             "minorgridcolor": "white",
             "startlinecolor": "#2a3f5f"
            },
            "baxis": {
             "endlinecolor": "#2a3f5f",
             "gridcolor": "white",
             "linecolor": "white",
             "minorgridcolor": "white",
             "startlinecolor": "#2a3f5f"
            },
            "type": "carpet"
           }
          ],
          "choropleth": [
           {
            "colorbar": {
             "outlinewidth": 0,
             "ticks": ""
            },
            "type": "choropleth"
           }
          ],
          "contour": [
           {
            "colorbar": {
             "outlinewidth": 0,
             "ticks": ""
            },
            "colorscale": [
             [
              0,
              "#0d0887"
             ],
             [
              0.1111111111111111,
              "#46039f"
             ],
             [
              0.2222222222222222,
              "#7201a8"
             ],
             [
              0.3333333333333333,
              "#9c179e"
             ],
             [
              0.4444444444444444,
              "#bd3786"
             ],
             [
              0.5555555555555556,
              "#d8576b"
             ],
             [
              0.6666666666666666,
              "#ed7953"
             ],
             [
              0.7777777777777778,
              "#fb9f3a"
             ],
             [
              0.8888888888888888,
              "#fdca26"
             ],
             [
              1,
              "#f0f921"
             ]
            ],
            "type": "contour"
           }
          ],
          "contourcarpet": [
           {
            "colorbar": {
             "outlinewidth": 0,
             "ticks": ""
            },
            "type": "contourcarpet"
           }
          ],
          "heatmap": [
           {
            "colorbar": {
             "outlinewidth": 0,
             "ticks": ""
            },
            "colorscale": [
             [
              0,
              "#0d0887"
             ],
             [
              0.1111111111111111,
              "#46039f"
             ],
             [
              0.2222222222222222,
              "#7201a8"
             ],
             [
              0.3333333333333333,
              "#9c179e"
             ],
             [
              0.4444444444444444,
              "#bd3786"
             ],
             [
              0.5555555555555556,
              "#d8576b"
             ],
             [
              0.6666666666666666,
              "#ed7953"
             ],
             [
              0.7777777777777778,
              "#fb9f3a"
             ],
             [
              0.8888888888888888,
              "#fdca26"
             ],
             [
              1,
              "#f0f921"
             ]
            ],
            "type": "heatmap"
           }
          ],
          "heatmapgl": [
           {
            "colorbar": {
             "outlinewidth": 0,
             "ticks": ""
            },
            "colorscale": [
             [
              0,
              "#0d0887"
             ],
             [
              0.1111111111111111,
              "#46039f"
             ],
             [
              0.2222222222222222,
              "#7201a8"
             ],
             [
              0.3333333333333333,
              "#9c179e"
             ],
             [
              0.4444444444444444,
              "#bd3786"
             ],
             [
              0.5555555555555556,
              "#d8576b"
             ],
             [
              0.6666666666666666,
              "#ed7953"
             ],
             [
              0.7777777777777778,
              "#fb9f3a"
             ],
             [
              0.8888888888888888,
              "#fdca26"
             ],
             [
              1,
              "#f0f921"
             ]
            ],
            "type": "heatmapgl"
           }
          ],
          "histogram": [
           {
            "marker": {
             "pattern": {
              "fillmode": "overlay",
              "size": 10,
              "solidity": 0.2
             }
            },
            "type": "histogram"
           }
          ],
          "histogram2d": [
           {
            "colorbar": {
             "outlinewidth": 0,
             "ticks": ""
            },
            "colorscale": [
             [
              0,
              "#0d0887"
             ],
             [
              0.1111111111111111,
              "#46039f"
             ],
             [
              0.2222222222222222,
              "#7201a8"
             ],
             [
              0.3333333333333333,
              "#9c179e"
             ],
             [
              0.4444444444444444,
              "#bd3786"
             ],
             [
              0.5555555555555556,
              "#d8576b"
             ],
             [
              0.6666666666666666,
              "#ed7953"
             ],
             [
              0.7777777777777778,
              "#fb9f3a"
             ],
             [
              0.8888888888888888,
              "#fdca26"
             ],
             [
              1,
              "#f0f921"
             ]
            ],
            "type": "histogram2d"
           }
          ],
          "histogram2dcontour": [
           {
            "colorbar": {
             "outlinewidth": 0,
             "ticks": ""
            },
            "colorscale": [
             [
              0,
              "#0d0887"
             ],
             [
              0.1111111111111111,
              "#46039f"
             ],
             [
              0.2222222222222222,
              "#7201a8"
             ],
             [
              0.3333333333333333,
              "#9c179e"
             ],
             [
              0.4444444444444444,
              "#bd3786"
             ],
             [
              0.5555555555555556,
              "#d8576b"
             ],
             [
              0.6666666666666666,
              "#ed7953"
             ],
             [
              0.7777777777777778,
              "#fb9f3a"
             ],
             [
              0.8888888888888888,
              "#fdca26"
             ],
             [
              1,
              "#f0f921"
             ]
            ],
            "type": "histogram2dcontour"
           }
          ],
          "mesh3d": [
           {
            "colorbar": {
             "outlinewidth": 0,
             "ticks": ""
            },
            "type": "mesh3d"
           }
          ],
          "parcoords": [
           {
            "line": {
             "colorbar": {
              "outlinewidth": 0,
              "ticks": ""
             }
            },
            "type": "parcoords"
           }
          ],
          "pie": [
           {
            "automargin": true,
            "type": "pie"
           }
          ],
          "scatter": [
           {
            "fillpattern": {
             "fillmode": "overlay",
             "size": 10,
             "solidity": 0.2
            },
            "type": "scatter"
           }
          ],
          "scatter3d": [
           {
            "line": {
             "colorbar": {
              "outlinewidth": 0,
              "ticks": ""
             }
            },
            "marker": {
             "colorbar": {
              "outlinewidth": 0,
              "ticks": ""
             }
            },
            "type": "scatter3d"
           }
          ],
          "scattercarpet": [
           {
            "marker": {
             "colorbar": {
              "outlinewidth": 0,
              "ticks": ""
             }
            },
            "type": "scattercarpet"
           }
          ],
          "scattergeo": [
           {
            "marker": {
             "colorbar": {
              "outlinewidth": 0,
              "ticks": ""
             }
            },
            "type": "scattergeo"
           }
          ],
          "scattergl": [
           {
            "marker": {
             "colorbar": {
              "outlinewidth": 0,
              "ticks": ""
             }
            },
            "type": "scattergl"
           }
          ],
          "scattermapbox": [
           {
            "marker": {
             "colorbar": {
              "outlinewidth": 0,
              "ticks": ""
             }
            },
            "type": "scattermapbox"
           }
          ],
          "scatterpolar": [
           {
            "marker": {
             "colorbar": {
              "outlinewidth": 0,
              "ticks": ""
             }
            },
            "type": "scatterpolar"
           }
          ],
          "scatterpolargl": [
           {
            "marker": {
             "colorbar": {
              "outlinewidth": 0,
              "ticks": ""
             }
            },
            "type": "scatterpolargl"
           }
          ],
          "scatterternary": [
           {
            "marker": {
             "colorbar": {
              "outlinewidth": 0,
              "ticks": ""
             }
            },
            "type": "scatterternary"
           }
          ],
          "surface": [
           {
            "colorbar": {
             "outlinewidth": 0,
             "ticks": ""
            },
            "colorscale": [
             [
              0,
              "#0d0887"
             ],
             [
              0.1111111111111111,
              "#46039f"
             ],
             [
              0.2222222222222222,
              "#7201a8"
             ],
             [
              0.3333333333333333,
              "#9c179e"
             ],
             [
              0.4444444444444444,
              "#bd3786"
             ],
             [
              0.5555555555555556,
              "#d8576b"
             ],
             [
              0.6666666666666666,
              "#ed7953"
             ],
             [
              0.7777777777777778,
              "#fb9f3a"
             ],
             [
              0.8888888888888888,
              "#fdca26"
             ],
             [
              1,
              "#f0f921"
             ]
            ],
            "type": "surface"
           }
          ],
          "table": [
           {
            "cells": {
             "fill": {
              "color": "#EBF0F8"
             },
             "line": {
              "color": "white"
             }
            },
            "header": {
             "fill": {
              "color": "#C8D4E3"
             },
             "line": {
              "color": "white"
             }
            },
            "type": "table"
           }
          ]
         },
         "layout": {
          "annotationdefaults": {
           "arrowcolor": "#2a3f5f",
           "arrowhead": 0,
           "arrowwidth": 1
          },
          "autotypenumbers": "strict",
          "coloraxis": {
           "colorbar": {
            "outlinewidth": 0,
            "ticks": ""
           }
          },
          "colorscale": {
           "diverging": [
            [
             0,
             "#8e0152"
            ],
            [
             0.1,
             "#c51b7d"
            ],
            [
             0.2,
             "#de77ae"
            ],
            [
             0.3,
             "#f1b6da"
            ],
            [
             0.4,
             "#fde0ef"
            ],
            [
             0.5,
             "#f7f7f7"
            ],
            [
             0.6,
             "#e6f5d0"
            ],
            [
             0.7,
             "#b8e186"
            ],
            [
             0.8,
             "#7fbc41"
            ],
            [
             0.9,
             "#4d9221"
            ],
            [
             1,
             "#276419"
            ]
           ],
           "sequential": [
            [
             0,
             "#0d0887"
            ],
            [
             0.1111111111111111,
             "#46039f"
            ],
            [
             0.2222222222222222,
             "#7201a8"
            ],
            [
             0.3333333333333333,
             "#9c179e"
            ],
            [
             0.4444444444444444,
             "#bd3786"
            ],
            [
             0.5555555555555556,
             "#d8576b"
            ],
            [
             0.6666666666666666,
             "#ed7953"
            ],
            [
             0.7777777777777778,
             "#fb9f3a"
            ],
            [
             0.8888888888888888,
             "#fdca26"
            ],
            [
             1,
             "#f0f921"
            ]
           ],
           "sequentialminus": [
            [
             0,
             "#0d0887"
            ],
            [
             0.1111111111111111,
             "#46039f"
            ],
            [
             0.2222222222222222,
             "#7201a8"
            ],
            [
             0.3333333333333333,
             "#9c179e"
            ],
            [
             0.4444444444444444,
             "#bd3786"
            ],
            [
             0.5555555555555556,
             "#d8576b"
            ],
            [
             0.6666666666666666,
             "#ed7953"
            ],
            [
             0.7777777777777778,
             "#fb9f3a"
            ],
            [
             0.8888888888888888,
             "#fdca26"
            ],
            [
             1,
             "#f0f921"
            ]
           ]
          },
          "colorway": [
           "#636efa",
           "#EF553B",
           "#00cc96",
           "#ab63fa",
           "#FFA15A",
           "#19d3f3",
           "#FF6692",
           "#B6E880",
           "#FF97FF",
           "#FECB52"
          ],
          "font": {
           "color": "#2a3f5f"
          },
          "geo": {
           "bgcolor": "white",
           "lakecolor": "white",
           "landcolor": "#E5ECF6",
           "showlakes": true,
           "showland": true,
           "subunitcolor": "white"
          },
          "hoverlabel": {
           "align": "left"
          },
          "hovermode": "closest",
          "mapbox": {
           "style": "light"
          },
          "paper_bgcolor": "white",
          "plot_bgcolor": "#E5ECF6",
          "polar": {
           "angularaxis": {
            "gridcolor": "white",
            "linecolor": "white",
            "ticks": ""
           },
           "bgcolor": "#E5ECF6",
           "radialaxis": {
            "gridcolor": "white",
            "linecolor": "white",
            "ticks": ""
           }
          },
          "scene": {
           "xaxis": {
            "backgroundcolor": "#E5ECF6",
            "gridcolor": "white",
            "gridwidth": 2,
            "linecolor": "white",
            "showbackground": true,
            "ticks": "",
            "zerolinecolor": "white"
           },
           "yaxis": {
            "backgroundcolor": "#E5ECF6",
            "gridcolor": "white",
            "gridwidth": 2,
            "linecolor": "white",
            "showbackground": true,
            "ticks": "",
            "zerolinecolor": "white"
           },
           "zaxis": {
            "backgroundcolor": "#E5ECF6",
            "gridcolor": "white",
            "gridwidth": 2,
            "linecolor": "white",
            "showbackground": true,
            "ticks": "",
            "zerolinecolor": "white"
           }
          },
          "shapedefaults": {
           "line": {
            "color": "#2a3f5f"
           }
          },
          "ternary": {
           "aaxis": {
            "gridcolor": "white",
            "linecolor": "white",
            "ticks": ""
           },
           "baxis": {
            "gridcolor": "white",
            "linecolor": "white",
            "ticks": ""
           },
           "bgcolor": "#E5ECF6",
           "caxis": {
            "gridcolor": "white",
            "linecolor": "white",
            "ticks": ""
           }
          },
          "title": {
           "x": 0.05
          },
          "xaxis": {
           "automargin": true,
           "gridcolor": "white",
           "linecolor": "white",
           "ticks": "",
           "title": {
            "standoff": 15
           },
           "zerolinecolor": "white",
           "zerolinewidth": 2
          },
          "yaxis": {
           "automargin": true,
           "gridcolor": "white",
           "linecolor": "white",
           "ticks": "",
           "title": {
            "standoff": 15
           },
           "zerolinecolor": "white",
           "zerolinewidth": 2
          }
         }
        },
        "title": {
         "text": "Uso de agua (no relacionado con la tierra) de Chile"
        },
        "xaxis": {
         "anchor": "y",
         "domain": [
          0,
          1
         ],
         "title": {
          "text": "Años"
         }
        },
        "yaxis": {
         "anchor": "x",
         "domain": [
          0,
          1
         ],
         "title": {
          "text": "Uso de acgua [m³/s]"
         }
        }
       }
      }
     },
     "metadata": {},
     "output_type": "display_data"
    }
   ],
   "source": [
    "#Graph of yearly national (Non Land) Water Use [km3]\n",
    "\n",
    "# Ajustar el modelo de regresión lineal\n",
    "model = sm.OLS(NLU_nation['NLU'], sm.add_constant(NLU_nation['Years']))\n",
    "results = model.fit()\n",
    "r_squared = results.rsquared\n",
    "\n",
    "# English\n",
    "fig = px.scatter(NLU_nation, x=\"Years\", y=\"NLU\",\n",
    "                 title=\"Non Land Water Use in Chile\",\n",
    "                 trendline=\"ols\",\n",
    "                 labels={'Years': 'Years', 'NLU': 'Water use [m³/s]'})\n",
    "fig.add_annotation(\n",
    "    x=2020, y=1000,\n",
    "    text=f\"R-squared: {r_squared:.2f}\",\n",
    "    showarrow=False,\n",
    "    font=dict(size=12),\n",
    "    align=\"right\")\n",
    "\n",
    "fig.show()\n",
    "\n",
    "\n",
    "#Spanish\n",
    "#fig2 = px.line(NLU_nation, x=\"Years\", y=\"NLU_year\", \n",
    "fig2 = px.scatter(NLU_nation, x=\"Years\", y=\"NLU\", \n",
    "               title=\"Uso de agua (no relacionado con la tierra) de Chile\", \n",
    "               trendline=\"ols\",\n",
    "               labels={'Years':'Años', 'NLU':'Uso de agua [m³/s]'})\n",
    "fig2.add_annotation(\n",
    "    x=2020, y=1000,\n",
    "    text=f\"R cuadrado: {r_squared:.2f}\",\n",
    "    showarrow=False,\n",
    "    font=dict(size=12),\n",
    "    align=\"right\")\n",
    "\n",
    "fig2.show()\n"
   ]
  },
  {
   "cell_type": "code",
   "execution_count": 63,
   "id": "ca0d2000",
   "metadata": {},
   "outputs": [
    {
     "data": {
      "application/vnd.plotly.v1+json": {
       "config": {
        "plotlyServerURL": "https://plot.ly"
       },
       "data": [
        {
         "hovertemplate": "Years=%{x}<br>Water use [m³/s]=%{y}<extra></extra>",
         "legendgroup": "",
         "marker": {
          "color": "purple",
          "symbol": "circle"
         },
         "mode": "markers",
         "name": "",
         "orientation": "v",
         "showlegend": false,
         "type": "scatter",
         "x": [
          2010,
          2011,
          2012,
          2013,
          2014,
          2015,
          2016,
          2017,
          2018,
          2019,
          2020
         ],
         "xaxis": "x",
         "y": [
          2794.58,
          2597.94,
          2711.39,
          2649.47,
          3343.9,
          3318.4,
          2623.62,
          3175.38,
          3325.53,
          2717.58,
          2883.97
         ],
         "yaxis": "y"
        },
        {
         "hovertemplate": "<b>LOWESS trendline</b><br><br>Years=%{x}<br>Water use [m³/s]=%{y} <b>(trend)</b><extra></extra>",
         "legendgroup": "",
         "marker": {
          "color": "purple",
          "symbol": "circle"
         },
         "mode": "lines",
         "name": "",
         "showlegend": false,
         "type": "scatter",
         "x": [
          2010,
          2011,
          2012,
          2013,
          2014,
          2015,
          2016,
          2017,
          2018,
          2019,
          2020
         ],
         "xaxis": "x",
         "y": [
          2794.58,
          2597.94,
          2711.39,
          2649.47,
          3343.9,
          3318.4,
          2623.62,
          3175.38,
          3325.53,
          2717.58,
          2883.97
         ],
         "yaxis": "y"
        }
       ],
       "layout": {
        "legend": {
         "tracegroupgap": 0
        },
        "template": {
         "data": {
          "bar": [
           {
            "error_x": {
             "color": "#2a3f5f"
            },
            "error_y": {
             "color": "#2a3f5f"
            },
            "marker": {
             "line": {
              "color": "#E5ECF6",
              "width": 0.5
             },
             "pattern": {
              "fillmode": "overlay",
              "size": 10,
              "solidity": 0.2
             }
            },
            "type": "bar"
           }
          ],
          "barpolar": [
           {
            "marker": {
             "line": {
              "color": "#E5ECF6",
              "width": 0.5
             },
             "pattern": {
              "fillmode": "overlay",
              "size": 10,
              "solidity": 0.2
             }
            },
            "type": "barpolar"
           }
          ],
          "carpet": [
           {
            "aaxis": {
             "endlinecolor": "#2a3f5f",
             "gridcolor": "white",
             "linecolor": "white",
             "minorgridcolor": "white",
             "startlinecolor": "#2a3f5f"
            },
            "baxis": {
             "endlinecolor": "#2a3f5f",
             "gridcolor": "white",
             "linecolor": "white",
             "minorgridcolor": "white",
             "startlinecolor": "#2a3f5f"
            },
            "type": "carpet"
           }
          ],
          "choropleth": [
           {
            "colorbar": {
             "outlinewidth": 0,
             "ticks": ""
            },
            "type": "choropleth"
           }
          ],
          "contour": [
           {
            "colorbar": {
             "outlinewidth": 0,
             "ticks": ""
            },
            "colorscale": [
             [
              0,
              "#0d0887"
             ],
             [
              0.1111111111111111,
              "#46039f"
             ],
             [
              0.2222222222222222,
              "#7201a8"
             ],
             [
              0.3333333333333333,
              "#9c179e"
             ],
             [
              0.4444444444444444,
              "#bd3786"
             ],
             [
              0.5555555555555556,
              "#d8576b"
             ],
             [
              0.6666666666666666,
              "#ed7953"
             ],
             [
              0.7777777777777778,
              "#fb9f3a"
             ],
             [
              0.8888888888888888,
              "#fdca26"
             ],
             [
              1,
              "#f0f921"
             ]
            ],
            "type": "contour"
           }
          ],
          "contourcarpet": [
           {
            "colorbar": {
             "outlinewidth": 0,
             "ticks": ""
            },
            "type": "contourcarpet"
           }
          ],
          "heatmap": [
           {
            "colorbar": {
             "outlinewidth": 0,
             "ticks": ""
            },
            "colorscale": [
             [
              0,
              "#0d0887"
             ],
             [
              0.1111111111111111,
              "#46039f"
             ],
             [
              0.2222222222222222,
              "#7201a8"
             ],
             [
              0.3333333333333333,
              "#9c179e"
             ],
             [
              0.4444444444444444,
              "#bd3786"
             ],
             [
              0.5555555555555556,
              "#d8576b"
             ],
             [
              0.6666666666666666,
              "#ed7953"
             ],
             [
              0.7777777777777778,
              "#fb9f3a"
             ],
             [
              0.8888888888888888,
              "#fdca26"
             ],
             [
              1,
              "#f0f921"
             ]
            ],
            "type": "heatmap"
           }
          ],
          "heatmapgl": [
           {
            "colorbar": {
             "outlinewidth": 0,
             "ticks": ""
            },
            "colorscale": [
             [
              0,
              "#0d0887"
             ],
             [
              0.1111111111111111,
              "#46039f"
             ],
             [
              0.2222222222222222,
              "#7201a8"
             ],
             [
              0.3333333333333333,
              "#9c179e"
             ],
             [
              0.4444444444444444,
              "#bd3786"
             ],
             [
              0.5555555555555556,
              "#d8576b"
             ],
             [
              0.6666666666666666,
              "#ed7953"
             ],
             [
              0.7777777777777778,
              "#fb9f3a"
             ],
             [
              0.8888888888888888,
              "#fdca26"
             ],
             [
              1,
              "#f0f921"
             ]
            ],
            "type": "heatmapgl"
           }
          ],
          "histogram": [
           {
            "marker": {
             "pattern": {
              "fillmode": "overlay",
              "size": 10,
              "solidity": 0.2
             }
            },
            "type": "histogram"
           }
          ],
          "histogram2d": [
           {
            "colorbar": {
             "outlinewidth": 0,
             "ticks": ""
            },
            "colorscale": [
             [
              0,
              "#0d0887"
             ],
             [
              0.1111111111111111,
              "#46039f"
             ],
             [
              0.2222222222222222,
              "#7201a8"
             ],
             [
              0.3333333333333333,
              "#9c179e"
             ],
             [
              0.4444444444444444,
              "#bd3786"
             ],
             [
              0.5555555555555556,
              "#d8576b"
             ],
             [
              0.6666666666666666,
              "#ed7953"
             ],
             [
              0.7777777777777778,
              "#fb9f3a"
             ],
             [
              0.8888888888888888,
              "#fdca26"
             ],
             [
              1,
              "#f0f921"
             ]
            ],
            "type": "histogram2d"
           }
          ],
          "histogram2dcontour": [
           {
            "colorbar": {
             "outlinewidth": 0,
             "ticks": ""
            },
            "colorscale": [
             [
              0,
              "#0d0887"
             ],
             [
              0.1111111111111111,
              "#46039f"
             ],
             [
              0.2222222222222222,
              "#7201a8"
             ],
             [
              0.3333333333333333,
              "#9c179e"
             ],
             [
              0.4444444444444444,
              "#bd3786"
             ],
             [
              0.5555555555555556,
              "#d8576b"
             ],
             [
              0.6666666666666666,
              "#ed7953"
             ],
             [
              0.7777777777777778,
              "#fb9f3a"
             ],
             [
              0.8888888888888888,
              "#fdca26"
             ],
             [
              1,
              "#f0f921"
             ]
            ],
            "type": "histogram2dcontour"
           }
          ],
          "mesh3d": [
           {
            "colorbar": {
             "outlinewidth": 0,
             "ticks": ""
            },
            "type": "mesh3d"
           }
          ],
          "parcoords": [
           {
            "line": {
             "colorbar": {
              "outlinewidth": 0,
              "ticks": ""
             }
            },
            "type": "parcoords"
           }
          ],
          "pie": [
           {
            "automargin": true,
            "type": "pie"
           }
          ],
          "scatter": [
           {
            "fillpattern": {
             "fillmode": "overlay",
             "size": 10,
             "solidity": 0.2
            },
            "type": "scatter"
           }
          ],
          "scatter3d": [
           {
            "line": {
             "colorbar": {
              "outlinewidth": 0,
              "ticks": ""
             }
            },
            "marker": {
             "colorbar": {
              "outlinewidth": 0,
              "ticks": ""
             }
            },
            "type": "scatter3d"
           }
          ],
          "scattercarpet": [
           {
            "marker": {
             "colorbar": {
              "outlinewidth": 0,
              "ticks": ""
             }
            },
            "type": "scattercarpet"
           }
          ],
          "scattergeo": [
           {
            "marker": {
             "colorbar": {
              "outlinewidth": 0,
              "ticks": ""
             }
            },
            "type": "scattergeo"
           }
          ],
          "scattergl": [
           {
            "marker": {
             "colorbar": {
              "outlinewidth": 0,
              "ticks": ""
             }
            },
            "type": "scattergl"
           }
          ],
          "scattermapbox": [
           {
            "marker": {
             "colorbar": {
              "outlinewidth": 0,
              "ticks": ""
             }
            },
            "type": "scattermapbox"
           }
          ],
          "scatterpolar": [
           {
            "marker": {
             "colorbar": {
              "outlinewidth": 0,
              "ticks": ""
             }
            },
            "type": "scatterpolar"
           }
          ],
          "scatterpolargl": [
           {
            "marker": {
             "colorbar": {
              "outlinewidth": 0,
              "ticks": ""
             }
            },
            "type": "scatterpolargl"
           }
          ],
          "scatterternary": [
           {
            "marker": {
             "colorbar": {
              "outlinewidth": 0,
              "ticks": ""
             }
            },
            "type": "scatterternary"
           }
          ],
          "surface": [
           {
            "colorbar": {
             "outlinewidth": 0,
             "ticks": ""
            },
            "colorscale": [
             [
              0,
              "#0d0887"
             ],
             [
              0.1111111111111111,
              "#46039f"
             ],
             [
              0.2222222222222222,
              "#7201a8"
             ],
             [
              0.3333333333333333,
              "#9c179e"
             ],
             [
              0.4444444444444444,
              "#bd3786"
             ],
             [
              0.5555555555555556,
              "#d8576b"
             ],
             [
              0.6666666666666666,
              "#ed7953"
             ],
             [
              0.7777777777777778,
              "#fb9f3a"
             ],
             [
              0.8888888888888888,
              "#fdca26"
             ],
             [
              1,
              "#f0f921"
             ]
            ],
            "type": "surface"
           }
          ],
          "table": [
           {
            "cells": {
             "fill": {
              "color": "#EBF0F8"
             },
             "line": {
              "color": "white"
             }
            },
            "header": {
             "fill": {
              "color": "#C8D4E3"
             },
             "line": {
              "color": "white"
             }
            },
            "type": "table"
           }
          ]
         },
         "layout": {
          "annotationdefaults": {
           "arrowcolor": "#2a3f5f",
           "arrowhead": 0,
           "arrowwidth": 1
          },
          "autotypenumbers": "strict",
          "coloraxis": {
           "colorbar": {
            "outlinewidth": 0,
            "ticks": ""
           }
          },
          "colorscale": {
           "diverging": [
            [
             0,
             "#8e0152"
            ],
            [
             0.1,
             "#c51b7d"
            ],
            [
             0.2,
             "#de77ae"
            ],
            [
             0.3,
             "#f1b6da"
            ],
            [
             0.4,
             "#fde0ef"
            ],
            [
             0.5,
             "#f7f7f7"
            ],
            [
             0.6,
             "#e6f5d0"
            ],
            [
             0.7,
             "#b8e186"
            ],
            [
             0.8,
             "#7fbc41"
            ],
            [
             0.9,
             "#4d9221"
            ],
            [
             1,
             "#276419"
            ]
           ],
           "sequential": [
            [
             0,
             "#0d0887"
            ],
            [
             0.1111111111111111,
             "#46039f"
            ],
            [
             0.2222222222222222,
             "#7201a8"
            ],
            [
             0.3333333333333333,
             "#9c179e"
            ],
            [
             0.4444444444444444,
             "#bd3786"
            ],
            [
             0.5555555555555556,
             "#d8576b"
            ],
            [
             0.6666666666666666,
             "#ed7953"
            ],
            [
             0.7777777777777778,
             "#fb9f3a"
            ],
            [
             0.8888888888888888,
             "#fdca26"
            ],
            [
             1,
             "#f0f921"
            ]
           ],
           "sequentialminus": [
            [
             0,
             "#0d0887"
            ],
            [
             0.1111111111111111,
             "#46039f"
            ],
            [
             0.2222222222222222,
             "#7201a8"
            ],
            [
             0.3333333333333333,
             "#9c179e"
            ],
            [
             0.4444444444444444,
             "#bd3786"
            ],
            [
             0.5555555555555556,
             "#d8576b"
            ],
            [
             0.6666666666666666,
             "#ed7953"
            ],
            [
             0.7777777777777778,
             "#fb9f3a"
            ],
            [
             0.8888888888888888,
             "#fdca26"
            ],
            [
             1,
             "#f0f921"
            ]
           ]
          },
          "colorway": [
           "#636efa",
           "#EF553B",
           "#00cc96",
           "#ab63fa",
           "#FFA15A",
           "#19d3f3",
           "#FF6692",
           "#B6E880",
           "#FF97FF",
           "#FECB52"
          ],
          "font": {
           "color": "#2a3f5f"
          },
          "geo": {
           "bgcolor": "white",
           "lakecolor": "white",
           "landcolor": "#E5ECF6",
           "showlakes": true,
           "showland": true,
           "subunitcolor": "white"
          },
          "hoverlabel": {
           "align": "left"
          },
          "hovermode": "closest",
          "mapbox": {
           "style": "light"
          },
          "paper_bgcolor": "white",
          "plot_bgcolor": "#E5ECF6",
          "polar": {
           "angularaxis": {
            "gridcolor": "white",
            "linecolor": "white",
            "ticks": ""
           },
           "bgcolor": "#E5ECF6",
           "radialaxis": {
            "gridcolor": "white",
            "linecolor": "white",
            "ticks": ""
           }
          },
          "scene": {
           "xaxis": {
            "backgroundcolor": "#E5ECF6",
            "gridcolor": "white",
            "gridwidth": 2,
            "linecolor": "white",
            "showbackground": true,
            "ticks": "",
            "zerolinecolor": "white"
           },
           "yaxis": {
            "backgroundcolor": "#E5ECF6",
            "gridcolor": "white",
            "gridwidth": 2,
            "linecolor": "white",
            "showbackground": true,
            "ticks": "",
            "zerolinecolor": "white"
           },
           "zaxis": {
            "backgroundcolor": "#E5ECF6",
            "gridcolor": "white",
            "gridwidth": 2,
            "linecolor": "white",
            "showbackground": true,
            "ticks": "",
            "zerolinecolor": "white"
           }
          },
          "shapedefaults": {
           "line": {
            "color": "#2a3f5f"
           }
          },
          "ternary": {
           "aaxis": {
            "gridcolor": "white",
            "linecolor": "white",
            "ticks": ""
           },
           "baxis": {
            "gridcolor": "white",
            "linecolor": "white",
            "ticks": ""
           },
           "bgcolor": "#E5ECF6",
           "caxis": {
            "gridcolor": "white",
            "linecolor": "white",
            "ticks": ""
           }
          },
          "title": {
           "x": 0.05
          },
          "xaxis": {
           "automargin": true,
           "gridcolor": "white",
           "linecolor": "white",
           "ticks": "",
           "title": {
            "standoff": 15
           },
           "zerolinecolor": "white",
           "zerolinewidth": 2
          },
          "yaxis": {
           "automargin": true,
           "gridcolor": "white",
           "linecolor": "white",
           "ticks": "",
           "title": {
            "standoff": 15
           },
           "zerolinecolor": "white",
           "zerolinewidth": 2
          }
         }
        },
        "title": {
         "text": "Non Land Water Use in Chile since 2010"
        },
        "xaxis": {
         "anchor": "y",
         "domain": [
          0,
          1
         ],
         "title": {
          "text": "Years"
         }
        },
        "yaxis": {
         "anchor": "x",
         "domain": [
          0,
          1
         ],
         "title": {
          "text": "Water use [m³/s]"
         }
        }
       }
      }
     },
     "metadata": {},
     "output_type": "display_data"
    },
    {
     "data": {
      "application/vnd.plotly.v1+json": {
       "config": {
        "plotlyServerURL": "https://plot.ly"
       },
       "data": [
        {
         "hovertemplate": "Años=%{x}<br>Uso de agua [m³/s]=%{y}<extra></extra>",
         "legendgroup": "",
         "marker": {
          "color": "purple",
          "symbol": "circle"
         },
         "mode": "markers",
         "name": "",
         "orientation": "v",
         "showlegend": false,
         "type": "scatter",
         "x": [
          2010,
          2011,
          2012,
          2013,
          2014,
          2015,
          2016,
          2017,
          2018,
          2019,
          2020
         ],
         "xaxis": "x",
         "y": [
          2794.58,
          2597.94,
          2711.39,
          2649.47,
          3343.9,
          3318.4,
          2623.62,
          3175.38,
          3325.53,
          2717.58,
          2883.97
         ],
         "yaxis": "y"
        },
        {
         "hovertemplate": "<b>LOWESS trendline</b><br><br>Años=%{x}<br>Uso de agua [m³/s]=%{y} <b>(trend)</b><extra></extra>",
         "legendgroup": "",
         "marker": {
          "color": "purple",
          "symbol": "circle"
         },
         "mode": "lines",
         "name": "",
         "showlegend": false,
         "type": "scatter",
         "x": [
          2010,
          2011,
          2012,
          2013,
          2014,
          2015,
          2016,
          2017,
          2018,
          2019,
          2020
         ],
         "xaxis": "x",
         "y": [
          2794.58,
          2597.94,
          2711.39,
          2649.47,
          3343.9,
          3318.4,
          2623.62,
          3175.38,
          3325.53,
          2717.58,
          2883.97
         ],
         "yaxis": "y"
        }
       ],
       "layout": {
        "legend": {
         "tracegroupgap": 0
        },
        "template": {
         "data": {
          "bar": [
           {
            "error_x": {
             "color": "#2a3f5f"
            },
            "error_y": {
             "color": "#2a3f5f"
            },
            "marker": {
             "line": {
              "color": "#E5ECF6",
              "width": 0.5
             },
             "pattern": {
              "fillmode": "overlay",
              "size": 10,
              "solidity": 0.2
             }
            },
            "type": "bar"
           }
          ],
          "barpolar": [
           {
            "marker": {
             "line": {
              "color": "#E5ECF6",
              "width": 0.5
             },
             "pattern": {
              "fillmode": "overlay",
              "size": 10,
              "solidity": 0.2
             }
            },
            "type": "barpolar"
           }
          ],
          "carpet": [
           {
            "aaxis": {
             "endlinecolor": "#2a3f5f",
             "gridcolor": "white",
             "linecolor": "white",
             "minorgridcolor": "white",
             "startlinecolor": "#2a3f5f"
            },
            "baxis": {
             "endlinecolor": "#2a3f5f",
             "gridcolor": "white",
             "linecolor": "white",
             "minorgridcolor": "white",
             "startlinecolor": "#2a3f5f"
            },
            "type": "carpet"
           }
          ],
          "choropleth": [
           {
            "colorbar": {
             "outlinewidth": 0,
             "ticks": ""
            },
            "type": "choropleth"
           }
          ],
          "contour": [
           {
            "colorbar": {
             "outlinewidth": 0,
             "ticks": ""
            },
            "colorscale": [
             [
              0,
              "#0d0887"
             ],
             [
              0.1111111111111111,
              "#46039f"
             ],
             [
              0.2222222222222222,
              "#7201a8"
             ],
             [
              0.3333333333333333,
              "#9c179e"
             ],
             [
              0.4444444444444444,
              "#bd3786"
             ],
             [
              0.5555555555555556,
              "#d8576b"
             ],
             [
              0.6666666666666666,
              "#ed7953"
             ],
             [
              0.7777777777777778,
              "#fb9f3a"
             ],
             [
              0.8888888888888888,
              "#fdca26"
             ],
             [
              1,
              "#f0f921"
             ]
            ],
            "type": "contour"
           }
          ],
          "contourcarpet": [
           {
            "colorbar": {
             "outlinewidth": 0,
             "ticks": ""
            },
            "type": "contourcarpet"
           }
          ],
          "heatmap": [
           {
            "colorbar": {
             "outlinewidth": 0,
             "ticks": ""
            },
            "colorscale": [
             [
              0,
              "#0d0887"
             ],
             [
              0.1111111111111111,
              "#46039f"
             ],
             [
              0.2222222222222222,
              "#7201a8"
             ],
             [
              0.3333333333333333,
              "#9c179e"
             ],
             [
              0.4444444444444444,
              "#bd3786"
             ],
             [
              0.5555555555555556,
              "#d8576b"
             ],
             [
              0.6666666666666666,
              "#ed7953"
             ],
             [
              0.7777777777777778,
              "#fb9f3a"
             ],
             [
              0.8888888888888888,
              "#fdca26"
             ],
             [
              1,
              "#f0f921"
             ]
            ],
            "type": "heatmap"
           }
          ],
          "heatmapgl": [
           {
            "colorbar": {
             "outlinewidth": 0,
             "ticks": ""
            },
            "colorscale": [
             [
              0,
              "#0d0887"
             ],
             [
              0.1111111111111111,
              "#46039f"
             ],
             [
              0.2222222222222222,
              "#7201a8"
             ],
             [
              0.3333333333333333,
              "#9c179e"
             ],
             [
              0.4444444444444444,
              "#bd3786"
             ],
             [
              0.5555555555555556,
              "#d8576b"
             ],
             [
              0.6666666666666666,
              "#ed7953"
             ],
             [
              0.7777777777777778,
              "#fb9f3a"
             ],
             [
              0.8888888888888888,
              "#fdca26"
             ],
             [
              1,
              "#f0f921"
             ]
            ],
            "type": "heatmapgl"
           }
          ],
          "histogram": [
           {
            "marker": {
             "pattern": {
              "fillmode": "overlay",
              "size": 10,
              "solidity": 0.2
             }
            },
            "type": "histogram"
           }
          ],
          "histogram2d": [
           {
            "colorbar": {
             "outlinewidth": 0,
             "ticks": ""
            },
            "colorscale": [
             [
              0,
              "#0d0887"
             ],
             [
              0.1111111111111111,
              "#46039f"
             ],
             [
              0.2222222222222222,
              "#7201a8"
             ],
             [
              0.3333333333333333,
              "#9c179e"
             ],
             [
              0.4444444444444444,
              "#bd3786"
             ],
             [
              0.5555555555555556,
              "#d8576b"
             ],
             [
              0.6666666666666666,
              "#ed7953"
             ],
             [
              0.7777777777777778,
              "#fb9f3a"
             ],
             [
              0.8888888888888888,
              "#fdca26"
             ],
             [
              1,
              "#f0f921"
             ]
            ],
            "type": "histogram2d"
           }
          ],
          "histogram2dcontour": [
           {
            "colorbar": {
             "outlinewidth": 0,
             "ticks": ""
            },
            "colorscale": [
             [
              0,
              "#0d0887"
             ],
             [
              0.1111111111111111,
              "#46039f"
             ],
             [
              0.2222222222222222,
              "#7201a8"
             ],
             [
              0.3333333333333333,
              "#9c179e"
             ],
             [
              0.4444444444444444,
              "#bd3786"
             ],
             [
              0.5555555555555556,
              "#d8576b"
             ],
             [
              0.6666666666666666,
              "#ed7953"
             ],
             [
              0.7777777777777778,
              "#fb9f3a"
             ],
             [
              0.8888888888888888,
              "#fdca26"
             ],
             [
              1,
              "#f0f921"
             ]
            ],
            "type": "histogram2dcontour"
           }
          ],
          "mesh3d": [
           {
            "colorbar": {
             "outlinewidth": 0,
             "ticks": ""
            },
            "type": "mesh3d"
           }
          ],
          "parcoords": [
           {
            "line": {
             "colorbar": {
              "outlinewidth": 0,
              "ticks": ""
             }
            },
            "type": "parcoords"
           }
          ],
          "pie": [
           {
            "automargin": true,
            "type": "pie"
           }
          ],
          "scatter": [
           {
            "fillpattern": {
             "fillmode": "overlay",
             "size": 10,
             "solidity": 0.2
            },
            "type": "scatter"
           }
          ],
          "scatter3d": [
           {
            "line": {
             "colorbar": {
              "outlinewidth": 0,
              "ticks": ""
             }
            },
            "marker": {
             "colorbar": {
              "outlinewidth": 0,
              "ticks": ""
             }
            },
            "type": "scatter3d"
           }
          ],
          "scattercarpet": [
           {
            "marker": {
             "colorbar": {
              "outlinewidth": 0,
              "ticks": ""
             }
            },
            "type": "scattercarpet"
           }
          ],
          "scattergeo": [
           {
            "marker": {
             "colorbar": {
              "outlinewidth": 0,
              "ticks": ""
             }
            },
            "type": "scattergeo"
           }
          ],
          "scattergl": [
           {
            "marker": {
             "colorbar": {
              "outlinewidth": 0,
              "ticks": ""
             }
            },
            "type": "scattergl"
           }
          ],
          "scattermapbox": [
           {
            "marker": {
             "colorbar": {
              "outlinewidth": 0,
              "ticks": ""
             }
            },
            "type": "scattermapbox"
           }
          ],
          "scatterpolar": [
           {
            "marker": {
             "colorbar": {
              "outlinewidth": 0,
              "ticks": ""
             }
            },
            "type": "scatterpolar"
           }
          ],
          "scatterpolargl": [
           {
            "marker": {
             "colorbar": {
              "outlinewidth": 0,
              "ticks": ""
             }
            },
            "type": "scatterpolargl"
           }
          ],
          "scatterternary": [
           {
            "marker": {
             "colorbar": {
              "outlinewidth": 0,
              "ticks": ""
             }
            },
            "type": "scatterternary"
           }
          ],
          "surface": [
           {
            "colorbar": {
             "outlinewidth": 0,
             "ticks": ""
            },
            "colorscale": [
             [
              0,
              "#0d0887"
             ],
             [
              0.1111111111111111,
              "#46039f"
             ],
             [
              0.2222222222222222,
              "#7201a8"
             ],
             [
              0.3333333333333333,
              "#9c179e"
             ],
             [
              0.4444444444444444,
              "#bd3786"
             ],
             [
              0.5555555555555556,
              "#d8576b"
             ],
             [
              0.6666666666666666,
              "#ed7953"
             ],
             [
              0.7777777777777778,
              "#fb9f3a"
             ],
             [
              0.8888888888888888,
              "#fdca26"
             ],
             [
              1,
              "#f0f921"
             ]
            ],
            "type": "surface"
           }
          ],
          "table": [
           {
            "cells": {
             "fill": {
              "color": "#EBF0F8"
             },
             "line": {
              "color": "white"
             }
            },
            "header": {
             "fill": {
              "color": "#C8D4E3"
             },
             "line": {
              "color": "white"
             }
            },
            "type": "table"
           }
          ]
         },
         "layout": {
          "annotationdefaults": {
           "arrowcolor": "#2a3f5f",
           "arrowhead": 0,
           "arrowwidth": 1
          },
          "autotypenumbers": "strict",
          "coloraxis": {
           "colorbar": {
            "outlinewidth": 0,
            "ticks": ""
           }
          },
          "colorscale": {
           "diverging": [
            [
             0,
             "#8e0152"
            ],
            [
             0.1,
             "#c51b7d"
            ],
            [
             0.2,
             "#de77ae"
            ],
            [
             0.3,
             "#f1b6da"
            ],
            [
             0.4,
             "#fde0ef"
            ],
            [
             0.5,
             "#f7f7f7"
            ],
            [
             0.6,
             "#e6f5d0"
            ],
            [
             0.7,
             "#b8e186"
            ],
            [
             0.8,
             "#7fbc41"
            ],
            [
             0.9,
             "#4d9221"
            ],
            [
             1,
             "#276419"
            ]
           ],
           "sequential": [
            [
             0,
             "#0d0887"
            ],
            [
             0.1111111111111111,
             "#46039f"
            ],
            [
             0.2222222222222222,
             "#7201a8"
            ],
            [
             0.3333333333333333,
             "#9c179e"
            ],
            [
             0.4444444444444444,
             "#bd3786"
            ],
            [
             0.5555555555555556,
             "#d8576b"
            ],
            [
             0.6666666666666666,
             "#ed7953"
            ],
            [
             0.7777777777777778,
             "#fb9f3a"
            ],
            [
             0.8888888888888888,
             "#fdca26"
            ],
            [
             1,
             "#f0f921"
            ]
           ],
           "sequentialminus": [
            [
             0,
             "#0d0887"
            ],
            [
             0.1111111111111111,
             "#46039f"
            ],
            [
             0.2222222222222222,
             "#7201a8"
            ],
            [
             0.3333333333333333,
             "#9c179e"
            ],
            [
             0.4444444444444444,
             "#bd3786"
            ],
            [
             0.5555555555555556,
             "#d8576b"
            ],
            [
             0.6666666666666666,
             "#ed7953"
            ],
            [
             0.7777777777777778,
             "#fb9f3a"
            ],
            [
             0.8888888888888888,
             "#fdca26"
            ],
            [
             1,
             "#f0f921"
            ]
           ]
          },
          "colorway": [
           "#636efa",
           "#EF553B",
           "#00cc96",
           "#ab63fa",
           "#FFA15A",
           "#19d3f3",
           "#FF6692",
           "#B6E880",
           "#FF97FF",
           "#FECB52"
          ],
          "font": {
           "color": "#2a3f5f"
          },
          "geo": {
           "bgcolor": "white",
           "lakecolor": "white",
           "landcolor": "#E5ECF6",
           "showlakes": true,
           "showland": true,
           "subunitcolor": "white"
          },
          "hoverlabel": {
           "align": "left"
          },
          "hovermode": "closest",
          "mapbox": {
           "style": "light"
          },
          "paper_bgcolor": "white",
          "plot_bgcolor": "#E5ECF6",
          "polar": {
           "angularaxis": {
            "gridcolor": "white",
            "linecolor": "white",
            "ticks": ""
           },
           "bgcolor": "#E5ECF6",
           "radialaxis": {
            "gridcolor": "white",
            "linecolor": "white",
            "ticks": ""
           }
          },
          "scene": {
           "xaxis": {
            "backgroundcolor": "#E5ECF6",
            "gridcolor": "white",
            "gridwidth": 2,
            "linecolor": "white",
            "showbackground": true,
            "ticks": "",
            "zerolinecolor": "white"
           },
           "yaxis": {
            "backgroundcolor": "#E5ECF6",
            "gridcolor": "white",
            "gridwidth": 2,
            "linecolor": "white",
            "showbackground": true,
            "ticks": "",
            "zerolinecolor": "white"
           },
           "zaxis": {
            "backgroundcolor": "#E5ECF6",
            "gridcolor": "white",
            "gridwidth": 2,
            "linecolor": "white",
            "showbackground": true,
            "ticks": "",
            "zerolinecolor": "white"
           }
          },
          "shapedefaults": {
           "line": {
            "color": "#2a3f5f"
           }
          },
          "ternary": {
           "aaxis": {
            "gridcolor": "white",
            "linecolor": "white",
            "ticks": ""
           },
           "baxis": {
            "gridcolor": "white",
            "linecolor": "white",
            "ticks": ""
           },
           "bgcolor": "#E5ECF6",
           "caxis": {
            "gridcolor": "white",
            "linecolor": "white",
            "ticks": ""
           }
          },
          "title": {
           "x": 0.05
          },
          "xaxis": {
           "automargin": true,
           "gridcolor": "white",
           "linecolor": "white",
           "ticks": "",
           "title": {
            "standoff": 15
           },
           "zerolinecolor": "white",
           "zerolinewidth": 2
          },
          "yaxis": {
           "automargin": true,
           "gridcolor": "white",
           "linecolor": "white",
           "ticks": "",
           "title": {
            "standoff": 15
           },
           "zerolinecolor": "white",
           "zerolinewidth": 2
          }
         }
        },
        "title": {
         "text": "Uso de agua (no relacionado con la tierra) de Chile desde el 2010"
        },
        "xaxis": {
         "anchor": "y",
         "domain": [
          0,
          1
         ],
         "title": {
          "text": "Años"
         }
        },
        "yaxis": {
         "anchor": "x",
         "domain": [
          0,
          1
         ],
         "title": {
          "text": "Uso de agua [m³/s]"
         }
        }
       }
      }
     },
     "metadata": {},
     "output_type": "display_data"
    }
   ],
   "source": [
    "#Graph of yearly national (Non Land) Water Use [km3] lasts years. Non linear adj.\n",
    " \n",
    "# English\n",
    "fig5 = px.scatter(NLU_last_years, x=\"Years\", y=\"NLU\", color_discrete_sequence=['purple'],\n",
    "                 title=\"Non Land Water Use in Chile since 2010\",\n",
    "                 trendline=\"lowess\", trendline_options=dict(frac=0.1),\n",
    "                 labels={'Years': 'Years', 'NLU': 'Water use [m³/s]'})\n",
    "\n",
    "fig5.show()\n",
    "\n",
    "\n",
    "#Spanish\n",
    "fig6 = px.scatter(NLU_last_years, x=\"Years\", y=\"NLU\", color_discrete_sequence=['purple'],\n",
    "               title=\"Uso de agua (no relacionado con la tierra) de Chile desde el 2010\", \n",
    "               trendline=\"lowess\", trendline_options=dict(frac=0.1),\n",
    "               labels={'Years':'Años', 'NLU':'Uso de agua [m³/s]'})\n",
    "\n",
    "\n",
    "fig6.show()\n"
   ]
  },
  {
   "cell_type": "code",
   "execution_count": 65,
   "id": "b6865402",
   "metadata": {},
   "outputs": [
    {
     "data": {
      "application/vnd.plotly.v1+json": {
       "config": {
        "plotlyServerURL": "https://plot.ly"
       },
       "data": [
        {
         "hovertemplate": "Years=%{x}<br>Water use [m³/s]=%{y}<extra></extra>",
         "legendgroup": "",
         "marker": {
          "color": "orange",
          "symbol": "circle"
         },
         "mode": "markers",
         "name": "",
         "orientation": "v",
         "showlegend": false,
         "type": "scatter",
         "x": [
          2002,
          2003,
          2004,
          2005,
          2006,
          2007,
          2008,
          2009,
          2010,
          2011,
          2012,
          2013,
          2014,
          2015,
          2016,
          2017,
          2018,
          2019,
          2020
         ],
         "xaxis": "x",
         "y": [
          3050.61,
          2772.61,
          2715.1,
          3276.18,
          3512.31,
          2833.89,
          3099.25,
          3137.54,
          2794.58,
          2597.94,
          2711.39,
          2649.47,
          3343.9,
          3318.4,
          2623.62,
          3175.38,
          3325.53,
          2717.58,
          2883.97
         ],
         "yaxis": "y"
        },
        {
         "hovertemplate": "<b>OLS trendline</b><br>NLU = -1.93435 * Years + 6865.73<br>R<sup>2</sup>=0.001403<br><br>Years=%{x}<br>Water use [m³/s]=%{y} <b>(trend)</b><extra></extra>",
         "legendgroup": "",
         "marker": {
          "color": "orange",
          "symbol": "circle"
         },
         "mode": "lines",
         "name": "",
         "showlegend": false,
         "type": "scatter",
         "x": [
          2002,
          2003,
          2004,
          2005,
          2006,
          2007,
          2008,
          2009,
          2010,
          2011,
          2012,
          2013,
          2014,
          2015,
          2016,
          2017,
          2018,
          2019,
          2020
         ],
         "xaxis": "x",
         "y": [
          2993.1591578948023,
          2991.2248070176097,
          2989.290456140417,
          2987.3561052632244,
          2985.421754386032,
          2983.4874035088387,
          2981.553052631646,
          2979.6187017544535,
          2977.684350877261,
          2975.750000000068,
          2973.8156491228756,
          2971.8812982456825,
          2969.94694736849,
          2968.0125964912972,
          2966.0782456141046,
          2964.143894736912,
          2962.2095438597194,
          2960.2751929825267,
          2958.3408421053336
         ],
         "yaxis": "y"
        }
       ],
       "layout": {
        "legend": {
         "tracegroupgap": 0
        },
        "template": {
         "data": {
          "bar": [
           {
            "error_x": {
             "color": "#2a3f5f"
            },
            "error_y": {
             "color": "#2a3f5f"
            },
            "marker": {
             "line": {
              "color": "#E5ECF6",
              "width": 0.5
             },
             "pattern": {
              "fillmode": "overlay",
              "size": 10,
              "solidity": 0.2
             }
            },
            "type": "bar"
           }
          ],
          "barpolar": [
           {
            "marker": {
             "line": {
              "color": "#E5ECF6",
              "width": 0.5
             },
             "pattern": {
              "fillmode": "overlay",
              "size": 10,
              "solidity": 0.2
             }
            },
            "type": "barpolar"
           }
          ],
          "carpet": [
           {
            "aaxis": {
             "endlinecolor": "#2a3f5f",
             "gridcolor": "white",
             "linecolor": "white",
             "minorgridcolor": "white",
             "startlinecolor": "#2a3f5f"
            },
            "baxis": {
             "endlinecolor": "#2a3f5f",
             "gridcolor": "white",
             "linecolor": "white",
             "minorgridcolor": "white",
             "startlinecolor": "#2a3f5f"
            },
            "type": "carpet"
           }
          ],
          "choropleth": [
           {
            "colorbar": {
             "outlinewidth": 0,
             "ticks": ""
            },
            "type": "choropleth"
           }
          ],
          "contour": [
           {
            "colorbar": {
             "outlinewidth": 0,
             "ticks": ""
            },
            "colorscale": [
             [
              0,
              "#0d0887"
             ],
             [
              0.1111111111111111,
              "#46039f"
             ],
             [
              0.2222222222222222,
              "#7201a8"
             ],
             [
              0.3333333333333333,
              "#9c179e"
             ],
             [
              0.4444444444444444,
              "#bd3786"
             ],
             [
              0.5555555555555556,
              "#d8576b"
             ],
             [
              0.6666666666666666,
              "#ed7953"
             ],
             [
              0.7777777777777778,
              "#fb9f3a"
             ],
             [
              0.8888888888888888,
              "#fdca26"
             ],
             [
              1,
              "#f0f921"
             ]
            ],
            "type": "contour"
           }
          ],
          "contourcarpet": [
           {
            "colorbar": {
             "outlinewidth": 0,
             "ticks": ""
            },
            "type": "contourcarpet"
           }
          ],
          "heatmap": [
           {
            "colorbar": {
             "outlinewidth": 0,
             "ticks": ""
            },
            "colorscale": [
             [
              0,
              "#0d0887"
             ],
             [
              0.1111111111111111,
              "#46039f"
             ],
             [
              0.2222222222222222,
              "#7201a8"
             ],
             [
              0.3333333333333333,
              "#9c179e"
             ],
             [
              0.4444444444444444,
              "#bd3786"
             ],
             [
              0.5555555555555556,
              "#d8576b"
             ],
             [
              0.6666666666666666,
              "#ed7953"
             ],
             [
              0.7777777777777778,
              "#fb9f3a"
             ],
             [
              0.8888888888888888,
              "#fdca26"
             ],
             [
              1,
              "#f0f921"
             ]
            ],
            "type": "heatmap"
           }
          ],
          "heatmapgl": [
           {
            "colorbar": {
             "outlinewidth": 0,
             "ticks": ""
            },
            "colorscale": [
             [
              0,
              "#0d0887"
             ],
             [
              0.1111111111111111,
              "#46039f"
             ],
             [
              0.2222222222222222,
              "#7201a8"
             ],
             [
              0.3333333333333333,
              "#9c179e"
             ],
             [
              0.4444444444444444,
              "#bd3786"
             ],
             [
              0.5555555555555556,
              "#d8576b"
             ],
             [
              0.6666666666666666,
              "#ed7953"
             ],
             [
              0.7777777777777778,
              "#fb9f3a"
             ],
             [
              0.8888888888888888,
              "#fdca26"
             ],
             [
              1,
              "#f0f921"
             ]
            ],
            "type": "heatmapgl"
           }
          ],
          "histogram": [
           {
            "marker": {
             "pattern": {
              "fillmode": "overlay",
              "size": 10,
              "solidity": 0.2
             }
            },
            "type": "histogram"
           }
          ],
          "histogram2d": [
           {
            "colorbar": {
             "outlinewidth": 0,
             "ticks": ""
            },
            "colorscale": [
             [
              0,
              "#0d0887"
             ],
             [
              0.1111111111111111,
              "#46039f"
             ],
             [
              0.2222222222222222,
              "#7201a8"
             ],
             [
              0.3333333333333333,
              "#9c179e"
             ],
             [
              0.4444444444444444,
              "#bd3786"
             ],
             [
              0.5555555555555556,
              "#d8576b"
             ],
             [
              0.6666666666666666,
              "#ed7953"
             ],
             [
              0.7777777777777778,
              "#fb9f3a"
             ],
             [
              0.8888888888888888,
              "#fdca26"
             ],
             [
              1,
              "#f0f921"
             ]
            ],
            "type": "histogram2d"
           }
          ],
          "histogram2dcontour": [
           {
            "colorbar": {
             "outlinewidth": 0,
             "ticks": ""
            },
            "colorscale": [
             [
              0,
              "#0d0887"
             ],
             [
              0.1111111111111111,
              "#46039f"
             ],
             [
              0.2222222222222222,
              "#7201a8"
             ],
             [
              0.3333333333333333,
              "#9c179e"
             ],
             [
              0.4444444444444444,
              "#bd3786"
             ],
             [
              0.5555555555555556,
              "#d8576b"
             ],
             [
              0.6666666666666666,
              "#ed7953"
             ],
             [
              0.7777777777777778,
              "#fb9f3a"
             ],
             [
              0.8888888888888888,
              "#fdca26"
             ],
             [
              1,
              "#f0f921"
             ]
            ],
            "type": "histogram2dcontour"
           }
          ],
          "mesh3d": [
           {
            "colorbar": {
             "outlinewidth": 0,
             "ticks": ""
            },
            "type": "mesh3d"
           }
          ],
          "parcoords": [
           {
            "line": {
             "colorbar": {
              "outlinewidth": 0,
              "ticks": ""
             }
            },
            "type": "parcoords"
           }
          ],
          "pie": [
           {
            "automargin": true,
            "type": "pie"
           }
          ],
          "scatter": [
           {
            "fillpattern": {
             "fillmode": "overlay",
             "size": 10,
             "solidity": 0.2
            },
            "type": "scatter"
           }
          ],
          "scatter3d": [
           {
            "line": {
             "colorbar": {
              "outlinewidth": 0,
              "ticks": ""
             }
            },
            "marker": {
             "colorbar": {
              "outlinewidth": 0,
              "ticks": ""
             }
            },
            "type": "scatter3d"
           }
          ],
          "scattercarpet": [
           {
            "marker": {
             "colorbar": {
              "outlinewidth": 0,
              "ticks": ""
             }
            },
            "type": "scattercarpet"
           }
          ],
          "scattergeo": [
           {
            "marker": {
             "colorbar": {
              "outlinewidth": 0,
              "ticks": ""
             }
            },
            "type": "scattergeo"
           }
          ],
          "scattergl": [
           {
            "marker": {
             "colorbar": {
              "outlinewidth": 0,
              "ticks": ""
             }
            },
            "type": "scattergl"
           }
          ],
          "scattermapbox": [
           {
            "marker": {
             "colorbar": {
              "outlinewidth": 0,
              "ticks": ""
             }
            },
            "type": "scattermapbox"
           }
          ],
          "scatterpolar": [
           {
            "marker": {
             "colorbar": {
              "outlinewidth": 0,
              "ticks": ""
             }
            },
            "type": "scatterpolar"
           }
          ],
          "scatterpolargl": [
           {
            "marker": {
             "colorbar": {
              "outlinewidth": 0,
              "ticks": ""
             }
            },
            "type": "scatterpolargl"
           }
          ],
          "scatterternary": [
           {
            "marker": {
             "colorbar": {
              "outlinewidth": 0,
              "ticks": ""
             }
            },
            "type": "scatterternary"
           }
          ],
          "surface": [
           {
            "colorbar": {
             "outlinewidth": 0,
             "ticks": ""
            },
            "colorscale": [
             [
              0,
              "#0d0887"
             ],
             [
              0.1111111111111111,
              "#46039f"
             ],
             [
              0.2222222222222222,
              "#7201a8"
             ],
             [
              0.3333333333333333,
              "#9c179e"
             ],
             [
              0.4444444444444444,
              "#bd3786"
             ],
             [
              0.5555555555555556,
              "#d8576b"
             ],
             [
              0.6666666666666666,
              "#ed7953"
             ],
             [
              0.7777777777777778,
              "#fb9f3a"
             ],
             [
              0.8888888888888888,
              "#fdca26"
             ],
             [
              1,
              "#f0f921"
             ]
            ],
            "type": "surface"
           }
          ],
          "table": [
           {
            "cells": {
             "fill": {
              "color": "#EBF0F8"
             },
             "line": {
              "color": "white"
             }
            },
            "header": {
             "fill": {
              "color": "#C8D4E3"
             },
             "line": {
              "color": "white"
             }
            },
            "type": "table"
           }
          ]
         },
         "layout": {
          "annotationdefaults": {
           "arrowcolor": "#2a3f5f",
           "arrowhead": 0,
           "arrowwidth": 1
          },
          "autotypenumbers": "strict",
          "coloraxis": {
           "colorbar": {
            "outlinewidth": 0,
            "ticks": ""
           }
          },
          "colorscale": {
           "diverging": [
            [
             0,
             "#8e0152"
            ],
            [
             0.1,
             "#c51b7d"
            ],
            [
             0.2,
             "#de77ae"
            ],
            [
             0.3,
             "#f1b6da"
            ],
            [
             0.4,
             "#fde0ef"
            ],
            [
             0.5,
             "#f7f7f7"
            ],
            [
             0.6,
             "#e6f5d0"
            ],
            [
             0.7,
             "#b8e186"
            ],
            [
             0.8,
             "#7fbc41"
            ],
            [
             0.9,
             "#4d9221"
            ],
            [
             1,
             "#276419"
            ]
           ],
           "sequential": [
            [
             0,
             "#0d0887"
            ],
            [
             0.1111111111111111,
             "#46039f"
            ],
            [
             0.2222222222222222,
             "#7201a8"
            ],
            [
             0.3333333333333333,
             "#9c179e"
            ],
            [
             0.4444444444444444,
             "#bd3786"
            ],
            [
             0.5555555555555556,
             "#d8576b"
            ],
            [
             0.6666666666666666,
             "#ed7953"
            ],
            [
             0.7777777777777778,
             "#fb9f3a"
            ],
            [
             0.8888888888888888,
             "#fdca26"
            ],
            [
             1,
             "#f0f921"
            ]
           ],
           "sequentialminus": [
            [
             0,
             "#0d0887"
            ],
            [
             0.1111111111111111,
             "#46039f"
            ],
            [
             0.2222222222222222,
             "#7201a8"
            ],
            [
             0.3333333333333333,
             "#9c179e"
            ],
            [
             0.4444444444444444,
             "#bd3786"
            ],
            [
             0.5555555555555556,
             "#d8576b"
            ],
            [
             0.6666666666666666,
             "#ed7953"
            ],
            [
             0.7777777777777778,
             "#fb9f3a"
            ],
            [
             0.8888888888888888,
             "#fdca26"
            ],
            [
             1,
             "#f0f921"
            ]
           ]
          },
          "colorway": [
           "#636efa",
           "#EF553B",
           "#00cc96",
           "#ab63fa",
           "#FFA15A",
           "#19d3f3",
           "#FF6692",
           "#B6E880",
           "#FF97FF",
           "#FECB52"
          ],
          "font": {
           "color": "#2a3f5f"
          },
          "geo": {
           "bgcolor": "white",
           "lakecolor": "white",
           "landcolor": "#E5ECF6",
           "showlakes": true,
           "showland": true,
           "subunitcolor": "white"
          },
          "hoverlabel": {
           "align": "left"
          },
          "hovermode": "closest",
          "mapbox": {
           "style": "light"
          },
          "paper_bgcolor": "white",
          "plot_bgcolor": "#E5ECF6",
          "polar": {
           "angularaxis": {
            "gridcolor": "white",
            "linecolor": "white",
            "ticks": ""
           },
           "bgcolor": "#E5ECF6",
           "radialaxis": {
            "gridcolor": "white",
            "linecolor": "white",
            "ticks": ""
           }
          },
          "scene": {
           "xaxis": {
            "backgroundcolor": "#E5ECF6",
            "gridcolor": "white",
            "gridwidth": 2,
            "linecolor": "white",
            "showbackground": true,
            "ticks": "",
            "zerolinecolor": "white"
           },
           "yaxis": {
            "backgroundcolor": "#E5ECF6",
            "gridcolor": "white",
            "gridwidth": 2,
            "linecolor": "white",
            "showbackground": true,
            "ticks": "",
            "zerolinecolor": "white"
           },
           "zaxis": {
            "backgroundcolor": "#E5ECF6",
            "gridcolor": "white",
            "gridwidth": 2,
            "linecolor": "white",
            "showbackground": true,
            "ticks": "",
            "zerolinecolor": "white"
           }
          },
          "shapedefaults": {
           "line": {
            "color": "#2a3f5f"
           }
          },
          "ternary": {
           "aaxis": {
            "gridcolor": "white",
            "linecolor": "white",
            "ticks": ""
           },
           "baxis": {
            "gridcolor": "white",
            "linecolor": "white",
            "ticks": ""
           },
           "bgcolor": "#E5ECF6",
           "caxis": {
            "gridcolor": "white",
            "linecolor": "white",
            "ticks": ""
           }
          },
          "title": {
           "x": 0.05
          },
          "xaxis": {
           "automargin": true,
           "gridcolor": "white",
           "linecolor": "white",
           "ticks": "",
           "title": {
            "standoff": 15
           },
           "zerolinecolor": "white",
           "zerolinewidth": 2
          },
          "yaxis": {
           "automargin": true,
           "gridcolor": "white",
           "linecolor": "white",
           "ticks": "",
           "title": {
            "standoff": 15
           },
           "zerolinecolor": "white",
           "zerolinewidth": 2
          }
         }
        },
        "title": {
         "text": "Non Land Water Use in Chile since 2002"
        },
        "xaxis": {
         "anchor": "y",
         "domain": [
          0,
          1
         ],
         "title": {
          "text": "Years"
         }
        },
        "yaxis": {
         "anchor": "x",
         "domain": [
          0,
          1
         ],
         "title": {
          "text": "Water use [m³/s]"
         }
        }
       }
      }
     },
     "metadata": {},
     "output_type": "display_data"
    },
    {
     "data": {
      "application/vnd.plotly.v1+json": {
       "config": {
        "plotlyServerURL": "https://plot.ly"
       },
       "data": [
        {
         "hovertemplate": "Años=%{x}<br>Uso de agua [m³/s]=%{y}<extra></extra>",
         "legendgroup": "",
         "marker": {
          "color": "orange",
          "symbol": "circle"
         },
         "mode": "markers",
         "name": "",
         "orientation": "v",
         "showlegend": false,
         "type": "scatter",
         "x": [
          2002,
          2003,
          2004,
          2005,
          2006,
          2007,
          2008,
          2009,
          2010,
          2011,
          2012,
          2013,
          2014,
          2015,
          2016,
          2017,
          2018,
          2019,
          2020
         ],
         "xaxis": "x",
         "y": [
          3050.61,
          2772.61,
          2715.1,
          3276.18,
          3512.31,
          2833.89,
          3099.25,
          3137.54,
          2794.58,
          2597.94,
          2711.39,
          2649.47,
          3343.9,
          3318.4,
          2623.62,
          3175.38,
          3325.53,
          2717.58,
          2883.97
         ],
         "yaxis": "y"
        },
        {
         "hovertemplate": "<b>LOWESS trendline</b><br><br>Años=%{x}<br>Uso de agua [m³/s]=%{y} <b>(trend)</b><extra></extra>",
         "legendgroup": "",
         "marker": {
          "color": "orange",
          "symbol": "circle"
         },
         "mode": "lines",
         "name": "",
         "showlegend": false,
         "type": "scatter",
         "x": [
          2002,
          2003,
          2004,
          2005,
          2006,
          2007,
          2008,
          2009,
          2010,
          2011,
          2012,
          2013,
          2014,
          2015,
          2016,
          2017,
          2018,
          2019,
          2020
         ],
         "xaxis": "x",
         "y": [
          3050.61,
          2772.61,
          2715.1,
          3276.18,
          3512.31,
          2833.89,
          3099.25,
          3137.54,
          2794.58,
          2597.94,
          2711.39,
          2649.47,
          3343.9,
          3318.4,
          2623.62,
          3175.38,
          3325.53,
          2717.58,
          2883.97
         ],
         "yaxis": "y"
        }
       ],
       "layout": {
        "legend": {
         "tracegroupgap": 0
        },
        "template": {
         "data": {
          "bar": [
           {
            "error_x": {
             "color": "#2a3f5f"
            },
            "error_y": {
             "color": "#2a3f5f"
            },
            "marker": {
             "line": {
              "color": "#E5ECF6",
              "width": 0.5
             },
             "pattern": {
              "fillmode": "overlay",
              "size": 10,
              "solidity": 0.2
             }
            },
            "type": "bar"
           }
          ],
          "barpolar": [
           {
            "marker": {
             "line": {
              "color": "#E5ECF6",
              "width": 0.5
             },
             "pattern": {
              "fillmode": "overlay",
              "size": 10,
              "solidity": 0.2
             }
            },
            "type": "barpolar"
           }
          ],
          "carpet": [
           {
            "aaxis": {
             "endlinecolor": "#2a3f5f",
             "gridcolor": "white",
             "linecolor": "white",
             "minorgridcolor": "white",
             "startlinecolor": "#2a3f5f"
            },
            "baxis": {
             "endlinecolor": "#2a3f5f",
             "gridcolor": "white",
             "linecolor": "white",
             "minorgridcolor": "white",
             "startlinecolor": "#2a3f5f"
            },
            "type": "carpet"
           }
          ],
          "choropleth": [
           {
            "colorbar": {
             "outlinewidth": 0,
             "ticks": ""
            },
            "type": "choropleth"
           }
          ],
          "contour": [
           {
            "colorbar": {
             "outlinewidth": 0,
             "ticks": ""
            },
            "colorscale": [
             [
              0,
              "#0d0887"
             ],
             [
              0.1111111111111111,
              "#46039f"
             ],
             [
              0.2222222222222222,
              "#7201a8"
             ],
             [
              0.3333333333333333,
              "#9c179e"
             ],
             [
              0.4444444444444444,
              "#bd3786"
             ],
             [
              0.5555555555555556,
              "#d8576b"
             ],
             [
              0.6666666666666666,
              "#ed7953"
             ],
             [
              0.7777777777777778,
              "#fb9f3a"
             ],
             [
              0.8888888888888888,
              "#fdca26"
             ],
             [
              1,
              "#f0f921"
             ]
            ],
            "type": "contour"
           }
          ],
          "contourcarpet": [
           {
            "colorbar": {
             "outlinewidth": 0,
             "ticks": ""
            },
            "type": "contourcarpet"
           }
          ],
          "heatmap": [
           {
            "colorbar": {
             "outlinewidth": 0,
             "ticks": ""
            },
            "colorscale": [
             [
              0,
              "#0d0887"
             ],
             [
              0.1111111111111111,
              "#46039f"
             ],
             [
              0.2222222222222222,
              "#7201a8"
             ],
             [
              0.3333333333333333,
              "#9c179e"
             ],
             [
              0.4444444444444444,
              "#bd3786"
             ],
             [
              0.5555555555555556,
              "#d8576b"
             ],
             [
              0.6666666666666666,
              "#ed7953"
             ],
             [
              0.7777777777777778,
              "#fb9f3a"
             ],
             [
              0.8888888888888888,
              "#fdca26"
             ],
             [
              1,
              "#f0f921"
             ]
            ],
            "type": "heatmap"
           }
          ],
          "heatmapgl": [
           {
            "colorbar": {
             "outlinewidth": 0,
             "ticks": ""
            },
            "colorscale": [
             [
              0,
              "#0d0887"
             ],
             [
              0.1111111111111111,
              "#46039f"
             ],
             [
              0.2222222222222222,
              "#7201a8"
             ],
             [
              0.3333333333333333,
              "#9c179e"
             ],
             [
              0.4444444444444444,
              "#bd3786"
             ],
             [
              0.5555555555555556,
              "#d8576b"
             ],
             [
              0.6666666666666666,
              "#ed7953"
             ],
             [
              0.7777777777777778,
              "#fb9f3a"
             ],
             [
              0.8888888888888888,
              "#fdca26"
             ],
             [
              1,
              "#f0f921"
             ]
            ],
            "type": "heatmapgl"
           }
          ],
          "histogram": [
           {
            "marker": {
             "pattern": {
              "fillmode": "overlay",
              "size": 10,
              "solidity": 0.2
             }
            },
            "type": "histogram"
           }
          ],
          "histogram2d": [
           {
            "colorbar": {
             "outlinewidth": 0,
             "ticks": ""
            },
            "colorscale": [
             [
              0,
              "#0d0887"
             ],
             [
              0.1111111111111111,
              "#46039f"
             ],
             [
              0.2222222222222222,
              "#7201a8"
             ],
             [
              0.3333333333333333,
              "#9c179e"
             ],
             [
              0.4444444444444444,
              "#bd3786"
             ],
             [
              0.5555555555555556,
              "#d8576b"
             ],
             [
              0.6666666666666666,
              "#ed7953"
             ],
             [
              0.7777777777777778,
              "#fb9f3a"
             ],
             [
              0.8888888888888888,
              "#fdca26"
             ],
             [
              1,
              "#f0f921"
             ]
            ],
            "type": "histogram2d"
           }
          ],
          "histogram2dcontour": [
           {
            "colorbar": {
             "outlinewidth": 0,
             "ticks": ""
            },
            "colorscale": [
             [
              0,
              "#0d0887"
             ],
             [
              0.1111111111111111,
              "#46039f"
             ],
             [
              0.2222222222222222,
              "#7201a8"
             ],
             [
              0.3333333333333333,
              "#9c179e"
             ],
             [
              0.4444444444444444,
              "#bd3786"
             ],
             [
              0.5555555555555556,
              "#d8576b"
             ],
             [
              0.6666666666666666,
              "#ed7953"
             ],
             [
              0.7777777777777778,
              "#fb9f3a"
             ],
             [
              0.8888888888888888,
              "#fdca26"
             ],
             [
              1,
              "#f0f921"
             ]
            ],
            "type": "histogram2dcontour"
           }
          ],
          "mesh3d": [
           {
            "colorbar": {
             "outlinewidth": 0,
             "ticks": ""
            },
            "type": "mesh3d"
           }
          ],
          "parcoords": [
           {
            "line": {
             "colorbar": {
              "outlinewidth": 0,
              "ticks": ""
             }
            },
            "type": "parcoords"
           }
          ],
          "pie": [
           {
            "automargin": true,
            "type": "pie"
           }
          ],
          "scatter": [
           {
            "fillpattern": {
             "fillmode": "overlay",
             "size": 10,
             "solidity": 0.2
            },
            "type": "scatter"
           }
          ],
          "scatter3d": [
           {
            "line": {
             "colorbar": {
              "outlinewidth": 0,
              "ticks": ""
             }
            },
            "marker": {
             "colorbar": {
              "outlinewidth": 0,
              "ticks": ""
             }
            },
            "type": "scatter3d"
           }
          ],
          "scattercarpet": [
           {
            "marker": {
             "colorbar": {
              "outlinewidth": 0,
              "ticks": ""
             }
            },
            "type": "scattercarpet"
           }
          ],
          "scattergeo": [
           {
            "marker": {
             "colorbar": {
              "outlinewidth": 0,
              "ticks": ""
             }
            },
            "type": "scattergeo"
           }
          ],
          "scattergl": [
           {
            "marker": {
             "colorbar": {
              "outlinewidth": 0,
              "ticks": ""
             }
            },
            "type": "scattergl"
           }
          ],
          "scattermapbox": [
           {
            "marker": {
             "colorbar": {
              "outlinewidth": 0,
              "ticks": ""
             }
            },
            "type": "scattermapbox"
           }
          ],
          "scatterpolar": [
           {
            "marker": {
             "colorbar": {
              "outlinewidth": 0,
              "ticks": ""
             }
            },
            "type": "scatterpolar"
           }
          ],
          "scatterpolargl": [
           {
            "marker": {
             "colorbar": {
              "outlinewidth": 0,
              "ticks": ""
             }
            },
            "type": "scatterpolargl"
           }
          ],
          "scatterternary": [
           {
            "marker": {
             "colorbar": {
              "outlinewidth": 0,
              "ticks": ""
             }
            },
            "type": "scatterternary"
           }
          ],
          "surface": [
           {
            "colorbar": {
             "outlinewidth": 0,
             "ticks": ""
            },
            "colorscale": [
             [
              0,
              "#0d0887"
             ],
             [
              0.1111111111111111,
              "#46039f"
             ],
             [
              0.2222222222222222,
              "#7201a8"
             ],
             [
              0.3333333333333333,
              "#9c179e"
             ],
             [
              0.4444444444444444,
              "#bd3786"
             ],
             [
              0.5555555555555556,
              "#d8576b"
             ],
             [
              0.6666666666666666,
              "#ed7953"
             ],
             [
              0.7777777777777778,
              "#fb9f3a"
             ],
             [
              0.8888888888888888,
              "#fdca26"
             ],
             [
              1,
              "#f0f921"
             ]
            ],
            "type": "surface"
           }
          ],
          "table": [
           {
            "cells": {
             "fill": {
              "color": "#EBF0F8"
             },
             "line": {
              "color": "white"
             }
            },
            "header": {
             "fill": {
              "color": "#C8D4E3"
             },
             "line": {
              "color": "white"
             }
            },
            "type": "table"
           }
          ]
         },
         "layout": {
          "annotationdefaults": {
           "arrowcolor": "#2a3f5f",
           "arrowhead": 0,
           "arrowwidth": 1
          },
          "autotypenumbers": "strict",
          "coloraxis": {
           "colorbar": {
            "outlinewidth": 0,
            "ticks": ""
           }
          },
          "colorscale": {
           "diverging": [
            [
             0,
             "#8e0152"
            ],
            [
             0.1,
             "#c51b7d"
            ],
            [
             0.2,
             "#de77ae"
            ],
            [
             0.3,
             "#f1b6da"
            ],
            [
             0.4,
             "#fde0ef"
            ],
            [
             0.5,
             "#f7f7f7"
            ],
            [
             0.6,
             "#e6f5d0"
            ],
            [
             0.7,
             "#b8e186"
            ],
            [
             0.8,
             "#7fbc41"
            ],
            [
             0.9,
             "#4d9221"
            ],
            [
             1,
             "#276419"
            ]
           ],
           "sequential": [
            [
             0,
             "#0d0887"
            ],
            [
             0.1111111111111111,
             "#46039f"
            ],
            [
             0.2222222222222222,
             "#7201a8"
            ],
            [
             0.3333333333333333,
             "#9c179e"
            ],
            [
             0.4444444444444444,
             "#bd3786"
            ],
            [
             0.5555555555555556,
             "#d8576b"
            ],
            [
             0.6666666666666666,
             "#ed7953"
            ],
            [
             0.7777777777777778,
             "#fb9f3a"
            ],
            [
             0.8888888888888888,
             "#fdca26"
            ],
            [
             1,
             "#f0f921"
            ]
           ],
           "sequentialminus": [
            [
             0,
             "#0d0887"
            ],
            [
             0.1111111111111111,
             "#46039f"
            ],
            [
             0.2222222222222222,
             "#7201a8"
            ],
            [
             0.3333333333333333,
             "#9c179e"
            ],
            [
             0.4444444444444444,
             "#bd3786"
            ],
            [
             0.5555555555555556,
             "#d8576b"
            ],
            [
             0.6666666666666666,
             "#ed7953"
            ],
            [
             0.7777777777777778,
             "#fb9f3a"
            ],
            [
             0.8888888888888888,
             "#fdca26"
            ],
            [
             1,
             "#f0f921"
            ]
           ]
          },
          "colorway": [
           "#636efa",
           "#EF553B",
           "#00cc96",
           "#ab63fa",
           "#FFA15A",
           "#19d3f3",
           "#FF6692",
           "#B6E880",
           "#FF97FF",
           "#FECB52"
          ],
          "font": {
           "color": "#2a3f5f"
          },
          "geo": {
           "bgcolor": "white",
           "lakecolor": "white",
           "landcolor": "#E5ECF6",
           "showlakes": true,
           "showland": true,
           "subunitcolor": "white"
          },
          "hoverlabel": {
           "align": "left"
          },
          "hovermode": "closest",
          "mapbox": {
           "style": "light"
          },
          "paper_bgcolor": "white",
          "plot_bgcolor": "#E5ECF6",
          "polar": {
           "angularaxis": {
            "gridcolor": "white",
            "linecolor": "white",
            "ticks": ""
           },
           "bgcolor": "#E5ECF6",
           "radialaxis": {
            "gridcolor": "white",
            "linecolor": "white",
            "ticks": ""
           }
          },
          "scene": {
           "xaxis": {
            "backgroundcolor": "#E5ECF6",
            "gridcolor": "white",
            "gridwidth": 2,
            "linecolor": "white",
            "showbackground": true,
            "ticks": "",
            "zerolinecolor": "white"
           },
           "yaxis": {
            "backgroundcolor": "#E5ECF6",
            "gridcolor": "white",
            "gridwidth": 2,
            "linecolor": "white",
            "showbackground": true,
            "ticks": "",
            "zerolinecolor": "white"
           },
           "zaxis": {
            "backgroundcolor": "#E5ECF6",
            "gridcolor": "white",
            "gridwidth": 2,
            "linecolor": "white",
            "showbackground": true,
            "ticks": "",
            "zerolinecolor": "white"
           }
          },
          "shapedefaults": {
           "line": {
            "color": "#2a3f5f"
           }
          },
          "ternary": {
           "aaxis": {
            "gridcolor": "white",
            "linecolor": "white",
            "ticks": ""
           },
           "baxis": {
            "gridcolor": "white",
            "linecolor": "white",
            "ticks": ""
           },
           "bgcolor": "#E5ECF6",
           "caxis": {
            "gridcolor": "white",
            "linecolor": "white",
            "ticks": ""
           }
          },
          "title": {
           "x": 0.05
          },
          "xaxis": {
           "automargin": true,
           "gridcolor": "white",
           "linecolor": "white",
           "ticks": "",
           "title": {
            "standoff": 15
           },
           "zerolinecolor": "white",
           "zerolinewidth": 2
          },
          "yaxis": {
           "automargin": true,
           "gridcolor": "white",
           "linecolor": "white",
           "ticks": "",
           "title": {
            "standoff": 15
           },
           "zerolinecolor": "white",
           "zerolinewidth": 2
          }
         }
        },
        "title": {
         "text": "Uso de agua (no relacionado con la tierra) de Chile desde el 2002"
        },
        "xaxis": {
         "anchor": "y",
         "domain": [
          0,
          1
         ],
         "title": {
          "text": "Años"
         }
        },
        "yaxis": {
         "anchor": "x",
         "domain": [
          0,
          1
         ],
         "title": {
          "text": "Uso de agua [m³/s]"
         }
        }
       }
      }
     },
     "metadata": {},
     "output_type": "display_data"
    }
   ],
   "source": [
    "#Graph of yearly national (Non Land) Water Use [km3] since 2002. Non linear adj.\n",
    " \n",
    "# English\n",
    "fig7 = px.scatter(NLU_2002, x=\"Years\", y=\"NLU\", color_discrete_sequence=['orange'],\n",
    "                 title=\"Non Land Water Use in Chile since 2002\",\n",
    "                 #trendline=\"lowess\", trendline_options=dict(frac=0.1),\n",
    "                 trendline=\"ols\",\n",
    "                 labels={'Years': 'Years', 'NLU': 'Water use [m³/s]'})\n",
    "\n",
    "fig7.show()\n",
    "\n",
    "\n",
    "#Spanish\n",
    "fig8 = px.scatter(NLU_2002, x=\"Years\", y=\"NLU\", color_discrete_sequence=['orange'],\n",
    "               title=\"Uso de agua (no relacionado con la tierra) de Chile desde el 2002\", \n",
    "               trendline=\"lowess\", trendline_options=dict(frac=0.1),\n",
    "               labels={'Years':'Años', 'NLU':'Uso de agua [m³/s]'})\n",
    "\n",
    "\n",
    "fig8.show()"
   ]
  },
  {
   "cell_type": "code",
   "execution_count": 45,
   "id": "8f558241",
   "metadata": {},
   "outputs": [],
   "source": [
    "#llevar esto a packages\n",
    "\n",
    "from statsmodels.nonparametric.smoothers_lowess import lowess "
   ]
  },
  {
   "cell_type": "code",
   "execution_count": 47,
   "id": "15082788",
   "metadata": {},
   "outputs": [
    {
     "name": "stderr",
     "output_type": "stream",
     "text": [
      "C:\\Users\\Mariana\\AppData\\Local\\Temp\\ipykernel_15416\\3440369603.py:22: SettingWithCopyWarning:\n",
      "\n",
      "\n",
      "A value is trying to be set on a copy of a slice from a DataFrame.\n",
      "Try using .loc[row_indexer,col_indexer] = value instead\n",
      "\n",
      "See the caveats in the documentation: https://pandas.pydata.org/pandas-docs/stable/user_guide/indexing.html#returning-a-view-versus-a-copy\n",
      "\n"
     ]
    },
    {
     "data": {
      "application/vnd.plotly.v1+json": {
       "config": {
        "plotlyServerURL": "https://plot.ly"
       },
       "data": [
        {
         "hovertemplate": "Years=%{x}<br>Water use [km³]=%{y}<extra></extra>",
         "legendgroup": "",
         "marker": {
          "color": "blue",
          "symbol": "circle"
         },
         "mode": "markers",
         "name": "",
         "orientation": "v",
         "showlegend": false,
         "type": "scatter",
         "x": [
          1950,
          1951,
          1952,
          1953,
          1954,
          1955,
          1956,
          1957,
          1958,
          1959,
          1960,
          1961,
          1962,
          1963,
          1964,
          1965,
          1966,
          1967,
          1968,
          1969,
          1970,
          1971,
          1972,
          1973,
          1974,
          1975,
          1976,
          1977,
          1978,
          1979,
          1980,
          1981,
          1982,
          1983,
          1984,
          1985,
          1986,
          1987,
          1988,
          1989,
          1990,
          1991,
          1992,
          1993,
          1994,
          1995,
          1996,
          1997,
          1998,
          1999,
          2000,
          2001,
          2002,
          2003,
          2004,
          2005,
          2006,
          2007,
          2008,
          2009,
          2010,
          2011,
          2012,
          2013,
          2014,
          2015,
          2016,
          2017,
          2018,
          2019,
          2020
         ],
         "xaxis": "x",
         "y": [
          371.98,
          372.25,
          372.55,
          373.61,
          374.2,
          374.83,
          386.31,
          386.82,
          387.33,
          387.95,
          425.95,
          426.54,
          427.42,
          506.78,
          589.22,
          581.84,
          608.98,
          621.29,
          539.02,
          848.28,
          902.97,
          995.23,
          1147.35,
          1141.25,
          1005.4,
          1010.41,
          1046.52,
          1088.73,
          1129.33,
          1168.26,
          1217.45,
          1274.09,
          1210.61,
          1317.29,
          1353.58,
          1509.21,
          1576.55,
          1700.89,
          1694.19,
          1447.51,
          1252.81,
          2097.78,
          2288.9,
          2355.43,
          2194.87,
          2332.17,
          1786.25,
          2637.05,
          2050.84,
          1809.05,
          2597.21,
          2895.19,
          3050.61,
          2772.61,
          2715.1,
          3276.18,
          3512.31,
          2833.89,
          3099.25,
          3137.54,
          2794.58,
          2597.94,
          2711.39,
          2649.47,
          3343.9,
          3318.4,
          2623.62,
          3175.38,
          3325.53,
          2717.58,
          2883.97
         ],
         "yaxis": "y"
        },
        {
         "hovertemplate": "<b>OLS trendline</b><br>NLU = 47.4282 * Years + -92495.2<br>R<sup>2</sup>=0.917540<br><br>Years=%{x}<br>Water use [km³]=%{y} <b>(trend)</b><extra></extra>",
         "legendgroup": "",
         "marker": {
          "color": "blue",
          "symbol": "circle"
         },
         "mode": "lines",
         "name": "",
         "showlegend": false,
         "type": "scatter",
         "x": [
          1950,
          1951,
          1952,
          1953,
          1954,
          1955,
          1956,
          1957,
          1958,
          1959,
          1960,
          1961,
          1962,
          1963,
          1964,
          1965,
          1966,
          1967,
          1968,
          1969,
          1970,
          1971,
          1972,
          1973,
          1974,
          1975,
          1976,
          1977,
          1978,
          1979,
          1980,
          1981,
          1982,
          1983,
          1984,
          1985,
          1986,
          1987,
          1988,
          1989,
          1990,
          1991,
          1992,
          1993,
          1994,
          1995,
          1996,
          1997,
          1998,
          1999,
          2000,
          2001,
          2002,
          2003,
          2004,
          2005,
          2006,
          2007,
          2008,
          2009,
          2010,
          2011,
          2012,
          2013,
          2014,
          2015,
          2016,
          2017,
          2018,
          2019,
          2020
         ],
         "xaxis": "x",
         "y": [
          -10.173978873324813,
          37.254239436544594,
          84.68245774639945,
          132.1106760562543,
          179.5388943661237,
          226.96711267597857,
          274.3953309858334,
          321.82354929570283,
          369.2517676055577,
          416.67998591541254,
          464.10820422528195,
          511.5364225351368,
          558.9646408449917,
          606.3928591548611,
          653.8210774647159,
          701.2492957745708,
          748.6775140844256,
          796.105732394295,
          843.5339507041499,
          890.9621690140048,
          938.3903873238742,
          985.818605633729,
          1033.2468239435839,
          1080.6750422534533,
          1128.1032605633081,
          1175.531478873163,
          1222.9596971830324,
          1270.3879154928873,
          1317.8161338027421,
          1365.2443521126115,
          1412.6725704224664,
          1460.1007887323212,
          1507.5290070421906,
          1554.9572253520455,
          1602.3854436619004,
          1649.8136619717698,
          1697.2418802816246,
          1744.6700985914795,
          1792.0983169013489,
          1839.5265352112037,
          1886.9547535210586,
          1934.382971830928,
          1981.8111901407829,
          2029.2394084506377,
          2076.667626760507,
          2124.095845070362,
          2171.524063380217,
          2218.9522816900862,
          2266.380499999941,
          2313.808718309796,
          2361.236936619651,
          2408.66515492952,
          2456.093373239375,
          2503.52159154923,
          2550.9498098590993,
          2598.378028168954,
          2645.806246478809,
          2693.2344647886785,
          2740.6626830985333,
          2788.090901408388,
          2835.5191197182576,
          2882.9473380281124,
          2930.3755563379673,
          2977.8037746478367,
          3025.2319929576915,
          3072.6602112675464,
          3120.088429577416,
          3167.5166478872707,
          3214.9448661971255,
          3262.373084506995,
          3309.80130281685
         ],
         "yaxis": "y"
        },
        {
         "customdata": [
          [
           159.8715102225765
          ],
          [
           -174.22816618010302
          ],
          [
           -280.86220427222634
          ],
          [
           241.9010965442908
          ],
          [
           419.70309122110893
          ],
          [
           -288.63054612934593
          ],
          [
           47.192061269696296
          ],
          [
           201.86301545680317
          ],
          [
           -58.25594464674941
          ],
          [
           -197.3839872379899
          ],
          [
           -105.13248258049771
          ],
          [
           -249.69469662004758
          ],
          [
           376.41372570134445
          ],
          [
           269.52315689753004
          ],
          [
           -482.127829711143
          ],
          [
           128.53682362496374
          ],
          [
           333.72930317856117
          ],
          [
           -222.11215778032965
          ],
          [
           0.7700058294785777
          ]
         ],
         "hovertemplate": "Years=%{x}<br>NLU=%{y}<br>Residuals=%{customdata[0]}<extra></extra>",
         "legendgroup": "",
         "marker": {
          "color": "red",
          "symbol": "circle"
         },
         "mode": "markers",
         "name": "",
         "orientation": "v",
         "showlegend": false,
         "type": "scatter",
         "x": [
          2002,
          2003,
          2004,
          2005,
          2006,
          2007,
          2008,
          2009,
          2010,
          2011,
          2012,
          2013,
          2014,
          2015,
          2016,
          2017,
          2018,
          2019,
          2020
         ],
         "xaxis": "x",
         "y": [
          3050.61,
          2772.61,
          2715.1,
          3276.18,
          3512.31,
          2833.89,
          3099.25,
          3137.54,
          2794.58,
          2597.94,
          2711.39,
          2649.47,
          3343.9,
          3318.4,
          2623.62,
          3175.38,
          3325.53,
          2717.58,
          2883.97
         ],
         "yaxis": "y"
        },
        {
         "hovertemplate": "<b>LOWESS trendline</b><br><br>Years=%{x}<br>NLU=%{y} <b>(trend)</b><extra></extra>",
         "legendgroup": "",
         "marker": {
          "color": "red",
          "symbol": "circle"
         },
         "mode": "lines",
         "name": "",
         "showlegend": false,
         "type": "scatter",
         "x": [
          2002,
          2003,
          2004,
          2005,
          2006,
          2007,
          2008,
          2009,
          2010,
          2011,
          2012,
          2013,
          2014,
          2015,
          2016,
          2017,
          2018,
          2019,
          2020
         ],
         "xaxis": "x",
         "y": [
          2964.2539746617895,
          2984.8164597649975,
          2999.438933799693,
          3007.605621331699,
          3012.936256776752,
          3024.6242546898343,
          2995.668156317461,
          2945.046004271445,
          2902.285069364733,
          2891.8655645887297,
          2895.973866934135,
          2907.661946925417,
          2938.807631686532,
          2980.31612142521,
          2987.954517964758,
          2990.940356049953,
          2990.4700198626415,
          2985.766165117462,
          2975.1596371606515
         ],
         "yaxis": "y"
        }
       ],
       "layout": {
        "annotations": [
         {
          "align": "left",
          "font": {
           "size": 12
          },
          "showarrow": false,
          "text": "R-squared (All): 0.92\nSlope (All): 47.43",
          "x": 2020,
          "y": 1000
         }
        ],
        "legend": {
         "tracegroupgap": 0
        },
        "margin": {
         "t": 60
        },
        "template": {
         "data": {
          "bar": [
           {
            "error_x": {
             "color": "#2a3f5f"
            },
            "error_y": {
             "color": "#2a3f5f"
            },
            "marker": {
             "line": {
              "color": "#E5ECF6",
              "width": 0.5
             },
             "pattern": {
              "fillmode": "overlay",
              "size": 10,
              "solidity": 0.2
             }
            },
            "type": "bar"
           }
          ],
          "barpolar": [
           {
            "marker": {
             "line": {
              "color": "#E5ECF6",
              "width": 0.5
             },
             "pattern": {
              "fillmode": "overlay",
              "size": 10,
              "solidity": 0.2
             }
            },
            "type": "barpolar"
           }
          ],
          "carpet": [
           {
            "aaxis": {
             "endlinecolor": "#2a3f5f",
             "gridcolor": "white",
             "linecolor": "white",
             "minorgridcolor": "white",
             "startlinecolor": "#2a3f5f"
            },
            "baxis": {
             "endlinecolor": "#2a3f5f",
             "gridcolor": "white",
             "linecolor": "white",
             "minorgridcolor": "white",
             "startlinecolor": "#2a3f5f"
            },
            "type": "carpet"
           }
          ],
          "choropleth": [
           {
            "colorbar": {
             "outlinewidth": 0,
             "ticks": ""
            },
            "type": "choropleth"
           }
          ],
          "contour": [
           {
            "colorbar": {
             "outlinewidth": 0,
             "ticks": ""
            },
            "colorscale": [
             [
              0,
              "#0d0887"
             ],
             [
              0.1111111111111111,
              "#46039f"
             ],
             [
              0.2222222222222222,
              "#7201a8"
             ],
             [
              0.3333333333333333,
              "#9c179e"
             ],
             [
              0.4444444444444444,
              "#bd3786"
             ],
             [
              0.5555555555555556,
              "#d8576b"
             ],
             [
              0.6666666666666666,
              "#ed7953"
             ],
             [
              0.7777777777777778,
              "#fb9f3a"
             ],
             [
              0.8888888888888888,
              "#fdca26"
             ],
             [
              1,
              "#f0f921"
             ]
            ],
            "type": "contour"
           }
          ],
          "contourcarpet": [
           {
            "colorbar": {
             "outlinewidth": 0,
             "ticks": ""
            },
            "type": "contourcarpet"
           }
          ],
          "heatmap": [
           {
            "colorbar": {
             "outlinewidth": 0,
             "ticks": ""
            },
            "colorscale": [
             [
              0,
              "#0d0887"
             ],
             [
              0.1111111111111111,
              "#46039f"
             ],
             [
              0.2222222222222222,
              "#7201a8"
             ],
             [
              0.3333333333333333,
              "#9c179e"
             ],
             [
              0.4444444444444444,
              "#bd3786"
             ],
             [
              0.5555555555555556,
              "#d8576b"
             ],
             [
              0.6666666666666666,
              "#ed7953"
             ],
             [
              0.7777777777777778,
              "#fb9f3a"
             ],
             [
              0.8888888888888888,
              "#fdca26"
             ],
             [
              1,
              "#f0f921"
             ]
            ],
            "type": "heatmap"
           }
          ],
          "heatmapgl": [
           {
            "colorbar": {
             "outlinewidth": 0,
             "ticks": ""
            },
            "colorscale": [
             [
              0,
              "#0d0887"
             ],
             [
              0.1111111111111111,
              "#46039f"
             ],
             [
              0.2222222222222222,
              "#7201a8"
             ],
             [
              0.3333333333333333,
              "#9c179e"
             ],
             [
              0.4444444444444444,
              "#bd3786"
             ],
             [
              0.5555555555555556,
              "#d8576b"
             ],
             [
              0.6666666666666666,
              "#ed7953"
             ],
             [
              0.7777777777777778,
              "#fb9f3a"
             ],
             [
              0.8888888888888888,
              "#fdca26"
             ],
             [
              1,
              "#f0f921"
             ]
            ],
            "type": "heatmapgl"
           }
          ],
          "histogram": [
           {
            "marker": {
             "pattern": {
              "fillmode": "overlay",
              "size": 10,
              "solidity": 0.2
             }
            },
            "type": "histogram"
           }
          ],
          "histogram2d": [
           {
            "colorbar": {
             "outlinewidth": 0,
             "ticks": ""
            },
            "colorscale": [
             [
              0,
              "#0d0887"
             ],
             [
              0.1111111111111111,
              "#46039f"
             ],
             [
              0.2222222222222222,
              "#7201a8"
             ],
             [
              0.3333333333333333,
              "#9c179e"
             ],
             [
              0.4444444444444444,
              "#bd3786"
             ],
             [
              0.5555555555555556,
              "#d8576b"
             ],
             [
              0.6666666666666666,
              "#ed7953"
             ],
             [
              0.7777777777777778,
              "#fb9f3a"
             ],
             [
              0.8888888888888888,
              "#fdca26"
             ],
             [
              1,
              "#f0f921"
             ]
            ],
            "type": "histogram2d"
           }
          ],
          "histogram2dcontour": [
           {
            "colorbar": {
             "outlinewidth": 0,
             "ticks": ""
            },
            "colorscale": [
             [
              0,
              "#0d0887"
             ],
             [
              0.1111111111111111,
              "#46039f"
             ],
             [
              0.2222222222222222,
              "#7201a8"
             ],
             [
              0.3333333333333333,
              "#9c179e"
             ],
             [
              0.4444444444444444,
              "#bd3786"
             ],
             [
              0.5555555555555556,
              "#d8576b"
             ],
             [
              0.6666666666666666,
              "#ed7953"
             ],
             [
              0.7777777777777778,
              "#fb9f3a"
             ],
             [
              0.8888888888888888,
              "#fdca26"
             ],
             [
              1,
              "#f0f921"
             ]
            ],
            "type": "histogram2dcontour"
           }
          ],
          "mesh3d": [
           {
            "colorbar": {
             "outlinewidth": 0,
             "ticks": ""
            },
            "type": "mesh3d"
           }
          ],
          "parcoords": [
           {
            "line": {
             "colorbar": {
              "outlinewidth": 0,
              "ticks": ""
             }
            },
            "type": "parcoords"
           }
          ],
          "pie": [
           {
            "automargin": true,
            "type": "pie"
           }
          ],
          "scatter": [
           {
            "fillpattern": {
             "fillmode": "overlay",
             "size": 10,
             "solidity": 0.2
            },
            "type": "scatter"
           }
          ],
          "scatter3d": [
           {
            "line": {
             "colorbar": {
              "outlinewidth": 0,
              "ticks": ""
             }
            },
            "marker": {
             "colorbar": {
              "outlinewidth": 0,
              "ticks": ""
             }
            },
            "type": "scatter3d"
           }
          ],
          "scattercarpet": [
           {
            "marker": {
             "colorbar": {
              "outlinewidth": 0,
              "ticks": ""
             }
            },
            "type": "scattercarpet"
           }
          ],
          "scattergeo": [
           {
            "marker": {
             "colorbar": {
              "outlinewidth": 0,
              "ticks": ""
             }
            },
            "type": "scattergeo"
           }
          ],
          "scattergl": [
           {
            "marker": {
             "colorbar": {
              "outlinewidth": 0,
              "ticks": ""
             }
            },
            "type": "scattergl"
           }
          ],
          "scattermapbox": [
           {
            "marker": {
             "colorbar": {
              "outlinewidth": 0,
              "ticks": ""
             }
            },
            "type": "scattermapbox"
           }
          ],
          "scatterpolar": [
           {
            "marker": {
             "colorbar": {
              "outlinewidth": 0,
              "ticks": ""
             }
            },
            "type": "scatterpolar"
           }
          ],
          "scatterpolargl": [
           {
            "marker": {
             "colorbar": {
              "outlinewidth": 0,
              "ticks": ""
             }
            },
            "type": "scatterpolargl"
           }
          ],
          "scatterternary": [
           {
            "marker": {
             "colorbar": {
              "outlinewidth": 0,
              "ticks": ""
             }
            },
            "type": "scatterternary"
           }
          ],
          "surface": [
           {
            "colorbar": {
             "outlinewidth": 0,
             "ticks": ""
            },
            "colorscale": [
             [
              0,
              "#0d0887"
             ],
             [
              0.1111111111111111,
              "#46039f"
             ],
             [
              0.2222222222222222,
              "#7201a8"
             ],
             [
              0.3333333333333333,
              "#9c179e"
             ],
             [
              0.4444444444444444,
              "#bd3786"
             ],
             [
              0.5555555555555556,
              "#d8576b"
             ],
             [
              0.6666666666666666,
              "#ed7953"
             ],
             [
              0.7777777777777778,
              "#fb9f3a"
             ],
             [
              0.8888888888888888,
              "#fdca26"
             ],
             [
              1,
              "#f0f921"
             ]
            ],
            "type": "surface"
           }
          ],
          "table": [
           {
            "cells": {
             "fill": {
              "color": "#EBF0F8"
             },
             "line": {
              "color": "white"
             }
            },
            "header": {
             "fill": {
              "color": "#C8D4E3"
             },
             "line": {
              "color": "white"
             }
            },
            "type": "table"
           }
          ]
         },
         "layout": {
          "annotationdefaults": {
           "arrowcolor": "#2a3f5f",
           "arrowhead": 0,
           "arrowwidth": 1
          },
          "autotypenumbers": "strict",
          "coloraxis": {
           "colorbar": {
            "outlinewidth": 0,
            "ticks": ""
           }
          },
          "colorscale": {
           "diverging": [
            [
             0,
             "#8e0152"
            ],
            [
             0.1,
             "#c51b7d"
            ],
            [
             0.2,
             "#de77ae"
            ],
            [
             0.3,
             "#f1b6da"
            ],
            [
             0.4,
             "#fde0ef"
            ],
            [
             0.5,
             "#f7f7f7"
            ],
            [
             0.6,
             "#e6f5d0"
            ],
            [
             0.7,
             "#b8e186"
            ],
            [
             0.8,
             "#7fbc41"
            ],
            [
             0.9,
             "#4d9221"
            ],
            [
             1,
             "#276419"
            ]
           ],
           "sequential": [
            [
             0,
             "#0d0887"
            ],
            [
             0.1111111111111111,
             "#46039f"
            ],
            [
             0.2222222222222222,
             "#7201a8"
            ],
            [
             0.3333333333333333,
             "#9c179e"
            ],
            [
             0.4444444444444444,
             "#bd3786"
            ],
            [
             0.5555555555555556,
             "#d8576b"
            ],
            [
             0.6666666666666666,
             "#ed7953"
            ],
            [
             0.7777777777777778,
             "#fb9f3a"
            ],
            [
             0.8888888888888888,
             "#fdca26"
            ],
            [
             1,
             "#f0f921"
            ]
           ],
           "sequentialminus": [
            [
             0,
             "#0d0887"
            ],
            [
             0.1111111111111111,
             "#46039f"
            ],
            [
             0.2222222222222222,
             "#7201a8"
            ],
            [
             0.3333333333333333,
             "#9c179e"
            ],
            [
             0.4444444444444444,
             "#bd3786"
            ],
            [
             0.5555555555555556,
             "#d8576b"
            ],
            [
             0.6666666666666666,
             "#ed7953"
            ],
            [
             0.7777777777777778,
             "#fb9f3a"
            ],
            [
             0.8888888888888888,
             "#fdca26"
            ],
            [
             1,
             "#f0f921"
            ]
           ]
          },
          "colorway": [
           "#636efa",
           "#EF553B",
           "#00cc96",
           "#ab63fa",
           "#FFA15A",
           "#19d3f3",
           "#FF6692",
           "#B6E880",
           "#FF97FF",
           "#FECB52"
          ],
          "font": {
           "color": "#2a3f5f"
          },
          "geo": {
           "bgcolor": "white",
           "lakecolor": "white",
           "landcolor": "#E5ECF6",
           "showlakes": true,
           "showland": true,
           "subunitcolor": "white"
          },
          "hoverlabel": {
           "align": "left"
          },
          "hovermode": "closest",
          "mapbox": {
           "style": "light"
          },
          "paper_bgcolor": "white",
          "plot_bgcolor": "#E5ECF6",
          "polar": {
           "angularaxis": {
            "gridcolor": "white",
            "linecolor": "white",
            "ticks": ""
           },
           "bgcolor": "#E5ECF6",
           "radialaxis": {
            "gridcolor": "white",
            "linecolor": "white",
            "ticks": ""
           }
          },
          "scene": {
           "xaxis": {
            "backgroundcolor": "#E5ECF6",
            "gridcolor": "white",
            "gridwidth": 2,
            "linecolor": "white",
            "showbackground": true,
            "ticks": "",
            "zerolinecolor": "white"
           },
           "yaxis": {
            "backgroundcolor": "#E5ECF6",
            "gridcolor": "white",
            "gridwidth": 2,
            "linecolor": "white",
            "showbackground": true,
            "ticks": "",
            "zerolinecolor": "white"
           },
           "zaxis": {
            "backgroundcolor": "#E5ECF6",
            "gridcolor": "white",
            "gridwidth": 2,
            "linecolor": "white",
            "showbackground": true,
            "ticks": "",
            "zerolinecolor": "white"
           }
          },
          "shapedefaults": {
           "line": {
            "color": "#2a3f5f"
           }
          },
          "ternary": {
           "aaxis": {
            "gridcolor": "white",
            "linecolor": "white",
            "ticks": ""
           },
           "baxis": {
            "gridcolor": "white",
            "linecolor": "white",
            "ticks": ""
           },
           "bgcolor": "#E5ECF6",
           "caxis": {
            "gridcolor": "white",
            "linecolor": "white",
            "ticks": ""
           }
          },
          "title": {
           "x": 0.05
          },
          "xaxis": {
           "automargin": true,
           "gridcolor": "white",
           "linecolor": "white",
           "ticks": "",
           "title": {
            "standoff": 15
           },
           "zerolinecolor": "white",
           "zerolinewidth": 2
          },
          "yaxis": {
           "automargin": true,
           "gridcolor": "white",
           "linecolor": "white",
           "ticks": "",
           "title": {
            "standoff": 15
           },
           "zerolinecolor": "white",
           "zerolinewidth": 2
          }
         }
        },
        "xaxis": {
         "anchor": "y",
         "domain": [
          0,
          1
         ],
         "title": {
          "text": "Years"
         }
        },
        "yaxis": {
         "anchor": "x",
         "domain": [
          0,
          1
         ],
         "title": {
          "text": "Water use [km³]"
         }
        }
       }
      }
     },
     "metadata": {},
     "output_type": "display_data"
    }
   ],
   "source": [
    "# Ajustar el modelo de regresión lineal para todos los datos\n",
    "model_all = sm.OLS(NLU_nation['NLU'], sm.add_constant(NLU_nation['Years']))\n",
    "results_all = model_all.fit()\n",
    "\n",
    "# Obtener el valor R cuadrado y la pendiente para todos los datos\n",
    "r_squared_all = results_all.rsquared\n",
    "slope_all = results_all.params['Years']\n",
    "\n",
    "# Filtrar los datos para obtener solo los años mayores a 2002\n",
    "filtered_data = NLU_nation[NLU_nation['Years'] >= 2002]\n",
    "\n",
    "# Calcular los residuos utilizando Lowess\n",
    "residuals = filtered_data['NLU'] - lowess(filtered_data['NLU'], filtered_data['Years'], frac=0.5)[:, 1]\n",
    "# Agregar los residuos como una columna adicional en el DataFrame\n",
    "filtered_data.loc[:, 'Residuals'] = residuals\n",
    "\n",
    "# Crear el gráfico de dispersión con los datos completos\n",
    "fig = px.scatter(NLU_nation, x=\"Years\", y=\"NLU\",\n",
    "                 trendline=\"ols\",\n",
    "                 color_discrete_sequence=['blue'],\n",
    "                 labels={'Years': 'Years', 'NLU': 'Water use [km³]'})\n",
    "\n",
    "# Agregar anotación con el valor R cuadrado y la pendiente para los datos completos\n",
    "fig.add_annotation(\n",
    "    x=2020, y=1000,\n",
    "    text=f\"R-squared (All): {r_squared_all:.2f}\\nSlope (All): {slope_all:.2f}\",\n",
    "    showarrow=False,\n",
    "    font=dict(size=12),\n",
    "    align=\"left\"\n",
    ")\n",
    "\n",
    "# Agregar el trazo para los datos filtrados en un color distinto\n",
    "fig.add_traces(px.scatter(filtered_data, x=\"Years\", y=\"NLU\", \n",
    "                          #trendline=\"ols\", \n",
    "                          trendline=\"lowess\", \n",
    "                          hover_data=['Residuals'],\n",
    "                          color_discrete_sequence=['red']).data)\n",
    "\n",
    "# # Agregar anotación con el valor R cuadrado y la pendiente para los datos filtrados\n",
    "# fig.add_annotation(\n",
    "#     x=2020, y=1200,\n",
    "#     text=f\"R-squared (Filtered): {r_squared_filtered:.2f}\\nSlope (Filtered): {slope_filtered:.2f}\",\n",
    "#     showarrow=False,\n",
    "#     font=dict(size=12),\n",
    "#     align=\"right\"\n",
    "# )\n",
    "\n",
    "fig.show()\n"
   ]
  },
  {
   "cell_type": "code",
   "execution_count": 89,
   "id": "db29c0a9-2879-413f-a2c5-73df7d0aa1d4",
   "metadata": {},
   "outputs": [
    {
     "data": {
      "application/vnd.plotly.v1+json": {
       "config": {
        "plotlyServerURL": "https://plot.ly"
       },
       "data": [
        {
         "hovertemplate": "Years=%{x}<br>Water use [m³/s]=%{y}<extra></extra>",
         "legendgroup": "",
         "marker": {
          "color": "#636efa",
          "symbol": "circle"
         },
         "mode": "markers",
         "name": "",
         "orientation": "v",
         "showlegend": false,
         "type": "scatter",
         "x": [
          1950,
          1951,
          1952,
          1953,
          1954,
          1955,
          1956,
          1957,
          1958,
          1959,
          1960,
          1961,
          1962,
          1963,
          1964,
          1965,
          1966,
          1967,
          1968,
          1969,
          1970,
          1971,
          1972,
          1973,
          1974,
          1975,
          1976,
          1977,
          1978,
          1979,
          1980,
          1981,
          1982,
          1983,
          1984,
          1985,
          1986,
          1987,
          1988,
          1989,
          1990,
          1991,
          1992,
          1993,
          1994,
          1995,
          1996,
          1997,
          1998,
          1999,
          2000,
          2001,
          2002,
          2003,
          2004,
          2005,
          2006,
          2007,
          2008,
          2009,
          2010,
          2011,
          2012,
          2013,
          2014,
          2015,
          2016,
          2017,
          2018,
          2019,
          2020
         ],
         "xaxis": "x",
         "y": [
          371.98,
          372.25,
          372.55,
          373.61,
          374.2,
          374.83,
          386.31,
          386.82,
          387.33,
          387.95,
          425.95,
          426.54,
          427.42,
          506.78,
          589.22,
          581.84,
          608.98,
          621.29,
          539.02,
          848.28,
          902.97,
          995.23,
          1147.35,
          1141.25,
          1005.4,
          1010.41,
          1046.52,
          1088.73,
          1129.33,
          1168.26,
          1217.45,
          1274.09,
          1210.61,
          1317.29,
          1353.58,
          1509.21,
          1576.55,
          1700.89,
          1694.19,
          1447.51,
          1252.81,
          2097.78,
          2288.9,
          2355.43,
          2194.87,
          2332.17,
          1786.25,
          2637.05,
          2050.84,
          1809.05,
          2597.21,
          2895.19,
          3050.61,
          2772.61,
          2715.1,
          3276.18,
          3512.31,
          2833.89,
          3099.25,
          3137.54,
          2794.58,
          2597.94,
          2711.39,
          2649.47,
          3343.9,
          3318.4,
          2623.62,
          3175.38,
          3325.53,
          2717.58,
          2883.97
         ],
         "yaxis": "y"
        },
        {
         "hovertemplate": "<b>OLS trendline</b><br>NLU = 47.4282 * Years + -92495.2<br>R<sup>2</sup>=0.917540<br><br>Years=%{x}<br>Water use [m³/s]=%{y} <b>(trend)</b><extra></extra>",
         "legendgroup": "",
         "marker": {
          "color": "#636efa",
          "symbol": "circle"
         },
         "mode": "lines",
         "name": "",
         "showlegend": false,
         "type": "scatter",
         "x": [
          1950,
          1951,
          1952,
          1953,
          1954,
          1955,
          1956,
          1957,
          1958,
          1959,
          1960,
          1961,
          1962,
          1963,
          1964,
          1965,
          1966,
          1967,
          1968,
          1969,
          1970,
          1971,
          1972,
          1973,
          1974,
          1975,
          1976,
          1977,
          1978,
          1979,
          1980,
          1981,
          1982,
          1983,
          1984,
          1985,
          1986,
          1987,
          1988,
          1989,
          1990,
          1991,
          1992,
          1993,
          1994,
          1995,
          1996,
          1997,
          1998,
          1999,
          2000,
          2001,
          2002,
          2003,
          2004,
          2005,
          2006,
          2007,
          2008,
          2009,
          2010,
          2011,
          2012,
          2013,
          2014,
          2015,
          2016,
          2017,
          2018,
          2019,
          2020
         ],
         "xaxis": "x",
         "y": [
          -10.173978873324813,
          37.25423943653004,
          84.6824577463849,
          132.1106760562543,
          179.53889436610916,
          226.96711267596402,
          274.3953309858334,
          321.8235492956883,
          369.25176760554314,
          416.67998591541254,
          464.1082042252674,
          511.53642253512226,
          558.9646408449917,
          606.3928591548465,
          653.8210774647014,
          701.2492957745708,
          748.6775140844256,
          796.1057323942805,
          843.5339507041499,
          890.9621690140048,
          938.3903873238596,
          985.818605633729,
          1033.2468239435839,
          1080.6750422534387,
          1128.1032605633081,
          1175.531478873163,
          1222.9596971830179,
          1270.3879154928873,
          1317.8161338027421,
          1365.244352112597,
          1412.6725704224664,
          1460.1007887323212,
          1507.529007042176,
          1554.9572253520455,
          1602.3854436619004,
          1649.8136619717552,
          1697.2418802816246,
          1744.6700985914795,
          1792.0983169013489,
          1839.5265352112037,
          1886.9547535210586,
          1934.382971830928,
          1981.8111901407829,
          2029.2394084506377,
          2076.667626760507,
          2124.095845070362,
          2171.524063380217,
          2218.9522816900862,
          2266.380499999941,
          2313.808718309796,
          2361.2369366196654,
          2408.66515492952,
          2456.093373239375,
          2503.5215915492445,
          2550.9498098590993,
          2598.378028168954,
          2645.8062464788236,
          2693.2344647886785,
          2740.6626830985333,
          2788.0909014084027,
          2835.5191197182576,
          2882.9473380281124,
          2930.375556337982,
          2977.8037746478367,
          3025.2319929576915,
          3072.660211267561,
          3120.088429577416,
          3167.5166478872707,
          3214.94486619714,
          3262.373084506995,
          3309.80130281685
         ],
         "yaxis": "y"
        }
       ],
       "layout": {
        "legend": {
         "tracegroupgap": 0
        },
        "template": {
         "data": {
          "bar": [
           {
            "error_x": {
             "color": "#2a3f5f"
            },
            "error_y": {
             "color": "#2a3f5f"
            },
            "marker": {
             "line": {
              "color": "#E5ECF6",
              "width": 0.5
             },
             "pattern": {
              "fillmode": "overlay",
              "size": 10,
              "solidity": 0.2
             }
            },
            "type": "bar"
           }
          ],
          "barpolar": [
           {
            "marker": {
             "line": {
              "color": "#E5ECF6",
              "width": 0.5
             },
             "pattern": {
              "fillmode": "overlay",
              "size": 10,
              "solidity": 0.2
             }
            },
            "type": "barpolar"
           }
          ],
          "carpet": [
           {
            "aaxis": {
             "endlinecolor": "#2a3f5f",
             "gridcolor": "white",
             "linecolor": "white",
             "minorgridcolor": "white",
             "startlinecolor": "#2a3f5f"
            },
            "baxis": {
             "endlinecolor": "#2a3f5f",
             "gridcolor": "white",
             "linecolor": "white",
             "minorgridcolor": "white",
             "startlinecolor": "#2a3f5f"
            },
            "type": "carpet"
           }
          ],
          "choropleth": [
           {
            "colorbar": {
             "outlinewidth": 0,
             "ticks": ""
            },
            "type": "choropleth"
           }
          ],
          "contour": [
           {
            "colorbar": {
             "outlinewidth": 0,
             "ticks": ""
            },
            "colorscale": [
             [
              0,
              "#0d0887"
             ],
             [
              0.1111111111111111,
              "#46039f"
             ],
             [
              0.2222222222222222,
              "#7201a8"
             ],
             [
              0.3333333333333333,
              "#9c179e"
             ],
             [
              0.4444444444444444,
              "#bd3786"
             ],
             [
              0.5555555555555556,
              "#d8576b"
             ],
             [
              0.6666666666666666,
              "#ed7953"
             ],
             [
              0.7777777777777778,
              "#fb9f3a"
             ],
             [
              0.8888888888888888,
              "#fdca26"
             ],
             [
              1,
              "#f0f921"
             ]
            ],
            "type": "contour"
           }
          ],
          "contourcarpet": [
           {
            "colorbar": {
             "outlinewidth": 0,
             "ticks": ""
            },
            "type": "contourcarpet"
           }
          ],
          "heatmap": [
           {
            "colorbar": {
             "outlinewidth": 0,
             "ticks": ""
            },
            "colorscale": [
             [
              0,
              "#0d0887"
             ],
             [
              0.1111111111111111,
              "#46039f"
             ],
             [
              0.2222222222222222,
              "#7201a8"
             ],
             [
              0.3333333333333333,
              "#9c179e"
             ],
             [
              0.4444444444444444,
              "#bd3786"
             ],
             [
              0.5555555555555556,
              "#d8576b"
             ],
             [
              0.6666666666666666,
              "#ed7953"
             ],
             [
              0.7777777777777778,
              "#fb9f3a"
             ],
             [
              0.8888888888888888,
              "#fdca26"
             ],
             [
              1,
              "#f0f921"
             ]
            ],
            "type": "heatmap"
           }
          ],
          "heatmapgl": [
           {
            "colorbar": {
             "outlinewidth": 0,
             "ticks": ""
            },
            "colorscale": [
             [
              0,
              "#0d0887"
             ],
             [
              0.1111111111111111,
              "#46039f"
             ],
             [
              0.2222222222222222,
              "#7201a8"
             ],
             [
              0.3333333333333333,
              "#9c179e"
             ],
             [
              0.4444444444444444,
              "#bd3786"
             ],
             [
              0.5555555555555556,
              "#d8576b"
             ],
             [
              0.6666666666666666,
              "#ed7953"
             ],
             [
              0.7777777777777778,
              "#fb9f3a"
             ],
             [
              0.8888888888888888,
              "#fdca26"
             ],
             [
              1,
              "#f0f921"
             ]
            ],
            "type": "heatmapgl"
           }
          ],
          "histogram": [
           {
            "marker": {
             "pattern": {
              "fillmode": "overlay",
              "size": 10,
              "solidity": 0.2
             }
            },
            "type": "histogram"
           }
          ],
          "histogram2d": [
           {
            "colorbar": {
             "outlinewidth": 0,
             "ticks": ""
            },
            "colorscale": [
             [
              0,
              "#0d0887"
             ],
             [
              0.1111111111111111,
              "#46039f"
             ],
             [
              0.2222222222222222,
              "#7201a8"
             ],
             [
              0.3333333333333333,
              "#9c179e"
             ],
             [
              0.4444444444444444,
              "#bd3786"
             ],
             [
              0.5555555555555556,
              "#d8576b"
             ],
             [
              0.6666666666666666,
              "#ed7953"
             ],
             [
              0.7777777777777778,
              "#fb9f3a"
             ],
             [
              0.8888888888888888,
              "#fdca26"
             ],
             [
              1,
              "#f0f921"
             ]
            ],
            "type": "histogram2d"
           }
          ],
          "histogram2dcontour": [
           {
            "colorbar": {
             "outlinewidth": 0,
             "ticks": ""
            },
            "colorscale": [
             [
              0,
              "#0d0887"
             ],
             [
              0.1111111111111111,
              "#46039f"
             ],
             [
              0.2222222222222222,
              "#7201a8"
             ],
             [
              0.3333333333333333,
              "#9c179e"
             ],
             [
              0.4444444444444444,
              "#bd3786"
             ],
             [
              0.5555555555555556,
              "#d8576b"
             ],
             [
              0.6666666666666666,
              "#ed7953"
             ],
             [
              0.7777777777777778,
              "#fb9f3a"
             ],
             [
              0.8888888888888888,
              "#fdca26"
             ],
             [
              1,
              "#f0f921"
             ]
            ],
            "type": "histogram2dcontour"
           }
          ],
          "mesh3d": [
           {
            "colorbar": {
             "outlinewidth": 0,
             "ticks": ""
            },
            "type": "mesh3d"
           }
          ],
          "parcoords": [
           {
            "line": {
             "colorbar": {
              "outlinewidth": 0,
              "ticks": ""
             }
            },
            "type": "parcoords"
           }
          ],
          "pie": [
           {
            "automargin": true,
            "type": "pie"
           }
          ],
          "scatter": [
           {
            "fillpattern": {
             "fillmode": "overlay",
             "size": 10,
             "solidity": 0.2
            },
            "type": "scatter"
           }
          ],
          "scatter3d": [
           {
            "line": {
             "colorbar": {
              "outlinewidth": 0,
              "ticks": ""
             }
            },
            "marker": {
             "colorbar": {
              "outlinewidth": 0,
              "ticks": ""
             }
            },
            "type": "scatter3d"
           }
          ],
          "scattercarpet": [
           {
            "marker": {
             "colorbar": {
              "outlinewidth": 0,
              "ticks": ""
             }
            },
            "type": "scattercarpet"
           }
          ],
          "scattergeo": [
           {
            "marker": {
             "colorbar": {
              "outlinewidth": 0,
              "ticks": ""
             }
            },
            "type": "scattergeo"
           }
          ],
          "scattergl": [
           {
            "marker": {
             "colorbar": {
              "outlinewidth": 0,
              "ticks": ""
             }
            },
            "type": "scattergl"
           }
          ],
          "scattermapbox": [
           {
            "marker": {
             "colorbar": {
              "outlinewidth": 0,
              "ticks": ""
             }
            },
            "type": "scattermapbox"
           }
          ],
          "scatterpolar": [
           {
            "marker": {
             "colorbar": {
              "outlinewidth": 0,
              "ticks": ""
             }
            },
            "type": "scatterpolar"
           }
          ],
          "scatterpolargl": [
           {
            "marker": {
             "colorbar": {
              "outlinewidth": 0,
              "ticks": ""
             }
            },
            "type": "scatterpolargl"
           }
          ],
          "scatterternary": [
           {
            "marker": {
             "colorbar": {
              "outlinewidth": 0,
              "ticks": ""
             }
            },
            "type": "scatterternary"
           }
          ],
          "surface": [
           {
            "colorbar": {
             "outlinewidth": 0,
             "ticks": ""
            },
            "colorscale": [
             [
              0,
              "#0d0887"
             ],
             [
              0.1111111111111111,
              "#46039f"
             ],
             [
              0.2222222222222222,
              "#7201a8"
             ],
             [
              0.3333333333333333,
              "#9c179e"
             ],
             [
              0.4444444444444444,
              "#bd3786"
             ],
             [
              0.5555555555555556,
              "#d8576b"
             ],
             [
              0.6666666666666666,
              "#ed7953"
             ],
             [
              0.7777777777777778,
              "#fb9f3a"
             ],
             [
              0.8888888888888888,
              "#fdca26"
             ],
             [
              1,
              "#f0f921"
             ]
            ],
            "type": "surface"
           }
          ],
          "table": [
           {
            "cells": {
             "fill": {
              "color": "#EBF0F8"
             },
             "line": {
              "color": "white"
             }
            },
            "header": {
             "fill": {
              "color": "#C8D4E3"
             },
             "line": {
              "color": "white"
             }
            },
            "type": "table"
           }
          ]
         },
         "layout": {
          "annotationdefaults": {
           "arrowcolor": "#2a3f5f",
           "arrowhead": 0,
           "arrowwidth": 1
          },
          "autotypenumbers": "strict",
          "coloraxis": {
           "colorbar": {
            "outlinewidth": 0,
            "ticks": ""
           }
          },
          "colorscale": {
           "diverging": [
            [
             0,
             "#8e0152"
            ],
            [
             0.1,
             "#c51b7d"
            ],
            [
             0.2,
             "#de77ae"
            ],
            [
             0.3,
             "#f1b6da"
            ],
            [
             0.4,
             "#fde0ef"
            ],
            [
             0.5,
             "#f7f7f7"
            ],
            [
             0.6,
             "#e6f5d0"
            ],
            [
             0.7,
             "#b8e186"
            ],
            [
             0.8,
             "#7fbc41"
            ],
            [
             0.9,
             "#4d9221"
            ],
            [
             1,
             "#276419"
            ]
           ],
           "sequential": [
            [
             0,
             "#0d0887"
            ],
            [
             0.1111111111111111,
             "#46039f"
            ],
            [
             0.2222222222222222,
             "#7201a8"
            ],
            [
             0.3333333333333333,
             "#9c179e"
            ],
            [
             0.4444444444444444,
             "#bd3786"
            ],
            [
             0.5555555555555556,
             "#d8576b"
            ],
            [
             0.6666666666666666,
             "#ed7953"
            ],
            [
             0.7777777777777778,
             "#fb9f3a"
            ],
            [
             0.8888888888888888,
             "#fdca26"
            ],
            [
             1,
             "#f0f921"
            ]
           ],
           "sequentialminus": [
            [
             0,
             "#0d0887"
            ],
            [
             0.1111111111111111,
             "#46039f"
            ],
            [
             0.2222222222222222,
             "#7201a8"
            ],
            [
             0.3333333333333333,
             "#9c179e"
            ],
            [
             0.4444444444444444,
             "#bd3786"
            ],
            [
             0.5555555555555556,
             "#d8576b"
            ],
            [
             0.6666666666666666,
             "#ed7953"
            ],
            [
             0.7777777777777778,
             "#fb9f3a"
            ],
            [
             0.8888888888888888,
             "#fdca26"
            ],
            [
             1,
             "#f0f921"
            ]
           ]
          },
          "colorway": [
           "#636efa",
           "#EF553B",
           "#00cc96",
           "#ab63fa",
           "#FFA15A",
           "#19d3f3",
           "#FF6692",
           "#B6E880",
           "#FF97FF",
           "#FECB52"
          ],
          "font": {
           "color": "#2a3f5f"
          },
          "geo": {
           "bgcolor": "white",
           "lakecolor": "white",
           "landcolor": "#E5ECF6",
           "showlakes": true,
           "showland": true,
           "subunitcolor": "white"
          },
          "hoverlabel": {
           "align": "left"
          },
          "hovermode": "closest",
          "mapbox": {
           "style": "light"
          },
          "paper_bgcolor": "white",
          "plot_bgcolor": "#E5ECF6",
          "polar": {
           "angularaxis": {
            "gridcolor": "white",
            "linecolor": "white",
            "ticks": ""
           },
           "bgcolor": "#E5ECF6",
           "radialaxis": {
            "gridcolor": "white",
            "linecolor": "white",
            "ticks": ""
           }
          },
          "scene": {
           "xaxis": {
            "backgroundcolor": "#E5ECF6",
            "gridcolor": "white",
            "gridwidth": 2,
            "linecolor": "white",
            "showbackground": true,
            "ticks": "",
            "zerolinecolor": "white"
           },
           "yaxis": {
            "backgroundcolor": "#E5ECF6",
            "gridcolor": "white",
            "gridwidth": 2,
            "linecolor": "white",
            "showbackground": true,
            "ticks": "",
            "zerolinecolor": "white"
           },
           "zaxis": {
            "backgroundcolor": "#E5ECF6",
            "gridcolor": "white",
            "gridwidth": 2,
            "linecolor": "white",
            "showbackground": true,
            "ticks": "",
            "zerolinecolor": "white"
           }
          },
          "shapedefaults": {
           "line": {
            "color": "#2a3f5f"
           }
          },
          "ternary": {
           "aaxis": {
            "gridcolor": "white",
            "linecolor": "white",
            "ticks": ""
           },
           "baxis": {
            "gridcolor": "white",
            "linecolor": "white",
            "ticks": ""
           },
           "bgcolor": "#E5ECF6",
           "caxis": {
            "gridcolor": "white",
            "linecolor": "white",
            "ticks": ""
           }
          },
          "title": {
           "x": 0.05
          },
          "xaxis": {
           "automargin": true,
           "gridcolor": "white",
           "linecolor": "white",
           "ticks": "",
           "title": {
            "standoff": 15
           },
           "zerolinecolor": "white",
           "zerolinewidth": 2
          },
          "yaxis": {
           "automargin": true,
           "gridcolor": "white",
           "linecolor": "white",
           "ticks": "",
           "title": {
            "standoff": 15
           },
           "zerolinecolor": "white",
           "zerolinewidth": 2
          }
         }
        },
        "title": {
         "text": "Non Land Water Use in Chile"
        },
        "xaxis": {
         "anchor": "y",
         "domain": [
          0,
          1
         ],
         "title": {
          "text": "Years"
         }
        },
        "yaxis": {
         "anchor": "x",
         "domain": [
          0,
          1
         ],
         "title": {
          "text": "Water use [m³/s]"
         }
        }
       }
      },
      "text/html": [
       "<div>                            <div id=\"415b6f38-3669-4f9d-9693-e84a3383c18f\" class=\"plotly-graph-div\" style=\"height:525px; width:100%;\"></div>            <script type=\"text/javascript\">                require([\"plotly\"], function(Plotly) {                    window.PLOTLYENV=window.PLOTLYENV || {};                                    if (document.getElementById(\"415b6f38-3669-4f9d-9693-e84a3383c18f\")) {                    Plotly.newPlot(                        \"415b6f38-3669-4f9d-9693-e84a3383c18f\",                        [{\"hovertemplate\":\"Years=%{x}<br>Water use [m\\u00b3/s]=%{y}<extra></extra>\",\"legendgroup\":\"\",\"marker\":{\"color\":\"#636efa\",\"symbol\":\"circle\"},\"mode\":\"markers\",\"name\":\"\",\"orientation\":\"v\",\"showlegend\":false,\"x\":[1950,1951,1952,1953,1954,1955,1956,1957,1958,1959,1960,1961,1962,1963,1964,1965,1966,1967,1968,1969,1970,1971,1972,1973,1974,1975,1976,1977,1978,1979,1980,1981,1982,1983,1984,1985,1986,1987,1988,1989,1990,1991,1992,1993,1994,1995,1996,1997,1998,1999,2000,2001,2002,2003,2004,2005,2006,2007,2008,2009,2010,2011,2012,2013,2014,2015,2016,2017,2018,2019,2020],\"xaxis\":\"x\",\"y\":[371.98,372.25,372.55,373.61,374.2,374.83,386.31,386.82,387.33,387.95,425.95,426.54,427.42,506.78,589.22,581.84,608.98,621.29,539.02,848.28,902.97,995.23,1147.35,1141.25,1005.4,1010.41,1046.52,1088.73,1129.33,1168.26,1217.45,1274.09,1210.61,1317.29,1353.58,1509.21,1576.55,1700.89,1694.19,1447.51,1252.81,2097.78,2288.9,2355.43,2194.87,2332.17,1786.25,2637.05,2050.84,1809.05,2597.21,2895.19,3050.61,2772.61,2715.1,3276.18,3512.31,2833.89,3099.25,3137.54,2794.58,2597.94,2711.39,2649.47,3343.9,3318.4,2623.62,3175.38,3325.53,2717.58,2883.97],\"yaxis\":\"y\",\"type\":\"scatter\"},{\"hovertemplate\":\"<b>OLS trendline</b><br>NLU = 47.4282 * Years + -92495.2<br>R<sup>2</sup>=0.917540<br><br>Years=%{x}<br>Water use [m\\u00b3/s]=%{y} <b>(trend)</b><extra></extra>\",\"legendgroup\":\"\",\"marker\":{\"color\":\"#636efa\",\"symbol\":\"circle\"},\"mode\":\"lines\",\"name\":\"\",\"showlegend\":false,\"x\":[1950,1951,1952,1953,1954,1955,1956,1957,1958,1959,1960,1961,1962,1963,1964,1965,1966,1967,1968,1969,1970,1971,1972,1973,1974,1975,1976,1977,1978,1979,1980,1981,1982,1983,1984,1985,1986,1987,1988,1989,1990,1991,1992,1993,1994,1995,1996,1997,1998,1999,2000,2001,2002,2003,2004,2005,2006,2007,2008,2009,2010,2011,2012,2013,2014,2015,2016,2017,2018,2019,2020],\"xaxis\":\"x\",\"y\":[-10.173978873324813,37.25423943653004,84.6824577463849,132.1106760562543,179.53889436610916,226.96711267596402,274.3953309858334,321.8235492956883,369.25176760554314,416.67998591541254,464.1082042252674,511.53642253512226,558.9646408449917,606.3928591548465,653.8210774647014,701.2492957745708,748.6775140844256,796.1057323942805,843.5339507041499,890.9621690140048,938.3903873238596,985.818605633729,1033.2468239435839,1080.6750422534387,1128.1032605633081,1175.531478873163,1222.9596971830179,1270.3879154928873,1317.8161338027421,1365.244352112597,1412.6725704224664,1460.1007887323212,1507.529007042176,1554.9572253520455,1602.3854436619004,1649.8136619717552,1697.2418802816246,1744.6700985914795,1792.0983169013489,1839.5265352112037,1886.9547535210586,1934.382971830928,1981.8111901407829,2029.2394084506377,2076.667626760507,2124.095845070362,2171.524063380217,2218.9522816900862,2266.380499999941,2313.808718309796,2361.2369366196654,2408.66515492952,2456.093373239375,2503.5215915492445,2550.9498098590993,2598.378028168954,2645.8062464788236,2693.2344647886785,2740.6626830985333,2788.0909014084027,2835.5191197182576,2882.9473380281124,2930.375556337982,2977.8037746478367,3025.2319929576915,3072.660211267561,3120.088429577416,3167.5166478872707,3214.94486619714,3262.373084506995,3309.80130281685],\"yaxis\":\"y\",\"type\":\"scatter\"}],                        {\"template\":{\"data\":{\"histogram2dcontour\":[{\"type\":\"histogram2dcontour\",\"colorbar\":{\"outlinewidth\":0,\"ticks\":\"\"},\"colorscale\":[[0.0,\"#0d0887\"],[0.1111111111111111,\"#46039f\"],[0.2222222222222222,\"#7201a8\"],[0.3333333333333333,\"#9c179e\"],[0.4444444444444444,\"#bd3786\"],[0.5555555555555556,\"#d8576b\"],[0.6666666666666666,\"#ed7953\"],[0.7777777777777778,\"#fb9f3a\"],[0.8888888888888888,\"#fdca26\"],[1.0,\"#f0f921\"]]}],\"choropleth\":[{\"type\":\"choropleth\",\"colorbar\":{\"outlinewidth\":0,\"ticks\":\"\"}}],\"histogram2d\":[{\"type\":\"histogram2d\",\"colorbar\":{\"outlinewidth\":0,\"ticks\":\"\"},\"colorscale\":[[0.0,\"#0d0887\"],[0.1111111111111111,\"#46039f\"],[0.2222222222222222,\"#7201a8\"],[0.3333333333333333,\"#9c179e\"],[0.4444444444444444,\"#bd3786\"],[0.5555555555555556,\"#d8576b\"],[0.6666666666666666,\"#ed7953\"],[0.7777777777777778,\"#fb9f3a\"],[0.8888888888888888,\"#fdca26\"],[1.0,\"#f0f921\"]]}],\"heatmap\":[{\"type\":\"heatmap\",\"colorbar\":{\"outlinewidth\":0,\"ticks\":\"\"},\"colorscale\":[[0.0,\"#0d0887\"],[0.1111111111111111,\"#46039f\"],[0.2222222222222222,\"#7201a8\"],[0.3333333333333333,\"#9c179e\"],[0.4444444444444444,\"#bd3786\"],[0.5555555555555556,\"#d8576b\"],[0.6666666666666666,\"#ed7953\"],[0.7777777777777778,\"#fb9f3a\"],[0.8888888888888888,\"#fdca26\"],[1.0,\"#f0f921\"]]}],\"heatmapgl\":[{\"type\":\"heatmapgl\",\"colorbar\":{\"outlinewidth\":0,\"ticks\":\"\"},\"colorscale\":[[0.0,\"#0d0887\"],[0.1111111111111111,\"#46039f\"],[0.2222222222222222,\"#7201a8\"],[0.3333333333333333,\"#9c179e\"],[0.4444444444444444,\"#bd3786\"],[0.5555555555555556,\"#d8576b\"],[0.6666666666666666,\"#ed7953\"],[0.7777777777777778,\"#fb9f3a\"],[0.8888888888888888,\"#fdca26\"],[1.0,\"#f0f921\"]]}],\"contourcarpet\":[{\"type\":\"contourcarpet\",\"colorbar\":{\"outlinewidth\":0,\"ticks\":\"\"}}],\"contour\":[{\"type\":\"contour\",\"colorbar\":{\"outlinewidth\":0,\"ticks\":\"\"},\"colorscale\":[[0.0,\"#0d0887\"],[0.1111111111111111,\"#46039f\"],[0.2222222222222222,\"#7201a8\"],[0.3333333333333333,\"#9c179e\"],[0.4444444444444444,\"#bd3786\"],[0.5555555555555556,\"#d8576b\"],[0.6666666666666666,\"#ed7953\"],[0.7777777777777778,\"#fb9f3a\"],[0.8888888888888888,\"#fdca26\"],[1.0,\"#f0f921\"]]}],\"surface\":[{\"type\":\"surface\",\"colorbar\":{\"outlinewidth\":0,\"ticks\":\"\"},\"colorscale\":[[0.0,\"#0d0887\"],[0.1111111111111111,\"#46039f\"],[0.2222222222222222,\"#7201a8\"],[0.3333333333333333,\"#9c179e\"],[0.4444444444444444,\"#bd3786\"],[0.5555555555555556,\"#d8576b\"],[0.6666666666666666,\"#ed7953\"],[0.7777777777777778,\"#fb9f3a\"],[0.8888888888888888,\"#fdca26\"],[1.0,\"#f0f921\"]]}],\"mesh3d\":[{\"type\":\"mesh3d\",\"colorbar\":{\"outlinewidth\":0,\"ticks\":\"\"}}],\"scatter\":[{\"fillpattern\":{\"fillmode\":\"overlay\",\"size\":10,\"solidity\":0.2},\"type\":\"scatter\"}],\"parcoords\":[{\"type\":\"parcoords\",\"line\":{\"colorbar\":{\"outlinewidth\":0,\"ticks\":\"\"}}}],\"scatterpolargl\":[{\"type\":\"scatterpolargl\",\"marker\":{\"colorbar\":{\"outlinewidth\":0,\"ticks\":\"\"}}}],\"bar\":[{\"error_x\":{\"color\":\"#2a3f5f\"},\"error_y\":{\"color\":\"#2a3f5f\"},\"marker\":{\"line\":{\"color\":\"#E5ECF6\",\"width\":0.5},\"pattern\":{\"fillmode\":\"overlay\",\"size\":10,\"solidity\":0.2}},\"type\":\"bar\"}],\"scattergeo\":[{\"type\":\"scattergeo\",\"marker\":{\"colorbar\":{\"outlinewidth\":0,\"ticks\":\"\"}}}],\"scatterpolar\":[{\"type\":\"scatterpolar\",\"marker\":{\"colorbar\":{\"outlinewidth\":0,\"ticks\":\"\"}}}],\"histogram\":[{\"marker\":{\"pattern\":{\"fillmode\":\"overlay\",\"size\":10,\"solidity\":0.2}},\"type\":\"histogram\"}],\"scattergl\":[{\"type\":\"scattergl\",\"marker\":{\"colorbar\":{\"outlinewidth\":0,\"ticks\":\"\"}}}],\"scatter3d\":[{\"type\":\"scatter3d\",\"line\":{\"colorbar\":{\"outlinewidth\":0,\"ticks\":\"\"}},\"marker\":{\"colorbar\":{\"outlinewidth\":0,\"ticks\":\"\"}}}],\"scattermapbox\":[{\"type\":\"scattermapbox\",\"marker\":{\"colorbar\":{\"outlinewidth\":0,\"ticks\":\"\"}}}],\"scatterternary\":[{\"type\":\"scatterternary\",\"marker\":{\"colorbar\":{\"outlinewidth\":0,\"ticks\":\"\"}}}],\"scattercarpet\":[{\"type\":\"scattercarpet\",\"marker\":{\"colorbar\":{\"outlinewidth\":0,\"ticks\":\"\"}}}],\"carpet\":[{\"aaxis\":{\"endlinecolor\":\"#2a3f5f\",\"gridcolor\":\"white\",\"linecolor\":\"white\",\"minorgridcolor\":\"white\",\"startlinecolor\":\"#2a3f5f\"},\"baxis\":{\"endlinecolor\":\"#2a3f5f\",\"gridcolor\":\"white\",\"linecolor\":\"white\",\"minorgridcolor\":\"white\",\"startlinecolor\":\"#2a3f5f\"},\"type\":\"carpet\"}],\"table\":[{\"cells\":{\"fill\":{\"color\":\"#EBF0F8\"},\"line\":{\"color\":\"white\"}},\"header\":{\"fill\":{\"color\":\"#C8D4E3\"},\"line\":{\"color\":\"white\"}},\"type\":\"table\"}],\"barpolar\":[{\"marker\":{\"line\":{\"color\":\"#E5ECF6\",\"width\":0.5},\"pattern\":{\"fillmode\":\"overlay\",\"size\":10,\"solidity\":0.2}},\"type\":\"barpolar\"}],\"pie\":[{\"automargin\":true,\"type\":\"pie\"}]},\"layout\":{\"autotypenumbers\":\"strict\",\"colorway\":[\"#636efa\",\"#EF553B\",\"#00cc96\",\"#ab63fa\",\"#FFA15A\",\"#19d3f3\",\"#FF6692\",\"#B6E880\",\"#FF97FF\",\"#FECB52\"],\"font\":{\"color\":\"#2a3f5f\"},\"hovermode\":\"closest\",\"hoverlabel\":{\"align\":\"left\"},\"paper_bgcolor\":\"white\",\"plot_bgcolor\":\"#E5ECF6\",\"polar\":{\"bgcolor\":\"#E5ECF6\",\"angularaxis\":{\"gridcolor\":\"white\",\"linecolor\":\"white\",\"ticks\":\"\"},\"radialaxis\":{\"gridcolor\":\"white\",\"linecolor\":\"white\",\"ticks\":\"\"}},\"ternary\":{\"bgcolor\":\"#E5ECF6\",\"aaxis\":{\"gridcolor\":\"white\",\"linecolor\":\"white\",\"ticks\":\"\"},\"baxis\":{\"gridcolor\":\"white\",\"linecolor\":\"white\",\"ticks\":\"\"},\"caxis\":{\"gridcolor\":\"white\",\"linecolor\":\"white\",\"ticks\":\"\"}},\"coloraxis\":{\"colorbar\":{\"outlinewidth\":0,\"ticks\":\"\"}},\"colorscale\":{\"sequential\":[[0.0,\"#0d0887\"],[0.1111111111111111,\"#46039f\"],[0.2222222222222222,\"#7201a8\"],[0.3333333333333333,\"#9c179e\"],[0.4444444444444444,\"#bd3786\"],[0.5555555555555556,\"#d8576b\"],[0.6666666666666666,\"#ed7953\"],[0.7777777777777778,\"#fb9f3a\"],[0.8888888888888888,\"#fdca26\"],[1.0,\"#f0f921\"]],\"sequentialminus\":[[0.0,\"#0d0887\"],[0.1111111111111111,\"#46039f\"],[0.2222222222222222,\"#7201a8\"],[0.3333333333333333,\"#9c179e\"],[0.4444444444444444,\"#bd3786\"],[0.5555555555555556,\"#d8576b\"],[0.6666666666666666,\"#ed7953\"],[0.7777777777777778,\"#fb9f3a\"],[0.8888888888888888,\"#fdca26\"],[1.0,\"#f0f921\"]],\"diverging\":[[0,\"#8e0152\"],[0.1,\"#c51b7d\"],[0.2,\"#de77ae\"],[0.3,\"#f1b6da\"],[0.4,\"#fde0ef\"],[0.5,\"#f7f7f7\"],[0.6,\"#e6f5d0\"],[0.7,\"#b8e186\"],[0.8,\"#7fbc41\"],[0.9,\"#4d9221\"],[1,\"#276419\"]]},\"xaxis\":{\"gridcolor\":\"white\",\"linecolor\":\"white\",\"ticks\":\"\",\"title\":{\"standoff\":15},\"zerolinecolor\":\"white\",\"automargin\":true,\"zerolinewidth\":2},\"yaxis\":{\"gridcolor\":\"white\",\"linecolor\":\"white\",\"ticks\":\"\",\"title\":{\"standoff\":15},\"zerolinecolor\":\"white\",\"automargin\":true,\"zerolinewidth\":2},\"scene\":{\"xaxis\":{\"backgroundcolor\":\"#E5ECF6\",\"gridcolor\":\"white\",\"linecolor\":\"white\",\"showbackground\":true,\"ticks\":\"\",\"zerolinecolor\":\"white\",\"gridwidth\":2},\"yaxis\":{\"backgroundcolor\":\"#E5ECF6\",\"gridcolor\":\"white\",\"linecolor\":\"white\",\"showbackground\":true,\"ticks\":\"\",\"zerolinecolor\":\"white\",\"gridwidth\":2},\"zaxis\":{\"backgroundcolor\":\"#E5ECF6\",\"gridcolor\":\"white\",\"linecolor\":\"white\",\"showbackground\":true,\"ticks\":\"\",\"zerolinecolor\":\"white\",\"gridwidth\":2}},\"shapedefaults\":{\"line\":{\"color\":\"#2a3f5f\"}},\"annotationdefaults\":{\"arrowcolor\":\"#2a3f5f\",\"arrowhead\":0,\"arrowwidth\":1},\"geo\":{\"bgcolor\":\"white\",\"landcolor\":\"#E5ECF6\",\"subunitcolor\":\"white\",\"showland\":true,\"showlakes\":true,\"lakecolor\":\"white\"},\"title\":{\"x\":0.05},\"mapbox\":{\"style\":\"light\"}}},\"xaxis\":{\"anchor\":\"y\",\"domain\":[0.0,1.0],\"title\":{\"text\":\"Years\"}},\"yaxis\":{\"anchor\":\"x\",\"domain\":[0.0,1.0],\"title\":{\"text\":\"Water use [m\\u00b3/s]\"}},\"legend\":{\"tracegroupgap\":0},\"title\":{\"text\":\"Non Land Water Use in Chile\"}},                        {\"responsive\": true}                    ).then(function(){\n",
       "                            \n",
       "var gd = document.getElementById('415b6f38-3669-4f9d-9693-e84a3383c18f');\n",
       "var x = new MutationObserver(function (mutations, observer) {{\n",
       "        var display = window.getComputedStyle(gd).display;\n",
       "        if (!display || display === 'none') {{\n",
       "            console.log([gd, 'removed!']);\n",
       "            Plotly.purge(gd);\n",
       "            observer.disconnect();\n",
       "        }}\n",
       "}});\n",
       "\n",
       "// Listen for the removal of the full notebook cells\n",
       "var notebookContainer = gd.closest('#notebook-container');\n",
       "if (notebookContainer) {{\n",
       "    x.observe(notebookContainer, {childList: true});\n",
       "}}\n",
       "\n",
       "// Listen for the clearing of the current output cell\n",
       "var outputEl = gd.closest('.output');\n",
       "if (outputEl) {{\n",
       "    x.observe(outputEl, {childList: true});\n",
       "}}\n",
       "\n",
       "                        })                };                });            </script>        </div>"
      ]
     },
     "metadata": {},
     "output_type": "display_data"
    },
    {
     "data": {
      "application/vnd.plotly.v1+json": {
       "config": {
        "plotlyServerURL": "https://plot.ly"
       },
       "data": [
        {
         "hovertemplate": "Años=%{x}<br>Uso de agua [m³/s]=%{y}<extra></extra>",
         "legendgroup": "",
         "line": {
          "color": "#636efa",
          "dash": "solid"
         },
         "marker": {
          "symbol": "circle"
         },
         "mode": "lines",
         "name": "",
         "orientation": "v",
         "showlegend": false,
         "type": "scatter",
         "x": [
          1950,
          1951,
          1952,
          1953,
          1954,
          1955,
          1956,
          1957,
          1958,
          1959,
          1960,
          1961,
          1962,
          1963,
          1964,
          1965,
          1966,
          1967,
          1968,
          1969,
          1970,
          1971,
          1972,
          1973,
          1974,
          1975,
          1976,
          1977,
          1978,
          1979,
          1980,
          1981,
          1982,
          1983,
          1984,
          1985,
          1986,
          1987,
          1988,
          1989,
          1990,
          1991,
          1992,
          1993,
          1994,
          1995,
          1996,
          1997,
          1998,
          1999,
          2000,
          2001,
          2002,
          2003,
          2004,
          2005,
          2006,
          2007,
          2008,
          2009,
          2010,
          2011,
          2012,
          2013,
          2014,
          2015,
          2016,
          2017,
          2018,
          2019,
          2020
         ],
         "xaxis": "x",
         "y": [
          371.98,
          372.25,
          372.55,
          373.61,
          374.2,
          374.83,
          386.31,
          386.82,
          387.33,
          387.95,
          425.95,
          426.54,
          427.42,
          506.78,
          589.22,
          581.84,
          608.98,
          621.29,
          539.02,
          848.28,
          902.97,
          995.23,
          1147.35,
          1141.25,
          1005.4,
          1010.41,
          1046.52,
          1088.73,
          1129.33,
          1168.26,
          1217.45,
          1274.09,
          1210.61,
          1317.29,
          1353.58,
          1509.21,
          1576.55,
          1700.89,
          1694.19,
          1447.51,
          1252.81,
          2097.78,
          2288.9,
          2355.43,
          2194.87,
          2332.17,
          1786.25,
          2637.05,
          2050.84,
          1809.05,
          2597.21,
          2895.19,
          3050.61,
          2772.61,
          2715.1,
          3276.18,
          3512.31,
          2833.89,
          3099.25,
          3137.54,
          2794.58,
          2597.94,
          2711.39,
          2649.47,
          3343.9,
          3318.4,
          2623.62,
          3175.38,
          3325.53,
          2717.58,
          2883.97
         ],
         "yaxis": "y"
        }
       ],
       "layout": {
        "legend": {
         "tracegroupgap": 0
        },
        "template": {
         "data": {
          "bar": [
           {
            "error_x": {
             "color": "#2a3f5f"
            },
            "error_y": {
             "color": "#2a3f5f"
            },
            "marker": {
             "line": {
              "color": "#E5ECF6",
              "width": 0.5
             },
             "pattern": {
              "fillmode": "overlay",
              "size": 10,
              "solidity": 0.2
             }
            },
            "type": "bar"
           }
          ],
          "barpolar": [
           {
            "marker": {
             "line": {
              "color": "#E5ECF6",
              "width": 0.5
             },
             "pattern": {
              "fillmode": "overlay",
              "size": 10,
              "solidity": 0.2
             }
            },
            "type": "barpolar"
           }
          ],
          "carpet": [
           {
            "aaxis": {
             "endlinecolor": "#2a3f5f",
             "gridcolor": "white",
             "linecolor": "white",
             "minorgridcolor": "white",
             "startlinecolor": "#2a3f5f"
            },
            "baxis": {
             "endlinecolor": "#2a3f5f",
             "gridcolor": "white",
             "linecolor": "white",
             "minorgridcolor": "white",
             "startlinecolor": "#2a3f5f"
            },
            "type": "carpet"
           }
          ],
          "choropleth": [
           {
            "colorbar": {
             "outlinewidth": 0,
             "ticks": ""
            },
            "type": "choropleth"
           }
          ],
          "contour": [
           {
            "colorbar": {
             "outlinewidth": 0,
             "ticks": ""
            },
            "colorscale": [
             [
              0,
              "#0d0887"
             ],
             [
              0.1111111111111111,
              "#46039f"
             ],
             [
              0.2222222222222222,
              "#7201a8"
             ],
             [
              0.3333333333333333,
              "#9c179e"
             ],
             [
              0.4444444444444444,
              "#bd3786"
             ],
             [
              0.5555555555555556,
              "#d8576b"
             ],
             [
              0.6666666666666666,
              "#ed7953"
             ],
             [
              0.7777777777777778,
              "#fb9f3a"
             ],
             [
              0.8888888888888888,
              "#fdca26"
             ],
             [
              1,
              "#f0f921"
             ]
            ],
            "type": "contour"
           }
          ],
          "contourcarpet": [
           {
            "colorbar": {
             "outlinewidth": 0,
             "ticks": ""
            },
            "type": "contourcarpet"
           }
          ],
          "heatmap": [
           {
            "colorbar": {
             "outlinewidth": 0,
             "ticks": ""
            },
            "colorscale": [
             [
              0,
              "#0d0887"
             ],
             [
              0.1111111111111111,
              "#46039f"
             ],
             [
              0.2222222222222222,
              "#7201a8"
             ],
             [
              0.3333333333333333,
              "#9c179e"
             ],
             [
              0.4444444444444444,
              "#bd3786"
             ],
             [
              0.5555555555555556,
              "#d8576b"
             ],
             [
              0.6666666666666666,
              "#ed7953"
             ],
             [
              0.7777777777777778,
              "#fb9f3a"
             ],
             [
              0.8888888888888888,
              "#fdca26"
             ],
             [
              1,
              "#f0f921"
             ]
            ],
            "type": "heatmap"
           }
          ],
          "heatmapgl": [
           {
            "colorbar": {
             "outlinewidth": 0,
             "ticks": ""
            },
            "colorscale": [
             [
              0,
              "#0d0887"
             ],
             [
              0.1111111111111111,
              "#46039f"
             ],
             [
              0.2222222222222222,
              "#7201a8"
             ],
             [
              0.3333333333333333,
              "#9c179e"
             ],
             [
              0.4444444444444444,
              "#bd3786"
             ],
             [
              0.5555555555555556,
              "#d8576b"
             ],
             [
              0.6666666666666666,
              "#ed7953"
             ],
             [
              0.7777777777777778,
              "#fb9f3a"
             ],
             [
              0.8888888888888888,
              "#fdca26"
             ],
             [
              1,
              "#f0f921"
             ]
            ],
            "type": "heatmapgl"
           }
          ],
          "histogram": [
           {
            "marker": {
             "pattern": {
              "fillmode": "overlay",
              "size": 10,
              "solidity": 0.2
             }
            },
            "type": "histogram"
           }
          ],
          "histogram2d": [
           {
            "colorbar": {
             "outlinewidth": 0,
             "ticks": ""
            },
            "colorscale": [
             [
              0,
              "#0d0887"
             ],
             [
              0.1111111111111111,
              "#46039f"
             ],
             [
              0.2222222222222222,
              "#7201a8"
             ],
             [
              0.3333333333333333,
              "#9c179e"
             ],
             [
              0.4444444444444444,
              "#bd3786"
             ],
             [
              0.5555555555555556,
              "#d8576b"
             ],
             [
              0.6666666666666666,
              "#ed7953"
             ],
             [
              0.7777777777777778,
              "#fb9f3a"
             ],
             [
              0.8888888888888888,
              "#fdca26"
             ],
             [
              1,
              "#f0f921"
             ]
            ],
            "type": "histogram2d"
           }
          ],
          "histogram2dcontour": [
           {
            "colorbar": {
             "outlinewidth": 0,
             "ticks": ""
            },
            "colorscale": [
             [
              0,
              "#0d0887"
             ],
             [
              0.1111111111111111,
              "#46039f"
             ],
             [
              0.2222222222222222,
              "#7201a8"
             ],
             [
              0.3333333333333333,
              "#9c179e"
             ],
             [
              0.4444444444444444,
              "#bd3786"
             ],
             [
              0.5555555555555556,
              "#d8576b"
             ],
             [
              0.6666666666666666,
              "#ed7953"
             ],
             [
              0.7777777777777778,
              "#fb9f3a"
             ],
             [
              0.8888888888888888,
              "#fdca26"
             ],
             [
              1,
              "#f0f921"
             ]
            ],
            "type": "histogram2dcontour"
           }
          ],
          "mesh3d": [
           {
            "colorbar": {
             "outlinewidth": 0,
             "ticks": ""
            },
            "type": "mesh3d"
           }
          ],
          "parcoords": [
           {
            "line": {
             "colorbar": {
              "outlinewidth": 0,
              "ticks": ""
             }
            },
            "type": "parcoords"
           }
          ],
          "pie": [
           {
            "automargin": true,
            "type": "pie"
           }
          ],
          "scatter": [
           {
            "fillpattern": {
             "fillmode": "overlay",
             "size": 10,
             "solidity": 0.2
            },
            "type": "scatter"
           }
          ],
          "scatter3d": [
           {
            "line": {
             "colorbar": {
              "outlinewidth": 0,
              "ticks": ""
             }
            },
            "marker": {
             "colorbar": {
              "outlinewidth": 0,
              "ticks": ""
             }
            },
            "type": "scatter3d"
           }
          ],
          "scattercarpet": [
           {
            "marker": {
             "colorbar": {
              "outlinewidth": 0,
              "ticks": ""
             }
            },
            "type": "scattercarpet"
           }
          ],
          "scattergeo": [
           {
            "marker": {
             "colorbar": {
              "outlinewidth": 0,
              "ticks": ""
             }
            },
            "type": "scattergeo"
           }
          ],
          "scattergl": [
           {
            "marker": {
             "colorbar": {
              "outlinewidth": 0,
              "ticks": ""
             }
            },
            "type": "scattergl"
           }
          ],
          "scattermapbox": [
           {
            "marker": {
             "colorbar": {
              "outlinewidth": 0,
              "ticks": ""
             }
            },
            "type": "scattermapbox"
           }
          ],
          "scatterpolar": [
           {
            "marker": {
             "colorbar": {
              "outlinewidth": 0,
              "ticks": ""
             }
            },
            "type": "scatterpolar"
           }
          ],
          "scatterpolargl": [
           {
            "marker": {
             "colorbar": {
              "outlinewidth": 0,
              "ticks": ""
             }
            },
            "type": "scatterpolargl"
           }
          ],
          "scatterternary": [
           {
            "marker": {
             "colorbar": {
              "outlinewidth": 0,
              "ticks": ""
             }
            },
            "type": "scatterternary"
           }
          ],
          "surface": [
           {
            "colorbar": {
             "outlinewidth": 0,
             "ticks": ""
            },
            "colorscale": [
             [
              0,
              "#0d0887"
             ],
             [
              0.1111111111111111,
              "#46039f"
             ],
             [
              0.2222222222222222,
              "#7201a8"
             ],
             [
              0.3333333333333333,
              "#9c179e"
             ],
             [
              0.4444444444444444,
              "#bd3786"
             ],
             [
              0.5555555555555556,
              "#d8576b"
             ],
             [
              0.6666666666666666,
              "#ed7953"
             ],
             [
              0.7777777777777778,
              "#fb9f3a"
             ],
             [
              0.8888888888888888,
              "#fdca26"
             ],
             [
              1,
              "#f0f921"
             ]
            ],
            "type": "surface"
           }
          ],
          "table": [
           {
            "cells": {
             "fill": {
              "color": "#EBF0F8"
             },
             "line": {
              "color": "white"
             }
            },
            "header": {
             "fill": {
              "color": "#C8D4E3"
             },
             "line": {
              "color": "white"
             }
            },
            "type": "table"
           }
          ]
         },
         "layout": {
          "annotationdefaults": {
           "arrowcolor": "#2a3f5f",
           "arrowhead": 0,
           "arrowwidth": 1
          },
          "autotypenumbers": "strict",
          "coloraxis": {
           "colorbar": {
            "outlinewidth": 0,
            "ticks": ""
           }
          },
          "colorscale": {
           "diverging": [
            [
             0,
             "#8e0152"
            ],
            [
             0.1,
             "#c51b7d"
            ],
            [
             0.2,
             "#de77ae"
            ],
            [
             0.3,
             "#f1b6da"
            ],
            [
             0.4,
             "#fde0ef"
            ],
            [
             0.5,
             "#f7f7f7"
            ],
            [
             0.6,
             "#e6f5d0"
            ],
            [
             0.7,
             "#b8e186"
            ],
            [
             0.8,
             "#7fbc41"
            ],
            [
             0.9,
             "#4d9221"
            ],
            [
             1,
             "#276419"
            ]
           ],
           "sequential": [
            [
             0,
             "#0d0887"
            ],
            [
             0.1111111111111111,
             "#46039f"
            ],
            [
             0.2222222222222222,
             "#7201a8"
            ],
            [
             0.3333333333333333,
             "#9c179e"
            ],
            [
             0.4444444444444444,
             "#bd3786"
            ],
            [
             0.5555555555555556,
             "#d8576b"
            ],
            [
             0.6666666666666666,
             "#ed7953"
            ],
            [
             0.7777777777777778,
             "#fb9f3a"
            ],
            [
             0.8888888888888888,
             "#fdca26"
            ],
            [
             1,
             "#f0f921"
            ]
           ],
           "sequentialminus": [
            [
             0,
             "#0d0887"
            ],
            [
             0.1111111111111111,
             "#46039f"
            ],
            [
             0.2222222222222222,
             "#7201a8"
            ],
            [
             0.3333333333333333,
             "#9c179e"
            ],
            [
             0.4444444444444444,
             "#bd3786"
            ],
            [
             0.5555555555555556,
             "#d8576b"
            ],
            [
             0.6666666666666666,
             "#ed7953"
            ],
            [
             0.7777777777777778,
             "#fb9f3a"
            ],
            [
             0.8888888888888888,
             "#fdca26"
            ],
            [
             1,
             "#f0f921"
            ]
           ]
          },
          "colorway": [
           "#636efa",
           "#EF553B",
           "#00cc96",
           "#ab63fa",
           "#FFA15A",
           "#19d3f3",
           "#FF6692",
           "#B6E880",
           "#FF97FF",
           "#FECB52"
          ],
          "font": {
           "color": "#2a3f5f"
          },
          "geo": {
           "bgcolor": "white",
           "lakecolor": "white",
           "landcolor": "#E5ECF6",
           "showlakes": true,
           "showland": true,
           "subunitcolor": "white"
          },
          "hoverlabel": {
           "align": "left"
          },
          "hovermode": "closest",
          "mapbox": {
           "style": "light"
          },
          "paper_bgcolor": "white",
          "plot_bgcolor": "#E5ECF6",
          "polar": {
           "angularaxis": {
            "gridcolor": "white",
            "linecolor": "white",
            "ticks": ""
           },
           "bgcolor": "#E5ECF6",
           "radialaxis": {
            "gridcolor": "white",
            "linecolor": "white",
            "ticks": ""
           }
          },
          "scene": {
           "xaxis": {
            "backgroundcolor": "#E5ECF6",
            "gridcolor": "white",
            "gridwidth": 2,
            "linecolor": "white",
            "showbackground": true,
            "ticks": "",
            "zerolinecolor": "white"
           },
           "yaxis": {
            "backgroundcolor": "#E5ECF6",
            "gridcolor": "white",
            "gridwidth": 2,
            "linecolor": "white",
            "showbackground": true,
            "ticks": "",
            "zerolinecolor": "white"
           },
           "zaxis": {
            "backgroundcolor": "#E5ECF6",
            "gridcolor": "white",
            "gridwidth": 2,
            "linecolor": "white",
            "showbackground": true,
            "ticks": "",
            "zerolinecolor": "white"
           }
          },
          "shapedefaults": {
           "line": {
            "color": "#2a3f5f"
           }
          },
          "ternary": {
           "aaxis": {
            "gridcolor": "white",
            "linecolor": "white",
            "ticks": ""
           },
           "baxis": {
            "gridcolor": "white",
            "linecolor": "white",
            "ticks": ""
           },
           "bgcolor": "#E5ECF6",
           "caxis": {
            "gridcolor": "white",
            "linecolor": "white",
            "ticks": ""
           }
          },
          "title": {
           "x": 0.05
          },
          "xaxis": {
           "automargin": true,
           "gridcolor": "white",
           "linecolor": "white",
           "ticks": "",
           "title": {
            "standoff": 15
           },
           "zerolinecolor": "white",
           "zerolinewidth": 2
          },
          "yaxis": {
           "automargin": true,
           "gridcolor": "white",
           "linecolor": "white",
           "ticks": "",
           "title": {
            "standoff": 15
           },
           "zerolinecolor": "white",
           "zerolinewidth": 2
          }
         }
        },
        "title": {
         "text": "Uso de agua no relacionado con la tierra"
        },
        "xaxis": {
         "anchor": "y",
         "domain": [
          0,
          1
         ],
         "title": {
          "text": "Años"
         }
        },
        "yaxis": {
         "anchor": "x",
         "domain": [
          0,
          1
         ],
         "title": {
          "text": "Uso de agua [m³/s]"
         }
        }
       }
      },
      "text/html": [
       "<div>                            <div id=\"aac82b35-4484-4692-ad32-85e292ff3411\" class=\"plotly-graph-div\" style=\"height:525px; width:100%;\"></div>            <script type=\"text/javascript\">                require([\"plotly\"], function(Plotly) {                    window.PLOTLYENV=window.PLOTLYENV || {};                                    if (document.getElementById(\"aac82b35-4484-4692-ad32-85e292ff3411\")) {                    Plotly.newPlot(                        \"aac82b35-4484-4692-ad32-85e292ff3411\",                        [{\"hovertemplate\":\"A\\u00f1os=%{x}<br>Uso de agua [m\\u00b3/s]=%{y}<extra></extra>\",\"legendgroup\":\"\",\"line\":{\"color\":\"#636efa\",\"dash\":\"solid\"},\"marker\":{\"symbol\":\"circle\"},\"mode\":\"lines\",\"name\":\"\",\"orientation\":\"v\",\"showlegend\":false,\"x\":[1950,1951,1952,1953,1954,1955,1956,1957,1958,1959,1960,1961,1962,1963,1964,1965,1966,1967,1968,1969,1970,1971,1972,1973,1974,1975,1976,1977,1978,1979,1980,1981,1982,1983,1984,1985,1986,1987,1988,1989,1990,1991,1992,1993,1994,1995,1996,1997,1998,1999,2000,2001,2002,2003,2004,2005,2006,2007,2008,2009,2010,2011,2012,2013,2014,2015,2016,2017,2018,2019,2020],\"xaxis\":\"x\",\"y\":[371.98,372.25,372.55,373.61,374.2,374.83,386.31,386.82,387.33,387.95,425.95,426.54,427.42,506.78,589.22,581.84,608.98,621.29,539.02,848.28,902.97,995.23,1147.35,1141.25,1005.4,1010.41,1046.52,1088.73,1129.33,1168.26,1217.45,1274.09,1210.61,1317.29,1353.58,1509.21,1576.55,1700.89,1694.19,1447.51,1252.81,2097.78,2288.9,2355.43,2194.87,2332.17,1786.25,2637.05,2050.84,1809.05,2597.21,2895.19,3050.61,2772.61,2715.1,3276.18,3512.31,2833.89,3099.25,3137.54,2794.58,2597.94,2711.39,2649.47,3343.9,3318.4,2623.62,3175.38,3325.53,2717.58,2883.97],\"yaxis\":\"y\",\"type\":\"scatter\"}],                        {\"template\":{\"data\":{\"histogram2dcontour\":[{\"type\":\"histogram2dcontour\",\"colorbar\":{\"outlinewidth\":0,\"ticks\":\"\"},\"colorscale\":[[0.0,\"#0d0887\"],[0.1111111111111111,\"#46039f\"],[0.2222222222222222,\"#7201a8\"],[0.3333333333333333,\"#9c179e\"],[0.4444444444444444,\"#bd3786\"],[0.5555555555555556,\"#d8576b\"],[0.6666666666666666,\"#ed7953\"],[0.7777777777777778,\"#fb9f3a\"],[0.8888888888888888,\"#fdca26\"],[1.0,\"#f0f921\"]]}],\"choropleth\":[{\"type\":\"choropleth\",\"colorbar\":{\"outlinewidth\":0,\"ticks\":\"\"}}],\"histogram2d\":[{\"type\":\"histogram2d\",\"colorbar\":{\"outlinewidth\":0,\"ticks\":\"\"},\"colorscale\":[[0.0,\"#0d0887\"],[0.1111111111111111,\"#46039f\"],[0.2222222222222222,\"#7201a8\"],[0.3333333333333333,\"#9c179e\"],[0.4444444444444444,\"#bd3786\"],[0.5555555555555556,\"#d8576b\"],[0.6666666666666666,\"#ed7953\"],[0.7777777777777778,\"#fb9f3a\"],[0.8888888888888888,\"#fdca26\"],[1.0,\"#f0f921\"]]}],\"heatmap\":[{\"type\":\"heatmap\",\"colorbar\":{\"outlinewidth\":0,\"ticks\":\"\"},\"colorscale\":[[0.0,\"#0d0887\"],[0.1111111111111111,\"#46039f\"],[0.2222222222222222,\"#7201a8\"],[0.3333333333333333,\"#9c179e\"],[0.4444444444444444,\"#bd3786\"],[0.5555555555555556,\"#d8576b\"],[0.6666666666666666,\"#ed7953\"],[0.7777777777777778,\"#fb9f3a\"],[0.8888888888888888,\"#fdca26\"],[1.0,\"#f0f921\"]]}],\"heatmapgl\":[{\"type\":\"heatmapgl\",\"colorbar\":{\"outlinewidth\":0,\"ticks\":\"\"},\"colorscale\":[[0.0,\"#0d0887\"],[0.1111111111111111,\"#46039f\"],[0.2222222222222222,\"#7201a8\"],[0.3333333333333333,\"#9c179e\"],[0.4444444444444444,\"#bd3786\"],[0.5555555555555556,\"#d8576b\"],[0.6666666666666666,\"#ed7953\"],[0.7777777777777778,\"#fb9f3a\"],[0.8888888888888888,\"#fdca26\"],[1.0,\"#f0f921\"]]}],\"contourcarpet\":[{\"type\":\"contourcarpet\",\"colorbar\":{\"outlinewidth\":0,\"ticks\":\"\"}}],\"contour\":[{\"type\":\"contour\",\"colorbar\":{\"outlinewidth\":0,\"ticks\":\"\"},\"colorscale\":[[0.0,\"#0d0887\"],[0.1111111111111111,\"#46039f\"],[0.2222222222222222,\"#7201a8\"],[0.3333333333333333,\"#9c179e\"],[0.4444444444444444,\"#bd3786\"],[0.5555555555555556,\"#d8576b\"],[0.6666666666666666,\"#ed7953\"],[0.7777777777777778,\"#fb9f3a\"],[0.8888888888888888,\"#fdca26\"],[1.0,\"#f0f921\"]]}],\"surface\":[{\"type\":\"surface\",\"colorbar\":{\"outlinewidth\":0,\"ticks\":\"\"},\"colorscale\":[[0.0,\"#0d0887\"],[0.1111111111111111,\"#46039f\"],[0.2222222222222222,\"#7201a8\"],[0.3333333333333333,\"#9c179e\"],[0.4444444444444444,\"#bd3786\"],[0.5555555555555556,\"#d8576b\"],[0.6666666666666666,\"#ed7953\"],[0.7777777777777778,\"#fb9f3a\"],[0.8888888888888888,\"#fdca26\"],[1.0,\"#f0f921\"]]}],\"mesh3d\":[{\"type\":\"mesh3d\",\"colorbar\":{\"outlinewidth\":0,\"ticks\":\"\"}}],\"scatter\":[{\"fillpattern\":{\"fillmode\":\"overlay\",\"size\":10,\"solidity\":0.2},\"type\":\"scatter\"}],\"parcoords\":[{\"type\":\"parcoords\",\"line\":{\"colorbar\":{\"outlinewidth\":0,\"ticks\":\"\"}}}],\"scatterpolargl\":[{\"type\":\"scatterpolargl\",\"marker\":{\"colorbar\":{\"outlinewidth\":0,\"ticks\":\"\"}}}],\"bar\":[{\"error_x\":{\"color\":\"#2a3f5f\"},\"error_y\":{\"color\":\"#2a3f5f\"},\"marker\":{\"line\":{\"color\":\"#E5ECF6\",\"width\":0.5},\"pattern\":{\"fillmode\":\"overlay\",\"size\":10,\"solidity\":0.2}},\"type\":\"bar\"}],\"scattergeo\":[{\"type\":\"scattergeo\",\"marker\":{\"colorbar\":{\"outlinewidth\":0,\"ticks\":\"\"}}}],\"scatterpolar\":[{\"type\":\"scatterpolar\",\"marker\":{\"colorbar\":{\"outlinewidth\":0,\"ticks\":\"\"}}}],\"histogram\":[{\"marker\":{\"pattern\":{\"fillmode\":\"overlay\",\"size\":10,\"solidity\":0.2}},\"type\":\"histogram\"}],\"scattergl\":[{\"type\":\"scattergl\",\"marker\":{\"colorbar\":{\"outlinewidth\":0,\"ticks\":\"\"}}}],\"scatter3d\":[{\"type\":\"scatter3d\",\"line\":{\"colorbar\":{\"outlinewidth\":0,\"ticks\":\"\"}},\"marker\":{\"colorbar\":{\"outlinewidth\":0,\"ticks\":\"\"}}}],\"scattermapbox\":[{\"type\":\"scattermapbox\",\"marker\":{\"colorbar\":{\"outlinewidth\":0,\"ticks\":\"\"}}}],\"scatterternary\":[{\"type\":\"scatterternary\",\"marker\":{\"colorbar\":{\"outlinewidth\":0,\"ticks\":\"\"}}}],\"scattercarpet\":[{\"type\":\"scattercarpet\",\"marker\":{\"colorbar\":{\"outlinewidth\":0,\"ticks\":\"\"}}}],\"carpet\":[{\"aaxis\":{\"endlinecolor\":\"#2a3f5f\",\"gridcolor\":\"white\",\"linecolor\":\"white\",\"minorgridcolor\":\"white\",\"startlinecolor\":\"#2a3f5f\"},\"baxis\":{\"endlinecolor\":\"#2a3f5f\",\"gridcolor\":\"white\",\"linecolor\":\"white\",\"minorgridcolor\":\"white\",\"startlinecolor\":\"#2a3f5f\"},\"type\":\"carpet\"}],\"table\":[{\"cells\":{\"fill\":{\"color\":\"#EBF0F8\"},\"line\":{\"color\":\"white\"}},\"header\":{\"fill\":{\"color\":\"#C8D4E3\"},\"line\":{\"color\":\"white\"}},\"type\":\"table\"}],\"barpolar\":[{\"marker\":{\"line\":{\"color\":\"#E5ECF6\",\"width\":0.5},\"pattern\":{\"fillmode\":\"overlay\",\"size\":10,\"solidity\":0.2}},\"type\":\"barpolar\"}],\"pie\":[{\"automargin\":true,\"type\":\"pie\"}]},\"layout\":{\"autotypenumbers\":\"strict\",\"colorway\":[\"#636efa\",\"#EF553B\",\"#00cc96\",\"#ab63fa\",\"#FFA15A\",\"#19d3f3\",\"#FF6692\",\"#B6E880\",\"#FF97FF\",\"#FECB52\"],\"font\":{\"color\":\"#2a3f5f\"},\"hovermode\":\"closest\",\"hoverlabel\":{\"align\":\"left\"},\"paper_bgcolor\":\"white\",\"plot_bgcolor\":\"#E5ECF6\",\"polar\":{\"bgcolor\":\"#E5ECF6\",\"angularaxis\":{\"gridcolor\":\"white\",\"linecolor\":\"white\",\"ticks\":\"\"},\"radialaxis\":{\"gridcolor\":\"white\",\"linecolor\":\"white\",\"ticks\":\"\"}},\"ternary\":{\"bgcolor\":\"#E5ECF6\",\"aaxis\":{\"gridcolor\":\"white\",\"linecolor\":\"white\",\"ticks\":\"\"},\"baxis\":{\"gridcolor\":\"white\",\"linecolor\":\"white\",\"ticks\":\"\"},\"caxis\":{\"gridcolor\":\"white\",\"linecolor\":\"white\",\"ticks\":\"\"}},\"coloraxis\":{\"colorbar\":{\"outlinewidth\":0,\"ticks\":\"\"}},\"colorscale\":{\"sequential\":[[0.0,\"#0d0887\"],[0.1111111111111111,\"#46039f\"],[0.2222222222222222,\"#7201a8\"],[0.3333333333333333,\"#9c179e\"],[0.4444444444444444,\"#bd3786\"],[0.5555555555555556,\"#d8576b\"],[0.6666666666666666,\"#ed7953\"],[0.7777777777777778,\"#fb9f3a\"],[0.8888888888888888,\"#fdca26\"],[1.0,\"#f0f921\"]],\"sequentialminus\":[[0.0,\"#0d0887\"],[0.1111111111111111,\"#46039f\"],[0.2222222222222222,\"#7201a8\"],[0.3333333333333333,\"#9c179e\"],[0.4444444444444444,\"#bd3786\"],[0.5555555555555556,\"#d8576b\"],[0.6666666666666666,\"#ed7953\"],[0.7777777777777778,\"#fb9f3a\"],[0.8888888888888888,\"#fdca26\"],[1.0,\"#f0f921\"]],\"diverging\":[[0,\"#8e0152\"],[0.1,\"#c51b7d\"],[0.2,\"#de77ae\"],[0.3,\"#f1b6da\"],[0.4,\"#fde0ef\"],[0.5,\"#f7f7f7\"],[0.6,\"#e6f5d0\"],[0.7,\"#b8e186\"],[0.8,\"#7fbc41\"],[0.9,\"#4d9221\"],[1,\"#276419\"]]},\"xaxis\":{\"gridcolor\":\"white\",\"linecolor\":\"white\",\"ticks\":\"\",\"title\":{\"standoff\":15},\"zerolinecolor\":\"white\",\"automargin\":true,\"zerolinewidth\":2},\"yaxis\":{\"gridcolor\":\"white\",\"linecolor\":\"white\",\"ticks\":\"\",\"title\":{\"standoff\":15},\"zerolinecolor\":\"white\",\"automargin\":true,\"zerolinewidth\":2},\"scene\":{\"xaxis\":{\"backgroundcolor\":\"#E5ECF6\",\"gridcolor\":\"white\",\"linecolor\":\"white\",\"showbackground\":true,\"ticks\":\"\",\"zerolinecolor\":\"white\",\"gridwidth\":2},\"yaxis\":{\"backgroundcolor\":\"#E5ECF6\",\"gridcolor\":\"white\",\"linecolor\":\"white\",\"showbackground\":true,\"ticks\":\"\",\"zerolinecolor\":\"white\",\"gridwidth\":2},\"zaxis\":{\"backgroundcolor\":\"#E5ECF6\",\"gridcolor\":\"white\",\"linecolor\":\"white\",\"showbackground\":true,\"ticks\":\"\",\"zerolinecolor\":\"white\",\"gridwidth\":2}},\"shapedefaults\":{\"line\":{\"color\":\"#2a3f5f\"}},\"annotationdefaults\":{\"arrowcolor\":\"#2a3f5f\",\"arrowhead\":0,\"arrowwidth\":1},\"geo\":{\"bgcolor\":\"white\",\"landcolor\":\"#E5ECF6\",\"subunitcolor\":\"white\",\"showland\":true,\"showlakes\":true,\"lakecolor\":\"white\"},\"title\":{\"x\":0.05},\"mapbox\":{\"style\":\"light\"}}},\"xaxis\":{\"anchor\":\"y\",\"domain\":[0.0,1.0],\"title\":{\"text\":\"A\\u00f1os\"}},\"yaxis\":{\"anchor\":\"x\",\"domain\":[0.0,1.0],\"title\":{\"text\":\"Uso de agua [m\\u00b3/s]\"}},\"legend\":{\"tracegroupgap\":0},\"title\":{\"text\":\"Uso de agua no relacionado con la tierra\"}},                        {\"responsive\": true}                    ).then(function(){\n",
       "                            \n",
       "var gd = document.getElementById('aac82b35-4484-4692-ad32-85e292ff3411');\n",
       "var x = new MutationObserver(function (mutations, observer) {{\n",
       "        var display = window.getComputedStyle(gd).display;\n",
       "        if (!display || display === 'none') {{\n",
       "            console.log([gd, 'removed!']);\n",
       "            Plotly.purge(gd);\n",
       "            observer.disconnect();\n",
       "        }}\n",
       "}});\n",
       "\n",
       "// Listen for the removal of the full notebook cells\n",
       "var notebookContainer = gd.closest('#notebook-container');\n",
       "if (notebookContainer) {{\n",
       "    x.observe(notebookContainer, {childList: true});\n",
       "}}\n",
       "\n",
       "// Listen for the clearing of the current output cell\n",
       "var outputEl = gd.closest('.output');\n",
       "if (outputEl) {{\n",
       "    x.observe(outputEl, {childList: true});\n",
       "}}\n",
       "\n",
       "                        })                };                });            </script>        </div>"
      ]
     },
     "metadata": {},
     "output_type": "display_data"
    }
   ],
   "source": [
    "#Graph of yearly national (Non Land) Water Use [m3/s]\n",
    "\n",
    "#English\n",
    "fig = px.scatter(NLU_nation, x=\"Years\", y=\"NLU\", trendline='ols',\n",
    "              title=\"Non Land Water Use in Chile\", \n",
    "              labels={'Years':'Years', 'NLU':'Water use [m³/s]'}) \n",
    "fig.show()\n",
    "\n",
    "#Spanish\n",
    "fig2 = px.line(NLU_nation, x=\"Years\", y=\"NLU\", \n",
    "               title=\"Uso de agua no relacionado con la tierra\", \n",
    "               labels={'Years':'Años', 'NLU':'Uso de agua [m³/s]'})\n",
    "fig2.show()"
   ]
  },
  {
   "attachments": {},
   "cell_type": "markdown",
   "id": "6b0e8ce0",
   "metadata": {},
   "source": [
    "### National Water Use and Inhabitants"
   ]
  },
  {
   "cell_type": "code",
   "execution_count": 24,
   "id": "027384b3",
   "metadata": {},
   "outputs": [
    {
     "name": "stdout",
     "output_type": "stream",
     "text": [
      "BBDD_CR2.ipynb  database.ipynb  INE_2002-2035.csv  \u001b[0m\u001b[01;34mNLU\u001b[0m/\r\n"
     ]
    }
   ],
   "source": [
    "ls"
   ]
  },
  {
   "cell_type": "code",
   "execution_count": 27,
   "id": "20874479",
   "metadata": {},
   "outputs": [],
   "source": [
    "pop = pd.read_csv(r'/mnt/home2/mari/Tesis/INE_2002-2035.csv', index_col=0, sep=';', encoding='latin-1')"
   ]
  },
  {
   "cell_type": "code",
   "execution_count": 16,
   "id": "bd0225de",
   "metadata": {},
   "outputs": [
    {
     "data": {
      "text/html": [
       "<div>\n",
       "<style scoped>\n",
       "    .dataframe tbody tr th:only-of-type {\n",
       "        vertical-align: middle;\n",
       "    }\n",
       "\n",
       "    .dataframe tbody tr th {\n",
       "        vertical-align: top;\n",
       "    }\n",
       "\n",
       "    .dataframe thead th {\n",
       "        text-align: right;\n",
       "    }\n",
       "</style>\n",
       "<table border=\"1\" class=\"dataframe\">\n",
       "  <thead>\n",
       "    <tr style=\"text-align: right;\">\n",
       "      <th></th>\n",
       "      <th>Nombre Region</th>\n",
       "      <th>Provincia</th>\n",
       "      <th>Nombre Provincia</th>\n",
       "      <th>Comuna</th>\n",
       "      <th>Nombre Comuna</th>\n",
       "      <th>Sexo (1=Hombre 2=Mujer)</th>\n",
       "      <th>Area (1=Urbano 2=Rural)</th>\n",
       "      <th>Grupo edad</th>\n",
       "      <th>Poblacion 2002</th>\n",
       "      <th>Poblacion 2003</th>\n",
       "      <th>...</th>\n",
       "      <th>Poblacion 2026</th>\n",
       "      <th>Poblacion 2027</th>\n",
       "      <th>Poblacion 2028</th>\n",
       "      <th>Poblacion 2029</th>\n",
       "      <th>Poblacion 2030</th>\n",
       "      <th>Poblacion 2031</th>\n",
       "      <th>Poblacion 2032</th>\n",
       "      <th>Poblacion 2033</th>\n",
       "      <th>Poblacion 2034</th>\n",
       "      <th>Poblacion 2035</th>\n",
       "    </tr>\n",
       "    <tr>\n",
       "      <th>Region</th>\n",
       "      <th></th>\n",
       "      <th></th>\n",
       "      <th></th>\n",
       "      <th></th>\n",
       "      <th></th>\n",
       "      <th></th>\n",
       "      <th></th>\n",
       "      <th></th>\n",
       "      <th></th>\n",
       "      <th></th>\n",
       "      <th></th>\n",
       "      <th></th>\n",
       "      <th></th>\n",
       "      <th></th>\n",
       "      <th></th>\n",
       "      <th></th>\n",
       "      <th></th>\n",
       "      <th></th>\n",
       "      <th></th>\n",
       "      <th></th>\n",
       "      <th></th>\n",
       "    </tr>\n",
       "  </thead>\n",
       "  <tbody>\n",
       "    <tr>\n",
       "      <th>1</th>\n",
       "      <td>Tarapacá</td>\n",
       "      <td>11</td>\n",
       "      <td>Iquique</td>\n",
       "      <td>1101</td>\n",
       "      <td>Iquique</td>\n",
       "      <td>1</td>\n",
       "      <td>1</td>\n",
       "      <td>0 Año</td>\n",
       "      <td>1467</td>\n",
       "      <td>1393</td>\n",
       "      <td>...</td>\n",
       "      <td>1515</td>\n",
       "      <td>1498</td>\n",
       "      <td>1479</td>\n",
       "      <td>1463</td>\n",
       "      <td>1442</td>\n",
       "      <td>1437</td>\n",
       "      <td>1421</td>\n",
       "      <td>1406</td>\n",
       "      <td>1392</td>\n",
       "      <td>1374</td>\n",
       "    </tr>\n",
       "    <tr>\n",
       "      <th>1</th>\n",
       "      <td>Tarapacá</td>\n",
       "      <td>11</td>\n",
       "      <td>Iquique</td>\n",
       "      <td>1101</td>\n",
       "      <td>Iquique</td>\n",
       "      <td>1</td>\n",
       "      <td>1</td>\n",
       "      <td>De 1 a 4 años</td>\n",
       "      <td>5839</td>\n",
       "      <td>5481</td>\n",
       "      <td>...</td>\n",
       "      <td>6037</td>\n",
       "      <td>5982</td>\n",
       "      <td>5914</td>\n",
       "      <td>5846</td>\n",
       "      <td>5776</td>\n",
       "      <td>5702</td>\n",
       "      <td>5637</td>\n",
       "      <td>5575</td>\n",
       "      <td>5519</td>\n",
       "      <td>5465</td>\n",
       "    </tr>\n",
       "    <tr>\n",
       "      <th>1</th>\n",
       "      <td>Tarapacá</td>\n",
       "      <td>11</td>\n",
       "      <td>Iquique</td>\n",
       "      <td>1101</td>\n",
       "      <td>Iquique</td>\n",
       "      <td>1</td>\n",
       "      <td>1</td>\n",
       "      <td>De 5 a 9 años</td>\n",
       "      <td>7455</td>\n",
       "      <td>7017</td>\n",
       "      <td>...</td>\n",
       "      <td>7078</td>\n",
       "      <td>7094</td>\n",
       "      <td>7124</td>\n",
       "      <td>7134</td>\n",
       "      <td>7099</td>\n",
       "      <td>7033</td>\n",
       "      <td>6955</td>\n",
       "      <td>6870</td>\n",
       "      <td>6776</td>\n",
       "      <td>6689</td>\n",
       "    </tr>\n",
       "    <tr>\n",
       "      <th>1</th>\n",
       "      <td>Tarapacá</td>\n",
       "      <td>11</td>\n",
       "      <td>Iquique</td>\n",
       "      <td>1101</td>\n",
       "      <td>Iquique</td>\n",
       "      <td>1</td>\n",
       "      <td>1</td>\n",
       "      <td>De 10 a 14 años</td>\n",
       "      <td>7559</td>\n",
       "      <td>7314</td>\n",
       "      <td>...</td>\n",
       "      <td>7509</td>\n",
       "      <td>7301</td>\n",
       "      <td>7090</td>\n",
       "      <td>6896</td>\n",
       "      <td>6737</td>\n",
       "      <td>6640</td>\n",
       "      <td>6654</td>\n",
       "      <td>6674</td>\n",
       "      <td>6670</td>\n",
       "      <td>6632</td>\n",
       "    </tr>\n",
       "    <tr>\n",
       "      <th>1</th>\n",
       "      <td>Tarapacá</td>\n",
       "      <td>11</td>\n",
       "      <td>Iquique</td>\n",
       "      <td>1101</td>\n",
       "      <td>Iquique</td>\n",
       "      <td>1</td>\n",
       "      <td>1</td>\n",
       "      <td>De 15 a 19 años</td>\n",
       "      <td>7525</td>\n",
       "      <td>7257</td>\n",
       "      <td>...</td>\n",
       "      <td>7296</td>\n",
       "      <td>7392</td>\n",
       "      <td>7426</td>\n",
       "      <td>7403</td>\n",
       "      <td>7345</td>\n",
       "      <td>7229</td>\n",
       "      <td>7025</td>\n",
       "      <td>6817</td>\n",
       "      <td>6625</td>\n",
       "      <td>6469</td>\n",
       "    </tr>\n",
       "  </tbody>\n",
       "</table>\n",
       "<p>5 rows × 42 columns</p>\n",
       "</div>"
      ],
      "text/plain": [
       "       Nombre Region  Provincia Nombre Provincia  Comuna Nombre Comuna  \\\n",
       "Region                                                                   \n",
       "1           Tarapacá         11          Iquique    1101       Iquique   \n",
       "1           Tarapacá         11          Iquique    1101       Iquique   \n",
       "1           Tarapacá         11          Iquique    1101       Iquique   \n",
       "1           Tarapacá         11          Iquique    1101       Iquique   \n",
       "1           Tarapacá         11          Iquique    1101       Iquique   \n",
       "\n",
       "        Sexo (1=Hombre 2=Mujer)  Area (1=Urbano 2=Rural)       Grupo edad  \\\n",
       "Region                                                                      \n",
       "1                             1                        1            0 Año   \n",
       "1                             1                        1    De 1 a 4 años   \n",
       "1                             1                        1    De 5 a 9 años   \n",
       "1                             1                        1  De 10 a 14 años   \n",
       "1                             1                        1  De 15 a 19 años   \n",
       "\n",
       "        Poblacion 2002  Poblacion 2003  ...  Poblacion 2026  Poblacion 2027  \\\n",
       "Region                                  ...                                   \n",
       "1                 1467            1393  ...            1515            1498   \n",
       "1                 5839            5481  ...            6037            5982   \n",
       "1                 7455            7017  ...            7078            7094   \n",
       "1                 7559            7314  ...            7509            7301   \n",
       "1                 7525            7257  ...            7296            7392   \n",
       "\n",
       "        Poblacion 2028  Poblacion 2029  Poblacion 2030  Poblacion 2031  \\\n",
       "Region                                                                   \n",
       "1                 1479            1463            1442            1437   \n",
       "1                 5914            5846            5776            5702   \n",
       "1                 7124            7134            7099            7033   \n",
       "1                 7090            6896            6737            6640   \n",
       "1                 7426            7403            7345            7229   \n",
       "\n",
       "        Poblacion 2032  Poblacion 2033  Poblacion 2034  Poblacion 2035  \n",
       "Region                                                                  \n",
       "1                 1421            1406            1392            1374  \n",
       "1                 5637            5575            5519            5465  \n",
       "1                 6955            6870            6776            6689  \n",
       "1                 6654            6674            6670            6632  \n",
       "1                 7025            6817            6625            6469  \n",
       "\n",
       "[5 rows x 42 columns]"
      ]
     },
     "execution_count": 16,
     "metadata": {},
     "output_type": "execute_result"
    }
   ],
   "source": [
    "pop.head()"
   ]
  },
  {
   "cell_type": "code",
   "execution_count": 28,
   "id": "17433925",
   "metadata": {},
   "outputs": [
    {
     "data": {
      "text/plain": [
       "(24912, 40)"
      ]
     },
     "execution_count": 28,
     "metadata": {},
     "output_type": "execute_result"
    }
   ],
   "source": [
    "#Refining Dataframe Population\n",
    "\n",
    "#Eliminate columns\n",
    "col_drop = ['Sexo (1=Hombre 2=Mujer)', 'Grupo edad']\n",
    "pop = pop.drop(col_drop,axis=1)\n",
    "\n",
    "#Changing column names\n",
    "pop_grouped = pop.groupby(['Nombre Comuna', 'Area (1=Urbano 2=Rural)'])[pop.columns[6:39]].sum().reset_index()\n",
    "pop = pop.rename(columns=lambda x: x.replace('Poblacion ', '') if x.startswith('Poblacion ') else x) #year columns\n",
    "pop = pop.rename(columns=lambda x: x.replace('Nombre ', 'nom_') if x.startswith('Nombre ') else x) \n",
    "pop = pop.rename(columns={'Provincia':'cod_provincia'})\n",
    "pop = pop.rename(columns=lambda x: x.replace('Region', 'region') if 'Region' in x else x)\n",
    "pop = pop.rename(columns=lambda x: x.replace('Provincia', 'provincia') if 'Provincia' in x else x)\n",
    "pop = pop.rename(columns=lambda x: x.replace('Comuna', 'comuna') if 'Comuna' in x else x)\n",
    "pop = pop.rename(columns={'Area (1=Urbano 2=Rural)':'urban1_rural2'})\n",
    "pop.index.name = 'region'\n",
    "pop.head()\n",
    "\n",
    "pop.shape"
   ]
  },
  {
   "cell_type": "code",
   "execution_count": 33,
   "id": "f97381d2",
   "metadata": {},
   "outputs": [
    {
     "data": {
      "text/html": [
       "<div>\n",
       "<style scoped>\n",
       "    .dataframe tbody tr th:only-of-type {\n",
       "        vertical-align: middle;\n",
       "    }\n",
       "\n",
       "    .dataframe tbody tr th {\n",
       "        vertical-align: top;\n",
       "    }\n",
       "\n",
       "    .dataframe thead th {\n",
       "        text-align: right;\n",
       "    }\n",
       "</style>\n",
       "<table border=\"1\" class=\"dataframe\">\n",
       "  <thead>\n",
       "    <tr style=\"text-align: right;\">\n",
       "      <th></th>\n",
       "      <th>Years</th>\n",
       "      <th>Population</th>\n",
       "    </tr>\n",
       "  </thead>\n",
       "  <tbody>\n",
       "    <tr>\n",
       "      <th>0</th>\n",
       "      <td>2002</td>\n",
       "      <td>15691701</td>\n",
       "    </tr>\n",
       "    <tr>\n",
       "      <th>1</th>\n",
       "      <td>2003</td>\n",
       "      <td>15856977</td>\n",
       "    </tr>\n",
       "    <tr>\n",
       "      <th>2</th>\n",
       "      <td>2004</td>\n",
       "      <td>16022133</td>\n",
       "    </tr>\n",
       "    <tr>\n",
       "      <th>3</th>\n",
       "      <td>2005</td>\n",
       "      <td>16183489</td>\n",
       "    </tr>\n",
       "    <tr>\n",
       "      <th>4</th>\n",
       "      <td>2006</td>\n",
       "      <td>16347890</td>\n",
       "    </tr>\n",
       "  </tbody>\n",
       "</table>\n",
       "</div>"
      ],
      "text/plain": [
       "  Years  Population\n",
       "0  2002    15691701\n",
       "1  2003    15856977\n",
       "2  2004    16022133\n",
       "3  2005    16183489\n",
       "4  2006    16347890"
      ]
     },
     "execution_count": 33,
     "metadata": {},
     "output_type": "execute_result"
    }
   ],
   "source": [
    "#Tengo que hacerlo para pop grouped, lo borré sin querer\n",
    "#Population and NL Water Use Dataframe\n",
    "pop_tot = pop.iloc[:, 6:25].sum().astype(int) #total population\n",
    "#pop_tot = pop.iloc[:, 6:25].shift().sum().astype(int)\n",
    "pop_years = pd.DataFrame({'Years': pop_tot.index, 'Population': pop_tot.values})\n",
    "pop_years.head()"
   ]
  },
  {
   "cell_type": "code",
   "execution_count": 34,
   "id": "4eba3a7f",
   "metadata": {},
   "outputs": [
    {
     "data": {
      "text/plain": [
       "(19, 2)"
      ]
     },
     "execution_count": 34,
     "metadata": {},
     "output_type": "execute_result"
    }
   ],
   "source": [
    "pop_years.shape"
   ]
  },
  {
   "cell_type": "code",
   "execution_count": 35,
   "id": "02306003",
   "metadata": {},
   "outputs": [
    {
     "data": {
      "text/html": [
       "<div>\n",
       "<style scoped>\n",
       "    .dataframe tbody tr th:only-of-type {\n",
       "        vertical-align: middle;\n",
       "    }\n",
       "\n",
       "    .dataframe tbody tr th {\n",
       "        vertical-align: top;\n",
       "    }\n",
       "\n",
       "    .dataframe thead th {\n",
       "        text-align: right;\n",
       "    }\n",
       "</style>\n",
       "<table border=\"1\" class=\"dataframe\">\n",
       "  <thead>\n",
       "    <tr style=\"text-align: right;\">\n",
       "      <th></th>\n",
       "      <th>Years</th>\n",
       "      <th>NLU</th>\n",
       "      <th>Population</th>\n",
       "    </tr>\n",
       "  </thead>\n",
       "  <tbody>\n",
       "    <tr>\n",
       "      <th>0</th>\n",
       "      <td>2002</td>\n",
       "      <td>3050.61</td>\n",
       "      <td>15691701</td>\n",
       "    </tr>\n",
       "    <tr>\n",
       "      <th>1</th>\n",
       "      <td>2003</td>\n",
       "      <td>2772.61</td>\n",
       "      <td>15856977</td>\n",
       "    </tr>\n",
       "    <tr>\n",
       "      <th>2</th>\n",
       "      <td>2004</td>\n",
       "      <td>2715.10</td>\n",
       "      <td>16022133</td>\n",
       "    </tr>\n",
       "    <tr>\n",
       "      <th>3</th>\n",
       "      <td>2005</td>\n",
       "      <td>3276.18</td>\n",
       "      <td>16183489</td>\n",
       "    </tr>\n",
       "    <tr>\n",
       "      <th>4</th>\n",
       "      <td>2006</td>\n",
       "      <td>3512.31</td>\n",
       "      <td>16347890</td>\n",
       "    </tr>\n",
       "  </tbody>\n",
       "</table>\n",
       "</div>"
      ],
      "text/plain": [
       "   Years      NLU  Population\n",
       "0   2002  3050.61    15691701\n",
       "1   2003  2772.61    15856977\n",
       "2   2004  2715.10    16022133\n",
       "3   2005  3276.18    16183489\n",
       "4   2006  3512.31    16347890"
      ]
     },
     "execution_count": 35,
     "metadata": {},
     "output_type": "execute_result"
    }
   ],
   "source": [
    "NLU_pop = NLU_nation_[NLU_nation_['Years'] >= 2002].reset_index(drop=True) #using NLU_nation_ 2 decimals NLU\n",
    "#NLU_pop = NLU_nation_[NLU_nation_['Years'] >= 2002].reset_index(drop=True) #using NLU_nation_ 2 decimals NLU\n",
    "#NLU_pop['Population']=pop_years_g['Population'] #usar este cuando corrija lo de arriba (crear pop years grouped)\n",
    "NLU_pop['Population']=pop_years['Population']\n",
    "NLU_pop.head()"
   ]
  },
  {
   "cell_type": "code",
   "execution_count": 96,
   "id": "1dbdd462",
   "metadata": {},
   "outputs": [
    {
     "data": {
      "application/vnd.plotly.v1+json": {
       "config": {
        "plotlyServerURL": "https://plot.ly"
       },
       "data": [
        {
         "hovertemplate": "Population=%{x}<br>Water use [km³]=%{y}<extra></extra>",
         "legendgroup": "",
         "marker": {
          "color": "#636efa",
          "symbol": "circle"
         },
         "mode": "markers",
         "name": "",
         "orientation": "v",
         "showlegend": false,
         "type": "scatter",
         "x": [
          15691701,
          15856977,
          16022133,
          16183489,
          16347890,
          16517933,
          16697754,
          16881078,
          17063927,
          17254159,
          17443491,
          17611902,
          17787617,
          17971423,
          18167147,
          18419192,
          18751405,
          19107216,
          19458310
         ],
         "xaxis": "x",
         "y": [
          3050.61,
          2772.61,
          2715.1,
          3276.18,
          3512.31,
          2833.89,
          3099.25,
          3137.54,
          2794.58,
          2597.94,
          2711.39,
          2649.47,
          3343.9,
          3318.4,
          2623.62,
          3175.38,
          3325.53,
          2717.58,
          2883.97
         ],
         "yaxis": "y"
        },
        {
         "hovertemplate": "<b>OLS trendline</b><br>NLU = -1.24786e-05 * Population + 3191.98<br>R<sup>2</sup>=0.002303<br><br>Population=%{x}<br>Water use [km³]=%{y} <b>(trend)</b><extra></extra>",
         "legendgroup": "",
         "marker": {
          "color": "#636efa",
          "symbol": "circle"
         },
         "mode": "lines",
         "name": "",
         "showlegend": false,
         "type": "scatter",
         "x": [
          15691701,
          15856977,
          16022133,
          16183489,
          16347890,
          16517933,
          16697754,
          16881078,
          17063927,
          17254159,
          17443491,
          17611902,
          17787617,
          17971423,
          18167147,
          18419192,
          18751405,
          19107216,
          19458310
         ],
         "xaxis": "x",
         "y": [
          2996.1704950291064,
          2994.108084747753,
          2992.047171896357,
          2990.0336776603035,
          2987.9821861390615,
          2985.8602904526206,
          2983.6163791817567,
          2981.3287554346985,
          2979.0470590145574,
          2976.6732332162414,
          2974.310638142612,
          2972.209107503602,
          2970.016433294473,
          2967.722794870416,
          2965.2804366943487,
          2962.135272246009,
          2957.989724756965,
          2953.5497076666516,
          2949.168552052276
         ],
         "yaxis": "y"
        }
       ],
       "layout": {
        "legend": {
         "tracegroupgap": 0
        },
        "template": {
         "data": {
          "bar": [
           {
            "error_x": {
             "color": "#2a3f5f"
            },
            "error_y": {
             "color": "#2a3f5f"
            },
            "marker": {
             "line": {
              "color": "#E5ECF6",
              "width": 0.5
             },
             "pattern": {
              "fillmode": "overlay",
              "size": 10,
              "solidity": 0.2
             }
            },
            "type": "bar"
           }
          ],
          "barpolar": [
           {
            "marker": {
             "line": {
              "color": "#E5ECF6",
              "width": 0.5
             },
             "pattern": {
              "fillmode": "overlay",
              "size": 10,
              "solidity": 0.2
             }
            },
            "type": "barpolar"
           }
          ],
          "carpet": [
           {
            "aaxis": {
             "endlinecolor": "#2a3f5f",
             "gridcolor": "white",
             "linecolor": "white",
             "minorgridcolor": "white",
             "startlinecolor": "#2a3f5f"
            },
            "baxis": {
             "endlinecolor": "#2a3f5f",
             "gridcolor": "white",
             "linecolor": "white",
             "minorgridcolor": "white",
             "startlinecolor": "#2a3f5f"
            },
            "type": "carpet"
           }
          ],
          "choropleth": [
           {
            "colorbar": {
             "outlinewidth": 0,
             "ticks": ""
            },
            "type": "choropleth"
           }
          ],
          "contour": [
           {
            "colorbar": {
             "outlinewidth": 0,
             "ticks": ""
            },
            "colorscale": [
             [
              0,
              "#0d0887"
             ],
             [
              0.1111111111111111,
              "#46039f"
             ],
             [
              0.2222222222222222,
              "#7201a8"
             ],
             [
              0.3333333333333333,
              "#9c179e"
             ],
             [
              0.4444444444444444,
              "#bd3786"
             ],
             [
              0.5555555555555556,
              "#d8576b"
             ],
             [
              0.6666666666666666,
              "#ed7953"
             ],
             [
              0.7777777777777778,
              "#fb9f3a"
             ],
             [
              0.8888888888888888,
              "#fdca26"
             ],
             [
              1,
              "#f0f921"
             ]
            ],
            "type": "contour"
           }
          ],
          "contourcarpet": [
           {
            "colorbar": {
             "outlinewidth": 0,
             "ticks": ""
            },
            "type": "contourcarpet"
           }
          ],
          "heatmap": [
           {
            "colorbar": {
             "outlinewidth": 0,
             "ticks": ""
            },
            "colorscale": [
             [
              0,
              "#0d0887"
             ],
             [
              0.1111111111111111,
              "#46039f"
             ],
             [
              0.2222222222222222,
              "#7201a8"
             ],
             [
              0.3333333333333333,
              "#9c179e"
             ],
             [
              0.4444444444444444,
              "#bd3786"
             ],
             [
              0.5555555555555556,
              "#d8576b"
             ],
             [
              0.6666666666666666,
              "#ed7953"
             ],
             [
              0.7777777777777778,
              "#fb9f3a"
             ],
             [
              0.8888888888888888,
              "#fdca26"
             ],
             [
              1,
              "#f0f921"
             ]
            ],
            "type": "heatmap"
           }
          ],
          "heatmapgl": [
           {
            "colorbar": {
             "outlinewidth": 0,
             "ticks": ""
            },
            "colorscale": [
             [
              0,
              "#0d0887"
             ],
             [
              0.1111111111111111,
              "#46039f"
             ],
             [
              0.2222222222222222,
              "#7201a8"
             ],
             [
              0.3333333333333333,
              "#9c179e"
             ],
             [
              0.4444444444444444,
              "#bd3786"
             ],
             [
              0.5555555555555556,
              "#d8576b"
             ],
             [
              0.6666666666666666,
              "#ed7953"
             ],
             [
              0.7777777777777778,
              "#fb9f3a"
             ],
             [
              0.8888888888888888,
              "#fdca26"
             ],
             [
              1,
              "#f0f921"
             ]
            ],
            "type": "heatmapgl"
           }
          ],
          "histogram": [
           {
            "marker": {
             "pattern": {
              "fillmode": "overlay",
              "size": 10,
              "solidity": 0.2
             }
            },
            "type": "histogram"
           }
          ],
          "histogram2d": [
           {
            "colorbar": {
             "outlinewidth": 0,
             "ticks": ""
            },
            "colorscale": [
             [
              0,
              "#0d0887"
             ],
             [
              0.1111111111111111,
              "#46039f"
             ],
             [
              0.2222222222222222,
              "#7201a8"
             ],
             [
              0.3333333333333333,
              "#9c179e"
             ],
             [
              0.4444444444444444,
              "#bd3786"
             ],
             [
              0.5555555555555556,
              "#d8576b"
             ],
             [
              0.6666666666666666,
              "#ed7953"
             ],
             [
              0.7777777777777778,
              "#fb9f3a"
             ],
             [
              0.8888888888888888,
              "#fdca26"
             ],
             [
              1,
              "#f0f921"
             ]
            ],
            "type": "histogram2d"
           }
          ],
          "histogram2dcontour": [
           {
            "colorbar": {
             "outlinewidth": 0,
             "ticks": ""
            },
            "colorscale": [
             [
              0,
              "#0d0887"
             ],
             [
              0.1111111111111111,
              "#46039f"
             ],
             [
              0.2222222222222222,
              "#7201a8"
             ],
             [
              0.3333333333333333,
              "#9c179e"
             ],
             [
              0.4444444444444444,
              "#bd3786"
             ],
             [
              0.5555555555555556,
              "#d8576b"
             ],
             [
              0.6666666666666666,
              "#ed7953"
             ],
             [
              0.7777777777777778,
              "#fb9f3a"
             ],
             [
              0.8888888888888888,
              "#fdca26"
             ],
             [
              1,
              "#f0f921"
             ]
            ],
            "type": "histogram2dcontour"
           }
          ],
          "mesh3d": [
           {
            "colorbar": {
             "outlinewidth": 0,
             "ticks": ""
            },
            "type": "mesh3d"
           }
          ],
          "parcoords": [
           {
            "line": {
             "colorbar": {
              "outlinewidth": 0,
              "ticks": ""
             }
            },
            "type": "parcoords"
           }
          ],
          "pie": [
           {
            "automargin": true,
            "type": "pie"
           }
          ],
          "scatter": [
           {
            "fillpattern": {
             "fillmode": "overlay",
             "size": 10,
             "solidity": 0.2
            },
            "type": "scatter"
           }
          ],
          "scatter3d": [
           {
            "line": {
             "colorbar": {
              "outlinewidth": 0,
              "ticks": ""
             }
            },
            "marker": {
             "colorbar": {
              "outlinewidth": 0,
              "ticks": ""
             }
            },
            "type": "scatter3d"
           }
          ],
          "scattercarpet": [
           {
            "marker": {
             "colorbar": {
              "outlinewidth": 0,
              "ticks": ""
             }
            },
            "type": "scattercarpet"
           }
          ],
          "scattergeo": [
           {
            "marker": {
             "colorbar": {
              "outlinewidth": 0,
              "ticks": ""
             }
            },
            "type": "scattergeo"
           }
          ],
          "scattergl": [
           {
            "marker": {
             "colorbar": {
              "outlinewidth": 0,
              "ticks": ""
             }
            },
            "type": "scattergl"
           }
          ],
          "scattermapbox": [
           {
            "marker": {
             "colorbar": {
              "outlinewidth": 0,
              "ticks": ""
             }
            },
            "type": "scattermapbox"
           }
          ],
          "scatterpolar": [
           {
            "marker": {
             "colorbar": {
              "outlinewidth": 0,
              "ticks": ""
             }
            },
            "type": "scatterpolar"
           }
          ],
          "scatterpolargl": [
           {
            "marker": {
             "colorbar": {
              "outlinewidth": 0,
              "ticks": ""
             }
            },
            "type": "scatterpolargl"
           }
          ],
          "scatterternary": [
           {
            "marker": {
             "colorbar": {
              "outlinewidth": 0,
              "ticks": ""
             }
            },
            "type": "scatterternary"
           }
          ],
          "surface": [
           {
            "colorbar": {
             "outlinewidth": 0,
             "ticks": ""
            },
            "colorscale": [
             [
              0,
              "#0d0887"
             ],
             [
              0.1111111111111111,
              "#46039f"
             ],
             [
              0.2222222222222222,
              "#7201a8"
             ],
             [
              0.3333333333333333,
              "#9c179e"
             ],
             [
              0.4444444444444444,
              "#bd3786"
             ],
             [
              0.5555555555555556,
              "#d8576b"
             ],
             [
              0.6666666666666666,
              "#ed7953"
             ],
             [
              0.7777777777777778,
              "#fb9f3a"
             ],
             [
              0.8888888888888888,
              "#fdca26"
             ],
             [
              1,
              "#f0f921"
             ]
            ],
            "type": "surface"
           }
          ],
          "table": [
           {
            "cells": {
             "fill": {
              "color": "#EBF0F8"
             },
             "line": {
              "color": "white"
             }
            },
            "header": {
             "fill": {
              "color": "#C8D4E3"
             },
             "line": {
              "color": "white"
             }
            },
            "type": "table"
           }
          ]
         },
         "layout": {
          "annotationdefaults": {
           "arrowcolor": "#2a3f5f",
           "arrowhead": 0,
           "arrowwidth": 1
          },
          "autotypenumbers": "strict",
          "coloraxis": {
           "colorbar": {
            "outlinewidth": 0,
            "ticks": ""
           }
          },
          "colorscale": {
           "diverging": [
            [
             0,
             "#8e0152"
            ],
            [
             0.1,
             "#c51b7d"
            ],
            [
             0.2,
             "#de77ae"
            ],
            [
             0.3,
             "#f1b6da"
            ],
            [
             0.4,
             "#fde0ef"
            ],
            [
             0.5,
             "#f7f7f7"
            ],
            [
             0.6,
             "#e6f5d0"
            ],
            [
             0.7,
             "#b8e186"
            ],
            [
             0.8,
             "#7fbc41"
            ],
            [
             0.9,
             "#4d9221"
            ],
            [
             1,
             "#276419"
            ]
           ],
           "sequential": [
            [
             0,
             "#0d0887"
            ],
            [
             0.1111111111111111,
             "#46039f"
            ],
            [
             0.2222222222222222,
             "#7201a8"
            ],
            [
             0.3333333333333333,
             "#9c179e"
            ],
            [
             0.4444444444444444,
             "#bd3786"
            ],
            [
             0.5555555555555556,
             "#d8576b"
            ],
            [
             0.6666666666666666,
             "#ed7953"
            ],
            [
             0.7777777777777778,
             "#fb9f3a"
            ],
            [
             0.8888888888888888,
             "#fdca26"
            ],
            [
             1,
             "#f0f921"
            ]
           ],
           "sequentialminus": [
            [
             0,
             "#0d0887"
            ],
            [
             0.1111111111111111,
             "#46039f"
            ],
            [
             0.2222222222222222,
             "#7201a8"
            ],
            [
             0.3333333333333333,
             "#9c179e"
            ],
            [
             0.4444444444444444,
             "#bd3786"
            ],
            [
             0.5555555555555556,
             "#d8576b"
            ],
            [
             0.6666666666666666,
             "#ed7953"
            ],
            [
             0.7777777777777778,
             "#fb9f3a"
            ],
            [
             0.8888888888888888,
             "#fdca26"
            ],
            [
             1,
             "#f0f921"
            ]
           ]
          },
          "colorway": [
           "#636efa",
           "#EF553B",
           "#00cc96",
           "#ab63fa",
           "#FFA15A",
           "#19d3f3",
           "#FF6692",
           "#B6E880",
           "#FF97FF",
           "#FECB52"
          ],
          "font": {
           "color": "#2a3f5f"
          },
          "geo": {
           "bgcolor": "white",
           "lakecolor": "white",
           "landcolor": "#E5ECF6",
           "showlakes": true,
           "showland": true,
           "subunitcolor": "white"
          },
          "hoverlabel": {
           "align": "left"
          },
          "hovermode": "closest",
          "mapbox": {
           "style": "light"
          },
          "paper_bgcolor": "white",
          "plot_bgcolor": "#E5ECF6",
          "polar": {
           "angularaxis": {
            "gridcolor": "white",
            "linecolor": "white",
            "ticks": ""
           },
           "bgcolor": "#E5ECF6",
           "radialaxis": {
            "gridcolor": "white",
            "linecolor": "white",
            "ticks": ""
           }
          },
          "scene": {
           "xaxis": {
            "backgroundcolor": "#E5ECF6",
            "gridcolor": "white",
            "gridwidth": 2,
            "linecolor": "white",
            "showbackground": true,
            "ticks": "",
            "zerolinecolor": "white"
           },
           "yaxis": {
            "backgroundcolor": "#E5ECF6",
            "gridcolor": "white",
            "gridwidth": 2,
            "linecolor": "white",
            "showbackground": true,
            "ticks": "",
            "zerolinecolor": "white"
           },
           "zaxis": {
            "backgroundcolor": "#E5ECF6",
            "gridcolor": "white",
            "gridwidth": 2,
            "linecolor": "white",
            "showbackground": true,
            "ticks": "",
            "zerolinecolor": "white"
           }
          },
          "shapedefaults": {
           "line": {
            "color": "#2a3f5f"
           }
          },
          "ternary": {
           "aaxis": {
            "gridcolor": "white",
            "linecolor": "white",
            "ticks": ""
           },
           "baxis": {
            "gridcolor": "white",
            "linecolor": "white",
            "ticks": ""
           },
           "bgcolor": "#E5ECF6",
           "caxis": {
            "gridcolor": "white",
            "linecolor": "white",
            "ticks": ""
           }
          },
          "title": {
           "x": 0.05
          },
          "xaxis": {
           "automargin": true,
           "gridcolor": "white",
           "linecolor": "white",
           "ticks": "",
           "title": {
            "standoff": 15
           },
           "zerolinecolor": "white",
           "zerolinewidth": 2
          },
          "yaxis": {
           "automargin": true,
           "gridcolor": "white",
           "linecolor": "white",
           "ticks": "",
           "title": {
            "standoff": 15
           },
           "zerolinecolor": "white",
           "zerolinewidth": 2
          }
         }
        },
        "title": {
         "text": "Population and Water Use in Chile"
        },
        "xaxis": {
         "anchor": "y",
         "domain": [
          0,
          1
         ],
         "title": {
          "text": "Population"
         }
        },
        "yaxis": {
         "anchor": "x",
         "domain": [
          0,
          1
         ],
         "title": {
          "text": "Water use [km³]"
         }
        }
       }
      },
      "text/html": [
       "<div>                            <div id=\"074037e7-e5ea-4e0a-a462-3ebd101eced8\" class=\"plotly-graph-div\" style=\"height:525px; width:100%;\"></div>            <script type=\"text/javascript\">                require([\"plotly\"], function(Plotly) {                    window.PLOTLYENV=window.PLOTLYENV || {};                                    if (document.getElementById(\"074037e7-e5ea-4e0a-a462-3ebd101eced8\")) {                    Plotly.newPlot(                        \"074037e7-e5ea-4e0a-a462-3ebd101eced8\",                        [{\"hovertemplate\":\"Population=%{x}<br>Water use [km\\u00b3]=%{y}<extra></extra>\",\"legendgroup\":\"\",\"marker\":{\"color\":\"#636efa\",\"symbol\":\"circle\"},\"mode\":\"markers\",\"name\":\"\",\"orientation\":\"v\",\"showlegend\":false,\"x\":[15691701,15856977,16022133,16183489,16347890,16517933,16697754,16881078,17063927,17254159,17443491,17611902,17787617,17971423,18167147,18419192,18751405,19107216,19458310],\"xaxis\":\"x\",\"y\":[3050.61,2772.61,2715.1,3276.18,3512.31,2833.89,3099.25,3137.54,2794.58,2597.94,2711.39,2649.47,3343.9,3318.4,2623.62,3175.38,3325.53,2717.58,2883.97],\"yaxis\":\"y\",\"type\":\"scatter\"},{\"hovertemplate\":\"<b>OLS trendline</b><br>NLU = -1.24786e-05 * Population + 3191.98<br>R<sup>2</sup>=0.002303<br><br>Population=%{x}<br>Water use [km\\u00b3]=%{y} <b>(trend)</b><extra></extra>\",\"legendgroup\":\"\",\"marker\":{\"color\":\"#636efa\",\"symbol\":\"circle\"},\"mode\":\"lines\",\"name\":\"\",\"showlegend\":false,\"x\":[15691701,15856977,16022133,16183489,16347890,16517933,16697754,16881078,17063927,17254159,17443491,17611902,17787617,17971423,18167147,18419192,18751405,19107216,19458310],\"xaxis\":\"x\",\"y\":[2996.1704950291064,2994.108084747753,2992.047171896357,2990.0336776603035,2987.9821861390615,2985.8602904526206,2983.6163791817567,2981.3287554346985,2979.0470590145574,2976.6732332162414,2974.310638142612,2972.209107503602,2970.016433294473,2967.722794870416,2965.2804366943487,2962.135272246009,2957.989724756965,2953.5497076666516,2949.168552052276],\"yaxis\":\"y\",\"type\":\"scatter\"}],                        {\"template\":{\"data\":{\"histogram2dcontour\":[{\"type\":\"histogram2dcontour\",\"colorbar\":{\"outlinewidth\":0,\"ticks\":\"\"},\"colorscale\":[[0.0,\"#0d0887\"],[0.1111111111111111,\"#46039f\"],[0.2222222222222222,\"#7201a8\"],[0.3333333333333333,\"#9c179e\"],[0.4444444444444444,\"#bd3786\"],[0.5555555555555556,\"#d8576b\"],[0.6666666666666666,\"#ed7953\"],[0.7777777777777778,\"#fb9f3a\"],[0.8888888888888888,\"#fdca26\"],[1.0,\"#f0f921\"]]}],\"choropleth\":[{\"type\":\"choropleth\",\"colorbar\":{\"outlinewidth\":0,\"ticks\":\"\"}}],\"histogram2d\":[{\"type\":\"histogram2d\",\"colorbar\":{\"outlinewidth\":0,\"ticks\":\"\"},\"colorscale\":[[0.0,\"#0d0887\"],[0.1111111111111111,\"#46039f\"],[0.2222222222222222,\"#7201a8\"],[0.3333333333333333,\"#9c179e\"],[0.4444444444444444,\"#bd3786\"],[0.5555555555555556,\"#d8576b\"],[0.6666666666666666,\"#ed7953\"],[0.7777777777777778,\"#fb9f3a\"],[0.8888888888888888,\"#fdca26\"],[1.0,\"#f0f921\"]]}],\"heatmap\":[{\"type\":\"heatmap\",\"colorbar\":{\"outlinewidth\":0,\"ticks\":\"\"},\"colorscale\":[[0.0,\"#0d0887\"],[0.1111111111111111,\"#46039f\"],[0.2222222222222222,\"#7201a8\"],[0.3333333333333333,\"#9c179e\"],[0.4444444444444444,\"#bd3786\"],[0.5555555555555556,\"#d8576b\"],[0.6666666666666666,\"#ed7953\"],[0.7777777777777778,\"#fb9f3a\"],[0.8888888888888888,\"#fdca26\"],[1.0,\"#f0f921\"]]}],\"heatmapgl\":[{\"type\":\"heatmapgl\",\"colorbar\":{\"outlinewidth\":0,\"ticks\":\"\"},\"colorscale\":[[0.0,\"#0d0887\"],[0.1111111111111111,\"#46039f\"],[0.2222222222222222,\"#7201a8\"],[0.3333333333333333,\"#9c179e\"],[0.4444444444444444,\"#bd3786\"],[0.5555555555555556,\"#d8576b\"],[0.6666666666666666,\"#ed7953\"],[0.7777777777777778,\"#fb9f3a\"],[0.8888888888888888,\"#fdca26\"],[1.0,\"#f0f921\"]]}],\"contourcarpet\":[{\"type\":\"contourcarpet\",\"colorbar\":{\"outlinewidth\":0,\"ticks\":\"\"}}],\"contour\":[{\"type\":\"contour\",\"colorbar\":{\"outlinewidth\":0,\"ticks\":\"\"},\"colorscale\":[[0.0,\"#0d0887\"],[0.1111111111111111,\"#46039f\"],[0.2222222222222222,\"#7201a8\"],[0.3333333333333333,\"#9c179e\"],[0.4444444444444444,\"#bd3786\"],[0.5555555555555556,\"#d8576b\"],[0.6666666666666666,\"#ed7953\"],[0.7777777777777778,\"#fb9f3a\"],[0.8888888888888888,\"#fdca26\"],[1.0,\"#f0f921\"]]}],\"surface\":[{\"type\":\"surface\",\"colorbar\":{\"outlinewidth\":0,\"ticks\":\"\"},\"colorscale\":[[0.0,\"#0d0887\"],[0.1111111111111111,\"#46039f\"],[0.2222222222222222,\"#7201a8\"],[0.3333333333333333,\"#9c179e\"],[0.4444444444444444,\"#bd3786\"],[0.5555555555555556,\"#d8576b\"],[0.6666666666666666,\"#ed7953\"],[0.7777777777777778,\"#fb9f3a\"],[0.8888888888888888,\"#fdca26\"],[1.0,\"#f0f921\"]]}],\"mesh3d\":[{\"type\":\"mesh3d\",\"colorbar\":{\"outlinewidth\":0,\"ticks\":\"\"}}],\"scatter\":[{\"fillpattern\":{\"fillmode\":\"overlay\",\"size\":10,\"solidity\":0.2},\"type\":\"scatter\"}],\"parcoords\":[{\"type\":\"parcoords\",\"line\":{\"colorbar\":{\"outlinewidth\":0,\"ticks\":\"\"}}}],\"scatterpolargl\":[{\"type\":\"scatterpolargl\",\"marker\":{\"colorbar\":{\"outlinewidth\":0,\"ticks\":\"\"}}}],\"bar\":[{\"error_x\":{\"color\":\"#2a3f5f\"},\"error_y\":{\"color\":\"#2a3f5f\"},\"marker\":{\"line\":{\"color\":\"#E5ECF6\",\"width\":0.5},\"pattern\":{\"fillmode\":\"overlay\",\"size\":10,\"solidity\":0.2}},\"type\":\"bar\"}],\"scattergeo\":[{\"type\":\"scattergeo\",\"marker\":{\"colorbar\":{\"outlinewidth\":0,\"ticks\":\"\"}}}],\"scatterpolar\":[{\"type\":\"scatterpolar\",\"marker\":{\"colorbar\":{\"outlinewidth\":0,\"ticks\":\"\"}}}],\"histogram\":[{\"marker\":{\"pattern\":{\"fillmode\":\"overlay\",\"size\":10,\"solidity\":0.2}},\"type\":\"histogram\"}],\"scattergl\":[{\"type\":\"scattergl\",\"marker\":{\"colorbar\":{\"outlinewidth\":0,\"ticks\":\"\"}}}],\"scatter3d\":[{\"type\":\"scatter3d\",\"line\":{\"colorbar\":{\"outlinewidth\":0,\"ticks\":\"\"}},\"marker\":{\"colorbar\":{\"outlinewidth\":0,\"ticks\":\"\"}}}],\"scattermapbox\":[{\"type\":\"scattermapbox\",\"marker\":{\"colorbar\":{\"outlinewidth\":0,\"ticks\":\"\"}}}],\"scatterternary\":[{\"type\":\"scatterternary\",\"marker\":{\"colorbar\":{\"outlinewidth\":0,\"ticks\":\"\"}}}],\"scattercarpet\":[{\"type\":\"scattercarpet\",\"marker\":{\"colorbar\":{\"outlinewidth\":0,\"ticks\":\"\"}}}],\"carpet\":[{\"aaxis\":{\"endlinecolor\":\"#2a3f5f\",\"gridcolor\":\"white\",\"linecolor\":\"white\",\"minorgridcolor\":\"white\",\"startlinecolor\":\"#2a3f5f\"},\"baxis\":{\"endlinecolor\":\"#2a3f5f\",\"gridcolor\":\"white\",\"linecolor\":\"white\",\"minorgridcolor\":\"white\",\"startlinecolor\":\"#2a3f5f\"},\"type\":\"carpet\"}],\"table\":[{\"cells\":{\"fill\":{\"color\":\"#EBF0F8\"},\"line\":{\"color\":\"white\"}},\"header\":{\"fill\":{\"color\":\"#C8D4E3\"},\"line\":{\"color\":\"white\"}},\"type\":\"table\"}],\"barpolar\":[{\"marker\":{\"line\":{\"color\":\"#E5ECF6\",\"width\":0.5},\"pattern\":{\"fillmode\":\"overlay\",\"size\":10,\"solidity\":0.2}},\"type\":\"barpolar\"}],\"pie\":[{\"automargin\":true,\"type\":\"pie\"}]},\"layout\":{\"autotypenumbers\":\"strict\",\"colorway\":[\"#636efa\",\"#EF553B\",\"#00cc96\",\"#ab63fa\",\"#FFA15A\",\"#19d3f3\",\"#FF6692\",\"#B6E880\",\"#FF97FF\",\"#FECB52\"],\"font\":{\"color\":\"#2a3f5f\"},\"hovermode\":\"closest\",\"hoverlabel\":{\"align\":\"left\"},\"paper_bgcolor\":\"white\",\"plot_bgcolor\":\"#E5ECF6\",\"polar\":{\"bgcolor\":\"#E5ECF6\",\"angularaxis\":{\"gridcolor\":\"white\",\"linecolor\":\"white\",\"ticks\":\"\"},\"radialaxis\":{\"gridcolor\":\"white\",\"linecolor\":\"white\",\"ticks\":\"\"}},\"ternary\":{\"bgcolor\":\"#E5ECF6\",\"aaxis\":{\"gridcolor\":\"white\",\"linecolor\":\"white\",\"ticks\":\"\"},\"baxis\":{\"gridcolor\":\"white\",\"linecolor\":\"white\",\"ticks\":\"\"},\"caxis\":{\"gridcolor\":\"white\",\"linecolor\":\"white\",\"ticks\":\"\"}},\"coloraxis\":{\"colorbar\":{\"outlinewidth\":0,\"ticks\":\"\"}},\"colorscale\":{\"sequential\":[[0.0,\"#0d0887\"],[0.1111111111111111,\"#46039f\"],[0.2222222222222222,\"#7201a8\"],[0.3333333333333333,\"#9c179e\"],[0.4444444444444444,\"#bd3786\"],[0.5555555555555556,\"#d8576b\"],[0.6666666666666666,\"#ed7953\"],[0.7777777777777778,\"#fb9f3a\"],[0.8888888888888888,\"#fdca26\"],[1.0,\"#f0f921\"]],\"sequentialminus\":[[0.0,\"#0d0887\"],[0.1111111111111111,\"#46039f\"],[0.2222222222222222,\"#7201a8\"],[0.3333333333333333,\"#9c179e\"],[0.4444444444444444,\"#bd3786\"],[0.5555555555555556,\"#d8576b\"],[0.6666666666666666,\"#ed7953\"],[0.7777777777777778,\"#fb9f3a\"],[0.8888888888888888,\"#fdca26\"],[1.0,\"#f0f921\"]],\"diverging\":[[0,\"#8e0152\"],[0.1,\"#c51b7d\"],[0.2,\"#de77ae\"],[0.3,\"#f1b6da\"],[0.4,\"#fde0ef\"],[0.5,\"#f7f7f7\"],[0.6,\"#e6f5d0\"],[0.7,\"#b8e186\"],[0.8,\"#7fbc41\"],[0.9,\"#4d9221\"],[1,\"#276419\"]]},\"xaxis\":{\"gridcolor\":\"white\",\"linecolor\":\"white\",\"ticks\":\"\",\"title\":{\"standoff\":15},\"zerolinecolor\":\"white\",\"automargin\":true,\"zerolinewidth\":2},\"yaxis\":{\"gridcolor\":\"white\",\"linecolor\":\"white\",\"ticks\":\"\",\"title\":{\"standoff\":15},\"zerolinecolor\":\"white\",\"automargin\":true,\"zerolinewidth\":2},\"scene\":{\"xaxis\":{\"backgroundcolor\":\"#E5ECF6\",\"gridcolor\":\"white\",\"linecolor\":\"white\",\"showbackground\":true,\"ticks\":\"\",\"zerolinecolor\":\"white\",\"gridwidth\":2},\"yaxis\":{\"backgroundcolor\":\"#E5ECF6\",\"gridcolor\":\"white\",\"linecolor\":\"white\",\"showbackground\":true,\"ticks\":\"\",\"zerolinecolor\":\"white\",\"gridwidth\":2},\"zaxis\":{\"backgroundcolor\":\"#E5ECF6\",\"gridcolor\":\"white\",\"linecolor\":\"white\",\"showbackground\":true,\"ticks\":\"\",\"zerolinecolor\":\"white\",\"gridwidth\":2}},\"shapedefaults\":{\"line\":{\"color\":\"#2a3f5f\"}},\"annotationdefaults\":{\"arrowcolor\":\"#2a3f5f\",\"arrowhead\":0,\"arrowwidth\":1},\"geo\":{\"bgcolor\":\"white\",\"landcolor\":\"#E5ECF6\",\"subunitcolor\":\"white\",\"showland\":true,\"showlakes\":true,\"lakecolor\":\"white\"},\"title\":{\"x\":0.05},\"mapbox\":{\"style\":\"light\"}}},\"xaxis\":{\"anchor\":\"y\",\"domain\":[0.0,1.0],\"title\":{\"text\":\"Population\"}},\"yaxis\":{\"anchor\":\"x\",\"domain\":[0.0,1.0],\"title\":{\"text\":\"Water use [km\\u00b3]\"}},\"legend\":{\"tracegroupgap\":0},\"title\":{\"text\":\"Population and Water Use in Chile\"}},                        {\"responsive\": true}                    ).then(function(){\n",
       "                            \n",
       "var gd = document.getElementById('074037e7-e5ea-4e0a-a462-3ebd101eced8');\n",
       "var x = new MutationObserver(function (mutations, observer) {{\n",
       "        var display = window.getComputedStyle(gd).display;\n",
       "        if (!display || display === 'none') {{\n",
       "            console.log([gd, 'removed!']);\n",
       "            Plotly.purge(gd);\n",
       "            observer.disconnect();\n",
       "        }}\n",
       "}});\n",
       "\n",
       "// Listen for the removal of the full notebook cells\n",
       "var notebookContainer = gd.closest('#notebook-container');\n",
       "if (notebookContainer) {{\n",
       "    x.observe(notebookContainer, {childList: true});\n",
       "}}\n",
       "\n",
       "// Listen for the clearing of the current output cell\n",
       "var outputEl = gd.closest('.output');\n",
       "if (outputEl) {{\n",
       "    x.observe(outputEl, {childList: true});\n",
       "}}\n",
       "\n",
       "                        })                };                });            </script>        </div>"
      ]
     },
     "metadata": {},
     "output_type": "display_data"
    },
    {
     "data": {
      "application/vnd.plotly.v1+json": {
       "config": {
        "plotlyServerURL": "https://plot.ly"
       },
       "data": [
        {
         "line": {
          "color": "red"
         },
         "type": "scatter",
         "x": [
          15691701,
          15856977,
          16022133,
          16183489,
          16347890,
          16517933,
          16697754,
          16881078,
          17063927,
          17254159,
          17443491,
          17611902,
          17787617,
          17971423,
          18167147,
          18419192,
          18751405,
          19107216,
          19458310
         ],
         "y": [
          3050.61,
          2772.61,
          2715.1,
          3276.18,
          3512.31,
          2833.89,
          3099.25,
          3137.54,
          2794.58,
          2597.94,
          2711.39,
          2649.47,
          3343.9,
          3318.4,
          2623.62,
          3175.38,
          3325.53,
          2717.58,
          2883.97
         ]
        }
       ],
       "layout": {
        "template": {
         "data": {
          "bar": [
           {
            "error_x": {
             "color": "#2a3f5f"
            },
            "error_y": {
             "color": "#2a3f5f"
            },
            "marker": {
             "line": {
              "color": "#E5ECF6",
              "width": 0.5
             },
             "pattern": {
              "fillmode": "overlay",
              "size": 10,
              "solidity": 0.2
             }
            },
            "type": "bar"
           }
          ],
          "barpolar": [
           {
            "marker": {
             "line": {
              "color": "#E5ECF6",
              "width": 0.5
             },
             "pattern": {
              "fillmode": "overlay",
              "size": 10,
              "solidity": 0.2
             }
            },
            "type": "barpolar"
           }
          ],
          "carpet": [
           {
            "aaxis": {
             "endlinecolor": "#2a3f5f",
             "gridcolor": "white",
             "linecolor": "white",
             "minorgridcolor": "white",
             "startlinecolor": "#2a3f5f"
            },
            "baxis": {
             "endlinecolor": "#2a3f5f",
             "gridcolor": "white",
             "linecolor": "white",
             "minorgridcolor": "white",
             "startlinecolor": "#2a3f5f"
            },
            "type": "carpet"
           }
          ],
          "choropleth": [
           {
            "colorbar": {
             "outlinewidth": 0,
             "ticks": ""
            },
            "type": "choropleth"
           }
          ],
          "contour": [
           {
            "colorbar": {
             "outlinewidth": 0,
             "ticks": ""
            },
            "colorscale": [
             [
              0,
              "#0d0887"
             ],
             [
              0.1111111111111111,
              "#46039f"
             ],
             [
              0.2222222222222222,
              "#7201a8"
             ],
             [
              0.3333333333333333,
              "#9c179e"
             ],
             [
              0.4444444444444444,
              "#bd3786"
             ],
             [
              0.5555555555555556,
              "#d8576b"
             ],
             [
              0.6666666666666666,
              "#ed7953"
             ],
             [
              0.7777777777777778,
              "#fb9f3a"
             ],
             [
              0.8888888888888888,
              "#fdca26"
             ],
             [
              1,
              "#f0f921"
             ]
            ],
            "type": "contour"
           }
          ],
          "contourcarpet": [
           {
            "colorbar": {
             "outlinewidth": 0,
             "ticks": ""
            },
            "type": "contourcarpet"
           }
          ],
          "heatmap": [
           {
            "colorbar": {
             "outlinewidth": 0,
             "ticks": ""
            },
            "colorscale": [
             [
              0,
              "#0d0887"
             ],
             [
              0.1111111111111111,
              "#46039f"
             ],
             [
              0.2222222222222222,
              "#7201a8"
             ],
             [
              0.3333333333333333,
              "#9c179e"
             ],
             [
              0.4444444444444444,
              "#bd3786"
             ],
             [
              0.5555555555555556,
              "#d8576b"
             ],
             [
              0.6666666666666666,
              "#ed7953"
             ],
             [
              0.7777777777777778,
              "#fb9f3a"
             ],
             [
              0.8888888888888888,
              "#fdca26"
             ],
             [
              1,
              "#f0f921"
             ]
            ],
            "type": "heatmap"
           }
          ],
          "heatmapgl": [
           {
            "colorbar": {
             "outlinewidth": 0,
             "ticks": ""
            },
            "colorscale": [
             [
              0,
              "#0d0887"
             ],
             [
              0.1111111111111111,
              "#46039f"
             ],
             [
              0.2222222222222222,
              "#7201a8"
             ],
             [
              0.3333333333333333,
              "#9c179e"
             ],
             [
              0.4444444444444444,
              "#bd3786"
             ],
             [
              0.5555555555555556,
              "#d8576b"
             ],
             [
              0.6666666666666666,
              "#ed7953"
             ],
             [
              0.7777777777777778,
              "#fb9f3a"
             ],
             [
              0.8888888888888888,
              "#fdca26"
             ],
             [
              1,
              "#f0f921"
             ]
            ],
            "type": "heatmapgl"
           }
          ],
          "histogram": [
           {
            "marker": {
             "pattern": {
              "fillmode": "overlay",
              "size": 10,
              "solidity": 0.2
             }
            },
            "type": "histogram"
           }
          ],
          "histogram2d": [
           {
            "colorbar": {
             "outlinewidth": 0,
             "ticks": ""
            },
            "colorscale": [
             [
              0,
              "#0d0887"
             ],
             [
              0.1111111111111111,
              "#46039f"
             ],
             [
              0.2222222222222222,
              "#7201a8"
             ],
             [
              0.3333333333333333,
              "#9c179e"
             ],
             [
              0.4444444444444444,
              "#bd3786"
             ],
             [
              0.5555555555555556,
              "#d8576b"
             ],
             [
              0.6666666666666666,
              "#ed7953"
             ],
             [
              0.7777777777777778,
              "#fb9f3a"
             ],
             [
              0.8888888888888888,
              "#fdca26"
             ],
             [
              1,
              "#f0f921"
             ]
            ],
            "type": "histogram2d"
           }
          ],
          "histogram2dcontour": [
           {
            "colorbar": {
             "outlinewidth": 0,
             "ticks": ""
            },
            "colorscale": [
             [
              0,
              "#0d0887"
             ],
             [
              0.1111111111111111,
              "#46039f"
             ],
             [
              0.2222222222222222,
              "#7201a8"
             ],
             [
              0.3333333333333333,
              "#9c179e"
             ],
             [
              0.4444444444444444,
              "#bd3786"
             ],
             [
              0.5555555555555556,
              "#d8576b"
             ],
             [
              0.6666666666666666,
              "#ed7953"
             ],
             [
              0.7777777777777778,
              "#fb9f3a"
             ],
             [
              0.8888888888888888,
              "#fdca26"
             ],
             [
              1,
              "#f0f921"
             ]
            ],
            "type": "histogram2dcontour"
           }
          ],
          "mesh3d": [
           {
            "colorbar": {
             "outlinewidth": 0,
             "ticks": ""
            },
            "type": "mesh3d"
           }
          ],
          "parcoords": [
           {
            "line": {
             "colorbar": {
              "outlinewidth": 0,
              "ticks": ""
             }
            },
            "type": "parcoords"
           }
          ],
          "pie": [
           {
            "automargin": true,
            "type": "pie"
           }
          ],
          "scatter": [
           {
            "fillpattern": {
             "fillmode": "overlay",
             "size": 10,
             "solidity": 0.2
            },
            "type": "scatter"
           }
          ],
          "scatter3d": [
           {
            "line": {
             "colorbar": {
              "outlinewidth": 0,
              "ticks": ""
             }
            },
            "marker": {
             "colorbar": {
              "outlinewidth": 0,
              "ticks": ""
             }
            },
            "type": "scatter3d"
           }
          ],
          "scattercarpet": [
           {
            "marker": {
             "colorbar": {
              "outlinewidth": 0,
              "ticks": ""
             }
            },
            "type": "scattercarpet"
           }
          ],
          "scattergeo": [
           {
            "marker": {
             "colorbar": {
              "outlinewidth": 0,
              "ticks": ""
             }
            },
            "type": "scattergeo"
           }
          ],
          "scattergl": [
           {
            "marker": {
             "colorbar": {
              "outlinewidth": 0,
              "ticks": ""
             }
            },
            "type": "scattergl"
           }
          ],
          "scattermapbox": [
           {
            "marker": {
             "colorbar": {
              "outlinewidth": 0,
              "ticks": ""
             }
            },
            "type": "scattermapbox"
           }
          ],
          "scatterpolar": [
           {
            "marker": {
             "colorbar": {
              "outlinewidth": 0,
              "ticks": ""
             }
            },
            "type": "scatterpolar"
           }
          ],
          "scatterpolargl": [
           {
            "marker": {
             "colorbar": {
              "outlinewidth": 0,
              "ticks": ""
             }
            },
            "type": "scatterpolargl"
           }
          ],
          "scatterternary": [
           {
            "marker": {
             "colorbar": {
              "outlinewidth": 0,
              "ticks": ""
             }
            },
            "type": "scatterternary"
           }
          ],
          "surface": [
           {
            "colorbar": {
             "outlinewidth": 0,
             "ticks": ""
            },
            "colorscale": [
             [
              0,
              "#0d0887"
             ],
             [
              0.1111111111111111,
              "#46039f"
             ],
             [
              0.2222222222222222,
              "#7201a8"
             ],
             [
              0.3333333333333333,
              "#9c179e"
             ],
             [
              0.4444444444444444,
              "#bd3786"
             ],
             [
              0.5555555555555556,
              "#d8576b"
             ],
             [
              0.6666666666666666,
              "#ed7953"
             ],
             [
              0.7777777777777778,
              "#fb9f3a"
             ],
             [
              0.8888888888888888,
              "#fdca26"
             ],
             [
              1,
              "#f0f921"
             ]
            ],
            "type": "surface"
           }
          ],
          "table": [
           {
            "cells": {
             "fill": {
              "color": "#EBF0F8"
             },
             "line": {
              "color": "white"
             }
            },
            "header": {
             "fill": {
              "color": "#C8D4E3"
             },
             "line": {
              "color": "white"
             }
            },
            "type": "table"
           }
          ]
         },
         "layout": {
          "annotationdefaults": {
           "arrowcolor": "#2a3f5f",
           "arrowhead": 0,
           "arrowwidth": 1
          },
          "autotypenumbers": "strict",
          "coloraxis": {
           "colorbar": {
            "outlinewidth": 0,
            "ticks": ""
           }
          },
          "colorscale": {
           "diverging": [
            [
             0,
             "#8e0152"
            ],
            [
             0.1,
             "#c51b7d"
            ],
            [
             0.2,
             "#de77ae"
            ],
            [
             0.3,
             "#f1b6da"
            ],
            [
             0.4,
             "#fde0ef"
            ],
            [
             0.5,
             "#f7f7f7"
            ],
            [
             0.6,
             "#e6f5d0"
            ],
            [
             0.7,
             "#b8e186"
            ],
            [
             0.8,
             "#7fbc41"
            ],
            [
             0.9,
             "#4d9221"
            ],
            [
             1,
             "#276419"
            ]
           ],
           "sequential": [
            [
             0,
             "#0d0887"
            ],
            [
             0.1111111111111111,
             "#46039f"
            ],
            [
             0.2222222222222222,
             "#7201a8"
            ],
            [
             0.3333333333333333,
             "#9c179e"
            ],
            [
             0.4444444444444444,
             "#bd3786"
            ],
            [
             0.5555555555555556,
             "#d8576b"
            ],
            [
             0.6666666666666666,
             "#ed7953"
            ],
            [
             0.7777777777777778,
             "#fb9f3a"
            ],
            [
             0.8888888888888888,
             "#fdca26"
            ],
            [
             1,
             "#f0f921"
            ]
           ],
           "sequentialminus": [
            [
             0,
             "#0d0887"
            ],
            [
             0.1111111111111111,
             "#46039f"
            ],
            [
             0.2222222222222222,
             "#7201a8"
            ],
            [
             0.3333333333333333,
             "#9c179e"
            ],
            [
             0.4444444444444444,
             "#bd3786"
            ],
            [
             0.5555555555555556,
             "#d8576b"
            ],
            [
             0.6666666666666666,
             "#ed7953"
            ],
            [
             0.7777777777777778,
             "#fb9f3a"
            ],
            [
             0.8888888888888888,
             "#fdca26"
            ],
            [
             1,
             "#f0f921"
            ]
           ]
          },
          "colorway": [
           "#636efa",
           "#EF553B",
           "#00cc96",
           "#ab63fa",
           "#FFA15A",
           "#19d3f3",
           "#FF6692",
           "#B6E880",
           "#FF97FF",
           "#FECB52"
          ],
          "font": {
           "color": "#2a3f5f"
          },
          "geo": {
           "bgcolor": "white",
           "lakecolor": "white",
           "landcolor": "#E5ECF6",
           "showlakes": true,
           "showland": true,
           "subunitcolor": "white"
          },
          "hoverlabel": {
           "align": "left"
          },
          "hovermode": "closest",
          "mapbox": {
           "style": "light"
          },
          "paper_bgcolor": "white",
          "plot_bgcolor": "#E5ECF6",
          "polar": {
           "angularaxis": {
            "gridcolor": "white",
            "linecolor": "white",
            "ticks": ""
           },
           "bgcolor": "#E5ECF6",
           "radialaxis": {
            "gridcolor": "white",
            "linecolor": "white",
            "ticks": ""
           }
          },
          "scene": {
           "xaxis": {
            "backgroundcolor": "#E5ECF6",
            "gridcolor": "white",
            "gridwidth": 2,
            "linecolor": "white",
            "showbackground": true,
            "ticks": "",
            "zerolinecolor": "white"
           },
           "yaxis": {
            "backgroundcolor": "#E5ECF6",
            "gridcolor": "white",
            "gridwidth": 2,
            "linecolor": "white",
            "showbackground": true,
            "ticks": "",
            "zerolinecolor": "white"
           },
           "zaxis": {
            "backgroundcolor": "#E5ECF6",
            "gridcolor": "white",
            "gridwidth": 2,
            "linecolor": "white",
            "showbackground": true,
            "ticks": "",
            "zerolinecolor": "white"
           }
          },
          "shapedefaults": {
           "line": {
            "color": "#2a3f5f"
           }
          },
          "ternary": {
           "aaxis": {
            "gridcolor": "white",
            "linecolor": "white",
            "ticks": ""
           },
           "baxis": {
            "gridcolor": "white",
            "linecolor": "white",
            "ticks": ""
           },
           "bgcolor": "#E5ECF6",
           "caxis": {
            "gridcolor": "white",
            "linecolor": "white",
            "ticks": ""
           }
          },
          "title": {
           "x": 0.05
          },
          "xaxis": {
           "automargin": true,
           "gridcolor": "white",
           "linecolor": "white",
           "ticks": "",
           "title": {
            "standoff": 15
           },
           "zerolinecolor": "white",
           "zerolinewidth": 2
          },
          "yaxis": {
           "automargin": true,
           "gridcolor": "white",
           "linecolor": "white",
           "ticks": "",
           "title": {
            "standoff": 15
           },
           "zerolinecolor": "white",
           "zerolinewidth": 2
          }
         }
        }
       }
      },
      "text/html": [
       "<div>                            <div id=\"4fb946e7-4f48-45bc-bb92-b0c1552c53e9\" class=\"plotly-graph-div\" style=\"height:525px; width:100%;\"></div>            <script type=\"text/javascript\">                require([\"plotly\"], function(Plotly) {                    window.PLOTLYENV=window.PLOTLYENV || {};                                    if (document.getElementById(\"4fb946e7-4f48-45bc-bb92-b0c1552c53e9\")) {                    Plotly.newPlot(                        \"4fb946e7-4f48-45bc-bb92-b0c1552c53e9\",                        [{\"x\":[15691701,15856977,16022133,16183489,16347890,16517933,16697754,16881078,17063927,17254159,17443491,17611902,17787617,17971423,18167147,18419192,18751405,19107216,19458310],\"y\":[3050.61,2772.61,2715.1,3276.18,3512.31,2833.89,3099.25,3137.54,2794.58,2597.94,2711.39,2649.47,3343.9,3318.4,2623.62,3175.38,3325.53,2717.58,2883.97],\"type\":\"scatter\",\"line\":{\"color\":\"red\"}}],                        {\"template\":{\"data\":{\"histogram2dcontour\":[{\"type\":\"histogram2dcontour\",\"colorbar\":{\"outlinewidth\":0,\"ticks\":\"\"},\"colorscale\":[[0.0,\"#0d0887\"],[0.1111111111111111,\"#46039f\"],[0.2222222222222222,\"#7201a8\"],[0.3333333333333333,\"#9c179e\"],[0.4444444444444444,\"#bd3786\"],[0.5555555555555556,\"#d8576b\"],[0.6666666666666666,\"#ed7953\"],[0.7777777777777778,\"#fb9f3a\"],[0.8888888888888888,\"#fdca26\"],[1.0,\"#f0f921\"]]}],\"choropleth\":[{\"type\":\"choropleth\",\"colorbar\":{\"outlinewidth\":0,\"ticks\":\"\"}}],\"histogram2d\":[{\"type\":\"histogram2d\",\"colorbar\":{\"outlinewidth\":0,\"ticks\":\"\"},\"colorscale\":[[0.0,\"#0d0887\"],[0.1111111111111111,\"#46039f\"],[0.2222222222222222,\"#7201a8\"],[0.3333333333333333,\"#9c179e\"],[0.4444444444444444,\"#bd3786\"],[0.5555555555555556,\"#d8576b\"],[0.6666666666666666,\"#ed7953\"],[0.7777777777777778,\"#fb9f3a\"],[0.8888888888888888,\"#fdca26\"],[1.0,\"#f0f921\"]]}],\"heatmap\":[{\"type\":\"heatmap\",\"colorbar\":{\"outlinewidth\":0,\"ticks\":\"\"},\"colorscale\":[[0.0,\"#0d0887\"],[0.1111111111111111,\"#46039f\"],[0.2222222222222222,\"#7201a8\"],[0.3333333333333333,\"#9c179e\"],[0.4444444444444444,\"#bd3786\"],[0.5555555555555556,\"#d8576b\"],[0.6666666666666666,\"#ed7953\"],[0.7777777777777778,\"#fb9f3a\"],[0.8888888888888888,\"#fdca26\"],[1.0,\"#f0f921\"]]}],\"heatmapgl\":[{\"type\":\"heatmapgl\",\"colorbar\":{\"outlinewidth\":0,\"ticks\":\"\"},\"colorscale\":[[0.0,\"#0d0887\"],[0.1111111111111111,\"#46039f\"],[0.2222222222222222,\"#7201a8\"],[0.3333333333333333,\"#9c179e\"],[0.4444444444444444,\"#bd3786\"],[0.5555555555555556,\"#d8576b\"],[0.6666666666666666,\"#ed7953\"],[0.7777777777777778,\"#fb9f3a\"],[0.8888888888888888,\"#fdca26\"],[1.0,\"#f0f921\"]]}],\"contourcarpet\":[{\"type\":\"contourcarpet\",\"colorbar\":{\"outlinewidth\":0,\"ticks\":\"\"}}],\"contour\":[{\"type\":\"contour\",\"colorbar\":{\"outlinewidth\":0,\"ticks\":\"\"},\"colorscale\":[[0.0,\"#0d0887\"],[0.1111111111111111,\"#46039f\"],[0.2222222222222222,\"#7201a8\"],[0.3333333333333333,\"#9c179e\"],[0.4444444444444444,\"#bd3786\"],[0.5555555555555556,\"#d8576b\"],[0.6666666666666666,\"#ed7953\"],[0.7777777777777778,\"#fb9f3a\"],[0.8888888888888888,\"#fdca26\"],[1.0,\"#f0f921\"]]}],\"surface\":[{\"type\":\"surface\",\"colorbar\":{\"outlinewidth\":0,\"ticks\":\"\"},\"colorscale\":[[0.0,\"#0d0887\"],[0.1111111111111111,\"#46039f\"],[0.2222222222222222,\"#7201a8\"],[0.3333333333333333,\"#9c179e\"],[0.4444444444444444,\"#bd3786\"],[0.5555555555555556,\"#d8576b\"],[0.6666666666666666,\"#ed7953\"],[0.7777777777777778,\"#fb9f3a\"],[0.8888888888888888,\"#fdca26\"],[1.0,\"#f0f921\"]]}],\"mesh3d\":[{\"type\":\"mesh3d\",\"colorbar\":{\"outlinewidth\":0,\"ticks\":\"\"}}],\"scatter\":[{\"fillpattern\":{\"fillmode\":\"overlay\",\"size\":10,\"solidity\":0.2},\"type\":\"scatter\"}],\"parcoords\":[{\"type\":\"parcoords\",\"line\":{\"colorbar\":{\"outlinewidth\":0,\"ticks\":\"\"}}}],\"scatterpolargl\":[{\"type\":\"scatterpolargl\",\"marker\":{\"colorbar\":{\"outlinewidth\":0,\"ticks\":\"\"}}}],\"bar\":[{\"error_x\":{\"color\":\"#2a3f5f\"},\"error_y\":{\"color\":\"#2a3f5f\"},\"marker\":{\"line\":{\"color\":\"#E5ECF6\",\"width\":0.5},\"pattern\":{\"fillmode\":\"overlay\",\"size\":10,\"solidity\":0.2}},\"type\":\"bar\"}],\"scattergeo\":[{\"type\":\"scattergeo\",\"marker\":{\"colorbar\":{\"outlinewidth\":0,\"ticks\":\"\"}}}],\"scatterpolar\":[{\"type\":\"scatterpolar\",\"marker\":{\"colorbar\":{\"outlinewidth\":0,\"ticks\":\"\"}}}],\"histogram\":[{\"marker\":{\"pattern\":{\"fillmode\":\"overlay\",\"size\":10,\"solidity\":0.2}},\"type\":\"histogram\"}],\"scattergl\":[{\"type\":\"scattergl\",\"marker\":{\"colorbar\":{\"outlinewidth\":0,\"ticks\":\"\"}}}],\"scatter3d\":[{\"type\":\"scatter3d\",\"line\":{\"colorbar\":{\"outlinewidth\":0,\"ticks\":\"\"}},\"marker\":{\"colorbar\":{\"outlinewidth\":0,\"ticks\":\"\"}}}],\"scattermapbox\":[{\"type\":\"scattermapbox\",\"marker\":{\"colorbar\":{\"outlinewidth\":0,\"ticks\":\"\"}}}],\"scatterternary\":[{\"type\":\"scatterternary\",\"marker\":{\"colorbar\":{\"outlinewidth\":0,\"ticks\":\"\"}}}],\"scattercarpet\":[{\"type\":\"scattercarpet\",\"marker\":{\"colorbar\":{\"outlinewidth\":0,\"ticks\":\"\"}}}],\"carpet\":[{\"aaxis\":{\"endlinecolor\":\"#2a3f5f\",\"gridcolor\":\"white\",\"linecolor\":\"white\",\"minorgridcolor\":\"white\",\"startlinecolor\":\"#2a3f5f\"},\"baxis\":{\"endlinecolor\":\"#2a3f5f\",\"gridcolor\":\"white\",\"linecolor\":\"white\",\"minorgridcolor\":\"white\",\"startlinecolor\":\"#2a3f5f\"},\"type\":\"carpet\"}],\"table\":[{\"cells\":{\"fill\":{\"color\":\"#EBF0F8\"},\"line\":{\"color\":\"white\"}},\"header\":{\"fill\":{\"color\":\"#C8D4E3\"},\"line\":{\"color\":\"white\"}},\"type\":\"table\"}],\"barpolar\":[{\"marker\":{\"line\":{\"color\":\"#E5ECF6\",\"width\":0.5},\"pattern\":{\"fillmode\":\"overlay\",\"size\":10,\"solidity\":0.2}},\"type\":\"barpolar\"}],\"pie\":[{\"automargin\":true,\"type\":\"pie\"}]},\"layout\":{\"autotypenumbers\":\"strict\",\"colorway\":[\"#636efa\",\"#EF553B\",\"#00cc96\",\"#ab63fa\",\"#FFA15A\",\"#19d3f3\",\"#FF6692\",\"#B6E880\",\"#FF97FF\",\"#FECB52\"],\"font\":{\"color\":\"#2a3f5f\"},\"hovermode\":\"closest\",\"hoverlabel\":{\"align\":\"left\"},\"paper_bgcolor\":\"white\",\"plot_bgcolor\":\"#E5ECF6\",\"polar\":{\"bgcolor\":\"#E5ECF6\",\"angularaxis\":{\"gridcolor\":\"white\",\"linecolor\":\"white\",\"ticks\":\"\"},\"radialaxis\":{\"gridcolor\":\"white\",\"linecolor\":\"white\",\"ticks\":\"\"}},\"ternary\":{\"bgcolor\":\"#E5ECF6\",\"aaxis\":{\"gridcolor\":\"white\",\"linecolor\":\"white\",\"ticks\":\"\"},\"baxis\":{\"gridcolor\":\"white\",\"linecolor\":\"white\",\"ticks\":\"\"},\"caxis\":{\"gridcolor\":\"white\",\"linecolor\":\"white\",\"ticks\":\"\"}},\"coloraxis\":{\"colorbar\":{\"outlinewidth\":0,\"ticks\":\"\"}},\"colorscale\":{\"sequential\":[[0.0,\"#0d0887\"],[0.1111111111111111,\"#46039f\"],[0.2222222222222222,\"#7201a8\"],[0.3333333333333333,\"#9c179e\"],[0.4444444444444444,\"#bd3786\"],[0.5555555555555556,\"#d8576b\"],[0.6666666666666666,\"#ed7953\"],[0.7777777777777778,\"#fb9f3a\"],[0.8888888888888888,\"#fdca26\"],[1.0,\"#f0f921\"]],\"sequentialminus\":[[0.0,\"#0d0887\"],[0.1111111111111111,\"#46039f\"],[0.2222222222222222,\"#7201a8\"],[0.3333333333333333,\"#9c179e\"],[0.4444444444444444,\"#bd3786\"],[0.5555555555555556,\"#d8576b\"],[0.6666666666666666,\"#ed7953\"],[0.7777777777777778,\"#fb9f3a\"],[0.8888888888888888,\"#fdca26\"],[1.0,\"#f0f921\"]],\"diverging\":[[0,\"#8e0152\"],[0.1,\"#c51b7d\"],[0.2,\"#de77ae\"],[0.3,\"#f1b6da\"],[0.4,\"#fde0ef\"],[0.5,\"#f7f7f7\"],[0.6,\"#e6f5d0\"],[0.7,\"#b8e186\"],[0.8,\"#7fbc41\"],[0.9,\"#4d9221\"],[1,\"#276419\"]]},\"xaxis\":{\"gridcolor\":\"white\",\"linecolor\":\"white\",\"ticks\":\"\",\"title\":{\"standoff\":15},\"zerolinecolor\":\"white\",\"automargin\":true,\"zerolinewidth\":2},\"yaxis\":{\"gridcolor\":\"white\",\"linecolor\":\"white\",\"ticks\":\"\",\"title\":{\"standoff\":15},\"zerolinecolor\":\"white\",\"automargin\":true,\"zerolinewidth\":2},\"scene\":{\"xaxis\":{\"backgroundcolor\":\"#E5ECF6\",\"gridcolor\":\"white\",\"linecolor\":\"white\",\"showbackground\":true,\"ticks\":\"\",\"zerolinecolor\":\"white\",\"gridwidth\":2},\"yaxis\":{\"backgroundcolor\":\"#E5ECF6\",\"gridcolor\":\"white\",\"linecolor\":\"white\",\"showbackground\":true,\"ticks\":\"\",\"zerolinecolor\":\"white\",\"gridwidth\":2},\"zaxis\":{\"backgroundcolor\":\"#E5ECF6\",\"gridcolor\":\"white\",\"linecolor\":\"white\",\"showbackground\":true,\"ticks\":\"\",\"zerolinecolor\":\"white\",\"gridwidth\":2}},\"shapedefaults\":{\"line\":{\"color\":\"#2a3f5f\"}},\"annotationdefaults\":{\"arrowcolor\":\"#2a3f5f\",\"arrowhead\":0,\"arrowwidth\":1},\"geo\":{\"bgcolor\":\"white\",\"landcolor\":\"#E5ECF6\",\"subunitcolor\":\"white\",\"showland\":true,\"showlakes\":true,\"lakecolor\":\"white\"},\"title\":{\"x\":0.05},\"mapbox\":{\"style\":\"light\"}}}},                        {\"responsive\": true}                    ).then(function(){\n",
       "                            \n",
       "var gd = document.getElementById('4fb946e7-4f48-45bc-bb92-b0c1552c53e9');\n",
       "var x = new MutationObserver(function (mutations, observer) {{\n",
       "        var display = window.getComputedStyle(gd).display;\n",
       "        if (!display || display === 'none') {{\n",
       "            console.log([gd, 'removed!']);\n",
       "            Plotly.purge(gd);\n",
       "            observer.disconnect();\n",
       "        }}\n",
       "}});\n",
       "\n",
       "// Listen for the removal of the full notebook cells\n",
       "var notebookContainer = gd.closest('#notebook-container');\n",
       "if (notebookContainer) {{\n",
       "    x.observe(notebookContainer, {childList: true});\n",
       "}}\n",
       "\n",
       "// Listen for the clearing of the current output cell\n",
       "var outputEl = gd.closest('.output');\n",
       "if (outputEl) {{\n",
       "    x.observe(outputEl, {childList: true});\n",
       "}}\n",
       "\n",
       "                        })                };                });            </script>        </div>"
      ]
     },
     "metadata": {},
     "output_type": "display_data"
    }
   ],
   "source": [
    "fig = px.scatter(NLU_pop, x=\"Population\", y=\"NLU\", trendline = 'ols',\n",
    "              title=\"Population and Water Use in Chile\", \n",
    "              labels={'Population':'Population', 'NLU':'Water use [km³]'}) \n",
    "\n",
    "\n",
    "\n",
    "fig2 = go.Figure(data=go.Scatter(x=NLU_pop[\"Population\"], y=NLU_pop[\"NLU\"]))\n",
    "fig2.update_traces(line=dict(color='red'))\n",
    "\n",
    "fig.show()\n",
    "fig2.show()"
   ]
  },
  {
   "cell_type": "code",
   "execution_count": 30,
   "id": "69ad5841",
   "metadata": {},
   "outputs": [
    {
     "data": {
      "application/vnd.plotly.v1+json": {
       "config": {
        "plotlyServerURL": "https://plot.ly"
       },
       "data": [
        {
         "hovertemplate": "Log Population=%{x}<br>Log_NLU=%{y}<extra></extra>",
         "legendgroup": "",
         "line": {
          "color": "#636efa",
          "dash": "solid"
         },
         "marker": {
          "symbol": "circle"
         },
         "mode": "lines",
         "name": "",
         "orientation": "v",
         "showlegend": false,
         "type": "scatter",
         "x": [
          16.56864253183486,
          16.579120150707134,
          16.589481636808753,
          16.599502082936773,
          16.609609394991846,
          16.619957197163437,
          16.63078477732429,
          16.6417039076522,
          16.652477261111983,
          16.663563773830635,
          16.67447712843171,
          16.68408548145438,
          16.694013099011457,
          16.704293443159354,
          16.715125410982797,
          16.728903722465585,
          16.746779240906665,
          16.765576622715134,
          16.783784786141037
         ],
         "xaxis": "x",
         "y": [
          8.023096849604123,
          7.927544393820703,
          7.906584064102262,
          8.09443338851848,
          8.164029219652257,
          7.949405605100715,
          8.038915425718256,
          8.051194332362755,
          7.9354371059614675,
          7.862474102275637,
          7.905216697506895,
          7.8821148989776,
          8.11489306945123,
          8.107238018035208,
          7.872310322503804,
          8.063182589204478,
          8.109384338883604,
          7.907497057384498,
          7.966923096131596
         ],
         "yaxis": "y"
        }
       ],
       "layout": {
        "legend": {
         "tracegroupgap": 0
        },
        "template": {
         "data": {
          "bar": [
           {
            "error_x": {
             "color": "#2a3f5f"
            },
            "error_y": {
             "color": "#2a3f5f"
            },
            "marker": {
             "line": {
              "color": "#E5ECF6",
              "width": 0.5
             },
             "pattern": {
              "fillmode": "overlay",
              "size": 10,
              "solidity": 0.2
             }
            },
            "type": "bar"
           }
          ],
          "barpolar": [
           {
            "marker": {
             "line": {
              "color": "#E5ECF6",
              "width": 0.5
             },
             "pattern": {
              "fillmode": "overlay",
              "size": 10,
              "solidity": 0.2
             }
            },
            "type": "barpolar"
           }
          ],
          "carpet": [
           {
            "aaxis": {
             "endlinecolor": "#2a3f5f",
             "gridcolor": "white",
             "linecolor": "white",
             "minorgridcolor": "white",
             "startlinecolor": "#2a3f5f"
            },
            "baxis": {
             "endlinecolor": "#2a3f5f",
             "gridcolor": "white",
             "linecolor": "white",
             "minorgridcolor": "white",
             "startlinecolor": "#2a3f5f"
            },
            "type": "carpet"
           }
          ],
          "choropleth": [
           {
            "colorbar": {
             "outlinewidth": 0,
             "ticks": ""
            },
            "type": "choropleth"
           }
          ],
          "contour": [
           {
            "colorbar": {
             "outlinewidth": 0,
             "ticks": ""
            },
            "colorscale": [
             [
              0,
              "#0d0887"
             ],
             [
              0.1111111111111111,
              "#46039f"
             ],
             [
              0.2222222222222222,
              "#7201a8"
             ],
             [
              0.3333333333333333,
              "#9c179e"
             ],
             [
              0.4444444444444444,
              "#bd3786"
             ],
             [
              0.5555555555555556,
              "#d8576b"
             ],
             [
              0.6666666666666666,
              "#ed7953"
             ],
             [
              0.7777777777777778,
              "#fb9f3a"
             ],
             [
              0.8888888888888888,
              "#fdca26"
             ],
             [
              1,
              "#f0f921"
             ]
            ],
            "type": "contour"
           }
          ],
          "contourcarpet": [
           {
            "colorbar": {
             "outlinewidth": 0,
             "ticks": ""
            },
            "type": "contourcarpet"
           }
          ],
          "heatmap": [
           {
            "colorbar": {
             "outlinewidth": 0,
             "ticks": ""
            },
            "colorscale": [
             [
              0,
              "#0d0887"
             ],
             [
              0.1111111111111111,
              "#46039f"
             ],
             [
              0.2222222222222222,
              "#7201a8"
             ],
             [
              0.3333333333333333,
              "#9c179e"
             ],
             [
              0.4444444444444444,
              "#bd3786"
             ],
             [
              0.5555555555555556,
              "#d8576b"
             ],
             [
              0.6666666666666666,
              "#ed7953"
             ],
             [
              0.7777777777777778,
              "#fb9f3a"
             ],
             [
              0.8888888888888888,
              "#fdca26"
             ],
             [
              1,
              "#f0f921"
             ]
            ],
            "type": "heatmap"
           }
          ],
          "heatmapgl": [
           {
            "colorbar": {
             "outlinewidth": 0,
             "ticks": ""
            },
            "colorscale": [
             [
              0,
              "#0d0887"
             ],
             [
              0.1111111111111111,
              "#46039f"
             ],
             [
              0.2222222222222222,
              "#7201a8"
             ],
             [
              0.3333333333333333,
              "#9c179e"
             ],
             [
              0.4444444444444444,
              "#bd3786"
             ],
             [
              0.5555555555555556,
              "#d8576b"
             ],
             [
              0.6666666666666666,
              "#ed7953"
             ],
             [
              0.7777777777777778,
              "#fb9f3a"
             ],
             [
              0.8888888888888888,
              "#fdca26"
             ],
             [
              1,
              "#f0f921"
             ]
            ],
            "type": "heatmapgl"
           }
          ],
          "histogram": [
           {
            "marker": {
             "pattern": {
              "fillmode": "overlay",
              "size": 10,
              "solidity": 0.2
             }
            },
            "type": "histogram"
           }
          ],
          "histogram2d": [
           {
            "colorbar": {
             "outlinewidth": 0,
             "ticks": ""
            },
            "colorscale": [
             [
              0,
              "#0d0887"
             ],
             [
              0.1111111111111111,
              "#46039f"
             ],
             [
              0.2222222222222222,
              "#7201a8"
             ],
             [
              0.3333333333333333,
              "#9c179e"
             ],
             [
              0.4444444444444444,
              "#bd3786"
             ],
             [
              0.5555555555555556,
              "#d8576b"
             ],
             [
              0.6666666666666666,
              "#ed7953"
             ],
             [
              0.7777777777777778,
              "#fb9f3a"
             ],
             [
              0.8888888888888888,
              "#fdca26"
             ],
             [
              1,
              "#f0f921"
             ]
            ],
            "type": "histogram2d"
           }
          ],
          "histogram2dcontour": [
           {
            "colorbar": {
             "outlinewidth": 0,
             "ticks": ""
            },
            "colorscale": [
             [
              0,
              "#0d0887"
             ],
             [
              0.1111111111111111,
              "#46039f"
             ],
             [
              0.2222222222222222,
              "#7201a8"
             ],
             [
              0.3333333333333333,
              "#9c179e"
             ],
             [
              0.4444444444444444,
              "#bd3786"
             ],
             [
              0.5555555555555556,
              "#d8576b"
             ],
             [
              0.6666666666666666,
              "#ed7953"
             ],
             [
              0.7777777777777778,
              "#fb9f3a"
             ],
             [
              0.8888888888888888,
              "#fdca26"
             ],
             [
              1,
              "#f0f921"
             ]
            ],
            "type": "histogram2dcontour"
           }
          ],
          "mesh3d": [
           {
            "colorbar": {
             "outlinewidth": 0,
             "ticks": ""
            },
            "type": "mesh3d"
           }
          ],
          "parcoords": [
           {
            "line": {
             "colorbar": {
              "outlinewidth": 0,
              "ticks": ""
             }
            },
            "type": "parcoords"
           }
          ],
          "pie": [
           {
            "automargin": true,
            "type": "pie"
           }
          ],
          "scatter": [
           {
            "fillpattern": {
             "fillmode": "overlay",
             "size": 10,
             "solidity": 0.2
            },
            "type": "scatter"
           }
          ],
          "scatter3d": [
           {
            "line": {
             "colorbar": {
              "outlinewidth": 0,
              "ticks": ""
             }
            },
            "marker": {
             "colorbar": {
              "outlinewidth": 0,
              "ticks": ""
             }
            },
            "type": "scatter3d"
           }
          ],
          "scattercarpet": [
           {
            "marker": {
             "colorbar": {
              "outlinewidth": 0,
              "ticks": ""
             }
            },
            "type": "scattercarpet"
           }
          ],
          "scattergeo": [
           {
            "marker": {
             "colorbar": {
              "outlinewidth": 0,
              "ticks": ""
             }
            },
            "type": "scattergeo"
           }
          ],
          "scattergl": [
           {
            "marker": {
             "colorbar": {
              "outlinewidth": 0,
              "ticks": ""
             }
            },
            "type": "scattergl"
           }
          ],
          "scattermapbox": [
           {
            "marker": {
             "colorbar": {
              "outlinewidth": 0,
              "ticks": ""
             }
            },
            "type": "scattermapbox"
           }
          ],
          "scatterpolar": [
           {
            "marker": {
             "colorbar": {
              "outlinewidth": 0,
              "ticks": ""
             }
            },
            "type": "scatterpolar"
           }
          ],
          "scatterpolargl": [
           {
            "marker": {
             "colorbar": {
              "outlinewidth": 0,
              "ticks": ""
             }
            },
            "type": "scatterpolargl"
           }
          ],
          "scatterternary": [
           {
            "marker": {
             "colorbar": {
              "outlinewidth": 0,
              "ticks": ""
             }
            },
            "type": "scatterternary"
           }
          ],
          "surface": [
           {
            "colorbar": {
             "outlinewidth": 0,
             "ticks": ""
            },
            "colorscale": [
             [
              0,
              "#0d0887"
             ],
             [
              0.1111111111111111,
              "#46039f"
             ],
             [
              0.2222222222222222,
              "#7201a8"
             ],
             [
              0.3333333333333333,
              "#9c179e"
             ],
             [
              0.4444444444444444,
              "#bd3786"
             ],
             [
              0.5555555555555556,
              "#d8576b"
             ],
             [
              0.6666666666666666,
              "#ed7953"
             ],
             [
              0.7777777777777778,
              "#fb9f3a"
             ],
             [
              0.8888888888888888,
              "#fdca26"
             ],
             [
              1,
              "#f0f921"
             ]
            ],
            "type": "surface"
           }
          ],
          "table": [
           {
            "cells": {
             "fill": {
              "color": "#EBF0F8"
             },
             "line": {
              "color": "white"
             }
            },
            "header": {
             "fill": {
              "color": "#C8D4E3"
             },
             "line": {
              "color": "white"
             }
            },
            "type": "table"
           }
          ]
         },
         "layout": {
          "annotationdefaults": {
           "arrowcolor": "#2a3f5f",
           "arrowhead": 0,
           "arrowwidth": 1
          },
          "autotypenumbers": "strict",
          "coloraxis": {
           "colorbar": {
            "outlinewidth": 0,
            "ticks": ""
           }
          },
          "colorscale": {
           "diverging": [
            [
             0,
             "#8e0152"
            ],
            [
             0.1,
             "#c51b7d"
            ],
            [
             0.2,
             "#de77ae"
            ],
            [
             0.3,
             "#f1b6da"
            ],
            [
             0.4,
             "#fde0ef"
            ],
            [
             0.5,
             "#f7f7f7"
            ],
            [
             0.6,
             "#e6f5d0"
            ],
            [
             0.7,
             "#b8e186"
            ],
            [
             0.8,
             "#7fbc41"
            ],
            [
             0.9,
             "#4d9221"
            ],
            [
             1,
             "#276419"
            ]
           ],
           "sequential": [
            [
             0,
             "#0d0887"
            ],
            [
             0.1111111111111111,
             "#46039f"
            ],
            [
             0.2222222222222222,
             "#7201a8"
            ],
            [
             0.3333333333333333,
             "#9c179e"
            ],
            [
             0.4444444444444444,
             "#bd3786"
            ],
            [
             0.5555555555555556,
             "#d8576b"
            ],
            [
             0.6666666666666666,
             "#ed7953"
            ],
            [
             0.7777777777777778,
             "#fb9f3a"
            ],
            [
             0.8888888888888888,
             "#fdca26"
            ],
            [
             1,
             "#f0f921"
            ]
           ],
           "sequentialminus": [
            [
             0,
             "#0d0887"
            ],
            [
             0.1111111111111111,
             "#46039f"
            ],
            [
             0.2222222222222222,
             "#7201a8"
            ],
            [
             0.3333333333333333,
             "#9c179e"
            ],
            [
             0.4444444444444444,
             "#bd3786"
            ],
            [
             0.5555555555555556,
             "#d8576b"
            ],
            [
             0.6666666666666666,
             "#ed7953"
            ],
            [
             0.7777777777777778,
             "#fb9f3a"
            ],
            [
             0.8888888888888888,
             "#fdca26"
            ],
            [
             1,
             "#f0f921"
            ]
           ]
          },
          "colorway": [
           "#636efa",
           "#EF553B",
           "#00cc96",
           "#ab63fa",
           "#FFA15A",
           "#19d3f3",
           "#FF6692",
           "#B6E880",
           "#FF97FF",
           "#FECB52"
          ],
          "font": {
           "color": "#2a3f5f"
          },
          "geo": {
           "bgcolor": "white",
           "lakecolor": "white",
           "landcolor": "#E5ECF6",
           "showlakes": true,
           "showland": true,
           "subunitcolor": "white"
          },
          "hoverlabel": {
           "align": "left"
          },
          "hovermode": "closest",
          "mapbox": {
           "style": "light"
          },
          "paper_bgcolor": "white",
          "plot_bgcolor": "#E5ECF6",
          "polar": {
           "angularaxis": {
            "gridcolor": "white",
            "linecolor": "white",
            "ticks": ""
           },
           "bgcolor": "#E5ECF6",
           "radialaxis": {
            "gridcolor": "white",
            "linecolor": "white",
            "ticks": ""
           }
          },
          "scene": {
           "xaxis": {
            "backgroundcolor": "#E5ECF6",
            "gridcolor": "white",
            "gridwidth": 2,
            "linecolor": "white",
            "showbackground": true,
            "ticks": "",
            "zerolinecolor": "white"
           },
           "yaxis": {
            "backgroundcolor": "#E5ECF6",
            "gridcolor": "white",
            "gridwidth": 2,
            "linecolor": "white",
            "showbackground": true,
            "ticks": "",
            "zerolinecolor": "white"
           },
           "zaxis": {
            "backgroundcolor": "#E5ECF6",
            "gridcolor": "white",
            "gridwidth": 2,
            "linecolor": "white",
            "showbackground": true,
            "ticks": "",
            "zerolinecolor": "white"
           }
          },
          "shapedefaults": {
           "line": {
            "color": "#2a3f5f"
           }
          },
          "ternary": {
           "aaxis": {
            "gridcolor": "white",
            "linecolor": "white",
            "ticks": ""
           },
           "baxis": {
            "gridcolor": "white",
            "linecolor": "white",
            "ticks": ""
           },
           "bgcolor": "#E5ECF6",
           "caxis": {
            "gridcolor": "white",
            "linecolor": "white",
            "ticks": ""
           }
          },
          "title": {
           "x": 0.05
          },
          "xaxis": {
           "automargin": true,
           "gridcolor": "white",
           "linecolor": "white",
           "ticks": "",
           "title": {
            "standoff": 15
           },
           "zerolinecolor": "white",
           "zerolinewidth": 2
          },
          "yaxis": {
           "automargin": true,
           "gridcolor": "white",
           "linecolor": "white",
           "ticks": "",
           "title": {
            "standoff": 15
           },
           "zerolinecolor": "white",
           "zerolinewidth": 2
          }
         }
        },
        "title": {
         "text": "Population and Water Use in Chile"
        },
        "xaxis": {
         "anchor": "y",
         "domain": [
          0,
          1
         ],
         "title": {
          "text": "Log Population"
         }
        },
        "yaxis": {
         "anchor": "x",
         "domain": [
          0,
          1
         ],
         "title": {
          "text": "Log_NLU"
         }
        }
       }
      },
      "text/html": [
       "<div>                            <div id=\"0b9eb0a5-ae6c-4cd7-9a79-1fe7bff82154\" class=\"plotly-graph-div\" style=\"height:525px; width:100%;\"></div>            <script type=\"text/javascript\">                require([\"plotly\"], function(Plotly) {                    window.PLOTLYENV=window.PLOTLYENV || {};                                    if (document.getElementById(\"0b9eb0a5-ae6c-4cd7-9a79-1fe7bff82154\")) {                    Plotly.newPlot(                        \"0b9eb0a5-ae6c-4cd7-9a79-1fe7bff82154\",                        [{\"hovertemplate\":\"Log Population=%{x}<br>Log_NLU=%{y}<extra></extra>\",\"legendgroup\":\"\",\"line\":{\"color\":\"#636efa\",\"dash\":\"solid\"},\"marker\":{\"symbol\":\"circle\"},\"mode\":\"lines\",\"name\":\"\",\"orientation\":\"v\",\"showlegend\":false,\"x\":[16.56864253183486,16.579120150707134,16.589481636808753,16.599502082936773,16.609609394991846,16.619957197163437,16.63078477732429,16.6417039076522,16.652477261111983,16.663563773830635,16.67447712843171,16.68408548145438,16.694013099011457,16.704293443159354,16.715125410982797,16.728903722465585,16.746779240906665,16.765576622715134,16.783784786141037],\"xaxis\":\"x\",\"y\":[8.023096849604123,7.927544393820703,7.906584064102262,8.09443338851848,8.164029219652257,7.949405605100715,8.038915425718256,8.051194332362755,7.9354371059614675,7.862474102275637,7.905216697506895,7.8821148989776,8.11489306945123,8.107238018035208,7.872310322503804,8.063182589204478,8.109384338883604,7.907497057384498,7.966923096131596],\"yaxis\":\"y\",\"type\":\"scatter\"}],                        {\"template\":{\"data\":{\"histogram2dcontour\":[{\"type\":\"histogram2dcontour\",\"colorbar\":{\"outlinewidth\":0,\"ticks\":\"\"},\"colorscale\":[[0.0,\"#0d0887\"],[0.1111111111111111,\"#46039f\"],[0.2222222222222222,\"#7201a8\"],[0.3333333333333333,\"#9c179e\"],[0.4444444444444444,\"#bd3786\"],[0.5555555555555556,\"#d8576b\"],[0.6666666666666666,\"#ed7953\"],[0.7777777777777778,\"#fb9f3a\"],[0.8888888888888888,\"#fdca26\"],[1.0,\"#f0f921\"]]}],\"choropleth\":[{\"type\":\"choropleth\",\"colorbar\":{\"outlinewidth\":0,\"ticks\":\"\"}}],\"histogram2d\":[{\"type\":\"histogram2d\",\"colorbar\":{\"outlinewidth\":0,\"ticks\":\"\"},\"colorscale\":[[0.0,\"#0d0887\"],[0.1111111111111111,\"#46039f\"],[0.2222222222222222,\"#7201a8\"],[0.3333333333333333,\"#9c179e\"],[0.4444444444444444,\"#bd3786\"],[0.5555555555555556,\"#d8576b\"],[0.6666666666666666,\"#ed7953\"],[0.7777777777777778,\"#fb9f3a\"],[0.8888888888888888,\"#fdca26\"],[1.0,\"#f0f921\"]]}],\"heatmap\":[{\"type\":\"heatmap\",\"colorbar\":{\"outlinewidth\":0,\"ticks\":\"\"},\"colorscale\":[[0.0,\"#0d0887\"],[0.1111111111111111,\"#46039f\"],[0.2222222222222222,\"#7201a8\"],[0.3333333333333333,\"#9c179e\"],[0.4444444444444444,\"#bd3786\"],[0.5555555555555556,\"#d8576b\"],[0.6666666666666666,\"#ed7953\"],[0.7777777777777778,\"#fb9f3a\"],[0.8888888888888888,\"#fdca26\"],[1.0,\"#f0f921\"]]}],\"heatmapgl\":[{\"type\":\"heatmapgl\",\"colorbar\":{\"outlinewidth\":0,\"ticks\":\"\"},\"colorscale\":[[0.0,\"#0d0887\"],[0.1111111111111111,\"#46039f\"],[0.2222222222222222,\"#7201a8\"],[0.3333333333333333,\"#9c179e\"],[0.4444444444444444,\"#bd3786\"],[0.5555555555555556,\"#d8576b\"],[0.6666666666666666,\"#ed7953\"],[0.7777777777777778,\"#fb9f3a\"],[0.8888888888888888,\"#fdca26\"],[1.0,\"#f0f921\"]]}],\"contourcarpet\":[{\"type\":\"contourcarpet\",\"colorbar\":{\"outlinewidth\":0,\"ticks\":\"\"}}],\"contour\":[{\"type\":\"contour\",\"colorbar\":{\"outlinewidth\":0,\"ticks\":\"\"},\"colorscale\":[[0.0,\"#0d0887\"],[0.1111111111111111,\"#46039f\"],[0.2222222222222222,\"#7201a8\"],[0.3333333333333333,\"#9c179e\"],[0.4444444444444444,\"#bd3786\"],[0.5555555555555556,\"#d8576b\"],[0.6666666666666666,\"#ed7953\"],[0.7777777777777778,\"#fb9f3a\"],[0.8888888888888888,\"#fdca26\"],[1.0,\"#f0f921\"]]}],\"surface\":[{\"type\":\"surface\",\"colorbar\":{\"outlinewidth\":0,\"ticks\":\"\"},\"colorscale\":[[0.0,\"#0d0887\"],[0.1111111111111111,\"#46039f\"],[0.2222222222222222,\"#7201a8\"],[0.3333333333333333,\"#9c179e\"],[0.4444444444444444,\"#bd3786\"],[0.5555555555555556,\"#d8576b\"],[0.6666666666666666,\"#ed7953\"],[0.7777777777777778,\"#fb9f3a\"],[0.8888888888888888,\"#fdca26\"],[1.0,\"#f0f921\"]]}],\"mesh3d\":[{\"type\":\"mesh3d\",\"colorbar\":{\"outlinewidth\":0,\"ticks\":\"\"}}],\"scatter\":[{\"fillpattern\":{\"fillmode\":\"overlay\",\"size\":10,\"solidity\":0.2},\"type\":\"scatter\"}],\"parcoords\":[{\"type\":\"parcoords\",\"line\":{\"colorbar\":{\"outlinewidth\":0,\"ticks\":\"\"}}}],\"scatterpolargl\":[{\"type\":\"scatterpolargl\",\"marker\":{\"colorbar\":{\"outlinewidth\":0,\"ticks\":\"\"}}}],\"bar\":[{\"error_x\":{\"color\":\"#2a3f5f\"},\"error_y\":{\"color\":\"#2a3f5f\"},\"marker\":{\"line\":{\"color\":\"#E5ECF6\",\"width\":0.5},\"pattern\":{\"fillmode\":\"overlay\",\"size\":10,\"solidity\":0.2}},\"type\":\"bar\"}],\"scattergeo\":[{\"type\":\"scattergeo\",\"marker\":{\"colorbar\":{\"outlinewidth\":0,\"ticks\":\"\"}}}],\"scatterpolar\":[{\"type\":\"scatterpolar\",\"marker\":{\"colorbar\":{\"outlinewidth\":0,\"ticks\":\"\"}}}],\"histogram\":[{\"marker\":{\"pattern\":{\"fillmode\":\"overlay\",\"size\":10,\"solidity\":0.2}},\"type\":\"histogram\"}],\"scattergl\":[{\"type\":\"scattergl\",\"marker\":{\"colorbar\":{\"outlinewidth\":0,\"ticks\":\"\"}}}],\"scatter3d\":[{\"type\":\"scatter3d\",\"line\":{\"colorbar\":{\"outlinewidth\":0,\"ticks\":\"\"}},\"marker\":{\"colorbar\":{\"outlinewidth\":0,\"ticks\":\"\"}}}],\"scattermapbox\":[{\"type\":\"scattermapbox\",\"marker\":{\"colorbar\":{\"outlinewidth\":0,\"ticks\":\"\"}}}],\"scatterternary\":[{\"type\":\"scatterternary\",\"marker\":{\"colorbar\":{\"outlinewidth\":0,\"ticks\":\"\"}}}],\"scattercarpet\":[{\"type\":\"scattercarpet\",\"marker\":{\"colorbar\":{\"outlinewidth\":0,\"ticks\":\"\"}}}],\"carpet\":[{\"aaxis\":{\"endlinecolor\":\"#2a3f5f\",\"gridcolor\":\"white\",\"linecolor\":\"white\",\"minorgridcolor\":\"white\",\"startlinecolor\":\"#2a3f5f\"},\"baxis\":{\"endlinecolor\":\"#2a3f5f\",\"gridcolor\":\"white\",\"linecolor\":\"white\",\"minorgridcolor\":\"white\",\"startlinecolor\":\"#2a3f5f\"},\"type\":\"carpet\"}],\"table\":[{\"cells\":{\"fill\":{\"color\":\"#EBF0F8\"},\"line\":{\"color\":\"white\"}},\"header\":{\"fill\":{\"color\":\"#C8D4E3\"},\"line\":{\"color\":\"white\"}},\"type\":\"table\"}],\"barpolar\":[{\"marker\":{\"line\":{\"color\":\"#E5ECF6\",\"width\":0.5},\"pattern\":{\"fillmode\":\"overlay\",\"size\":10,\"solidity\":0.2}},\"type\":\"barpolar\"}],\"pie\":[{\"automargin\":true,\"type\":\"pie\"}]},\"layout\":{\"autotypenumbers\":\"strict\",\"colorway\":[\"#636efa\",\"#EF553B\",\"#00cc96\",\"#ab63fa\",\"#FFA15A\",\"#19d3f3\",\"#FF6692\",\"#B6E880\",\"#FF97FF\",\"#FECB52\"],\"font\":{\"color\":\"#2a3f5f\"},\"hovermode\":\"closest\",\"hoverlabel\":{\"align\":\"left\"},\"paper_bgcolor\":\"white\",\"plot_bgcolor\":\"#E5ECF6\",\"polar\":{\"bgcolor\":\"#E5ECF6\",\"angularaxis\":{\"gridcolor\":\"white\",\"linecolor\":\"white\",\"ticks\":\"\"},\"radialaxis\":{\"gridcolor\":\"white\",\"linecolor\":\"white\",\"ticks\":\"\"}},\"ternary\":{\"bgcolor\":\"#E5ECF6\",\"aaxis\":{\"gridcolor\":\"white\",\"linecolor\":\"white\",\"ticks\":\"\"},\"baxis\":{\"gridcolor\":\"white\",\"linecolor\":\"white\",\"ticks\":\"\"},\"caxis\":{\"gridcolor\":\"white\",\"linecolor\":\"white\",\"ticks\":\"\"}},\"coloraxis\":{\"colorbar\":{\"outlinewidth\":0,\"ticks\":\"\"}},\"colorscale\":{\"sequential\":[[0.0,\"#0d0887\"],[0.1111111111111111,\"#46039f\"],[0.2222222222222222,\"#7201a8\"],[0.3333333333333333,\"#9c179e\"],[0.4444444444444444,\"#bd3786\"],[0.5555555555555556,\"#d8576b\"],[0.6666666666666666,\"#ed7953\"],[0.7777777777777778,\"#fb9f3a\"],[0.8888888888888888,\"#fdca26\"],[1.0,\"#f0f921\"]],\"sequentialminus\":[[0.0,\"#0d0887\"],[0.1111111111111111,\"#46039f\"],[0.2222222222222222,\"#7201a8\"],[0.3333333333333333,\"#9c179e\"],[0.4444444444444444,\"#bd3786\"],[0.5555555555555556,\"#d8576b\"],[0.6666666666666666,\"#ed7953\"],[0.7777777777777778,\"#fb9f3a\"],[0.8888888888888888,\"#fdca26\"],[1.0,\"#f0f921\"]],\"diverging\":[[0,\"#8e0152\"],[0.1,\"#c51b7d\"],[0.2,\"#de77ae\"],[0.3,\"#f1b6da\"],[0.4,\"#fde0ef\"],[0.5,\"#f7f7f7\"],[0.6,\"#e6f5d0\"],[0.7,\"#b8e186\"],[0.8,\"#7fbc41\"],[0.9,\"#4d9221\"],[1,\"#276419\"]]},\"xaxis\":{\"gridcolor\":\"white\",\"linecolor\":\"white\",\"ticks\":\"\",\"title\":{\"standoff\":15},\"zerolinecolor\":\"white\",\"automargin\":true,\"zerolinewidth\":2},\"yaxis\":{\"gridcolor\":\"white\",\"linecolor\":\"white\",\"ticks\":\"\",\"title\":{\"standoff\":15},\"zerolinecolor\":\"white\",\"automargin\":true,\"zerolinewidth\":2},\"scene\":{\"xaxis\":{\"backgroundcolor\":\"#E5ECF6\",\"gridcolor\":\"white\",\"linecolor\":\"white\",\"showbackground\":true,\"ticks\":\"\",\"zerolinecolor\":\"white\",\"gridwidth\":2},\"yaxis\":{\"backgroundcolor\":\"#E5ECF6\",\"gridcolor\":\"white\",\"linecolor\":\"white\",\"showbackground\":true,\"ticks\":\"\",\"zerolinecolor\":\"white\",\"gridwidth\":2},\"zaxis\":{\"backgroundcolor\":\"#E5ECF6\",\"gridcolor\":\"white\",\"linecolor\":\"white\",\"showbackground\":true,\"ticks\":\"\",\"zerolinecolor\":\"white\",\"gridwidth\":2}},\"shapedefaults\":{\"line\":{\"color\":\"#2a3f5f\"}},\"annotationdefaults\":{\"arrowcolor\":\"#2a3f5f\",\"arrowhead\":0,\"arrowwidth\":1},\"geo\":{\"bgcolor\":\"white\",\"landcolor\":\"#E5ECF6\",\"subunitcolor\":\"white\",\"showland\":true,\"showlakes\":true,\"lakecolor\":\"white\"},\"title\":{\"x\":0.05},\"mapbox\":{\"style\":\"light\"}}},\"xaxis\":{\"anchor\":\"y\",\"domain\":[0.0,1.0],\"title\":{\"text\":\"Log Population\"}},\"yaxis\":{\"anchor\":\"x\",\"domain\":[0.0,1.0],\"title\":{\"text\":\"Log_NLU\"}},\"legend\":{\"tracegroupgap\":0},\"title\":{\"text\":\"Population and Water Use in Chile\"}},                        {\"responsive\": true}                    ).then(function(){\n",
       "                            \n",
       "var gd = document.getElementById('0b9eb0a5-ae6c-4cd7-9a79-1fe7bff82154');\n",
       "var x = new MutationObserver(function (mutations, observer) {{\n",
       "        var display = window.getComputedStyle(gd).display;\n",
       "        if (!display || display === 'none') {{\n",
       "            console.log([gd, 'removed!']);\n",
       "            Plotly.purge(gd);\n",
       "            observer.disconnect();\n",
       "        }}\n",
       "}});\n",
       "\n",
       "// Listen for the removal of the full notebook cells\n",
       "var notebookContainer = gd.closest('#notebook-container');\n",
       "if (notebookContainer) {{\n",
       "    x.observe(notebookContainer, {childList: true});\n",
       "}}\n",
       "\n",
       "// Listen for the clearing of the current output cell\n",
       "var outputEl = gd.closest('.output');\n",
       "if (outputEl) {{\n",
       "    x.observe(outputEl, {childList: true});\n",
       "}}\n",
       "\n",
       "                        })                };                });            </script>        </div>"
      ]
     },
     "metadata": {},
     "output_type": "display_data"
    }
   ],
   "source": [
    "\n",
    "import numpy as np\n",
    "NLU_pop['Log_Pop']=np.log(NLU_pop['Population'])\n",
    "NLU_pop['Log_NLU']=np.log(NLU_pop['NLU'])\n",
    "fig = px.line(NLU_pop, x=\"Log_Pop\", y=\"Log_NLU\", \n",
    "              title=\"Population and Water Use in Chile\", \n",
    "              labels={'Log_Pop':'Log Population', 'NLU':'Log Water use'}) \n",
    "\n",
    "fig.show()\n",
    "fig.write_image(r\"/mnt/home2/mari/Tesis/logpopul_logwater.png\")"
   ]
  },
  {
   "cell_type": "code",
   "execution_count": 209,
   "id": "138e8f66",
   "metadata": {},
   "outputs": [
    {
     "name": "stdout",
     "output_type": "stream",
     "text": [
      "Defaulting to user installation because normal site-packages is not writeable\n",
      "Collecting kaleido\n",
      "  Downloading kaleido-0.2.1-py2.py3-none-manylinux1_x86_64.whl (79.9 MB)\n",
      "\u001b[2K     \u001b[90m━━━━━━━━━━━━━━━━━━━━━━━━━━━━━━━━━━━━━━━━\u001b[0m \u001b[32m79.9/79.9 MB\u001b[0m \u001b[31m6.1 MB/s\u001b[0m eta \u001b[36m0:00:00\u001b[0m:00:01\u001b[0m00:01\u001b[0m\n",
      "\u001b[?25hInstalling collected packages: kaleido\n",
      "Successfully installed kaleido-0.2.1\n",
      "Note: you may need to restart the kernel to use updated packages.\n"
     ]
    }
   ],
   "source": [
    "pip install -U kaleido"
   ]
  },
  {
   "cell_type": "code",
   "execution_count": 26,
   "id": "6eb2dfc5",
   "metadata": {},
   "outputs": [],
   "source": [
    "fig.write_image(r\"/mnt/home2/mari/Tesis/popul_water.png\")"
   ]
  },
  {
   "cell_type": "code",
   "execution_count": 75,
   "id": "5eae2d52",
   "metadata": {},
   "outputs": [
    {
     "data": {
      "text/plain": [
       "<AxesSubplot:>"
      ]
     },
     "execution_count": 75,
     "metadata": {},
     "output_type": "execute_result"
    },
    {
     "data": {
      "image/png": "[encoded data removed]",
      "text/plain": [
       "<Figure size 432x288 with 1 Axes>"
      ]
     },
     "metadata": {
      "needs_background": "light"
     },
     "output_type": "display_data"
    }
   ],
   "source": [
    "pop_tot.plot()"
   ]
  },
  {
   "attachments": {},
   "cell_type": "markdown",
   "id": "987f10b6",
   "metadata": {},
   "source": [
    "### Regional Water Use"
   ]
  },
  {
   "cell_type": "code",
   "execution_count": 37,
   "id": "ecf34274",
   "metadata": {},
   "outputs": [
    {
     "data": {
      "application/vnd.plotly.v1+json": {
       "config": {
        "plotlyServerURL": "https://plot.ly"
       },
       "data": [
        {
         "alignmentgroup": "True",
         "hovertemplate": "variable=REGIÓN DE TARAPACÁ<br>Years=%{x}<br>Water use [m³/s]=%{y}<extra></extra>",
         "legendgroup": "REGIÓN DE TARAPACÁ",
         "marker": {
          "color": "#636efa",
          "pattern": {
           "shape": ""
          }
         },
         "name": "REGIÓN DE TARAPACÁ",
         "offsetgroup": "REGIÓN DE TARAPACÁ",
         "orientation": "v",
         "showlegend": true,
         "textposition": "auto",
         "type": "bar",
         "x": [
          1950,
          1951,
          1952,
          1953,
          1954,
          1955,
          1956,
          1957,
          1958,
          1959,
          1960,
          1961,
          1962,
          1963,
          1964,
          1965,
          1966,
          1967,
          1968,
          1969,
          1970,
          1971,
          1972,
          1973,
          1974,
          1975,
          1976,
          1977,
          1978,
          1979,
          1980,
          1981,
          1982,
          1983,
          1984,
          1985,
          1986,
          1987,
          1988,
          1989,
          1990,
          1991,
          1992,
          1993,
          1994,
          1995,
          1996,
          1997,
          1998,
          1999,
          2000,
          2001,
          2002,
          2003,
          2004,
          2005,
          2006,
          2007,
          2008,
          2009,
          2010,
          2011,
          2012,
          2013,
          2014,
          2015,
          2016,
          2017,
          2018,
          2019,
          2020
         ],
         "xaxis": "x",
         "y": [
          0.1748593,
          0.17269612,
          0.17094226,
          0.17481892,
          0.17884553,
          0.18333839,
          0.18712071,
          0.19133931,
          0.19545048,
          0.19937056,
          0.2070483,
          0.21099686,
          0.21512732,
          0.21884783,
          0.22235757,
          0.22605018,
          0.23020611,
          0.23361971,
          0.23728247,
          0.24181132,
          0.24592259,
          0.25717697,
          0.26907071,
          0.285247,
          0.29226436,
          0.29770512,
          0.30989948,
          0.32283969,
          0.33563648,
          0.35050595,
          0.36610617,
          0.37938021,
          0.38100628,
          0.39226349,
          0.40378109,
          0.79053648,
          0.86330654,
          0.74682744,
          0.67601079,
          0.74346924,
          0.7031222,
          0.70665664,
          0.65134593,
          0.60894571,
          0.68270616,
          0.73030751,
          0.76391233,
          0.86378397,
          1.03870437,
          2.46299152,
          2.50002965,
          2.27601301,
          2.26154537,
          2.12492557,
          2.27526997,
          2.29092795,
          2.92695891,
          3.19427331,
          3.2357957,
          3.42284865,
          3.48030742,
          3.41644786,
          2.93722658,
          3.34170342,
          3.47017972,
          3.57242949,
          3.17875707,
          3.21342409,
          2.87582069,
          3.490103,
          3.08998199
         ],
         "yaxis": "y"
        },
        {
         "alignmentgroup": "True",
         "hovertemplate": "variable=REGIÓN DE ANTOFAGASTA<br>Years=%{x}<br>Water use [m³/s]=%{y}<extra></extra>",
         "legendgroup": "REGIÓN DE ANTOFAGASTA",
         "marker": {
          "color": "#EF553B",
          "pattern": {
           "shape": ""
          }
         },
         "name": "REGIÓN DE ANTOFAGASTA",
         "offsetgroup": "REGIÓN DE ANTOFAGASTA",
         "orientation": "v",
         "showlegend": true,
         "textposition": "auto",
         "type": "bar",
         "x": [
          1950,
          1951,
          1952,
          1953,
          1954,
          1955,
          1956,
          1957,
          1958,
          1959,
          1960,
          1961,
          1962,
          1963,
          1964,
          1965,
          1966,
          1967,
          1968,
          1969,
          1970,
          1971,
          1972,
          1973,
          1974,
          1975,
          1976,
          1977,
          1978,
          1979,
          1980,
          1981,
          1982,
          1983,
          1984,
          1985,
          1986,
          1987,
          1988,
          1989,
          1990,
          1991,
          1992,
          1993,
          1994,
          1995,
          1996,
          1997,
          1998,
          1999,
          2000,
          2001,
          2002,
          2003,
          2004,
          2005,
          2006,
          2007,
          2008,
          2009,
          2010,
          2011,
          2012,
          2013,
          2014,
          2015,
          2016,
          2017,
          2018,
          2019,
          2020
         ],
         "xaxis": "x",
         "y": [
          0.6237457,
          0.64700972,
          0.67733327,
          0.65578573,
          0.66851107,
          0.72498835,
          0.77222877,
          0.77670275,
          0.77821013,
          0.78799406,
          0.90330607,
          0.96613734,
          1.04924165,
          1.07044578,
          1.11293997,
          1.07536291,
          1.17926715,
          1.16071427,
          1.20094863,
          1.2524364,
          1.27041408,
          1.3511282,
          1.35689677,
          1.63698087,
          1.80357914,
          1.35483776,
          1.66659198,
          1.80905695,
          1.9405645,
          2.09736895,
          2.30702385,
          2.44225783,
          2.27030704,
          2.22527642,
          2.30207811,
          2.26295542,
          2.17079498,
          2.27611882,
          2.81454958,
          3.11039568,
          3.21736518,
          3.79433003,
          4.24888473,
          4.45049043,
          4.99276365,
          5.54973062,
          5.92705072,
          6.573863,
          6.7402286,
          13.91744839,
          13.11459015,
          12.43156317,
          13.04496952,
          14.3056371,
          16.83241007,
          17.37034802,
          18.15161146,
          21.00781668,
          21.81171251,
          20.92962805,
          21.40518772,
          22.96459252,
          27.07258749,
          28.49305014,
          28.0286035,
          28.40194816,
          28.88934479,
          27.57832903,
          27.95094958,
          28.38053512,
          29.14181908
         ],
         "yaxis": "y"
        },
        {
         "alignmentgroup": "True",
         "hovertemplate": "variable=REGIÓN DE ATACAMA<br>Years=%{x}<br>Water use [m³/s]=%{y}<extra></extra>",
         "legendgroup": "REGIÓN DE ATACAMA",
         "marker": {
          "color": "#00cc96",
          "pattern": {
           "shape": ""
          }
         },
         "name": "REGIÓN DE ATACAMA",
         "offsetgroup": "REGIÓN DE ATACAMA",
         "orientation": "v",
         "showlegend": true,
         "textposition": "auto",
         "type": "bar",
         "x": [
          1950,
          1951,
          1952,
          1953,
          1954,
          1955,
          1956,
          1957,
          1958,
          1959,
          1960,
          1961,
          1962,
          1963,
          1964,
          1965,
          1966,
          1967,
          1968,
          1969,
          1970,
          1971,
          1972,
          1973,
          1974,
          1975,
          1976,
          1977,
          1978,
          1979,
          1980,
          1981,
          1982,
          1983,
          1984,
          1985,
          1986,
          1987,
          1988,
          1989,
          1990,
          1991,
          1992,
          1993,
          1994,
          1995,
          1996,
          1997,
          1998,
          1999,
          2000,
          2001,
          2002,
          2003,
          2004,
          2005,
          2006,
          2007,
          2008,
          2009,
          2010,
          2011,
          2012,
          2013,
          2014,
          2015,
          2016,
          2017,
          2018,
          2019,
          2020
         ],
         "xaxis": "x",
         "y": [
          0.29119865,
          0.29316952,
          0.29689879,
          0.303133,
          0.31596473,
          0.3371857,
          0.35693702,
          0.36767413,
          0.37852064,
          0.4816685,
          0.49870434,
          0.50293203,
          0.5280787,
          0.5567926,
          0.54722065,
          0.57560892,
          0.56843866,
          0.62272655,
          0.6424512,
          0.65762716,
          0.68343703,
          0.67290881,
          0.66995925,
          0.71935173,
          0.71947574,
          0.70724023,
          0.73576461,
          0.75435783,
          0.78477879,
          0.80812608,
          0.84012528,
          0.87922319,
          0.88709298,
          0.961142,
          0.96678247,
          1.09747465,
          1.13797623,
          1.16275545,
          1.28335076,
          1.45296658,
          1.72011105,
          1.75732376,
          1.99264557,
          2.22822919,
          2.28580338,
          2.83764979,
          4.47609362,
          4.81935161,
          5.41483804,
          5.32093805,
          4.76664317,
          4.80947447,
          4.80207135,
          5.07095853,
          5.14794979,
          4.9566962,
          5.55426299,
          5.70122986,
          5.6707248,
          6.33020218,
          7.47483852,
          7.89744162,
          7.63163431,
          8.69874691,
          8.59299666,
          8.18988879,
          10.8940275,
          12.7646893,
          12.39691875,
          10.69707519,
          9.64793845
         ],
         "yaxis": "y"
        },
        {
         "alignmentgroup": "True",
         "hovertemplate": "variable=REGIÓN DE COQUIMBO<br>Years=%{x}<br>Water use [m³/s]=%{y}<extra></extra>",
         "legendgroup": "REGIÓN DE COQUIMBO",
         "marker": {
          "color": "#ab63fa",
          "pattern": {
           "shape": ""
          }
         },
         "name": "REGIÓN DE COQUIMBO",
         "offsetgroup": "REGIÓN DE COQUIMBO",
         "orientation": "v",
         "showlegend": true,
         "textposition": "auto",
         "type": "bar",
         "x": [
          1950,
          1951,
          1952,
          1953,
          1954,
          1955,
          1956,
          1957,
          1958,
          1959,
          1960,
          1961,
          1962,
          1963,
          1964,
          1965,
          1966,
          1967,
          1968,
          1969,
          1970,
          1971,
          1972,
          1973,
          1974,
          1975,
          1976,
          1977,
          1978,
          1979,
          1980,
          1981,
          1982,
          1983,
          1984,
          1985,
          1986,
          1987,
          1988,
          1989,
          1990,
          1991,
          1992,
          1993,
          1994,
          1995,
          1996,
          1997,
          1998,
          1999,
          2000,
          2001,
          2002,
          2003,
          2004,
          2005,
          2006,
          2007,
          2008,
          2009,
          2010,
          2011,
          2012,
          2013,
          2014,
          2015,
          2016,
          2017,
          2018,
          2019,
          2020
         ],
         "xaxis": "x",
         "y": [
          1.00006674,
          1.00533675,
          1.01109856,
          1.63172261,
          1.64714642,
          1.66801416,
          1.68759543,
          1.70170414,
          1.71520067,
          1.72961021,
          1.75223418,
          1.76209106,
          1.77354947,
          1.79007279,
          1.79405035,
          1.81641993,
          1.81103923,
          2.55731306,
          2.56491914,
          2.58324732,
          2.58930984,
          2.60157172,
          2.61443237,
          2.66006249,
          2.66963343,
          2.67294207,
          2.70179434,
          2.72901845,
          2.74637345,
          2.79096388,
          2.81065347,
          2.85578792,
          2.82072525,
          2.88297176,
          2.87680447,
          3.40096074,
          3.39748823,
          3.33233964,
          3.46876085,
          3.45760198,
          3.57683878,
          3.47433629,
          3.54648041,
          3.4771514,
          3.58998605,
          3.81128988,
          3.63640384,
          3.87282451,
          4.34368742,
          3.97249096,
          4.8141758,
          4.63050849,
          4.68235345,
          4.71369107,
          4.27140223,
          4.51570965,
          4.79459286,
          4.76344338,
          11.50481376,
          13.25194772,
          9.78953222,
          8.16822429,
          5.49757492,
          5.22310171,
          5.48391727,
          6.11041771,
          9.9909104,
          15.0120376,
          10.83507331,
          9.33736311,
          7.94506639
         ],
         "yaxis": "y"
        },
        {
         "alignmentgroup": "True",
         "hovertemplate": "variable=REGIÓN DE VALPARAÍSO<br>Years=%{x}<br>Water use [m³/s]=%{y}<extra></extra>",
         "legendgroup": "REGIÓN DE VALPARAÍSO",
         "marker": {
          "color": "#FFA15A",
          "pattern": {
           "shape": ""
          }
         },
         "name": "REGIÓN DE VALPARAÍSO",
         "offsetgroup": "REGIÓN DE VALPARAÍSO",
         "orientation": "v",
         "showlegend": true,
         "textposition": "auto",
         "type": "bar",
         "x": [
          1950,
          1951,
          1952,
          1953,
          1954,
          1955,
          1956,
          1957,
          1958,
          1959,
          1960,
          1961,
          1962,
          1963,
          1964,
          1965,
          1966,
          1967,
          1968,
          1969,
          1970,
          1971,
          1972,
          1973,
          1974,
          1975,
          1976,
          1977,
          1978,
          1979,
          1980,
          1981,
          1982,
          1983,
          1984,
          1985,
          1986,
          1987,
          1988,
          1989,
          1990,
          1991,
          1992,
          1993,
          1994,
          1995,
          1996,
          1997,
          1998,
          1999,
          2000,
          2001,
          2002,
          2003,
          2004,
          2005,
          2006,
          2007,
          2008,
          2009,
          2010,
          2011,
          2012,
          2013,
          2014,
          2015,
          2016,
          2017,
          2018,
          2019,
          2020
         ],
         "xaxis": "x",
         "y": [
          31.01283628,
          31.03562858,
          31.05893295,
          31.10684367,
          31.15770474,
          31.2100248,
          31.26201453,
          31.31300302,
          31.36254903,
          31.41299135,
          31.48792983,
          31.5355647,
          31.58445021,
          31.63342376,
          31.67836834,
          31.97341365,
          32.96545917,
          33.40543064,
          30.41507466,
          28.91576872,
          29.96845056,
          31.87274762,
          35.19194055,
          34.81366249,
          31.58146323,
          31.72636792,
          32.34258784,
          33.38385337,
          35.31307129,
          35.91315499,
          37.12314513,
          37.92679809,
          34.74151287,
          36.22643698,
          37.05849045,
          39.77254454,
          34.8163189,
          36.28617934,
          37.15739613,
          36.27687719,
          35.62221542,
          38.06695605,
          36.7666782,
          38.16975199,
          38.37080653,
          49.4378331,
          34.53097012,
          41.93141292,
          42.79359963,
          41.38516641,
          45.917188,
          44.39405428,
          55.66948257,
          66.06440017,
          61.99037994,
          65.40749648,
          69.02406775,
          69.18460799,
          75.69186361,
          71.49360814,
          64.8757597,
          58.55948944,
          64.34007654,
          60.38805781,
          53.71362263,
          50.70470987,
          62.16703828,
          54.93615684,
          48.20823932,
          45.14165057,
          47.91913348
         ],
         "yaxis": "y"
        },
        {
         "alignmentgroup": "True",
         "hovertemplate": "variable=REGIÓN DEL LIBERTADOR GENERAL BERNARDO O'HIGGINS<br>Years=%{x}<br>Water use [m³/s]=%{y}<extra></extra>",
         "legendgroup": "REGIÓN DEL LIBERTADOR GENERAL BERNARDO O'HIGGINS",
         "marker": {
          "color": "#19d3f3",
          "pattern": {
           "shape": ""
          }
         },
         "name": "REGIÓN DEL LIBERTADOR GENERAL BERNARDO O'HIGGINS",
         "offsetgroup": "REGIÓN DEL LIBERTADOR GENERAL BERNARDO O'HIGGINS",
         "orientation": "v",
         "showlegend": true,
         "textposition": "auto",
         "type": "bar",
         "x": [
          1950,
          1951,
          1952,
          1953,
          1954,
          1955,
          1956,
          1957,
          1958,
          1959,
          1960,
          1961,
          1962,
          1963,
          1964,
          1965,
          1966,
          1967,
          1968,
          1969,
          1970,
          1971,
          1972,
          1973,
          1974,
          1975,
          1976,
          1977,
          1978,
          1979,
          1980,
          1981,
          1982,
          1983,
          1984,
          1985,
          1986,
          1987,
          1988,
          1989,
          1990,
          1991,
          1992,
          1993,
          1994,
          1995,
          1996,
          1997,
          1998,
          1999,
          2000,
          2001,
          2002,
          2003,
          2004,
          2005,
          2006,
          2007,
          2008,
          2009,
          2010,
          2011,
          2012,
          2013,
          2014,
          2015,
          2016,
          2017,
          2018,
          2019,
          2020
         ],
         "xaxis": "x",
         "y": [
          67.4108966,
          67.43020099,
          67.46565166,
          67.46420414,
          67.48850297,
          67.54739637,
          67.60046103,
          67.61731509,
          67.63327746,
          67.65554024,
          104.20027688,
          104.21303367,
          104.23440889,
          104.25199194,
          104.29889813,
          103.2134651,
          106.73987192,
          108.26091524,
          98.66092508,
          444.80505136,
          474.58408379,
          522.33418293,
          595.13557624,
          597.99116069,
          501.32728271,
          507.0984636,
          526.90691004,
          542.34863367,
          561.17103772,
          584.80245952,
          602.64778134,
          638.09442109,
          528.3454197,
          586.66964957,
          597.38889235,
          675.06373569,
          520.17735372,
          556.05069179,
          560.40198453,
          475.79451783,
          411.96358632,
          526.91540477,
          505.62271767,
          524.5088782,
          490.67272536,
          517.717321,
          258.80271381,
          678.24748871,
          313.00803119,
          355.49046718,
          581.79997809,
          647.61381135,
          729.93144683,
          503.56339429,
          439.91824312,
          670.16560931,
          683.55455071,
          327.14936989,
          543.50841209,
          423.36983822,
          312.1781554,
          251.62940359,
          403.23617436,
          320.08816818,
          361.24872621,
          408.26425112,
          481.86349821,
          431.33268754,
          298.14020203,
          193.57163467,
          302.41550303
         ],
         "yaxis": "y"
        },
        {
         "alignmentgroup": "True",
         "hovertemplate": "variable=REGIÓN DEL MAULE<br>Years=%{x}<br>Water use [m³/s]=%{y}<extra></extra>",
         "legendgroup": "REGIÓN DEL MAULE",
         "marker": {
          "color": "#FF6692",
          "pattern": {
           "shape": ""
          }
         },
         "name": "REGIÓN DEL MAULE",
         "offsetgroup": "REGIÓN DEL MAULE",
         "orientation": "v",
         "showlegend": true,
         "textposition": "auto",
         "type": "bar",
         "x": [
          1950,
          1951,
          1952,
          1953,
          1954,
          1955,
          1956,
          1957,
          1958,
          1959,
          1960,
          1961,
          1962,
          1963,
          1964,
          1965,
          1966,
          1967,
          1968,
          1969,
          1970,
          1971,
          1972,
          1973,
          1974,
          1975,
          1976,
          1977,
          1978,
          1979,
          1980,
          1981,
          1982,
          1983,
          1984,
          1985,
          1986,
          1987,
          1988,
          1989,
          1990,
          1991,
          1992,
          1993,
          1994,
          1995,
          1996,
          1997,
          1998,
          1999,
          2000,
          2001,
          2002,
          2003,
          2004,
          2005,
          2006,
          2007,
          2008,
          2009,
          2010,
          2011,
          2012,
          2013,
          2014,
          2015,
          2016,
          2017,
          2018,
          2019,
          2020
         ],
         "xaxis": "x",
         "y": [
          2.4480777,
          2.4574309,
          2.4689071,
          2.4949943,
          2.5701085,
          2.5967666,
          13.4926959,
          13.5196332,
          13.5453534,
          13.5721966,
          13.6478364,
          13.6399935,
          13.7703745,
          13.7099734,
          95.5922096,
          93.956737,
          98.9190165,
          101.0416239,
          85.382941,
          77.2581926,
          82.5115213,
          91.7692802,
          108.5346632,
          106.3293959,
          89.2260248,
          89.3802101,
          92.3845639,
          97.334729,
          101.1411557,
          103.8763309,
          109.6745116,
          113.6094894,
          96.8263537,
          104.3280923,
          108.0617192,
          120.9351293,
          489.7818543,
          535.59687,
          532.2296738,
          450.2161331,
          382.7091489,
          496.4784857,
          684.4314639,
          707.6169849,
          741.7579258,
          781.0495694,
          586.1645111,
          815.8638382,
          667.5994468,
          575.8825426,
          826.502558,
          1038.2782391,
          992.8176889,
          913.6629367,
          809.0925833,
          1036.0790749,
          1128.4139804,
          870.1970596,
          936.7619737,
          895.6999741,
          703.8051526,
          760.3119053,
          680.0214328,
          641.7118854,
          798.4090688,
          796.3458351,
          608.4687927,
          649.6566561,
          777.8580143,
          602.3626588,
          672.1561032
         ],
         "yaxis": "y"
        },
        {
         "alignmentgroup": "True",
         "hovertemplate": "variable=REGIÓN DEL BIOBÍO<br>Years=%{x}<br>Water use [m³/s]=%{y}<extra></extra>",
         "legendgroup": "REGIÓN DEL BIOBÍO",
         "marker": {
          "color": "#B6E880",
          "pattern": {
           "shape": ""
          }
         },
         "name": "REGIÓN DEL BIOBÍO",
         "offsetgroup": "REGIÓN DEL BIOBÍO",
         "orientation": "v",
         "showlegend": true,
         "textposition": "auto",
         "type": "bar",
         "x": [
          1950,
          1951,
          1952,
          1953,
          1954,
          1955,
          1956,
          1957,
          1958,
          1959,
          1960,
          1961,
          1962,
          1963,
          1964,
          1965,
          1966,
          1967,
          1968,
          1969,
          1970,
          1971,
          1972,
          1973,
          1974,
          1975,
          1976,
          1977,
          1978,
          1979,
          1980,
          1981,
          1982,
          1983,
          1984,
          1985,
          1986,
          1987,
          1988,
          1989,
          1990,
          1991,
          1992,
          1993,
          1994,
          1995,
          1996,
          1997,
          1998,
          1999,
          2000,
          2001,
          2002,
          2003,
          2004,
          2005,
          2006,
          2007,
          2008,
          2009,
          2010,
          2011,
          2012,
          2013,
          2014,
          2015,
          2016,
          2017,
          2018,
          2019,
          2020
         ],
         "xaxis": "x",
         "y": [
          37.8469187,
          37.8738606,
          37.9007103,
          37.9542378,
          38.0082534,
          38.0614629,
          38.1155624,
          38.1699819,
          38.2230914,
          38.2779099,
          38.6993315,
          38.7888481,
          38.9301231,
          38.9939844,
          39.073388,
          38.5026222,
          40.5533003,
          41.3952259,
          35.2321774,
          32.2038373,
          34.3812746,
          38.7685551,
          45.5244969,
          45.3057289,
          78.4414579,
          77.4639956,
          80.2927192,
          84.8696647,
          88.4042278,
          91.1378427,
          96.6890292,
          100.4950518,
          218.1902009,
          234.7403034,
          243.5795132,
          269.5380555,
          208.9506208,
          226.28747,
          222.4616823,
          188.7441849,
          162.0406536,
          212.7293319,
          206.1408059,
          212.444633,
          202.3923998,
          215.0806788,
          270.9077544,
          445.2613007,
          278.5599676,
          358.0721522,
          503.4040062,
          512.325593,
          596.5720212,
          579.1380538,
          628.2056001,
          822.8727292,
          892.879715,
          712.4769539,
          796.7533929,
          915.7851384,
          762.4376711,
          783.484012,
          666.9399904,
          644.3628801,
          1137.5588161,
          1148.0604212,
          670.353037,
          993.4215681,
          1115.1333306,
          1076.7064332,
          885.7770743
         ],
         "yaxis": "y"
        },
        {
         "alignmentgroup": "True",
         "hovertemplate": "variable=REGIÓN DE LA ARAUCANÍA<br>Years=%{x}<br>Water use [m³/s]=%{y}<extra></extra>",
         "legendgroup": "REGIÓN DE LA ARAUCANÍA",
         "marker": {
          "color": "#FF97FF",
          "pattern": {
           "shape": ""
          }
         },
         "name": "REGIÓN DE LA ARAUCANÍA",
         "offsetgroup": "REGIÓN DE LA ARAUCANÍA",
         "orientation": "v",
         "showlegend": true,
         "textposition": "auto",
         "type": "bar",
         "x": [
          1950,
          1951,
          1952,
          1953,
          1954,
          1955,
          1956,
          1957,
          1958,
          1959,
          1960,
          1961,
          1962,
          1963,
          1964,
          1965,
          1966,
          1967,
          1968,
          1969,
          1970,
          1971,
          1972,
          1973,
          1974,
          1975,
          1976,
          1977,
          1978,
          1979,
          1980,
          1981,
          1982,
          1983,
          1984,
          1985,
          1986,
          1987,
          1988,
          1989,
          1990,
          1991,
          1992,
          1993,
          1994,
          1995,
          1996,
          1997,
          1998,
          1999,
          2000,
          2001,
          2002,
          2003,
          2004,
          2005,
          2006,
          2007,
          2008,
          2009,
          2010,
          2011,
          2012,
          2013,
          2014,
          2015,
          2016,
          2017,
          2018,
          2019,
          2020
         ],
         "xaxis": "x",
         "y": [
          1.4425533,
          1.4458445,
          1.4483207,
          1.4646116,
          1.4805064,
          1.4962136,
          1.5121863,
          1.5282723,
          1.5446573,
          1.5606583,
          1.6116026,
          1.6293411,
          1.6506219,
          1.6661082,
          1.6815453,
          1.692936,
          1.713983,
          1.7287954,
          1.7481562,
          1.7722759,
          1.7942166,
          1.8303463,
          1.8595671,
          1.9495168,
          1.973206,
          1.8835822,
          1.9377054,
          1.9870753,
          2.0329329,
          2.0985699,
          2.1796394,
          2.2498227,
          2.169699,
          2.1805602,
          2.2142561,
          2.2161126,
          2.2244489,
          2.2749254,
          2.3274718,
          2.381594,
          2.435035,
          2.5056301,
          2.5924994,
          2.6521866,
          2.7322732,
          2.8881184,
          2.8808765,
          2.9221438,
          2.9190332,
          2.9181529,
          2.9989153,
          2.9520923,
          2.9343753,
          2.9708672,
          3.150833,
          3.1884093,
          3.296406,
          3.4406283,
          3.5744142,
          4.6160213,
          7.3289439,
          8.0842474,
          7.8317782,
          7.8904786,
          8.3917983,
          14.5243451,
          16.0267267,
          21.271139,
          21.3968743,
          20.0361352,
          16.1590029
         ],
         "yaxis": "y"
        },
        {
         "alignmentgroup": "True",
         "hovertemplate": "variable=REGIÓN DE LOS LAGOS<br>Years=%{x}<br>Water use [m³/s]=%{y}<extra></extra>",
         "legendgroup": "REGIÓN DE LOS LAGOS",
         "marker": {
          "color": "#FECB52",
          "pattern": {
           "shape": ""
          }
         },
         "name": "REGIÓN DE LOS LAGOS",
         "offsetgroup": "REGIÓN DE LOS LAGOS",
         "orientation": "v",
         "showlegend": true,
         "textposition": "auto",
         "type": "bar",
         "x": [
          1950,
          1951,
          1952,
          1953,
          1954,
          1955,
          1956,
          1957,
          1958,
          1959,
          1960,
          1961,
          1962,
          1963,
          1964,
          1965,
          1966,
          1967,
          1968,
          1969,
          1970,
          1971,
          1972,
          1973,
          1974,
          1975,
          1976,
          1977,
          1978,
          1979,
          1980,
          1981,
          1982,
          1983,
          1984,
          1985,
          1986,
          1987,
          1988,
          1989,
          1990,
          1991,
          1992,
          1993,
          1994,
          1995,
          1996,
          1997,
          1998,
          1999,
          2000,
          2001,
          2002,
          2003,
          2004,
          2005,
          2006,
          2007,
          2008,
          2009,
          2010,
          2011,
          2012,
          2013,
          2014,
          2015,
          2016,
          2017,
          2018,
          2019,
          2020
         ],
         "xaxis": "x",
         "y": [
          0.954397,
          0.966143,
          0.978049,
          0.995566,
          1.013157,
          1.031371,
          1.049685,
          1.06699,
          1.084693,
          1.102497,
          1.1492154,
          1.1708052,
          1.1965793,
          1.2166586,
          1.2370407,
          1.2551739,
          1.2788215,
          1.2980016,
          1.3199088,
          1.3469402,
          1.3716453,
          1.3993344,
          1.4227514,
          1.4952965,
          1.5130222,
          1.4405161,
          1.4831353,
          1.5273548,
          1.5701076,
          1.62752,
          1.6976519,
          1.7595631,
          1.6990404,
          1.7143199,
          1.7503154,
          1.7584079,
          1.7749283,
          1.8211656,
          1.8717637,
          1.9222909,
          1.9734924,
          495.4589218,
          517.4785367,
          525.1264343,
          386.3506334,
          414.7768095,
          405.4747507,
          373.1249989,
          521.4264977,
          223.3948554,
          336.0197112,
          343.3680494,
          354.8402052,
          393.7748751,
          459.4455952,
          358.8303642,
          388.5364496,
          547.4663808,
          401.105488,
          481.6761971,
          593.9354331,
          386.5434614,
          540.5670764,
          597.1980618,
          588.4312638,
          517.5948956,
          404.5408671,
          570.4855219,
          633.8626347,
          400.1772073,
          583.2115456
         ],
         "yaxis": "y"
        },
        {
         "alignmentgroup": "True",
         "hovertemplate": "variable=REGIÓN DE AYSÉN DEL GENERAL CARLOS IBÁÑEZ DEL CAMPO<br>Years=%{x}<br>Water use [m³/s]=%{y}<extra></extra>",
         "legendgroup": "REGIÓN DE AYSÉN DEL GENERAL CARLOS IBÁÑEZ DEL CAMPO",
         "marker": {
          "color": "#636efa",
          "pattern": {
           "shape": ""
          }
         },
         "name": "REGIÓN DE AYSÉN DEL GENERAL CARLOS IBÁÑEZ DEL CAMPO",
         "offsetgroup": "REGIÓN DE AYSÉN DEL GENERAL CARLOS IBÁÑEZ DEL CAMPO",
         "orientation": "v",
         "showlegend": true,
         "textposition": "auto",
         "type": "bar",
         "x": [
          1950,
          1951,
          1952,
          1953,
          1954,
          1955,
          1956,
          1957,
          1958,
          1959,
          1960,
          1961,
          1962,
          1963,
          1964,
          1965,
          1966,
          1967,
          1968,
          1969,
          1970,
          1971,
          1972,
          1973,
          1974,
          1975,
          1976,
          1977,
          1978,
          1979,
          1980,
          1981,
          1982,
          1983,
          1984,
          1985,
          1986,
          1987,
          1988,
          1989,
          1990,
          1991,
          1992,
          1993,
          1994,
          1995,
          1996,
          1997,
          1998,
          1999,
          2000,
          2001,
          2002,
          2003,
          2004,
          2005,
          2006,
          2007,
          2008,
          2009,
          2010,
          2011,
          2012,
          2013,
          2014,
          2015,
          2016,
          2017,
          2018,
          2019,
          2020
         ],
         "xaxis": "x",
         "y": [
          0.1236738,
          0.1267884,
          0.1292073,
          0.1332337,
          0.1371689,
          0.1417039,
          0.1456312,
          0.1500606,
          0.1541898,
          0.1583172,
          0.1649809,
          0.1687092,
          0.1731563,
          0.1773842,
          0.1816021,
          0.1851619,
          0.1904375,
          0.1955963,
          0.2006224,
          0.2057634,
          0.2111267,
          0.2169661,
          0.223164,
          0.2325562,
          0.2373658,
          0.2349857,
          0.2424853,
          0.2463064,
          0.2504572,
          0.2553647,
          0.2614582,
          0.2665375,
          0.2621626,
          0.2628542,
          0.2655628,
          0.2759326,
          0.2707488,
          0.2791376,
          0.2821497,
          0.2864275,
          0.2935748,
          0.3011021,
          0.3077948,
          0.3401082,
          0.3466637,
          0.3565456,
          0.390815,
          0.4021658,
          0.3858219,
          0.3936503,
          0.3819048,
          0.3653438,
          0.4382663,
          0.4730561,
          0.5144797,
          0.5549695,
          0.5213158,
          0.5276167,
          14.4209763,
          15.4689636,
          15.420914,
          15.3508403,
          14.7321116,
          13.6352365,
          14.549809,
          12.1987029,
          8.8601596,
          15.6403525,
          15.3751447,
          3.7209625,
          0.458186
         ],
         "yaxis": "y"
        },
        {
         "alignmentgroup": "True",
         "hovertemplate": "variable=REGIÓN DE MAGALLANES Y DE LA ANTÁRTICA CHILENA<br>Years=%{x}<br>Water use [m³/s]=%{y}<extra></extra>",
         "legendgroup": "REGIÓN DE MAGALLANES Y DE LA ANTÁRTICA CHILENA",
         "marker": {
          "color": "#EF553B",
          "pattern": {
           "shape": ""
          }
         },
         "name": "REGIÓN DE MAGALLANES Y DE LA ANTÁRTICA CHILENA",
         "offsetgroup": "REGIÓN DE MAGALLANES Y DE LA ANTÁRTICA CHILENA",
         "orientation": "v",
         "showlegend": true,
         "textposition": "auto",
         "type": "bar",
         "x": [
          1950,
          1951,
          1952,
          1953,
          1954,
          1955,
          1956,
          1957,
          1958,
          1959,
          1960,
          1961,
          1962,
          1963,
          1964,
          1965,
          1966,
          1967,
          1968,
          1969,
          1970,
          1971,
          1972,
          1973,
          1974,
          1975,
          1976,
          1977,
          1978,
          1979,
          1980,
          1981,
          1982,
          1983,
          1984,
          1985,
          1986,
          1987,
          1988,
          1989,
          1990,
          1991,
          1992,
          1993,
          1994,
          1995,
          1996,
          1997,
          1998,
          1999,
          2000,
          2001,
          2002,
          2003,
          2004,
          2005,
          2006,
          2007,
          2008,
          2009,
          2010,
          2011,
          2012,
          2013,
          2014,
          2015,
          2016,
          2017,
          2018,
          2019,
          2020
         ],
         "xaxis": "x",
         "y": [
          0.2499116,
          0.2526642,
          0.2552128,
          0.2622933,
          0.2697007,
          0.2765891,
          0.2839935,
          0.2912878,
          0.2981892,
          0.3055827,
          0.3202106,
          0.3271963,
          0.3348666,
          0.341179,
          0.3472018,
          0.3526363,
          0.3608894,
          0.3681403,
          0.3758024,
          0.3846574,
          0.3934058,
          0.4080302,
          0.4215379,
          0.4471324,
          0.4585032,
          0.4482826,
          0.4656981,
          0.4800735,
          0.4930562,
          0.5104878,
          0.5308146,
          0.5482901,
          0.5358457,
          0.534356,
          0.5386178,
          0.5353446,
          0.5345929,
          0.5443353,
          0.5575007,
          0.5662066,
          0.5754443,
          0.5883109,
          0.6008783,
          0.6065448,
          0.6198042,
          0.6467594,
          0.6432808,
          0.6521813,
          0.6978729,
          0.6968727,
          0.6970573,
          0.709015,
          0.7101321,
          0.7167798,
          0.7270537,
          0.7600111,
          0.7998319,
          0.7962168,
          0.8281494,
          0.8600586,
          0.8927069,
          0.9388889,
          0.9475766,
          0.941591,
          0.9636218,
          0.9324404,
          0.9976534,
          1.0675702,
          1.069993,
          1.0258585,
          0.9054904
         ],
         "yaxis": "y"
        },
        {
         "alignmentgroup": "True",
         "hovertemplate": "variable=REGIÓN METROPOLITANA DE SANTIAGO<br>Years=%{x}<br>Water use [m³/s]=%{y}<extra></extra>",
         "legendgroup": "REGIÓN METROPOLITANA DE SANTIAGO",
         "marker": {
          "color": "#00cc96",
          "pattern": {
           "shape": ""
          }
         },
         "name": "REGIÓN METROPOLITANA DE SANTIAGO",
         "offsetgroup": "REGIÓN METROPOLITANA DE SANTIAGO",
         "orientation": "v",
         "showlegend": true,
         "textposition": "auto",
         "type": "bar",
         "x": [
          1950,
          1951,
          1952,
          1953,
          1954,
          1955,
          1956,
          1957,
          1958,
          1959,
          1960,
          1961,
          1962,
          1963,
          1964,
          1965,
          1966,
          1967,
          1968,
          1969,
          1970,
          1971,
          1972,
          1973,
          1974,
          1975,
          1976,
          1977,
          1978,
          1979,
          1980,
          1981,
          1982,
          1983,
          1984,
          1985,
          1986,
          1987,
          1988,
          1989,
          1990,
          1991,
          1992,
          1993,
          1994,
          1995,
          1996,
          1997,
          1998,
          1999,
          2000,
          2001,
          2002,
          2003,
          2004,
          2005,
          2006,
          2007,
          2008,
          2009,
          2010,
          2011,
          2012,
          2013,
          2014,
          2015,
          2016,
          2017,
          2018,
          2019,
          2020
         ],
         "xaxis": "x",
         "y": [
          95.80738038,
          95.93176438,
          96.05752265,
          96.31989444,
          96.581654,
          96.84524684,
          97.10753585,
          97.37021329,
          97.63213451,
          97.89374625,
          98.3288497,
          98.60306086,
          98.89026813,
          102.54095338,
          102.79989719,
          101.76016697,
          106.16047479,
          108.21842078,
          95.19554412,
          88.7488871,
          93.38312912,
          101.46950578,
          115.99250688,
          114.48107972,
          100.37694196,
          100.65358851,
          103.49037886,
          108.09712762,
          111.69543251,
          114.42318848,
          119.75042522,
          123.37237952,
          109.46509482,
          115.8434999,
          119.30354176,
          129.16369952,
          107.28970973,
          114.19294622,
          112.93658613,
          100.71122181,
          91.02609775,
          110.10520047,
          126.18947011,
          129.19918169,
          126.62004612,
          132.53446415,
          77.82327088,
          78.29566016,
          99.70715177,
          98.3821006,
          108.96085057,
          116.35227464,
          117.7235049,
          112.22609665,
          110.78811995,
          116.62877867,
          125.74454375,
          121.3324238,
          122.07626764,
          118.76245402,
          124.59302218,
          133.34587755,
          133.99151483,
          145.01790191,
          164.12220771,
          165.37795792,
          198.0220007,
          185.72811393,
          157.78794593,
          141.30277299,
          134.60076232
         ],
         "yaxis": "y"
        },
        {
         "alignmentgroup": "True",
         "hovertemplate": "variable=REGIÓN DE LOS RÍOS<br>Years=%{x}<br>Water use [m³/s]=%{y}<extra></extra>",
         "legendgroup": "REGIÓN DE LOS RÍOS",
         "marker": {
          "color": "#ab63fa",
          "pattern": {
           "shape": ""
          }
         },
         "name": "REGIÓN DE LOS RÍOS",
         "offsetgroup": "REGIÓN DE LOS RÍOS",
         "orientation": "v",
         "showlegend": true,
         "textposition": "auto",
         "type": "bar",
         "x": [
          1950,
          1951,
          1952,
          1953,
          1954,
          1955,
          1956,
          1957,
          1958,
          1959,
          1960,
          1961,
          1962,
          1963,
          1964,
          1965,
          1966,
          1967,
          1968,
          1969,
          1970,
          1971,
          1972,
          1973,
          1974,
          1975,
          1976,
          1977,
          1978,
          1979,
          1980,
          1981,
          1982,
          1983,
          1984,
          1985,
          1986,
          1987,
          1988,
          1989,
          1990,
          1991,
          1992,
          1993,
          1994,
          1995,
          1996,
          1997,
          1998,
          1999,
          2000,
          2001,
          2002,
          2003,
          2004,
          2005,
          2006,
          2007,
          2008,
          2009,
          2010,
          2011,
          2012,
          2013,
          2014,
          2015,
          2016,
          2017,
          2018,
          2019,
          2020
         ],
         "xaxis": "x",
         "y": [
          131.7289495,
          131.7381782,
          131.7477258,
          131.7574819,
          131.7678581,
          131.7778404,
          131.7879945,
          131.7981777,
          131.8084429,
          131.818214,
          131.8633916,
          131.8744196,
          131.8905491,
          207.3899035,
          207.4006275,
          203.9863859,
          214.9997401,
          219.4774627,
          184.0389646,
          166.0549864,
          177.6900852,
          198.3207636,
          236.143294,
          230.6788254,
          192.5137462,
          193.132559,
          199.5223091,
          210.7000096,
          219.2247995,
          225.1974918,
          237.9981292,
          246.460564,
          209.5591899,
          225.9040617,
          234.3990079,
          259.9938124,
          200.7886508,
          217.5820252,
          213.1534633,
          179.1727305,
          152.1751024,
          201.9638685,
          195.178081,
          200.7430954,
          190.0299398,
          200.9028723,
          130.3657075,
          180.6487384,
          102.8404813,
          122.9051693,
          161.5294973,
          160.8650044,
          170.0943497,
          169.72889,
          167.9627837,
          167.6533881,
          182.6176217,
          141.3207439,
          156.9037517,
          161.1004296,
          161.9657908,
          151.785309,
          150.1131588,
          166.5454721,
          164.3644806,
          151.795945,
          106.9196558,
          172.2923885,
          179.3734623,
          162.8019095,
          174.0364378
         ],
         "yaxis": "y"
        },
        {
         "alignmentgroup": "True",
         "hovertemplate": "variable=REGIÓN DE ARICA Y PARINACOTA<br>Years=%{x}<br>Water use [m³/s]=%{y}<extra></extra>",
         "legendgroup": "REGIÓN DE ARICA Y PARINACOTA",
         "marker": {
          "color": "#FFA15A",
          "pattern": {
           "shape": ""
          }
         },
         "name": "REGIÓN DE ARICA Y PARINACOTA",
         "offsetgroup": "REGIÓN DE ARICA Y PARINACOTA",
         "orientation": "v",
         "showlegend": true,
         "textposition": "auto",
         "type": "bar",
         "x": [
          1950,
          1951,
          1952,
          1953,
          1954,
          1955,
          1956,
          1957,
          1958,
          1959,
          1960,
          1961,
          1962,
          1963,
          1964,
          1965,
          1966,
          1967,
          1968,
          1969,
          1970,
          1971,
          1972,
          1973,
          1974,
          1975,
          1976,
          1977,
          1978,
          1979,
          1980,
          1981,
          1982,
          1983,
          1984,
          1985,
          1986,
          1987,
          1988,
          1989,
          1990,
          1991,
          1992,
          1993,
          1994,
          1995,
          1996,
          1997,
          1998,
          1999,
          2000,
          2001,
          2002,
          2003,
          2004,
          2005,
          2006,
          2007,
          2008,
          2009,
          2010,
          2011,
          2012,
          2013,
          2014,
          2015,
          2016,
          2017,
          2018,
          2019,
          2020
         ],
         "xaxis": "x",
         "y": [
          0.1553922,
          0.1577271,
          0.1602669,
          0.1668987,
          0.1736256,
          0.1800724,
          0.1867343,
          0.1930941,
          0.199958,
          0.2066187,
          0.2155706,
          0.2251832,
          0.2351184,
          0.2447921,
          0.2544726,
          0.2637241,
          0.2736335,
          0.2828373,
          0.7323956,
          0.7423632,
          0.7519603,
          0.7635304,
          0.7749934,
          0.7890266,
          0.7977695,
          0.8046305,
          0.8165465,
          0.8291586,
          0.8418457,
          0.8557915,
          0.8697998,
          0.8802294,
          0.8864626,
          0.893283,
          0.8941617,
          0.8996095,
          0.9063314,
          0.9169667,
          0.9246392,
          0.9392423,
          0.94836336,
          0.95279137,
          0.9713011,
          0.96726873,
          0.97144,
          0.99567533,
          0.55218272,
          0.55979144,
          0.57528588,
          1.22570849,
          1.19480142,
          1.32425989,
          1.36621837,
          1.3293775,
          1.34888664,
          1.26778298,
          1.41306899,
          1.41544076,
          1.4259551,
          1.34012204,
          1.29843774,
          1.27736118,
          1.39643498,
          1.35801396,
          1.40222959,
          1.38452045,
          1.26580931,
          1.28601052,
          1.39968828,
          1.29555574,
          1.33817426
         ],
         "yaxis": "y"
        },
        {
         "alignmentgroup": "True",
         "hovertemplate": "variable=REGIÓN DE ÑUBLE<br>Years=%{x}<br>Water use [m³/s]=%{y}<extra></extra>",
         "legendgroup": "REGIÓN DE ÑUBLE",
         "marker": {
          "color": "#19d3f3",
          "pattern": {
           "shape": ""
          }
         },
         "name": "REGIÓN DE ÑUBLE",
         "offsetgroup": "REGIÓN DE ÑUBLE",
         "orientation": "v",
         "showlegend": true,
         "textposition": "auto",
         "type": "bar",
         "x": [
          1950,
          1951,
          1952,
          1953,
          1954,
          1955,
          1956,
          1957,
          1958,
          1959,
          1960,
          1961,
          1962,
          1963,
          1964,
          1965,
          1966,
          1967,
          1968,
          1969,
          1970,
          1971,
          1972,
          1973,
          1974,
          1975,
          1976,
          1977,
          1978,
          1979,
          1980,
          1981,
          1982,
          1983,
          1984,
          1985,
          1986,
          1987,
          1988,
          1989,
          1990,
          1991,
          1992,
          1993,
          1994,
          1995,
          1996,
          1997,
          1998,
          1999,
          2000,
          2001,
          2002,
          2003,
          2004,
          2005,
          2006,
          2007,
          2008,
          2009,
          2010,
          2011,
          2012,
          2013,
          2014,
          2015,
          2016,
          2017,
          2018,
          2019,
          2020
         ],
         "xaxis": "x",
         "y": [
          0.7126579,
          0.7159201,
          0.7188723,
          0.7286408,
          0.7388183,
          0.7490819,
          0.7597515,
          0.769223,
          0.7796985,
          0.7901651,
          0.9034629,
          0.9249416,
          0.9623266,
          0.9771677,
          0.995865,
          1.0010415,
          1.0306806,
          1.0436089,
          1.0695095,
          1.1076989,
          1.1422777,
          1.1910501,
          1.2163489,
          1.4317446,
          1.4690736,
          1.114582,
          1.2246924,
          1.3111894,
          1.3890066,
          1.5176199,
          1.7058534,
          1.8676878,
          1.5676569,
          1.5292923,
          1.5774579,
          1.5055127,
          1.4613494,
          1.5380681,
          1.6386381,
          1.7328164,
          1.8341213,
          1.9816495,
          2.1810513,
          2.2860163,
          2.4565642,
          2.8560704,
          2.909916,
          3.0067741,
          2.793692,
          2.625286,
          2.6041619,
          2.4995514,
          2.726305,
          2.7457754,
          3.4236081,
          3.6379052,
          4.0852892,
          3.9164809,
          3.9758077,
          3.4278222,
          3.6948312,
          4.1804166,
          4.1357386,
          4.5770509,
          5.1669419,
          4.9454961,
          11.1793399,
          19.6926188,
          21.8637223,
          17.5309563,
          15.1670676
         ],
         "yaxis": "y"
        }
       ],
       "layout": {
        "barmode": "stack",
        "legend": {
         "title": {
          "text": "Regions"
         },
         "tracegroupgap": 0
        },
        "template": {
         "data": {
          "bar": [
           {
            "error_x": {
             "color": "#2a3f5f"
            },
            "error_y": {
             "color": "#2a3f5f"
            },
            "marker": {
             "line": {
              "color": "#E5ECF6",
              "width": 0.5
             },
             "pattern": {
              "fillmode": "overlay",
              "size": 10,
              "solidity": 0.2
             }
            },
            "type": "bar"
           }
          ],
          "barpolar": [
           {
            "marker": {
             "line": {
              "color": "#E5ECF6",
              "width": 0.5
             },
             "pattern": {
              "fillmode": "overlay",
              "size": 10,
              "solidity": 0.2
             }
            },
            "type": "barpolar"
           }
          ],
          "carpet": [
           {
            "aaxis": {
             "endlinecolor": "#2a3f5f",
             "gridcolor": "white",
             "linecolor": "white",
             "minorgridcolor": "white",
             "startlinecolor": "#2a3f5f"
            },
            "baxis": {
             "endlinecolor": "#2a3f5f",
             "gridcolor": "white",
             "linecolor": "white",
             "minorgridcolor": "white",
             "startlinecolor": "#2a3f5f"
            },
            "type": "carpet"
           }
          ],
          "choropleth": [
           {
            "colorbar": {
             "outlinewidth": 0,
             "ticks": ""
            },
            "type": "choropleth"
           }
          ],
          "contour": [
           {
            "colorbar": {
             "outlinewidth": 0,
             "ticks": ""
            },
            "colorscale": [
             [
              0,
              "#0d0887"
             ],
             [
              0.1111111111111111,
              "#46039f"
             ],
             [
              0.2222222222222222,
              "#7201a8"
             ],
             [
              0.3333333333333333,
              "#9c179e"
             ],
             [
              0.4444444444444444,
              "#bd3786"
             ],
             [
              0.5555555555555556,
              "#d8576b"
             ],
             [
              0.6666666666666666,
              "#ed7953"
             ],
             [
              0.7777777777777778,
              "#fb9f3a"
             ],
             [
              0.8888888888888888,
              "#fdca26"
             ],
             [
              1,
              "#f0f921"
             ]
            ],
            "type": "contour"
           }
          ],
          "contourcarpet": [
           {
            "colorbar": {
             "outlinewidth": 0,
             "ticks": ""
            },
            "type": "contourcarpet"
           }
          ],
          "heatmap": [
           {
            "colorbar": {
             "outlinewidth": 0,
             "ticks": ""
            },
            "colorscale": [
             [
              0,
              "#0d0887"
             ],
             [
              0.1111111111111111,
              "#46039f"
             ],
             [
              0.2222222222222222,
              "#7201a8"
             ],
             [
              0.3333333333333333,
              "#9c179e"
             ],
             [
              0.4444444444444444,
              "#bd3786"
             ],
             [
              0.5555555555555556,
              "#d8576b"
             ],
             [
              0.6666666666666666,
              "#ed7953"
             ],
             [
              0.7777777777777778,
              "#fb9f3a"
             ],
             [
              0.8888888888888888,
              "#fdca26"
             ],
             [
              1,
              "#f0f921"
             ]
            ],
            "type": "heatmap"
           }
          ],
          "heatmapgl": [
           {
            "colorbar": {
             "outlinewidth": 0,
             "ticks": ""
            },
            "colorscale": [
             [
              0,
              "#0d0887"
             ],
             [
              0.1111111111111111,
              "#46039f"
             ],
             [
              0.2222222222222222,
              "#7201a8"
             ],
             [
              0.3333333333333333,
              "#9c179e"
             ],
             [
              0.4444444444444444,
              "#bd3786"
             ],
             [
              0.5555555555555556,
              "#d8576b"
             ],
             [
              0.6666666666666666,
              "#ed7953"
             ],
             [
              0.7777777777777778,
              "#fb9f3a"
             ],
             [
              0.8888888888888888,
              "#fdca26"
             ],
             [
              1,
              "#f0f921"
             ]
            ],
            "type": "heatmapgl"
           }
          ],
          "histogram": [
           {
            "marker": {
             "pattern": {
              "fillmode": "overlay",
              "size": 10,
              "solidity": 0.2
             }
            },
            "type": "histogram"
           }
          ],
          "histogram2d": [
           {
            "colorbar": {
             "outlinewidth": 0,
             "ticks": ""
            },
            "colorscale": [
             [
              0,
              "#0d0887"
             ],
             [
              0.1111111111111111,
              "#46039f"
             ],
             [
              0.2222222222222222,
              "#7201a8"
             ],
             [
              0.3333333333333333,
              "#9c179e"
             ],
             [
              0.4444444444444444,
              "#bd3786"
             ],
             [
              0.5555555555555556,
              "#d8576b"
             ],
             [
              0.6666666666666666,
              "#ed7953"
             ],
             [
              0.7777777777777778,
              "#fb9f3a"
             ],
             [
              0.8888888888888888,
              "#fdca26"
             ],
             [
              1,
              "#f0f921"
             ]
            ],
            "type": "histogram2d"
           }
          ],
          "histogram2dcontour": [
           {
            "colorbar": {
             "outlinewidth": 0,
             "ticks": ""
            },
            "colorscale": [
             [
              0,
              "#0d0887"
             ],
             [
              0.1111111111111111,
              "#46039f"
             ],
             [
              0.2222222222222222,
              "#7201a8"
             ],
             [
              0.3333333333333333,
              "#9c179e"
             ],
             [
              0.4444444444444444,
              "#bd3786"
             ],
             [
              0.5555555555555556,
              "#d8576b"
             ],
             [
              0.6666666666666666,
              "#ed7953"
             ],
             [
              0.7777777777777778,
              "#fb9f3a"
             ],
             [
              0.8888888888888888,
              "#fdca26"
             ],
             [
              1,
              "#f0f921"
             ]
            ],
            "type": "histogram2dcontour"
           }
          ],
          "mesh3d": [
           {
            "colorbar": {
             "outlinewidth": 0,
             "ticks": ""
            },
            "type": "mesh3d"
           }
          ],
          "parcoords": [
           {
            "line": {
             "colorbar": {
              "outlinewidth": 0,
              "ticks": ""
             }
            },
            "type": "parcoords"
           }
          ],
          "pie": [
           {
            "automargin": true,
            "type": "pie"
           }
          ],
          "scatter": [
           {
            "fillpattern": {
             "fillmode": "overlay",
             "size": 10,
             "solidity": 0.2
            },
            "type": "scatter"
           }
          ],
          "scatter3d": [
           {
            "line": {
             "colorbar": {
              "outlinewidth": 0,
              "ticks": ""
             }
            },
            "marker": {
             "colorbar": {
              "outlinewidth": 0,
              "ticks": ""
             }
            },
            "type": "scatter3d"
           }
          ],
          "scattercarpet": [
           {
            "marker": {
             "colorbar": {
              "outlinewidth": 0,
              "ticks": ""
             }
            },
            "type": "scattercarpet"
           }
          ],
          "scattergeo": [
           {
            "marker": {
             "colorbar": {
              "outlinewidth": 0,
              "ticks": ""
             }
            },
            "type": "scattergeo"
           }
          ],
          "scattergl": [
           {
            "marker": {
             "colorbar": {
              "outlinewidth": 0,
              "ticks": ""
             }
            },
            "type": "scattergl"
           }
          ],
          "scattermapbox": [
           {
            "marker": {
             "colorbar": {
              "outlinewidth": 0,
              "ticks": ""
             }
            },
            "type": "scattermapbox"
           }
          ],
          "scatterpolar": [
           {
            "marker": {
             "colorbar": {
              "outlinewidth": 0,
              "ticks": ""
             }
            },
            "type": "scatterpolar"
           }
          ],
          "scatterpolargl": [
           {
            "marker": {
             "colorbar": {
              "outlinewidth": 0,
              "ticks": ""
             }
            },
            "type": "scatterpolargl"
           }
          ],
          "scatterternary": [
           {
            "marker": {
             "colorbar": {
              "outlinewidth": 0,
              "ticks": ""
             }
            },
            "type": "scatterternary"
           }
          ],
          "surface": [
           {
            "colorbar": {
             "outlinewidth": 0,
             "ticks": ""
            },
            "colorscale": [
             [
              0,
              "#0d0887"
             ],
             [
              0.1111111111111111,
              "#46039f"
             ],
             [
              0.2222222222222222,
              "#7201a8"
             ],
             [
              0.3333333333333333,
              "#9c179e"
             ],
             [
              0.4444444444444444,
              "#bd3786"
             ],
             [
              0.5555555555555556,
              "#d8576b"
             ],
             [
              0.6666666666666666,
              "#ed7953"
             ],
             [
              0.7777777777777778,
              "#fb9f3a"
             ],
             [
              0.8888888888888888,
              "#fdca26"
             ],
             [
              1,
              "#f0f921"
             ]
            ],
            "type": "surface"
           }
          ],
          "table": [
           {
            "cells": {
             "fill": {
              "color": "#EBF0F8"
             },
             "line": {
              "color": "white"
             }
            },
            "header": {
             "fill": {
              "color": "#C8D4E3"
             },
             "line": {
              "color": "white"
             }
            },
            "type": "table"
           }
          ]
         },
         "layout": {
          "annotationdefaults": {
           "arrowcolor": "#2a3f5f",
           "arrowhead": 0,
           "arrowwidth": 1
          },
          "autotypenumbers": "strict",
          "coloraxis": {
           "colorbar": {
            "outlinewidth": 0,
            "ticks": ""
           }
          },
          "colorscale": {
           "diverging": [
            [
             0,
             "#8e0152"
            ],
            [
             0.1,
             "#c51b7d"
            ],
            [
             0.2,
             "#de77ae"
            ],
            [
             0.3,
             "#f1b6da"
            ],
            [
             0.4,
             "#fde0ef"
            ],
            [
             0.5,
             "#f7f7f7"
            ],
            [
             0.6,
             "#e6f5d0"
            ],
            [
             0.7,
             "#b8e186"
            ],
            [
             0.8,
             "#7fbc41"
            ],
            [
             0.9,
             "#4d9221"
            ],
            [
             1,
             "#276419"
            ]
           ],
           "sequential": [
            [
             0,
             "#0d0887"
            ],
            [
             0.1111111111111111,
             "#46039f"
            ],
            [
             0.2222222222222222,
             "#7201a8"
            ],
            [
             0.3333333333333333,
             "#9c179e"
            ],
            [
             0.4444444444444444,
             "#bd3786"
            ],
            [
             0.5555555555555556,
             "#d8576b"
            ],
            [
             0.6666666666666666,
             "#ed7953"
            ],
            [
             0.7777777777777778,
             "#fb9f3a"
            ],
            [
             0.8888888888888888,
             "#fdca26"
            ],
            [
             1,
             "#f0f921"
            ]
           ],
           "sequentialminus": [
            [
             0,
             "#0d0887"
            ],
            [
             0.1111111111111111,
             "#46039f"
            ],
            [
             0.2222222222222222,
             "#7201a8"
            ],
            [
             0.3333333333333333,
             "#9c179e"
            ],
            [
             0.4444444444444444,
             "#bd3786"
            ],
            [
             0.5555555555555556,
             "#d8576b"
            ],
            [
             0.6666666666666666,
             "#ed7953"
            ],
            [
             0.7777777777777778,
             "#fb9f3a"
            ],
            [
             0.8888888888888888,
             "#fdca26"
            ],
            [
             1,
             "#f0f921"
            ]
           ]
          },
          "colorway": [
           "#636efa",
           "#EF553B",
           "#00cc96",
           "#ab63fa",
           "#FFA15A",
           "#19d3f3",
           "#FF6692",
           "#B6E880",
           "#FF97FF",
           "#FECB52"
          ],
          "font": {
           "color": "#2a3f5f"
          },
          "geo": {
           "bgcolor": "white",
           "lakecolor": "white",
           "landcolor": "#E5ECF6",
           "showlakes": true,
           "showland": true,
           "subunitcolor": "white"
          },
          "hoverlabel": {
           "align": "left"
          },
          "hovermode": "closest",
          "mapbox": {
           "style": "light"
          },
          "paper_bgcolor": "white",
          "plot_bgcolor": "#E5ECF6",
          "polar": {
           "angularaxis": {
            "gridcolor": "white",
            "linecolor": "white",
            "ticks": ""
           },
           "bgcolor": "#E5ECF6",
           "radialaxis": {
            "gridcolor": "white",
            "linecolor": "white",
            "ticks": ""
           }
          },
          "scene": {
           "xaxis": {
            "backgroundcolor": "#E5ECF6",
            "gridcolor": "white",
            "gridwidth": 2,
            "linecolor": "white",
            "showbackground": true,
            "ticks": "",
            "zerolinecolor": "white"
           },
           "yaxis": {
            "backgroundcolor": "#E5ECF6",
            "gridcolor": "white",
            "gridwidth": 2,
            "linecolor": "white",
            "showbackground": true,
            "ticks": "",
            "zerolinecolor": "white"
           },
           "zaxis": {
            "backgroundcolor": "#E5ECF6",
            "gridcolor": "white",
            "gridwidth": 2,
            "linecolor": "white",
            "showbackground": true,
            "ticks": "",
            "zerolinecolor": "white"
           }
          },
          "shapedefaults": {
           "line": {
            "color": "#2a3f5f"
           }
          },
          "ternary": {
           "aaxis": {
            "gridcolor": "white",
            "linecolor": "white",
            "ticks": ""
           },
           "baxis": {
            "gridcolor": "white",
            "linecolor": "white",
            "ticks": ""
           },
           "bgcolor": "#E5ECF6",
           "caxis": {
            "gridcolor": "white",
            "linecolor": "white",
            "ticks": ""
           }
          },
          "title": {
           "x": 0.05
          },
          "xaxis": {
           "automargin": true,
           "gridcolor": "white",
           "linecolor": "white",
           "ticks": "",
           "title": {
            "standoff": 15
           },
           "zerolinecolor": "white",
           "zerolinewidth": 2
          },
          "yaxis": {
           "automargin": true,
           "gridcolor": "white",
           "linecolor": "white",
           "ticks": "",
           "title": {
            "standoff": 15
           },
           "zerolinecolor": "white",
           "zerolinewidth": 2
          }
         }
        },
        "title": {
         "text": "Non Land Water Use in Chile"
        },
        "xaxis": {
         "anchor": "y",
         "domain": [
          0,
          1
         ],
         "title": {
          "text": "Years"
         }
        },
        "yaxis": {
         "anchor": "x",
         "domain": [
          0,
          1
         ],
         "title": {
          "text": "Water use [m³/s]"
         }
        }
       }
      },
      "text/html": [
       "<div>                            <div id=\"69bf537a-1bb9-489b-affc-0dc49def5375\" class=\"plotly-graph-div\" style=\"height:525px; width:100%;\"></div>            <script type=\"text/javascript\">                require([\"plotly\"], function(Plotly) {                    window.PLOTLYENV=window.PLOTLYENV || {};                                    if (document.getElementById(\"69bf537a-1bb9-489b-affc-0dc49def5375\")) {                    Plotly.newPlot(                        \"69bf537a-1bb9-489b-affc-0dc49def5375\",                        [{\"alignmentgroup\":\"True\",\"hovertemplate\":\"variable=REGI\\u00d3N DE TARAPAC\\u00c1<br>Years=%{x}<br>Water use [m\\u00b3/s]=%{y}<extra></extra>\",\"legendgroup\":\"REGI\\u00d3N DE TARAPAC\\u00c1\",\"marker\":{\"color\":\"#636efa\",\"pattern\":{\"shape\":\"\"}},\"name\":\"REGI\\u00d3N DE TARAPAC\\u00c1\",\"offsetgroup\":\"REGI\\u00d3N DE TARAPAC\\u00c1\",\"orientation\":\"v\",\"showlegend\":true,\"textposition\":\"auto\",\"x\":[1950,1951,1952,1953,1954,1955,1956,1957,1958,1959,1960,1961,1962,1963,1964,1965,1966,1967,1968,1969,1970,1971,1972,1973,1974,1975,1976,1977,1978,1979,1980,1981,1982,1983,1984,1985,1986,1987,1988,1989,1990,1991,1992,1993,1994,1995,1996,1997,1998,1999,2000,2001,2002,2003,2004,2005,2006,2007,2008,2009,2010,2011,2012,2013,2014,2015,2016,2017,2018,2019,2020],\"xaxis\":\"x\",\"y\":[0.1748593,0.17269612,0.17094226,0.17481892,0.17884553,0.18333839,0.18712071,0.19133931,0.19545048,0.19937056,0.2070483,0.21099686,0.21512732,0.21884783,0.22235757,0.22605018,0.23020611,0.23361971,0.23728247,0.24181132,0.24592259,0.25717697,0.26907071,0.285247,0.29226436,0.29770512,0.30989948,0.32283969,0.33563648,0.35050595,0.36610617,0.37938021,0.38100628,0.39226349,0.40378109,0.79053648,0.86330654,0.74682744,0.67601079,0.74346924,0.7031222,0.70665664,0.65134593,0.60894571,0.68270616,0.73030751,0.76391233,0.86378397,1.03870437,2.46299152,2.50002965,2.27601301,2.26154537,2.12492557,2.27526997,2.29092795,2.92695891,3.19427331,3.2357957,3.42284865,3.48030742,3.41644786,2.93722658,3.34170342,3.47017972,3.57242949,3.17875707,3.21342409,2.87582069,3.490103,3.08998199],\"yaxis\":\"y\",\"type\":\"bar\"},{\"alignmentgroup\":\"True\",\"hovertemplate\":\"variable=REGI\\u00d3N DE ANTOFAGASTA<br>Years=%{x}<br>Water use [m\\u00b3/s]=%{y}<extra></extra>\",\"legendgroup\":\"REGI\\u00d3N DE ANTOFAGASTA\",\"marker\":{\"color\":\"#EF553B\",\"pattern\":{\"shape\":\"\"}},\"name\":\"REGI\\u00d3N DE ANTOFAGASTA\",\"offsetgroup\":\"REGI\\u00d3N DE ANTOFAGASTA\",\"orientation\":\"v\",\"showlegend\":true,\"textposition\":\"auto\",\"x\":[1950,1951,1952,1953,1954,1955,1956,1957,1958,1959,1960,1961,1962,1963,1964,1965,1966,1967,1968,1969,1970,1971,1972,1973,1974,1975,1976,1977,1978,1979,1980,1981,1982,1983,1984,1985,1986,1987,1988,1989,1990,1991,1992,1993,1994,1995,1996,1997,1998,1999,2000,2001,2002,2003,2004,2005,2006,2007,2008,2009,2010,2011,2012,2013,2014,2015,2016,2017,2018,2019,2020],\"xaxis\":\"x\",\"y\":[0.6237457,0.64700972,0.67733327,0.65578573,0.66851107,0.72498835,0.77222877,0.77670275,0.77821013,0.78799406,0.90330607,0.96613734,1.04924165,1.07044578,1.11293997,1.07536291,1.17926715,1.16071427,1.20094863,1.2524364,1.27041408,1.3511282,1.35689677,1.63698087,1.80357914,1.35483776,1.66659198,1.80905695,1.9405645,2.09736895,2.30702385,2.44225783,2.27030704,2.22527642,2.30207811,2.26295542,2.17079498,2.27611882,2.81454958,3.11039568,3.21736518,3.79433003,4.24888473,4.45049043,4.99276365,5.54973062,5.92705072,6.573863,6.7402286,13.91744839,13.11459015,12.43156317,13.04496952,14.3056371,16.83241007,17.37034802,18.15161146,21.00781668,21.81171251,20.92962805,21.40518772,22.96459252,27.07258749,28.49305014,28.0286035,28.40194816,28.88934479,27.57832903,27.95094958,28.38053512,29.14181908],\"yaxis\":\"y\",\"type\":\"bar\"},{\"alignmentgroup\":\"True\",\"hovertemplate\":\"variable=REGI\\u00d3N DE ATACAMA<br>Years=%{x}<br>Water use [m\\u00b3/s]=%{y}<extra></extra>\",\"legendgroup\":\"REGI\\u00d3N DE ATACAMA\",\"marker\":{\"color\":\"#00cc96\",\"pattern\":{\"shape\":\"\"}},\"name\":\"REGI\\u00d3N DE ATACAMA\",\"offsetgroup\":\"REGI\\u00d3N DE ATACAMA\",\"orientation\":\"v\",\"showlegend\":true,\"textposition\":\"auto\",\"x\":[1950,1951,1952,1953,1954,1955,1956,1957,1958,1959,1960,1961,1962,1963,1964,1965,1966,1967,1968,1969,1970,1971,1972,1973,1974,1975,1976,1977,1978,1979,1980,1981,1982,1983,1984,1985,1986,1987,1988,1989,1990,1991,1992,1993,1994,1995,1996,1997,1998,1999,2000,2001,2002,2003,2004,2005,2006,2007,2008,2009,2010,2011,2012,2013,2014,2015,2016,2017,2018,2019,2020],\"xaxis\":\"x\",\"y\":[0.29119865,0.29316952,0.29689879,0.303133,0.31596473,0.3371857,0.35693702,0.36767413,0.37852064,0.4816685,0.49870434,0.50293203,0.5280787,0.5567926,0.54722065,0.57560892,0.56843866,0.62272655,0.6424512,0.65762716,0.68343703,0.67290881,0.66995925,0.71935173,0.71947574,0.70724023,0.73576461,0.75435783,0.78477879,0.80812608,0.84012528,0.87922319,0.88709298,0.961142,0.96678247,1.09747465,1.13797623,1.16275545,1.28335076,1.45296658,1.72011105,1.75732376,1.99264557,2.22822919,2.28580338,2.83764979,4.47609362,4.81935161,5.41483804,5.32093805,4.76664317,4.80947447,4.80207135,5.07095853,5.14794979,4.9566962,5.55426299,5.70122986,5.6707248,6.33020218,7.47483852,7.89744162,7.63163431,8.69874691,8.59299666,8.18988879,10.8940275,12.7646893,12.39691875,10.69707519,9.64793845],\"yaxis\":\"y\",\"type\":\"bar\"},{\"alignmentgroup\":\"True\",\"hovertemplate\":\"variable=REGI\\u00d3N DE COQUIMBO<br>Years=%{x}<br>Water use [m\\u00b3/s]=%{y}<extra></extra>\",\"legendgroup\":\"REGI\\u00d3N DE COQUIMBO\",\"marker\":{\"color\":\"#ab63fa\",\"pattern\":{\"shape\":\"\"}},\"name\":\"REGI\\u00d3N DE COQUIMBO\",\"offsetgroup\":\"REGI\\u00d3N DE COQUIMBO\",\"orientation\":\"v\",\"showlegend\":true,\"textposition\":\"auto\",\"x\":[1950,1951,1952,1953,1954,1955,1956,1957,1958,1959,1960,1961,1962,1963,1964,1965,1966,1967,1968,1969,1970,1971,1972,1973,1974,1975,1976,1977,1978,1979,1980,1981,1982,1983,1984,1985,1986,1987,1988,1989,1990,1991,1992,1993,1994,1995,1996,1997,1998,1999,2000,2001,2002,2003,2004,2005,2006,2007,2008,2009,2010,2011,2012,2013,2014,2015,2016,2017,2018,2019,2020],\"xaxis\":\"x\",\"y\":[1.00006674,1.00533675,1.01109856,1.63172261,1.64714642,1.66801416,1.68759543,1.70170414,1.71520067,1.72961021,1.75223418,1.76209106,1.77354947,1.79007279,1.79405035,1.81641993,1.81103923,2.55731306,2.56491914,2.58324732,2.58930984,2.60157172,2.61443237,2.66006249,2.66963343,2.67294207,2.70179434,2.72901845,2.74637345,2.79096388,2.81065347,2.85578792,2.82072525,2.88297176,2.87680447,3.40096074,3.39748823,3.33233964,3.46876085,3.45760198,3.57683878,3.47433629,3.54648041,3.4771514,3.58998605,3.81128988,3.63640384,3.87282451,4.34368742,3.97249096,4.8141758,4.63050849,4.68235345,4.71369107,4.27140223,4.51570965,4.79459286,4.76344338,11.50481376,13.25194772,9.78953222,8.16822429,5.49757492,5.22310171,5.48391727,6.11041771,9.9909104,15.0120376,10.83507331,9.33736311,7.94506639],\"yaxis\":\"y\",\"type\":\"bar\"},{\"alignmentgroup\":\"True\",\"hovertemplate\":\"variable=REGI\\u00d3N DE VALPARA\\u00cdSO<br>Years=%{x}<br>Water use [m\\u00b3/s]=%{y}<extra></extra>\",\"legendgroup\":\"REGI\\u00d3N DE VALPARA\\u00cdSO\",\"marker\":{\"color\":\"#FFA15A\",\"pattern\":{\"shape\":\"\"}},\"name\":\"REGI\\u00d3N DE VALPARA\\u00cdSO\",\"offsetgroup\":\"REGI\\u00d3N DE VALPARA\\u00cdSO\",\"orientation\":\"v\",\"showlegend\":true,\"textposition\":\"auto\",\"x\":[1950,1951,1952,1953,1954,1955,1956,1957,1958,1959,1960,1961,1962,1963,1964,1965,1966,1967,1968,1969,1970,1971,1972,1973,1974,1975,1976,1977,1978,1979,1980,1981,1982,1983,1984,1985,1986,1987,1988,1989,1990,1991,1992,1993,1994,1995,1996,1997,1998,1999,2000,2001,2002,2003,2004,2005,2006,2007,2008,2009,2010,2011,2012,2013,2014,2015,2016,2017,2018,2019,2020],\"xaxis\":\"x\",\"y\":[31.01283628,31.03562858,31.05893295,31.10684367,31.15770474,31.2100248,31.26201453,31.31300302,31.36254903,31.41299135,31.48792983,31.5355647,31.58445021,31.63342376,31.67836834,31.97341365,32.96545917,33.40543064,30.41507466,28.91576872,29.96845056,31.87274762,35.19194055,34.81366249,31.58146323,31.72636792,32.34258784,33.38385337,35.31307129,35.91315499,37.12314513,37.92679809,34.74151287,36.22643698,37.05849045,39.77254454,34.8163189,36.28617934,37.15739613,36.27687719,35.62221542,38.06695605,36.7666782,38.16975199,38.37080653,49.4378331,34.53097012,41.93141292,42.79359963,41.38516641,45.917188,44.39405428,55.66948257,66.06440017,61.99037994,65.40749648,69.02406775,69.18460799,75.69186361,71.49360814,64.8757597,58.55948944,64.34007654,60.38805781,53.71362263,50.70470987,62.16703828,54.93615684,48.20823932,45.14165057,47.91913348],\"yaxis\":\"y\",\"type\":\"bar\"},{\"alignmentgroup\":\"True\",\"hovertemplate\":\"variable=REGI\\u00d3N DEL LIBERTADOR GENERAL BERNARDO O'HIGGINS<br>Years=%{x}<br>Water use [m\\u00b3/s]=%{y}<extra></extra>\",\"legendgroup\":\"REGI\\u00d3N DEL LIBERTADOR GENERAL BERNARDO O'HIGGINS\",\"marker\":{\"color\":\"#19d3f3\",\"pattern\":{\"shape\":\"\"}},\"name\":\"REGI\\u00d3N DEL LIBERTADOR GENERAL BERNARDO O'HIGGINS\",\"offsetgroup\":\"REGI\\u00d3N DEL LIBERTADOR GENERAL BERNARDO O'HIGGINS\",\"orientation\":\"v\",\"showlegend\":true,\"textposition\":\"auto\",\"x\":[1950,1951,1952,1953,1954,1955,1956,1957,1958,1959,1960,1961,1962,1963,1964,1965,1966,1967,1968,1969,1970,1971,1972,1973,1974,1975,1976,1977,1978,1979,1980,1981,1982,1983,1984,1985,1986,1987,1988,1989,1990,1991,1992,1993,1994,1995,1996,1997,1998,1999,2000,2001,2002,2003,2004,2005,2006,2007,2008,2009,2010,2011,2012,2013,2014,2015,2016,2017,2018,2019,2020],\"xaxis\":\"x\",\"y\":[67.4108966,67.43020099,67.46565166,67.46420414,67.48850297,67.54739637,67.60046103,67.61731509,67.63327746,67.65554024,104.20027688,104.21303367,104.23440889,104.25199194,104.29889813,103.2134651,106.73987192,108.26091524,98.66092508,444.80505136,474.58408379,522.33418293,595.13557624,597.99116069,501.32728271,507.0984636,526.90691004,542.34863367,561.17103772,584.80245952,602.64778134,638.09442109,528.3454197,586.66964957,597.38889235,675.06373569,520.17735372,556.05069179,560.40198453,475.79451783,411.96358632,526.91540477,505.62271767,524.5088782,490.67272536,517.717321,258.80271381,678.24748871,313.00803119,355.49046718,581.79997809,647.61381135,729.93144683,503.56339429,439.91824312,670.16560931,683.55455071,327.14936989,543.50841209,423.36983822,312.1781554,251.62940359,403.23617436,320.08816818,361.24872621,408.26425112,481.86349821,431.33268754,298.14020203,193.57163467,302.41550303],\"yaxis\":\"y\",\"type\":\"bar\"},{\"alignmentgroup\":\"True\",\"hovertemplate\":\"variable=REGI\\u00d3N DEL MAULE<br>Years=%{x}<br>Water use [m\\u00b3/s]=%{y}<extra></extra>\",\"legendgroup\":\"REGI\\u00d3N DEL MAULE\",\"marker\":{\"color\":\"#FF6692\",\"pattern\":{\"shape\":\"\"}},\"name\":\"REGI\\u00d3N DEL MAULE\",\"offsetgroup\":\"REGI\\u00d3N DEL MAULE\",\"orientation\":\"v\",\"showlegend\":true,\"textposition\":\"auto\",\"x\":[1950,1951,1952,1953,1954,1955,1956,1957,1958,1959,1960,1961,1962,1963,1964,1965,1966,1967,1968,1969,1970,1971,1972,1973,1974,1975,1976,1977,1978,1979,1980,1981,1982,1983,1984,1985,1986,1987,1988,1989,1990,1991,1992,1993,1994,1995,1996,1997,1998,1999,2000,2001,2002,2003,2004,2005,2006,2007,2008,2009,2010,2011,2012,2013,2014,2015,2016,2017,2018,2019,2020],\"xaxis\":\"x\",\"y\":[2.4480777,2.4574309,2.4689071,2.4949943,2.5701085,2.5967666,13.4926959,13.5196332,13.5453534,13.5721966,13.6478364,13.6399935,13.7703745,13.7099734,95.5922096,93.956737,98.9190165,101.0416239,85.382941,77.2581926,82.5115213,91.7692802,108.5346632,106.3293959,89.2260248,89.3802101,92.3845639,97.334729,101.1411557,103.8763309,109.6745116,113.6094894,96.8263537,104.3280923,108.0617192,120.9351293,489.7818543,535.59687,532.2296738,450.2161331,382.7091489,496.4784857,684.4314639,707.6169849,741.7579258,781.0495694,586.1645111,815.8638382,667.5994468,575.8825426,826.502558,1038.2782391,992.8176889,913.6629367,809.0925833,1036.0790749,1128.4139804,870.1970596,936.7619737,895.6999741,703.8051526,760.3119053,680.0214328,641.7118854,798.4090688,796.3458351,608.4687927,649.6566561,777.8580143,602.3626588,672.1561032],\"yaxis\":\"y\",\"type\":\"bar\"},{\"alignmentgroup\":\"True\",\"hovertemplate\":\"variable=REGI\\u00d3N DEL BIOB\\u00cdO<br>Years=%{x}<br>Water use [m\\u00b3/s]=%{y}<extra></extra>\",\"legendgroup\":\"REGI\\u00d3N DEL BIOB\\u00cdO\",\"marker\":{\"color\":\"#B6E880\",\"pattern\":{\"shape\":\"\"}},\"name\":\"REGI\\u00d3N DEL BIOB\\u00cdO\",\"offsetgroup\":\"REGI\\u00d3N DEL BIOB\\u00cdO\",\"orientation\":\"v\",\"showlegend\":true,\"textposition\":\"auto\",\"x\":[1950,1951,1952,1953,1954,1955,1956,1957,1958,1959,1960,1961,1962,1963,1964,1965,1966,1967,1968,1969,1970,1971,1972,1973,1974,1975,1976,1977,1978,1979,1980,1981,1982,1983,1984,1985,1986,1987,1988,1989,1990,1991,1992,1993,1994,1995,1996,1997,1998,1999,2000,2001,2002,2003,2004,2005,2006,2007,2008,2009,2010,2011,2012,2013,2014,2015,2016,2017,2018,2019,2020],\"xaxis\":\"x\",\"y\":[37.8469187,37.8738606,37.9007103,37.9542378,38.0082534,38.0614629,38.1155624,38.1699819,38.2230914,38.2779099,38.6993315,38.7888481,38.9301231,38.9939844,39.073388,38.5026222,40.5533003,41.3952259,35.2321774,32.2038373,34.3812746,38.7685551,45.5244969,45.3057289,78.4414579,77.4639956,80.2927192,84.8696647,88.4042278,91.1378427,96.6890292,100.4950518,218.1902009,234.7403034,243.5795132,269.5380555,208.9506208,226.28747,222.4616823,188.7441849,162.0406536,212.7293319,206.1408059,212.444633,202.3923998,215.0806788,270.9077544,445.2613007,278.5599676,358.0721522,503.4040062,512.325593,596.5720212,579.1380538,628.2056001,822.8727292,892.879715,712.4769539,796.7533929,915.7851384,762.4376711,783.484012,666.9399904,644.3628801,1137.5588161,1148.0604212,670.353037,993.4215681,1115.1333306,1076.7064332,885.7770743],\"yaxis\":\"y\",\"type\":\"bar\"},{\"alignmentgroup\":\"True\",\"hovertemplate\":\"variable=REGI\\u00d3N DE LA ARAUCAN\\u00cdA<br>Years=%{x}<br>Water use [m\\u00b3/s]=%{y}<extra></extra>\",\"legendgroup\":\"REGI\\u00d3N DE LA ARAUCAN\\u00cdA\",\"marker\":{\"color\":\"#FF97FF\",\"pattern\":{\"shape\":\"\"}},\"name\":\"REGI\\u00d3N DE LA ARAUCAN\\u00cdA\",\"offsetgroup\":\"REGI\\u00d3N DE LA ARAUCAN\\u00cdA\",\"orientation\":\"v\",\"showlegend\":true,\"textposition\":\"auto\",\"x\":[1950,1951,1952,1953,1954,1955,1956,1957,1958,1959,1960,1961,1962,1963,1964,1965,1966,1967,1968,1969,1970,1971,1972,1973,1974,1975,1976,1977,1978,1979,1980,1981,1982,1983,1984,1985,1986,1987,1988,1989,1990,1991,1992,1993,1994,1995,1996,1997,1998,1999,2000,2001,2002,2003,2004,2005,2006,2007,2008,2009,2010,2011,2012,2013,2014,2015,2016,2017,2018,2019,2020],\"xaxis\":\"x\",\"y\":[1.4425533,1.4458445,1.4483207,1.4646116,1.4805064,1.4962136,1.5121863,1.5282723,1.5446573,1.5606583,1.6116026,1.6293411,1.6506219,1.6661082,1.6815453,1.692936,1.713983,1.7287954,1.7481562,1.7722759,1.7942166,1.8303463,1.8595671,1.9495168,1.973206,1.8835822,1.9377054,1.9870753,2.0329329,2.0985699,2.1796394,2.2498227,2.169699,2.1805602,2.2142561,2.2161126,2.2244489,2.2749254,2.3274718,2.381594,2.435035,2.5056301,2.5924994,2.6521866,2.7322732,2.8881184,2.8808765,2.9221438,2.9190332,2.9181529,2.9989153,2.9520923,2.9343753,2.9708672,3.150833,3.1884093,3.296406,3.4406283,3.5744142,4.6160213,7.3289439,8.0842474,7.8317782,7.8904786,8.3917983,14.5243451,16.0267267,21.271139,21.3968743,20.0361352,16.1590029],\"yaxis\":\"y\",\"type\":\"bar\"},{\"alignmentgroup\":\"True\",\"hovertemplate\":\"variable=REGI\\u00d3N DE LOS LAGOS<br>Years=%{x}<br>Water use [m\\u00b3/s]=%{y}<extra></extra>\",\"legendgroup\":\"REGI\\u00d3N DE LOS LAGOS\",\"marker\":{\"color\":\"#FECB52\",\"pattern\":{\"shape\":\"\"}},\"name\":\"REGI\\u00d3N DE LOS LAGOS\",\"offsetgroup\":\"REGI\\u00d3N DE LOS LAGOS\",\"orientation\":\"v\",\"showlegend\":true,\"textposition\":\"auto\",\"x\":[1950,1951,1952,1953,1954,1955,1956,1957,1958,1959,1960,1961,1962,1963,1964,1965,1966,1967,1968,1969,1970,1971,1972,1973,1974,1975,1976,1977,1978,1979,1980,1981,1982,1983,1984,1985,1986,1987,1988,1989,1990,1991,1992,1993,1994,1995,1996,1997,1998,1999,2000,2001,2002,2003,2004,2005,2006,2007,2008,2009,2010,2011,2012,2013,2014,2015,2016,2017,2018,2019,2020],\"xaxis\":\"x\",\"y\":[0.954397,0.966143,0.978049,0.995566,1.013157,1.031371,1.049685,1.06699,1.084693,1.102497,1.1492154,1.1708052,1.1965793,1.2166586,1.2370407,1.2551739,1.2788215,1.2980016,1.3199088,1.3469402,1.3716453,1.3993344,1.4227514,1.4952965,1.5130222,1.4405161,1.4831353,1.5273548,1.5701076,1.62752,1.6976519,1.7595631,1.6990404,1.7143199,1.7503154,1.7584079,1.7749283,1.8211656,1.8717637,1.9222909,1.9734924,495.4589218,517.4785367,525.1264343,386.3506334,414.7768095,405.4747507,373.1249989,521.4264977,223.3948554,336.0197112,343.3680494,354.8402052,393.7748751,459.4455952,358.8303642,388.5364496,547.4663808,401.105488,481.6761971,593.9354331,386.5434614,540.5670764,597.1980618,588.4312638,517.5948956,404.5408671,570.4855219,633.8626347,400.1772073,583.2115456],\"yaxis\":\"y\",\"type\":\"bar\"},{\"alignmentgroup\":\"True\",\"hovertemplate\":\"variable=REGI\\u00d3N DE AYS\\u00c9N DEL GENERAL CARLOS IB\\u00c1\\u00d1EZ DEL CAMPO<br>Years=%{x}<br>Water use [m\\u00b3/s]=%{y}<extra></extra>\",\"legendgroup\":\"REGI\\u00d3N DE AYS\\u00c9N DEL GENERAL CARLOS IB\\u00c1\\u00d1EZ DEL CAMPO\",\"marker\":{\"color\":\"#636efa\",\"pattern\":{\"shape\":\"\"}},\"name\":\"REGI\\u00d3N DE AYS\\u00c9N DEL GENERAL CARLOS IB\\u00c1\\u00d1EZ DEL CAMPO\",\"offsetgroup\":\"REGI\\u00d3N DE AYS\\u00c9N DEL GENERAL CARLOS IB\\u00c1\\u00d1EZ DEL CAMPO\",\"orientation\":\"v\",\"showlegend\":true,\"textposition\":\"auto\",\"x\":[1950,1951,1952,1953,1954,1955,1956,1957,1958,1959,1960,1961,1962,1963,1964,1965,1966,1967,1968,1969,1970,1971,1972,1973,1974,1975,1976,1977,1978,1979,1980,1981,1982,1983,1984,1985,1986,1987,1988,1989,1990,1991,1992,1993,1994,1995,1996,1997,1998,1999,2000,2001,2002,2003,2004,2005,2006,2007,2008,2009,2010,2011,2012,2013,2014,2015,2016,2017,2018,2019,2020],\"xaxis\":\"x\",\"y\":[0.1236738,0.1267884,0.1292073,0.1332337,0.1371689,0.1417039,0.1456312,0.1500606,0.1541898,0.1583172,0.1649809,0.1687092,0.1731563,0.1773842,0.1816021,0.1851619,0.1904375,0.1955963,0.2006224,0.2057634,0.2111267,0.2169661,0.223164,0.2325562,0.2373658,0.2349857,0.2424853,0.2463064,0.2504572,0.2553647,0.2614582,0.2665375,0.2621626,0.2628542,0.2655628,0.2759326,0.2707488,0.2791376,0.2821497,0.2864275,0.2935748,0.3011021,0.3077948,0.3401082,0.3466637,0.3565456,0.390815,0.4021658,0.3858219,0.3936503,0.3819048,0.3653438,0.4382663,0.4730561,0.5144797,0.5549695,0.5213158,0.5276167,14.4209763,15.4689636,15.420914,15.3508403,14.7321116,13.6352365,14.549809,12.1987029,8.8601596,15.6403525,15.3751447,3.7209625,0.458186],\"yaxis\":\"y\",\"type\":\"bar\"},{\"alignmentgroup\":\"True\",\"hovertemplate\":\"variable=REGI\\u00d3N DE MAGALLANES Y DE LA ANT\\u00c1RTICA CHILENA<br>Years=%{x}<br>Water use [m\\u00b3/s]=%{y}<extra></extra>\",\"legendgroup\":\"REGI\\u00d3N DE MAGALLANES Y DE LA ANT\\u00c1RTICA CHILENA\",\"marker\":{\"color\":\"#EF553B\",\"pattern\":{\"shape\":\"\"}},\"name\":\"REGI\\u00d3N DE MAGALLANES Y DE LA ANT\\u00c1RTICA CHILENA\",\"offsetgroup\":\"REGI\\u00d3N DE MAGALLANES Y DE LA ANT\\u00c1RTICA CHILENA\",\"orientation\":\"v\",\"showlegend\":true,\"textposition\":\"auto\",\"x\":[1950,1951,1952,1953,1954,1955,1956,1957,1958,1959,1960,1961,1962,1963,1964,1965,1966,1967,1968,1969,1970,1971,1972,1973,1974,1975,1976,1977,1978,1979,1980,1981,1982,1983,1984,1985,1986,1987,1988,1989,1990,1991,1992,1993,1994,1995,1996,1997,1998,1999,2000,2001,2002,2003,2004,2005,2006,2007,2008,2009,2010,2011,2012,2013,2014,2015,2016,2017,2018,2019,2020],\"xaxis\":\"x\",\"y\":[0.2499116,0.2526642,0.2552128,0.2622933,0.2697007,0.2765891,0.2839935,0.2912878,0.2981892,0.3055827,0.3202106,0.3271963,0.3348666,0.341179,0.3472018,0.3526363,0.3608894,0.3681403,0.3758024,0.3846574,0.3934058,0.4080302,0.4215379,0.4471324,0.4585032,0.4482826,0.4656981,0.4800735,0.4930562,0.5104878,0.5308146,0.5482901,0.5358457,0.534356,0.5386178,0.5353446,0.5345929,0.5443353,0.5575007,0.5662066,0.5754443,0.5883109,0.6008783,0.6065448,0.6198042,0.6467594,0.6432808,0.6521813,0.6978729,0.6968727,0.6970573,0.709015,0.7101321,0.7167798,0.7270537,0.7600111,0.7998319,0.7962168,0.8281494,0.8600586,0.8927069,0.9388889,0.9475766,0.941591,0.9636218,0.9324404,0.9976534,1.0675702,1.069993,1.0258585,0.9054904],\"yaxis\":\"y\",\"type\":\"bar\"},{\"alignmentgroup\":\"True\",\"hovertemplate\":\"variable=REGI\\u00d3N METROPOLITANA DE SANTIAGO<br>Years=%{x}<br>Water use [m\\u00b3/s]=%{y}<extra></extra>\",\"legendgroup\":\"REGI\\u00d3N METROPOLITANA DE SANTIAGO\",\"marker\":{\"color\":\"#00cc96\",\"pattern\":{\"shape\":\"\"}},\"name\":\"REGI\\u00d3N METROPOLITANA DE SANTIAGO\",\"offsetgroup\":\"REGI\\u00d3N METROPOLITANA DE SANTIAGO\",\"orientation\":\"v\",\"showlegend\":true,\"textposition\":\"auto\",\"x\":[1950,1951,1952,1953,1954,1955,1956,1957,1958,1959,1960,1961,1962,1963,1964,1965,1966,1967,1968,1969,1970,1971,1972,1973,1974,1975,1976,1977,1978,1979,1980,1981,1982,1983,1984,1985,1986,1987,1988,1989,1990,1991,1992,1993,1994,1995,1996,1997,1998,1999,2000,2001,2002,2003,2004,2005,2006,2007,2008,2009,2010,2011,2012,2013,2014,2015,2016,2017,2018,2019,2020],\"xaxis\":\"x\",\"y\":[95.80738038,95.93176438,96.05752265,96.31989444,96.581654,96.84524684,97.10753585,97.37021329,97.63213451,97.89374625,98.3288497,98.60306086,98.89026813,102.54095338,102.79989719,101.76016697,106.16047479,108.21842078,95.19554412,88.7488871,93.38312912,101.46950578,115.99250688,114.48107972,100.37694196,100.65358851,103.49037886,108.09712762,111.69543251,114.42318848,119.75042522,123.37237952,109.46509482,115.8434999,119.30354176,129.16369952,107.28970973,114.19294622,112.93658613,100.71122181,91.02609775,110.10520047,126.18947011,129.19918169,126.62004612,132.53446415,77.82327088,78.29566016,99.70715177,98.3821006,108.96085057,116.35227464,117.7235049,112.22609665,110.78811995,116.62877867,125.74454375,121.3324238,122.07626764,118.76245402,124.59302218,133.34587755,133.99151483,145.01790191,164.12220771,165.37795792,198.0220007,185.72811393,157.78794593,141.30277299,134.60076232],\"yaxis\":\"y\",\"type\":\"bar\"},{\"alignmentgroup\":\"True\",\"hovertemplate\":\"variable=REGI\\u00d3N DE LOS R\\u00cdOS<br>Years=%{x}<br>Water use [m\\u00b3/s]=%{y}<extra></extra>\",\"legendgroup\":\"REGI\\u00d3N DE LOS R\\u00cdOS\",\"marker\":{\"color\":\"#ab63fa\",\"pattern\":{\"shape\":\"\"}},\"name\":\"REGI\\u00d3N DE LOS R\\u00cdOS\",\"offsetgroup\":\"REGI\\u00d3N DE LOS R\\u00cdOS\",\"orientation\":\"v\",\"showlegend\":true,\"textposition\":\"auto\",\"x\":[1950,1951,1952,1953,1954,1955,1956,1957,1958,1959,1960,1961,1962,1963,1964,1965,1966,1967,1968,1969,1970,1971,1972,1973,1974,1975,1976,1977,1978,1979,1980,1981,1982,1983,1984,1985,1986,1987,1988,1989,1990,1991,1992,1993,1994,1995,1996,1997,1998,1999,2000,2001,2002,2003,2004,2005,2006,2007,2008,2009,2010,2011,2012,2013,2014,2015,2016,2017,2018,2019,2020],\"xaxis\":\"x\",\"y\":[131.7289495,131.7381782,131.7477258,131.7574819,131.7678581,131.7778404,131.7879945,131.7981777,131.8084429,131.818214,131.8633916,131.8744196,131.8905491,207.3899035,207.4006275,203.9863859,214.9997401,219.4774627,184.0389646,166.0549864,177.6900852,198.3207636,236.143294,230.6788254,192.5137462,193.132559,199.5223091,210.7000096,219.2247995,225.1974918,237.9981292,246.460564,209.5591899,225.9040617,234.3990079,259.9938124,200.7886508,217.5820252,213.1534633,179.1727305,152.1751024,201.9638685,195.178081,200.7430954,190.0299398,200.9028723,130.3657075,180.6487384,102.8404813,122.9051693,161.5294973,160.8650044,170.0943497,169.72889,167.9627837,167.6533881,182.6176217,141.3207439,156.9037517,161.1004296,161.9657908,151.785309,150.1131588,166.5454721,164.3644806,151.795945,106.9196558,172.2923885,179.3734623,162.8019095,174.0364378],\"yaxis\":\"y\",\"type\":\"bar\"},{\"alignmentgroup\":\"True\",\"hovertemplate\":\"variable=REGI\\u00d3N DE ARICA Y PARINACOTA<br>Years=%{x}<br>Water use [m\\u00b3/s]=%{y}<extra></extra>\",\"legendgroup\":\"REGI\\u00d3N DE ARICA Y PARINACOTA\",\"marker\":{\"color\":\"#FFA15A\",\"pattern\":{\"shape\":\"\"}},\"name\":\"REGI\\u00d3N DE ARICA Y PARINACOTA\",\"offsetgroup\":\"REGI\\u00d3N DE ARICA Y PARINACOTA\",\"orientation\":\"v\",\"showlegend\":true,\"textposition\":\"auto\",\"x\":[1950,1951,1952,1953,1954,1955,1956,1957,1958,1959,1960,1961,1962,1963,1964,1965,1966,1967,1968,1969,1970,1971,1972,1973,1974,1975,1976,1977,1978,1979,1980,1981,1982,1983,1984,1985,1986,1987,1988,1989,1990,1991,1992,1993,1994,1995,1996,1997,1998,1999,2000,2001,2002,2003,2004,2005,2006,2007,2008,2009,2010,2011,2012,2013,2014,2015,2016,2017,2018,2019,2020],\"xaxis\":\"x\",\"y\":[0.1553922,0.1577271,0.1602669,0.1668987,0.1736256,0.1800724,0.1867343,0.1930941,0.199958,0.2066187,0.2155706,0.2251832,0.2351184,0.2447921,0.2544726,0.2637241,0.2736335,0.2828373,0.7323956,0.7423632,0.7519603,0.7635304,0.7749934,0.7890266,0.7977695,0.8046305,0.8165465,0.8291586,0.8418457,0.8557915,0.8697998,0.8802294,0.8864626,0.893283,0.8941617,0.8996095,0.9063314,0.9169667,0.9246392,0.9392423,0.94836336,0.95279137,0.9713011,0.96726873,0.97144,0.99567533,0.55218272,0.55979144,0.57528588,1.22570849,1.19480142,1.32425989,1.36621837,1.3293775,1.34888664,1.26778298,1.41306899,1.41544076,1.4259551,1.34012204,1.29843774,1.27736118,1.39643498,1.35801396,1.40222959,1.38452045,1.26580931,1.28601052,1.39968828,1.29555574,1.33817426],\"yaxis\":\"y\",\"type\":\"bar\"},{\"alignmentgroup\":\"True\",\"hovertemplate\":\"variable=REGI\\u00d3N DE \\u00d1UBLE<br>Years=%{x}<br>Water use [m\\u00b3/s]=%{y}<extra></extra>\",\"legendgroup\":\"REGI\\u00d3N DE \\u00d1UBLE\",\"marker\":{\"color\":\"#19d3f3\",\"pattern\":{\"shape\":\"\"}},\"name\":\"REGI\\u00d3N DE \\u00d1UBLE\",\"offsetgroup\":\"REGI\\u00d3N DE \\u00d1UBLE\",\"orientation\":\"v\",\"showlegend\":true,\"textposition\":\"auto\",\"x\":[1950,1951,1952,1953,1954,1955,1956,1957,1958,1959,1960,1961,1962,1963,1964,1965,1966,1967,1968,1969,1970,1971,1972,1973,1974,1975,1976,1977,1978,1979,1980,1981,1982,1983,1984,1985,1986,1987,1988,1989,1990,1991,1992,1993,1994,1995,1996,1997,1998,1999,2000,2001,2002,2003,2004,2005,2006,2007,2008,2009,2010,2011,2012,2013,2014,2015,2016,2017,2018,2019,2020],\"xaxis\":\"x\",\"y\":[0.7126579,0.7159201,0.7188723,0.7286408,0.7388183,0.7490819,0.7597515,0.769223,0.7796985,0.7901651,0.9034629,0.9249416,0.9623266,0.9771677,0.995865,1.0010415,1.0306806,1.0436089,1.0695095,1.1076989,1.1422777,1.1910501,1.2163489,1.4317446,1.4690736,1.114582,1.2246924,1.3111894,1.3890066,1.5176199,1.7058534,1.8676878,1.5676569,1.5292923,1.5774579,1.5055127,1.4613494,1.5380681,1.6386381,1.7328164,1.8341213,1.9816495,2.1810513,2.2860163,2.4565642,2.8560704,2.909916,3.0067741,2.793692,2.625286,2.6041619,2.4995514,2.726305,2.7457754,3.4236081,3.6379052,4.0852892,3.9164809,3.9758077,3.4278222,3.6948312,4.1804166,4.1357386,4.5770509,5.1669419,4.9454961,11.1793399,19.6926188,21.8637223,17.5309563,15.1670676],\"yaxis\":\"y\",\"type\":\"bar\"}],                        {\"template\":{\"data\":{\"histogram2dcontour\":[{\"type\":\"histogram2dcontour\",\"colorbar\":{\"outlinewidth\":0,\"ticks\":\"\"},\"colorscale\":[[0.0,\"#0d0887\"],[0.1111111111111111,\"#46039f\"],[0.2222222222222222,\"#7201a8\"],[0.3333333333333333,\"#9c179e\"],[0.4444444444444444,\"#bd3786\"],[0.5555555555555556,\"#d8576b\"],[0.6666666666666666,\"#ed7953\"],[0.7777777777777778,\"#fb9f3a\"],[0.8888888888888888,\"#fdca26\"],[1.0,\"#f0f921\"]]}],\"choropleth\":[{\"type\":\"choropleth\",\"colorbar\":{\"outlinewidth\":0,\"ticks\":\"\"}}],\"histogram2d\":[{\"type\":\"histogram2d\",\"colorbar\":{\"outlinewidth\":0,\"ticks\":\"\"},\"colorscale\":[[0.0,\"#0d0887\"],[0.1111111111111111,\"#46039f\"],[0.2222222222222222,\"#7201a8\"],[0.3333333333333333,\"#9c179e\"],[0.4444444444444444,\"#bd3786\"],[0.5555555555555556,\"#d8576b\"],[0.6666666666666666,\"#ed7953\"],[0.7777777777777778,\"#fb9f3a\"],[0.8888888888888888,\"#fdca26\"],[1.0,\"#f0f921\"]]}],\"heatmap\":[{\"type\":\"heatmap\",\"colorbar\":{\"outlinewidth\":0,\"ticks\":\"\"},\"colorscale\":[[0.0,\"#0d0887\"],[0.1111111111111111,\"#46039f\"],[0.2222222222222222,\"#7201a8\"],[0.3333333333333333,\"#9c179e\"],[0.4444444444444444,\"#bd3786\"],[0.5555555555555556,\"#d8576b\"],[0.6666666666666666,\"#ed7953\"],[0.7777777777777778,\"#fb9f3a\"],[0.8888888888888888,\"#fdca26\"],[1.0,\"#f0f921\"]]}],\"heatmapgl\":[{\"type\":\"heatmapgl\",\"colorbar\":{\"outlinewidth\":0,\"ticks\":\"\"},\"colorscale\":[[0.0,\"#0d0887\"],[0.1111111111111111,\"#46039f\"],[0.2222222222222222,\"#7201a8\"],[0.3333333333333333,\"#9c179e\"],[0.4444444444444444,\"#bd3786\"],[0.5555555555555556,\"#d8576b\"],[0.6666666666666666,\"#ed7953\"],[0.7777777777777778,\"#fb9f3a\"],[0.8888888888888888,\"#fdca26\"],[1.0,\"#f0f921\"]]}],\"contourcarpet\":[{\"type\":\"contourcarpet\",\"colorbar\":{\"outlinewidth\":0,\"ticks\":\"\"}}],\"contour\":[{\"type\":\"contour\",\"colorbar\":{\"outlinewidth\":0,\"ticks\":\"\"},\"colorscale\":[[0.0,\"#0d0887\"],[0.1111111111111111,\"#46039f\"],[0.2222222222222222,\"#7201a8\"],[0.3333333333333333,\"#9c179e\"],[0.4444444444444444,\"#bd3786\"],[0.5555555555555556,\"#d8576b\"],[0.6666666666666666,\"#ed7953\"],[0.7777777777777778,\"#fb9f3a\"],[0.8888888888888888,\"#fdca26\"],[1.0,\"#f0f921\"]]}],\"surface\":[{\"type\":\"surface\",\"colorbar\":{\"outlinewidth\":0,\"ticks\":\"\"},\"colorscale\":[[0.0,\"#0d0887\"],[0.1111111111111111,\"#46039f\"],[0.2222222222222222,\"#7201a8\"],[0.3333333333333333,\"#9c179e\"],[0.4444444444444444,\"#bd3786\"],[0.5555555555555556,\"#d8576b\"],[0.6666666666666666,\"#ed7953\"],[0.7777777777777778,\"#fb9f3a\"],[0.8888888888888888,\"#fdca26\"],[1.0,\"#f0f921\"]]}],\"mesh3d\":[{\"type\":\"mesh3d\",\"colorbar\":{\"outlinewidth\":0,\"ticks\":\"\"}}],\"scatter\":[{\"fillpattern\":{\"fillmode\":\"overlay\",\"size\":10,\"solidity\":0.2},\"type\":\"scatter\"}],\"parcoords\":[{\"type\":\"parcoords\",\"line\":{\"colorbar\":{\"outlinewidth\":0,\"ticks\":\"\"}}}],\"scatterpolargl\":[{\"type\":\"scatterpolargl\",\"marker\":{\"colorbar\":{\"outlinewidth\":0,\"ticks\":\"\"}}}],\"bar\":[{\"error_x\":{\"color\":\"#2a3f5f\"},\"error_y\":{\"color\":\"#2a3f5f\"},\"marker\":{\"line\":{\"color\":\"#E5ECF6\",\"width\":0.5},\"pattern\":{\"fillmode\":\"overlay\",\"size\":10,\"solidity\":0.2}},\"type\":\"bar\"}],\"scattergeo\":[{\"type\":\"scattergeo\",\"marker\":{\"colorbar\":{\"outlinewidth\":0,\"ticks\":\"\"}}}],\"scatterpolar\":[{\"type\":\"scatterpolar\",\"marker\":{\"colorbar\":{\"outlinewidth\":0,\"ticks\":\"\"}}}],\"histogram\":[{\"marker\":{\"pattern\":{\"fillmode\":\"overlay\",\"size\":10,\"solidity\":0.2}},\"type\":\"histogram\"}],\"scattergl\":[{\"type\":\"scattergl\",\"marker\":{\"colorbar\":{\"outlinewidth\":0,\"ticks\":\"\"}}}],\"scatter3d\":[{\"type\":\"scatter3d\",\"line\":{\"colorbar\":{\"outlinewidth\":0,\"ticks\":\"\"}},\"marker\":{\"colorbar\":{\"outlinewidth\":0,\"ticks\":\"\"}}}],\"scattermapbox\":[{\"type\":\"scattermapbox\",\"marker\":{\"colorbar\":{\"outlinewidth\":0,\"ticks\":\"\"}}}],\"scatterternary\":[{\"type\":\"scatterternary\",\"marker\":{\"colorbar\":{\"outlinewidth\":0,\"ticks\":\"\"}}}],\"scattercarpet\":[{\"type\":\"scattercarpet\",\"marker\":{\"colorbar\":{\"outlinewidth\":0,\"ticks\":\"\"}}}],\"carpet\":[{\"aaxis\":{\"endlinecolor\":\"#2a3f5f\",\"gridcolor\":\"white\",\"linecolor\":\"white\",\"minorgridcolor\":\"white\",\"startlinecolor\":\"#2a3f5f\"},\"baxis\":{\"endlinecolor\":\"#2a3f5f\",\"gridcolor\":\"white\",\"linecolor\":\"white\",\"minorgridcolor\":\"white\",\"startlinecolor\":\"#2a3f5f\"},\"type\":\"carpet\"}],\"table\":[{\"cells\":{\"fill\":{\"color\":\"#EBF0F8\"},\"line\":{\"color\":\"white\"}},\"header\":{\"fill\":{\"color\":\"#C8D4E3\"},\"line\":{\"color\":\"white\"}},\"type\":\"table\"}],\"barpolar\":[{\"marker\":{\"line\":{\"color\":\"#E5ECF6\",\"width\":0.5},\"pattern\":{\"fillmode\":\"overlay\",\"size\":10,\"solidity\":0.2}},\"type\":\"barpolar\"}],\"pie\":[{\"automargin\":true,\"type\":\"pie\"}]},\"layout\":{\"autotypenumbers\":\"strict\",\"colorway\":[\"#636efa\",\"#EF553B\",\"#00cc96\",\"#ab63fa\",\"#FFA15A\",\"#19d3f3\",\"#FF6692\",\"#B6E880\",\"#FF97FF\",\"#FECB52\"],\"font\":{\"color\":\"#2a3f5f\"},\"hovermode\":\"closest\",\"hoverlabel\":{\"align\":\"left\"},\"paper_bgcolor\":\"white\",\"plot_bgcolor\":\"#E5ECF6\",\"polar\":{\"bgcolor\":\"#E5ECF6\",\"angularaxis\":{\"gridcolor\":\"white\",\"linecolor\":\"white\",\"ticks\":\"\"},\"radialaxis\":{\"gridcolor\":\"white\",\"linecolor\":\"white\",\"ticks\":\"\"}},\"ternary\":{\"bgcolor\":\"#E5ECF6\",\"aaxis\":{\"gridcolor\":\"white\",\"linecolor\":\"white\",\"ticks\":\"\"},\"baxis\":{\"gridcolor\":\"white\",\"linecolor\":\"white\",\"ticks\":\"\"},\"caxis\":{\"gridcolor\":\"white\",\"linecolor\":\"white\",\"ticks\":\"\"}},\"coloraxis\":{\"colorbar\":{\"outlinewidth\":0,\"ticks\":\"\"}},\"colorscale\":{\"sequential\":[[0.0,\"#0d0887\"],[0.1111111111111111,\"#46039f\"],[0.2222222222222222,\"#7201a8\"],[0.3333333333333333,\"#9c179e\"],[0.4444444444444444,\"#bd3786\"],[0.5555555555555556,\"#d8576b\"],[0.6666666666666666,\"#ed7953\"],[0.7777777777777778,\"#fb9f3a\"],[0.8888888888888888,\"#fdca26\"],[1.0,\"#f0f921\"]],\"sequentialminus\":[[0.0,\"#0d0887\"],[0.1111111111111111,\"#46039f\"],[0.2222222222222222,\"#7201a8\"],[0.3333333333333333,\"#9c179e\"],[0.4444444444444444,\"#bd3786\"],[0.5555555555555556,\"#d8576b\"],[0.6666666666666666,\"#ed7953\"],[0.7777777777777778,\"#fb9f3a\"],[0.8888888888888888,\"#fdca26\"],[1.0,\"#f0f921\"]],\"diverging\":[[0,\"#8e0152\"],[0.1,\"#c51b7d\"],[0.2,\"#de77ae\"],[0.3,\"#f1b6da\"],[0.4,\"#fde0ef\"],[0.5,\"#f7f7f7\"],[0.6,\"#e6f5d0\"],[0.7,\"#b8e186\"],[0.8,\"#7fbc41\"],[0.9,\"#4d9221\"],[1,\"#276419\"]]},\"xaxis\":{\"gridcolor\":\"white\",\"linecolor\":\"white\",\"ticks\":\"\",\"title\":{\"standoff\":15},\"zerolinecolor\":\"white\",\"automargin\":true,\"zerolinewidth\":2},\"yaxis\":{\"gridcolor\":\"white\",\"linecolor\":\"white\",\"ticks\":\"\",\"title\":{\"standoff\":15},\"zerolinecolor\":\"white\",\"automargin\":true,\"zerolinewidth\":2},\"scene\":{\"xaxis\":{\"backgroundcolor\":\"#E5ECF6\",\"gridcolor\":\"white\",\"linecolor\":\"white\",\"showbackground\":true,\"ticks\":\"\",\"zerolinecolor\":\"white\",\"gridwidth\":2},\"yaxis\":{\"backgroundcolor\":\"#E5ECF6\",\"gridcolor\":\"white\",\"linecolor\":\"white\",\"showbackground\":true,\"ticks\":\"\",\"zerolinecolor\":\"white\",\"gridwidth\":2},\"zaxis\":{\"backgroundcolor\":\"#E5ECF6\",\"gridcolor\":\"white\",\"linecolor\":\"white\",\"showbackground\":true,\"ticks\":\"\",\"zerolinecolor\":\"white\",\"gridwidth\":2}},\"shapedefaults\":{\"line\":{\"color\":\"#2a3f5f\"}},\"annotationdefaults\":{\"arrowcolor\":\"#2a3f5f\",\"arrowhead\":0,\"arrowwidth\":1},\"geo\":{\"bgcolor\":\"white\",\"landcolor\":\"#E5ECF6\",\"subunitcolor\":\"white\",\"showland\":true,\"showlakes\":true,\"lakecolor\":\"white\"},\"title\":{\"x\":0.05},\"mapbox\":{\"style\":\"light\"}}},\"xaxis\":{\"anchor\":\"y\",\"domain\":[0.0,1.0],\"title\":{\"text\":\"Years\"}},\"yaxis\":{\"anchor\":\"x\",\"domain\":[0.0,1.0],\"title\":{\"text\":\"Water use [m\\u00b3/s]\"}},\"legend\":{\"title\":{\"text\":\"Regions\"},\"tracegroupgap\":0},\"title\":{\"text\":\"Non Land Water Use in Chile\"},\"barmode\":\"stack\"},                        {\"responsive\": true}                    ).then(function(){\n",
       "                            \n",
       "var gd = document.getElementById('69bf537a-1bb9-489b-affc-0dc49def5375');\n",
       "var x = new MutationObserver(function (mutations, observer) {{\n",
       "        var display = window.getComputedStyle(gd).display;\n",
       "        if (!display || display === 'none') {{\n",
       "            console.log([gd, 'removed!']);\n",
       "            Plotly.purge(gd);\n",
       "            observer.disconnect();\n",
       "        }}\n",
       "}});\n",
       "\n",
       "// Listen for the removal of the full notebook cells\n",
       "var notebookContainer = gd.closest('#notebook-container');\n",
       "if (notebookContainer) {{\n",
       "    x.observe(notebookContainer, {childList: true});\n",
       "}}\n",
       "\n",
       "// Listen for the clearing of the current output cell\n",
       "var outputEl = gd.closest('.output');\n",
       "if (outputEl) {{\n",
       "    x.observe(outputEl, {childList: true});\n",
       "}}\n",
       "\n",
       "                        })                };                });            </script>        </div>"
      ]
     },
     "metadata": {},
     "output_type": "display_data"
    },
    {
     "data": {
      "application/vnd.plotly.v1+json": {
       "config": {
        "plotlyServerURL": "https://plot.ly"
       },
       "data": [
        {
         "alignmentgroup": "True",
         "hovertemplate": "variable=REGIÓN DE TARAPACÁ<br>Años=%{x}<br>Uso de agua [m³/s]=%{y}<extra></extra>",
         "legendgroup": "REGIÓN DE TARAPACÁ",
         "marker": {
          "color": "#636efa",
          "pattern": {
           "shape": ""
          }
         },
         "name": "REGIÓN DE TARAPACÁ",
         "offsetgroup": "REGIÓN DE TARAPACÁ",
         "orientation": "v",
         "showlegend": true,
         "textposition": "auto",
         "type": "bar",
         "x": [
          1950,
          1951,
          1952,
          1953,
          1954,
          1955,
          1956,
          1957,
          1958,
          1959,
          1960,
          1961,
          1962,
          1963,
          1964,
          1965,
          1966,
          1967,
          1968,
          1969,
          1970,
          1971,
          1972,
          1973,
          1974,
          1975,
          1976,
          1977,
          1978,
          1979,
          1980,
          1981,
          1982,
          1983,
          1984,
          1985,
          1986,
          1987,
          1988,
          1989,
          1990,
          1991,
          1992,
          1993,
          1994,
          1995,
          1996,
          1997,
          1998,
          1999,
          2000,
          2001,
          2002,
          2003,
          2004,
          2005,
          2006,
          2007,
          2008,
          2009,
          2010,
          2011,
          2012,
          2013,
          2014,
          2015,
          2016,
          2017,
          2018,
          2019,
          2020
         ],
         "xaxis": "x",
         "y": [
          0.1748593,
          0.17269612,
          0.17094226,
          0.17481892,
          0.17884553,
          0.18333839,
          0.18712071,
          0.19133931,
          0.19545048,
          0.19937056,
          0.2070483,
          0.21099686,
          0.21512732,
          0.21884783,
          0.22235757,
          0.22605018,
          0.23020611,
          0.23361971,
          0.23728247,
          0.24181132,
          0.24592259,
          0.25717697,
          0.26907071,
          0.285247,
          0.29226436,
          0.29770512,
          0.30989948,
          0.32283969,
          0.33563648,
          0.35050595,
          0.36610617,
          0.37938021,
          0.38100628,
          0.39226349,
          0.40378109,
          0.79053648,
          0.86330654,
          0.74682744,
          0.67601079,
          0.74346924,
          0.7031222,
          0.70665664,
          0.65134593,
          0.60894571,
          0.68270616,
          0.73030751,
          0.76391233,
          0.86378397,
          1.03870437,
          2.46299152,
          2.50002965,
          2.27601301,
          2.26154537,
          2.12492557,
          2.27526997,
          2.29092795,
          2.92695891,
          3.19427331,
          3.2357957,
          3.42284865,
          3.48030742,
          3.41644786,
          2.93722658,
          3.34170342,
          3.47017972,
          3.57242949,
          3.17875707,
          3.21342409,
          2.87582069,
          3.490103,
          3.08998199
         ],
         "yaxis": "y"
        },
        {
         "alignmentgroup": "True",
         "hovertemplate": "variable=REGIÓN DE ANTOFAGASTA<br>Años=%{x}<br>Uso de agua [m³/s]=%{y}<extra></extra>",
         "legendgroup": "REGIÓN DE ANTOFAGASTA",
         "marker": {
          "color": "#EF553B",
          "pattern": {
           "shape": ""
          }
         },
         "name": "REGIÓN DE ANTOFAGASTA",
         "offsetgroup": "REGIÓN DE ANTOFAGASTA",
         "orientation": "v",
         "showlegend": true,
         "textposition": "auto",
         "type": "bar",
         "x": [
          1950,
          1951,
          1952,
          1953,
          1954,
          1955,
          1956,
          1957,
          1958,
          1959,
          1960,
          1961,
          1962,
          1963,
          1964,
          1965,
          1966,
          1967,
          1968,
          1969,
          1970,
          1971,
          1972,
          1973,
          1974,
          1975,
          1976,
          1977,
          1978,
          1979,
          1980,
          1981,
          1982,
          1983,
          1984,
          1985,
          1986,
          1987,
          1988,
          1989,
          1990,
          1991,
          1992,
          1993,
          1994,
          1995,
          1996,
          1997,
          1998,
          1999,
          2000,
          2001,
          2002,
          2003,
          2004,
          2005,
          2006,
          2007,
          2008,
          2009,
          2010,
          2011,
          2012,
          2013,
          2014,
          2015,
          2016,
          2017,
          2018,
          2019,
          2020
         ],
         "xaxis": "x",
         "y": [
          0.6237457,
          0.64700972,
          0.67733327,
          0.65578573,
          0.66851107,
          0.72498835,
          0.77222877,
          0.77670275,
          0.77821013,
          0.78799406,
          0.90330607,
          0.96613734,
          1.04924165,
          1.07044578,
          1.11293997,
          1.07536291,
          1.17926715,
          1.16071427,
          1.20094863,
          1.2524364,
          1.27041408,
          1.3511282,
          1.35689677,
          1.63698087,
          1.80357914,
          1.35483776,
          1.66659198,
          1.80905695,
          1.9405645,
          2.09736895,
          2.30702385,
          2.44225783,
          2.27030704,
          2.22527642,
          2.30207811,
          2.26295542,
          2.17079498,
          2.27611882,
          2.81454958,
          3.11039568,
          3.21736518,
          3.79433003,
          4.24888473,
          4.45049043,
          4.99276365,
          5.54973062,
          5.92705072,
          6.573863,
          6.7402286,
          13.91744839,
          13.11459015,
          12.43156317,
          13.04496952,
          14.3056371,
          16.83241007,
          17.37034802,
          18.15161146,
          21.00781668,
          21.81171251,
          20.92962805,
          21.40518772,
          22.96459252,
          27.07258749,
          28.49305014,
          28.0286035,
          28.40194816,
          28.88934479,
          27.57832903,
          27.95094958,
          28.38053512,
          29.14181908
         ],
         "yaxis": "y"
        },
        {
         "alignmentgroup": "True",
         "hovertemplate": "variable=REGIÓN DE ATACAMA<br>Años=%{x}<br>Uso de agua [m³/s]=%{y}<extra></extra>",
         "legendgroup": "REGIÓN DE ATACAMA",
         "marker": {
          "color": "#00cc96",
          "pattern": {
           "shape": ""
          }
         },
         "name": "REGIÓN DE ATACAMA",
         "offsetgroup": "REGIÓN DE ATACAMA",
         "orientation": "v",
         "showlegend": true,
         "textposition": "auto",
         "type": "bar",
         "x": [
          1950,
          1951,
          1952,
          1953,
          1954,
          1955,
          1956,
          1957,
          1958,
          1959,
          1960,
          1961,
          1962,
          1963,
          1964,
          1965,
          1966,
          1967,
          1968,
          1969,
          1970,
          1971,
          1972,
          1973,
          1974,
          1975,
          1976,
          1977,
          1978,
          1979,
          1980,
          1981,
          1982,
          1983,
          1984,
          1985,
          1986,
          1987,
          1988,
          1989,
          1990,
          1991,
          1992,
          1993,
          1994,
          1995,
          1996,
          1997,
          1998,
          1999,
          2000,
          2001,
          2002,
          2003,
          2004,
          2005,
          2006,
          2007,
          2008,
          2009,
          2010,
          2011,
          2012,
          2013,
          2014,
          2015,
          2016,
          2017,
          2018,
          2019,
          2020
         ],
         "xaxis": "x",
         "y": [
          0.29119865,
          0.29316952,
          0.29689879,
          0.303133,
          0.31596473,
          0.3371857,
          0.35693702,
          0.36767413,
          0.37852064,
          0.4816685,
          0.49870434,
          0.50293203,
          0.5280787,
          0.5567926,
          0.54722065,
          0.57560892,
          0.56843866,
          0.62272655,
          0.6424512,
          0.65762716,
          0.68343703,
          0.67290881,
          0.66995925,
          0.71935173,
          0.71947574,
          0.70724023,
          0.73576461,
          0.75435783,
          0.78477879,
          0.80812608,
          0.84012528,
          0.87922319,
          0.88709298,
          0.961142,
          0.96678247,
          1.09747465,
          1.13797623,
          1.16275545,
          1.28335076,
          1.45296658,
          1.72011105,
          1.75732376,
          1.99264557,
          2.22822919,
          2.28580338,
          2.83764979,
          4.47609362,
          4.81935161,
          5.41483804,
          5.32093805,
          4.76664317,
          4.80947447,
          4.80207135,
          5.07095853,
          5.14794979,
          4.9566962,
          5.55426299,
          5.70122986,
          5.6707248,
          6.33020218,
          7.47483852,
          7.89744162,
          7.63163431,
          8.69874691,
          8.59299666,
          8.18988879,
          10.8940275,
          12.7646893,
          12.39691875,
          10.69707519,
          9.64793845
         ],
         "yaxis": "y"
        },
        {
         "alignmentgroup": "True",
         "hovertemplate": "variable=REGIÓN DE COQUIMBO<br>Años=%{x}<br>Uso de agua [m³/s]=%{y}<extra></extra>",
         "legendgroup": "REGIÓN DE COQUIMBO",
         "marker": {
          "color": "#ab63fa",
          "pattern": {
           "shape": ""
          }
         },
         "name": "REGIÓN DE COQUIMBO",
         "offsetgroup": "REGIÓN DE COQUIMBO",
         "orientation": "v",
         "showlegend": true,
         "textposition": "auto",
         "type": "bar",
         "x": [
          1950,
          1951,
          1952,
          1953,
          1954,
          1955,
          1956,
          1957,
          1958,
          1959,
          1960,
          1961,
          1962,
          1963,
          1964,
          1965,
          1966,
          1967,
          1968,
          1969,
          1970,
          1971,
          1972,
          1973,
          1974,
          1975,
          1976,
          1977,
          1978,
          1979,
          1980,
          1981,
          1982,
          1983,
          1984,
          1985,
          1986,
          1987,
          1988,
          1989,
          1990,
          1991,
          1992,
          1993,
          1994,
          1995,
          1996,
          1997,
          1998,
          1999,
          2000,
          2001,
          2002,
          2003,
          2004,
          2005,
          2006,
          2007,
          2008,
          2009,
          2010,
          2011,
          2012,
          2013,
          2014,
          2015,
          2016,
          2017,
          2018,
          2019,
          2020
         ],
         "xaxis": "x",
         "y": [
          1.00006674,
          1.00533675,
          1.01109856,
          1.63172261,
          1.64714642,
          1.66801416,
          1.68759543,
          1.70170414,
          1.71520067,
          1.72961021,
          1.75223418,
          1.76209106,
          1.77354947,
          1.79007279,
          1.79405035,
          1.81641993,
          1.81103923,
          2.55731306,
          2.56491914,
          2.58324732,
          2.58930984,
          2.60157172,
          2.61443237,
          2.66006249,
          2.66963343,
          2.67294207,
          2.70179434,
          2.72901845,
          2.74637345,
          2.79096388,
          2.81065347,
          2.85578792,
          2.82072525,
          2.88297176,
          2.87680447,
          3.40096074,
          3.39748823,
          3.33233964,
          3.46876085,
          3.45760198,
          3.57683878,
          3.47433629,
          3.54648041,
          3.4771514,
          3.58998605,
          3.81128988,
          3.63640384,
          3.87282451,
          4.34368742,
          3.97249096,
          4.8141758,
          4.63050849,
          4.68235345,
          4.71369107,
          4.27140223,
          4.51570965,
          4.79459286,
          4.76344338,
          11.50481376,
          13.25194772,
          9.78953222,
          8.16822429,
          5.49757492,
          5.22310171,
          5.48391727,
          6.11041771,
          9.9909104,
          15.0120376,
          10.83507331,
          9.33736311,
          7.94506639
         ],
         "yaxis": "y"
        },
        {
         "alignmentgroup": "True",
         "hovertemplate": "variable=REGIÓN DE VALPARAÍSO<br>Años=%{x}<br>Uso de agua [m³/s]=%{y}<extra></extra>",
         "legendgroup": "REGIÓN DE VALPARAÍSO",
         "marker": {
          "color": "#FFA15A",
          "pattern": {
           "shape": ""
          }
         },
         "name": "REGIÓN DE VALPARAÍSO",
         "offsetgroup": "REGIÓN DE VALPARAÍSO",
         "orientation": "v",
         "showlegend": true,
         "textposition": "auto",
         "type": "bar",
         "x": [
          1950,
          1951,
          1952,
          1953,
          1954,
          1955,
          1956,
          1957,
          1958,
          1959,
          1960,
          1961,
          1962,
          1963,
          1964,
          1965,
          1966,
          1967,
          1968,
          1969,
          1970,
          1971,
          1972,
          1973,
          1974,
          1975,
          1976,
          1977,
          1978,
          1979,
          1980,
          1981,
          1982,
          1983,
          1984,
          1985,
          1986,
          1987,
          1988,
          1989,
          1990,
          1991,
          1992,
          1993,
          1994,
          1995,
          1996,
          1997,
          1998,
          1999,
          2000,
          2001,
          2002,
          2003,
          2004,
          2005,
          2006,
          2007,
          2008,
          2009,
          2010,
          2011,
          2012,
          2013,
          2014,
          2015,
          2016,
          2017,
          2018,
          2019,
          2020
         ],
         "xaxis": "x",
         "y": [
          31.01283628,
          31.03562858,
          31.05893295,
          31.10684367,
          31.15770474,
          31.2100248,
          31.26201453,
          31.31300302,
          31.36254903,
          31.41299135,
          31.48792983,
          31.5355647,
          31.58445021,
          31.63342376,
          31.67836834,
          31.97341365,
          32.96545917,
          33.40543064,
          30.41507466,
          28.91576872,
          29.96845056,
          31.87274762,
          35.19194055,
          34.81366249,
          31.58146323,
          31.72636792,
          32.34258784,
          33.38385337,
          35.31307129,
          35.91315499,
          37.12314513,
          37.92679809,
          34.74151287,
          36.22643698,
          37.05849045,
          39.77254454,
          34.8163189,
          36.28617934,
          37.15739613,
          36.27687719,
          35.62221542,
          38.06695605,
          36.7666782,
          38.16975199,
          38.37080653,
          49.4378331,
          34.53097012,
          41.93141292,
          42.79359963,
          41.38516641,
          45.917188,
          44.39405428,
          55.66948257,
          66.06440017,
          61.99037994,
          65.40749648,
          69.02406775,
          69.18460799,
          75.69186361,
          71.49360814,
          64.8757597,
          58.55948944,
          64.34007654,
          60.38805781,
          53.71362263,
          50.70470987,
          62.16703828,
          54.93615684,
          48.20823932,
          45.14165057,
          47.91913348
         ],
         "yaxis": "y"
        },
        {
         "alignmentgroup": "True",
         "hovertemplate": "variable=REGIÓN DEL LIBERTADOR GENERAL BERNARDO O'HIGGINS<br>Años=%{x}<br>Uso de agua [m³/s]=%{y}<extra></extra>",
         "legendgroup": "REGIÓN DEL LIBERTADOR GENERAL BERNARDO O'HIGGINS",
         "marker": {
          "color": "#19d3f3",
          "pattern": {
           "shape": ""
          }
         },
         "name": "REGIÓN DEL LIBERTADOR GENERAL BERNARDO O'HIGGINS",
         "offsetgroup": "REGIÓN DEL LIBERTADOR GENERAL BERNARDO O'HIGGINS",
         "orientation": "v",
         "showlegend": true,
         "textposition": "auto",
         "type": "bar",
         "x": [
          1950,
          1951,
          1952,
          1953,
          1954,
          1955,
          1956,
          1957,
          1958,
          1959,
          1960,
          1961,
          1962,
          1963,
          1964,
          1965,
          1966,
          1967,
          1968,
          1969,
          1970,
          1971,
          1972,
          1973,
          1974,
          1975,
          1976,
          1977,
          1978,
          1979,
          1980,
          1981,
          1982,
          1983,
          1984,
          1985,
          1986,
          1987,
          1988,
          1989,
          1990,
          1991,
          1992,
          1993,
          1994,
          1995,
          1996,
          1997,
          1998,
          1999,
          2000,
          2001,
          2002,
          2003,
          2004,
          2005,
          2006,
          2007,
          2008,
          2009,
          2010,
          2011,
          2012,
          2013,
          2014,
          2015,
          2016,
          2017,
          2018,
          2019,
          2020
         ],
         "xaxis": "x",
         "y": [
          67.4108966,
          67.43020099,
          67.46565166,
          67.46420414,
          67.48850297,
          67.54739637,
          67.60046103,
          67.61731509,
          67.63327746,
          67.65554024,
          104.20027688,
          104.21303367,
          104.23440889,
          104.25199194,
          104.29889813,
          103.2134651,
          106.73987192,
          108.26091524,
          98.66092508,
          444.80505136,
          474.58408379,
          522.33418293,
          595.13557624,
          597.99116069,
          501.32728271,
          507.0984636,
          526.90691004,
          542.34863367,
          561.17103772,
          584.80245952,
          602.64778134,
          638.09442109,
          528.3454197,
          586.66964957,
          597.38889235,
          675.06373569,
          520.17735372,
          556.05069179,
          560.40198453,
          475.79451783,
          411.96358632,
          526.91540477,
          505.62271767,
          524.5088782,
          490.67272536,
          517.717321,
          258.80271381,
          678.24748871,
          313.00803119,
          355.49046718,
          581.79997809,
          647.61381135,
          729.93144683,
          503.56339429,
          439.91824312,
          670.16560931,
          683.55455071,
          327.14936989,
          543.50841209,
          423.36983822,
          312.1781554,
          251.62940359,
          403.23617436,
          320.08816818,
          361.24872621,
          408.26425112,
          481.86349821,
          431.33268754,
          298.14020203,
          193.57163467,
          302.41550303
         ],
         "yaxis": "y"
        },
        {
         "alignmentgroup": "True",
         "hovertemplate": "variable=REGIÓN DEL MAULE<br>Años=%{x}<br>Uso de agua [m³/s]=%{y}<extra></extra>",
         "legendgroup": "REGIÓN DEL MAULE",
         "marker": {
          "color": "#FF6692",
          "pattern": {
           "shape": ""
          }
         },
         "name": "REGIÓN DEL MAULE",
         "offsetgroup": "REGIÓN DEL MAULE",
         "orientation": "v",
         "showlegend": true,
         "textposition": "auto",
         "type": "bar",
         "x": [
          1950,
          1951,
          1952,
          1953,
          1954,
          1955,
          1956,
          1957,
          1958,
          1959,
          1960,
          1961,
          1962,
          1963,
          1964,
          1965,
          1966,
          1967,
          1968,
          1969,
          1970,
          1971,
          1972,
          1973,
          1974,
          1975,
          1976,
          1977,
          1978,
          1979,
          1980,
          1981,
          1982,
          1983,
          1984,
          1985,
          1986,
          1987,
          1988,
          1989,
          1990,
          1991,
          1992,
          1993,
          1994,
          1995,
          1996,
          1997,
          1998,
          1999,
          2000,
          2001,
          2002,
          2003,
          2004,
          2005,
          2006,
          2007,
          2008,
          2009,
          2010,
          2011,
          2012,
          2013,
          2014,
          2015,
          2016,
          2017,
          2018,
          2019,
          2020
         ],
         "xaxis": "x",
         "y": [
          2.4480777,
          2.4574309,
          2.4689071,
          2.4949943,
          2.5701085,
          2.5967666,
          13.4926959,
          13.5196332,
          13.5453534,
          13.5721966,
          13.6478364,
          13.6399935,
          13.7703745,
          13.7099734,
          95.5922096,
          93.956737,
          98.9190165,
          101.0416239,
          85.382941,
          77.2581926,
          82.5115213,
          91.7692802,
          108.5346632,
          106.3293959,
          89.2260248,
          89.3802101,
          92.3845639,
          97.334729,
          101.1411557,
          103.8763309,
          109.6745116,
          113.6094894,
          96.8263537,
          104.3280923,
          108.0617192,
          120.9351293,
          489.7818543,
          535.59687,
          532.2296738,
          450.2161331,
          382.7091489,
          496.4784857,
          684.4314639,
          707.6169849,
          741.7579258,
          781.0495694,
          586.1645111,
          815.8638382,
          667.5994468,
          575.8825426,
          826.502558,
          1038.2782391,
          992.8176889,
          913.6629367,
          809.0925833,
          1036.0790749,
          1128.4139804,
          870.1970596,
          936.7619737,
          895.6999741,
          703.8051526,
          760.3119053,
          680.0214328,
          641.7118854,
          798.4090688,
          796.3458351,
          608.4687927,
          649.6566561,
          777.8580143,
          602.3626588,
          672.1561032
         ],
         "yaxis": "y"
        },
        {
         "alignmentgroup": "True",
         "hovertemplate": "variable=REGIÓN DEL BIOBÍO<br>Años=%{x}<br>Uso de agua [m³/s]=%{y}<extra></extra>",
         "legendgroup": "REGIÓN DEL BIOBÍO",
         "marker": {
          "color": "#B6E880",
          "pattern": {
           "shape": ""
          }
         },
         "name": "REGIÓN DEL BIOBÍO",
         "offsetgroup": "REGIÓN DEL BIOBÍO",
         "orientation": "v",
         "showlegend": true,
         "textposition": "auto",
         "type": "bar",
         "x": [
          1950,
          1951,
          1952,
          1953,
          1954,
          1955,
          1956,
          1957,
          1958,
          1959,
          1960,
          1961,
          1962,
          1963,
          1964,
          1965,
          1966,
          1967,
          1968,
          1969,
          1970,
          1971,
          1972,
          1973,
          1974,
          1975,
          1976,
          1977,
          1978,
          1979,
          1980,
          1981,
          1982,
          1983,
          1984,
          1985,
          1986,
          1987,
          1988,
          1989,
          1990,
          1991,
          1992,
          1993,
          1994,
          1995,
          1996,
          1997,
          1998,
          1999,
          2000,
          2001,
          2002,
          2003,
          2004,
          2005,
          2006,
          2007,
          2008,
          2009,
          2010,
          2011,
          2012,
          2013,
          2014,
          2015,
          2016,
          2017,
          2018,
          2019,
          2020
         ],
         "xaxis": "x",
         "y": [
          37.8469187,
          37.8738606,
          37.9007103,
          37.9542378,
          38.0082534,
          38.0614629,
          38.1155624,
          38.1699819,
          38.2230914,
          38.2779099,
          38.6993315,
          38.7888481,
          38.9301231,
          38.9939844,
          39.073388,
          38.5026222,
          40.5533003,
          41.3952259,
          35.2321774,
          32.2038373,
          34.3812746,
          38.7685551,
          45.5244969,
          45.3057289,
          78.4414579,
          77.4639956,
          80.2927192,
          84.8696647,
          88.4042278,
          91.1378427,
          96.6890292,
          100.4950518,
          218.1902009,
          234.7403034,
          243.5795132,
          269.5380555,
          208.9506208,
          226.28747,
          222.4616823,
          188.7441849,
          162.0406536,
          212.7293319,
          206.1408059,
          212.444633,
          202.3923998,
          215.0806788,
          270.9077544,
          445.2613007,
          278.5599676,
          358.0721522,
          503.4040062,
          512.325593,
          596.5720212,
          579.1380538,
          628.2056001,
          822.8727292,
          892.879715,
          712.4769539,
          796.7533929,
          915.7851384,
          762.4376711,
          783.484012,
          666.9399904,
          644.3628801,
          1137.5588161,
          1148.0604212,
          670.353037,
          993.4215681,
          1115.1333306,
          1076.7064332,
          885.7770743
         ],
         "yaxis": "y"
        },
        {
         "alignmentgroup": "True",
         "hovertemplate": "variable=REGIÓN DE LA ARAUCANÍA<br>Años=%{x}<br>Uso de agua [m³/s]=%{y}<extra></extra>",
         "legendgroup": "REGIÓN DE LA ARAUCANÍA",
         "marker": {
          "color": "#FF97FF",
          "pattern": {
           "shape": ""
          }
         },
         "name": "REGIÓN DE LA ARAUCANÍA",
         "offsetgroup": "REGIÓN DE LA ARAUCANÍA",
         "orientation": "v",
         "showlegend": true,
         "textposition": "auto",
         "type": "bar",
         "x": [
          1950,
          1951,
          1952,
          1953,
          1954,
          1955,
          1956,
          1957,
          1958,
          1959,
          1960,
          1961,
          1962,
          1963,
          1964,
          1965,
          1966,
          1967,
          1968,
          1969,
          1970,
          1971,
          1972,
          1973,
          1974,
          1975,
          1976,
          1977,
          1978,
          1979,
          1980,
          1981,
          1982,
          1983,
          1984,
          1985,
          1986,
          1987,
          1988,
          1989,
          1990,
          1991,
          1992,
          1993,
          1994,
          1995,
          1996,
          1997,
          1998,
          1999,
          2000,
          2001,
          2002,
          2003,
          2004,
          2005,
          2006,
          2007,
          2008,
          2009,
          2010,
          2011,
          2012,
          2013,
          2014,
          2015,
          2016,
          2017,
          2018,
          2019,
          2020
         ],
         "xaxis": "x",
         "y": [
          1.4425533,
          1.4458445,
          1.4483207,
          1.4646116,
          1.4805064,
          1.4962136,
          1.5121863,
          1.5282723,
          1.5446573,
          1.5606583,
          1.6116026,
          1.6293411,
          1.6506219,
          1.6661082,
          1.6815453,
          1.692936,
          1.713983,
          1.7287954,
          1.7481562,
          1.7722759,
          1.7942166,
          1.8303463,
          1.8595671,
          1.9495168,
          1.973206,
          1.8835822,
          1.9377054,
          1.9870753,
          2.0329329,
          2.0985699,
          2.1796394,
          2.2498227,
          2.169699,
          2.1805602,
          2.2142561,
          2.2161126,
          2.2244489,
          2.2749254,
          2.3274718,
          2.381594,
          2.435035,
          2.5056301,
          2.5924994,
          2.6521866,
          2.7322732,
          2.8881184,
          2.8808765,
          2.9221438,
          2.9190332,
          2.9181529,
          2.9989153,
          2.9520923,
          2.9343753,
          2.9708672,
          3.150833,
          3.1884093,
          3.296406,
          3.4406283,
          3.5744142,
          4.6160213,
          7.3289439,
          8.0842474,
          7.8317782,
          7.8904786,
          8.3917983,
          14.5243451,
          16.0267267,
          21.271139,
          21.3968743,
          20.0361352,
          16.1590029
         ],
         "yaxis": "y"
        },
        {
         "alignmentgroup": "True",
         "hovertemplate": "variable=REGIÓN DE LOS LAGOS<br>Años=%{x}<br>Uso de agua [m³/s]=%{y}<extra></extra>",
         "legendgroup": "REGIÓN DE LOS LAGOS",
         "marker": {
          "color": "#FECB52",
          "pattern": {
           "shape": ""
          }
         },
         "name": "REGIÓN DE LOS LAGOS",
         "offsetgroup": "REGIÓN DE LOS LAGOS",
         "orientation": "v",
         "showlegend": true,
         "textposition": "auto",
         "type": "bar",
         "x": [
          1950,
          1951,
          1952,
          1953,
          1954,
          1955,
          1956,
          1957,
          1958,
          1959,
          1960,
          1961,
          1962,
          1963,
          1964,
          1965,
          1966,
          1967,
          1968,
          1969,
          1970,
          1971,
          1972,
          1973,
          1974,
          1975,
          1976,
          1977,
          1978,
          1979,
          1980,
          1981,
          1982,
          1983,
          1984,
          1985,
          1986,
          1987,
          1988,
          1989,
          1990,
          1991,
          1992,
          1993,
          1994,
          1995,
          1996,
          1997,
          1998,
          1999,
          2000,
          2001,
          2002,
          2003,
          2004,
          2005,
          2006,
          2007,
          2008,
          2009,
          2010,
          2011,
          2012,
          2013,
          2014,
          2015,
          2016,
          2017,
          2018,
          2019,
          2020
         ],
         "xaxis": "x",
         "y": [
          0.954397,
          0.966143,
          0.978049,
          0.995566,
          1.013157,
          1.031371,
          1.049685,
          1.06699,
          1.084693,
          1.102497,
          1.1492154,
          1.1708052,
          1.1965793,
          1.2166586,
          1.2370407,
          1.2551739,
          1.2788215,
          1.2980016,
          1.3199088,
          1.3469402,
          1.3716453,
          1.3993344,
          1.4227514,
          1.4952965,
          1.5130222,
          1.4405161,
          1.4831353,
          1.5273548,
          1.5701076,
          1.62752,
          1.6976519,
          1.7595631,
          1.6990404,
          1.7143199,
          1.7503154,
          1.7584079,
          1.7749283,
          1.8211656,
          1.8717637,
          1.9222909,
          1.9734924,
          495.4589218,
          517.4785367,
          525.1264343,
          386.3506334,
          414.7768095,
          405.4747507,
          373.1249989,
          521.4264977,
          223.3948554,
          336.0197112,
          343.3680494,
          354.8402052,
          393.7748751,
          459.4455952,
          358.8303642,
          388.5364496,
          547.4663808,
          401.105488,
          481.6761971,
          593.9354331,
          386.5434614,
          540.5670764,
          597.1980618,
          588.4312638,
          517.5948956,
          404.5408671,
          570.4855219,
          633.8626347,
          400.1772073,
          583.2115456
         ],
         "yaxis": "y"
        },
        {
         "alignmentgroup": "True",
         "hovertemplate": "variable=REGIÓN DE AYSÉN DEL GENERAL CARLOS IBÁÑEZ DEL CAMPO<br>Años=%{x}<br>Uso de agua [m³/s]=%{y}<extra></extra>",
         "legendgroup": "REGIÓN DE AYSÉN DEL GENERAL CARLOS IBÁÑEZ DEL CAMPO",
         "marker": {
          "color": "#636efa",
          "pattern": {
           "shape": ""
          }
         },
         "name": "REGIÓN DE AYSÉN DEL GENERAL CARLOS IBÁÑEZ DEL CAMPO",
         "offsetgroup": "REGIÓN DE AYSÉN DEL GENERAL CARLOS IBÁÑEZ DEL CAMPO",
         "orientation": "v",
         "showlegend": true,
         "textposition": "auto",
         "type": "bar",
         "x": [
          1950,
          1951,
          1952,
          1953,
          1954,
          1955,
          1956,
          1957,
          1958,
          1959,
          1960,
          1961,
          1962,
          1963,
          1964,
          1965,
          1966,
          1967,
          1968,
          1969,
          1970,
          1971,
          1972,
          1973,
          1974,
          1975,
          1976,
          1977,
          1978,
          1979,
          1980,
          1981,
          1982,
          1983,
          1984,
          1985,
          1986,
          1987,
          1988,
          1989,
          1990,
          1991,
          1992,
          1993,
          1994,
          1995,
          1996,
          1997,
          1998,
          1999,
          2000,
          2001,
          2002,
          2003,
          2004,
          2005,
          2006,
          2007,
          2008,
          2009,
          2010,
          2011,
          2012,
          2013,
          2014,
          2015,
          2016,
          2017,
          2018,
          2019,
          2020
         ],
         "xaxis": "x",
         "y": [
          0.1236738,
          0.1267884,
          0.1292073,
          0.1332337,
          0.1371689,
          0.1417039,
          0.1456312,
          0.1500606,
          0.1541898,
          0.1583172,
          0.1649809,
          0.1687092,
          0.1731563,
          0.1773842,
          0.1816021,
          0.1851619,
          0.1904375,
          0.1955963,
          0.2006224,
          0.2057634,
          0.2111267,
          0.2169661,
          0.223164,
          0.2325562,
          0.2373658,
          0.2349857,
          0.2424853,
          0.2463064,
          0.2504572,
          0.2553647,
          0.2614582,
          0.2665375,
          0.2621626,
          0.2628542,
          0.2655628,
          0.2759326,
          0.2707488,
          0.2791376,
          0.2821497,
          0.2864275,
          0.2935748,
          0.3011021,
          0.3077948,
          0.3401082,
          0.3466637,
          0.3565456,
          0.390815,
          0.4021658,
          0.3858219,
          0.3936503,
          0.3819048,
          0.3653438,
          0.4382663,
          0.4730561,
          0.5144797,
          0.5549695,
          0.5213158,
          0.5276167,
          14.4209763,
          15.4689636,
          15.420914,
          15.3508403,
          14.7321116,
          13.6352365,
          14.549809,
          12.1987029,
          8.8601596,
          15.6403525,
          15.3751447,
          3.7209625,
          0.458186
         ],
         "yaxis": "y"
        },
        {
         "alignmentgroup": "True",
         "hovertemplate": "variable=REGIÓN DE MAGALLANES Y DE LA ANTÁRTICA CHILENA<br>Años=%{x}<br>Uso de agua [m³/s]=%{y}<extra></extra>",
         "legendgroup": "REGIÓN DE MAGALLANES Y DE LA ANTÁRTICA CHILENA",
         "marker": {
          "color": "#EF553B",
          "pattern": {
           "shape": ""
          }
         },
         "name": "REGIÓN DE MAGALLANES Y DE LA ANTÁRTICA CHILENA",
         "offsetgroup": "REGIÓN DE MAGALLANES Y DE LA ANTÁRTICA CHILENA",
         "orientation": "v",
         "showlegend": true,
         "textposition": "auto",
         "type": "bar",
         "x": [
          1950,
          1951,
          1952,
          1953,
          1954,
          1955,
          1956,
          1957,
          1958,
          1959,
          1960,
          1961,
          1962,
          1963,
          1964,
          1965,
          1966,
          1967,
          1968,
          1969,
          1970,
          1971,
          1972,
          1973,
          1974,
          1975,
          1976,
          1977,
          1978,
          1979,
          1980,
          1981,
          1982,
          1983,
          1984,
          1985,
          1986,
          1987,
          1988,
          1989,
          1990,
          1991,
          1992,
          1993,
          1994,
          1995,
          1996,
          1997,
          1998,
          1999,
          2000,
          2001,
          2002,
          2003,
          2004,
          2005,
          2006,
          2007,
          2008,
          2009,
          2010,
          2011,
          2012,
          2013,
          2014,
          2015,
          2016,
          2017,
          2018,
          2019,
          2020
         ],
         "xaxis": "x",
         "y": [
          0.2499116,
          0.2526642,
          0.2552128,
          0.2622933,
          0.2697007,
          0.2765891,
          0.2839935,
          0.2912878,
          0.2981892,
          0.3055827,
          0.3202106,
          0.3271963,
          0.3348666,
          0.341179,
          0.3472018,
          0.3526363,
          0.3608894,
          0.3681403,
          0.3758024,
          0.3846574,
          0.3934058,
          0.4080302,
          0.4215379,
          0.4471324,
          0.4585032,
          0.4482826,
          0.4656981,
          0.4800735,
          0.4930562,
          0.5104878,
          0.5308146,
          0.5482901,
          0.5358457,
          0.534356,
          0.5386178,
          0.5353446,
          0.5345929,
          0.5443353,
          0.5575007,
          0.5662066,
          0.5754443,
          0.5883109,
          0.6008783,
          0.6065448,
          0.6198042,
          0.6467594,
          0.6432808,
          0.6521813,
          0.6978729,
          0.6968727,
          0.6970573,
          0.709015,
          0.7101321,
          0.7167798,
          0.7270537,
          0.7600111,
          0.7998319,
          0.7962168,
          0.8281494,
          0.8600586,
          0.8927069,
          0.9388889,
          0.9475766,
          0.941591,
          0.9636218,
          0.9324404,
          0.9976534,
          1.0675702,
          1.069993,
          1.0258585,
          0.9054904
         ],
         "yaxis": "y"
        },
        {
         "alignmentgroup": "True",
         "hovertemplate": "variable=REGIÓN METROPOLITANA DE SANTIAGO<br>Años=%{x}<br>Uso de agua [m³/s]=%{y}<extra></extra>",
         "legendgroup": "REGIÓN METROPOLITANA DE SANTIAGO",
         "marker": {
          "color": "#00cc96",
          "pattern": {
           "shape": ""
          }
         },
         "name": "REGIÓN METROPOLITANA DE SANTIAGO",
         "offsetgroup": "REGIÓN METROPOLITANA DE SANTIAGO",
         "orientation": "v",
         "showlegend": true,
         "textposition": "auto",
         "type": "bar",
         "x": [
          1950,
          1951,
          1952,
          1953,
          1954,
          1955,
          1956,
          1957,
          1958,
          1959,
          1960,
          1961,
          1962,
          1963,
          1964,
          1965,
          1966,
          1967,
          1968,
          1969,
          1970,
          1971,
          1972,
          1973,
          1974,
          1975,
          1976,
          1977,
          1978,
          1979,
          1980,
          1981,
          1982,
          1983,
          1984,
          1985,
          1986,
          1987,
          1988,
          1989,
          1990,
          1991,
          1992,
          1993,
          1994,
          1995,
          1996,
          1997,
          1998,
          1999,
          2000,
          2001,
          2002,
          2003,
          2004,
          2005,
          2006,
          2007,
          2008,
          2009,
          2010,
          2011,
          2012,
          2013,
          2014,
          2015,
          2016,
          2017,
          2018,
          2019,
          2020
         ],
         "xaxis": "x",
         "y": [
          95.80738038,
          95.93176438,
          96.05752265,
          96.31989444,
          96.581654,
          96.84524684,
          97.10753585,
          97.37021329,
          97.63213451,
          97.89374625,
          98.3288497,
          98.60306086,
          98.89026813,
          102.54095338,
          102.79989719,
          101.76016697,
          106.16047479,
          108.21842078,
          95.19554412,
          88.7488871,
          93.38312912,
          101.46950578,
          115.99250688,
          114.48107972,
          100.37694196,
          100.65358851,
          103.49037886,
          108.09712762,
          111.69543251,
          114.42318848,
          119.75042522,
          123.37237952,
          109.46509482,
          115.8434999,
          119.30354176,
          129.16369952,
          107.28970973,
          114.19294622,
          112.93658613,
          100.71122181,
          91.02609775,
          110.10520047,
          126.18947011,
          129.19918169,
          126.62004612,
          132.53446415,
          77.82327088,
          78.29566016,
          99.70715177,
          98.3821006,
          108.96085057,
          116.35227464,
          117.7235049,
          112.22609665,
          110.78811995,
          116.62877867,
          125.74454375,
          121.3324238,
          122.07626764,
          118.76245402,
          124.59302218,
          133.34587755,
          133.99151483,
          145.01790191,
          164.12220771,
          165.37795792,
          198.0220007,
          185.72811393,
          157.78794593,
          141.30277299,
          134.60076232
         ],
         "yaxis": "y"
        },
        {
         "alignmentgroup": "True",
         "hovertemplate": "variable=REGIÓN DE LOS RÍOS<br>Años=%{x}<br>Uso de agua [m³/s]=%{y}<extra></extra>",
         "legendgroup": "REGIÓN DE LOS RÍOS",
         "marker": {
          "color": "#ab63fa",
          "pattern": {
           "shape": ""
          }
         },
         "name": "REGIÓN DE LOS RÍOS",
         "offsetgroup": "REGIÓN DE LOS RÍOS",
         "orientation": "v",
         "showlegend": true,
         "textposition": "auto",
         "type": "bar",
         "x": [
          1950,
          1951,
          1952,
          1953,
          1954,
          1955,
          1956,
          1957,
          1958,
          1959,
          1960,
          1961,
          1962,
          1963,
          1964,
          1965,
          1966,
          1967,
          1968,
          1969,
          1970,
          1971,
          1972,
          1973,
          1974,
          1975,
          1976,
          1977,
          1978,
          1979,
          1980,
          1981,
          1982,
          1983,
          1984,
          1985,
          1986,
          1987,
          1988,
          1989,
          1990,
          1991,
          1992,
          1993,
          1994,
          1995,
          1996,
          1997,
          1998,
          1999,
          2000,
          2001,
          2002,
          2003,
          2004,
          2005,
          2006,
          2007,
          2008,
          2009,
          2010,
          2011,
          2012,
          2013,
          2014,
          2015,
          2016,
          2017,
          2018,
          2019,
          2020
         ],
         "xaxis": "x",
         "y": [
          131.7289495,
          131.7381782,
          131.7477258,
          131.7574819,
          131.7678581,
          131.7778404,
          131.7879945,
          131.7981777,
          131.8084429,
          131.818214,
          131.8633916,
          131.8744196,
          131.8905491,
          207.3899035,
          207.4006275,
          203.9863859,
          214.9997401,
          219.4774627,
          184.0389646,
          166.0549864,
          177.6900852,
          198.3207636,
          236.143294,
          230.6788254,
          192.5137462,
          193.132559,
          199.5223091,
          210.7000096,
          219.2247995,
          225.1974918,
          237.9981292,
          246.460564,
          209.5591899,
          225.9040617,
          234.3990079,
          259.9938124,
          200.7886508,
          217.5820252,
          213.1534633,
          179.1727305,
          152.1751024,
          201.9638685,
          195.178081,
          200.7430954,
          190.0299398,
          200.9028723,
          130.3657075,
          180.6487384,
          102.8404813,
          122.9051693,
          161.5294973,
          160.8650044,
          170.0943497,
          169.72889,
          167.9627837,
          167.6533881,
          182.6176217,
          141.3207439,
          156.9037517,
          161.1004296,
          161.9657908,
          151.785309,
          150.1131588,
          166.5454721,
          164.3644806,
          151.795945,
          106.9196558,
          172.2923885,
          179.3734623,
          162.8019095,
          174.0364378
         ],
         "yaxis": "y"
        },
        {
         "alignmentgroup": "True",
         "hovertemplate": "variable=REGIÓN DE ARICA Y PARINACOTA<br>Años=%{x}<br>Uso de agua [m³/s]=%{y}<extra></extra>",
         "legendgroup": "REGIÓN DE ARICA Y PARINACOTA",
         "marker": {
          "color": "#FFA15A",
          "pattern": {
           "shape": ""
          }
         },
         "name": "REGIÓN DE ARICA Y PARINACOTA",
         "offsetgroup": "REGIÓN DE ARICA Y PARINACOTA",
         "orientation": "v",
         "showlegend": true,
         "textposition": "auto",
         "type": "bar",
         "x": [
          1950,
          1951,
          1952,
          1953,
          1954,
          1955,
          1956,
          1957,
          1958,
          1959,
          1960,
          1961,
          1962,
          1963,
          1964,
          1965,
          1966,
          1967,
          1968,
          1969,
          1970,
          1971,
          1972,
          1973,
          1974,
          1975,
          1976,
          1977,
          1978,
          1979,
          1980,
          1981,
          1982,
          1983,
          1984,
          1985,
          1986,
          1987,
          1988,
          1989,
          1990,
          1991,
          1992,
          1993,
          1994,
          1995,
          1996,
          1997,
          1998,
          1999,
          2000,
          2001,
          2002,
          2003,
          2004,
          2005,
          2006,
          2007,
          2008,
          2009,
          2010,
          2011,
          2012,
          2013,
          2014,
          2015,
          2016,
          2017,
          2018,
          2019,
          2020
         ],
         "xaxis": "x",
         "y": [
          0.1553922,
          0.1577271,
          0.1602669,
          0.1668987,
          0.1736256,
          0.1800724,
          0.1867343,
          0.1930941,
          0.199958,
          0.2066187,
          0.2155706,
          0.2251832,
          0.2351184,
          0.2447921,
          0.2544726,
          0.2637241,
          0.2736335,
          0.2828373,
          0.7323956,
          0.7423632,
          0.7519603,
          0.7635304,
          0.7749934,
          0.7890266,
          0.7977695,
          0.8046305,
          0.8165465,
          0.8291586,
          0.8418457,
          0.8557915,
          0.8697998,
          0.8802294,
          0.8864626,
          0.893283,
          0.8941617,
          0.8996095,
          0.9063314,
          0.9169667,
          0.9246392,
          0.9392423,
          0.94836336,
          0.95279137,
          0.9713011,
          0.96726873,
          0.97144,
          0.99567533,
          0.55218272,
          0.55979144,
          0.57528588,
          1.22570849,
          1.19480142,
          1.32425989,
          1.36621837,
          1.3293775,
          1.34888664,
          1.26778298,
          1.41306899,
          1.41544076,
          1.4259551,
          1.34012204,
          1.29843774,
          1.27736118,
          1.39643498,
          1.35801396,
          1.40222959,
          1.38452045,
          1.26580931,
          1.28601052,
          1.39968828,
          1.29555574,
          1.33817426
         ],
         "yaxis": "y"
        },
        {
         "alignmentgroup": "True",
         "hovertemplate": "variable=REGIÓN DE ÑUBLE<br>Años=%{x}<br>Uso de agua [m³/s]=%{y}<extra></extra>",
         "legendgroup": "REGIÓN DE ÑUBLE",
         "marker": {
          "color": "#19d3f3",
          "pattern": {
           "shape": ""
          }
         },
         "name": "REGIÓN DE ÑUBLE",
         "offsetgroup": "REGIÓN DE ÑUBLE",
         "orientation": "v",
         "showlegend": true,
         "textposition": "auto",
         "type": "bar",
         "x": [
          1950,
          1951,
          1952,
          1953,
          1954,
          1955,
          1956,
          1957,
          1958,
          1959,
          1960,
          1961,
          1962,
          1963,
          1964,
          1965,
          1966,
          1967,
          1968,
          1969,
          1970,
          1971,
          1972,
          1973,
          1974,
          1975,
          1976,
          1977,
          1978,
          1979,
          1980,
          1981,
          1982,
          1983,
          1984,
          1985,
          1986,
          1987,
          1988,
          1989,
          1990,
          1991,
          1992,
          1993,
          1994,
          1995,
          1996,
          1997,
          1998,
          1999,
          2000,
          2001,
          2002,
          2003,
          2004,
          2005,
          2006,
          2007,
          2008,
          2009,
          2010,
          2011,
          2012,
          2013,
          2014,
          2015,
          2016,
          2017,
          2018,
          2019,
          2020
         ],
         "xaxis": "x",
         "y": [
          0.7126579,
          0.7159201,
          0.7188723,
          0.7286408,
          0.7388183,
          0.7490819,
          0.7597515,
          0.769223,
          0.7796985,
          0.7901651,
          0.9034629,
          0.9249416,
          0.9623266,
          0.9771677,
          0.995865,
          1.0010415,
          1.0306806,
          1.0436089,
          1.0695095,
          1.1076989,
          1.1422777,
          1.1910501,
          1.2163489,
          1.4317446,
          1.4690736,
          1.114582,
          1.2246924,
          1.3111894,
          1.3890066,
          1.5176199,
          1.7058534,
          1.8676878,
          1.5676569,
          1.5292923,
          1.5774579,
          1.5055127,
          1.4613494,
          1.5380681,
          1.6386381,
          1.7328164,
          1.8341213,
          1.9816495,
          2.1810513,
          2.2860163,
          2.4565642,
          2.8560704,
          2.909916,
          3.0067741,
          2.793692,
          2.625286,
          2.6041619,
          2.4995514,
          2.726305,
          2.7457754,
          3.4236081,
          3.6379052,
          4.0852892,
          3.9164809,
          3.9758077,
          3.4278222,
          3.6948312,
          4.1804166,
          4.1357386,
          4.5770509,
          5.1669419,
          4.9454961,
          11.1793399,
          19.6926188,
          21.8637223,
          17.5309563,
          15.1670676
         ],
         "yaxis": "y"
        }
       ],
       "layout": {
        "barmode": "stack",
        "legend": {
         "title": {
          "text": "Regiones"
         },
         "tracegroupgap": 0
        },
        "template": {
         "data": {
          "bar": [
           {
            "error_x": {
             "color": "#2a3f5f"
            },
            "error_y": {
             "color": "#2a3f5f"
            },
            "marker": {
             "line": {
              "color": "#E5ECF6",
              "width": 0.5
             },
             "pattern": {
              "fillmode": "overlay",
              "size": 10,
              "solidity": 0.2
             }
            },
            "type": "bar"
           }
          ],
          "barpolar": [
           {
            "marker": {
             "line": {
              "color": "#E5ECF6",
              "width": 0.5
             },
             "pattern": {
              "fillmode": "overlay",
              "size": 10,
              "solidity": 0.2
             }
            },
            "type": "barpolar"
           }
          ],
          "carpet": [
           {
            "aaxis": {
             "endlinecolor": "#2a3f5f",
             "gridcolor": "white",
             "linecolor": "white",
             "minorgridcolor": "white",
             "startlinecolor": "#2a3f5f"
            },
            "baxis": {
             "endlinecolor": "#2a3f5f",
             "gridcolor": "white",
             "linecolor": "white",
             "minorgridcolor": "white",
             "startlinecolor": "#2a3f5f"
            },
            "type": "carpet"
           }
          ],
          "choropleth": [
           {
            "colorbar": {
             "outlinewidth": 0,
             "ticks": ""
            },
            "type": "choropleth"
           }
          ],
          "contour": [
           {
            "colorbar": {
             "outlinewidth": 0,
             "ticks": ""
            },
            "colorscale": [
             [
              0,
              "#0d0887"
             ],
             [
              0.1111111111111111,
              "#46039f"
             ],
             [
              0.2222222222222222,
              "#7201a8"
             ],
             [
              0.3333333333333333,
              "#9c179e"
             ],
             [
              0.4444444444444444,
              "#bd3786"
             ],
             [
              0.5555555555555556,
              "#d8576b"
             ],
             [
              0.6666666666666666,
              "#ed7953"
             ],
             [
              0.7777777777777778,
              "#fb9f3a"
             ],
             [
              0.8888888888888888,
              "#fdca26"
             ],
             [
              1,
              "#f0f921"
             ]
            ],
            "type": "contour"
           }
          ],
          "contourcarpet": [
           {
            "colorbar": {
             "outlinewidth": 0,
             "ticks": ""
            },
            "type": "contourcarpet"
           }
          ],
          "heatmap": [
           {
            "colorbar": {
             "outlinewidth": 0,
             "ticks": ""
            },
            "colorscale": [
             [
              0,
              "#0d0887"
             ],
             [
              0.1111111111111111,
              "#46039f"
             ],
             [
              0.2222222222222222,
              "#7201a8"
             ],
             [
              0.3333333333333333,
              "#9c179e"
             ],
             [
              0.4444444444444444,
              "#bd3786"
             ],
             [
              0.5555555555555556,
              "#d8576b"
             ],
             [
              0.6666666666666666,
              "#ed7953"
             ],
             [
              0.7777777777777778,
              "#fb9f3a"
             ],
             [
              0.8888888888888888,
              "#fdca26"
             ],
             [
              1,
              "#f0f921"
             ]
            ],
            "type": "heatmap"
           }
          ],
          "heatmapgl": [
           {
            "colorbar": {
             "outlinewidth": 0,
             "ticks": ""
            },
            "colorscale": [
             [
              0,
              "#0d0887"
             ],
             [
              0.1111111111111111,
              "#46039f"
             ],
             [
              0.2222222222222222,
              "#7201a8"
             ],
             [
              0.3333333333333333,
              "#9c179e"
             ],
             [
              0.4444444444444444,
              "#bd3786"
             ],
             [
              0.5555555555555556,
              "#d8576b"
             ],
             [
              0.6666666666666666,
              "#ed7953"
             ],
             [
              0.7777777777777778,
              "#fb9f3a"
             ],
             [
              0.8888888888888888,
              "#fdca26"
             ],
             [
              1,
              "#f0f921"
             ]
            ],
            "type": "heatmapgl"
           }
          ],
          "histogram": [
           {
            "marker": {
             "pattern": {
              "fillmode": "overlay",
              "size": 10,
              "solidity": 0.2
             }
            },
            "type": "histogram"
           }
          ],
          "histogram2d": [
           {
            "colorbar": {
             "outlinewidth": 0,
             "ticks": ""
            },
            "colorscale": [
             [
              0,
              "#0d0887"
             ],
             [
              0.1111111111111111,
              "#46039f"
             ],
             [
              0.2222222222222222,
              "#7201a8"
             ],
             [
              0.3333333333333333,
              "#9c179e"
             ],
             [
              0.4444444444444444,
              "#bd3786"
             ],
             [
              0.5555555555555556,
              "#d8576b"
             ],
             [
              0.6666666666666666,
              "#ed7953"
             ],
             [
              0.7777777777777778,
              "#fb9f3a"
             ],
             [
              0.8888888888888888,
              "#fdca26"
             ],
             [
              1,
              "#f0f921"
             ]
            ],
            "type": "histogram2d"
           }
          ],
          "histogram2dcontour": [
           {
            "colorbar": {
             "outlinewidth": 0,
             "ticks": ""
            },
            "colorscale": [
             [
              0,
              "#0d0887"
             ],
             [
              0.1111111111111111,
              "#46039f"
             ],
             [
              0.2222222222222222,
              "#7201a8"
             ],
             [
              0.3333333333333333,
              "#9c179e"
             ],
             [
              0.4444444444444444,
              "#bd3786"
             ],
             [
              0.5555555555555556,
              "#d8576b"
             ],
             [
              0.6666666666666666,
              "#ed7953"
             ],
             [
              0.7777777777777778,
              "#fb9f3a"
             ],
             [
              0.8888888888888888,
              "#fdca26"
             ],
             [
              1,
              "#f0f921"
             ]
            ],
            "type": "histogram2dcontour"
           }
          ],
          "mesh3d": [
           {
            "colorbar": {
             "outlinewidth": 0,
             "ticks": ""
            },
            "type": "mesh3d"
           }
          ],
          "parcoords": [
           {
            "line": {
             "colorbar": {
              "outlinewidth": 0,
              "ticks": ""
             }
            },
            "type": "parcoords"
           }
          ],
          "pie": [
           {
            "automargin": true,
            "type": "pie"
           }
          ],
          "scatter": [
           {
            "fillpattern": {
             "fillmode": "overlay",
             "size": 10,
             "solidity": 0.2
            },
            "type": "scatter"
           }
          ],
          "scatter3d": [
           {
            "line": {
             "colorbar": {
              "outlinewidth": 0,
              "ticks": ""
             }
            },
            "marker": {
             "colorbar": {
              "outlinewidth": 0,
              "ticks": ""
             }
            },
            "type": "scatter3d"
           }
          ],
          "scattercarpet": [
           {
            "marker": {
             "colorbar": {
              "outlinewidth": 0,
              "ticks": ""
             }
            },
            "type": "scattercarpet"
           }
          ],
          "scattergeo": [
           {
            "marker": {
             "colorbar": {
              "outlinewidth": 0,
              "ticks": ""
             }
            },
            "type": "scattergeo"
           }
          ],
          "scattergl": [
           {
            "marker": {
             "colorbar": {
              "outlinewidth": 0,
              "ticks": ""
             }
            },
            "type": "scattergl"
           }
          ],
          "scattermapbox": [
           {
            "marker": {
             "colorbar": {
              "outlinewidth": 0,
              "ticks": ""
             }
            },
            "type": "scattermapbox"
           }
          ],
          "scatterpolar": [
           {
            "marker": {
             "colorbar": {
              "outlinewidth": 0,
              "ticks": ""
             }
            },
            "type": "scatterpolar"
           }
          ],
          "scatterpolargl": [
           {
            "marker": {
             "colorbar": {
              "outlinewidth": 0,
              "ticks": ""
             }
            },
            "type": "scatterpolargl"
           }
          ],
          "scatterternary": [
           {
            "marker": {
             "colorbar": {
              "outlinewidth": 0,
              "ticks": ""
             }
            },
            "type": "scatterternary"
           }
          ],
          "surface": [
           {
            "colorbar": {
             "outlinewidth": 0,
             "ticks": ""
            },
            "colorscale": [
             [
              0,
              "#0d0887"
             ],
             [
              0.1111111111111111,
              "#46039f"
             ],
             [
              0.2222222222222222,
              "#7201a8"
             ],
             [
              0.3333333333333333,
              "#9c179e"
             ],
             [
              0.4444444444444444,
              "#bd3786"
             ],
             [
              0.5555555555555556,
              "#d8576b"
             ],
             [
              0.6666666666666666,
              "#ed7953"
             ],
             [
              0.7777777777777778,
              "#fb9f3a"
             ],
             [
              0.8888888888888888,
              "#fdca26"
             ],
             [
              1,
              "#f0f921"
             ]
            ],
            "type": "surface"
           }
          ],
          "table": [
           {
            "cells": {
             "fill": {
              "color": "#EBF0F8"
             },
             "line": {
              "color": "white"
             }
            },
            "header": {
             "fill": {
              "color": "#C8D4E3"
             },
             "line": {
              "color": "white"
             }
            },
            "type": "table"
           }
          ]
         },
         "layout": {
          "annotationdefaults": {
           "arrowcolor": "#2a3f5f",
           "arrowhead": 0,
           "arrowwidth": 1
          },
          "autotypenumbers": "strict",
          "coloraxis": {
           "colorbar": {
            "outlinewidth": 0,
            "ticks": ""
           }
          },
          "colorscale": {
           "diverging": [
            [
             0,
             "#8e0152"
            ],
            [
             0.1,
             "#c51b7d"
            ],
            [
             0.2,
             "#de77ae"
            ],
            [
             0.3,
             "#f1b6da"
            ],
            [
             0.4,
             "#fde0ef"
            ],
            [
             0.5,
             "#f7f7f7"
            ],
            [
             0.6,
             "#e6f5d0"
            ],
            [
             0.7,
             "#b8e186"
            ],
            [
             0.8,
             "#7fbc41"
            ],
            [
             0.9,
             "#4d9221"
            ],
            [
             1,
             "#276419"
            ]
           ],
           "sequential": [
            [
             0,
             "#0d0887"
            ],
            [
             0.1111111111111111,
             "#46039f"
            ],
            [
             0.2222222222222222,
             "#7201a8"
            ],
            [
             0.3333333333333333,
             "#9c179e"
            ],
            [
             0.4444444444444444,
             "#bd3786"
            ],
            [
             0.5555555555555556,
             "#d8576b"
            ],
            [
             0.6666666666666666,
             "#ed7953"
            ],
            [
             0.7777777777777778,
             "#fb9f3a"
            ],
            [
             0.8888888888888888,
             "#fdca26"
            ],
            [
             1,
             "#f0f921"
            ]
           ],
           "sequentialminus": [
            [
             0,
             "#0d0887"
            ],
            [
             0.1111111111111111,
             "#46039f"
            ],
            [
             0.2222222222222222,
             "#7201a8"
            ],
            [
             0.3333333333333333,
             "#9c179e"
            ],
            [
             0.4444444444444444,
             "#bd3786"
            ],
            [
             0.5555555555555556,
             "#d8576b"
            ],
            [
             0.6666666666666666,
             "#ed7953"
            ],
            [
             0.7777777777777778,
             "#fb9f3a"
            ],
            [
             0.8888888888888888,
             "#fdca26"
            ],
            [
             1,
             "#f0f921"
            ]
           ]
          },
          "colorway": [
           "#636efa",
           "#EF553B",
           "#00cc96",
           "#ab63fa",
           "#FFA15A",
           "#19d3f3",
           "#FF6692",
           "#B6E880",
           "#FF97FF",
           "#FECB52"
          ],
          "font": {
           "color": "#2a3f5f"
          },
          "geo": {
           "bgcolor": "white",
           "lakecolor": "white",
           "landcolor": "#E5ECF6",
           "showlakes": true,
           "showland": true,
           "subunitcolor": "white"
          },
          "hoverlabel": {
           "align": "left"
          },
          "hovermode": "closest",
          "mapbox": {
           "style": "light"
          },
          "paper_bgcolor": "white",
          "plot_bgcolor": "#E5ECF6",
          "polar": {
           "angularaxis": {
            "gridcolor": "white",
            "linecolor": "white",
            "ticks": ""
           },
           "bgcolor": "#E5ECF6",
           "radialaxis": {
            "gridcolor": "white",
            "linecolor": "white",
            "ticks": ""
           }
          },
          "scene": {
           "xaxis": {
            "backgroundcolor": "#E5ECF6",
            "gridcolor": "white",
            "gridwidth": 2,
            "linecolor": "white",
            "showbackground": true,
            "ticks": "",
            "zerolinecolor": "white"
           },
           "yaxis": {
            "backgroundcolor": "#E5ECF6",
            "gridcolor": "white",
            "gridwidth": 2,
            "linecolor": "white",
            "showbackground": true,
            "ticks": "",
            "zerolinecolor": "white"
           },
           "zaxis": {
            "backgroundcolor": "#E5ECF6",
            "gridcolor": "white",
            "gridwidth": 2,
            "linecolor": "white",
            "showbackground": true,
            "ticks": "",
            "zerolinecolor": "white"
           }
          },
          "shapedefaults": {
           "line": {
            "color": "#2a3f5f"
           }
          },
          "ternary": {
           "aaxis": {
            "gridcolor": "white",
            "linecolor": "white",
            "ticks": ""
           },
           "baxis": {
            "gridcolor": "white",
            "linecolor": "white",
            "ticks": ""
           },
           "bgcolor": "#E5ECF6",
           "caxis": {
            "gridcolor": "white",
            "linecolor": "white",
            "ticks": ""
           }
          },
          "title": {
           "x": 0.05
          },
          "xaxis": {
           "automargin": true,
           "gridcolor": "white",
           "linecolor": "white",
           "ticks": "",
           "title": {
            "standoff": 15
           },
           "zerolinecolor": "white",
           "zerolinewidth": 2
          },
          "yaxis": {
           "automargin": true,
           "gridcolor": "white",
           "linecolor": "white",
           "ticks": "",
           "title": {
            "standoff": 15
           },
           "zerolinecolor": "white",
           "zerolinewidth": 2
          }
         }
        },
        "title": {
         "text": "Uso de agua no relacionado con la tierra en CHile"
        },
        "xaxis": {
         "anchor": "y",
         "domain": [
          0,
          1
         ],
         "title": {
          "text": "Años"
         }
        },
        "yaxis": {
         "anchor": "x",
         "domain": [
          0,
          1
         ],
         "title": {
          "text": "Uso de agua [m³/s]"
         }
        }
       }
      },
      "text/html": [
       "<div>                            <div id=\"ddb49834-0a21-4f4e-aebd-14abfd4f201e\" class=\"plotly-graph-div\" style=\"height:525px; width:100%;\"></div>            <script type=\"text/javascript\">                require([\"plotly\"], function(Plotly) {                    window.PLOTLYENV=window.PLOTLYENV || {};                                    if (document.getElementById(\"ddb49834-0a21-4f4e-aebd-14abfd4f201e\")) {                    Plotly.newPlot(                        \"ddb49834-0a21-4f4e-aebd-14abfd4f201e\",                        [{\"alignmentgroup\":\"True\",\"hovertemplate\":\"variable=REGI\\u00d3N DE TARAPAC\\u00c1<br>A\\u00f1os=%{x}<br>Uso de agua [m\\u00b3/s]=%{y}<extra></extra>\",\"legendgroup\":\"REGI\\u00d3N DE TARAPAC\\u00c1\",\"marker\":{\"color\":\"#636efa\",\"pattern\":{\"shape\":\"\"}},\"name\":\"REGI\\u00d3N DE TARAPAC\\u00c1\",\"offsetgroup\":\"REGI\\u00d3N DE TARAPAC\\u00c1\",\"orientation\":\"v\",\"showlegend\":true,\"textposition\":\"auto\",\"x\":[1950,1951,1952,1953,1954,1955,1956,1957,1958,1959,1960,1961,1962,1963,1964,1965,1966,1967,1968,1969,1970,1971,1972,1973,1974,1975,1976,1977,1978,1979,1980,1981,1982,1983,1984,1985,1986,1987,1988,1989,1990,1991,1992,1993,1994,1995,1996,1997,1998,1999,2000,2001,2002,2003,2004,2005,2006,2007,2008,2009,2010,2011,2012,2013,2014,2015,2016,2017,2018,2019,2020],\"xaxis\":\"x\",\"y\":[0.1748593,0.17269612,0.17094226,0.17481892,0.17884553,0.18333839,0.18712071,0.19133931,0.19545048,0.19937056,0.2070483,0.21099686,0.21512732,0.21884783,0.22235757,0.22605018,0.23020611,0.23361971,0.23728247,0.24181132,0.24592259,0.25717697,0.26907071,0.285247,0.29226436,0.29770512,0.30989948,0.32283969,0.33563648,0.35050595,0.36610617,0.37938021,0.38100628,0.39226349,0.40378109,0.79053648,0.86330654,0.74682744,0.67601079,0.74346924,0.7031222,0.70665664,0.65134593,0.60894571,0.68270616,0.73030751,0.76391233,0.86378397,1.03870437,2.46299152,2.50002965,2.27601301,2.26154537,2.12492557,2.27526997,2.29092795,2.92695891,3.19427331,3.2357957,3.42284865,3.48030742,3.41644786,2.93722658,3.34170342,3.47017972,3.57242949,3.17875707,3.21342409,2.87582069,3.490103,3.08998199],\"yaxis\":\"y\",\"type\":\"bar\"},{\"alignmentgroup\":\"True\",\"hovertemplate\":\"variable=REGI\\u00d3N DE ANTOFAGASTA<br>A\\u00f1os=%{x}<br>Uso de agua [m\\u00b3/s]=%{y}<extra></extra>\",\"legendgroup\":\"REGI\\u00d3N DE ANTOFAGASTA\",\"marker\":{\"color\":\"#EF553B\",\"pattern\":{\"shape\":\"\"}},\"name\":\"REGI\\u00d3N DE ANTOFAGASTA\",\"offsetgroup\":\"REGI\\u00d3N DE ANTOFAGASTA\",\"orientation\":\"v\",\"showlegend\":true,\"textposition\":\"auto\",\"x\":[1950,1951,1952,1953,1954,1955,1956,1957,1958,1959,1960,1961,1962,1963,1964,1965,1966,1967,1968,1969,1970,1971,1972,1973,1974,1975,1976,1977,1978,1979,1980,1981,1982,1983,1984,1985,1986,1987,1988,1989,1990,1991,1992,1993,1994,1995,1996,1997,1998,1999,2000,2001,2002,2003,2004,2005,2006,2007,2008,2009,2010,2011,2012,2013,2014,2015,2016,2017,2018,2019,2020],\"xaxis\":\"x\",\"y\":[0.6237457,0.64700972,0.67733327,0.65578573,0.66851107,0.72498835,0.77222877,0.77670275,0.77821013,0.78799406,0.90330607,0.96613734,1.04924165,1.07044578,1.11293997,1.07536291,1.17926715,1.16071427,1.20094863,1.2524364,1.27041408,1.3511282,1.35689677,1.63698087,1.80357914,1.35483776,1.66659198,1.80905695,1.9405645,2.09736895,2.30702385,2.44225783,2.27030704,2.22527642,2.30207811,2.26295542,2.17079498,2.27611882,2.81454958,3.11039568,3.21736518,3.79433003,4.24888473,4.45049043,4.99276365,5.54973062,5.92705072,6.573863,6.7402286,13.91744839,13.11459015,12.43156317,13.04496952,14.3056371,16.83241007,17.37034802,18.15161146,21.00781668,21.81171251,20.92962805,21.40518772,22.96459252,27.07258749,28.49305014,28.0286035,28.40194816,28.88934479,27.57832903,27.95094958,28.38053512,29.14181908],\"yaxis\":\"y\",\"type\":\"bar\"},{\"alignmentgroup\":\"True\",\"hovertemplate\":\"variable=REGI\\u00d3N DE ATACAMA<br>A\\u00f1os=%{x}<br>Uso de agua [m\\u00b3/s]=%{y}<extra></extra>\",\"legendgroup\":\"REGI\\u00d3N DE ATACAMA\",\"marker\":{\"color\":\"#00cc96\",\"pattern\":{\"shape\":\"\"}},\"name\":\"REGI\\u00d3N DE ATACAMA\",\"offsetgroup\":\"REGI\\u00d3N DE ATACAMA\",\"orientation\":\"v\",\"showlegend\":true,\"textposition\":\"auto\",\"x\":[1950,1951,1952,1953,1954,1955,1956,1957,1958,1959,1960,1961,1962,1963,1964,1965,1966,1967,1968,1969,1970,1971,1972,1973,1974,1975,1976,1977,1978,1979,1980,1981,1982,1983,1984,1985,1986,1987,1988,1989,1990,1991,1992,1993,1994,1995,1996,1997,1998,1999,2000,2001,2002,2003,2004,2005,2006,2007,2008,2009,2010,2011,2012,2013,2014,2015,2016,2017,2018,2019,2020],\"xaxis\":\"x\",\"y\":[0.29119865,0.29316952,0.29689879,0.303133,0.31596473,0.3371857,0.35693702,0.36767413,0.37852064,0.4816685,0.49870434,0.50293203,0.5280787,0.5567926,0.54722065,0.57560892,0.56843866,0.62272655,0.6424512,0.65762716,0.68343703,0.67290881,0.66995925,0.71935173,0.71947574,0.70724023,0.73576461,0.75435783,0.78477879,0.80812608,0.84012528,0.87922319,0.88709298,0.961142,0.96678247,1.09747465,1.13797623,1.16275545,1.28335076,1.45296658,1.72011105,1.75732376,1.99264557,2.22822919,2.28580338,2.83764979,4.47609362,4.81935161,5.41483804,5.32093805,4.76664317,4.80947447,4.80207135,5.07095853,5.14794979,4.9566962,5.55426299,5.70122986,5.6707248,6.33020218,7.47483852,7.89744162,7.63163431,8.69874691,8.59299666,8.18988879,10.8940275,12.7646893,12.39691875,10.69707519,9.64793845],\"yaxis\":\"y\",\"type\":\"bar\"},{\"alignmentgroup\":\"True\",\"hovertemplate\":\"variable=REGI\\u00d3N DE COQUIMBO<br>A\\u00f1os=%{x}<br>Uso de agua [m\\u00b3/s]=%{y}<extra></extra>\",\"legendgroup\":\"REGI\\u00d3N DE COQUIMBO\",\"marker\":{\"color\":\"#ab63fa\",\"pattern\":{\"shape\":\"\"}},\"name\":\"REGI\\u00d3N DE COQUIMBO\",\"offsetgroup\":\"REGI\\u00d3N DE COQUIMBO\",\"orientation\":\"v\",\"showlegend\":true,\"textposition\":\"auto\",\"x\":[1950,1951,1952,1953,1954,1955,1956,1957,1958,1959,1960,1961,1962,1963,1964,1965,1966,1967,1968,1969,1970,1971,1972,1973,1974,1975,1976,1977,1978,1979,1980,1981,1982,1983,1984,1985,1986,1987,1988,1989,1990,1991,1992,1993,1994,1995,1996,1997,1998,1999,2000,2001,2002,2003,2004,2005,2006,2007,2008,2009,2010,2011,2012,2013,2014,2015,2016,2017,2018,2019,2020],\"xaxis\":\"x\",\"y\":[1.00006674,1.00533675,1.01109856,1.63172261,1.64714642,1.66801416,1.68759543,1.70170414,1.71520067,1.72961021,1.75223418,1.76209106,1.77354947,1.79007279,1.79405035,1.81641993,1.81103923,2.55731306,2.56491914,2.58324732,2.58930984,2.60157172,2.61443237,2.66006249,2.66963343,2.67294207,2.70179434,2.72901845,2.74637345,2.79096388,2.81065347,2.85578792,2.82072525,2.88297176,2.87680447,3.40096074,3.39748823,3.33233964,3.46876085,3.45760198,3.57683878,3.47433629,3.54648041,3.4771514,3.58998605,3.81128988,3.63640384,3.87282451,4.34368742,3.97249096,4.8141758,4.63050849,4.68235345,4.71369107,4.27140223,4.51570965,4.79459286,4.76344338,11.50481376,13.25194772,9.78953222,8.16822429,5.49757492,5.22310171,5.48391727,6.11041771,9.9909104,15.0120376,10.83507331,9.33736311,7.94506639],\"yaxis\":\"y\",\"type\":\"bar\"},{\"alignmentgroup\":\"True\",\"hovertemplate\":\"variable=REGI\\u00d3N DE VALPARA\\u00cdSO<br>A\\u00f1os=%{x}<br>Uso de agua [m\\u00b3/s]=%{y}<extra></extra>\",\"legendgroup\":\"REGI\\u00d3N DE VALPARA\\u00cdSO\",\"marker\":{\"color\":\"#FFA15A\",\"pattern\":{\"shape\":\"\"}},\"name\":\"REGI\\u00d3N DE VALPARA\\u00cdSO\",\"offsetgroup\":\"REGI\\u00d3N DE VALPARA\\u00cdSO\",\"orientation\":\"v\",\"showlegend\":true,\"textposition\":\"auto\",\"x\":[1950,1951,1952,1953,1954,1955,1956,1957,1958,1959,1960,1961,1962,1963,1964,1965,1966,1967,1968,1969,1970,1971,1972,1973,1974,1975,1976,1977,1978,1979,1980,1981,1982,1983,1984,1985,1986,1987,1988,1989,1990,1991,1992,1993,1994,1995,1996,1997,1998,1999,2000,2001,2002,2003,2004,2005,2006,2007,2008,2009,2010,2011,2012,2013,2014,2015,2016,2017,2018,2019,2020],\"xaxis\":\"x\",\"y\":[31.01283628,31.03562858,31.05893295,31.10684367,31.15770474,31.2100248,31.26201453,31.31300302,31.36254903,31.41299135,31.48792983,31.5355647,31.58445021,31.63342376,31.67836834,31.97341365,32.96545917,33.40543064,30.41507466,28.91576872,29.96845056,31.87274762,35.19194055,34.81366249,31.58146323,31.72636792,32.34258784,33.38385337,35.31307129,35.91315499,37.12314513,37.92679809,34.74151287,36.22643698,37.05849045,39.77254454,34.8163189,36.28617934,37.15739613,36.27687719,35.62221542,38.06695605,36.7666782,38.16975199,38.37080653,49.4378331,34.53097012,41.93141292,42.79359963,41.38516641,45.917188,44.39405428,55.66948257,66.06440017,61.99037994,65.40749648,69.02406775,69.18460799,75.69186361,71.49360814,64.8757597,58.55948944,64.34007654,60.38805781,53.71362263,50.70470987,62.16703828,54.93615684,48.20823932,45.14165057,47.91913348],\"yaxis\":\"y\",\"type\":\"bar\"},{\"alignmentgroup\":\"True\",\"hovertemplate\":\"variable=REGI\\u00d3N DEL LIBERTADOR GENERAL BERNARDO O'HIGGINS<br>A\\u00f1os=%{x}<br>Uso de agua [m\\u00b3/s]=%{y}<extra></extra>\",\"legendgroup\":\"REGI\\u00d3N DEL LIBERTADOR GENERAL BERNARDO O'HIGGINS\",\"marker\":{\"color\":\"#19d3f3\",\"pattern\":{\"shape\":\"\"}},\"name\":\"REGI\\u00d3N DEL LIBERTADOR GENERAL BERNARDO O'HIGGINS\",\"offsetgroup\":\"REGI\\u00d3N DEL LIBERTADOR GENERAL BERNARDO O'HIGGINS\",\"orientation\":\"v\",\"showlegend\":true,\"textposition\":\"auto\",\"x\":[1950,1951,1952,1953,1954,1955,1956,1957,1958,1959,1960,1961,1962,1963,1964,1965,1966,1967,1968,1969,1970,1971,1972,1973,1974,1975,1976,1977,1978,1979,1980,1981,1982,1983,1984,1985,1986,1987,1988,1989,1990,1991,1992,1993,1994,1995,1996,1997,1998,1999,2000,2001,2002,2003,2004,2005,2006,2007,2008,2009,2010,2011,2012,2013,2014,2015,2016,2017,2018,2019,2020],\"xaxis\":\"x\",\"y\":[67.4108966,67.43020099,67.46565166,67.46420414,67.48850297,67.54739637,67.60046103,67.61731509,67.63327746,67.65554024,104.20027688,104.21303367,104.23440889,104.25199194,104.29889813,103.2134651,106.73987192,108.26091524,98.66092508,444.80505136,474.58408379,522.33418293,595.13557624,597.99116069,501.32728271,507.0984636,526.90691004,542.34863367,561.17103772,584.80245952,602.64778134,638.09442109,528.3454197,586.66964957,597.38889235,675.06373569,520.17735372,556.05069179,560.40198453,475.79451783,411.96358632,526.91540477,505.62271767,524.5088782,490.67272536,517.717321,258.80271381,678.24748871,313.00803119,355.49046718,581.79997809,647.61381135,729.93144683,503.56339429,439.91824312,670.16560931,683.55455071,327.14936989,543.50841209,423.36983822,312.1781554,251.62940359,403.23617436,320.08816818,361.24872621,408.26425112,481.86349821,431.33268754,298.14020203,193.57163467,302.41550303],\"yaxis\":\"y\",\"type\":\"bar\"},{\"alignmentgroup\":\"True\",\"hovertemplate\":\"variable=REGI\\u00d3N DEL MAULE<br>A\\u00f1os=%{x}<br>Uso de agua [m\\u00b3/s]=%{y}<extra></extra>\",\"legendgroup\":\"REGI\\u00d3N DEL MAULE\",\"marker\":{\"color\":\"#FF6692\",\"pattern\":{\"shape\":\"\"}},\"name\":\"REGI\\u00d3N DEL MAULE\",\"offsetgroup\":\"REGI\\u00d3N DEL MAULE\",\"orientation\":\"v\",\"showlegend\":true,\"textposition\":\"auto\",\"x\":[1950,1951,1952,1953,1954,1955,1956,1957,1958,1959,1960,1961,1962,1963,1964,1965,1966,1967,1968,1969,1970,1971,1972,1973,1974,1975,1976,1977,1978,1979,1980,1981,1982,1983,1984,1985,1986,1987,1988,1989,1990,1991,1992,1993,1994,1995,1996,1997,1998,1999,2000,2001,2002,2003,2004,2005,2006,2007,2008,2009,2010,2011,2012,2013,2014,2015,2016,2017,2018,2019,2020],\"xaxis\":\"x\",\"y\":[2.4480777,2.4574309,2.4689071,2.4949943,2.5701085,2.5967666,13.4926959,13.5196332,13.5453534,13.5721966,13.6478364,13.6399935,13.7703745,13.7099734,95.5922096,93.956737,98.9190165,101.0416239,85.382941,77.2581926,82.5115213,91.7692802,108.5346632,106.3293959,89.2260248,89.3802101,92.3845639,97.334729,101.1411557,103.8763309,109.6745116,113.6094894,96.8263537,104.3280923,108.0617192,120.9351293,489.7818543,535.59687,532.2296738,450.2161331,382.7091489,496.4784857,684.4314639,707.6169849,741.7579258,781.0495694,586.1645111,815.8638382,667.5994468,575.8825426,826.502558,1038.2782391,992.8176889,913.6629367,809.0925833,1036.0790749,1128.4139804,870.1970596,936.7619737,895.6999741,703.8051526,760.3119053,680.0214328,641.7118854,798.4090688,796.3458351,608.4687927,649.6566561,777.8580143,602.3626588,672.1561032],\"yaxis\":\"y\",\"type\":\"bar\"},{\"alignmentgroup\":\"True\",\"hovertemplate\":\"variable=REGI\\u00d3N DEL BIOB\\u00cdO<br>A\\u00f1os=%{x}<br>Uso de agua [m\\u00b3/s]=%{y}<extra></extra>\",\"legendgroup\":\"REGI\\u00d3N DEL BIOB\\u00cdO\",\"marker\":{\"color\":\"#B6E880\",\"pattern\":{\"shape\":\"\"}},\"name\":\"REGI\\u00d3N DEL BIOB\\u00cdO\",\"offsetgroup\":\"REGI\\u00d3N DEL BIOB\\u00cdO\",\"orientation\":\"v\",\"showlegend\":true,\"textposition\":\"auto\",\"x\":[1950,1951,1952,1953,1954,1955,1956,1957,1958,1959,1960,1961,1962,1963,1964,1965,1966,1967,1968,1969,1970,1971,1972,1973,1974,1975,1976,1977,1978,1979,1980,1981,1982,1983,1984,1985,1986,1987,1988,1989,1990,1991,1992,1993,1994,1995,1996,1997,1998,1999,2000,2001,2002,2003,2004,2005,2006,2007,2008,2009,2010,2011,2012,2013,2014,2015,2016,2017,2018,2019,2020],\"xaxis\":\"x\",\"y\":[37.8469187,37.8738606,37.9007103,37.9542378,38.0082534,38.0614629,38.1155624,38.1699819,38.2230914,38.2779099,38.6993315,38.7888481,38.9301231,38.9939844,39.073388,38.5026222,40.5533003,41.3952259,35.2321774,32.2038373,34.3812746,38.7685551,45.5244969,45.3057289,78.4414579,77.4639956,80.2927192,84.8696647,88.4042278,91.1378427,96.6890292,100.4950518,218.1902009,234.7403034,243.5795132,269.5380555,208.9506208,226.28747,222.4616823,188.7441849,162.0406536,212.7293319,206.1408059,212.444633,202.3923998,215.0806788,270.9077544,445.2613007,278.5599676,358.0721522,503.4040062,512.325593,596.5720212,579.1380538,628.2056001,822.8727292,892.879715,712.4769539,796.7533929,915.7851384,762.4376711,783.484012,666.9399904,644.3628801,1137.5588161,1148.0604212,670.353037,993.4215681,1115.1333306,1076.7064332,885.7770743],\"yaxis\":\"y\",\"type\":\"bar\"},{\"alignmentgroup\":\"True\",\"hovertemplate\":\"variable=REGI\\u00d3N DE LA ARAUCAN\\u00cdA<br>A\\u00f1os=%{x}<br>Uso de agua [m\\u00b3/s]=%{y}<extra></extra>\",\"legendgroup\":\"REGI\\u00d3N DE LA ARAUCAN\\u00cdA\",\"marker\":{\"color\":\"#FF97FF\",\"pattern\":{\"shape\":\"\"}},\"name\":\"REGI\\u00d3N DE LA ARAUCAN\\u00cdA\",\"offsetgroup\":\"REGI\\u00d3N DE LA ARAUCAN\\u00cdA\",\"orientation\":\"v\",\"showlegend\":true,\"textposition\":\"auto\",\"x\":[1950,1951,1952,1953,1954,1955,1956,1957,1958,1959,1960,1961,1962,1963,1964,1965,1966,1967,1968,1969,1970,1971,1972,1973,1974,1975,1976,1977,1978,1979,1980,1981,1982,1983,1984,1985,1986,1987,1988,1989,1990,1991,1992,1993,1994,1995,1996,1997,1998,1999,2000,2001,2002,2003,2004,2005,2006,2007,2008,2009,2010,2011,2012,2013,2014,2015,2016,2017,2018,2019,2020],\"xaxis\":\"x\",\"y\":[1.4425533,1.4458445,1.4483207,1.4646116,1.4805064,1.4962136,1.5121863,1.5282723,1.5446573,1.5606583,1.6116026,1.6293411,1.6506219,1.6661082,1.6815453,1.692936,1.713983,1.7287954,1.7481562,1.7722759,1.7942166,1.8303463,1.8595671,1.9495168,1.973206,1.8835822,1.9377054,1.9870753,2.0329329,2.0985699,2.1796394,2.2498227,2.169699,2.1805602,2.2142561,2.2161126,2.2244489,2.2749254,2.3274718,2.381594,2.435035,2.5056301,2.5924994,2.6521866,2.7322732,2.8881184,2.8808765,2.9221438,2.9190332,2.9181529,2.9989153,2.9520923,2.9343753,2.9708672,3.150833,3.1884093,3.296406,3.4406283,3.5744142,4.6160213,7.3289439,8.0842474,7.8317782,7.8904786,8.3917983,14.5243451,16.0267267,21.271139,21.3968743,20.0361352,16.1590029],\"yaxis\":\"y\",\"type\":\"bar\"},{\"alignmentgroup\":\"True\",\"hovertemplate\":\"variable=REGI\\u00d3N DE LOS LAGOS<br>A\\u00f1os=%{x}<br>Uso de agua [m\\u00b3/s]=%{y}<extra></extra>\",\"legendgroup\":\"REGI\\u00d3N DE LOS LAGOS\",\"marker\":{\"color\":\"#FECB52\",\"pattern\":{\"shape\":\"\"}},\"name\":\"REGI\\u00d3N DE LOS LAGOS\",\"offsetgroup\":\"REGI\\u00d3N DE LOS LAGOS\",\"orientation\":\"v\",\"showlegend\":true,\"textposition\":\"auto\",\"x\":[1950,1951,1952,1953,1954,1955,1956,1957,1958,1959,1960,1961,1962,1963,1964,1965,1966,1967,1968,1969,1970,1971,1972,1973,1974,1975,1976,1977,1978,1979,1980,1981,1982,1983,1984,1985,1986,1987,1988,1989,1990,1991,1992,1993,1994,1995,1996,1997,1998,1999,2000,2001,2002,2003,2004,2005,2006,2007,2008,2009,2010,2011,2012,2013,2014,2015,2016,2017,2018,2019,2020],\"xaxis\":\"x\",\"y\":[0.954397,0.966143,0.978049,0.995566,1.013157,1.031371,1.049685,1.06699,1.084693,1.102497,1.1492154,1.1708052,1.1965793,1.2166586,1.2370407,1.2551739,1.2788215,1.2980016,1.3199088,1.3469402,1.3716453,1.3993344,1.4227514,1.4952965,1.5130222,1.4405161,1.4831353,1.5273548,1.5701076,1.62752,1.6976519,1.7595631,1.6990404,1.7143199,1.7503154,1.7584079,1.7749283,1.8211656,1.8717637,1.9222909,1.9734924,495.4589218,517.4785367,525.1264343,386.3506334,414.7768095,405.4747507,373.1249989,521.4264977,223.3948554,336.0197112,343.3680494,354.8402052,393.7748751,459.4455952,358.8303642,388.5364496,547.4663808,401.105488,481.6761971,593.9354331,386.5434614,540.5670764,597.1980618,588.4312638,517.5948956,404.5408671,570.4855219,633.8626347,400.1772073,583.2115456],\"yaxis\":\"y\",\"type\":\"bar\"},{\"alignmentgroup\":\"True\",\"hovertemplate\":\"variable=REGI\\u00d3N DE AYS\\u00c9N DEL GENERAL CARLOS IB\\u00c1\\u00d1EZ DEL CAMPO<br>A\\u00f1os=%{x}<br>Uso de agua [m\\u00b3/s]=%{y}<extra></extra>\",\"legendgroup\":\"REGI\\u00d3N DE AYS\\u00c9N DEL GENERAL CARLOS IB\\u00c1\\u00d1EZ DEL CAMPO\",\"marker\":{\"color\":\"#636efa\",\"pattern\":{\"shape\":\"\"}},\"name\":\"REGI\\u00d3N DE AYS\\u00c9N DEL GENERAL CARLOS IB\\u00c1\\u00d1EZ DEL CAMPO\",\"offsetgroup\":\"REGI\\u00d3N DE AYS\\u00c9N DEL GENERAL CARLOS IB\\u00c1\\u00d1EZ DEL CAMPO\",\"orientation\":\"v\",\"showlegend\":true,\"textposition\":\"auto\",\"x\":[1950,1951,1952,1953,1954,1955,1956,1957,1958,1959,1960,1961,1962,1963,1964,1965,1966,1967,1968,1969,1970,1971,1972,1973,1974,1975,1976,1977,1978,1979,1980,1981,1982,1983,1984,1985,1986,1987,1988,1989,1990,1991,1992,1993,1994,1995,1996,1997,1998,1999,2000,2001,2002,2003,2004,2005,2006,2007,2008,2009,2010,2011,2012,2013,2014,2015,2016,2017,2018,2019,2020],\"xaxis\":\"x\",\"y\":[0.1236738,0.1267884,0.1292073,0.1332337,0.1371689,0.1417039,0.1456312,0.1500606,0.1541898,0.1583172,0.1649809,0.1687092,0.1731563,0.1773842,0.1816021,0.1851619,0.1904375,0.1955963,0.2006224,0.2057634,0.2111267,0.2169661,0.223164,0.2325562,0.2373658,0.2349857,0.2424853,0.2463064,0.2504572,0.2553647,0.2614582,0.2665375,0.2621626,0.2628542,0.2655628,0.2759326,0.2707488,0.2791376,0.2821497,0.2864275,0.2935748,0.3011021,0.3077948,0.3401082,0.3466637,0.3565456,0.390815,0.4021658,0.3858219,0.3936503,0.3819048,0.3653438,0.4382663,0.4730561,0.5144797,0.5549695,0.5213158,0.5276167,14.4209763,15.4689636,15.420914,15.3508403,14.7321116,13.6352365,14.549809,12.1987029,8.8601596,15.6403525,15.3751447,3.7209625,0.458186],\"yaxis\":\"y\",\"type\":\"bar\"},{\"alignmentgroup\":\"True\",\"hovertemplate\":\"variable=REGI\\u00d3N DE MAGALLANES Y DE LA ANT\\u00c1RTICA CHILENA<br>A\\u00f1os=%{x}<br>Uso de agua [m\\u00b3/s]=%{y}<extra></extra>\",\"legendgroup\":\"REGI\\u00d3N DE MAGALLANES Y DE LA ANT\\u00c1RTICA CHILENA\",\"marker\":{\"color\":\"#EF553B\",\"pattern\":{\"shape\":\"\"}},\"name\":\"REGI\\u00d3N DE MAGALLANES Y DE LA ANT\\u00c1RTICA CHILENA\",\"offsetgroup\":\"REGI\\u00d3N DE MAGALLANES Y DE LA ANT\\u00c1RTICA CHILENA\",\"orientation\":\"v\",\"showlegend\":true,\"textposition\":\"auto\",\"x\":[1950,1951,1952,1953,1954,1955,1956,1957,1958,1959,1960,1961,1962,1963,1964,1965,1966,1967,1968,1969,1970,1971,1972,1973,1974,1975,1976,1977,1978,1979,1980,1981,1982,1983,1984,1985,1986,1987,1988,1989,1990,1991,1992,1993,1994,1995,1996,1997,1998,1999,2000,2001,2002,2003,2004,2005,2006,2007,2008,2009,2010,2011,2012,2013,2014,2015,2016,2017,2018,2019,2020],\"xaxis\":\"x\",\"y\":[0.2499116,0.2526642,0.2552128,0.2622933,0.2697007,0.2765891,0.2839935,0.2912878,0.2981892,0.3055827,0.3202106,0.3271963,0.3348666,0.341179,0.3472018,0.3526363,0.3608894,0.3681403,0.3758024,0.3846574,0.3934058,0.4080302,0.4215379,0.4471324,0.4585032,0.4482826,0.4656981,0.4800735,0.4930562,0.5104878,0.5308146,0.5482901,0.5358457,0.534356,0.5386178,0.5353446,0.5345929,0.5443353,0.5575007,0.5662066,0.5754443,0.5883109,0.6008783,0.6065448,0.6198042,0.6467594,0.6432808,0.6521813,0.6978729,0.6968727,0.6970573,0.709015,0.7101321,0.7167798,0.7270537,0.7600111,0.7998319,0.7962168,0.8281494,0.8600586,0.8927069,0.9388889,0.9475766,0.941591,0.9636218,0.9324404,0.9976534,1.0675702,1.069993,1.0258585,0.9054904],\"yaxis\":\"y\",\"type\":\"bar\"},{\"alignmentgroup\":\"True\",\"hovertemplate\":\"variable=REGI\\u00d3N METROPOLITANA DE SANTIAGO<br>A\\u00f1os=%{x}<br>Uso de agua [m\\u00b3/s]=%{y}<extra></extra>\",\"legendgroup\":\"REGI\\u00d3N METROPOLITANA DE SANTIAGO\",\"marker\":{\"color\":\"#00cc96\",\"pattern\":{\"shape\":\"\"}},\"name\":\"REGI\\u00d3N METROPOLITANA DE SANTIAGO\",\"offsetgroup\":\"REGI\\u00d3N METROPOLITANA DE SANTIAGO\",\"orientation\":\"v\",\"showlegend\":true,\"textposition\":\"auto\",\"x\":[1950,1951,1952,1953,1954,1955,1956,1957,1958,1959,1960,1961,1962,1963,1964,1965,1966,1967,1968,1969,1970,1971,1972,1973,1974,1975,1976,1977,1978,1979,1980,1981,1982,1983,1984,1985,1986,1987,1988,1989,1990,1991,1992,1993,1994,1995,1996,1997,1998,1999,2000,2001,2002,2003,2004,2005,2006,2007,2008,2009,2010,2011,2012,2013,2014,2015,2016,2017,2018,2019,2020],\"xaxis\":\"x\",\"y\":[95.80738038,95.93176438,96.05752265,96.31989444,96.581654,96.84524684,97.10753585,97.37021329,97.63213451,97.89374625,98.3288497,98.60306086,98.89026813,102.54095338,102.79989719,101.76016697,106.16047479,108.21842078,95.19554412,88.7488871,93.38312912,101.46950578,115.99250688,114.48107972,100.37694196,100.65358851,103.49037886,108.09712762,111.69543251,114.42318848,119.75042522,123.37237952,109.46509482,115.8434999,119.30354176,129.16369952,107.28970973,114.19294622,112.93658613,100.71122181,91.02609775,110.10520047,126.18947011,129.19918169,126.62004612,132.53446415,77.82327088,78.29566016,99.70715177,98.3821006,108.96085057,116.35227464,117.7235049,112.22609665,110.78811995,116.62877867,125.74454375,121.3324238,122.07626764,118.76245402,124.59302218,133.34587755,133.99151483,145.01790191,164.12220771,165.37795792,198.0220007,185.72811393,157.78794593,141.30277299,134.60076232],\"yaxis\":\"y\",\"type\":\"bar\"},{\"alignmentgroup\":\"True\",\"hovertemplate\":\"variable=REGI\\u00d3N DE LOS R\\u00cdOS<br>A\\u00f1os=%{x}<br>Uso de agua [m\\u00b3/s]=%{y}<extra></extra>\",\"legendgroup\":\"REGI\\u00d3N DE LOS R\\u00cdOS\",\"marker\":{\"color\":\"#ab63fa\",\"pattern\":{\"shape\":\"\"}},\"name\":\"REGI\\u00d3N DE LOS R\\u00cdOS\",\"offsetgroup\":\"REGI\\u00d3N DE LOS R\\u00cdOS\",\"orientation\":\"v\",\"showlegend\":true,\"textposition\":\"auto\",\"x\":[1950,1951,1952,1953,1954,1955,1956,1957,1958,1959,1960,1961,1962,1963,1964,1965,1966,1967,1968,1969,1970,1971,1972,1973,1974,1975,1976,1977,1978,1979,1980,1981,1982,1983,1984,1985,1986,1987,1988,1989,1990,1991,1992,1993,1994,1995,1996,1997,1998,1999,2000,2001,2002,2003,2004,2005,2006,2007,2008,2009,2010,2011,2012,2013,2014,2015,2016,2017,2018,2019,2020],\"xaxis\":\"x\",\"y\":[131.7289495,131.7381782,131.7477258,131.7574819,131.7678581,131.7778404,131.7879945,131.7981777,131.8084429,131.818214,131.8633916,131.8744196,131.8905491,207.3899035,207.4006275,203.9863859,214.9997401,219.4774627,184.0389646,166.0549864,177.6900852,198.3207636,236.143294,230.6788254,192.5137462,193.132559,199.5223091,210.7000096,219.2247995,225.1974918,237.9981292,246.460564,209.5591899,225.9040617,234.3990079,259.9938124,200.7886508,217.5820252,213.1534633,179.1727305,152.1751024,201.9638685,195.178081,200.7430954,190.0299398,200.9028723,130.3657075,180.6487384,102.8404813,122.9051693,161.5294973,160.8650044,170.0943497,169.72889,167.9627837,167.6533881,182.6176217,141.3207439,156.9037517,161.1004296,161.9657908,151.785309,150.1131588,166.5454721,164.3644806,151.795945,106.9196558,172.2923885,179.3734623,162.8019095,174.0364378],\"yaxis\":\"y\",\"type\":\"bar\"},{\"alignmentgroup\":\"True\",\"hovertemplate\":\"variable=REGI\\u00d3N DE ARICA Y PARINACOTA<br>A\\u00f1os=%{x}<br>Uso de agua [m\\u00b3/s]=%{y}<extra></extra>\",\"legendgroup\":\"REGI\\u00d3N DE ARICA Y PARINACOTA\",\"marker\":{\"color\":\"#FFA15A\",\"pattern\":{\"shape\":\"\"}},\"name\":\"REGI\\u00d3N DE ARICA Y PARINACOTA\",\"offsetgroup\":\"REGI\\u00d3N DE ARICA Y PARINACOTA\",\"orientation\":\"v\",\"showlegend\":true,\"textposition\":\"auto\",\"x\":[1950,1951,1952,1953,1954,1955,1956,1957,1958,1959,1960,1961,1962,1963,1964,1965,1966,1967,1968,1969,1970,1971,1972,1973,1974,1975,1976,1977,1978,1979,1980,1981,1982,1983,1984,1985,1986,1987,1988,1989,1990,1991,1992,1993,1994,1995,1996,1997,1998,1999,2000,2001,2002,2003,2004,2005,2006,2007,2008,2009,2010,2011,2012,2013,2014,2015,2016,2017,2018,2019,2020],\"xaxis\":\"x\",\"y\":[0.1553922,0.1577271,0.1602669,0.1668987,0.1736256,0.1800724,0.1867343,0.1930941,0.199958,0.2066187,0.2155706,0.2251832,0.2351184,0.2447921,0.2544726,0.2637241,0.2736335,0.2828373,0.7323956,0.7423632,0.7519603,0.7635304,0.7749934,0.7890266,0.7977695,0.8046305,0.8165465,0.8291586,0.8418457,0.8557915,0.8697998,0.8802294,0.8864626,0.893283,0.8941617,0.8996095,0.9063314,0.9169667,0.9246392,0.9392423,0.94836336,0.95279137,0.9713011,0.96726873,0.97144,0.99567533,0.55218272,0.55979144,0.57528588,1.22570849,1.19480142,1.32425989,1.36621837,1.3293775,1.34888664,1.26778298,1.41306899,1.41544076,1.4259551,1.34012204,1.29843774,1.27736118,1.39643498,1.35801396,1.40222959,1.38452045,1.26580931,1.28601052,1.39968828,1.29555574,1.33817426],\"yaxis\":\"y\",\"type\":\"bar\"},{\"alignmentgroup\":\"True\",\"hovertemplate\":\"variable=REGI\\u00d3N DE \\u00d1UBLE<br>A\\u00f1os=%{x}<br>Uso de agua [m\\u00b3/s]=%{y}<extra></extra>\",\"legendgroup\":\"REGI\\u00d3N DE \\u00d1UBLE\",\"marker\":{\"color\":\"#19d3f3\",\"pattern\":{\"shape\":\"\"}},\"name\":\"REGI\\u00d3N DE \\u00d1UBLE\",\"offsetgroup\":\"REGI\\u00d3N DE \\u00d1UBLE\",\"orientation\":\"v\",\"showlegend\":true,\"textposition\":\"auto\",\"x\":[1950,1951,1952,1953,1954,1955,1956,1957,1958,1959,1960,1961,1962,1963,1964,1965,1966,1967,1968,1969,1970,1971,1972,1973,1974,1975,1976,1977,1978,1979,1980,1981,1982,1983,1984,1985,1986,1987,1988,1989,1990,1991,1992,1993,1994,1995,1996,1997,1998,1999,2000,2001,2002,2003,2004,2005,2006,2007,2008,2009,2010,2011,2012,2013,2014,2015,2016,2017,2018,2019,2020],\"xaxis\":\"x\",\"y\":[0.7126579,0.7159201,0.7188723,0.7286408,0.7388183,0.7490819,0.7597515,0.769223,0.7796985,0.7901651,0.9034629,0.9249416,0.9623266,0.9771677,0.995865,1.0010415,1.0306806,1.0436089,1.0695095,1.1076989,1.1422777,1.1910501,1.2163489,1.4317446,1.4690736,1.114582,1.2246924,1.3111894,1.3890066,1.5176199,1.7058534,1.8676878,1.5676569,1.5292923,1.5774579,1.5055127,1.4613494,1.5380681,1.6386381,1.7328164,1.8341213,1.9816495,2.1810513,2.2860163,2.4565642,2.8560704,2.909916,3.0067741,2.793692,2.625286,2.6041619,2.4995514,2.726305,2.7457754,3.4236081,3.6379052,4.0852892,3.9164809,3.9758077,3.4278222,3.6948312,4.1804166,4.1357386,4.5770509,5.1669419,4.9454961,11.1793399,19.6926188,21.8637223,17.5309563,15.1670676],\"yaxis\":\"y\",\"type\":\"bar\"}],                        {\"template\":{\"data\":{\"histogram2dcontour\":[{\"type\":\"histogram2dcontour\",\"colorbar\":{\"outlinewidth\":0,\"ticks\":\"\"},\"colorscale\":[[0.0,\"#0d0887\"],[0.1111111111111111,\"#46039f\"],[0.2222222222222222,\"#7201a8\"],[0.3333333333333333,\"#9c179e\"],[0.4444444444444444,\"#bd3786\"],[0.5555555555555556,\"#d8576b\"],[0.6666666666666666,\"#ed7953\"],[0.7777777777777778,\"#fb9f3a\"],[0.8888888888888888,\"#fdca26\"],[1.0,\"#f0f921\"]]}],\"choropleth\":[{\"type\":\"choropleth\",\"colorbar\":{\"outlinewidth\":0,\"ticks\":\"\"}}],\"histogram2d\":[{\"type\":\"histogram2d\",\"colorbar\":{\"outlinewidth\":0,\"ticks\":\"\"},\"colorscale\":[[0.0,\"#0d0887\"],[0.1111111111111111,\"#46039f\"],[0.2222222222222222,\"#7201a8\"],[0.3333333333333333,\"#9c179e\"],[0.4444444444444444,\"#bd3786\"],[0.5555555555555556,\"#d8576b\"],[0.6666666666666666,\"#ed7953\"],[0.7777777777777778,\"#fb9f3a\"],[0.8888888888888888,\"#fdca26\"],[1.0,\"#f0f921\"]]}],\"heatmap\":[{\"type\":\"heatmap\",\"colorbar\":{\"outlinewidth\":0,\"ticks\":\"\"},\"colorscale\":[[0.0,\"#0d0887\"],[0.1111111111111111,\"#46039f\"],[0.2222222222222222,\"#7201a8\"],[0.3333333333333333,\"#9c179e\"],[0.4444444444444444,\"#bd3786\"],[0.5555555555555556,\"#d8576b\"],[0.6666666666666666,\"#ed7953\"],[0.7777777777777778,\"#fb9f3a\"],[0.8888888888888888,\"#fdca26\"],[1.0,\"#f0f921\"]]}],\"heatmapgl\":[{\"type\":\"heatmapgl\",\"colorbar\":{\"outlinewidth\":0,\"ticks\":\"\"},\"colorscale\":[[0.0,\"#0d0887\"],[0.1111111111111111,\"#46039f\"],[0.2222222222222222,\"#7201a8\"],[0.3333333333333333,\"#9c179e\"],[0.4444444444444444,\"#bd3786\"],[0.5555555555555556,\"#d8576b\"],[0.6666666666666666,\"#ed7953\"],[0.7777777777777778,\"#fb9f3a\"],[0.8888888888888888,\"#fdca26\"],[1.0,\"#f0f921\"]]}],\"contourcarpet\":[{\"type\":\"contourcarpet\",\"colorbar\":{\"outlinewidth\":0,\"ticks\":\"\"}}],\"contour\":[{\"type\":\"contour\",\"colorbar\":{\"outlinewidth\":0,\"ticks\":\"\"},\"colorscale\":[[0.0,\"#0d0887\"],[0.1111111111111111,\"#46039f\"],[0.2222222222222222,\"#7201a8\"],[0.3333333333333333,\"#9c179e\"],[0.4444444444444444,\"#bd3786\"],[0.5555555555555556,\"#d8576b\"],[0.6666666666666666,\"#ed7953\"],[0.7777777777777778,\"#fb9f3a\"],[0.8888888888888888,\"#fdca26\"],[1.0,\"#f0f921\"]]}],\"surface\":[{\"type\":\"surface\",\"colorbar\":{\"outlinewidth\":0,\"ticks\":\"\"},\"colorscale\":[[0.0,\"#0d0887\"],[0.1111111111111111,\"#46039f\"],[0.2222222222222222,\"#7201a8\"],[0.3333333333333333,\"#9c179e\"],[0.4444444444444444,\"#bd3786\"],[0.5555555555555556,\"#d8576b\"],[0.6666666666666666,\"#ed7953\"],[0.7777777777777778,\"#fb9f3a\"],[0.8888888888888888,\"#fdca26\"],[1.0,\"#f0f921\"]]}],\"mesh3d\":[{\"type\":\"mesh3d\",\"colorbar\":{\"outlinewidth\":0,\"ticks\":\"\"}}],\"scatter\":[{\"fillpattern\":{\"fillmode\":\"overlay\",\"size\":10,\"solidity\":0.2},\"type\":\"scatter\"}],\"parcoords\":[{\"type\":\"parcoords\",\"line\":{\"colorbar\":{\"outlinewidth\":0,\"ticks\":\"\"}}}],\"scatterpolargl\":[{\"type\":\"scatterpolargl\",\"marker\":{\"colorbar\":{\"outlinewidth\":0,\"ticks\":\"\"}}}],\"bar\":[{\"error_x\":{\"color\":\"#2a3f5f\"},\"error_y\":{\"color\":\"#2a3f5f\"},\"marker\":{\"line\":{\"color\":\"#E5ECF6\",\"width\":0.5},\"pattern\":{\"fillmode\":\"overlay\",\"size\":10,\"solidity\":0.2}},\"type\":\"bar\"}],\"scattergeo\":[{\"type\":\"scattergeo\",\"marker\":{\"colorbar\":{\"outlinewidth\":0,\"ticks\":\"\"}}}],\"scatterpolar\":[{\"type\":\"scatterpolar\",\"marker\":{\"colorbar\":{\"outlinewidth\":0,\"ticks\":\"\"}}}],\"histogram\":[{\"marker\":{\"pattern\":{\"fillmode\":\"overlay\",\"size\":10,\"solidity\":0.2}},\"type\":\"histogram\"}],\"scattergl\":[{\"type\":\"scattergl\",\"marker\":{\"colorbar\":{\"outlinewidth\":0,\"ticks\":\"\"}}}],\"scatter3d\":[{\"type\":\"scatter3d\",\"line\":{\"colorbar\":{\"outlinewidth\":0,\"ticks\":\"\"}},\"marker\":{\"colorbar\":{\"outlinewidth\":0,\"ticks\":\"\"}}}],\"scattermapbox\":[{\"type\":\"scattermapbox\",\"marker\":{\"colorbar\":{\"outlinewidth\":0,\"ticks\":\"\"}}}],\"scatterternary\":[{\"type\":\"scatterternary\",\"marker\":{\"colorbar\":{\"outlinewidth\":0,\"ticks\":\"\"}}}],\"scattercarpet\":[{\"type\":\"scattercarpet\",\"marker\":{\"colorbar\":{\"outlinewidth\":0,\"ticks\":\"\"}}}],\"carpet\":[{\"aaxis\":{\"endlinecolor\":\"#2a3f5f\",\"gridcolor\":\"white\",\"linecolor\":\"white\",\"minorgridcolor\":\"white\",\"startlinecolor\":\"#2a3f5f\"},\"baxis\":{\"endlinecolor\":\"#2a3f5f\",\"gridcolor\":\"white\",\"linecolor\":\"white\",\"minorgridcolor\":\"white\",\"startlinecolor\":\"#2a3f5f\"},\"type\":\"carpet\"}],\"table\":[{\"cells\":{\"fill\":{\"color\":\"#EBF0F8\"},\"line\":{\"color\":\"white\"}},\"header\":{\"fill\":{\"color\":\"#C8D4E3\"},\"line\":{\"color\":\"white\"}},\"type\":\"table\"}],\"barpolar\":[{\"marker\":{\"line\":{\"color\":\"#E5ECF6\",\"width\":0.5},\"pattern\":{\"fillmode\":\"overlay\",\"size\":10,\"solidity\":0.2}},\"type\":\"barpolar\"}],\"pie\":[{\"automargin\":true,\"type\":\"pie\"}]},\"layout\":{\"autotypenumbers\":\"strict\",\"colorway\":[\"#636efa\",\"#EF553B\",\"#00cc96\",\"#ab63fa\",\"#FFA15A\",\"#19d3f3\",\"#FF6692\",\"#B6E880\",\"#FF97FF\",\"#FECB52\"],\"font\":{\"color\":\"#2a3f5f\"},\"hovermode\":\"closest\",\"hoverlabel\":{\"align\":\"left\"},\"paper_bgcolor\":\"white\",\"plot_bgcolor\":\"#E5ECF6\",\"polar\":{\"bgcolor\":\"#E5ECF6\",\"angularaxis\":{\"gridcolor\":\"white\",\"linecolor\":\"white\",\"ticks\":\"\"},\"radialaxis\":{\"gridcolor\":\"white\",\"linecolor\":\"white\",\"ticks\":\"\"}},\"ternary\":{\"bgcolor\":\"#E5ECF6\",\"aaxis\":{\"gridcolor\":\"white\",\"linecolor\":\"white\",\"ticks\":\"\"},\"baxis\":{\"gridcolor\":\"white\",\"linecolor\":\"white\",\"ticks\":\"\"},\"caxis\":{\"gridcolor\":\"white\",\"linecolor\":\"white\",\"ticks\":\"\"}},\"coloraxis\":{\"colorbar\":{\"outlinewidth\":0,\"ticks\":\"\"}},\"colorscale\":{\"sequential\":[[0.0,\"#0d0887\"],[0.1111111111111111,\"#46039f\"],[0.2222222222222222,\"#7201a8\"],[0.3333333333333333,\"#9c179e\"],[0.4444444444444444,\"#bd3786\"],[0.5555555555555556,\"#d8576b\"],[0.6666666666666666,\"#ed7953\"],[0.7777777777777778,\"#fb9f3a\"],[0.8888888888888888,\"#fdca26\"],[1.0,\"#f0f921\"]],\"sequentialminus\":[[0.0,\"#0d0887\"],[0.1111111111111111,\"#46039f\"],[0.2222222222222222,\"#7201a8\"],[0.3333333333333333,\"#9c179e\"],[0.4444444444444444,\"#bd3786\"],[0.5555555555555556,\"#d8576b\"],[0.6666666666666666,\"#ed7953\"],[0.7777777777777778,\"#fb9f3a\"],[0.8888888888888888,\"#fdca26\"],[1.0,\"#f0f921\"]],\"diverging\":[[0,\"#8e0152\"],[0.1,\"#c51b7d\"],[0.2,\"#de77ae\"],[0.3,\"#f1b6da\"],[0.4,\"#fde0ef\"],[0.5,\"#f7f7f7\"],[0.6,\"#e6f5d0\"],[0.7,\"#b8e186\"],[0.8,\"#7fbc41\"],[0.9,\"#4d9221\"],[1,\"#276419\"]]},\"xaxis\":{\"gridcolor\":\"white\",\"linecolor\":\"white\",\"ticks\":\"\",\"title\":{\"standoff\":15},\"zerolinecolor\":\"white\",\"automargin\":true,\"zerolinewidth\":2},\"yaxis\":{\"gridcolor\":\"white\",\"linecolor\":\"white\",\"ticks\":\"\",\"title\":{\"standoff\":15},\"zerolinecolor\":\"white\",\"automargin\":true,\"zerolinewidth\":2},\"scene\":{\"xaxis\":{\"backgroundcolor\":\"#E5ECF6\",\"gridcolor\":\"white\",\"linecolor\":\"white\",\"showbackground\":true,\"ticks\":\"\",\"zerolinecolor\":\"white\",\"gridwidth\":2},\"yaxis\":{\"backgroundcolor\":\"#E5ECF6\",\"gridcolor\":\"white\",\"linecolor\":\"white\",\"showbackground\":true,\"ticks\":\"\",\"zerolinecolor\":\"white\",\"gridwidth\":2},\"zaxis\":{\"backgroundcolor\":\"#E5ECF6\",\"gridcolor\":\"white\",\"linecolor\":\"white\",\"showbackground\":true,\"ticks\":\"\",\"zerolinecolor\":\"white\",\"gridwidth\":2}},\"shapedefaults\":{\"line\":{\"color\":\"#2a3f5f\"}},\"annotationdefaults\":{\"arrowcolor\":\"#2a3f5f\",\"arrowhead\":0,\"arrowwidth\":1},\"geo\":{\"bgcolor\":\"white\",\"landcolor\":\"#E5ECF6\",\"subunitcolor\":\"white\",\"showland\":true,\"showlakes\":true,\"lakecolor\":\"white\"},\"title\":{\"x\":0.05},\"mapbox\":{\"style\":\"light\"}}},\"xaxis\":{\"anchor\":\"y\",\"domain\":[0.0,1.0],\"title\":{\"text\":\"A\\u00f1os\"}},\"yaxis\":{\"anchor\":\"x\",\"domain\":[0.0,1.0],\"title\":{\"text\":\"Uso de agua [m\\u00b3/s]\"}},\"legend\":{\"title\":{\"text\":\"Regiones\"},\"tracegroupgap\":0},\"title\":{\"text\":\"Uso de agua no relacionado con la tierra en CHile\"},\"barmode\":\"stack\"},                        {\"responsive\": true}                    ).then(function(){\n",
       "                            \n",
       "var gd = document.getElementById('ddb49834-0a21-4f4e-aebd-14abfd4f201e');\n",
       "var x = new MutationObserver(function (mutations, observer) {{\n",
       "        var display = window.getComputedStyle(gd).display;\n",
       "        if (!display || display === 'none') {{\n",
       "            console.log([gd, 'removed!']);\n",
       "            Plotly.purge(gd);\n",
       "            observer.disconnect();\n",
       "        }}\n",
       "}});\n",
       "\n",
       "// Listen for the removal of the full notebook cells\n",
       "var notebookContainer = gd.closest('#notebook-container');\n",
       "if (notebookContainer) {{\n",
       "    x.observe(notebookContainer, {childList: true});\n",
       "}}\n",
       "\n",
       "// Listen for the clearing of the current output cell\n",
       "var outputEl = gd.closest('.output');\n",
       "if (outputEl) {{\n",
       "    x.observe(outputEl, {childList: true});\n",
       "}}\n",
       "\n",
       "                        })                };                });            </script>        </div>"
      ]
     },
     "metadata": {},
     "output_type": "display_data"
    }
   ],
   "source": [
    "#Graph of yearly regional (Non Land) Water Use [m3/s]\n",
    "\n",
    "x_column = NLU_regions_plot.columns[0]\n",
    "NLU_regions_melted = NLU_regions_plot.melt(id_vars=x_column)\n",
    "fig = px.bar(NLU_regions_melted, x=x_column, y='value', color='variable',\n",
    "             barmode='stack', title = \"Non Land Water Use in Chile\",labels={'Years':'Years', 'value':'Water use [m³/s]'}) \n",
    "fig.update_layout(legend_title_text=\"Regions\")\n",
    "\n",
    "fig.show()\n",
    "\n",
    "fig2 = px.bar(NLU_regions_melted, x=x_column, y='value', color='variable',\n",
    "             barmode='stack', title=\"Uso de agua no relacionado con la tierra en CHile\", labels={'Years':'Años', 'value':'Uso de agua [m³/s]'}) \n",
    "fig2.update_layout(legend_title_text=\"Regiones\")\n",
    "\n",
    "fig2.show()"
   ]
  },
  {
   "attachments": {},
   "cell_type": "markdown",
   "id": "49b8dae9",
   "metadata": {},
   "source": [
    "### Regional Water Use Analysis"
   ]
  },
  {
   "cell_type": "code",
   "execution_count": 38,
   "id": "69e0a2b0",
   "metadata": {},
   "outputs": [],
   "source": [
    "#Last 10 years WU\n",
    "NLU_regions_plot2 = NLU_regions_plot.loc[NLU_regions_plot['Years'] > 2010]"
   ]
  },
  {
   "cell_type": "code",
   "execution_count": 39,
   "id": "84ff6ac3",
   "metadata": {},
   "outputs": [
    {
     "data": {
      "application/vnd.plotly.v1+json": {
       "config": {
        "plotlyServerURL": "https://plot.ly"
       },
       "data": [
        {
         "alignmentgroup": "True",
         "hovertemplate": "=%{x}<br>Water use [m³/s]=%{y}<extra></extra>",
         "legendgroup": "",
         "marker": {
          "color": "#636efa",
          "pattern": {
           "shape": ""
          }
         },
         "name": "",
         "offsetgroup": "",
         "orientation": "v",
         "showlegend": false,
         "textposition": "auto",
         "type": "bar",
         "x": [
          "REGIÓN DE ARICA Y PARINACOTA",
          "REGIÓN DE TARAPACÁ",
          "REGIÓN DE ANTOFAGASTA",
          "REGIÓN DE ATACAMA",
          "REGIÓN DE COQUIMBO",
          "REGIÓN DE VALPARAÍSO",
          "REGIÓN METROPOLITANA DE SANTIAGO",
          "REGIÓN DEL LIBERTADOR GENERAL BERNARDO O'HIGGINS",
          "REGIÓN DEL MAULE",
          "REGIÓN DE ÑUBLE",
          "REGIÓN DEL BIOBÍO",
          "REGIÓN DE LA ARAUCANÍA",
          "REGIÓN DE LOS RÍOS",
          "REGIÓN DE LOS LAGOS",
          "REGIÓN DE AYSÉN DEL GENERAL CARLOS IBÁÑEZ DEL CAMPO",
          "REGIÓN DE MAGALLANES Y DE LA ANTÁRTICA CHILENA"
         ],
         "xaxis": "x",
         "y": [
          1.34062489,
          3.277343546666667,
          27.528882258888885,
          9.751491003333333,
          8.406513368888888,
          55.3510045888889,
          158.29958816333334,
          349.9305273233333,
          701.6829165888889,
          10.363586822222224,
          915.1133876333333,
          13.939280311111112,
          156.22130906666666,
          515.488998888889,
          12.673702177777779,
          0.9872437555555555
         ],
         "yaxis": "y"
        }
       ],
       "layout": {
        "barmode": "relative",
        "height": 800,
        "legend": {
         "tracegroupgap": 0
        },
        "template": {
         "data": {
          "bar": [
           {
            "error_x": {
             "color": "#2a3f5f"
            },
            "error_y": {
             "color": "#2a3f5f"
            },
            "marker": {
             "line": {
              "color": "#E5ECF6",
              "width": 0.5
             },
             "pattern": {
              "fillmode": "overlay",
              "size": 10,
              "solidity": 0.2
             }
            },
            "type": "bar"
           }
          ],
          "barpolar": [
           {
            "marker": {
             "line": {
              "color": "#E5ECF6",
              "width": 0.5
             },
             "pattern": {
              "fillmode": "overlay",
              "size": 10,
              "solidity": 0.2
             }
            },
            "type": "barpolar"
           }
          ],
          "carpet": [
           {
            "aaxis": {
             "endlinecolor": "#2a3f5f",
             "gridcolor": "white",
             "linecolor": "white",
             "minorgridcolor": "white",
             "startlinecolor": "#2a3f5f"
            },
            "baxis": {
             "endlinecolor": "#2a3f5f",
             "gridcolor": "white",
             "linecolor": "white",
             "minorgridcolor": "white",
             "startlinecolor": "#2a3f5f"
            },
            "type": "carpet"
           }
          ],
          "choropleth": [
           {
            "colorbar": {
             "outlinewidth": 0,
             "ticks": ""
            },
            "type": "choropleth"
           }
          ],
          "contour": [
           {
            "colorbar": {
             "outlinewidth": 0,
             "ticks": ""
            },
            "colorscale": [
             [
              0,
              "#0d0887"
             ],
             [
              0.1111111111111111,
              "#46039f"
             ],
             [
              0.2222222222222222,
              "#7201a8"
             ],
             [
              0.3333333333333333,
              "#9c179e"
             ],
             [
              0.4444444444444444,
              "#bd3786"
             ],
             [
              0.5555555555555556,
              "#d8576b"
             ],
             [
              0.6666666666666666,
              "#ed7953"
             ],
             [
              0.7777777777777778,
              "#fb9f3a"
             ],
             [
              0.8888888888888888,
              "#fdca26"
             ],
             [
              1,
              "#f0f921"
             ]
            ],
            "type": "contour"
           }
          ],
          "contourcarpet": [
           {
            "colorbar": {
             "outlinewidth": 0,
             "ticks": ""
            },
            "type": "contourcarpet"
           }
          ],
          "heatmap": [
           {
            "colorbar": {
             "outlinewidth": 0,
             "ticks": ""
            },
            "colorscale": [
             [
              0,
              "#0d0887"
             ],
             [
              0.1111111111111111,
              "#46039f"
             ],
             [
              0.2222222222222222,
              "#7201a8"
             ],
             [
              0.3333333333333333,
              "#9c179e"
             ],
             [
              0.4444444444444444,
              "#bd3786"
             ],
             [
              0.5555555555555556,
              "#d8576b"
             ],
             [
              0.6666666666666666,
              "#ed7953"
             ],
             [
              0.7777777777777778,
              "#fb9f3a"
             ],
             [
              0.8888888888888888,
              "#fdca26"
             ],
             [
              1,
              "#f0f921"
             ]
            ],
            "type": "heatmap"
           }
          ],
          "heatmapgl": [
           {
            "colorbar": {
             "outlinewidth": 0,
             "ticks": ""
            },
            "colorscale": [
             [
              0,
              "#0d0887"
             ],
             [
              0.1111111111111111,
              "#46039f"
             ],
             [
              0.2222222222222222,
              "#7201a8"
             ],
             [
              0.3333333333333333,
              "#9c179e"
             ],
             [
              0.4444444444444444,
              "#bd3786"
             ],
             [
              0.5555555555555556,
              "#d8576b"
             ],
             [
              0.6666666666666666,
              "#ed7953"
             ],
             [
              0.7777777777777778,
              "#fb9f3a"
             ],
             [
              0.8888888888888888,
              "#fdca26"
             ],
             [
              1,
              "#f0f921"
             ]
            ],
            "type": "heatmapgl"
           }
          ],
          "histogram": [
           {
            "marker": {
             "pattern": {
              "fillmode": "overlay",
              "size": 10,
              "solidity": 0.2
             }
            },
            "type": "histogram"
           }
          ],
          "histogram2d": [
           {
            "colorbar": {
             "outlinewidth": 0,
             "ticks": ""
            },
            "colorscale": [
             [
              0,
              "#0d0887"
             ],
             [
              0.1111111111111111,
              "#46039f"
             ],
             [
              0.2222222222222222,
              "#7201a8"
             ],
             [
              0.3333333333333333,
              "#9c179e"
             ],
             [
              0.4444444444444444,
              "#bd3786"
             ],
             [
              0.5555555555555556,
              "#d8576b"
             ],
             [
              0.6666666666666666,
              "#ed7953"
             ],
             [
              0.7777777777777778,
              "#fb9f3a"
             ],
             [
              0.8888888888888888,
              "#fdca26"
             ],
             [
              1,
              "#f0f921"
             ]
            ],
            "type": "histogram2d"
           }
          ],
          "histogram2dcontour": [
           {
            "colorbar": {
             "outlinewidth": 0,
             "ticks": ""
            },
            "colorscale": [
             [
              0,
              "#0d0887"
             ],
             [
              0.1111111111111111,
              "#46039f"
             ],
             [
              0.2222222222222222,
              "#7201a8"
             ],
             [
              0.3333333333333333,
              "#9c179e"
             ],
             [
              0.4444444444444444,
              "#bd3786"
             ],
             [
              0.5555555555555556,
              "#d8576b"
             ],
             [
              0.6666666666666666,
              "#ed7953"
             ],
             [
              0.7777777777777778,
              "#fb9f3a"
             ],
             [
              0.8888888888888888,
              "#fdca26"
             ],
             [
              1,
              "#f0f921"
             ]
            ],
            "type": "histogram2dcontour"
           }
          ],
          "mesh3d": [
           {
            "colorbar": {
             "outlinewidth": 0,
             "ticks": ""
            },
            "type": "mesh3d"
           }
          ],
          "parcoords": [
           {
            "line": {
             "colorbar": {
              "outlinewidth": 0,
              "ticks": ""
             }
            },
            "type": "parcoords"
           }
          ],
          "pie": [
           {
            "automargin": true,
            "type": "pie"
           }
          ],
          "scatter": [
           {
            "fillpattern": {
             "fillmode": "overlay",
             "size": 10,
             "solidity": 0.2
            },
            "type": "scatter"
           }
          ],
          "scatter3d": [
           {
            "line": {
             "colorbar": {
              "outlinewidth": 0,
              "ticks": ""
             }
            },
            "marker": {
             "colorbar": {
              "outlinewidth": 0,
              "ticks": ""
             }
            },
            "type": "scatter3d"
           }
          ],
          "scattercarpet": [
           {
            "marker": {
             "colorbar": {
              "outlinewidth": 0,
              "ticks": ""
             }
            },
            "type": "scattercarpet"
           }
          ],
          "scattergeo": [
           {
            "marker": {
             "colorbar": {
              "outlinewidth": 0,
              "ticks": ""
             }
            },
            "type": "scattergeo"
           }
          ],
          "scattergl": [
           {
            "marker": {
             "colorbar": {
              "outlinewidth": 0,
              "ticks": ""
             }
            },
            "type": "scattergl"
           }
          ],
          "scattermapbox": [
           {
            "marker": {
             "colorbar": {
              "outlinewidth": 0,
              "ticks": ""
             }
            },
            "type": "scattermapbox"
           }
          ],
          "scatterpolar": [
           {
            "marker": {
             "colorbar": {
              "outlinewidth": 0,
              "ticks": ""
             }
            },
            "type": "scatterpolar"
           }
          ],
          "scatterpolargl": [
           {
            "marker": {
             "colorbar": {
              "outlinewidth": 0,
              "ticks": ""
             }
            },
            "type": "scatterpolargl"
           }
          ],
          "scatterternary": [
           {
            "marker": {
             "colorbar": {
              "outlinewidth": 0,
              "ticks": ""
             }
            },
            "type": "scatterternary"
           }
          ],
          "surface": [
           {
            "colorbar": {
             "outlinewidth": 0,
             "ticks": ""
            },
            "colorscale": [
             [
              0,
              "#0d0887"
             ],
             [
              0.1111111111111111,
              "#46039f"
             ],
             [
              0.2222222222222222,
              "#7201a8"
             ],
             [
              0.3333333333333333,
              "#9c179e"
             ],
             [
              0.4444444444444444,
              "#bd3786"
             ],
             [
              0.5555555555555556,
              "#d8576b"
             ],
             [
              0.6666666666666666,
              "#ed7953"
             ],
             [
              0.7777777777777778,
              "#fb9f3a"
             ],
             [
              0.8888888888888888,
              "#fdca26"
             ],
             [
              1,
              "#f0f921"
             ]
            ],
            "type": "surface"
           }
          ],
          "table": [
           {
            "cells": {
             "fill": {
              "color": "#EBF0F8"
             },
             "line": {
              "color": "white"
             }
            },
            "header": {
             "fill": {
              "color": "#C8D4E3"
             },
             "line": {
              "color": "white"
             }
            },
            "type": "table"
           }
          ]
         },
         "layout": {
          "annotationdefaults": {
           "arrowcolor": "#2a3f5f",
           "arrowhead": 0,
           "arrowwidth": 1
          },
          "autotypenumbers": "strict",
          "coloraxis": {
           "colorbar": {
            "outlinewidth": 0,
            "ticks": ""
           }
          },
          "colorscale": {
           "diverging": [
            [
             0,
             "#8e0152"
            ],
            [
             0.1,
             "#c51b7d"
            ],
            [
             0.2,
             "#de77ae"
            ],
            [
             0.3,
             "#f1b6da"
            ],
            [
             0.4,
             "#fde0ef"
            ],
            [
             0.5,
             "#f7f7f7"
            ],
            [
             0.6,
             "#e6f5d0"
            ],
            [
             0.7,
             "#b8e186"
            ],
            [
             0.8,
             "#7fbc41"
            ],
            [
             0.9,
             "#4d9221"
            ],
            [
             1,
             "#276419"
            ]
           ],
           "sequential": [
            [
             0,
             "#0d0887"
            ],
            [
             0.1111111111111111,
             "#46039f"
            ],
            [
             0.2222222222222222,
             "#7201a8"
            ],
            [
             0.3333333333333333,
             "#9c179e"
            ],
            [
             0.4444444444444444,
             "#bd3786"
            ],
            [
             0.5555555555555556,
             "#d8576b"
            ],
            [
             0.6666666666666666,
             "#ed7953"
            ],
            [
             0.7777777777777778,
             "#fb9f3a"
            ],
            [
             0.8888888888888888,
             "#fdca26"
            ],
            [
             1,
             "#f0f921"
            ]
           ],
           "sequentialminus": [
            [
             0,
             "#0d0887"
            ],
            [
             0.1111111111111111,
             "#46039f"
            ],
            [
             0.2222222222222222,
             "#7201a8"
            ],
            [
             0.3333333333333333,
             "#9c179e"
            ],
            [
             0.4444444444444444,
             "#bd3786"
            ],
            [
             0.5555555555555556,
             "#d8576b"
            ],
            [
             0.6666666666666666,
             "#ed7953"
            ],
            [
             0.7777777777777778,
             "#fb9f3a"
            ],
            [
             0.8888888888888888,
             "#fdca26"
            ],
            [
             1,
             "#f0f921"
            ]
           ]
          },
          "colorway": [
           "#636efa",
           "#EF553B",
           "#00cc96",
           "#ab63fa",
           "#FFA15A",
           "#19d3f3",
           "#FF6692",
           "#B6E880",
           "#FF97FF",
           "#FECB52"
          ],
          "font": {
           "color": "#2a3f5f"
          },
          "geo": {
           "bgcolor": "white",
           "lakecolor": "white",
           "landcolor": "#E5ECF6",
           "showlakes": true,
           "showland": true,
           "subunitcolor": "white"
          },
          "hoverlabel": {
           "align": "left"
          },
          "hovermode": "closest",
          "mapbox": {
           "style": "light"
          },
          "paper_bgcolor": "white",
          "plot_bgcolor": "#E5ECF6",
          "polar": {
           "angularaxis": {
            "gridcolor": "white",
            "linecolor": "white",
            "ticks": ""
           },
           "bgcolor": "#E5ECF6",
           "radialaxis": {
            "gridcolor": "white",
            "linecolor": "white",
            "ticks": ""
           }
          },
          "scene": {
           "xaxis": {
            "backgroundcolor": "#E5ECF6",
            "gridcolor": "white",
            "gridwidth": 2,
            "linecolor": "white",
            "showbackground": true,
            "ticks": "",
            "zerolinecolor": "white"
           },
           "yaxis": {
            "backgroundcolor": "#E5ECF6",
            "gridcolor": "white",
            "gridwidth": 2,
            "linecolor": "white",
            "showbackground": true,
            "ticks": "",
            "zerolinecolor": "white"
           },
           "zaxis": {
            "backgroundcolor": "#E5ECF6",
            "gridcolor": "white",
            "gridwidth": 2,
            "linecolor": "white",
            "showbackground": true,
            "ticks": "",
            "zerolinecolor": "white"
           }
          },
          "shapedefaults": {
           "line": {
            "color": "#2a3f5f"
           }
          },
          "ternary": {
           "aaxis": {
            "gridcolor": "white",
            "linecolor": "white",
            "ticks": ""
           },
           "baxis": {
            "gridcolor": "white",
            "linecolor": "white",
            "ticks": ""
           },
           "bgcolor": "#E5ECF6",
           "caxis": {
            "gridcolor": "white",
            "linecolor": "white",
            "ticks": ""
           }
          },
          "title": {
           "x": 0.05
          },
          "xaxis": {
           "automargin": true,
           "gridcolor": "white",
           "linecolor": "white",
           "ticks": "",
           "title": {
            "standoff": 15
           },
           "zerolinecolor": "white",
           "zerolinewidth": 2
          },
          "yaxis": {
           "automargin": true,
           "gridcolor": "white",
           "linecolor": "white",
           "ticks": "",
           "title": {
            "standoff": 15
           },
           "zerolinecolor": "white",
           "zerolinewidth": 2
          }
         }
        },
        "title": {
         "text": "Yearly mean water use during the last 10 years by region ordered from north to south"
        },
        "width": 1000,
        "xaxis": {
         "anchor": "y",
         "domain": [
          0,
          1
         ],
         "tickangle": 60,
         "tickfont": {
          "size": 9
         },
         "title": {
          "text": ""
         }
        },
        "yaxis": {
         "anchor": "x",
         "domain": [
          0,
          1
         ],
         "title": {
          "text": "Water use [m³/s]"
         }
        }
       }
      },
      "text/html": [
       "<div>                            <div id=\"ce1535e4-0b07-4849-b7bf-761c9b1beb01\" class=\"plotly-graph-div\" style=\"height:800px; width:1000px;\"></div>            <script type=\"text/javascript\">                require([\"plotly\"], function(Plotly) {                    window.PLOTLYENV=window.PLOTLYENV || {};                                    if (document.getElementById(\"ce1535e4-0b07-4849-b7bf-761c9b1beb01\")) {                    Plotly.newPlot(                        \"ce1535e4-0b07-4849-b7bf-761c9b1beb01\",                        [{\"alignmentgroup\":\"True\",\"hovertemplate\":\"=%{x}<br>Water use [m\\u00b3/s]=%{y}<extra></extra>\",\"legendgroup\":\"\",\"marker\":{\"color\":\"#636efa\",\"pattern\":{\"shape\":\"\"}},\"name\":\"\",\"offsetgroup\":\"\",\"orientation\":\"v\",\"showlegend\":false,\"textposition\":\"auto\",\"x\":[\"REGI\\u00d3N DE ARICA Y PARINACOTA\",\"REGI\\u00d3N DE TARAPAC\\u00c1\",\"REGI\\u00d3N DE ANTOFAGASTA\",\"REGI\\u00d3N DE ATACAMA\",\"REGI\\u00d3N DE COQUIMBO\",\"REGI\\u00d3N DE VALPARA\\u00cdSO\",\"REGI\\u00d3N METROPOLITANA DE SANTIAGO\",\"REGI\\u00d3N DEL LIBERTADOR GENERAL BERNARDO O'HIGGINS\",\"REGI\\u00d3N DEL MAULE\",\"REGI\\u00d3N DE \\u00d1UBLE\",\"REGI\\u00d3N DEL BIOB\\u00cdO\",\"REGI\\u00d3N DE LA ARAUCAN\\u00cdA\",\"REGI\\u00d3N DE LOS R\\u00cdOS\",\"REGI\\u00d3N DE LOS LAGOS\",\"REGI\\u00d3N DE AYS\\u00c9N DEL GENERAL CARLOS IB\\u00c1\\u00d1EZ DEL CAMPO\",\"REGI\\u00d3N DE MAGALLANES Y DE LA ANT\\u00c1RTICA CHILENA\"],\"xaxis\":\"x\",\"y\":[1.34062489,3.277343546666667,27.528882258888885,9.751491003333333,8.406513368888888,55.3510045888889,158.29958816333334,349.9305273233333,701.6829165888889,10.363586822222224,915.1133876333333,13.939280311111112,156.22130906666666,515.488998888889,12.673702177777779,0.9872437555555555],\"yaxis\":\"y\",\"type\":\"bar\"}],                        {\"template\":{\"data\":{\"histogram2dcontour\":[{\"type\":\"histogram2dcontour\",\"colorbar\":{\"outlinewidth\":0,\"ticks\":\"\"},\"colorscale\":[[0.0,\"#0d0887\"],[0.1111111111111111,\"#46039f\"],[0.2222222222222222,\"#7201a8\"],[0.3333333333333333,\"#9c179e\"],[0.4444444444444444,\"#bd3786\"],[0.5555555555555556,\"#d8576b\"],[0.6666666666666666,\"#ed7953\"],[0.7777777777777778,\"#fb9f3a\"],[0.8888888888888888,\"#fdca26\"],[1.0,\"#f0f921\"]]}],\"choropleth\":[{\"type\":\"choropleth\",\"colorbar\":{\"outlinewidth\":0,\"ticks\":\"\"}}],\"histogram2d\":[{\"type\":\"histogram2d\",\"colorbar\":{\"outlinewidth\":0,\"ticks\":\"\"},\"colorscale\":[[0.0,\"#0d0887\"],[0.1111111111111111,\"#46039f\"],[0.2222222222222222,\"#7201a8\"],[0.3333333333333333,\"#9c179e\"],[0.4444444444444444,\"#bd3786\"],[0.5555555555555556,\"#d8576b\"],[0.6666666666666666,\"#ed7953\"],[0.7777777777777778,\"#fb9f3a\"],[0.8888888888888888,\"#fdca26\"],[1.0,\"#f0f921\"]]}],\"heatmap\":[{\"type\":\"heatmap\",\"colorbar\":{\"outlinewidth\":0,\"ticks\":\"\"},\"colorscale\":[[0.0,\"#0d0887\"],[0.1111111111111111,\"#46039f\"],[0.2222222222222222,\"#7201a8\"],[0.3333333333333333,\"#9c179e\"],[0.4444444444444444,\"#bd3786\"],[0.5555555555555556,\"#d8576b\"],[0.6666666666666666,\"#ed7953\"],[0.7777777777777778,\"#fb9f3a\"],[0.8888888888888888,\"#fdca26\"],[1.0,\"#f0f921\"]]}],\"heatmapgl\":[{\"type\":\"heatmapgl\",\"colorbar\":{\"outlinewidth\":0,\"ticks\":\"\"},\"colorscale\":[[0.0,\"#0d0887\"],[0.1111111111111111,\"#46039f\"],[0.2222222222222222,\"#7201a8\"],[0.3333333333333333,\"#9c179e\"],[0.4444444444444444,\"#bd3786\"],[0.5555555555555556,\"#d8576b\"],[0.6666666666666666,\"#ed7953\"],[0.7777777777777778,\"#fb9f3a\"],[0.8888888888888888,\"#fdca26\"],[1.0,\"#f0f921\"]]}],\"contourcarpet\":[{\"type\":\"contourcarpet\",\"colorbar\":{\"outlinewidth\":0,\"ticks\":\"\"}}],\"contour\":[{\"type\":\"contour\",\"colorbar\":{\"outlinewidth\":0,\"ticks\":\"\"},\"colorscale\":[[0.0,\"#0d0887\"],[0.1111111111111111,\"#46039f\"],[0.2222222222222222,\"#7201a8\"],[0.3333333333333333,\"#9c179e\"],[0.4444444444444444,\"#bd3786\"],[0.5555555555555556,\"#d8576b\"],[0.6666666666666666,\"#ed7953\"],[0.7777777777777778,\"#fb9f3a\"],[0.8888888888888888,\"#fdca26\"],[1.0,\"#f0f921\"]]}],\"surface\":[{\"type\":\"surface\",\"colorbar\":{\"outlinewidth\":0,\"ticks\":\"\"},\"colorscale\":[[0.0,\"#0d0887\"],[0.1111111111111111,\"#46039f\"],[0.2222222222222222,\"#7201a8\"],[0.3333333333333333,\"#9c179e\"],[0.4444444444444444,\"#bd3786\"],[0.5555555555555556,\"#d8576b\"],[0.6666666666666666,\"#ed7953\"],[0.7777777777777778,\"#fb9f3a\"],[0.8888888888888888,\"#fdca26\"],[1.0,\"#f0f921\"]]}],\"mesh3d\":[{\"type\":\"mesh3d\",\"colorbar\":{\"outlinewidth\":0,\"ticks\":\"\"}}],\"scatter\":[{\"fillpattern\":{\"fillmode\":\"overlay\",\"size\":10,\"solidity\":0.2},\"type\":\"scatter\"}],\"parcoords\":[{\"type\":\"parcoords\",\"line\":{\"colorbar\":{\"outlinewidth\":0,\"ticks\":\"\"}}}],\"scatterpolargl\":[{\"type\":\"scatterpolargl\",\"marker\":{\"colorbar\":{\"outlinewidth\":0,\"ticks\":\"\"}}}],\"bar\":[{\"error_x\":{\"color\":\"#2a3f5f\"},\"error_y\":{\"color\":\"#2a3f5f\"},\"marker\":{\"line\":{\"color\":\"#E5ECF6\",\"width\":0.5},\"pattern\":{\"fillmode\":\"overlay\",\"size\":10,\"solidity\":0.2}},\"type\":\"bar\"}],\"scattergeo\":[{\"type\":\"scattergeo\",\"marker\":{\"colorbar\":{\"outlinewidth\":0,\"ticks\":\"\"}}}],\"scatterpolar\":[{\"type\":\"scatterpolar\",\"marker\":{\"colorbar\":{\"outlinewidth\":0,\"ticks\":\"\"}}}],\"histogram\":[{\"marker\":{\"pattern\":{\"fillmode\":\"overlay\",\"size\":10,\"solidity\":0.2}},\"type\":\"histogram\"}],\"scattergl\":[{\"type\":\"scattergl\",\"marker\":{\"colorbar\":{\"outlinewidth\":0,\"ticks\":\"\"}}}],\"scatter3d\":[{\"type\":\"scatter3d\",\"line\":{\"colorbar\":{\"outlinewidth\":0,\"ticks\":\"\"}},\"marker\":{\"colorbar\":{\"outlinewidth\":0,\"ticks\":\"\"}}}],\"scattermapbox\":[{\"type\":\"scattermapbox\",\"marker\":{\"colorbar\":{\"outlinewidth\":0,\"ticks\":\"\"}}}],\"scatterternary\":[{\"type\":\"scatterternary\",\"marker\":{\"colorbar\":{\"outlinewidth\":0,\"ticks\":\"\"}}}],\"scattercarpet\":[{\"type\":\"scattercarpet\",\"marker\":{\"colorbar\":{\"outlinewidth\":0,\"ticks\":\"\"}}}],\"carpet\":[{\"aaxis\":{\"endlinecolor\":\"#2a3f5f\",\"gridcolor\":\"white\",\"linecolor\":\"white\",\"minorgridcolor\":\"white\",\"startlinecolor\":\"#2a3f5f\"},\"baxis\":{\"endlinecolor\":\"#2a3f5f\",\"gridcolor\":\"white\",\"linecolor\":\"white\",\"minorgridcolor\":\"white\",\"startlinecolor\":\"#2a3f5f\"},\"type\":\"carpet\"}],\"table\":[{\"cells\":{\"fill\":{\"color\":\"#EBF0F8\"},\"line\":{\"color\":\"white\"}},\"header\":{\"fill\":{\"color\":\"#C8D4E3\"},\"line\":{\"color\":\"white\"}},\"type\":\"table\"}],\"barpolar\":[{\"marker\":{\"line\":{\"color\":\"#E5ECF6\",\"width\":0.5},\"pattern\":{\"fillmode\":\"overlay\",\"size\":10,\"solidity\":0.2}},\"type\":\"barpolar\"}],\"pie\":[{\"automargin\":true,\"type\":\"pie\"}]},\"layout\":{\"autotypenumbers\":\"strict\",\"colorway\":[\"#636efa\",\"#EF553B\",\"#00cc96\",\"#ab63fa\",\"#FFA15A\",\"#19d3f3\",\"#FF6692\",\"#B6E880\",\"#FF97FF\",\"#FECB52\"],\"font\":{\"color\":\"#2a3f5f\"},\"hovermode\":\"closest\",\"hoverlabel\":{\"align\":\"left\"},\"paper_bgcolor\":\"white\",\"plot_bgcolor\":\"#E5ECF6\",\"polar\":{\"bgcolor\":\"#E5ECF6\",\"angularaxis\":{\"gridcolor\":\"white\",\"linecolor\":\"white\",\"ticks\":\"\"},\"radialaxis\":{\"gridcolor\":\"white\",\"linecolor\":\"white\",\"ticks\":\"\"}},\"ternary\":{\"bgcolor\":\"#E5ECF6\",\"aaxis\":{\"gridcolor\":\"white\",\"linecolor\":\"white\",\"ticks\":\"\"},\"baxis\":{\"gridcolor\":\"white\",\"linecolor\":\"white\",\"ticks\":\"\"},\"caxis\":{\"gridcolor\":\"white\",\"linecolor\":\"white\",\"ticks\":\"\"}},\"coloraxis\":{\"colorbar\":{\"outlinewidth\":0,\"ticks\":\"\"}},\"colorscale\":{\"sequential\":[[0.0,\"#0d0887\"],[0.1111111111111111,\"#46039f\"],[0.2222222222222222,\"#7201a8\"],[0.3333333333333333,\"#9c179e\"],[0.4444444444444444,\"#bd3786\"],[0.5555555555555556,\"#d8576b\"],[0.6666666666666666,\"#ed7953\"],[0.7777777777777778,\"#fb9f3a\"],[0.8888888888888888,\"#fdca26\"],[1.0,\"#f0f921\"]],\"sequentialminus\":[[0.0,\"#0d0887\"],[0.1111111111111111,\"#46039f\"],[0.2222222222222222,\"#7201a8\"],[0.3333333333333333,\"#9c179e\"],[0.4444444444444444,\"#bd3786\"],[0.5555555555555556,\"#d8576b\"],[0.6666666666666666,\"#ed7953\"],[0.7777777777777778,\"#fb9f3a\"],[0.8888888888888888,\"#fdca26\"],[1.0,\"#f0f921\"]],\"diverging\":[[0,\"#8e0152\"],[0.1,\"#c51b7d\"],[0.2,\"#de77ae\"],[0.3,\"#f1b6da\"],[0.4,\"#fde0ef\"],[0.5,\"#f7f7f7\"],[0.6,\"#e6f5d0\"],[0.7,\"#b8e186\"],[0.8,\"#7fbc41\"],[0.9,\"#4d9221\"],[1,\"#276419\"]]},\"xaxis\":{\"gridcolor\":\"white\",\"linecolor\":\"white\",\"ticks\":\"\",\"title\":{\"standoff\":15},\"zerolinecolor\":\"white\",\"automargin\":true,\"zerolinewidth\":2},\"yaxis\":{\"gridcolor\":\"white\",\"linecolor\":\"white\",\"ticks\":\"\",\"title\":{\"standoff\":15},\"zerolinecolor\":\"white\",\"automargin\":true,\"zerolinewidth\":2},\"scene\":{\"xaxis\":{\"backgroundcolor\":\"#E5ECF6\",\"gridcolor\":\"white\",\"linecolor\":\"white\",\"showbackground\":true,\"ticks\":\"\",\"zerolinecolor\":\"white\",\"gridwidth\":2},\"yaxis\":{\"backgroundcolor\":\"#E5ECF6\",\"gridcolor\":\"white\",\"linecolor\":\"white\",\"showbackground\":true,\"ticks\":\"\",\"zerolinecolor\":\"white\",\"gridwidth\":2},\"zaxis\":{\"backgroundcolor\":\"#E5ECF6\",\"gridcolor\":\"white\",\"linecolor\":\"white\",\"showbackground\":true,\"ticks\":\"\",\"zerolinecolor\":\"white\",\"gridwidth\":2}},\"shapedefaults\":{\"line\":{\"color\":\"#2a3f5f\"}},\"annotationdefaults\":{\"arrowcolor\":\"#2a3f5f\",\"arrowhead\":0,\"arrowwidth\":1},\"geo\":{\"bgcolor\":\"white\",\"landcolor\":\"#E5ECF6\",\"subunitcolor\":\"white\",\"showland\":true,\"showlakes\":true,\"lakecolor\":\"white\"},\"title\":{\"x\":0.05},\"mapbox\":{\"style\":\"light\"}}},\"xaxis\":{\"anchor\":\"y\",\"domain\":[0.0,1.0],\"title\":{\"text\":\"\"},\"tickfont\":{\"size\":9},\"tickangle\":60},\"yaxis\":{\"anchor\":\"x\",\"domain\":[0.0,1.0],\"title\":{\"text\":\"Water use [m\\u00b3/s]\"}},\"legend\":{\"tracegroupgap\":0},\"title\":{\"text\":\"Yearly mean water use during the last 10 years by region ordered from north to south\"},\"barmode\":\"relative\",\"width\":1000,\"height\":800},                        {\"responsive\": true}                    ).then(function(){\n",
       "                            \n",
       "var gd = document.getElementById('ce1535e4-0b07-4849-b7bf-761c9b1beb01');\n",
       "var x = new MutationObserver(function (mutations, observer) {{\n",
       "        var display = window.getComputedStyle(gd).display;\n",
       "        if (!display || display === 'none') {{\n",
       "            console.log([gd, 'removed!']);\n",
       "            Plotly.purge(gd);\n",
       "            observer.disconnect();\n",
       "        }}\n",
       "}});\n",
       "\n",
       "// Listen for the removal of the full notebook cells\n",
       "var notebookContainer = gd.closest('#notebook-container');\n",
       "if (notebookContainer) {{\n",
       "    x.observe(notebookContainer, {childList: true});\n",
       "}}\n",
       "\n",
       "// Listen for the clearing of the current output cell\n",
       "var outputEl = gd.closest('.output');\n",
       "if (outputEl) {{\n",
       "    x.observe(outputEl, {childList: true});\n",
       "}}\n",
       "\n",
       "                        })                };                });            </script>        </div>"
      ]
     },
     "metadata": {},
     "output_type": "display_data"
    }
   ],
   "source": [
    "#Regional latitude order\n",
    "ord_col = ['Years','REGIÓN DE ARICA Y PARINACOTA','REGIÓN DE TARAPACÁ', 'REGIÓN DE ANTOFAGASTA',\n",
    "       'REGIÓN DE ATACAMA', 'REGIÓN DE COQUIMBO', 'REGIÓN DE VALPARAÍSO','REGIÓN METROPOLITANA DE SANTIAGO',\n",
    "       \"REGIÓN DEL LIBERTADOR GENERAL BERNARDO O'HIGGINS\", 'REGIÓN DEL MAULE','REGIÓN DE ÑUBLE',\n",
    "       'REGIÓN DEL BIOBÍO', 'REGIÓN DE LA ARAUCANÍA', 'REGIÓN DE LOS RÍOS', 'REGIÓN DE LOS LAGOS',\n",
    "       'REGIÓN DE AYSÉN DEL GENERAL CARLOS IBÁÑEZ DEL CAMPO',\n",
    "       'REGIÓN DE MAGALLANES Y DE LA ANTÁRTICA CHILENA']\n",
    "\n",
    "NLU_regions_plot2 = NLU_regions_plot2.reindex(columns=ord_col)\n",
    "\n",
    "mean_values = NLU_regions_plot2.iloc[:, 1:].shift().mean()\n",
    "#mean_row = pd.DataFrame([mean_values], columns=NLU_regions_plot2.columns[1:])\n",
    "\n",
    "fig = px.bar(mean_values, x=mean_values.index, y=mean_values.values, \n",
    "             title='Yearly mean water use during the last 10 years by region ordered from north to south',\n",
    "            labels={'index':'','y':'Water use [m³/s]'})\n",
    "fig.update_xaxes(tickangle=60, tickfont=dict(size=9))\n",
    "fig.update_layout(width = 1000, height = 800)\n",
    "fig.show()"
   ]
  },
  {
   "cell_type": "code",
   "execution_count": 183,
   "id": "c4bd3303",
   "metadata": {},
   "outputs": [
    {
     "data": {
      "text/html": [
       "<div>\n",
       "<style scoped>\n",
       "    .dataframe tbody tr th:only-of-type {\n",
       "        vertical-align: middle;\n",
       "    }\n",
       "\n",
       "    .dataframe tbody tr th {\n",
       "        vertical-align: top;\n",
       "    }\n",
       "\n",
       "    .dataframe thead th {\n",
       "        text-align: right;\n",
       "    }\n",
       "</style>\n",
       "<table border=\"1\" class=\"dataframe\">\n",
       "  <thead>\n",
       "    <tr style=\"text-align: right;\">\n",
       "      <th></th>\n",
       "      <th>Years</th>\n",
       "      <th>REGIÓN DE ARICA Y PARINACOTA</th>\n",
       "      <th>REGIÓN DE TARAPACÁ</th>\n",
       "      <th>REGIÓN DE ANTOFAGASTA</th>\n",
       "      <th>REGIÓN DE ATACAMA</th>\n",
       "      <th>REGIÓN DE COQUIMBO</th>\n",
       "      <th>REGIÓN DE VALPARAÍSO</th>\n",
       "      <th>REGIÓN METROPOLITANA DE SANTIAGO</th>\n",
       "      <th>REGIÓN DEL LIBERTADOR GENERAL BERNARDO O'HIGGINS</th>\n",
       "      <th>REGIÓN DEL MAULE</th>\n",
       "      <th>REGIÓN DE ÑUBLE</th>\n",
       "      <th>REGIÓN DEL BIOBÍO</th>\n",
       "      <th>REGIÓN DE LA ARAUCANÍA</th>\n",
       "      <th>REGIÓN DE LOS RÍOS</th>\n",
       "      <th>REGIÓN DE LOS LAGOS</th>\n",
       "      <th>REGIÓN DE AYSÉN DEL GENERAL CARLOS IBÁÑEZ DEL CAMPO</th>\n",
       "      <th>REGIÓN DE MAGALLANES Y DE LA ANTÁRTICA CHILENA</th>\n",
       "    </tr>\n",
       "  </thead>\n",
       "  <tbody>\n",
       "    <tr>\n",
       "      <th>0</th>\n",
       "      <td>2011.0</td>\n",
       "      <td>1.277361</td>\n",
       "      <td>3.416448</td>\n",
       "      <td>22.964593</td>\n",
       "      <td>7.897442</td>\n",
       "      <td>8.168224</td>\n",
       "      <td>58.559489</td>\n",
       "      <td>133.345878</td>\n",
       "      <td>251.629404</td>\n",
       "      <td>760.311905</td>\n",
       "      <td>4.180417</td>\n",
       "      <td>783.484012</td>\n",
       "      <td>8.084247</td>\n",
       "      <td>151.785309</td>\n",
       "      <td>386.543461</td>\n",
       "      <td>15.350840</td>\n",
       "      <td>0.938889</td>\n",
       "    </tr>\n",
       "    <tr>\n",
       "      <th>1</th>\n",
       "      <td>2012.0</td>\n",
       "      <td>1.396435</td>\n",
       "      <td>2.937227</td>\n",
       "      <td>27.072587</td>\n",
       "      <td>7.631634</td>\n",
       "      <td>5.497575</td>\n",
       "      <td>64.340077</td>\n",
       "      <td>133.991515</td>\n",
       "      <td>403.236174</td>\n",
       "      <td>680.021433</td>\n",
       "      <td>4.135739</td>\n",
       "      <td>666.939990</td>\n",
       "      <td>7.831778</td>\n",
       "      <td>150.113159</td>\n",
       "      <td>540.567076</td>\n",
       "      <td>14.732112</td>\n",
       "      <td>0.947577</td>\n",
       "    </tr>\n",
       "    <tr>\n",
       "      <th>2</th>\n",
       "      <td>2013.0</td>\n",
       "      <td>1.358014</td>\n",
       "      <td>3.341703</td>\n",
       "      <td>28.493050</td>\n",
       "      <td>8.698747</td>\n",
       "      <td>5.223102</td>\n",
       "      <td>60.388058</td>\n",
       "      <td>145.017902</td>\n",
       "      <td>320.088168</td>\n",
       "      <td>641.711885</td>\n",
       "      <td>4.577051</td>\n",
       "      <td>644.362880</td>\n",
       "      <td>7.890479</td>\n",
       "      <td>166.545472</td>\n",
       "      <td>597.198062</td>\n",
       "      <td>13.635236</td>\n",
       "      <td>0.941591</td>\n",
       "    </tr>\n",
       "    <tr>\n",
       "      <th>3</th>\n",
       "      <td>2014.0</td>\n",
       "      <td>1.402230</td>\n",
       "      <td>3.470180</td>\n",
       "      <td>28.028603</td>\n",
       "      <td>8.592997</td>\n",
       "      <td>5.483917</td>\n",
       "      <td>53.713623</td>\n",
       "      <td>164.122208</td>\n",
       "      <td>361.248726</td>\n",
       "      <td>798.409069</td>\n",
       "      <td>5.166942</td>\n",
       "      <td>1137.558816</td>\n",
       "      <td>8.391798</td>\n",
       "      <td>164.364481</td>\n",
       "      <td>588.431264</td>\n",
       "      <td>14.549809</td>\n",
       "      <td>0.963622</td>\n",
       "    </tr>\n",
       "    <tr>\n",
       "      <th>4</th>\n",
       "      <td>2015.0</td>\n",
       "      <td>1.384520</td>\n",
       "      <td>3.572429</td>\n",
       "      <td>28.401948</td>\n",
       "      <td>8.189889</td>\n",
       "      <td>6.110418</td>\n",
       "      <td>50.704710</td>\n",
       "      <td>165.377958</td>\n",
       "      <td>408.264251</td>\n",
       "      <td>796.345835</td>\n",
       "      <td>4.945496</td>\n",
       "      <td>1148.060421</td>\n",
       "      <td>14.524345</td>\n",
       "      <td>151.795945</td>\n",
       "      <td>517.594896</td>\n",
       "      <td>12.198703</td>\n",
       "      <td>0.932440</td>\n",
       "    </tr>\n",
       "  </tbody>\n",
       "</table>\n",
       "</div>"
      ],
      "text/plain": [
       "    Years  REGIÓN DE ARICA Y PARINACOTA  REGIÓN DE TARAPACÁ  \\\n",
       "0  2011.0                      1.277361            3.416448   \n",
       "1  2012.0                      1.396435            2.937227   \n",
       "2  2013.0                      1.358014            3.341703   \n",
       "3  2014.0                      1.402230            3.470180   \n",
       "4  2015.0                      1.384520            3.572429   \n",
       "\n",
       "   REGIÓN DE ANTOFAGASTA  REGIÓN DE ATACAMA  REGIÓN DE COQUIMBO  \\\n",
       "0              22.964593           7.897442            8.168224   \n",
       "1              27.072587           7.631634            5.497575   \n",
       "2              28.493050           8.698747            5.223102   \n",
       "3              28.028603           8.592997            5.483917   \n",
       "4              28.401948           8.189889            6.110418   \n",
       "\n",
       "   REGIÓN DE VALPARAÍSO  REGIÓN METROPOLITANA DE SANTIAGO  \\\n",
       "0             58.559489                        133.345878   \n",
       "1             64.340077                        133.991515   \n",
       "2             60.388058                        145.017902   \n",
       "3             53.713623                        164.122208   \n",
       "4             50.704710                        165.377958   \n",
       "\n",
       "   REGIÓN DEL LIBERTADOR GENERAL BERNARDO O'HIGGINS  REGIÓN DEL MAULE  \\\n",
       "0                                        251.629404        760.311905   \n",
       "1                                        403.236174        680.021433   \n",
       "2                                        320.088168        641.711885   \n",
       "3                                        361.248726        798.409069   \n",
       "4                                        408.264251        796.345835   \n",
       "\n",
       "   REGIÓN DE ÑUBLE  REGIÓN DEL BIOBÍO  REGIÓN DE LA ARAUCANÍA  \\\n",
       "0         4.180417         783.484012                8.084247   \n",
       "1         4.135739         666.939990                7.831778   \n",
       "2         4.577051         644.362880                7.890479   \n",
       "3         5.166942        1137.558816                8.391798   \n",
       "4         4.945496        1148.060421               14.524345   \n",
       "\n",
       "   REGIÓN DE LOS RÍOS  REGIÓN DE LOS LAGOS  \\\n",
       "0          151.785309           386.543461   \n",
       "1          150.113159           540.567076   \n",
       "2          166.545472           597.198062   \n",
       "3          164.364481           588.431264   \n",
       "4          151.795945           517.594896   \n",
       "\n",
       "   REGIÓN DE AYSÉN DEL GENERAL CARLOS IBÁÑEZ DEL CAMPO  \\\n",
       "0                                          15.350840     \n",
       "1                                          14.732112     \n",
       "2                                          13.635236     \n",
       "3                                          14.549809     \n",
       "4                                          12.198703     \n",
       "\n",
       "   REGIÓN DE MAGALLANES Y DE LA ANTÁRTICA CHILENA  \n",
       "0                                        0.938889  \n",
       "1                                        0.947577  \n",
       "2                                        0.941591  \n",
       "3                                        0.963622  \n",
       "4                                        0.932440  "
      ]
     },
     "execution_count": 183,
     "metadata": {},
     "output_type": "execute_result"
    }
   ],
   "source": [
    "NLU_regions_plot2.head()"
   ]
  },
  {
   "cell_type": "code",
   "execution_count": 229,
   "id": "a66452af",
   "metadata": {},
   "outputs": [
    {
     "name": "stdout",
     "output_type": "stream",
     "text": [
      "{1940: 5023539, 1952: 5932995, 1960: 7374115, 1970: 8884768, 1982: 11329736, 1992: 13348401, 2002: 15116435, 2017: 17574003}\n"
     ]
    }
   ],
   "source": [
    "#x_ine = [1940, 1952, 1960, 1970, 1982, 1992, 2002, 2017]\n",
    "#y_ine = [5023539, 5932995, 7374115, 8884768, 11329736, 13348401, 15116435, 17574003]\n",
    "#dict_ine = dict(zip(x_ine, y_ine))\n",
    "#print(dict_ine)"
   ]
  },
  {
   "cell_type": "code",
   "execution_count": 244,
   "id": "a4334e25",
   "metadata": {},
   "outputs": [
    {
     "name": "stdout",
     "output_type": "stream",
     "text": [
      "17082489.4\n",
      "17246327.266666666\n",
      "17574003.0\n"
     ]
    }
   ],
   "source": [
    "#y_interp = scipy.interpolate.interp1d(x_ine, y_ine)\n",
    "\n",
    "##find y-value associated with x-value of 13\n",
    "#print(y_interp(2014))\n",
    "#print(y_interp(2015))\n",
    "#print(y_interp(2017))\n",
    "\n"
   ]
  },
  {
   "cell_type": "code",
   "execution_count": 227,
   "id": "461c06f3",
   "metadata": {},
   "outputs": [],
   "source": [
    "#Population = []\n",
    "#pop = pd.DataFrame(index=year_list, columns=Population)\n",
    "#for year in pop[]:\n",
    "##    while year not in x_ine:\n",
    "\n",
    "#for y in year_list:\n",
    "#    while y not in x_ine:\n",
    "        \n",
    "#        valor = input(f\"Ingrese el valor para [{indice}, {columna}]: \")\n",
    "#        df.loc[indice, columna] = valor\n",
    "\n",
    "#print(df)"
   ]
  },
  {
   "attachments": {},
   "cell_type": "markdown",
   "id": "ea54501e",
   "metadata": {},
   "source": [
    "### Type of Use Anlysis"
   ]
  },
  {
   "cell_type": "code",
   "execution_count": 8,
   "id": "7f51a478",
   "metadata": {},
   "outputs": [
    {
     "name": "stdout",
     "output_type": "stream",
     "text": [
      "/mnt/home2/mari/Tesis/NLU\n"
     ]
    }
   ],
   "source": [
    "#r'/mnt/home2/mari/Tesis/NLU/csv/Total/DrinkingWater\n",
    "#r'/mnt/home2/mari/Tesis/NLU/csv/Total/Energy\n",
    "#r'/mnt/home2/mari/Tesis/NLU/csv/Total/Industry\n",
    "#r'/mnt/home2/mari/Tesis/NLU/csv/Total/Livestock\n",
    "#r'/mnt/home2/mari/Tesis/NLU/csv/Total/Mining\n",
    "#r'/mnt/home2/mari/Tesis/NLU/csv/Total/WaterBodies"
   ]
  },
  {
   "cell_type": "code",
   "execution_count": 60,
   "id": "a98f16dc",
   "metadata": {},
   "outputs": [],
   "source": [
    "DW_nation = pd.read_csv(r'/mnt/home2/mari/Tesis/NLU/csv/Total/DrinkingWater/CR2WU_NLU_DrinkingWater_historical_1950-2020_nation.csv')\n",
    "DW_regions = pd.read_csv(r'/mnt/home2/mari/Tesis/NLU/csv/Total/DrinkingWater/CR2WU_NLU_DrinkingWater_historical_1950-2020_regions.csv')"
   ]
  },
  {
   "cell_type": "code",
   "execution_count": 61,
   "id": "11ad0e71",
   "metadata": {},
   "outputs": [],
   "source": [
    "#Total use = DW+Energy+....\n",
    "Total_nation = pd.read_csv(r'/mnt/home2/mari/Tesis/NLU/csv/Total/CR2WU_NLU_Total_historical_1950-2020_nation.csv')\n",
    "Energy_nation = pd.read_csv(r'/mnt/home2/mari/Tesis/NLU/csv/Total/Energy/CR2WU_NLU_Energy_historical_1950-2020_nation.csv')\n",
    "Industry_nation = pd.read_csv(r'/mnt/home2/mari/Tesis/NLU/csv/Total/Industry/CR2WU_NLU_Industry_historical_1950-2020_nation.csv')\n",
    "Livestock_nation = pd.read_csv(r'/mnt/home2/mari/Tesis/NLU/csv/Total/Livestock/CR2WU_NLU_Livestock_historical_1950-2020_nation.csv')\n",
    "Mining_nation = pd.read_csv(r'/mnt/home2/mari/Tesis/NLU/csv/Total/Mining/CR2WU_NLU_Mining_historical_1950-2020_nation.csv')\n",
    "WaterBodies_nation = pd.read_csv(r'/mnt/home2/mari/Tesis/NLU/csv/Total/WaterBodies/CR2WU_NLU_WaterBodies_historical_1950-2020_nation.csv')"
   ]
  },
  {
   "cell_type": "code",
   "execution_count": 63,
   "id": "bbdc57a5",
   "metadata": {},
   "outputs": [],
   "source": [
    "#suma sin purificar \n",
    "E_tot = Energy_nation['1'].sum()\n",
    "I_tot = Industry_nation['1'].sum()\n",
    "L_tot = Livestock_nation['1'].sum()\n",
    "M_tot = Mining_nation['1'].sum()\n",
    "W_tot = WaterBodies_nation['1'].sum()\n",
    "D_tot = DW_nation['1'].sum()\n",
    "Total_tot = Total_nation['1'].sum()"
   ]
  },
  {
   "cell_type": "code",
   "execution_count": 64,
   "id": "fb8cf174",
   "metadata": {},
   "outputs": [
    {
     "data": {
      "text/plain": [
       "-1.4551915228366852e-11"
      ]
     },
     "execution_count": 64,
     "metadata": {},
     "output_type": "execute_result"
    }
   ],
   "source": [
    "sum_tot = D_tot+E_tot+I_tot+L_tot+M_tot+W_tot\n",
    "Total_tot-sum_tot #-1.4551915228366852e-11 diría que es error de truncamiento"
   ]
  },
  {
   "cell_type": "code",
   "execution_count": 66,
   "id": "602ea97a",
   "metadata": {},
   "outputs": [],
   "source": [
    "#Database cleaning\n",
    "DW_nation['Date'] = pd.to_datetime(DW_nation[\"Date\"])\n",
    "DW_nation['Date'] = DW_nation['Date'].dt.strftime('%Y')\n",
    "DW_nation = DW_nation.rename(columns={\"Date\": \"Years\",\"1\":\"NLU\"})\n",
    "DW_nation['Years'] = DW_nation['Years'].astype(int)\n",
    "\n",
    "DW_regions['Date'] = pd.to_datetime(DW_regions[\"Date\"])\n",
    "DW_regions['Date'] = DW_regions['Date'].dt.strftime('%Y')\n",
    "DW_regions = DW_regions.rename(columns={\"Date\": \"Years\"})\n",
    "DW_regions['Years'] = DW_regions['Years'].astype(int)\n",
    "\n",
    "#Adding Region's names\n",
    "DW_regions_plot = DW_regions.rename(columns=cod_reg_nom_reg)\n",
    "\n",
    "#NLU national 2 decimal\n",
    "DW_nation_ = DW_nation\n",
    "DW_nation_['NLU'] = DW_nation_['NLU'].round(decimals=2)"
   ]
  },
  {
   "cell_type": "code",
   "execution_count": 67,
   "id": "d84891f3",
   "metadata": {},
   "outputs": [
    {
     "data": {
      "text/html": [
       "<div>\n",
       "<style scoped>\n",
       "    .dataframe tbody tr th:only-of-type {\n",
       "        vertical-align: middle;\n",
       "    }\n",
       "\n",
       "    .dataframe tbody tr th {\n",
       "        vertical-align: top;\n",
       "    }\n",
       "\n",
       "    .dataframe thead th {\n",
       "        text-align: right;\n",
       "    }\n",
       "</style>\n",
       "<table border=\"1\" class=\"dataframe\">\n",
       "  <thead>\n",
       "    <tr style=\"text-align: right;\">\n",
       "      <th></th>\n",
       "      <th>Years</th>\n",
       "      <th>NLU</th>\n",
       "      <th>Population</th>\n",
       "    </tr>\n",
       "  </thead>\n",
       "  <tbody>\n",
       "    <tr>\n",
       "      <th>0</th>\n",
       "      <td>2002</td>\n",
       "      <td>41.90</td>\n",
       "      <td>15691701</td>\n",
       "    </tr>\n",
       "    <tr>\n",
       "      <th>1</th>\n",
       "      <td>2003</td>\n",
       "      <td>42.47</td>\n",
       "      <td>15856977</td>\n",
       "    </tr>\n",
       "    <tr>\n",
       "      <th>2</th>\n",
       "      <td>2004</td>\n",
       "      <td>43.52</td>\n",
       "      <td>16022133</td>\n",
       "    </tr>\n",
       "    <tr>\n",
       "      <th>3</th>\n",
       "      <td>2005</td>\n",
       "      <td>44.63</td>\n",
       "      <td>16183489</td>\n",
       "    </tr>\n",
       "    <tr>\n",
       "      <th>4</th>\n",
       "      <td>2006</td>\n",
       "      <td>45.68</td>\n",
       "      <td>16347890</td>\n",
       "    </tr>\n",
       "  </tbody>\n",
       "</table>\n",
       "</div>"
      ],
      "text/plain": [
       "   Years    NLU  Population\n",
       "0   2002  41.90    15691701\n",
       "1   2003  42.47    15856977\n",
       "2   2004  43.52    16022133\n",
       "3   2005  44.63    16183489\n",
       "4   2006  45.68    16347890"
      ]
     },
     "execution_count": 67,
     "metadata": {},
     "output_type": "execute_result"
    }
   ],
   "source": [
    "DW_pop = DW_nation_[DW_nation_['Years'] >= 2002].reset_index(drop=True) #using NLU_nation_ 2 decimals NLU\n",
    "#NLU_pop['Population']=pop_years_g['Population'] #usar este cuando corrija lo de arriba (crear pop years grouped)\n",
    "DW_pop['Population']=pop_years['Population']\n",
    "DW_pop.head()"
   ]
  },
  {
   "cell_type": "code",
   "execution_count": 68,
   "id": "41b121b0",
   "metadata": {},
   "outputs": [
    {
     "data": {
      "application/vnd.plotly.v1+json": {
       "config": {
        "plotlyServerURL": "https://plot.ly"
       },
       "data": [
        {
         "hovertemplate": "Population=%{x}<br>Drinking water use [m³/s]=%{y}<extra></extra>",
         "legendgroup": "",
         "marker": {
          "color": "#636efa",
          "symbol": "circle"
         },
         "mode": "markers",
         "name": "",
         "orientation": "v",
         "showlegend": false,
         "type": "scatter",
         "x": [
          15691701,
          15856977,
          16022133,
          16183489,
          16347890,
          16517933,
          16697754,
          16881078,
          17063927,
          17254159,
          17443491,
          17611902,
          17787617,
          17971423,
          18167147,
          18419192,
          18751405,
          19107216,
          19458310
         ],
         "xaxis": "x",
         "y": [
          41.9,
          42.47,
          43.52,
          44.63,
          45.68,
          46.62,
          47.76,
          47.53,
          49.41,
          50.93,
          52.3,
          53.3,
          53.38,
          53.38,
          54.14,
          55.32,
          56.5,
          55.99,
          55.73
         ],
         "yaxis": "y"
        }
       ],
       "layout": {
        "legend": {
         "tracegroupgap": 0
        },
        "template": {
         "data": {
          "bar": [
           {
            "error_x": {
             "color": "#2a3f5f"
            },
            "error_y": {
             "color": "#2a3f5f"
            },
            "marker": {
             "line": {
              "color": "#E5ECF6",
              "width": 0.5
             },
             "pattern": {
              "fillmode": "overlay",
              "size": 10,
              "solidity": 0.2
             }
            },
            "type": "bar"
           }
          ],
          "barpolar": [
           {
            "marker": {
             "line": {
              "color": "#E5ECF6",
              "width": 0.5
             },
             "pattern": {
              "fillmode": "overlay",
              "size": 10,
              "solidity": 0.2
             }
            },
            "type": "barpolar"
           }
          ],
          "carpet": [
           {
            "aaxis": {
             "endlinecolor": "#2a3f5f",
             "gridcolor": "white",
             "linecolor": "white",
             "minorgridcolor": "white",
             "startlinecolor": "#2a3f5f"
            },
            "baxis": {
             "endlinecolor": "#2a3f5f",
             "gridcolor": "white",
             "linecolor": "white",
             "minorgridcolor": "white",
             "startlinecolor": "#2a3f5f"
            },
            "type": "carpet"
           }
          ],
          "choropleth": [
           {
            "colorbar": {
             "outlinewidth": 0,
             "ticks": ""
            },
            "type": "choropleth"
           }
          ],
          "contour": [
           {
            "colorbar": {
             "outlinewidth": 0,
             "ticks": ""
            },
            "colorscale": [
             [
              0,
              "#0d0887"
             ],
             [
              0.1111111111111111,
              "#46039f"
             ],
             [
              0.2222222222222222,
              "#7201a8"
             ],
             [
              0.3333333333333333,
              "#9c179e"
             ],
             [
              0.4444444444444444,
              "#bd3786"
             ],
             [
              0.5555555555555556,
              "#d8576b"
             ],
             [
              0.6666666666666666,
              "#ed7953"
             ],
             [
              0.7777777777777778,
              "#fb9f3a"
             ],
             [
              0.8888888888888888,
              "#fdca26"
             ],
             [
              1,
              "#f0f921"
             ]
            ],
            "type": "contour"
           }
          ],
          "contourcarpet": [
           {
            "colorbar": {
             "outlinewidth": 0,
             "ticks": ""
            },
            "type": "contourcarpet"
           }
          ],
          "heatmap": [
           {
            "colorbar": {
             "outlinewidth": 0,
             "ticks": ""
            },
            "colorscale": [
             [
              0,
              "#0d0887"
             ],
             [
              0.1111111111111111,
              "#46039f"
             ],
             [
              0.2222222222222222,
              "#7201a8"
             ],
             [
              0.3333333333333333,
              "#9c179e"
             ],
             [
              0.4444444444444444,
              "#bd3786"
             ],
             [
              0.5555555555555556,
              "#d8576b"
             ],
             [
              0.6666666666666666,
              "#ed7953"
             ],
             [
              0.7777777777777778,
              "#fb9f3a"
             ],
             [
              0.8888888888888888,
              "#fdca26"
             ],
             [
              1,
              "#f0f921"
             ]
            ],
            "type": "heatmap"
           }
          ],
          "heatmapgl": [
           {
            "colorbar": {
             "outlinewidth": 0,
             "ticks": ""
            },
            "colorscale": [
             [
              0,
              "#0d0887"
             ],
             [
              0.1111111111111111,
              "#46039f"
             ],
             [
              0.2222222222222222,
              "#7201a8"
             ],
             [
              0.3333333333333333,
              "#9c179e"
             ],
             [
              0.4444444444444444,
              "#bd3786"
             ],
             [
              0.5555555555555556,
              "#d8576b"
             ],
             [
              0.6666666666666666,
              "#ed7953"
             ],
             [
              0.7777777777777778,
              "#fb9f3a"
             ],
             [
              0.8888888888888888,
              "#fdca26"
             ],
             [
              1,
              "#f0f921"
             ]
            ],
            "type": "heatmapgl"
           }
          ],
          "histogram": [
           {
            "marker": {
             "pattern": {
              "fillmode": "overlay",
              "size": 10,
              "solidity": 0.2
             }
            },
            "type": "histogram"
           }
          ],
          "histogram2d": [
           {
            "colorbar": {
             "outlinewidth": 0,
             "ticks": ""
            },
            "colorscale": [
             [
              0,
              "#0d0887"
             ],
             [
              0.1111111111111111,
              "#46039f"
             ],
             [
              0.2222222222222222,
              "#7201a8"
             ],
             [
              0.3333333333333333,
              "#9c179e"
             ],
             [
              0.4444444444444444,
              "#bd3786"
             ],
             [
              0.5555555555555556,
              "#d8576b"
             ],
             [
              0.6666666666666666,
              "#ed7953"
             ],
             [
              0.7777777777777778,
              "#fb9f3a"
             ],
             [
              0.8888888888888888,
              "#fdca26"
             ],
             [
              1,
              "#f0f921"
             ]
            ],
            "type": "histogram2d"
           }
          ],
          "histogram2dcontour": [
           {
            "colorbar": {
             "outlinewidth": 0,
             "ticks": ""
            },
            "colorscale": [
             [
              0,
              "#0d0887"
             ],
             [
              0.1111111111111111,
              "#46039f"
             ],
             [
              0.2222222222222222,
              "#7201a8"
             ],
             [
              0.3333333333333333,
              "#9c179e"
             ],
             [
              0.4444444444444444,
              "#bd3786"
             ],
             [
              0.5555555555555556,
              "#d8576b"
             ],
             [
              0.6666666666666666,
              "#ed7953"
             ],
             [
              0.7777777777777778,
              "#fb9f3a"
             ],
             [
              0.8888888888888888,
              "#fdca26"
             ],
             [
              1,
              "#f0f921"
             ]
            ],
            "type": "histogram2dcontour"
           }
          ],
          "mesh3d": [
           {
            "colorbar": {
             "outlinewidth": 0,
             "ticks": ""
            },
            "type": "mesh3d"
           }
          ],
          "parcoords": [
           {
            "line": {
             "colorbar": {
              "outlinewidth": 0,
              "ticks": ""
             }
            },
            "type": "parcoords"
           }
          ],
          "pie": [
           {
            "automargin": true,
            "type": "pie"
           }
          ],
          "scatter": [
           {
            "fillpattern": {
             "fillmode": "overlay",
             "size": 10,
             "solidity": 0.2
            },
            "type": "scatter"
           }
          ],
          "scatter3d": [
           {
            "line": {
             "colorbar": {
              "outlinewidth": 0,
              "ticks": ""
             }
            },
            "marker": {
             "colorbar": {
              "outlinewidth": 0,
              "ticks": ""
             }
            },
            "type": "scatter3d"
           }
          ],
          "scattercarpet": [
           {
            "marker": {
             "colorbar": {
              "outlinewidth": 0,
              "ticks": ""
             }
            },
            "type": "scattercarpet"
           }
          ],
          "scattergeo": [
           {
            "marker": {
             "colorbar": {
              "outlinewidth": 0,
              "ticks": ""
             }
            },
            "type": "scattergeo"
           }
          ],
          "scattergl": [
           {
            "marker": {
             "colorbar": {
              "outlinewidth": 0,
              "ticks": ""
             }
            },
            "type": "scattergl"
           }
          ],
          "scattermapbox": [
           {
            "marker": {
             "colorbar": {
              "outlinewidth": 0,
              "ticks": ""
             }
            },
            "type": "scattermapbox"
           }
          ],
          "scatterpolar": [
           {
            "marker": {
             "colorbar": {
              "outlinewidth": 0,
              "ticks": ""
             }
            },
            "type": "scatterpolar"
           }
          ],
          "scatterpolargl": [
           {
            "marker": {
             "colorbar": {
              "outlinewidth": 0,
              "ticks": ""
             }
            },
            "type": "scatterpolargl"
           }
          ],
          "scatterternary": [
           {
            "marker": {
             "colorbar": {
              "outlinewidth": 0,
              "ticks": ""
             }
            },
            "type": "scatterternary"
           }
          ],
          "surface": [
           {
            "colorbar": {
             "outlinewidth": 0,
             "ticks": ""
            },
            "colorscale": [
             [
              0,
              "#0d0887"
             ],
             [
              0.1111111111111111,
              "#46039f"
             ],
             [
              0.2222222222222222,
              "#7201a8"
             ],
             [
              0.3333333333333333,
              "#9c179e"
             ],
             [
              0.4444444444444444,
              "#bd3786"
             ],
             [
              0.5555555555555556,
              "#d8576b"
             ],
             [
              0.6666666666666666,
              "#ed7953"
             ],
             [
              0.7777777777777778,
              "#fb9f3a"
             ],
             [
              0.8888888888888888,
              "#fdca26"
             ],
             [
              1,
              "#f0f921"
             ]
            ],
            "type": "surface"
           }
          ],
          "table": [
           {
            "cells": {
             "fill": {
              "color": "#EBF0F8"
             },
             "line": {
              "color": "white"
             }
            },
            "header": {
             "fill": {
              "color": "#C8D4E3"
             },
             "line": {
              "color": "white"
             }
            },
            "type": "table"
           }
          ]
         },
         "layout": {
          "annotationdefaults": {
           "arrowcolor": "#2a3f5f",
           "arrowhead": 0,
           "arrowwidth": 1
          },
          "autotypenumbers": "strict",
          "coloraxis": {
           "colorbar": {
            "outlinewidth": 0,
            "ticks": ""
           }
          },
          "colorscale": {
           "diverging": [
            [
             0,
             "#8e0152"
            ],
            [
             0.1,
             "#c51b7d"
            ],
            [
             0.2,
             "#de77ae"
            ],
            [
             0.3,
             "#f1b6da"
            ],
            [
             0.4,
             "#fde0ef"
            ],
            [
             0.5,
             "#f7f7f7"
            ],
            [
             0.6,
             "#e6f5d0"
            ],
            [
             0.7,
             "#b8e186"
            ],
            [
             0.8,
             "#7fbc41"
            ],
            [
             0.9,
             "#4d9221"
            ],
            [
             1,
             "#276419"
            ]
           ],
           "sequential": [
            [
             0,
             "#0d0887"
            ],
            [
             0.1111111111111111,
             "#46039f"
            ],
            [
             0.2222222222222222,
             "#7201a8"
            ],
            [
             0.3333333333333333,
             "#9c179e"
            ],
            [
             0.4444444444444444,
             "#bd3786"
            ],
            [
             0.5555555555555556,
             "#d8576b"
            ],
            [
             0.6666666666666666,
             "#ed7953"
            ],
            [
             0.7777777777777778,
             "#fb9f3a"
            ],
            [
             0.8888888888888888,
             "#fdca26"
            ],
            [
             1,
             "#f0f921"
            ]
           ],
           "sequentialminus": [
            [
             0,
             "#0d0887"
            ],
            [
             0.1111111111111111,
             "#46039f"
            ],
            [
             0.2222222222222222,
             "#7201a8"
            ],
            [
             0.3333333333333333,
             "#9c179e"
            ],
            [
             0.4444444444444444,
             "#bd3786"
            ],
            [
             0.5555555555555556,
             "#d8576b"
            ],
            [
             0.6666666666666666,
             "#ed7953"
            ],
            [
             0.7777777777777778,
             "#fb9f3a"
            ],
            [
             0.8888888888888888,
             "#fdca26"
            ],
            [
             1,
             "#f0f921"
            ]
           ]
          },
          "colorway": [
           "#636efa",
           "#EF553B",
           "#00cc96",
           "#ab63fa",
           "#FFA15A",
           "#19d3f3",
           "#FF6692",
           "#B6E880",
           "#FF97FF",
           "#FECB52"
          ],
          "font": {
           "color": "#2a3f5f"
          },
          "geo": {
           "bgcolor": "white",
           "lakecolor": "white",
           "landcolor": "#E5ECF6",
           "showlakes": true,
           "showland": true,
           "subunitcolor": "white"
          },
          "hoverlabel": {
           "align": "left"
          },
          "hovermode": "closest",
          "mapbox": {
           "style": "light"
          },
          "paper_bgcolor": "white",
          "plot_bgcolor": "#E5ECF6",
          "polar": {
           "angularaxis": {
            "gridcolor": "white",
            "linecolor": "white",
            "ticks": ""
           },
           "bgcolor": "#E5ECF6",
           "radialaxis": {
            "gridcolor": "white",
            "linecolor": "white",
            "ticks": ""
           }
          },
          "scene": {
           "xaxis": {
            "backgroundcolor": "#E5ECF6",
            "gridcolor": "white",
            "gridwidth": 2,
            "linecolor": "white",
            "showbackground": true,
            "ticks": "",
            "zerolinecolor": "white"
           },
           "yaxis": {
            "backgroundcolor": "#E5ECF6",
            "gridcolor": "white",
            "gridwidth": 2,
            "linecolor": "white",
            "showbackground": true,
            "ticks": "",
            "zerolinecolor": "white"
           },
           "zaxis": {
            "backgroundcolor": "#E5ECF6",
            "gridcolor": "white",
            "gridwidth": 2,
            "linecolor": "white",
            "showbackground": true,
            "ticks": "",
            "zerolinecolor": "white"
           }
          },
          "shapedefaults": {
           "line": {
            "color": "#2a3f5f"
           }
          },
          "ternary": {
           "aaxis": {
            "gridcolor": "white",
            "linecolor": "white",
            "ticks": ""
           },
           "baxis": {
            "gridcolor": "white",
            "linecolor": "white",
            "ticks": ""
           },
           "bgcolor": "#E5ECF6",
           "caxis": {
            "gridcolor": "white",
            "linecolor": "white",
            "ticks": ""
           }
          },
          "title": {
           "x": 0.05
          },
          "xaxis": {
           "automargin": true,
           "gridcolor": "white",
           "linecolor": "white",
           "ticks": "",
           "title": {
            "standoff": 15
           },
           "zerolinecolor": "white",
           "zerolinewidth": 2
          },
          "yaxis": {
           "automargin": true,
           "gridcolor": "white",
           "linecolor": "white",
           "ticks": "",
           "title": {
            "standoff": 15
           },
           "zerolinecolor": "white",
           "zerolinewidth": 2
          }
         }
        },
        "title": {
         "text": "Population and Drinking Water Use in Chile"
        },
        "xaxis": {
         "anchor": "y",
         "domain": [
          0,
          1
         ],
         "title": {
          "text": "Population"
         }
        },
        "yaxis": {
         "anchor": "x",
         "domain": [
          0,
          1
         ],
         "title": {
          "text": "Drinking water use [m³/s]"
         }
        }
       }
      },
      "text/html": [
       "<div>                            <div id=\"88b6bbe1-3214-4bf0-8e2f-bcea895646ef\" class=\"plotly-graph-div\" style=\"height:525px; width:100%;\"></div>            <script type=\"text/javascript\">                require([\"plotly\"], function(Plotly) {                    window.PLOTLYENV=window.PLOTLYENV || {};                                    if (document.getElementById(\"88b6bbe1-3214-4bf0-8e2f-bcea895646ef\")) {                    Plotly.newPlot(                        \"88b6bbe1-3214-4bf0-8e2f-bcea895646ef\",                        [{\"hovertemplate\":\"Population=%{x}<br>Drinking water use [m\\u00b3/s]=%{y}<extra></extra>\",\"legendgroup\":\"\",\"marker\":{\"color\":\"#636efa\",\"symbol\":\"circle\"},\"mode\":\"markers\",\"name\":\"\",\"orientation\":\"v\",\"showlegend\":false,\"x\":[15691701,15856977,16022133,16183489,16347890,16517933,16697754,16881078,17063927,17254159,17443491,17611902,17787617,17971423,18167147,18419192,18751405,19107216,19458310],\"xaxis\":\"x\",\"y\":[41.9,42.47,43.52,44.63,45.68,46.62,47.76,47.53,49.41,50.93,52.3,53.3,53.38,53.38,54.14,55.32,56.5,55.99,55.73],\"yaxis\":\"y\",\"type\":\"scatter\"}],                        {\"template\":{\"data\":{\"histogram2dcontour\":[{\"type\":\"histogram2dcontour\",\"colorbar\":{\"outlinewidth\":0,\"ticks\":\"\"},\"colorscale\":[[0.0,\"#0d0887\"],[0.1111111111111111,\"#46039f\"],[0.2222222222222222,\"#7201a8\"],[0.3333333333333333,\"#9c179e\"],[0.4444444444444444,\"#bd3786\"],[0.5555555555555556,\"#d8576b\"],[0.6666666666666666,\"#ed7953\"],[0.7777777777777778,\"#fb9f3a\"],[0.8888888888888888,\"#fdca26\"],[1.0,\"#f0f921\"]]}],\"choropleth\":[{\"type\":\"choropleth\",\"colorbar\":{\"outlinewidth\":0,\"ticks\":\"\"}}],\"histogram2d\":[{\"type\":\"histogram2d\",\"colorbar\":{\"outlinewidth\":0,\"ticks\":\"\"},\"colorscale\":[[0.0,\"#0d0887\"],[0.1111111111111111,\"#46039f\"],[0.2222222222222222,\"#7201a8\"],[0.3333333333333333,\"#9c179e\"],[0.4444444444444444,\"#bd3786\"],[0.5555555555555556,\"#d8576b\"],[0.6666666666666666,\"#ed7953\"],[0.7777777777777778,\"#fb9f3a\"],[0.8888888888888888,\"#fdca26\"],[1.0,\"#f0f921\"]]}],\"heatmap\":[{\"type\":\"heatmap\",\"colorbar\":{\"outlinewidth\":0,\"ticks\":\"\"},\"colorscale\":[[0.0,\"#0d0887\"],[0.1111111111111111,\"#46039f\"],[0.2222222222222222,\"#7201a8\"],[0.3333333333333333,\"#9c179e\"],[0.4444444444444444,\"#bd3786\"],[0.5555555555555556,\"#d8576b\"],[0.6666666666666666,\"#ed7953\"],[0.7777777777777778,\"#fb9f3a\"],[0.8888888888888888,\"#fdca26\"],[1.0,\"#f0f921\"]]}],\"heatmapgl\":[{\"type\":\"heatmapgl\",\"colorbar\":{\"outlinewidth\":0,\"ticks\":\"\"},\"colorscale\":[[0.0,\"#0d0887\"],[0.1111111111111111,\"#46039f\"],[0.2222222222222222,\"#7201a8\"],[0.3333333333333333,\"#9c179e\"],[0.4444444444444444,\"#bd3786\"],[0.5555555555555556,\"#d8576b\"],[0.6666666666666666,\"#ed7953\"],[0.7777777777777778,\"#fb9f3a\"],[0.8888888888888888,\"#fdca26\"],[1.0,\"#f0f921\"]]}],\"contourcarpet\":[{\"type\":\"contourcarpet\",\"colorbar\":{\"outlinewidth\":0,\"ticks\":\"\"}}],\"contour\":[{\"type\":\"contour\",\"colorbar\":{\"outlinewidth\":0,\"ticks\":\"\"},\"colorscale\":[[0.0,\"#0d0887\"],[0.1111111111111111,\"#46039f\"],[0.2222222222222222,\"#7201a8\"],[0.3333333333333333,\"#9c179e\"],[0.4444444444444444,\"#bd3786\"],[0.5555555555555556,\"#d8576b\"],[0.6666666666666666,\"#ed7953\"],[0.7777777777777778,\"#fb9f3a\"],[0.8888888888888888,\"#fdca26\"],[1.0,\"#f0f921\"]]}],\"surface\":[{\"type\":\"surface\",\"colorbar\":{\"outlinewidth\":0,\"ticks\":\"\"},\"colorscale\":[[0.0,\"#0d0887\"],[0.1111111111111111,\"#46039f\"],[0.2222222222222222,\"#7201a8\"],[0.3333333333333333,\"#9c179e\"],[0.4444444444444444,\"#bd3786\"],[0.5555555555555556,\"#d8576b\"],[0.6666666666666666,\"#ed7953\"],[0.7777777777777778,\"#fb9f3a\"],[0.8888888888888888,\"#fdca26\"],[1.0,\"#f0f921\"]]}],\"mesh3d\":[{\"type\":\"mesh3d\",\"colorbar\":{\"outlinewidth\":0,\"ticks\":\"\"}}],\"scatter\":[{\"fillpattern\":{\"fillmode\":\"overlay\",\"size\":10,\"solidity\":0.2},\"type\":\"scatter\"}],\"parcoords\":[{\"type\":\"parcoords\",\"line\":{\"colorbar\":{\"outlinewidth\":0,\"ticks\":\"\"}}}],\"scatterpolargl\":[{\"type\":\"scatterpolargl\",\"marker\":{\"colorbar\":{\"outlinewidth\":0,\"ticks\":\"\"}}}],\"bar\":[{\"error_x\":{\"color\":\"#2a3f5f\"},\"error_y\":{\"color\":\"#2a3f5f\"},\"marker\":{\"line\":{\"color\":\"#E5ECF6\",\"width\":0.5},\"pattern\":{\"fillmode\":\"overlay\",\"size\":10,\"solidity\":0.2}},\"type\":\"bar\"}],\"scattergeo\":[{\"type\":\"scattergeo\",\"marker\":{\"colorbar\":{\"outlinewidth\":0,\"ticks\":\"\"}}}],\"scatterpolar\":[{\"type\":\"scatterpolar\",\"marker\":{\"colorbar\":{\"outlinewidth\":0,\"ticks\":\"\"}}}],\"histogram\":[{\"marker\":{\"pattern\":{\"fillmode\":\"overlay\",\"size\":10,\"solidity\":0.2}},\"type\":\"histogram\"}],\"scattergl\":[{\"type\":\"scattergl\",\"marker\":{\"colorbar\":{\"outlinewidth\":0,\"ticks\":\"\"}}}],\"scatter3d\":[{\"type\":\"scatter3d\",\"line\":{\"colorbar\":{\"outlinewidth\":0,\"ticks\":\"\"}},\"marker\":{\"colorbar\":{\"outlinewidth\":0,\"ticks\":\"\"}}}],\"scattermapbox\":[{\"type\":\"scattermapbox\",\"marker\":{\"colorbar\":{\"outlinewidth\":0,\"ticks\":\"\"}}}],\"scatterternary\":[{\"type\":\"scatterternary\",\"marker\":{\"colorbar\":{\"outlinewidth\":0,\"ticks\":\"\"}}}],\"scattercarpet\":[{\"type\":\"scattercarpet\",\"marker\":{\"colorbar\":{\"outlinewidth\":0,\"ticks\":\"\"}}}],\"carpet\":[{\"aaxis\":{\"endlinecolor\":\"#2a3f5f\",\"gridcolor\":\"white\",\"linecolor\":\"white\",\"minorgridcolor\":\"white\",\"startlinecolor\":\"#2a3f5f\"},\"baxis\":{\"endlinecolor\":\"#2a3f5f\",\"gridcolor\":\"white\",\"linecolor\":\"white\",\"minorgridcolor\":\"white\",\"startlinecolor\":\"#2a3f5f\"},\"type\":\"carpet\"}],\"table\":[{\"cells\":{\"fill\":{\"color\":\"#EBF0F8\"},\"line\":{\"color\":\"white\"}},\"header\":{\"fill\":{\"color\":\"#C8D4E3\"},\"line\":{\"color\":\"white\"}},\"type\":\"table\"}],\"barpolar\":[{\"marker\":{\"line\":{\"color\":\"#E5ECF6\",\"width\":0.5},\"pattern\":{\"fillmode\":\"overlay\",\"size\":10,\"solidity\":0.2}},\"type\":\"barpolar\"}],\"pie\":[{\"automargin\":true,\"type\":\"pie\"}]},\"layout\":{\"autotypenumbers\":\"strict\",\"colorway\":[\"#636efa\",\"#EF553B\",\"#00cc96\",\"#ab63fa\",\"#FFA15A\",\"#19d3f3\",\"#FF6692\",\"#B6E880\",\"#FF97FF\",\"#FECB52\"],\"font\":{\"color\":\"#2a3f5f\"},\"hovermode\":\"closest\",\"hoverlabel\":{\"align\":\"left\"},\"paper_bgcolor\":\"white\",\"plot_bgcolor\":\"#E5ECF6\",\"polar\":{\"bgcolor\":\"#E5ECF6\",\"angularaxis\":{\"gridcolor\":\"white\",\"linecolor\":\"white\",\"ticks\":\"\"},\"radialaxis\":{\"gridcolor\":\"white\",\"linecolor\":\"white\",\"ticks\":\"\"}},\"ternary\":{\"bgcolor\":\"#E5ECF6\",\"aaxis\":{\"gridcolor\":\"white\",\"linecolor\":\"white\",\"ticks\":\"\"},\"baxis\":{\"gridcolor\":\"white\",\"linecolor\":\"white\",\"ticks\":\"\"},\"caxis\":{\"gridcolor\":\"white\",\"linecolor\":\"white\",\"ticks\":\"\"}},\"coloraxis\":{\"colorbar\":{\"outlinewidth\":0,\"ticks\":\"\"}},\"colorscale\":{\"sequential\":[[0.0,\"#0d0887\"],[0.1111111111111111,\"#46039f\"],[0.2222222222222222,\"#7201a8\"],[0.3333333333333333,\"#9c179e\"],[0.4444444444444444,\"#bd3786\"],[0.5555555555555556,\"#d8576b\"],[0.6666666666666666,\"#ed7953\"],[0.7777777777777778,\"#fb9f3a\"],[0.8888888888888888,\"#fdca26\"],[1.0,\"#f0f921\"]],\"sequentialminus\":[[0.0,\"#0d0887\"],[0.1111111111111111,\"#46039f\"],[0.2222222222222222,\"#7201a8\"],[0.3333333333333333,\"#9c179e\"],[0.4444444444444444,\"#bd3786\"],[0.5555555555555556,\"#d8576b\"],[0.6666666666666666,\"#ed7953\"],[0.7777777777777778,\"#fb9f3a\"],[0.8888888888888888,\"#fdca26\"],[1.0,\"#f0f921\"]],\"diverging\":[[0,\"#8e0152\"],[0.1,\"#c51b7d\"],[0.2,\"#de77ae\"],[0.3,\"#f1b6da\"],[0.4,\"#fde0ef\"],[0.5,\"#f7f7f7\"],[0.6,\"#e6f5d0\"],[0.7,\"#b8e186\"],[0.8,\"#7fbc41\"],[0.9,\"#4d9221\"],[1,\"#276419\"]]},\"xaxis\":{\"gridcolor\":\"white\",\"linecolor\":\"white\",\"ticks\":\"\",\"title\":{\"standoff\":15},\"zerolinecolor\":\"white\",\"automargin\":true,\"zerolinewidth\":2},\"yaxis\":{\"gridcolor\":\"white\",\"linecolor\":\"white\",\"ticks\":\"\",\"title\":{\"standoff\":15},\"zerolinecolor\":\"white\",\"automargin\":true,\"zerolinewidth\":2},\"scene\":{\"xaxis\":{\"backgroundcolor\":\"#E5ECF6\",\"gridcolor\":\"white\",\"linecolor\":\"white\",\"showbackground\":true,\"ticks\":\"\",\"zerolinecolor\":\"white\",\"gridwidth\":2},\"yaxis\":{\"backgroundcolor\":\"#E5ECF6\",\"gridcolor\":\"white\",\"linecolor\":\"white\",\"showbackground\":true,\"ticks\":\"\",\"zerolinecolor\":\"white\",\"gridwidth\":2},\"zaxis\":{\"backgroundcolor\":\"#E5ECF6\",\"gridcolor\":\"white\",\"linecolor\":\"white\",\"showbackground\":true,\"ticks\":\"\",\"zerolinecolor\":\"white\",\"gridwidth\":2}},\"shapedefaults\":{\"line\":{\"color\":\"#2a3f5f\"}},\"annotationdefaults\":{\"arrowcolor\":\"#2a3f5f\",\"arrowhead\":0,\"arrowwidth\":1},\"geo\":{\"bgcolor\":\"white\",\"landcolor\":\"#E5ECF6\",\"subunitcolor\":\"white\",\"showland\":true,\"showlakes\":true,\"lakecolor\":\"white\"},\"title\":{\"x\":0.05},\"mapbox\":{\"style\":\"light\"}}},\"xaxis\":{\"anchor\":\"y\",\"domain\":[0.0,1.0],\"title\":{\"text\":\"Population\"}},\"yaxis\":{\"anchor\":\"x\",\"domain\":[0.0,1.0],\"title\":{\"text\":\"Drinking water use [m\\u00b3/s]\"}},\"legend\":{\"tracegroupgap\":0},\"title\":{\"text\":\"Population and Drinking Water Use in Chile\"}},                        {\"responsive\": true}                    ).then(function(){\n",
       "                            \n",
       "var gd = document.getElementById('88b6bbe1-3214-4bf0-8e2f-bcea895646ef');\n",
       "var x = new MutationObserver(function (mutations, observer) {{\n",
       "        var display = window.getComputedStyle(gd).display;\n",
       "        if (!display || display === 'none') {{\n",
       "            console.log([gd, 'removed!']);\n",
       "            Plotly.purge(gd);\n",
       "            observer.disconnect();\n",
       "        }}\n",
       "}});\n",
       "\n",
       "// Listen for the removal of the full notebook cells\n",
       "var notebookContainer = gd.closest('#notebook-container');\n",
       "if (notebookContainer) {{\n",
       "    x.observe(notebookContainer, {childList: true});\n",
       "}}\n",
       "\n",
       "// Listen for the clearing of the current output cell\n",
       "var outputEl = gd.closest('.output');\n",
       "if (outputEl) {{\n",
       "    x.observe(outputEl, {childList: true});\n",
       "}}\n",
       "\n",
       "                        })                };                });            </script>        </div>"
      ]
     },
     "metadata": {},
     "output_type": "display_data"
    }
   ],
   "source": [
    "fig = px.scatter(DW_pop, x=\"Population\", y=\"NLU\", \n",
    "              title=\"Population and Drinking Water Use in Chile\", \n",
    "              labels={'Population':'Population', 'NLU':'Drinking water use [m³/s]'}) \n",
    "\n",
    "fig.show()\n",
    "#fig.write_image(r\"/mnt/home2/mari/Tesis/pop_dw.png\")"
   ]
  },
  {
   "cell_type": "code",
   "execution_count": 69,
   "id": "784df49c",
   "metadata": {},
   "outputs": [
    {
     "data": {
      "application/vnd.plotly.v1+json": {
       "config": {
        "plotlyServerURL": "https://plot.ly"
       },
       "data": [
        {
         "hovertemplate": "Log Population=%{x}<br>Log_NLU_DW=%{y}<extra></extra>",
         "legendgroup": "",
         "marker": {
          "color": "#636efa",
          "symbol": "circle"
         },
         "mode": "markers",
         "name": "",
         "orientation": "v",
         "showlegend": false,
         "type": "scatter",
         "x": [
          16.56864253183486,
          16.579120150707134,
          16.589481636808753,
          16.599502082936773,
          16.609609394991846,
          16.619957197163437,
          16.63078477732429,
          16.6417039076522,
          16.652477261111983,
          16.663563773830635,
          16.67447712843171,
          16.68408548145438,
          16.694013099011457,
          16.704293443159354,
          16.715125410982797,
          16.728903722465585,
          16.746779240906665,
          16.765576622715134,
          16.783784786141037
         ],
         "xaxis": "x",
         "y": [
          3.735285826928092,
          3.74879794432518,
          3.773220602547687,
          3.7984062786411785,
          3.821660565347755,
          3.842029633607611,
          3.8661884690843467,
          3.861361090625918,
          3.9001528328576587,
          3.9304521408965134,
          3.9569963710708773,
          3.975936331171799,
          3.9774361439763783,
          3.9774361439763783,
          3.9915732841861553,
          4.013134506796558,
          4.034240638152395,
          4.025173103360802,
          4.020518601581445
         ],
         "yaxis": "y"
        }
       ],
       "layout": {
        "legend": {
         "tracegroupgap": 0
        },
        "template": {
         "data": {
          "bar": [
           {
            "error_x": {
             "color": "#2a3f5f"
            },
            "error_y": {
             "color": "#2a3f5f"
            },
            "marker": {
             "line": {
              "color": "#E5ECF6",
              "width": 0.5
             },
             "pattern": {
              "fillmode": "overlay",
              "size": 10,
              "solidity": 0.2
             }
            },
            "type": "bar"
           }
          ],
          "barpolar": [
           {
            "marker": {
             "line": {
              "color": "#E5ECF6",
              "width": 0.5
             },
             "pattern": {
              "fillmode": "overlay",
              "size": 10,
              "solidity": 0.2
             }
            },
            "type": "barpolar"
           }
          ],
          "carpet": [
           {
            "aaxis": {
             "endlinecolor": "#2a3f5f",
             "gridcolor": "white",
             "linecolor": "white",
             "minorgridcolor": "white",
             "startlinecolor": "#2a3f5f"
            },
            "baxis": {
             "endlinecolor": "#2a3f5f",
             "gridcolor": "white",
             "linecolor": "white",
             "minorgridcolor": "white",
             "startlinecolor": "#2a3f5f"
            },
            "type": "carpet"
           }
          ],
          "choropleth": [
           {
            "colorbar": {
             "outlinewidth": 0,
             "ticks": ""
            },
            "type": "choropleth"
           }
          ],
          "contour": [
           {
            "colorbar": {
             "outlinewidth": 0,
             "ticks": ""
            },
            "colorscale": [
             [
              0,
              "#0d0887"
             ],
             [
              0.1111111111111111,
              "#46039f"
             ],
             [
              0.2222222222222222,
              "#7201a8"
             ],
             [
              0.3333333333333333,
              "#9c179e"
             ],
             [
              0.4444444444444444,
              "#bd3786"
             ],
             [
              0.5555555555555556,
              "#d8576b"
             ],
             [
              0.6666666666666666,
              "#ed7953"
             ],
             [
              0.7777777777777778,
              "#fb9f3a"
             ],
             [
              0.8888888888888888,
              "#fdca26"
             ],
             [
              1,
              "#f0f921"
             ]
            ],
            "type": "contour"
           }
          ],
          "contourcarpet": [
           {
            "colorbar": {
             "outlinewidth": 0,
             "ticks": ""
            },
            "type": "contourcarpet"
           }
          ],
          "heatmap": [
           {
            "colorbar": {
             "outlinewidth": 0,
             "ticks": ""
            },
            "colorscale": [
             [
              0,
              "#0d0887"
             ],
             [
              0.1111111111111111,
              "#46039f"
             ],
             [
              0.2222222222222222,
              "#7201a8"
             ],
             [
              0.3333333333333333,
              "#9c179e"
             ],
             [
              0.4444444444444444,
              "#bd3786"
             ],
             [
              0.5555555555555556,
              "#d8576b"
             ],
             [
              0.6666666666666666,
              "#ed7953"
             ],
             [
              0.7777777777777778,
              "#fb9f3a"
             ],
             [
              0.8888888888888888,
              "#fdca26"
             ],
             [
              1,
              "#f0f921"
             ]
            ],
            "type": "heatmap"
           }
          ],
          "heatmapgl": [
           {
            "colorbar": {
             "outlinewidth": 0,
             "ticks": ""
            },
            "colorscale": [
             [
              0,
              "#0d0887"
             ],
             [
              0.1111111111111111,
              "#46039f"
             ],
             [
              0.2222222222222222,
              "#7201a8"
             ],
             [
              0.3333333333333333,
              "#9c179e"
             ],
             [
              0.4444444444444444,
              "#bd3786"
             ],
             [
              0.5555555555555556,
              "#d8576b"
             ],
             [
              0.6666666666666666,
              "#ed7953"
             ],
             [
              0.7777777777777778,
              "#fb9f3a"
             ],
             [
              0.8888888888888888,
              "#fdca26"
             ],
             [
              1,
              "#f0f921"
             ]
            ],
            "type": "heatmapgl"
           }
          ],
          "histogram": [
           {
            "marker": {
             "pattern": {
              "fillmode": "overlay",
              "size": 10,
              "solidity": 0.2
             }
            },
            "type": "histogram"
           }
          ],
          "histogram2d": [
           {
            "colorbar": {
             "outlinewidth": 0,
             "ticks": ""
            },
            "colorscale": [
             [
              0,
              "#0d0887"
             ],
             [
              0.1111111111111111,
              "#46039f"
             ],
             [
              0.2222222222222222,
              "#7201a8"
             ],
             [
              0.3333333333333333,
              "#9c179e"
             ],
             [
              0.4444444444444444,
              "#bd3786"
             ],
             [
              0.5555555555555556,
              "#d8576b"
             ],
             [
              0.6666666666666666,
              "#ed7953"
             ],
             [
              0.7777777777777778,
              "#fb9f3a"
             ],
             [
              0.8888888888888888,
              "#fdca26"
             ],
             [
              1,
              "#f0f921"
             ]
            ],
            "type": "histogram2d"
           }
          ],
          "histogram2dcontour": [
           {
            "colorbar": {
             "outlinewidth": 0,
             "ticks": ""
            },
            "colorscale": [
             [
              0,
              "#0d0887"
             ],
             [
              0.1111111111111111,
              "#46039f"
             ],
             [
              0.2222222222222222,
              "#7201a8"
             ],
             [
              0.3333333333333333,
              "#9c179e"
             ],
             [
              0.4444444444444444,
              "#bd3786"
             ],
             [
              0.5555555555555556,
              "#d8576b"
             ],
             [
              0.6666666666666666,
              "#ed7953"
             ],
             [
              0.7777777777777778,
              "#fb9f3a"
             ],
             [
              0.8888888888888888,
              "#fdca26"
             ],
             [
              1,
              "#f0f921"
             ]
            ],
            "type": "histogram2dcontour"
           }
          ],
          "mesh3d": [
           {
            "colorbar": {
             "outlinewidth": 0,
             "ticks": ""
            },
            "type": "mesh3d"
           }
          ],
          "parcoords": [
           {
            "line": {
             "colorbar": {
              "outlinewidth": 0,
              "ticks": ""
             }
            },
            "type": "parcoords"
           }
          ],
          "pie": [
           {
            "automargin": true,
            "type": "pie"
           }
          ],
          "scatter": [
           {
            "fillpattern": {
             "fillmode": "overlay",
             "size": 10,
             "solidity": 0.2
            },
            "type": "scatter"
           }
          ],
          "scatter3d": [
           {
            "line": {
             "colorbar": {
              "outlinewidth": 0,
              "ticks": ""
             }
            },
            "marker": {
             "colorbar": {
              "outlinewidth": 0,
              "ticks": ""
             }
            },
            "type": "scatter3d"
           }
          ],
          "scattercarpet": [
           {
            "marker": {
             "colorbar": {
              "outlinewidth": 0,
              "ticks": ""
             }
            },
            "type": "scattercarpet"
           }
          ],
          "scattergeo": [
           {
            "marker": {
             "colorbar": {
              "outlinewidth": 0,
              "ticks": ""
             }
            },
            "type": "scattergeo"
           }
          ],
          "scattergl": [
           {
            "marker": {
             "colorbar": {
              "outlinewidth": 0,
              "ticks": ""
             }
            },
            "type": "scattergl"
           }
          ],
          "scattermapbox": [
           {
            "marker": {
             "colorbar": {
              "outlinewidth": 0,
              "ticks": ""
             }
            },
            "type": "scattermapbox"
           }
          ],
          "scatterpolar": [
           {
            "marker": {
             "colorbar": {
              "outlinewidth": 0,
              "ticks": ""
             }
            },
            "type": "scatterpolar"
           }
          ],
          "scatterpolargl": [
           {
            "marker": {
             "colorbar": {
              "outlinewidth": 0,
              "ticks": ""
             }
            },
            "type": "scatterpolargl"
           }
          ],
          "scatterternary": [
           {
            "marker": {
             "colorbar": {
              "outlinewidth": 0,
              "ticks": ""
             }
            },
            "type": "scatterternary"
           }
          ],
          "surface": [
           {
            "colorbar": {
             "outlinewidth": 0,
             "ticks": ""
            },
            "colorscale": [
             [
              0,
              "#0d0887"
             ],
             [
              0.1111111111111111,
              "#46039f"
             ],
             [
              0.2222222222222222,
              "#7201a8"
             ],
             [
              0.3333333333333333,
              "#9c179e"
             ],
             [
              0.4444444444444444,
              "#bd3786"
             ],
             [
              0.5555555555555556,
              "#d8576b"
             ],
             [
              0.6666666666666666,
              "#ed7953"
             ],
             [
              0.7777777777777778,
              "#fb9f3a"
             ],
             [
              0.8888888888888888,
              "#fdca26"
             ],
             [
              1,
              "#f0f921"
             ]
            ],
            "type": "surface"
           }
          ],
          "table": [
           {
            "cells": {
             "fill": {
              "color": "#EBF0F8"
             },
             "line": {
              "color": "white"
             }
            },
            "header": {
             "fill": {
              "color": "#C8D4E3"
             },
             "line": {
              "color": "white"
             }
            },
            "type": "table"
           }
          ]
         },
         "layout": {
          "annotationdefaults": {
           "arrowcolor": "#2a3f5f",
           "arrowhead": 0,
           "arrowwidth": 1
          },
          "autotypenumbers": "strict",
          "coloraxis": {
           "colorbar": {
            "outlinewidth": 0,
            "ticks": ""
           }
          },
          "colorscale": {
           "diverging": [
            [
             0,
             "#8e0152"
            ],
            [
             0.1,
             "#c51b7d"
            ],
            [
             0.2,
             "#de77ae"
            ],
            [
             0.3,
             "#f1b6da"
            ],
            [
             0.4,
             "#fde0ef"
            ],
            [
             0.5,
             "#f7f7f7"
            ],
            [
             0.6,
             "#e6f5d0"
            ],
            [
             0.7,
             "#b8e186"
            ],
            [
             0.8,
             "#7fbc41"
            ],
            [
             0.9,
             "#4d9221"
            ],
            [
             1,
             "#276419"
            ]
           ],
           "sequential": [
            [
             0,
             "#0d0887"
            ],
            [
             0.1111111111111111,
             "#46039f"
            ],
            [
             0.2222222222222222,
             "#7201a8"
            ],
            [
             0.3333333333333333,
             "#9c179e"
            ],
            [
             0.4444444444444444,
             "#bd3786"
            ],
            [
             0.5555555555555556,
             "#d8576b"
            ],
            [
             0.6666666666666666,
             "#ed7953"
            ],
            [
             0.7777777777777778,
             "#fb9f3a"
            ],
            [
             0.8888888888888888,
             "#fdca26"
            ],
            [
             1,
             "#f0f921"
            ]
           ],
           "sequentialminus": [
            [
             0,
             "#0d0887"
            ],
            [
             0.1111111111111111,
             "#46039f"
            ],
            [
             0.2222222222222222,
             "#7201a8"
            ],
            [
             0.3333333333333333,
             "#9c179e"
            ],
            [
             0.4444444444444444,
             "#bd3786"
            ],
            [
             0.5555555555555556,
             "#d8576b"
            ],
            [
             0.6666666666666666,
             "#ed7953"
            ],
            [
             0.7777777777777778,
             "#fb9f3a"
            ],
            [
             0.8888888888888888,
             "#fdca26"
            ],
            [
             1,
             "#f0f921"
            ]
           ]
          },
          "colorway": [
           "#636efa",
           "#EF553B",
           "#00cc96",
           "#ab63fa",
           "#FFA15A",
           "#19d3f3",
           "#FF6692",
           "#B6E880",
           "#FF97FF",
           "#FECB52"
          ],
          "font": {
           "color": "#2a3f5f"
          },
          "geo": {
           "bgcolor": "white",
           "lakecolor": "white",
           "landcolor": "#E5ECF6",
           "showlakes": true,
           "showland": true,
           "subunitcolor": "white"
          },
          "hoverlabel": {
           "align": "left"
          },
          "hovermode": "closest",
          "mapbox": {
           "style": "light"
          },
          "paper_bgcolor": "white",
          "plot_bgcolor": "#E5ECF6",
          "polar": {
           "angularaxis": {
            "gridcolor": "white",
            "linecolor": "white",
            "ticks": ""
           },
           "bgcolor": "#E5ECF6",
           "radialaxis": {
            "gridcolor": "white",
            "linecolor": "white",
            "ticks": ""
           }
          },
          "scene": {
           "xaxis": {
            "backgroundcolor": "#E5ECF6",
            "gridcolor": "white",
            "gridwidth": 2,
            "linecolor": "white",
            "showbackground": true,
            "ticks": "",
            "zerolinecolor": "white"
           },
           "yaxis": {
            "backgroundcolor": "#E5ECF6",
            "gridcolor": "white",
            "gridwidth": 2,
            "linecolor": "white",
            "showbackground": true,
            "ticks": "",
            "zerolinecolor": "white"
           },
           "zaxis": {
            "backgroundcolor": "#E5ECF6",
            "gridcolor": "white",
            "gridwidth": 2,
            "linecolor": "white",
            "showbackground": true,
            "ticks": "",
            "zerolinecolor": "white"
           }
          },
          "shapedefaults": {
           "line": {
            "color": "#2a3f5f"
           }
          },
          "ternary": {
           "aaxis": {
            "gridcolor": "white",
            "linecolor": "white",
            "ticks": ""
           },
           "baxis": {
            "gridcolor": "white",
            "linecolor": "white",
            "ticks": ""
           },
           "bgcolor": "#E5ECF6",
           "caxis": {
            "gridcolor": "white",
            "linecolor": "white",
            "ticks": ""
           }
          },
          "title": {
           "x": 0.05
          },
          "xaxis": {
           "automargin": true,
           "gridcolor": "white",
           "linecolor": "white",
           "ticks": "",
           "title": {
            "standoff": 15
           },
           "zerolinecolor": "white",
           "zerolinewidth": 2
          },
          "yaxis": {
           "automargin": true,
           "gridcolor": "white",
           "linecolor": "white",
           "ticks": "",
           "title": {
            "standoff": 15
           },
           "zerolinecolor": "white",
           "zerolinewidth": 2
          }
         }
        },
        "title": {
         "text": "Population and Drinking Water Use in Chile"
        },
        "xaxis": {
         "anchor": "y",
         "domain": [
          0,
          1
         ],
         "title": {
          "text": "Log Population"
         }
        },
        "yaxis": {
         "anchor": "x",
         "domain": [
          0,
          1
         ],
         "title": {
          "text": "Log_NLU_DW"
         }
        }
       }
      },
      "text/html": [
       "<div>                            <div id=\"c31b00f2-5915-4555-94b8-826d1da59710\" class=\"plotly-graph-div\" style=\"height:525px; width:100%;\"></div>            <script type=\"text/javascript\">                require([\"plotly\"], function(Plotly) {                    window.PLOTLYENV=window.PLOTLYENV || {};                                    if (document.getElementById(\"c31b00f2-5915-4555-94b8-826d1da59710\")) {                    Plotly.newPlot(                        \"c31b00f2-5915-4555-94b8-826d1da59710\",                        [{\"hovertemplate\":\"Log Population=%{x}<br>Log_NLU_DW=%{y}<extra></extra>\",\"legendgroup\":\"\",\"marker\":{\"color\":\"#636efa\",\"symbol\":\"circle\"},\"mode\":\"markers\",\"name\":\"\",\"orientation\":\"v\",\"showlegend\":false,\"x\":[16.56864253183486,16.579120150707134,16.589481636808753,16.599502082936773,16.609609394991846,16.619957197163437,16.63078477732429,16.6417039076522,16.652477261111983,16.663563773830635,16.67447712843171,16.68408548145438,16.694013099011457,16.704293443159354,16.715125410982797,16.728903722465585,16.746779240906665,16.765576622715134,16.783784786141037],\"xaxis\":\"x\",\"y\":[3.735285826928092,3.74879794432518,3.773220602547687,3.7984062786411785,3.821660565347755,3.842029633607611,3.8661884690843467,3.861361090625918,3.9001528328576587,3.9304521408965134,3.9569963710708773,3.975936331171799,3.9774361439763783,3.9774361439763783,3.9915732841861553,4.013134506796558,4.034240638152395,4.025173103360802,4.020518601581445],\"yaxis\":\"y\",\"type\":\"scatter\"}],                        {\"template\":{\"data\":{\"histogram2dcontour\":[{\"type\":\"histogram2dcontour\",\"colorbar\":{\"outlinewidth\":0,\"ticks\":\"\"},\"colorscale\":[[0.0,\"#0d0887\"],[0.1111111111111111,\"#46039f\"],[0.2222222222222222,\"#7201a8\"],[0.3333333333333333,\"#9c179e\"],[0.4444444444444444,\"#bd3786\"],[0.5555555555555556,\"#d8576b\"],[0.6666666666666666,\"#ed7953\"],[0.7777777777777778,\"#fb9f3a\"],[0.8888888888888888,\"#fdca26\"],[1.0,\"#f0f921\"]]}],\"choropleth\":[{\"type\":\"choropleth\",\"colorbar\":{\"outlinewidth\":0,\"ticks\":\"\"}}],\"histogram2d\":[{\"type\":\"histogram2d\",\"colorbar\":{\"outlinewidth\":0,\"ticks\":\"\"},\"colorscale\":[[0.0,\"#0d0887\"],[0.1111111111111111,\"#46039f\"],[0.2222222222222222,\"#7201a8\"],[0.3333333333333333,\"#9c179e\"],[0.4444444444444444,\"#bd3786\"],[0.5555555555555556,\"#d8576b\"],[0.6666666666666666,\"#ed7953\"],[0.7777777777777778,\"#fb9f3a\"],[0.8888888888888888,\"#fdca26\"],[1.0,\"#f0f921\"]]}],\"heatmap\":[{\"type\":\"heatmap\",\"colorbar\":{\"outlinewidth\":0,\"ticks\":\"\"},\"colorscale\":[[0.0,\"#0d0887\"],[0.1111111111111111,\"#46039f\"],[0.2222222222222222,\"#7201a8\"],[0.3333333333333333,\"#9c179e\"],[0.4444444444444444,\"#bd3786\"],[0.5555555555555556,\"#d8576b\"],[0.6666666666666666,\"#ed7953\"],[0.7777777777777778,\"#fb9f3a\"],[0.8888888888888888,\"#fdca26\"],[1.0,\"#f0f921\"]]}],\"heatmapgl\":[{\"type\":\"heatmapgl\",\"colorbar\":{\"outlinewidth\":0,\"ticks\":\"\"},\"colorscale\":[[0.0,\"#0d0887\"],[0.1111111111111111,\"#46039f\"],[0.2222222222222222,\"#7201a8\"],[0.3333333333333333,\"#9c179e\"],[0.4444444444444444,\"#bd3786\"],[0.5555555555555556,\"#d8576b\"],[0.6666666666666666,\"#ed7953\"],[0.7777777777777778,\"#fb9f3a\"],[0.8888888888888888,\"#fdca26\"],[1.0,\"#f0f921\"]]}],\"contourcarpet\":[{\"type\":\"contourcarpet\",\"colorbar\":{\"outlinewidth\":0,\"ticks\":\"\"}}],\"contour\":[{\"type\":\"contour\",\"colorbar\":{\"outlinewidth\":0,\"ticks\":\"\"},\"colorscale\":[[0.0,\"#0d0887\"],[0.1111111111111111,\"#46039f\"],[0.2222222222222222,\"#7201a8\"],[0.3333333333333333,\"#9c179e\"],[0.4444444444444444,\"#bd3786\"],[0.5555555555555556,\"#d8576b\"],[0.6666666666666666,\"#ed7953\"],[0.7777777777777778,\"#fb9f3a\"],[0.8888888888888888,\"#fdca26\"],[1.0,\"#f0f921\"]]}],\"surface\":[{\"type\":\"surface\",\"colorbar\":{\"outlinewidth\":0,\"ticks\":\"\"},\"colorscale\":[[0.0,\"#0d0887\"],[0.1111111111111111,\"#46039f\"],[0.2222222222222222,\"#7201a8\"],[0.3333333333333333,\"#9c179e\"],[0.4444444444444444,\"#bd3786\"],[0.5555555555555556,\"#d8576b\"],[0.6666666666666666,\"#ed7953\"],[0.7777777777777778,\"#fb9f3a\"],[0.8888888888888888,\"#fdca26\"],[1.0,\"#f0f921\"]]}],\"mesh3d\":[{\"type\":\"mesh3d\",\"colorbar\":{\"outlinewidth\":0,\"ticks\":\"\"}}],\"scatter\":[{\"fillpattern\":{\"fillmode\":\"overlay\",\"size\":10,\"solidity\":0.2},\"type\":\"scatter\"}],\"parcoords\":[{\"type\":\"parcoords\",\"line\":{\"colorbar\":{\"outlinewidth\":0,\"ticks\":\"\"}}}],\"scatterpolargl\":[{\"type\":\"scatterpolargl\",\"marker\":{\"colorbar\":{\"outlinewidth\":0,\"ticks\":\"\"}}}],\"bar\":[{\"error_x\":{\"color\":\"#2a3f5f\"},\"error_y\":{\"color\":\"#2a3f5f\"},\"marker\":{\"line\":{\"color\":\"#E5ECF6\",\"width\":0.5},\"pattern\":{\"fillmode\":\"overlay\",\"size\":10,\"solidity\":0.2}},\"type\":\"bar\"}],\"scattergeo\":[{\"type\":\"scattergeo\",\"marker\":{\"colorbar\":{\"outlinewidth\":0,\"ticks\":\"\"}}}],\"scatterpolar\":[{\"type\":\"scatterpolar\",\"marker\":{\"colorbar\":{\"outlinewidth\":0,\"ticks\":\"\"}}}],\"histogram\":[{\"marker\":{\"pattern\":{\"fillmode\":\"overlay\",\"size\":10,\"solidity\":0.2}},\"type\":\"histogram\"}],\"scattergl\":[{\"type\":\"scattergl\",\"marker\":{\"colorbar\":{\"outlinewidth\":0,\"ticks\":\"\"}}}],\"scatter3d\":[{\"type\":\"scatter3d\",\"line\":{\"colorbar\":{\"outlinewidth\":0,\"ticks\":\"\"}},\"marker\":{\"colorbar\":{\"outlinewidth\":0,\"ticks\":\"\"}}}],\"scattermapbox\":[{\"type\":\"scattermapbox\",\"marker\":{\"colorbar\":{\"outlinewidth\":0,\"ticks\":\"\"}}}],\"scatterternary\":[{\"type\":\"scatterternary\",\"marker\":{\"colorbar\":{\"outlinewidth\":0,\"ticks\":\"\"}}}],\"scattercarpet\":[{\"type\":\"scattercarpet\",\"marker\":{\"colorbar\":{\"outlinewidth\":0,\"ticks\":\"\"}}}],\"carpet\":[{\"aaxis\":{\"endlinecolor\":\"#2a3f5f\",\"gridcolor\":\"white\",\"linecolor\":\"white\",\"minorgridcolor\":\"white\",\"startlinecolor\":\"#2a3f5f\"},\"baxis\":{\"endlinecolor\":\"#2a3f5f\",\"gridcolor\":\"white\",\"linecolor\":\"white\",\"minorgridcolor\":\"white\",\"startlinecolor\":\"#2a3f5f\"},\"type\":\"carpet\"}],\"table\":[{\"cells\":{\"fill\":{\"color\":\"#EBF0F8\"},\"line\":{\"color\":\"white\"}},\"header\":{\"fill\":{\"color\":\"#C8D4E3\"},\"line\":{\"color\":\"white\"}},\"type\":\"table\"}],\"barpolar\":[{\"marker\":{\"line\":{\"color\":\"#E5ECF6\",\"width\":0.5},\"pattern\":{\"fillmode\":\"overlay\",\"size\":10,\"solidity\":0.2}},\"type\":\"barpolar\"}],\"pie\":[{\"automargin\":true,\"type\":\"pie\"}]},\"layout\":{\"autotypenumbers\":\"strict\",\"colorway\":[\"#636efa\",\"#EF553B\",\"#00cc96\",\"#ab63fa\",\"#FFA15A\",\"#19d3f3\",\"#FF6692\",\"#B6E880\",\"#FF97FF\",\"#FECB52\"],\"font\":{\"color\":\"#2a3f5f\"},\"hovermode\":\"closest\",\"hoverlabel\":{\"align\":\"left\"},\"paper_bgcolor\":\"white\",\"plot_bgcolor\":\"#E5ECF6\",\"polar\":{\"bgcolor\":\"#E5ECF6\",\"angularaxis\":{\"gridcolor\":\"white\",\"linecolor\":\"white\",\"ticks\":\"\"},\"radialaxis\":{\"gridcolor\":\"white\",\"linecolor\":\"white\",\"ticks\":\"\"}},\"ternary\":{\"bgcolor\":\"#E5ECF6\",\"aaxis\":{\"gridcolor\":\"white\",\"linecolor\":\"white\",\"ticks\":\"\"},\"baxis\":{\"gridcolor\":\"white\",\"linecolor\":\"white\",\"ticks\":\"\"},\"caxis\":{\"gridcolor\":\"white\",\"linecolor\":\"white\",\"ticks\":\"\"}},\"coloraxis\":{\"colorbar\":{\"outlinewidth\":0,\"ticks\":\"\"}},\"colorscale\":{\"sequential\":[[0.0,\"#0d0887\"],[0.1111111111111111,\"#46039f\"],[0.2222222222222222,\"#7201a8\"],[0.3333333333333333,\"#9c179e\"],[0.4444444444444444,\"#bd3786\"],[0.5555555555555556,\"#d8576b\"],[0.6666666666666666,\"#ed7953\"],[0.7777777777777778,\"#fb9f3a\"],[0.8888888888888888,\"#fdca26\"],[1.0,\"#f0f921\"]],\"sequentialminus\":[[0.0,\"#0d0887\"],[0.1111111111111111,\"#46039f\"],[0.2222222222222222,\"#7201a8\"],[0.3333333333333333,\"#9c179e\"],[0.4444444444444444,\"#bd3786\"],[0.5555555555555556,\"#d8576b\"],[0.6666666666666666,\"#ed7953\"],[0.7777777777777778,\"#fb9f3a\"],[0.8888888888888888,\"#fdca26\"],[1.0,\"#f0f921\"]],\"diverging\":[[0,\"#8e0152\"],[0.1,\"#c51b7d\"],[0.2,\"#de77ae\"],[0.3,\"#f1b6da\"],[0.4,\"#fde0ef\"],[0.5,\"#f7f7f7\"],[0.6,\"#e6f5d0\"],[0.7,\"#b8e186\"],[0.8,\"#7fbc41\"],[0.9,\"#4d9221\"],[1,\"#276419\"]]},\"xaxis\":{\"gridcolor\":\"white\",\"linecolor\":\"white\",\"ticks\":\"\",\"title\":{\"standoff\":15},\"zerolinecolor\":\"white\",\"automargin\":true,\"zerolinewidth\":2},\"yaxis\":{\"gridcolor\":\"white\",\"linecolor\":\"white\",\"ticks\":\"\",\"title\":{\"standoff\":15},\"zerolinecolor\":\"white\",\"automargin\":true,\"zerolinewidth\":2},\"scene\":{\"xaxis\":{\"backgroundcolor\":\"#E5ECF6\",\"gridcolor\":\"white\",\"linecolor\":\"white\",\"showbackground\":true,\"ticks\":\"\",\"zerolinecolor\":\"white\",\"gridwidth\":2},\"yaxis\":{\"backgroundcolor\":\"#E5ECF6\",\"gridcolor\":\"white\",\"linecolor\":\"white\",\"showbackground\":true,\"ticks\":\"\",\"zerolinecolor\":\"white\",\"gridwidth\":2},\"zaxis\":{\"backgroundcolor\":\"#E5ECF6\",\"gridcolor\":\"white\",\"linecolor\":\"white\",\"showbackground\":true,\"ticks\":\"\",\"zerolinecolor\":\"white\",\"gridwidth\":2}},\"shapedefaults\":{\"line\":{\"color\":\"#2a3f5f\"}},\"annotationdefaults\":{\"arrowcolor\":\"#2a3f5f\",\"arrowhead\":0,\"arrowwidth\":1},\"geo\":{\"bgcolor\":\"white\",\"landcolor\":\"#E5ECF6\",\"subunitcolor\":\"white\",\"showland\":true,\"showlakes\":true,\"lakecolor\":\"white\"},\"title\":{\"x\":0.05},\"mapbox\":{\"style\":\"light\"}}},\"xaxis\":{\"anchor\":\"y\",\"domain\":[0.0,1.0],\"title\":{\"text\":\"Log Population\"}},\"yaxis\":{\"anchor\":\"x\",\"domain\":[0.0,1.0],\"title\":{\"text\":\"Log_NLU_DW\"}},\"legend\":{\"tracegroupgap\":0},\"title\":{\"text\":\"Population and Drinking Water Use in Chile\"}},                        {\"responsive\": true}                    ).then(function(){\n",
       "                            \n",
       "var gd = document.getElementById('c31b00f2-5915-4555-94b8-826d1da59710');\n",
       "var x = new MutationObserver(function (mutations, observer) {{\n",
       "        var display = window.getComputedStyle(gd).display;\n",
       "        if (!display || display === 'none') {{\n",
       "            console.log([gd, 'removed!']);\n",
       "            Plotly.purge(gd);\n",
       "            observer.disconnect();\n",
       "        }}\n",
       "}});\n",
       "\n",
       "// Listen for the removal of the full notebook cells\n",
       "var notebookContainer = gd.closest('#notebook-container');\n",
       "if (notebookContainer) {{\n",
       "    x.observe(notebookContainer, {childList: true});\n",
       "}}\n",
       "\n",
       "// Listen for the clearing of the current output cell\n",
       "var outputEl = gd.closest('.output');\n",
       "if (outputEl) {{\n",
       "    x.observe(outputEl, {childList: true});\n",
       "}}\n",
       "\n",
       "                        })                };                });            </script>        </div>"
      ]
     },
     "metadata": {},
     "output_type": "display_data"
    }
   ],
   "source": [
    "DW_pop['Log_Pop']=np.log(DW_pop['Population'])\n",
    "DW_pop['Log_NLU_DW']=np.log(DW_pop['NLU'])\n",
    "fig = px.scatter(DW_pop, x=\"Log_Pop\", y=\"Log_NLU_DW\", \n",
    "              title=\"Population and Drinking Water Use in Chile\", \n",
    "              labels={'Log_Pop':'Log Population', 'NLU':'Log Drinking Water use'}) \n",
    "\n",
    "fig.show()\n",
    "#fig.write_image(r\"/mnt/home2/mari/Tesis/logpopul_logdw.png\")"
   ]
  },
  {
   "cell_type": "code",
   "execution_count": 75,
   "id": "1d0360ef",
   "metadata": {},
   "outputs": [
    {
     "data": {
      "text/html": [
       "<div>\n",
       "<style scoped>\n",
       "    .dataframe tbody tr th:only-of-type {\n",
       "        vertical-align: middle;\n",
       "    }\n",
       "\n",
       "    .dataframe tbody tr th {\n",
       "        vertical-align: top;\n",
       "    }\n",
       "\n",
       "    .dataframe thead th {\n",
       "        text-align: right;\n",
       "    }\n",
       "</style>\n",
       "<table border=\"1\" class=\"dataframe\">\n",
       "  <thead>\n",
       "    <tr style=\"text-align: right;\">\n",
       "      <th></th>\n",
       "      <th>Years</th>\n",
       "      <th>NLU</th>\n",
       "      <th>Population</th>\n",
       "      <th>Log_Pop</th>\n",
       "      <th>Log_NLU_DW</th>\n",
       "      <th>NLU/Pop</th>\n",
       "      <th>Log_NLU/pop</th>\n",
       "    </tr>\n",
       "  </thead>\n",
       "  <tbody>\n",
       "    <tr>\n",
       "      <th>0</th>\n",
       "      <td>2002</td>\n",
       "      <td>41.90</td>\n",
       "      <td>15691701</td>\n",
       "      <td>16.568643</td>\n",
       "      <td>3.735286</td>\n",
       "      <td>0.000003</td>\n",
       "      <td>-12.833357</td>\n",
       "    </tr>\n",
       "    <tr>\n",
       "      <th>1</th>\n",
       "      <td>2003</td>\n",
       "      <td>42.47</td>\n",
       "      <td>15856977</td>\n",
       "      <td>16.579120</td>\n",
       "      <td>3.748798</td>\n",
       "      <td>0.000003</td>\n",
       "      <td>-12.830322</td>\n",
       "    </tr>\n",
       "    <tr>\n",
       "      <th>2</th>\n",
       "      <td>2004</td>\n",
       "      <td>43.52</td>\n",
       "      <td>16022133</td>\n",
       "      <td>16.589482</td>\n",
       "      <td>3.773221</td>\n",
       "      <td>0.000003</td>\n",
       "      <td>-12.816261</td>\n",
       "    </tr>\n",
       "    <tr>\n",
       "      <th>3</th>\n",
       "      <td>2005</td>\n",
       "      <td>44.63</td>\n",
       "      <td>16183489</td>\n",
       "      <td>16.599502</td>\n",
       "      <td>3.798406</td>\n",
       "      <td>0.000003</td>\n",
       "      <td>-12.801096</td>\n",
       "    </tr>\n",
       "    <tr>\n",
       "      <th>4</th>\n",
       "      <td>2006</td>\n",
       "      <td>45.68</td>\n",
       "      <td>16347890</td>\n",
       "      <td>16.609609</td>\n",
       "      <td>3.821661</td>\n",
       "      <td>0.000003</td>\n",
       "      <td>-12.787949</td>\n",
       "    </tr>\n",
       "  </tbody>\n",
       "</table>\n",
       "</div>"
      ],
      "text/plain": [
       "   Years    NLU  Population    Log_Pop  Log_NLU_DW   NLU/Pop  Log_NLU/pop\n",
       "0   2002  41.90    15691701  16.568643    3.735286  0.000003   -12.833357\n",
       "1   2003  42.47    15856977  16.579120    3.748798  0.000003   -12.830322\n",
       "2   2004  43.52    16022133  16.589482    3.773221  0.000003   -12.816261\n",
       "3   2005  44.63    16183489  16.599502    3.798406  0.000003   -12.801096\n",
       "4   2006  45.68    16347890  16.609609    3.821661  0.000003   -12.787949"
      ]
     },
     "execution_count": 75,
     "metadata": {},
     "output_type": "execute_result"
    }
   ],
   "source": [
    "DW_pop.head()"
   ]
  },
  {
   "cell_type": "code",
   "execution_count": 88,
   "id": "c9556b98",
   "metadata": {},
   "outputs": [
    {
     "name": "stdout",
     "output_type": "stream",
     "text": [
      "Defaulting to user installation because normal site-packages is not writeable\n",
      "Collecting statsmodels\n",
      "  Downloading statsmodels-0.14.0-cp310-cp310-manylinux_2_17_x86_64.manylinux2014_x86_64.whl (10.1 MB)\n",
      "\u001b[2K     \u001b[90m━━━━━━━━━━━━━━━━━━━━━━━━━━━━━━━━━━━━━━━━\u001b[0m \u001b[32m10.1/10.1 MB\u001b[0m \u001b[31m9.4 MB/s\u001b[0m eta \u001b[36m0:00:00\u001b[0m:00:01\u001b[0m0:01\u001b[0m\n",
      "\u001b[?25hCollecting patsy>=0.5.2\n",
      "  Downloading patsy-0.5.3-py2.py3-none-any.whl (233 kB)\n",
      "\u001b[2K     \u001b[90m━━━━━━━━━━━━━━━━━━━━━━━━━━━━━━━━━━━━━━━\u001b[0m \u001b[32m233.8/233.8 KB\u001b[0m \u001b[31m4.8 MB/s\u001b[0m eta \u001b[36m0:00:00\u001b[0ma \u001b[36m0:00:01\u001b[0m\n",
      "\u001b[?25hRequirement already satisfied: numpy>=1.18 in /usr/lib/python3/dist-packages (from statsmodels) (1.21.5)\n",
      "Requirement already satisfied: scipy!=1.9.2,>=1.4 in /usr/lib/python3/dist-packages (from statsmodels) (1.8.0)\n",
      "Requirement already satisfied: pandas>=1.0 in /usr/lib/python3/dist-packages (from statsmodels) (1.3.5)\n",
      "Requirement already satisfied: packaging>=21.3 in /usr/lib/python3/dist-packages (from statsmodels) (21.3)\n",
      "Requirement already satisfied: six in /usr/lib/python3/dist-packages (from patsy>=0.5.2->statsmodels) (1.16.0)\n",
      "Installing collected packages: patsy, statsmodels\n",
      "Successfully installed patsy-0.5.3 statsmodels-0.14.0\n"
     ]
    },
    {
     "data": {
      "application/vnd.plotly.v1+json": {
       "config": {
        "plotlyServerURL": "https://plot.ly"
       },
       "data": [
        {
         "hovertemplate": "Years=%{x}<br>Drinking Water use per cápita [m³/s pp]=%{y}<extra></extra>",
         "legendgroup": "",
         "marker": {
          "color": "#636efa",
          "symbol": "circle"
         },
         "mode": "markers",
         "name": "",
         "orientation": "v",
         "showlegend": false,
         "type": "scatter",
         "x": [
          2002,
          2003,
          2004,
          2005,
          2006,
          2007,
          2008,
          2009,
          2010,
          2011,
          2012,
          2013,
          2014,
          2015,
          2016,
          2017,
          2018,
          2019,
          2020
         ],
         "xaxis": "x",
         "y": [
          0.0000026702012739090554,
          0.000002678316302029069,
          0.0000027162425876754363,
          0.0000027577489625383007,
          0.0000027942443948423927,
          0.000002822387038378228,
          0.000002860264919461623,
          0.0000028155784837911417,
          0.0000028955820075882884,
          0.0000029517520964075966,
          0.0000029982530446457077,
          0.000003026362513259499,
          0.0000030009640976641224,
          0.0000029702711911015618,
          0.000002980104691176881,
          0.0000030033890737443857,
          0.0000030131075511408344,
          0.000002930306539686368,
          0.0000028640719569171217
         ],
         "yaxis": "y"
        },
        {
         "hovertemplate": "<b>OLS trendline</b><br>NLU/Pop = 1.71576e-08 * Years + -3.16224e-05<br>R<sup>2</sup>=0.668658<br><br>Years=%{x}<br>Drinking Water use per cápita [m³/s pp]=%{y} <b>(trend)</b><extra></extra>",
         "legendgroup": "",
         "marker": {
          "color": "#636efa",
          "symbol": "circle"
         },
         "mode": "lines",
         "name": "",
         "showlegend": false,
         "type": "scatter",
         "x": [
          2002,
          2003,
          2004,
          2005,
          2006,
          2007,
          2008,
          2009,
          2010,
          2011,
          2012,
          2013,
          2014,
          2015,
          2016,
          2017,
          2018,
          2019,
          2020
         ],
         "xaxis": "x",
         "y": [
          0.0000027271158037402165,
          0.000002744273397043712,
          0.0000027614309903472076,
          0.000002778588583650703,
          0.0000027957461769541987,
          0.000002812903770257701,
          0.0000028300613635611965,
          0.000002847218956864692,
          0.0000028643765501681876,
          0.000002881534143471683,
          0.0000028986917367751787,
          0.0000029158493300786742,
          0.0000029330069233821698,
          0.0000029501645166856653,
          0.000002967322109989161,
          0.0000029844797032926564,
          0.000003001637296596152,
          0.0000030187948898996542,
          0.0000030359524832031498
         ],
         "yaxis": "y"
        }
       ],
       "layout": {
        "legend": {
         "tracegroupgap": 0
        },
        "template": {
         "data": {
          "bar": [
           {
            "error_x": {
             "color": "#2a3f5f"
            },
            "error_y": {
             "color": "#2a3f5f"
            },
            "marker": {
             "line": {
              "color": "#E5ECF6",
              "width": 0.5
             },
             "pattern": {
              "fillmode": "overlay",
              "size": 10,
              "solidity": 0.2
             }
            },
            "type": "bar"
           }
          ],
          "barpolar": [
           {
            "marker": {
             "line": {
              "color": "#E5ECF6",
              "width": 0.5
             },
             "pattern": {
              "fillmode": "overlay",
              "size": 10,
              "solidity": 0.2
             }
            },
            "type": "barpolar"
           }
          ],
          "carpet": [
           {
            "aaxis": {
             "endlinecolor": "#2a3f5f",
             "gridcolor": "white",
             "linecolor": "white",
             "minorgridcolor": "white",
             "startlinecolor": "#2a3f5f"
            },
            "baxis": {
             "endlinecolor": "#2a3f5f",
             "gridcolor": "white",
             "linecolor": "white",
             "minorgridcolor": "white",
             "startlinecolor": "#2a3f5f"
            },
            "type": "carpet"
           }
          ],
          "choropleth": [
           {
            "colorbar": {
             "outlinewidth": 0,
             "ticks": ""
            },
            "type": "choropleth"
           }
          ],
          "contour": [
           {
            "colorbar": {
             "outlinewidth": 0,
             "ticks": ""
            },
            "colorscale": [
             [
              0,
              "#0d0887"
             ],
             [
              0.1111111111111111,
              "#46039f"
             ],
             [
              0.2222222222222222,
              "#7201a8"
             ],
             [
              0.3333333333333333,
              "#9c179e"
             ],
             [
              0.4444444444444444,
              "#bd3786"
             ],
             [
              0.5555555555555556,
              "#d8576b"
             ],
             [
              0.6666666666666666,
              "#ed7953"
             ],
             [
              0.7777777777777778,
              "#fb9f3a"
             ],
             [
              0.8888888888888888,
              "#fdca26"
             ],
             [
              1,
              "#f0f921"
             ]
            ],
            "type": "contour"
           }
          ],
          "contourcarpet": [
           {
            "colorbar": {
             "outlinewidth": 0,
             "ticks": ""
            },
            "type": "contourcarpet"
           }
          ],
          "heatmap": [
           {
            "colorbar": {
             "outlinewidth": 0,
             "ticks": ""
            },
            "colorscale": [
             [
              0,
              "#0d0887"
             ],
             [
              0.1111111111111111,
              "#46039f"
             ],
             [
              0.2222222222222222,
              "#7201a8"
             ],
             [
              0.3333333333333333,
              "#9c179e"
             ],
             [
              0.4444444444444444,
              "#bd3786"
             ],
             [
              0.5555555555555556,
              "#d8576b"
             ],
             [
              0.6666666666666666,
              "#ed7953"
             ],
             [
              0.7777777777777778,
              "#fb9f3a"
             ],
             [
              0.8888888888888888,
              "#fdca26"
             ],
             [
              1,
              "#f0f921"
             ]
            ],
            "type": "heatmap"
           }
          ],
          "heatmapgl": [
           {
            "colorbar": {
             "outlinewidth": 0,
             "ticks": ""
            },
            "colorscale": [
             [
              0,
              "#0d0887"
             ],
             [
              0.1111111111111111,
              "#46039f"
             ],
             [
              0.2222222222222222,
              "#7201a8"
             ],
             [
              0.3333333333333333,
              "#9c179e"
             ],
             [
              0.4444444444444444,
              "#bd3786"
             ],
             [
              0.5555555555555556,
              "#d8576b"
             ],
             [
              0.6666666666666666,
              "#ed7953"
             ],
             [
              0.7777777777777778,
              "#fb9f3a"
             ],
             [
              0.8888888888888888,
              "#fdca26"
             ],
             [
              1,
              "#f0f921"
             ]
            ],
            "type": "heatmapgl"
           }
          ],
          "histogram": [
           {
            "marker": {
             "pattern": {
              "fillmode": "overlay",
              "size": 10,
              "solidity": 0.2
             }
            },
            "type": "histogram"
           }
          ],
          "histogram2d": [
           {
            "colorbar": {
             "outlinewidth": 0,
             "ticks": ""
            },
            "colorscale": [
             [
              0,
              "#0d0887"
             ],
             [
              0.1111111111111111,
              "#46039f"
             ],
             [
              0.2222222222222222,
              "#7201a8"
             ],
             [
              0.3333333333333333,
              "#9c179e"
             ],
             [
              0.4444444444444444,
              "#bd3786"
             ],
             [
              0.5555555555555556,
              "#d8576b"
             ],
             [
              0.6666666666666666,
              "#ed7953"
             ],
             [
              0.7777777777777778,
              "#fb9f3a"
             ],
             [
              0.8888888888888888,
              "#fdca26"
             ],
             [
              1,
              "#f0f921"
             ]
            ],
            "type": "histogram2d"
           }
          ],
          "histogram2dcontour": [
           {
            "colorbar": {
             "outlinewidth": 0,
             "ticks": ""
            },
            "colorscale": [
             [
              0,
              "#0d0887"
             ],
             [
              0.1111111111111111,
              "#46039f"
             ],
             [
              0.2222222222222222,
              "#7201a8"
             ],
             [
              0.3333333333333333,
              "#9c179e"
             ],
             [
              0.4444444444444444,
              "#bd3786"
             ],
             [
              0.5555555555555556,
              "#d8576b"
             ],
             [
              0.6666666666666666,
              "#ed7953"
             ],
             [
              0.7777777777777778,
              "#fb9f3a"
             ],
             [
              0.8888888888888888,
              "#fdca26"
             ],
             [
              1,
              "#f0f921"
             ]
            ],
            "type": "histogram2dcontour"
           }
          ],
          "mesh3d": [
           {
            "colorbar": {
             "outlinewidth": 0,
             "ticks": ""
            },
            "type": "mesh3d"
           }
          ],
          "parcoords": [
           {
            "line": {
             "colorbar": {
              "outlinewidth": 0,
              "ticks": ""
             }
            },
            "type": "parcoords"
           }
          ],
          "pie": [
           {
            "automargin": true,
            "type": "pie"
           }
          ],
          "scatter": [
           {
            "fillpattern": {
             "fillmode": "overlay",
             "size": 10,
             "solidity": 0.2
            },
            "type": "scatter"
           }
          ],
          "scatter3d": [
           {
            "line": {
             "colorbar": {
              "outlinewidth": 0,
              "ticks": ""
             }
            },
            "marker": {
             "colorbar": {
              "outlinewidth": 0,
              "ticks": ""
             }
            },
            "type": "scatter3d"
           }
          ],
          "scattercarpet": [
           {
            "marker": {
             "colorbar": {
              "outlinewidth": 0,
              "ticks": ""
             }
            },
            "type": "scattercarpet"
           }
          ],
          "scattergeo": [
           {
            "marker": {
             "colorbar": {
              "outlinewidth": 0,
              "ticks": ""
             }
            },
            "type": "scattergeo"
           }
          ],
          "scattergl": [
           {
            "marker": {
             "colorbar": {
              "outlinewidth": 0,
              "ticks": ""
             }
            },
            "type": "scattergl"
           }
          ],
          "scattermapbox": [
           {
            "marker": {
             "colorbar": {
              "outlinewidth": 0,
              "ticks": ""
             }
            },
            "type": "scattermapbox"
           }
          ],
          "scatterpolar": [
           {
            "marker": {
             "colorbar": {
              "outlinewidth": 0,
              "ticks": ""
             }
            },
            "type": "scatterpolar"
           }
          ],
          "scatterpolargl": [
           {
            "marker": {
             "colorbar": {
              "outlinewidth": 0,
              "ticks": ""
             }
            },
            "type": "scatterpolargl"
           }
          ],
          "scatterternary": [
           {
            "marker": {
             "colorbar": {
              "outlinewidth": 0,
              "ticks": ""
             }
            },
            "type": "scatterternary"
           }
          ],
          "surface": [
           {
            "colorbar": {
             "outlinewidth": 0,
             "ticks": ""
            },
            "colorscale": [
             [
              0,
              "#0d0887"
             ],
             [
              0.1111111111111111,
              "#46039f"
             ],
             [
              0.2222222222222222,
              "#7201a8"
             ],
             [
              0.3333333333333333,
              "#9c179e"
             ],
             [
              0.4444444444444444,
              "#bd3786"
             ],
             [
              0.5555555555555556,
              "#d8576b"
             ],
             [
              0.6666666666666666,
              "#ed7953"
             ],
             [
              0.7777777777777778,
              "#fb9f3a"
             ],
             [
              0.8888888888888888,
              "#fdca26"
             ],
             [
              1,
              "#f0f921"
             ]
            ],
            "type": "surface"
           }
          ],
          "table": [
           {
            "cells": {
             "fill": {
              "color": "#EBF0F8"
             },
             "line": {
              "color": "white"
             }
            },
            "header": {
             "fill": {
              "color": "#C8D4E3"
             },
             "line": {
              "color": "white"
             }
            },
            "type": "table"
           }
          ]
         },
         "layout": {
          "annotationdefaults": {
           "arrowcolor": "#2a3f5f",
           "arrowhead": 0,
           "arrowwidth": 1
          },
          "autotypenumbers": "strict",
          "coloraxis": {
           "colorbar": {
            "outlinewidth": 0,
            "ticks": ""
           }
          },
          "colorscale": {
           "diverging": [
            [
             0,
             "#8e0152"
            ],
            [
             0.1,
             "#c51b7d"
            ],
            [
             0.2,
             "#de77ae"
            ],
            [
             0.3,
             "#f1b6da"
            ],
            [
             0.4,
             "#fde0ef"
            ],
            [
             0.5,
             "#f7f7f7"
            ],
            [
             0.6,
             "#e6f5d0"
            ],
            [
             0.7,
             "#b8e186"
            ],
            [
             0.8,
             "#7fbc41"
            ],
            [
             0.9,
             "#4d9221"
            ],
            [
             1,
             "#276419"
            ]
           ],
           "sequential": [
            [
             0,
             "#0d0887"
            ],
            [
             0.1111111111111111,
             "#46039f"
            ],
            [
             0.2222222222222222,
             "#7201a8"
            ],
            [
             0.3333333333333333,
             "#9c179e"
            ],
            [
             0.4444444444444444,
             "#bd3786"
            ],
            [
             0.5555555555555556,
             "#d8576b"
            ],
            [
             0.6666666666666666,
             "#ed7953"
            ],
            [
             0.7777777777777778,
             "#fb9f3a"
            ],
            [
             0.8888888888888888,
             "#fdca26"
            ],
            [
             1,
             "#f0f921"
            ]
           ],
           "sequentialminus": [
            [
             0,
             "#0d0887"
            ],
            [
             0.1111111111111111,
             "#46039f"
            ],
            [
             0.2222222222222222,
             "#7201a8"
            ],
            [
             0.3333333333333333,
             "#9c179e"
            ],
            [
             0.4444444444444444,
             "#bd3786"
            ],
            [
             0.5555555555555556,
             "#d8576b"
            ],
            [
             0.6666666666666666,
             "#ed7953"
            ],
            [
             0.7777777777777778,
             "#fb9f3a"
            ],
            [
             0.8888888888888888,
             "#fdca26"
            ],
            [
             1,
             "#f0f921"
            ]
           ]
          },
          "colorway": [
           "#636efa",
           "#EF553B",
           "#00cc96",
           "#ab63fa",
           "#FFA15A",
           "#19d3f3",
           "#FF6692",
           "#B6E880",
           "#FF97FF",
           "#FECB52"
          ],
          "font": {
           "color": "#2a3f5f"
          },
          "geo": {
           "bgcolor": "white",
           "lakecolor": "white",
           "landcolor": "#E5ECF6",
           "showlakes": true,
           "showland": true,
           "subunitcolor": "white"
          },
          "hoverlabel": {
           "align": "left"
          },
          "hovermode": "closest",
          "mapbox": {
           "style": "light"
          },
          "paper_bgcolor": "white",
          "plot_bgcolor": "#E5ECF6",
          "polar": {
           "angularaxis": {
            "gridcolor": "white",
            "linecolor": "white",
            "ticks": ""
           },
           "bgcolor": "#E5ECF6",
           "radialaxis": {
            "gridcolor": "white",
            "linecolor": "white",
            "ticks": ""
           }
          },
          "scene": {
           "xaxis": {
            "backgroundcolor": "#E5ECF6",
            "gridcolor": "white",
            "gridwidth": 2,
            "linecolor": "white",
            "showbackground": true,
            "ticks": "",
            "zerolinecolor": "white"
           },
           "yaxis": {
            "backgroundcolor": "#E5ECF6",
            "gridcolor": "white",
            "gridwidth": 2,
            "linecolor": "white",
            "showbackground": true,
            "ticks": "",
            "zerolinecolor": "white"
           },
           "zaxis": {
            "backgroundcolor": "#E5ECF6",
            "gridcolor": "white",
            "gridwidth": 2,
            "linecolor": "white",
            "showbackground": true,
            "ticks": "",
            "zerolinecolor": "white"
           }
          },
          "shapedefaults": {
           "line": {
            "color": "#2a3f5f"
           }
          },
          "ternary": {
           "aaxis": {
            "gridcolor": "white",
            "linecolor": "white",
            "ticks": ""
           },
           "baxis": {
            "gridcolor": "white",
            "linecolor": "white",
            "ticks": ""
           },
           "bgcolor": "#E5ECF6",
           "caxis": {
            "gridcolor": "white",
            "linecolor": "white",
            "ticks": ""
           }
          },
          "title": {
           "x": 0.05
          },
          "xaxis": {
           "automargin": true,
           "gridcolor": "white",
           "linecolor": "white",
           "ticks": "",
           "title": {
            "standoff": 15
           },
           "zerolinecolor": "white",
           "zerolinewidth": 2
          },
          "yaxis": {
           "automargin": true,
           "gridcolor": "white",
           "linecolor": "white",
           "ticks": "",
           "title": {
            "standoff": 15
           },
           "zerolinecolor": "white",
           "zerolinewidth": 2
          }
         }
        },
        "title": {
         "text": "Population and Drinking Water Use in Chile"
        },
        "xaxis": {
         "anchor": "y",
         "domain": [
          0,
          1
         ],
         "title": {
          "text": "Years"
         }
        },
        "yaxis": {
         "anchor": "x",
         "domain": [
          0,
          1
         ],
         "tickformat": ".1e",
         "title": {
          "text": "Drinking Water use per cápita [m³/s pp]"
         }
        }
       }
      },
      "text/html": [
       "<div>                            <div id=\"e81e1471-f374-4ebe-90b7-5babd6e1d3a6\" class=\"plotly-graph-div\" style=\"height:525px; width:100%;\"></div>            <script type=\"text/javascript\">                require([\"plotly\"], function(Plotly) {                    window.PLOTLYENV=window.PLOTLYENV || {};                                    if (document.getElementById(\"e81e1471-f374-4ebe-90b7-5babd6e1d3a6\")) {                    Plotly.newPlot(                        \"e81e1471-f374-4ebe-90b7-5babd6e1d3a6\",                        [{\"hovertemplate\":\"Years=%{x}<br>Drinking Water use per c\\u00e1pita [m\\u00b3/s pp]=%{y}<extra></extra>\",\"legendgroup\":\"\",\"marker\":{\"color\":\"#636efa\",\"symbol\":\"circle\"},\"mode\":\"markers\",\"name\":\"\",\"orientation\":\"v\",\"showlegend\":false,\"x\":[2002,2003,2004,2005,2006,2007,2008,2009,2010,2011,2012,2013,2014,2015,2016,2017,2018,2019,2020],\"xaxis\":\"x\",\"y\":[2.6702012739090554e-06,2.678316302029069e-06,2.7162425876754363e-06,2.7577489625383007e-06,2.7942443948423927e-06,2.822387038378228e-06,2.860264919461623e-06,2.8155784837911417e-06,2.8955820075882884e-06,2.9517520964075966e-06,2.9982530446457077e-06,3.026362513259499e-06,3.0009640976641224e-06,2.9702711911015618e-06,2.980104691176881e-06,3.0033890737443857e-06,3.0131075511408344e-06,2.930306539686368e-06,2.8640719569171217e-06],\"yaxis\":\"y\",\"type\":\"scatter\"},{\"hovertemplate\":\"<b>OLS trendline</b><br>NLU/Pop = 1.71576e-08 * Years + -3.16224e-05<br>R<sup>2</sup>=0.668658<br><br>Years=%{x}<br>Drinking Water use per c\\u00e1pita [m\\u00b3/s pp]=%{y} <b>(trend)</b><extra></extra>\",\"legendgroup\":\"\",\"marker\":{\"color\":\"#636efa\",\"symbol\":\"circle\"},\"mode\":\"lines\",\"name\":\"\",\"showlegend\":false,\"x\":[2002,2003,2004,2005,2006,2007,2008,2009,2010,2011,2012,2013,2014,2015,2016,2017,2018,2019,2020],\"xaxis\":\"x\",\"y\":[2.7271158037402165e-06,2.744273397043712e-06,2.7614309903472076e-06,2.778588583650703e-06,2.7957461769541987e-06,2.812903770257701e-06,2.8300613635611965e-06,2.847218956864692e-06,2.8643765501681876e-06,2.881534143471683e-06,2.8986917367751787e-06,2.9158493300786742e-06,2.9330069233821698e-06,2.9501645166856653e-06,2.967322109989161e-06,2.9844797032926564e-06,3.001637296596152e-06,3.0187948898996542e-06,3.0359524832031498e-06],\"yaxis\":\"y\",\"type\":\"scatter\"}],                        {\"template\":{\"data\":{\"histogram2dcontour\":[{\"type\":\"histogram2dcontour\",\"colorbar\":{\"outlinewidth\":0,\"ticks\":\"\"},\"colorscale\":[[0.0,\"#0d0887\"],[0.1111111111111111,\"#46039f\"],[0.2222222222222222,\"#7201a8\"],[0.3333333333333333,\"#9c179e\"],[0.4444444444444444,\"#bd3786\"],[0.5555555555555556,\"#d8576b\"],[0.6666666666666666,\"#ed7953\"],[0.7777777777777778,\"#fb9f3a\"],[0.8888888888888888,\"#fdca26\"],[1.0,\"#f0f921\"]]}],\"choropleth\":[{\"type\":\"choropleth\",\"colorbar\":{\"outlinewidth\":0,\"ticks\":\"\"}}],\"histogram2d\":[{\"type\":\"histogram2d\",\"colorbar\":{\"outlinewidth\":0,\"ticks\":\"\"},\"colorscale\":[[0.0,\"#0d0887\"],[0.1111111111111111,\"#46039f\"],[0.2222222222222222,\"#7201a8\"],[0.3333333333333333,\"#9c179e\"],[0.4444444444444444,\"#bd3786\"],[0.5555555555555556,\"#d8576b\"],[0.6666666666666666,\"#ed7953\"],[0.7777777777777778,\"#fb9f3a\"],[0.8888888888888888,\"#fdca26\"],[1.0,\"#f0f921\"]]}],\"heatmap\":[{\"type\":\"heatmap\",\"colorbar\":{\"outlinewidth\":0,\"ticks\":\"\"},\"colorscale\":[[0.0,\"#0d0887\"],[0.1111111111111111,\"#46039f\"],[0.2222222222222222,\"#7201a8\"],[0.3333333333333333,\"#9c179e\"],[0.4444444444444444,\"#bd3786\"],[0.5555555555555556,\"#d8576b\"],[0.6666666666666666,\"#ed7953\"],[0.7777777777777778,\"#fb9f3a\"],[0.8888888888888888,\"#fdca26\"],[1.0,\"#f0f921\"]]}],\"heatmapgl\":[{\"type\":\"heatmapgl\",\"colorbar\":{\"outlinewidth\":0,\"ticks\":\"\"},\"colorscale\":[[0.0,\"#0d0887\"],[0.1111111111111111,\"#46039f\"],[0.2222222222222222,\"#7201a8\"],[0.3333333333333333,\"#9c179e\"],[0.4444444444444444,\"#bd3786\"],[0.5555555555555556,\"#d8576b\"],[0.6666666666666666,\"#ed7953\"],[0.7777777777777778,\"#fb9f3a\"],[0.8888888888888888,\"#fdca26\"],[1.0,\"#f0f921\"]]}],\"contourcarpet\":[{\"type\":\"contourcarpet\",\"colorbar\":{\"outlinewidth\":0,\"ticks\":\"\"}}],\"contour\":[{\"type\":\"contour\",\"colorbar\":{\"outlinewidth\":0,\"ticks\":\"\"},\"colorscale\":[[0.0,\"#0d0887\"],[0.1111111111111111,\"#46039f\"],[0.2222222222222222,\"#7201a8\"],[0.3333333333333333,\"#9c179e\"],[0.4444444444444444,\"#bd3786\"],[0.5555555555555556,\"#d8576b\"],[0.6666666666666666,\"#ed7953\"],[0.7777777777777778,\"#fb9f3a\"],[0.8888888888888888,\"#fdca26\"],[1.0,\"#f0f921\"]]}],\"surface\":[{\"type\":\"surface\",\"colorbar\":{\"outlinewidth\":0,\"ticks\":\"\"},\"colorscale\":[[0.0,\"#0d0887\"],[0.1111111111111111,\"#46039f\"],[0.2222222222222222,\"#7201a8\"],[0.3333333333333333,\"#9c179e\"],[0.4444444444444444,\"#bd3786\"],[0.5555555555555556,\"#d8576b\"],[0.6666666666666666,\"#ed7953\"],[0.7777777777777778,\"#fb9f3a\"],[0.8888888888888888,\"#fdca26\"],[1.0,\"#f0f921\"]]}],\"mesh3d\":[{\"type\":\"mesh3d\",\"colorbar\":{\"outlinewidth\":0,\"ticks\":\"\"}}],\"scatter\":[{\"fillpattern\":{\"fillmode\":\"overlay\",\"size\":10,\"solidity\":0.2},\"type\":\"scatter\"}],\"parcoords\":[{\"type\":\"parcoords\",\"line\":{\"colorbar\":{\"outlinewidth\":0,\"ticks\":\"\"}}}],\"scatterpolargl\":[{\"type\":\"scatterpolargl\",\"marker\":{\"colorbar\":{\"outlinewidth\":0,\"ticks\":\"\"}}}],\"bar\":[{\"error_x\":{\"color\":\"#2a3f5f\"},\"error_y\":{\"color\":\"#2a3f5f\"},\"marker\":{\"line\":{\"color\":\"#E5ECF6\",\"width\":0.5},\"pattern\":{\"fillmode\":\"overlay\",\"size\":10,\"solidity\":0.2}},\"type\":\"bar\"}],\"scattergeo\":[{\"type\":\"scattergeo\",\"marker\":{\"colorbar\":{\"outlinewidth\":0,\"ticks\":\"\"}}}],\"scatterpolar\":[{\"type\":\"scatterpolar\",\"marker\":{\"colorbar\":{\"outlinewidth\":0,\"ticks\":\"\"}}}],\"histogram\":[{\"marker\":{\"pattern\":{\"fillmode\":\"overlay\",\"size\":10,\"solidity\":0.2}},\"type\":\"histogram\"}],\"scattergl\":[{\"type\":\"scattergl\",\"marker\":{\"colorbar\":{\"outlinewidth\":0,\"ticks\":\"\"}}}],\"scatter3d\":[{\"type\":\"scatter3d\",\"line\":{\"colorbar\":{\"outlinewidth\":0,\"ticks\":\"\"}},\"marker\":{\"colorbar\":{\"outlinewidth\":0,\"ticks\":\"\"}}}],\"scattermapbox\":[{\"type\":\"scattermapbox\",\"marker\":{\"colorbar\":{\"outlinewidth\":0,\"ticks\":\"\"}}}],\"scatterternary\":[{\"type\":\"scatterternary\",\"marker\":{\"colorbar\":{\"outlinewidth\":0,\"ticks\":\"\"}}}],\"scattercarpet\":[{\"type\":\"scattercarpet\",\"marker\":{\"colorbar\":{\"outlinewidth\":0,\"ticks\":\"\"}}}],\"carpet\":[{\"aaxis\":{\"endlinecolor\":\"#2a3f5f\",\"gridcolor\":\"white\",\"linecolor\":\"white\",\"minorgridcolor\":\"white\",\"startlinecolor\":\"#2a3f5f\"},\"baxis\":{\"endlinecolor\":\"#2a3f5f\",\"gridcolor\":\"white\",\"linecolor\":\"white\",\"minorgridcolor\":\"white\",\"startlinecolor\":\"#2a3f5f\"},\"type\":\"carpet\"}],\"table\":[{\"cells\":{\"fill\":{\"color\":\"#EBF0F8\"},\"line\":{\"color\":\"white\"}},\"header\":{\"fill\":{\"color\":\"#C8D4E3\"},\"line\":{\"color\":\"white\"}},\"type\":\"table\"}],\"barpolar\":[{\"marker\":{\"line\":{\"color\":\"#E5ECF6\",\"width\":0.5},\"pattern\":{\"fillmode\":\"overlay\",\"size\":10,\"solidity\":0.2}},\"type\":\"barpolar\"}],\"pie\":[{\"automargin\":true,\"type\":\"pie\"}]},\"layout\":{\"autotypenumbers\":\"strict\",\"colorway\":[\"#636efa\",\"#EF553B\",\"#00cc96\",\"#ab63fa\",\"#FFA15A\",\"#19d3f3\",\"#FF6692\",\"#B6E880\",\"#FF97FF\",\"#FECB52\"],\"font\":{\"color\":\"#2a3f5f\"},\"hovermode\":\"closest\",\"hoverlabel\":{\"align\":\"left\"},\"paper_bgcolor\":\"white\",\"plot_bgcolor\":\"#E5ECF6\",\"polar\":{\"bgcolor\":\"#E5ECF6\",\"angularaxis\":{\"gridcolor\":\"white\",\"linecolor\":\"white\",\"ticks\":\"\"},\"radialaxis\":{\"gridcolor\":\"white\",\"linecolor\":\"white\",\"ticks\":\"\"}},\"ternary\":{\"bgcolor\":\"#E5ECF6\",\"aaxis\":{\"gridcolor\":\"white\",\"linecolor\":\"white\",\"ticks\":\"\"},\"baxis\":{\"gridcolor\":\"white\",\"linecolor\":\"white\",\"ticks\":\"\"},\"caxis\":{\"gridcolor\":\"white\",\"linecolor\":\"white\",\"ticks\":\"\"}},\"coloraxis\":{\"colorbar\":{\"outlinewidth\":0,\"ticks\":\"\"}},\"colorscale\":{\"sequential\":[[0.0,\"#0d0887\"],[0.1111111111111111,\"#46039f\"],[0.2222222222222222,\"#7201a8\"],[0.3333333333333333,\"#9c179e\"],[0.4444444444444444,\"#bd3786\"],[0.5555555555555556,\"#d8576b\"],[0.6666666666666666,\"#ed7953\"],[0.7777777777777778,\"#fb9f3a\"],[0.8888888888888888,\"#fdca26\"],[1.0,\"#f0f921\"]],\"sequentialminus\":[[0.0,\"#0d0887\"],[0.1111111111111111,\"#46039f\"],[0.2222222222222222,\"#7201a8\"],[0.3333333333333333,\"#9c179e\"],[0.4444444444444444,\"#bd3786\"],[0.5555555555555556,\"#d8576b\"],[0.6666666666666666,\"#ed7953\"],[0.7777777777777778,\"#fb9f3a\"],[0.8888888888888888,\"#fdca26\"],[1.0,\"#f0f921\"]],\"diverging\":[[0,\"#8e0152\"],[0.1,\"#c51b7d\"],[0.2,\"#de77ae\"],[0.3,\"#f1b6da\"],[0.4,\"#fde0ef\"],[0.5,\"#f7f7f7\"],[0.6,\"#e6f5d0\"],[0.7,\"#b8e186\"],[0.8,\"#7fbc41\"],[0.9,\"#4d9221\"],[1,\"#276419\"]]},\"xaxis\":{\"gridcolor\":\"white\",\"linecolor\":\"white\",\"ticks\":\"\",\"title\":{\"standoff\":15},\"zerolinecolor\":\"white\",\"automargin\":true,\"zerolinewidth\":2},\"yaxis\":{\"gridcolor\":\"white\",\"linecolor\":\"white\",\"ticks\":\"\",\"title\":{\"standoff\":15},\"zerolinecolor\":\"white\",\"automargin\":true,\"zerolinewidth\":2},\"scene\":{\"xaxis\":{\"backgroundcolor\":\"#E5ECF6\",\"gridcolor\":\"white\",\"linecolor\":\"white\",\"showbackground\":true,\"ticks\":\"\",\"zerolinecolor\":\"white\",\"gridwidth\":2},\"yaxis\":{\"backgroundcolor\":\"#E5ECF6\",\"gridcolor\":\"white\",\"linecolor\":\"white\",\"showbackground\":true,\"ticks\":\"\",\"zerolinecolor\":\"white\",\"gridwidth\":2},\"zaxis\":{\"backgroundcolor\":\"#E5ECF6\",\"gridcolor\":\"white\",\"linecolor\":\"white\",\"showbackground\":true,\"ticks\":\"\",\"zerolinecolor\":\"white\",\"gridwidth\":2}},\"shapedefaults\":{\"line\":{\"color\":\"#2a3f5f\"}},\"annotationdefaults\":{\"arrowcolor\":\"#2a3f5f\",\"arrowhead\":0,\"arrowwidth\":1},\"geo\":{\"bgcolor\":\"white\",\"landcolor\":\"#E5ECF6\",\"subunitcolor\":\"white\",\"showland\":true,\"showlakes\":true,\"lakecolor\":\"white\"},\"title\":{\"x\":0.05},\"mapbox\":{\"style\":\"light\"}}},\"xaxis\":{\"anchor\":\"y\",\"domain\":[0.0,1.0],\"title\":{\"text\":\"Years\"}},\"yaxis\":{\"anchor\":\"x\",\"domain\":[0.0,1.0],\"title\":{\"text\":\"Drinking Water use per c\\u00e1pita [m\\u00b3/s pp]\"},\"tickformat\":\".1e\"},\"legend\":{\"tracegroupgap\":0},\"title\":{\"text\":\"Population and Drinking Water Use in Chile\"}},                        {\"responsive\": true}                    ).then(function(){\n",
       "                            \n",
       "var gd = document.getElementById('e81e1471-f374-4ebe-90b7-5babd6e1d3a6');\n",
       "var x = new MutationObserver(function (mutations, observer) {{\n",
       "        var display = window.getComputedStyle(gd).display;\n",
       "        if (!display || display === 'none') {{\n",
       "            console.log([gd, 'removed!']);\n",
       "            Plotly.purge(gd);\n",
       "            observer.disconnect();\n",
       "        }}\n",
       "}});\n",
       "\n",
       "// Listen for the removal of the full notebook cells\n",
       "var notebookContainer = gd.closest('#notebook-container');\n",
       "if (notebookContainer) {{\n",
       "    x.observe(notebookContainer, {childList: true});\n",
       "}}\n",
       "\n",
       "// Listen for the clearing of the current output cell\n",
       "var outputEl = gd.closest('.output');\n",
       "if (outputEl) {{\n",
       "    x.observe(outputEl, {childList: true});\n",
       "}}\n",
       "\n",
       "                        })                };                });            </script>        </div>"
      ]
     },
     "metadata": {},
     "output_type": "display_data"
    }
   ],
   "source": [
    "fig = px.scatter(DW_pop, x=\"Years\", y=\"NLU/Pop\", trendline=\"ols\",\n",
    "              title=\"Population and Drinking Water Use in Chile\", \n",
    "              labels={'Years':'Years', 'NLU/Pop':'Drinking Water use per cápita [m³/s pp]'})\n",
    "fig.update_layout(yaxis_tickformat = '.1e')\n",
    "\n",
    "\n",
    "fig.show()"
   ]
  },
  {
   "cell_type": "code",
   "execution_count": 77,
   "id": "96aadc1a",
   "metadata": {},
   "outputs": [
    {
     "data": {
      "application/vnd.plotly.v1+json": {
       "config": {
        "plotlyServerURL": "https://plot.ly"
       },
       "data": [
        {
         "hovertemplate": "Log Population=%{x}<br>Log Drinking Water use per cápita=%{y}<extra></extra>",
         "legendgroup": "",
         "marker": {
          "color": "#636efa",
          "symbol": "circle"
         },
         "mode": "markers",
         "name": "",
         "orientation": "v",
         "showlegend": false,
         "type": "scatter",
         "x": [
          16.56864253183486,
          16.579120150707134,
          16.589481636808753,
          16.599502082936773,
          16.609609394991846,
          16.619957197163437,
          16.63078477732429,
          16.6417039076522,
          16.652477261111983,
          16.663563773830635,
          16.67447712843171,
          16.68408548145438,
          16.694013099011457,
          16.704293443159354,
          16.715125410982797,
          16.728903722465585,
          16.746779240906665,
          16.765576622715134,
          16.783784786141037
         ],
         "xaxis": "x",
         "y": [
          -12.833356704906771,
          -12.830322206381956,
          -12.816261034261064,
          -12.801095804295594,
          -12.78794882964409,
          -12.777927563555826,
          -12.764596308239945,
          -12.780342817026282,
          -12.752324428254324,
          -12.733111632934122,
          -12.717480757360834,
          -12.708149150282583,
          -12.71657695503508,
          -12.726857299182976,
          -12.72355212679664,
          -12.71576921566903,
          -12.71253860275427,
          -12.74040351935433,
          -12.763266184559592
         ],
         "yaxis": "y"
        }
       ],
       "layout": {
        "legend": {
         "tracegroupgap": 0
        },
        "template": {
         "data": {
          "bar": [
           {
            "error_x": {
             "color": "#2a3f5f"
            },
            "error_y": {
             "color": "#2a3f5f"
            },
            "marker": {
             "line": {
              "color": "#E5ECF6",
              "width": 0.5
             },
             "pattern": {
              "fillmode": "overlay",
              "size": 10,
              "solidity": 0.2
             }
            },
            "type": "bar"
           }
          ],
          "barpolar": [
           {
            "marker": {
             "line": {
              "color": "#E5ECF6",
              "width": 0.5
             },
             "pattern": {
              "fillmode": "overlay",
              "size": 10,
              "solidity": 0.2
             }
            },
            "type": "barpolar"
           }
          ],
          "carpet": [
           {
            "aaxis": {
             "endlinecolor": "#2a3f5f",
             "gridcolor": "white",
             "linecolor": "white",
             "minorgridcolor": "white",
             "startlinecolor": "#2a3f5f"
            },
            "baxis": {
             "endlinecolor": "#2a3f5f",
             "gridcolor": "white",
             "linecolor": "white",
             "minorgridcolor": "white",
             "startlinecolor": "#2a3f5f"
            },
            "type": "carpet"
           }
          ],
          "choropleth": [
           {
            "colorbar": {
             "outlinewidth": 0,
             "ticks": ""
            },
            "type": "choropleth"
           }
          ],
          "contour": [
           {
            "colorbar": {
             "outlinewidth": 0,
             "ticks": ""
            },
            "colorscale": [
             [
              0,
              "#0d0887"
             ],
             [
              0.1111111111111111,
              "#46039f"
             ],
             [
              0.2222222222222222,
              "#7201a8"
             ],
             [
              0.3333333333333333,
              "#9c179e"
             ],
             [
              0.4444444444444444,
              "#bd3786"
             ],
             [
              0.5555555555555556,
              "#d8576b"
             ],
             [
              0.6666666666666666,
              "#ed7953"
             ],
             [
              0.7777777777777778,
              "#fb9f3a"
             ],
             [
              0.8888888888888888,
              "#fdca26"
             ],
             [
              1,
              "#f0f921"
             ]
            ],
            "type": "contour"
           }
          ],
          "contourcarpet": [
           {
            "colorbar": {
             "outlinewidth": 0,
             "ticks": ""
            },
            "type": "contourcarpet"
           }
          ],
          "heatmap": [
           {
            "colorbar": {
             "outlinewidth": 0,
             "ticks": ""
            },
            "colorscale": [
             [
              0,
              "#0d0887"
             ],
             [
              0.1111111111111111,
              "#46039f"
             ],
             [
              0.2222222222222222,
              "#7201a8"
             ],
             [
              0.3333333333333333,
              "#9c179e"
             ],
             [
              0.4444444444444444,
              "#bd3786"
             ],
             [
              0.5555555555555556,
              "#d8576b"
             ],
             [
              0.6666666666666666,
              "#ed7953"
             ],
             [
              0.7777777777777778,
              "#fb9f3a"
             ],
             [
              0.8888888888888888,
              "#fdca26"
             ],
             [
              1,
              "#f0f921"
             ]
            ],
            "type": "heatmap"
           }
          ],
          "heatmapgl": [
           {
            "colorbar": {
             "outlinewidth": 0,
             "ticks": ""
            },
            "colorscale": [
             [
              0,
              "#0d0887"
             ],
             [
              0.1111111111111111,
              "#46039f"
             ],
             [
              0.2222222222222222,
              "#7201a8"
             ],
             [
              0.3333333333333333,
              "#9c179e"
             ],
             [
              0.4444444444444444,
              "#bd3786"
             ],
             [
              0.5555555555555556,
              "#d8576b"
             ],
             [
              0.6666666666666666,
              "#ed7953"
             ],
             [
              0.7777777777777778,
              "#fb9f3a"
             ],
             [
              0.8888888888888888,
              "#fdca26"
             ],
             [
              1,
              "#f0f921"
             ]
            ],
            "type": "heatmapgl"
           }
          ],
          "histogram": [
           {
            "marker": {
             "pattern": {
              "fillmode": "overlay",
              "size": 10,
              "solidity": 0.2
             }
            },
            "type": "histogram"
           }
          ],
          "histogram2d": [
           {
            "colorbar": {
             "outlinewidth": 0,
             "ticks": ""
            },
            "colorscale": [
             [
              0,
              "#0d0887"
             ],
             [
              0.1111111111111111,
              "#46039f"
             ],
             [
              0.2222222222222222,
              "#7201a8"
             ],
             [
              0.3333333333333333,
              "#9c179e"
             ],
             [
              0.4444444444444444,
              "#bd3786"
             ],
             [
              0.5555555555555556,
              "#d8576b"
             ],
             [
              0.6666666666666666,
              "#ed7953"
             ],
             [
              0.7777777777777778,
              "#fb9f3a"
             ],
             [
              0.8888888888888888,
              "#fdca26"
             ],
             [
              1,
              "#f0f921"
             ]
            ],
            "type": "histogram2d"
           }
          ],
          "histogram2dcontour": [
           {
            "colorbar": {
             "outlinewidth": 0,
             "ticks": ""
            },
            "colorscale": [
             [
              0,
              "#0d0887"
             ],
             [
              0.1111111111111111,
              "#46039f"
             ],
             [
              0.2222222222222222,
              "#7201a8"
             ],
             [
              0.3333333333333333,
              "#9c179e"
             ],
             [
              0.4444444444444444,
              "#bd3786"
             ],
             [
              0.5555555555555556,
              "#d8576b"
             ],
             [
              0.6666666666666666,
              "#ed7953"
             ],
             [
              0.7777777777777778,
              "#fb9f3a"
             ],
             [
              0.8888888888888888,
              "#fdca26"
             ],
             [
              1,
              "#f0f921"
             ]
            ],
            "type": "histogram2dcontour"
           }
          ],
          "mesh3d": [
           {
            "colorbar": {
             "outlinewidth": 0,
             "ticks": ""
            },
            "type": "mesh3d"
           }
          ],
          "parcoords": [
           {
            "line": {
             "colorbar": {
              "outlinewidth": 0,
              "ticks": ""
             }
            },
            "type": "parcoords"
           }
          ],
          "pie": [
           {
            "automargin": true,
            "type": "pie"
           }
          ],
          "scatter": [
           {
            "fillpattern": {
             "fillmode": "overlay",
             "size": 10,
             "solidity": 0.2
            },
            "type": "scatter"
           }
          ],
          "scatter3d": [
           {
            "line": {
             "colorbar": {
              "outlinewidth": 0,
              "ticks": ""
             }
            },
            "marker": {
             "colorbar": {
              "outlinewidth": 0,
              "ticks": ""
             }
            },
            "type": "scatter3d"
           }
          ],
          "scattercarpet": [
           {
            "marker": {
             "colorbar": {
              "outlinewidth": 0,
              "ticks": ""
             }
            },
            "type": "scattercarpet"
           }
          ],
          "scattergeo": [
           {
            "marker": {
             "colorbar": {
              "outlinewidth": 0,
              "ticks": ""
             }
            },
            "type": "scattergeo"
           }
          ],
          "scattergl": [
           {
            "marker": {
             "colorbar": {
              "outlinewidth": 0,
              "ticks": ""
             }
            },
            "type": "scattergl"
           }
          ],
          "scattermapbox": [
           {
            "marker": {
             "colorbar": {
              "outlinewidth": 0,
              "ticks": ""
             }
            },
            "type": "scattermapbox"
           }
          ],
          "scatterpolar": [
           {
            "marker": {
             "colorbar": {
              "outlinewidth": 0,
              "ticks": ""
             }
            },
            "type": "scatterpolar"
           }
          ],
          "scatterpolargl": [
           {
            "marker": {
             "colorbar": {
              "outlinewidth": 0,
              "ticks": ""
             }
            },
            "type": "scatterpolargl"
           }
          ],
          "scatterternary": [
           {
            "marker": {
             "colorbar": {
              "outlinewidth": 0,
              "ticks": ""
             }
            },
            "type": "scatterternary"
           }
          ],
          "surface": [
           {
            "colorbar": {
             "outlinewidth": 0,
             "ticks": ""
            },
            "colorscale": [
             [
              0,
              "#0d0887"
             ],
             [
              0.1111111111111111,
              "#46039f"
             ],
             [
              0.2222222222222222,
              "#7201a8"
             ],
             [
              0.3333333333333333,
              "#9c179e"
             ],
             [
              0.4444444444444444,
              "#bd3786"
             ],
             [
              0.5555555555555556,
              "#d8576b"
             ],
             [
              0.6666666666666666,
              "#ed7953"
             ],
             [
              0.7777777777777778,
              "#fb9f3a"
             ],
             [
              0.8888888888888888,
              "#fdca26"
             ],
             [
              1,
              "#f0f921"
             ]
            ],
            "type": "surface"
           }
          ],
          "table": [
           {
            "cells": {
             "fill": {
              "color": "#EBF0F8"
             },
             "line": {
              "color": "white"
             }
            },
            "header": {
             "fill": {
              "color": "#C8D4E3"
             },
             "line": {
              "color": "white"
             }
            },
            "type": "table"
           }
          ]
         },
         "layout": {
          "annotationdefaults": {
           "arrowcolor": "#2a3f5f",
           "arrowhead": 0,
           "arrowwidth": 1
          },
          "autotypenumbers": "strict",
          "coloraxis": {
           "colorbar": {
            "outlinewidth": 0,
            "ticks": ""
           }
          },
          "colorscale": {
           "diverging": [
            [
             0,
             "#8e0152"
            ],
            [
             0.1,
             "#c51b7d"
            ],
            [
             0.2,
             "#de77ae"
            ],
            [
             0.3,
             "#f1b6da"
            ],
            [
             0.4,
             "#fde0ef"
            ],
            [
             0.5,
             "#f7f7f7"
            ],
            [
             0.6,
             "#e6f5d0"
            ],
            [
             0.7,
             "#b8e186"
            ],
            [
             0.8,
             "#7fbc41"
            ],
            [
             0.9,
             "#4d9221"
            ],
            [
             1,
             "#276419"
            ]
           ],
           "sequential": [
            [
             0,
             "#0d0887"
            ],
            [
             0.1111111111111111,
             "#46039f"
            ],
            [
             0.2222222222222222,
             "#7201a8"
            ],
            [
             0.3333333333333333,
             "#9c179e"
            ],
            [
             0.4444444444444444,
             "#bd3786"
            ],
            [
             0.5555555555555556,
             "#d8576b"
            ],
            [
             0.6666666666666666,
             "#ed7953"
            ],
            [
             0.7777777777777778,
             "#fb9f3a"
            ],
            [
             0.8888888888888888,
             "#fdca26"
            ],
            [
             1,
             "#f0f921"
            ]
           ],
           "sequentialminus": [
            [
             0,
             "#0d0887"
            ],
            [
             0.1111111111111111,
             "#46039f"
            ],
            [
             0.2222222222222222,
             "#7201a8"
            ],
            [
             0.3333333333333333,
             "#9c179e"
            ],
            [
             0.4444444444444444,
             "#bd3786"
            ],
            [
             0.5555555555555556,
             "#d8576b"
            ],
            [
             0.6666666666666666,
             "#ed7953"
            ],
            [
             0.7777777777777778,
             "#fb9f3a"
            ],
            [
             0.8888888888888888,
             "#fdca26"
            ],
            [
             1,
             "#f0f921"
            ]
           ]
          },
          "colorway": [
           "#636efa",
           "#EF553B",
           "#00cc96",
           "#ab63fa",
           "#FFA15A",
           "#19d3f3",
           "#FF6692",
           "#B6E880",
           "#FF97FF",
           "#FECB52"
          ],
          "font": {
           "color": "#2a3f5f"
          },
          "geo": {
           "bgcolor": "white",
           "lakecolor": "white",
           "landcolor": "#E5ECF6",
           "showlakes": true,
           "showland": true,
           "subunitcolor": "white"
          },
          "hoverlabel": {
           "align": "left"
          },
          "hovermode": "closest",
          "mapbox": {
           "style": "light"
          },
          "paper_bgcolor": "white",
          "plot_bgcolor": "#E5ECF6",
          "polar": {
           "angularaxis": {
            "gridcolor": "white",
            "linecolor": "white",
            "ticks": ""
           },
           "bgcolor": "#E5ECF6",
           "radialaxis": {
            "gridcolor": "white",
            "linecolor": "white",
            "ticks": ""
           }
          },
          "scene": {
           "xaxis": {
            "backgroundcolor": "#E5ECF6",
            "gridcolor": "white",
            "gridwidth": 2,
            "linecolor": "white",
            "showbackground": true,
            "ticks": "",
            "zerolinecolor": "white"
           },
           "yaxis": {
            "backgroundcolor": "#E5ECF6",
            "gridcolor": "white",
            "gridwidth": 2,
            "linecolor": "white",
            "showbackground": true,
            "ticks": "",
            "zerolinecolor": "white"
           },
           "zaxis": {
            "backgroundcolor": "#E5ECF6",
            "gridcolor": "white",
            "gridwidth": 2,
            "linecolor": "white",
            "showbackground": true,
            "ticks": "",
            "zerolinecolor": "white"
           }
          },
          "shapedefaults": {
           "line": {
            "color": "#2a3f5f"
           }
          },
          "ternary": {
           "aaxis": {
            "gridcolor": "white",
            "linecolor": "white",
            "ticks": ""
           },
           "baxis": {
            "gridcolor": "white",
            "linecolor": "white",
            "ticks": ""
           },
           "bgcolor": "#E5ECF6",
           "caxis": {
            "gridcolor": "white",
            "linecolor": "white",
            "ticks": ""
           }
          },
          "title": {
           "x": 0.05
          },
          "xaxis": {
           "automargin": true,
           "gridcolor": "white",
           "linecolor": "white",
           "ticks": "",
           "title": {
            "standoff": 15
           },
           "zerolinecolor": "white",
           "zerolinewidth": 2
          },
          "yaxis": {
           "automargin": true,
           "gridcolor": "white",
           "linecolor": "white",
           "ticks": "",
           "title": {
            "standoff": 15
           },
           "zerolinecolor": "white",
           "zerolinewidth": 2
          }
         }
        },
        "title": {
         "text": "Population and Drinking Water Use in Chile"
        },
        "xaxis": {
         "anchor": "y",
         "domain": [
          0,
          1
         ],
         "title": {
          "text": "Log Population"
         }
        },
        "yaxis": {
         "anchor": "x",
         "domain": [
          0,
          1
         ],
         "title": {
          "text": "Log Drinking Water use per cápita"
         }
        }
       }
      },
      "text/html": [
       "<div>                            <div id=\"7157d0a7-5a50-4cd2-b4f7-4ad59cbb7869\" class=\"plotly-graph-div\" style=\"height:525px; width:100%;\"></div>            <script type=\"text/javascript\">                require([\"plotly\"], function(Plotly) {                    window.PLOTLYENV=window.PLOTLYENV || {};                                    if (document.getElementById(\"7157d0a7-5a50-4cd2-b4f7-4ad59cbb7869\")) {                    Plotly.newPlot(                        \"7157d0a7-5a50-4cd2-b4f7-4ad59cbb7869\",                        [{\"hovertemplate\":\"Log Population=%{x}<br>Log Drinking Water use per c\\u00e1pita=%{y}<extra></extra>\",\"legendgroup\":\"\",\"marker\":{\"color\":\"#636efa\",\"symbol\":\"circle\"},\"mode\":\"markers\",\"name\":\"\",\"orientation\":\"v\",\"showlegend\":false,\"x\":[16.56864253183486,16.579120150707134,16.589481636808753,16.599502082936773,16.609609394991846,16.619957197163437,16.63078477732429,16.6417039076522,16.652477261111983,16.663563773830635,16.67447712843171,16.68408548145438,16.694013099011457,16.704293443159354,16.715125410982797,16.728903722465585,16.746779240906665,16.765576622715134,16.783784786141037],\"xaxis\":\"x\",\"y\":[-12.833356704906771,-12.830322206381956,-12.816261034261064,-12.801095804295594,-12.78794882964409,-12.777927563555826,-12.764596308239945,-12.780342817026282,-12.752324428254324,-12.733111632934122,-12.717480757360834,-12.708149150282583,-12.71657695503508,-12.726857299182976,-12.72355212679664,-12.71576921566903,-12.71253860275427,-12.74040351935433,-12.763266184559592],\"yaxis\":\"y\",\"type\":\"scatter\"}],                        {\"template\":{\"data\":{\"histogram2dcontour\":[{\"type\":\"histogram2dcontour\",\"colorbar\":{\"outlinewidth\":0,\"ticks\":\"\"},\"colorscale\":[[0.0,\"#0d0887\"],[0.1111111111111111,\"#46039f\"],[0.2222222222222222,\"#7201a8\"],[0.3333333333333333,\"#9c179e\"],[0.4444444444444444,\"#bd3786\"],[0.5555555555555556,\"#d8576b\"],[0.6666666666666666,\"#ed7953\"],[0.7777777777777778,\"#fb9f3a\"],[0.8888888888888888,\"#fdca26\"],[1.0,\"#f0f921\"]]}],\"choropleth\":[{\"type\":\"choropleth\",\"colorbar\":{\"outlinewidth\":0,\"ticks\":\"\"}}],\"histogram2d\":[{\"type\":\"histogram2d\",\"colorbar\":{\"outlinewidth\":0,\"ticks\":\"\"},\"colorscale\":[[0.0,\"#0d0887\"],[0.1111111111111111,\"#46039f\"],[0.2222222222222222,\"#7201a8\"],[0.3333333333333333,\"#9c179e\"],[0.4444444444444444,\"#bd3786\"],[0.5555555555555556,\"#d8576b\"],[0.6666666666666666,\"#ed7953\"],[0.7777777777777778,\"#fb9f3a\"],[0.8888888888888888,\"#fdca26\"],[1.0,\"#f0f921\"]]}],\"heatmap\":[{\"type\":\"heatmap\",\"colorbar\":{\"outlinewidth\":0,\"ticks\":\"\"},\"colorscale\":[[0.0,\"#0d0887\"],[0.1111111111111111,\"#46039f\"],[0.2222222222222222,\"#7201a8\"],[0.3333333333333333,\"#9c179e\"],[0.4444444444444444,\"#bd3786\"],[0.5555555555555556,\"#d8576b\"],[0.6666666666666666,\"#ed7953\"],[0.7777777777777778,\"#fb9f3a\"],[0.8888888888888888,\"#fdca26\"],[1.0,\"#f0f921\"]]}],\"heatmapgl\":[{\"type\":\"heatmapgl\",\"colorbar\":{\"outlinewidth\":0,\"ticks\":\"\"},\"colorscale\":[[0.0,\"#0d0887\"],[0.1111111111111111,\"#46039f\"],[0.2222222222222222,\"#7201a8\"],[0.3333333333333333,\"#9c179e\"],[0.4444444444444444,\"#bd3786\"],[0.5555555555555556,\"#d8576b\"],[0.6666666666666666,\"#ed7953\"],[0.7777777777777778,\"#fb9f3a\"],[0.8888888888888888,\"#fdca26\"],[1.0,\"#f0f921\"]]}],\"contourcarpet\":[{\"type\":\"contourcarpet\",\"colorbar\":{\"outlinewidth\":0,\"ticks\":\"\"}}],\"contour\":[{\"type\":\"contour\",\"colorbar\":{\"outlinewidth\":0,\"ticks\":\"\"},\"colorscale\":[[0.0,\"#0d0887\"],[0.1111111111111111,\"#46039f\"],[0.2222222222222222,\"#7201a8\"],[0.3333333333333333,\"#9c179e\"],[0.4444444444444444,\"#bd3786\"],[0.5555555555555556,\"#d8576b\"],[0.6666666666666666,\"#ed7953\"],[0.7777777777777778,\"#fb9f3a\"],[0.8888888888888888,\"#fdca26\"],[1.0,\"#f0f921\"]]}],\"surface\":[{\"type\":\"surface\",\"colorbar\":{\"outlinewidth\":0,\"ticks\":\"\"},\"colorscale\":[[0.0,\"#0d0887\"],[0.1111111111111111,\"#46039f\"],[0.2222222222222222,\"#7201a8\"],[0.3333333333333333,\"#9c179e\"],[0.4444444444444444,\"#bd3786\"],[0.5555555555555556,\"#d8576b\"],[0.6666666666666666,\"#ed7953\"],[0.7777777777777778,\"#fb9f3a\"],[0.8888888888888888,\"#fdca26\"],[1.0,\"#f0f921\"]]}],\"mesh3d\":[{\"type\":\"mesh3d\",\"colorbar\":{\"outlinewidth\":0,\"ticks\":\"\"}}],\"scatter\":[{\"fillpattern\":{\"fillmode\":\"overlay\",\"size\":10,\"solidity\":0.2},\"type\":\"scatter\"}],\"parcoords\":[{\"type\":\"parcoords\",\"line\":{\"colorbar\":{\"outlinewidth\":0,\"ticks\":\"\"}}}],\"scatterpolargl\":[{\"type\":\"scatterpolargl\",\"marker\":{\"colorbar\":{\"outlinewidth\":0,\"ticks\":\"\"}}}],\"bar\":[{\"error_x\":{\"color\":\"#2a3f5f\"},\"error_y\":{\"color\":\"#2a3f5f\"},\"marker\":{\"line\":{\"color\":\"#E5ECF6\",\"width\":0.5},\"pattern\":{\"fillmode\":\"overlay\",\"size\":10,\"solidity\":0.2}},\"type\":\"bar\"}],\"scattergeo\":[{\"type\":\"scattergeo\",\"marker\":{\"colorbar\":{\"outlinewidth\":0,\"ticks\":\"\"}}}],\"scatterpolar\":[{\"type\":\"scatterpolar\",\"marker\":{\"colorbar\":{\"outlinewidth\":0,\"ticks\":\"\"}}}],\"histogram\":[{\"marker\":{\"pattern\":{\"fillmode\":\"overlay\",\"size\":10,\"solidity\":0.2}},\"type\":\"histogram\"}],\"scattergl\":[{\"type\":\"scattergl\",\"marker\":{\"colorbar\":{\"outlinewidth\":0,\"ticks\":\"\"}}}],\"scatter3d\":[{\"type\":\"scatter3d\",\"line\":{\"colorbar\":{\"outlinewidth\":0,\"ticks\":\"\"}},\"marker\":{\"colorbar\":{\"outlinewidth\":0,\"ticks\":\"\"}}}],\"scattermapbox\":[{\"type\":\"scattermapbox\",\"marker\":{\"colorbar\":{\"outlinewidth\":0,\"ticks\":\"\"}}}],\"scatterternary\":[{\"type\":\"scatterternary\",\"marker\":{\"colorbar\":{\"outlinewidth\":0,\"ticks\":\"\"}}}],\"scattercarpet\":[{\"type\":\"scattercarpet\",\"marker\":{\"colorbar\":{\"outlinewidth\":0,\"ticks\":\"\"}}}],\"carpet\":[{\"aaxis\":{\"endlinecolor\":\"#2a3f5f\",\"gridcolor\":\"white\",\"linecolor\":\"white\",\"minorgridcolor\":\"white\",\"startlinecolor\":\"#2a3f5f\"},\"baxis\":{\"endlinecolor\":\"#2a3f5f\",\"gridcolor\":\"white\",\"linecolor\":\"white\",\"minorgridcolor\":\"white\",\"startlinecolor\":\"#2a3f5f\"},\"type\":\"carpet\"}],\"table\":[{\"cells\":{\"fill\":{\"color\":\"#EBF0F8\"},\"line\":{\"color\":\"white\"}},\"header\":{\"fill\":{\"color\":\"#C8D4E3\"},\"line\":{\"color\":\"white\"}},\"type\":\"table\"}],\"barpolar\":[{\"marker\":{\"line\":{\"color\":\"#E5ECF6\",\"width\":0.5},\"pattern\":{\"fillmode\":\"overlay\",\"size\":10,\"solidity\":0.2}},\"type\":\"barpolar\"}],\"pie\":[{\"automargin\":true,\"type\":\"pie\"}]},\"layout\":{\"autotypenumbers\":\"strict\",\"colorway\":[\"#636efa\",\"#EF553B\",\"#00cc96\",\"#ab63fa\",\"#FFA15A\",\"#19d3f3\",\"#FF6692\",\"#B6E880\",\"#FF97FF\",\"#FECB52\"],\"font\":{\"color\":\"#2a3f5f\"},\"hovermode\":\"closest\",\"hoverlabel\":{\"align\":\"left\"},\"paper_bgcolor\":\"white\",\"plot_bgcolor\":\"#E5ECF6\",\"polar\":{\"bgcolor\":\"#E5ECF6\",\"angularaxis\":{\"gridcolor\":\"white\",\"linecolor\":\"white\",\"ticks\":\"\"},\"radialaxis\":{\"gridcolor\":\"white\",\"linecolor\":\"white\",\"ticks\":\"\"}},\"ternary\":{\"bgcolor\":\"#E5ECF6\",\"aaxis\":{\"gridcolor\":\"white\",\"linecolor\":\"white\",\"ticks\":\"\"},\"baxis\":{\"gridcolor\":\"white\",\"linecolor\":\"white\",\"ticks\":\"\"},\"caxis\":{\"gridcolor\":\"white\",\"linecolor\":\"white\",\"ticks\":\"\"}},\"coloraxis\":{\"colorbar\":{\"outlinewidth\":0,\"ticks\":\"\"}},\"colorscale\":{\"sequential\":[[0.0,\"#0d0887\"],[0.1111111111111111,\"#46039f\"],[0.2222222222222222,\"#7201a8\"],[0.3333333333333333,\"#9c179e\"],[0.4444444444444444,\"#bd3786\"],[0.5555555555555556,\"#d8576b\"],[0.6666666666666666,\"#ed7953\"],[0.7777777777777778,\"#fb9f3a\"],[0.8888888888888888,\"#fdca26\"],[1.0,\"#f0f921\"]],\"sequentialminus\":[[0.0,\"#0d0887\"],[0.1111111111111111,\"#46039f\"],[0.2222222222222222,\"#7201a8\"],[0.3333333333333333,\"#9c179e\"],[0.4444444444444444,\"#bd3786\"],[0.5555555555555556,\"#d8576b\"],[0.6666666666666666,\"#ed7953\"],[0.7777777777777778,\"#fb9f3a\"],[0.8888888888888888,\"#fdca26\"],[1.0,\"#f0f921\"]],\"diverging\":[[0,\"#8e0152\"],[0.1,\"#c51b7d\"],[0.2,\"#de77ae\"],[0.3,\"#f1b6da\"],[0.4,\"#fde0ef\"],[0.5,\"#f7f7f7\"],[0.6,\"#e6f5d0\"],[0.7,\"#b8e186\"],[0.8,\"#7fbc41\"],[0.9,\"#4d9221\"],[1,\"#276419\"]]},\"xaxis\":{\"gridcolor\":\"white\",\"linecolor\":\"white\",\"ticks\":\"\",\"title\":{\"standoff\":15},\"zerolinecolor\":\"white\",\"automargin\":true,\"zerolinewidth\":2},\"yaxis\":{\"gridcolor\":\"white\",\"linecolor\":\"white\",\"ticks\":\"\",\"title\":{\"standoff\":15},\"zerolinecolor\":\"white\",\"automargin\":true,\"zerolinewidth\":2},\"scene\":{\"xaxis\":{\"backgroundcolor\":\"#E5ECF6\",\"gridcolor\":\"white\",\"linecolor\":\"white\",\"showbackground\":true,\"ticks\":\"\",\"zerolinecolor\":\"white\",\"gridwidth\":2},\"yaxis\":{\"backgroundcolor\":\"#E5ECF6\",\"gridcolor\":\"white\",\"linecolor\":\"white\",\"showbackground\":true,\"ticks\":\"\",\"zerolinecolor\":\"white\",\"gridwidth\":2},\"zaxis\":{\"backgroundcolor\":\"#E5ECF6\",\"gridcolor\":\"white\",\"linecolor\":\"white\",\"showbackground\":true,\"ticks\":\"\",\"zerolinecolor\":\"white\",\"gridwidth\":2}},\"shapedefaults\":{\"line\":{\"color\":\"#2a3f5f\"}},\"annotationdefaults\":{\"arrowcolor\":\"#2a3f5f\",\"arrowhead\":0,\"arrowwidth\":1},\"geo\":{\"bgcolor\":\"white\",\"landcolor\":\"#E5ECF6\",\"subunitcolor\":\"white\",\"showland\":true,\"showlakes\":true,\"lakecolor\":\"white\"},\"title\":{\"x\":0.05},\"mapbox\":{\"style\":\"light\"}}},\"xaxis\":{\"anchor\":\"y\",\"domain\":[0.0,1.0],\"title\":{\"text\":\"Log Population\"}},\"yaxis\":{\"anchor\":\"x\",\"domain\":[0.0,1.0],\"title\":{\"text\":\"Log Drinking Water use per c\\u00e1pita\"}},\"legend\":{\"tracegroupgap\":0},\"title\":{\"text\":\"Population and Drinking Water Use in Chile\"}},                        {\"responsive\": true}                    ).then(function(){\n",
       "                            \n",
       "var gd = document.getElementById('7157d0a7-5a50-4cd2-b4f7-4ad59cbb7869');\n",
       "var x = new MutationObserver(function (mutations, observer) {{\n",
       "        var display = window.getComputedStyle(gd).display;\n",
       "        if (!display || display === 'none') {{\n",
       "            console.log([gd, 'removed!']);\n",
       "            Plotly.purge(gd);\n",
       "            observer.disconnect();\n",
       "        }}\n",
       "}});\n",
       "\n",
       "// Listen for the removal of the full notebook cells\n",
       "var notebookContainer = gd.closest('#notebook-container');\n",
       "if (notebookContainer) {{\n",
       "    x.observe(notebookContainer, {childList: true});\n",
       "}}\n",
       "\n",
       "// Listen for the clearing of the current output cell\n",
       "var outputEl = gd.closest('.output');\n",
       "if (outputEl) {{\n",
       "    x.observe(outputEl, {childList: true});\n",
       "}}\n",
       "\n",
       "                        })                };                });            </script>        </div>"
      ]
     },
     "metadata": {},
     "output_type": "display_data"
    }
   ],
   "source": [
    "DW_pop['NLU/Pop']=DW_pop['NLU']/DW_pop['Population']\n",
    "DW_pop['Log_NLU/Pop' ]=np.log(DW_pop['NLU/Pop'])\n",
    "fig = px.scatter(DW_pop, x=\"Log_Pop\", y=\"Log_NLU/pop\", \n",
    "              title=\"Population and Drinking Water Use in Chile\", \n",
    "              labels={'Log_Pop':'Log Population', 'Log_NLU/pop':'Log Drinking Water use per cápita'})\n",
    "\n",
    "fig.show()"
   ]
  },
  {
   "cell_type": "code",
   "execution_count": null,
   "id": "e0b90c3a",
   "metadata": {},
   "outputs": [],
   "source": []
  }
 ],
 "metadata": {
  "kernelspec": {
   "display_name": "Python 3 (ipykernel)",
   "language": "python",
   "name": "python3"
  },
  "language_info": {
   "codemirror_mode": {
    "name": "ipython",
    "version": 3
   },
   "file_extension": ".py",
   "mimetype": "text/x-python",
   "name": "python",
   "nbconvert_exporter": "python",
   "pygments_lexer": "ipython3",
   "version": "3.11.3"
  }
 },
 "nbformat": 4,
 "nbformat_minor": 5
}
