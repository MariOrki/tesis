{
  "nbformat": 4,
  "nbformat_minor": 0,
  "metadata": {
    "colab": {
      "provenance": [],
      "authorship_tag": "ABX9TyPzM1ijAKuXEXshIjNtO6+w",
      "include_colab_link": true
    },
    "kernelspec": {
      "name": "python3",
      "display_name": "Python 3"
    },
    "language_info": {
      "name": "python"
    }
  },
  "cells": [
    {
      "cell_type": "markdown",
      "metadata": {
        "id": "view-in-github",
        "colab_type": "text"
      },
      "source": [
        "<a href=\"https://colab.research.google.com/github/MariOrki/tesis/blob/main/bbdd_NLU.ipynb\" target=\"_parent\"><img src=\"https://colab.research.google.com/assets/colab-badge.svg\" alt=\"Open In Colab\"/></a>"
      ]
    },
    {
      "cell_type": "code",
      "source": [
        "! pip install pandas\n",
        "! pip install geopandas\n",
        "! pip install plotly.express\n",
        "! pip install matplotlib\n",
        "! pip install geojson\n",
        "! pip install ipykernel\n",
        "#! pip install \"jupyterlab>=3\" \"ipywidgets>=7.6\"\n",
        "! pip install plotly #quizás no es necesario con plotly express?\n",
        "! pip install ast\n",
        "! pip install nbformat \n",
        "! pip install --upgrade nbformat\n",
        "! pip install geoplot\n",
        "! pip install statsmodels\n",
        "! pip3 install geojson "
      ],
      "metadata": {
        "id": "Fgzbfh0AiM4-"
      },
      "execution_count": null,
      "outputs": []
    },
    {
      "cell_type": "code",
      "source": [
        "! pip install geopandas"
      ],
      "metadata": {
        "colab": {
          "base_uri": "https://localhost:8080/"
        },
        "id": "eHdX9KMgdvEW",
        "outputId": "f3f136f4-fc8f-436c-d736-9a10730ae8d1"
      },
      "execution_count": 2,
      "outputs": [
        {
          "output_type": "stream",
          "name": "stdout",
          "text": [
            "Looking in indexes: https://pypi.org/simple, https://us-python.pkg.dev/colab-wheels/public/simple/\n",
            "Collecting geopandas\n",
            "  Downloading geopandas-0.13.0-py3-none-any.whl (1.1 MB)\n",
            "\u001b[2K     \u001b[90m━━━━━━━━━━━━━━━━━━━━━━━━━━━━━━━━━━━━━━━━\u001b[0m \u001b[32m1.1/1.1 MB\u001b[0m \u001b[31m14.0 MB/s\u001b[0m eta \u001b[36m0:00:00\u001b[0m\n",
            "\u001b[?25hCollecting fiona>=1.8.19 (from geopandas)\n",
            "  Downloading Fiona-1.9.4.post1-cp310-cp310-manylinux_2_17_x86_64.manylinux2014_x86_64.whl (16.4 MB)\n",
            "\u001b[2K     \u001b[90m━━━━━━━━━━━━━━━━━━━━━━━━━━━━━━━━━━━━━━━━\u001b[0m \u001b[32m16.4/16.4 MB\u001b[0m \u001b[31m80.1 MB/s\u001b[0m eta \u001b[36m0:00:00\u001b[0m\n",
            "\u001b[?25hRequirement already satisfied: packaging in /usr/local/lib/python3.10/dist-packages (from geopandas) (23.1)\n",
            "Requirement already satisfied: pandas>=1.1.0 in /usr/local/lib/python3.10/dist-packages (from geopandas) (1.5.3)\n",
            "Collecting pyproj>=3.0.1 (from geopandas)\n",
            "  Downloading pyproj-3.5.0-cp310-cp310-manylinux_2_17_x86_64.manylinux2014_x86_64.whl (7.7 MB)\n",
            "\u001b[2K     \u001b[90m━━━━━━━━━━━━━━━━━━━━━━━━━━━━━━━━━━━━━━━━\u001b[0m \u001b[32m7.7/7.7 MB\u001b[0m \u001b[31m74.6 MB/s\u001b[0m eta \u001b[36m0:00:00\u001b[0m\n",
            "\u001b[?25hRequirement already satisfied: shapely>=1.7.1 in /usr/local/lib/python3.10/dist-packages (from geopandas) (2.0.1)\n",
            "Requirement already satisfied: attrs>=19.2.0 in /usr/local/lib/python3.10/dist-packages (from fiona>=1.8.19->geopandas) (23.1.0)\n",
            "Requirement already satisfied: certifi in /usr/local/lib/python3.10/dist-packages (from fiona>=1.8.19->geopandas) (2022.12.7)\n",
            "Requirement already satisfied: click~=8.0 in /usr/local/lib/python3.10/dist-packages (from fiona>=1.8.19->geopandas) (8.1.3)\n",
            "Collecting click-plugins>=1.0 (from fiona>=1.8.19->geopandas)\n",
            "  Downloading click_plugins-1.1.1-py2.py3-none-any.whl (7.5 kB)\n",
            "Collecting cligj>=0.5 (from fiona>=1.8.19->geopandas)\n",
            "  Downloading cligj-0.7.2-py3-none-any.whl (7.1 kB)\n",
            "Requirement already satisfied: six in /usr/local/lib/python3.10/dist-packages (from fiona>=1.8.19->geopandas) (1.16.0)\n",
            "Requirement already satisfied: python-dateutil>=2.8.1 in /usr/local/lib/python3.10/dist-packages (from pandas>=1.1.0->geopandas) (2.8.2)\n",
            "Requirement already satisfied: pytz>=2020.1 in /usr/local/lib/python3.10/dist-packages (from pandas>=1.1.0->geopandas) (2022.7.1)\n",
            "Requirement already satisfied: numpy>=1.21.0 in /usr/local/lib/python3.10/dist-packages (from pandas>=1.1.0->geopandas) (1.22.4)\n",
            "Installing collected packages: pyproj, cligj, click-plugins, fiona, geopandas\n",
            "Successfully installed click-plugins-1.1.1 cligj-0.7.2 fiona-1.9.4.post1 geopandas-0.13.0 pyproj-3.5.0\n"
          ]
        }
      ]
    },
    {
      "cell_type": "code",
      "source": [
        "import pandas as pd\n",
        "import plotly.graph_objects as go\n",
        "import geopandas as gpd \n",
        "import matplotlib.pyplot as plt\n",
        "import plotly.express as px #annotations\n",
        "import plotly.graph_objs as pg\n",
        "import datetime\n",
        "import numpy as np\n",
        "import scipy.interpolate\n",
        "import statsmodels\n",
        "import requests\n",
        "import os\n",
        "from bs4 import BeautifulSoup"
      ],
      "metadata": {
        "id": "kg9r1b1_EwEx"
      },
      "execution_count": 3,
      "outputs": []
    },
    {
      "cell_type": "code",
      "source": [
        "import geojson\n",
        "from geojson import GeometryCollection, Point, LineString, Feature, FeatureCollection\n",
        "import ast"
      ],
      "metadata": {
        "id": "LxRVVA7DE0M9"
      },
      "execution_count": null,
      "outputs": []
    },
    {
      "cell_type": "code",
      "source": [
        "ls"
      ],
      "metadata": {
        "colab": {
          "base_uri": "https://localhost:8080/"
        },
        "id": "VhOhAyUkd86_",
        "outputId": "3703c11d-5489-4c0a-cd06-90782b12afbc"
      },
      "execution_count": 8,
      "outputs": [
        {
          "output_type": "stream",
          "name": "stdout",
          "text": [
            "\u001b[0m\u001b[01;32manscombe.json\u001b[0m*                mnist_test.csv\n",
            "california_housing_test.csv   mnist_train_small.csv\n",
            "california_housing_train.csv  \u001b[01;32mREADME.md\u001b[0m*\n"
          ]
        }
      ]
    },
    {
      "cell_type": "code",
      "source": [
        "\n",
        "\n",
        "folder_path = 'Total'  # Ruta de la carpeta principal\n",
        "output_dataframes = {}  # Diccionario para almacenar los DataFrames resultantes\n",
        "\n",
        "# Obtener la lista de archivos y subcarpetas en la carpeta principal\n",
        "for root, dirs, files in os.walk(folder_path):\n",
        "    for file in files:\n",
        "        if file.endswith('.csv') and file.startswith('CR2_NLU_') and 'historical_1950-2020_communes' in file:\n",
        "            # Obtener el nombre de la subcarpeta y el nombre del archivo\n",
        "            subfolder = os.path.basename(root)\n",
        "            filename = os.path.splitext(file)[0]\n",
        "            name_parts = filename.split('_')\n",
        "\n",
        "            # Construir el nombre deseado para el DataFrame\n",
        "            dataframe_name = subfolder + '_' + name_parts[-2]\n",
        "\n",
        "            # Leer el archivo CSV en un DataFrame\n",
        "            file_path = os.path.join(root, file)\n",
        "            df = pd.read_csv(file_path)\n",
        "\n",
        "            # Asignar el DataFrame al diccionario usando el nombre deseado\n",
        "            output_dataframes[dataframe_name] = df\n",
        "\n",
        "# Acceder a los DataFrames resultantes por su nombre\n",
        "total_communes = output_dataframes['Total_communes']\n",
        "drinkingwater_communes = output_dataframes['DrinkingWater_communes']\n",
        "energy_communes = output_dataframes['Energy_communes']\n",
        "industry_communes = output_dataframes['Industry_communes']\n",
        "\n",
        "# Realizar operaciones adicionales con los DataFrames según sea necesario"
      ],
      "metadata": {
        "id": "wHGPb0ytdgrk"
      },
      "execution_count": null,
      "outputs": []
    },
    {
      "cell_type": "code",
      "source": [
        "ch = gpd.read_file(r'/mnt/home2/mari/Tesis/NLU/GeoJSON/nation_ContinentalChile_epsg4326.geojson')\n",
        "reg = gpd.read_file(r'/mnt/home2/mari/Tesis/NLU/GeoJSON/regions_ContinentalChile_epsg4326.geojson')\n",
        "com = gpd.read_file(r'/mnt/home2/mari/Tesis/NLU/GeoJSON/communes_ContinentalChile_epsg4326.geojson')"
      ],
      "metadata": {
        "id": "XkMY8_QIFI6l"
      },
      "execution_count": null,
      "outputs": []
    },
    {
      "cell_type": "code",
      "source": [
        "#file containing codes and names\n",
        "cod = pd.read_csv(r'/mnt/home2/mari/Tesis/NLU/LUT_cod_com_Chile.csv')\n",
        "\n",
        "#dictionary code region : name region\n",
        "cod_reg_nom_reg = cod[['cod_reg', 'nom_reg']].drop_duplicates().set_index('cod_reg')['nom_reg'].astype(str).to_dict()\n",
        "cod_reg_nom_reg = {str(k): v for k, v in cod_reg_nom_reg.items()} #same type of data as csv column names NLU_XX\n",
        "\n",
        "#dictionary code commune : name commune\n",
        "cod_com_nom_com = cod[['cod_com', 'nom_com']].drop_duplicates().set_index('cod_com')['nom_com'].astype(str).to_dict()\n",
        "cod_com_nom_com = {str(k): v for k, v in cod_com_nom_com.items()} "
      ],
      "metadata": {
        "id": "W8S_1H2CFOdS"
      },
      "execution_count": null,
      "outputs": []
    },
    {
      "cell_type": "code",
      "source": [
        "years_with_365_days = []\n",
        "years_with_366_days = []\n",
        "\n",
        "for year in range(1950, 2021):\n",
        "    date = datetime.date(year, 12, 31)  # Crear una fecha para el último día del año\n",
        "    \n",
        "    if date.timetuple().tm_yday == 365:\n",
        "        years_with_365_days.append(year)\n",
        "\n",
        "    if date.timetuple().tm_yday == 366:\n",
        "        years_with_366_days.append(year)\n",
        "\n",
        "y_365=[str(item) for item in years_with_365_days]\n",
        "y_366=[str(item) for item in years_with_366_days]"
      ],
      "metadata": {
        "id": "He77prpQFPK-"
      },
      "execution_count": null,
      "outputs": []
    },
    {
      "cell_type": "code",
      "source": [],
      "metadata": {
        "id": "H5U6JdQvFToa"
      },
      "execution_count": null,
      "outputs": []
    },
    {
      "cell_type": "code",
      "execution_count": null,
      "metadata": {
        "colab": {
          "base_uri": "https://localhost:8080/"
        },
        "id": "YsyBXdI3g8eu",
        "outputId": "a429c1e2-92f8-4d5b-c265-619175305510"
      },
      "outputs": [
        {
          "output_type": "stream",
          "name": "stdout",
          "text": [
            "/content/sample_data\n"
          ]
        }
      ],
      "source": [
        "cd sample_data"
      ]
    },
    {
      "cell_type": "code",
      "source": [
        "NLU_nation = pd.read_csv ('CR2WU_NLU_Total_historical_1950-2020_nation.csv')\n",
        "NLU_regions = pd.read_csv ('CR2WU_NLU_Total_historical_1950-2020_regions.csv')"
      ],
      "metadata": {
        "id": "ol0iFJp2hTn_"
      },
      "execution_count": null,
      "outputs": []
    },
    {
      "cell_type": "code",
      "source": [
        "#Database cleaning\n",
        "NLU_nation['Date'] = pd.to_datetime(NLU_nation[\"Date\"])\n",
        "NLU_nation['Date'] = NLU_nation['Date'].dt.strftime('%Y')\n",
        "NLU_nation = NLU_nation.rename(columns={\"Date\": \"Years\",\"1\":\"NLU\"})\n",
        "NLU_nation['Years'] = NLU_nation['Years'].astype(int)\n",
        "\n",
        "NLU_regions['Date'] = pd.to_datetime(NLU_regions[\"Date\"])\n",
        "NLU_regions['Date'] = NLU_regions['Date'].dt.strftime('%Y')\n",
        "NLU_regions = NLU_regions.rename(columns={\"Date\": \"Years\"})\n",
        "NLU_regions['Years'] = NLU_regions['Years'].astype(int)\n",
        "\n",
        "#Adding Region's names\n",
        "NLU_regions_plot = NLU_regions.rename(columns=cod_reg_nom_reg)\n",
        "\n",
        "#NLU national 2 decimal\n",
        "NLU_nation_ = NLU_nation\n",
        "NLU_nation_['NLU'] = NLU_nation_['NLU'].round(decimals=2)"
      ],
      "metadata": {
        "id": "mZy-JV1Kibmu"
      },
      "execution_count": null,
      "outputs": []
    },
    {
      "cell_type": "code",
      "source": [
        "NLU_nation.head()"
      ],
      "metadata": {
        "colab": {
          "base_uri": "https://localhost:8080/",
          "height": 206
        },
        "id": "i9glrzB0jvXV",
        "outputId": "8cb33f7b-a67b-4e26-f9f8-440ff56b8c64"
      },
      "execution_count": null,
      "outputs": [
        {
          "output_type": "execute_result",
          "data": {
            "text/plain": [
              "  Years         NLU\n",
              "0  1950  371.983515\n",
              "1  1951  372.250363\n",
              "2  1952  372.545652\n",
              "3  1953  373.614361\n",
              "4  1954  374.197526"
            ],
            "text/html": [
              "\n",
              "  <div id=\"df-7bfe21ed-41b2-4229-aa80-f1472b9112bd\">\n",
              "    <div class=\"colab-df-container\">\n",
              "      <div>\n",
              "<style scoped>\n",
              "    .dataframe tbody tr th:only-of-type {\n",
              "        vertical-align: middle;\n",
              "    }\n",
              "\n",
              "    .dataframe tbody tr th {\n",
              "        vertical-align: top;\n",
              "    }\n",
              "\n",
              "    .dataframe thead th {\n",
              "        text-align: right;\n",
              "    }\n",
              "</style>\n",
              "<table border=\"1\" class=\"dataframe\">\n",
              "  <thead>\n",
              "    <tr style=\"text-align: right;\">\n",
              "      <th></th>\n",
              "      <th>Years</th>\n",
              "      <th>NLU</th>\n",
              "    </tr>\n",
              "  </thead>\n",
              "  <tbody>\n",
              "    <tr>\n",
              "      <th>0</th>\n",
              "      <td>1950</td>\n",
              "      <td>371.983515</td>\n",
              "    </tr>\n",
              "    <tr>\n",
              "      <th>1</th>\n",
              "      <td>1951</td>\n",
              "      <td>372.250363</td>\n",
              "    </tr>\n",
              "    <tr>\n",
              "      <th>2</th>\n",
              "      <td>1952</td>\n",
              "      <td>372.545652</td>\n",
              "    </tr>\n",
              "    <tr>\n",
              "      <th>3</th>\n",
              "      <td>1953</td>\n",
              "      <td>373.614361</td>\n",
              "    </tr>\n",
              "    <tr>\n",
              "      <th>4</th>\n",
              "      <td>1954</td>\n",
              "      <td>374.197526</td>\n",
              "    </tr>\n",
              "  </tbody>\n",
              "</table>\n",
              "</div>\n",
              "      <button class=\"colab-df-convert\" onclick=\"convertToInteractive('df-7bfe21ed-41b2-4229-aa80-f1472b9112bd')\"\n",
              "              title=\"Convert this dataframe to an interactive table.\"\n",
              "              style=\"display:none;\">\n",
              "        \n",
              "  <svg xmlns=\"http://www.w3.org/2000/svg\" height=\"24px\"viewBox=\"0 0 24 24\"\n",
              "       width=\"24px\">\n",
              "    <path d=\"M0 0h24v24H0V0z\" fill=\"none\"/>\n",
              "    <path d=\"M18.56 5.44l.94 2.06.94-2.06 2.06-.94-2.06-.94-.94-2.06-.94 2.06-2.06.94zm-11 1L8.5 8.5l.94-2.06 2.06-.94-2.06-.94L8.5 2.5l-.94 2.06-2.06.94zm10 10l.94 2.06.94-2.06 2.06-.94-2.06-.94-.94-2.06-.94 2.06-2.06.94z\"/><path d=\"M17.41 7.96l-1.37-1.37c-.4-.4-.92-.59-1.43-.59-.52 0-1.04.2-1.43.59L10.3 9.45l-7.72 7.72c-.78.78-.78 2.05 0 2.83L4 21.41c.39.39.9.59 1.41.59.51 0 1.02-.2 1.41-.59l7.78-7.78 2.81-2.81c.8-.78.8-2.07 0-2.86zM5.41 20L4 18.59l7.72-7.72 1.47 1.35L5.41 20z\"/>\n",
              "  </svg>\n",
              "      </button>\n",
              "      \n",
              "  <style>\n",
              "    .colab-df-container {\n",
              "      display:flex;\n",
              "      flex-wrap:wrap;\n",
              "      gap: 12px;\n",
              "    }\n",
              "\n",
              "    .colab-df-convert {\n",
              "      background-color: #E8F0FE;\n",
              "      border: none;\n",
              "      border-radius: 50%;\n",
              "      cursor: pointer;\n",
              "      display: none;\n",
              "      fill: #1967D2;\n",
              "      height: 32px;\n",
              "      padding: 0 0 0 0;\n",
              "      width: 32px;\n",
              "    }\n",
              "\n",
              "    .colab-df-convert:hover {\n",
              "      background-color: #E2EBFA;\n",
              "      box-shadow: 0px 1px 2px rgba(60, 64, 67, 0.3), 0px 1px 3px 1px rgba(60, 64, 67, 0.15);\n",
              "      fill: #174EA6;\n",
              "    }\n",
              "\n",
              "    [theme=dark] .colab-df-convert {\n",
              "      background-color: #3B4455;\n",
              "      fill: #D2E3FC;\n",
              "    }\n",
              "\n",
              "    [theme=dark] .colab-df-convert:hover {\n",
              "      background-color: #434B5C;\n",
              "      box-shadow: 0px 1px 3px 1px rgba(0, 0, 0, 0.15);\n",
              "      filter: drop-shadow(0px 1px 2px rgba(0, 0, 0, 0.3));\n",
              "      fill: #FFFFFF;\n",
              "    }\n",
              "  </style>\n",
              "\n",
              "      <script>\n",
              "        const buttonEl =\n",
              "          document.querySelector('#df-7bfe21ed-41b2-4229-aa80-f1472b9112bd button.colab-df-convert');\n",
              "        buttonEl.style.display =\n",
              "          google.colab.kernel.accessAllowed ? 'block' : 'none';\n",
              "\n",
              "        async function convertToInteractive(key) {\n",
              "          const element = document.querySelector('#df-7bfe21ed-41b2-4229-aa80-f1472b9112bd');\n",
              "          const dataTable =\n",
              "            await google.colab.kernel.invokeFunction('convertToInteractive',\n",
              "                                                     [key], {});\n",
              "          if (!dataTable) return;\n",
              "\n",
              "          const docLinkHtml = 'Like what you see? Visit the ' +\n",
              "            '<a target=\"_blank\" href=https://colab.research.google.com/notebooks/data_table.ipynb>data table notebook</a>'\n",
              "            + ' to learn more about interactive tables.';\n",
              "          element.innerHTML = '';\n",
              "          dataTable['output_type'] = 'display_data';\n",
              "          await google.colab.output.renderOutput(dataTable, element);\n",
              "          const docLink = document.createElement('div');\n",
              "          docLink.innerHTML = docLinkHtml;\n",
              "          element.appendChild(docLink);\n",
              "        }\n",
              "      </script>\n",
              "    </div>\n",
              "  </div>\n",
              "  "
            ]
          },
          "metadata": {},
          "execution_count": 20
        }
      ]
    },
    {
      "cell_type": "code",
      "source": [
        "fig1 = px.line(NLU_nation, x='Years', y='NLU', title=\"Uso de agua no relacionado con la tierra en Chile\", labels={'Years':'Años', 'NLU' : 'Uso de agua [m³/s]'})\n",
        "\n",
        "fig1.show()"
      ],
      "metadata": {
        "colab": {
          "base_uri": "https://localhost:8080/",
          "height": 542
        },
        "id": "pcI2hQgAoGiw",
        "outputId": "f4e94e1d-8835-40ad-f35c-3a6dd495f59a"
      },
      "execution_count": null,
      "outputs": [
        {
          "output_type": "display_data",
          "data": {
            "text/html": [
              "<html>\n",
              "<head><meta charset=\"utf-8\" /></head>\n",
              "<body>\n",
              "    <div>            <script src=\"https://cdnjs.cloudflare.com/ajax/libs/mathjax/2.7.5/MathJax.js?config=TeX-AMS-MML_SVG\"></script><script type=\"text/javascript\">if (window.MathJax && window.MathJax.Hub && window.MathJax.Hub.Config) {window.MathJax.Hub.Config({SVG: {font: \"STIX-Web\"}});}</script>                <script type=\"text/javascript\">window.PlotlyConfig = {MathJaxConfig: 'local'};</script>\n",
              "        <script src=\"https://cdn.plot.ly/plotly-2.18.2.min.js\"></script>                <div id=\"82c343b1-e323-4210-ae06-61588b02f4e5\" class=\"plotly-graph-div\" style=\"height:525px; width:100%;\"></div>            <script type=\"text/javascript\">                                    window.PLOTLYENV=window.PLOTLYENV || {};                                    if (document.getElementById(\"82c343b1-e323-4210-ae06-61588b02f4e5\")) {                    Plotly.newPlot(                        \"82c343b1-e323-4210-ae06-61588b02f4e5\",                        [{\"hovertemplate\":\"A\\u00f1os=%{x}<br>Uso de agua [m\\u00b3/s]=%{y}<extra></extra>\",\"legendgroup\":\"\",\"line\":{\"color\":\"#636efa\",\"dash\":\"solid\"},\"marker\":{\"symbol\":\"circle\"},\"mode\":\"lines\",\"name\":\"\",\"orientation\":\"v\",\"showlegend\":false,\"x\":[\"1950\",\"1951\",\"1952\",\"1953\",\"1954\",\"1955\",\"1956\",\"1957\",\"1958\",\"1959\",\"1960\",\"1961\",\"1962\",\"1963\",\"1964\",\"1965\",\"1966\",\"1967\",\"1968\",\"1969\",\"1970\",\"1971\",\"1972\",\"1973\",\"1974\",\"1975\",\"1976\",\"1977\",\"1978\",\"1979\",\"1980\",\"1981\",\"1982\",\"1983\",\"1984\",\"1985\",\"1986\",\"1987\",\"1988\",\"1989\",\"1990\",\"1991\",\"1992\",\"1993\",\"1994\",\"1995\",\"1996\",\"1997\",\"1998\",\"1999\",\"2000\",\"2001\",\"2002\",\"2003\",\"2004\",\"2005\",\"2006\",\"2007\",\"2008\",\"2009\",\"2010\",\"2011\",\"2012\",\"2013\",\"2014\",\"2015\",\"2016\",\"2017\",\"2018\",\"2019\",\"2020\"],\"xaxis\":\"x\",\"y\":[371.98351535,372.25036306,372.54565234,373.61436061,374.19752636,374.82729641,386.30812794,386.82467233,387.33361642,387.95308067,425.9539518,426.54325432,427.41884017,506.77967918,589.2176848,581.83690646,608.97525943,621.29043255,539.0176232,848.28154468,902.97226051,995.22707843,1147.35119957,1141.24676829,1005.40080977,1010.41448901,1046.52378235,1088.73044888,1129.33448394,1168.26278705,1217.45214776,1274.08748365,1210.60777064,1317.28836312,1353.5809827,1509.20982414,1576.54647393,1700.8888226,1694.18562137,1447.50867651,1252.81427276,2097.78029988,2288.90063502,2355.42590084,2194.87248135,2332.17169518,1786.25021004,2637.04631752,2050.8443403,1809.045993,2597.20606885,2895.1948477,3050.61493606,2772.60971498,2715.09519851,3276.18020076,3512.31426702,2833.89068657,3099.24949911,3137.53525392,2794.5766845,2597.93791895,2711.39208741,2649.47140044,3343.89828359,3318.40420491,2623.61761846,3175.37926395,3325.52801409,2717.57881169,2883.9692868],\"yaxis\":\"y\",\"type\":\"scatter\"}],                        {\"template\":{\"data\":{\"histogram2dcontour\":[{\"type\":\"histogram2dcontour\",\"colorbar\":{\"outlinewidth\":0,\"ticks\":\"\"},\"colorscale\":[[0.0,\"#0d0887\"],[0.1111111111111111,\"#46039f\"],[0.2222222222222222,\"#7201a8\"],[0.3333333333333333,\"#9c179e\"],[0.4444444444444444,\"#bd3786\"],[0.5555555555555556,\"#d8576b\"],[0.6666666666666666,\"#ed7953\"],[0.7777777777777778,\"#fb9f3a\"],[0.8888888888888888,\"#fdca26\"],[1.0,\"#f0f921\"]]}],\"choropleth\":[{\"type\":\"choropleth\",\"colorbar\":{\"outlinewidth\":0,\"ticks\":\"\"}}],\"histogram2d\":[{\"type\":\"histogram2d\",\"colorbar\":{\"outlinewidth\":0,\"ticks\":\"\"},\"colorscale\":[[0.0,\"#0d0887\"],[0.1111111111111111,\"#46039f\"],[0.2222222222222222,\"#7201a8\"],[0.3333333333333333,\"#9c179e\"],[0.4444444444444444,\"#bd3786\"],[0.5555555555555556,\"#d8576b\"],[0.6666666666666666,\"#ed7953\"],[0.7777777777777778,\"#fb9f3a\"],[0.8888888888888888,\"#fdca26\"],[1.0,\"#f0f921\"]]}],\"heatmap\":[{\"type\":\"heatmap\",\"colorbar\":{\"outlinewidth\":0,\"ticks\":\"\"},\"colorscale\":[[0.0,\"#0d0887\"],[0.1111111111111111,\"#46039f\"],[0.2222222222222222,\"#7201a8\"],[0.3333333333333333,\"#9c179e\"],[0.4444444444444444,\"#bd3786\"],[0.5555555555555556,\"#d8576b\"],[0.6666666666666666,\"#ed7953\"],[0.7777777777777778,\"#fb9f3a\"],[0.8888888888888888,\"#fdca26\"],[1.0,\"#f0f921\"]]}],\"heatmapgl\":[{\"type\":\"heatmapgl\",\"colorbar\":{\"outlinewidth\":0,\"ticks\":\"\"},\"colorscale\":[[0.0,\"#0d0887\"],[0.1111111111111111,\"#46039f\"],[0.2222222222222222,\"#7201a8\"],[0.3333333333333333,\"#9c179e\"],[0.4444444444444444,\"#bd3786\"],[0.5555555555555556,\"#d8576b\"],[0.6666666666666666,\"#ed7953\"],[0.7777777777777778,\"#fb9f3a\"],[0.8888888888888888,\"#fdca26\"],[1.0,\"#f0f921\"]]}],\"contourcarpet\":[{\"type\":\"contourcarpet\",\"colorbar\":{\"outlinewidth\":0,\"ticks\":\"\"}}],\"contour\":[{\"type\":\"contour\",\"colorbar\":{\"outlinewidth\":0,\"ticks\":\"\"},\"colorscale\":[[0.0,\"#0d0887\"],[0.1111111111111111,\"#46039f\"],[0.2222222222222222,\"#7201a8\"],[0.3333333333333333,\"#9c179e\"],[0.4444444444444444,\"#bd3786\"],[0.5555555555555556,\"#d8576b\"],[0.6666666666666666,\"#ed7953\"],[0.7777777777777778,\"#fb9f3a\"],[0.8888888888888888,\"#fdca26\"],[1.0,\"#f0f921\"]]}],\"surface\":[{\"type\":\"surface\",\"colorbar\":{\"outlinewidth\":0,\"ticks\":\"\"},\"colorscale\":[[0.0,\"#0d0887\"],[0.1111111111111111,\"#46039f\"],[0.2222222222222222,\"#7201a8\"],[0.3333333333333333,\"#9c179e\"],[0.4444444444444444,\"#bd3786\"],[0.5555555555555556,\"#d8576b\"],[0.6666666666666666,\"#ed7953\"],[0.7777777777777778,\"#fb9f3a\"],[0.8888888888888888,\"#fdca26\"],[1.0,\"#f0f921\"]]}],\"mesh3d\":[{\"type\":\"mesh3d\",\"colorbar\":{\"outlinewidth\":0,\"ticks\":\"\"}}],\"scatter\":[{\"fillpattern\":{\"fillmode\":\"overlay\",\"size\":10,\"solidity\":0.2},\"type\":\"scatter\"}],\"parcoords\":[{\"type\":\"parcoords\",\"line\":{\"colorbar\":{\"outlinewidth\":0,\"ticks\":\"\"}}}],\"scatterpolargl\":[{\"type\":\"scatterpolargl\",\"marker\":{\"colorbar\":{\"outlinewidth\":0,\"ticks\":\"\"}}}],\"bar\":[{\"error_x\":{\"color\":\"#2a3f5f\"},\"error_y\":{\"color\":\"#2a3f5f\"},\"marker\":{\"line\":{\"color\":\"#E5ECF6\",\"width\":0.5},\"pattern\":{\"fillmode\":\"overlay\",\"size\":10,\"solidity\":0.2}},\"type\":\"bar\"}],\"scattergeo\":[{\"type\":\"scattergeo\",\"marker\":{\"colorbar\":{\"outlinewidth\":0,\"ticks\":\"\"}}}],\"scatterpolar\":[{\"type\":\"scatterpolar\",\"marker\":{\"colorbar\":{\"outlinewidth\":0,\"ticks\":\"\"}}}],\"histogram\":[{\"marker\":{\"pattern\":{\"fillmode\":\"overlay\",\"size\":10,\"solidity\":0.2}},\"type\":\"histogram\"}],\"scattergl\":[{\"type\":\"scattergl\",\"marker\":{\"colorbar\":{\"outlinewidth\":0,\"ticks\":\"\"}}}],\"scatter3d\":[{\"type\":\"scatter3d\",\"line\":{\"colorbar\":{\"outlinewidth\":0,\"ticks\":\"\"}},\"marker\":{\"colorbar\":{\"outlinewidth\":0,\"ticks\":\"\"}}}],\"scattermapbox\":[{\"type\":\"scattermapbox\",\"marker\":{\"colorbar\":{\"outlinewidth\":0,\"ticks\":\"\"}}}],\"scatterternary\":[{\"type\":\"scatterternary\",\"marker\":{\"colorbar\":{\"outlinewidth\":0,\"ticks\":\"\"}}}],\"scattercarpet\":[{\"type\":\"scattercarpet\",\"marker\":{\"colorbar\":{\"outlinewidth\":0,\"ticks\":\"\"}}}],\"carpet\":[{\"aaxis\":{\"endlinecolor\":\"#2a3f5f\",\"gridcolor\":\"white\",\"linecolor\":\"white\",\"minorgridcolor\":\"white\",\"startlinecolor\":\"#2a3f5f\"},\"baxis\":{\"endlinecolor\":\"#2a3f5f\",\"gridcolor\":\"white\",\"linecolor\":\"white\",\"minorgridcolor\":\"white\",\"startlinecolor\":\"#2a3f5f\"},\"type\":\"carpet\"}],\"table\":[{\"cells\":{\"fill\":{\"color\":\"#EBF0F8\"},\"line\":{\"color\":\"white\"}},\"header\":{\"fill\":{\"color\":\"#C8D4E3\"},\"line\":{\"color\":\"white\"}},\"type\":\"table\"}],\"barpolar\":[{\"marker\":{\"line\":{\"color\":\"#E5ECF6\",\"width\":0.5},\"pattern\":{\"fillmode\":\"overlay\",\"size\":10,\"solidity\":0.2}},\"type\":\"barpolar\"}],\"pie\":[{\"automargin\":true,\"type\":\"pie\"}]},\"layout\":{\"autotypenumbers\":\"strict\",\"colorway\":[\"#636efa\",\"#EF553B\",\"#00cc96\",\"#ab63fa\",\"#FFA15A\",\"#19d3f3\",\"#FF6692\",\"#B6E880\",\"#FF97FF\",\"#FECB52\"],\"font\":{\"color\":\"#2a3f5f\"},\"hovermode\":\"closest\",\"hoverlabel\":{\"align\":\"left\"},\"paper_bgcolor\":\"white\",\"plot_bgcolor\":\"#E5ECF6\",\"polar\":{\"bgcolor\":\"#E5ECF6\",\"angularaxis\":{\"gridcolor\":\"white\",\"linecolor\":\"white\",\"ticks\":\"\"},\"radialaxis\":{\"gridcolor\":\"white\",\"linecolor\":\"white\",\"ticks\":\"\"}},\"ternary\":{\"bgcolor\":\"#E5ECF6\",\"aaxis\":{\"gridcolor\":\"white\",\"linecolor\":\"white\",\"ticks\":\"\"},\"baxis\":{\"gridcolor\":\"white\",\"linecolor\":\"white\",\"ticks\":\"\"},\"caxis\":{\"gridcolor\":\"white\",\"linecolor\":\"white\",\"ticks\":\"\"}},\"coloraxis\":{\"colorbar\":{\"outlinewidth\":0,\"ticks\":\"\"}},\"colorscale\":{\"sequential\":[[0.0,\"#0d0887\"],[0.1111111111111111,\"#46039f\"],[0.2222222222222222,\"#7201a8\"],[0.3333333333333333,\"#9c179e\"],[0.4444444444444444,\"#bd3786\"],[0.5555555555555556,\"#d8576b\"],[0.6666666666666666,\"#ed7953\"],[0.7777777777777778,\"#fb9f3a\"],[0.8888888888888888,\"#fdca26\"],[1.0,\"#f0f921\"]],\"sequentialminus\":[[0.0,\"#0d0887\"],[0.1111111111111111,\"#46039f\"],[0.2222222222222222,\"#7201a8\"],[0.3333333333333333,\"#9c179e\"],[0.4444444444444444,\"#bd3786\"],[0.5555555555555556,\"#d8576b\"],[0.6666666666666666,\"#ed7953\"],[0.7777777777777778,\"#fb9f3a\"],[0.8888888888888888,\"#fdca26\"],[1.0,\"#f0f921\"]],\"diverging\":[[0,\"#8e0152\"],[0.1,\"#c51b7d\"],[0.2,\"#de77ae\"],[0.3,\"#f1b6da\"],[0.4,\"#fde0ef\"],[0.5,\"#f7f7f7\"],[0.6,\"#e6f5d0\"],[0.7,\"#b8e186\"],[0.8,\"#7fbc41\"],[0.9,\"#4d9221\"],[1,\"#276419\"]]},\"xaxis\":{\"gridcolor\":\"white\",\"linecolor\":\"white\",\"ticks\":\"\",\"title\":{\"standoff\":15},\"zerolinecolor\":\"white\",\"automargin\":true,\"zerolinewidth\":2},\"yaxis\":{\"gridcolor\":\"white\",\"linecolor\":\"white\",\"ticks\":\"\",\"title\":{\"standoff\":15},\"zerolinecolor\":\"white\",\"automargin\":true,\"zerolinewidth\":2},\"scene\":{\"xaxis\":{\"backgroundcolor\":\"#E5ECF6\",\"gridcolor\":\"white\",\"linecolor\":\"white\",\"showbackground\":true,\"ticks\":\"\",\"zerolinecolor\":\"white\",\"gridwidth\":2},\"yaxis\":{\"backgroundcolor\":\"#E5ECF6\",\"gridcolor\":\"white\",\"linecolor\":\"white\",\"showbackground\":true,\"ticks\":\"\",\"zerolinecolor\":\"white\",\"gridwidth\":2},\"zaxis\":{\"backgroundcolor\":\"#E5ECF6\",\"gridcolor\":\"white\",\"linecolor\":\"white\",\"showbackground\":true,\"ticks\":\"\",\"zerolinecolor\":\"white\",\"gridwidth\":2}},\"shapedefaults\":{\"line\":{\"color\":\"#2a3f5f\"}},\"annotationdefaults\":{\"arrowcolor\":\"#2a3f5f\",\"arrowhead\":0,\"arrowwidth\":1},\"geo\":{\"bgcolor\":\"white\",\"landcolor\":\"#E5ECF6\",\"subunitcolor\":\"white\",\"showland\":true,\"showlakes\":true,\"lakecolor\":\"white\"},\"title\":{\"x\":0.05},\"mapbox\":{\"style\":\"light\"}}},\"xaxis\":{\"anchor\":\"y\",\"domain\":[0.0,1.0],\"title\":{\"text\":\"A\\u00f1os\"}},\"yaxis\":{\"anchor\":\"x\",\"domain\":[0.0,1.0],\"title\":{\"text\":\"Uso de agua [m\\u00b3/s]\"}},\"legend\":{\"tracegroupgap\":0},\"title\":{\"text\":\"Uso de agua no relacionado con la tierra en Chile\"}},                        {\"responsive\": true}                    ).then(function(){\n",
              "                            \n",
              "var gd = document.getElementById('82c343b1-e323-4210-ae06-61588b02f4e5');\n",
              "var x = new MutationObserver(function (mutations, observer) {{\n",
              "        var display = window.getComputedStyle(gd).display;\n",
              "        if (!display || display === 'none') {{\n",
              "            console.log([gd, 'removed!']);\n",
              "            Plotly.purge(gd);\n",
              "            observer.disconnect();\n",
              "        }}\n",
              "}});\n",
              "\n",
              "// Listen for the removal of the full notebook cells\n",
              "var notebookContainer = gd.closest('#notebook-container');\n",
              "if (notebookContainer) {{\n",
              "    x.observe(notebookContainer, {childList: true});\n",
              "}}\n",
              "\n",
              "// Listen for the clearing of the current output cell\n",
              "var outputEl = gd.closest('.output');\n",
              "if (outputEl) {{\n",
              "    x.observe(outputEl, {childList: true});\n",
              "}}\n",
              "\n",
              "                        })                };                            </script>        </div>\n",
              "</body>\n",
              "</html>"
            ]
          },
          "metadata": {}
        }
      ]
    },
    {
      "cell_type": "code",
      "source": [
        "fig2 = px.line(NLU_nation, x='Years', y='NLU', title=\"Non Land Water Use in Chile\", labels={'Years':'Years', 'NLU' : 'Water use [m³/s]'})\n",
        "\n",
        "fig2.show()"
      ],
      "metadata": {
        "colab": {
          "base_uri": "https://localhost:8080/",
          "height": 542
        },
        "id": "8A0mdUJNjnWU",
        "outputId": "566c076d-fa2d-4464-8bcd-305f454c231e"
      },
      "execution_count": null,
      "outputs": [
        {
          "output_type": "display_data",
          "data": {
            "text/html": [
              "<html>\n",
              "<head><meta charset=\"utf-8\" /></head>\n",
              "<body>\n",
              "    <div>            <script src=\"https://cdnjs.cloudflare.com/ajax/libs/mathjax/2.7.5/MathJax.js?config=TeX-AMS-MML_SVG\"></script><script type=\"text/javascript\">if (window.MathJax && window.MathJax.Hub && window.MathJax.Hub.Config) {window.MathJax.Hub.Config({SVG: {font: \"STIX-Web\"}});}</script>                <script type=\"text/javascript\">window.PlotlyConfig = {MathJaxConfig: 'local'};</script>\n",
              "        <script src=\"https://cdn.plot.ly/plotly-2.18.2.min.js\"></script>                <div id=\"edb2ca02-d33c-4917-a60d-e4868ad5f169\" class=\"plotly-graph-div\" style=\"height:525px; width:100%;\"></div>            <script type=\"text/javascript\">                                    window.PLOTLYENV=window.PLOTLYENV || {};                                    if (document.getElementById(\"edb2ca02-d33c-4917-a60d-e4868ad5f169\")) {                    Plotly.newPlot(                        \"edb2ca02-d33c-4917-a60d-e4868ad5f169\",                        [{\"hovertemplate\":\"Years=%{x}<br>Water use [m\\u00b3/s]=%{y}<extra></extra>\",\"legendgroup\":\"\",\"line\":{\"color\":\"#636efa\",\"dash\":\"solid\"},\"marker\":{\"symbol\":\"circle\"},\"mode\":\"lines\",\"name\":\"\",\"orientation\":\"v\",\"showlegend\":false,\"x\":[\"1950\",\"1951\",\"1952\",\"1953\",\"1954\",\"1955\",\"1956\",\"1957\",\"1958\",\"1959\",\"1960\",\"1961\",\"1962\",\"1963\",\"1964\",\"1965\",\"1966\",\"1967\",\"1968\",\"1969\",\"1970\",\"1971\",\"1972\",\"1973\",\"1974\",\"1975\",\"1976\",\"1977\",\"1978\",\"1979\",\"1980\",\"1981\",\"1982\",\"1983\",\"1984\",\"1985\",\"1986\",\"1987\",\"1988\",\"1989\",\"1990\",\"1991\",\"1992\",\"1993\",\"1994\",\"1995\",\"1996\",\"1997\",\"1998\",\"1999\",\"2000\",\"2001\",\"2002\",\"2003\",\"2004\",\"2005\",\"2006\",\"2007\",\"2008\",\"2009\",\"2010\",\"2011\",\"2012\",\"2013\",\"2014\",\"2015\",\"2016\",\"2017\",\"2018\",\"2019\",\"2020\"],\"xaxis\":\"x\",\"y\":[371.98351535,372.25036306,372.54565234,373.61436061,374.19752636,374.82729641,386.30812794,386.82467233,387.33361642,387.95308067,425.9539518,426.54325432,427.41884017,506.77967918,589.2176848,581.83690646,608.97525943,621.29043255,539.0176232,848.28154468,902.97226051,995.22707843,1147.35119957,1141.24676829,1005.40080977,1010.41448901,1046.52378235,1088.73044888,1129.33448394,1168.26278705,1217.45214776,1274.08748365,1210.60777064,1317.28836312,1353.5809827,1509.20982414,1576.54647393,1700.8888226,1694.18562137,1447.50867651,1252.81427276,2097.78029988,2288.90063502,2355.42590084,2194.87248135,2332.17169518,1786.25021004,2637.04631752,2050.8443403,1809.045993,2597.20606885,2895.1948477,3050.61493606,2772.60971498,2715.09519851,3276.18020076,3512.31426702,2833.89068657,3099.24949911,3137.53525392,2794.5766845,2597.93791895,2711.39208741,2649.47140044,3343.89828359,3318.40420491,2623.61761846,3175.37926395,3325.52801409,2717.57881169,2883.9692868],\"yaxis\":\"y\",\"type\":\"scatter\"}],                        {\"template\":{\"data\":{\"histogram2dcontour\":[{\"type\":\"histogram2dcontour\",\"colorbar\":{\"outlinewidth\":0,\"ticks\":\"\"},\"colorscale\":[[0.0,\"#0d0887\"],[0.1111111111111111,\"#46039f\"],[0.2222222222222222,\"#7201a8\"],[0.3333333333333333,\"#9c179e\"],[0.4444444444444444,\"#bd3786\"],[0.5555555555555556,\"#d8576b\"],[0.6666666666666666,\"#ed7953\"],[0.7777777777777778,\"#fb9f3a\"],[0.8888888888888888,\"#fdca26\"],[1.0,\"#f0f921\"]]}],\"choropleth\":[{\"type\":\"choropleth\",\"colorbar\":{\"outlinewidth\":0,\"ticks\":\"\"}}],\"histogram2d\":[{\"type\":\"histogram2d\",\"colorbar\":{\"outlinewidth\":0,\"ticks\":\"\"},\"colorscale\":[[0.0,\"#0d0887\"],[0.1111111111111111,\"#46039f\"],[0.2222222222222222,\"#7201a8\"],[0.3333333333333333,\"#9c179e\"],[0.4444444444444444,\"#bd3786\"],[0.5555555555555556,\"#d8576b\"],[0.6666666666666666,\"#ed7953\"],[0.7777777777777778,\"#fb9f3a\"],[0.8888888888888888,\"#fdca26\"],[1.0,\"#f0f921\"]]}],\"heatmap\":[{\"type\":\"heatmap\",\"colorbar\":{\"outlinewidth\":0,\"ticks\":\"\"},\"colorscale\":[[0.0,\"#0d0887\"],[0.1111111111111111,\"#46039f\"],[0.2222222222222222,\"#7201a8\"],[0.3333333333333333,\"#9c179e\"],[0.4444444444444444,\"#bd3786\"],[0.5555555555555556,\"#d8576b\"],[0.6666666666666666,\"#ed7953\"],[0.7777777777777778,\"#fb9f3a\"],[0.8888888888888888,\"#fdca26\"],[1.0,\"#f0f921\"]]}],\"heatmapgl\":[{\"type\":\"heatmapgl\",\"colorbar\":{\"outlinewidth\":0,\"ticks\":\"\"},\"colorscale\":[[0.0,\"#0d0887\"],[0.1111111111111111,\"#46039f\"],[0.2222222222222222,\"#7201a8\"],[0.3333333333333333,\"#9c179e\"],[0.4444444444444444,\"#bd3786\"],[0.5555555555555556,\"#d8576b\"],[0.6666666666666666,\"#ed7953\"],[0.7777777777777778,\"#fb9f3a\"],[0.8888888888888888,\"#fdca26\"],[1.0,\"#f0f921\"]]}],\"contourcarpet\":[{\"type\":\"contourcarpet\",\"colorbar\":{\"outlinewidth\":0,\"ticks\":\"\"}}],\"contour\":[{\"type\":\"contour\",\"colorbar\":{\"outlinewidth\":0,\"ticks\":\"\"},\"colorscale\":[[0.0,\"#0d0887\"],[0.1111111111111111,\"#46039f\"],[0.2222222222222222,\"#7201a8\"],[0.3333333333333333,\"#9c179e\"],[0.4444444444444444,\"#bd3786\"],[0.5555555555555556,\"#d8576b\"],[0.6666666666666666,\"#ed7953\"],[0.7777777777777778,\"#fb9f3a\"],[0.8888888888888888,\"#fdca26\"],[1.0,\"#f0f921\"]]}],\"surface\":[{\"type\":\"surface\",\"colorbar\":{\"outlinewidth\":0,\"ticks\":\"\"},\"colorscale\":[[0.0,\"#0d0887\"],[0.1111111111111111,\"#46039f\"],[0.2222222222222222,\"#7201a8\"],[0.3333333333333333,\"#9c179e\"],[0.4444444444444444,\"#bd3786\"],[0.5555555555555556,\"#d8576b\"],[0.6666666666666666,\"#ed7953\"],[0.7777777777777778,\"#fb9f3a\"],[0.8888888888888888,\"#fdca26\"],[1.0,\"#f0f921\"]]}],\"mesh3d\":[{\"type\":\"mesh3d\",\"colorbar\":{\"outlinewidth\":0,\"ticks\":\"\"}}],\"scatter\":[{\"fillpattern\":{\"fillmode\":\"overlay\",\"size\":10,\"solidity\":0.2},\"type\":\"scatter\"}],\"parcoords\":[{\"type\":\"parcoords\",\"line\":{\"colorbar\":{\"outlinewidth\":0,\"ticks\":\"\"}}}],\"scatterpolargl\":[{\"type\":\"scatterpolargl\",\"marker\":{\"colorbar\":{\"outlinewidth\":0,\"ticks\":\"\"}}}],\"bar\":[{\"error_x\":{\"color\":\"#2a3f5f\"},\"error_y\":{\"color\":\"#2a3f5f\"},\"marker\":{\"line\":{\"color\":\"#E5ECF6\",\"width\":0.5},\"pattern\":{\"fillmode\":\"overlay\",\"size\":10,\"solidity\":0.2}},\"type\":\"bar\"}],\"scattergeo\":[{\"type\":\"scattergeo\",\"marker\":{\"colorbar\":{\"outlinewidth\":0,\"ticks\":\"\"}}}],\"scatterpolar\":[{\"type\":\"scatterpolar\",\"marker\":{\"colorbar\":{\"outlinewidth\":0,\"ticks\":\"\"}}}],\"histogram\":[{\"marker\":{\"pattern\":{\"fillmode\":\"overlay\",\"size\":10,\"solidity\":0.2}},\"type\":\"histogram\"}],\"scattergl\":[{\"type\":\"scattergl\",\"marker\":{\"colorbar\":{\"outlinewidth\":0,\"ticks\":\"\"}}}],\"scatter3d\":[{\"type\":\"scatter3d\",\"line\":{\"colorbar\":{\"outlinewidth\":0,\"ticks\":\"\"}},\"marker\":{\"colorbar\":{\"outlinewidth\":0,\"ticks\":\"\"}}}],\"scattermapbox\":[{\"type\":\"scattermapbox\",\"marker\":{\"colorbar\":{\"outlinewidth\":0,\"ticks\":\"\"}}}],\"scatterternary\":[{\"type\":\"scatterternary\",\"marker\":{\"colorbar\":{\"outlinewidth\":0,\"ticks\":\"\"}}}],\"scattercarpet\":[{\"type\":\"scattercarpet\",\"marker\":{\"colorbar\":{\"outlinewidth\":0,\"ticks\":\"\"}}}],\"carpet\":[{\"aaxis\":{\"endlinecolor\":\"#2a3f5f\",\"gridcolor\":\"white\",\"linecolor\":\"white\",\"minorgridcolor\":\"white\",\"startlinecolor\":\"#2a3f5f\"},\"baxis\":{\"endlinecolor\":\"#2a3f5f\",\"gridcolor\":\"white\",\"linecolor\":\"white\",\"minorgridcolor\":\"white\",\"startlinecolor\":\"#2a3f5f\"},\"type\":\"carpet\"}],\"table\":[{\"cells\":{\"fill\":{\"color\":\"#EBF0F8\"},\"line\":{\"color\":\"white\"}},\"header\":{\"fill\":{\"color\":\"#C8D4E3\"},\"line\":{\"color\":\"white\"}},\"type\":\"table\"}],\"barpolar\":[{\"marker\":{\"line\":{\"color\":\"#E5ECF6\",\"width\":0.5},\"pattern\":{\"fillmode\":\"overlay\",\"size\":10,\"solidity\":0.2}},\"type\":\"barpolar\"}],\"pie\":[{\"automargin\":true,\"type\":\"pie\"}]},\"layout\":{\"autotypenumbers\":\"strict\",\"colorway\":[\"#636efa\",\"#EF553B\",\"#00cc96\",\"#ab63fa\",\"#FFA15A\",\"#19d3f3\",\"#FF6692\",\"#B6E880\",\"#FF97FF\",\"#FECB52\"],\"font\":{\"color\":\"#2a3f5f\"},\"hovermode\":\"closest\",\"hoverlabel\":{\"align\":\"left\"},\"paper_bgcolor\":\"white\",\"plot_bgcolor\":\"#E5ECF6\",\"polar\":{\"bgcolor\":\"#E5ECF6\",\"angularaxis\":{\"gridcolor\":\"white\",\"linecolor\":\"white\",\"ticks\":\"\"},\"radialaxis\":{\"gridcolor\":\"white\",\"linecolor\":\"white\",\"ticks\":\"\"}},\"ternary\":{\"bgcolor\":\"#E5ECF6\",\"aaxis\":{\"gridcolor\":\"white\",\"linecolor\":\"white\",\"ticks\":\"\"},\"baxis\":{\"gridcolor\":\"white\",\"linecolor\":\"white\",\"ticks\":\"\"},\"caxis\":{\"gridcolor\":\"white\",\"linecolor\":\"white\",\"ticks\":\"\"}},\"coloraxis\":{\"colorbar\":{\"outlinewidth\":0,\"ticks\":\"\"}},\"colorscale\":{\"sequential\":[[0.0,\"#0d0887\"],[0.1111111111111111,\"#46039f\"],[0.2222222222222222,\"#7201a8\"],[0.3333333333333333,\"#9c179e\"],[0.4444444444444444,\"#bd3786\"],[0.5555555555555556,\"#d8576b\"],[0.6666666666666666,\"#ed7953\"],[0.7777777777777778,\"#fb9f3a\"],[0.8888888888888888,\"#fdca26\"],[1.0,\"#f0f921\"]],\"sequentialminus\":[[0.0,\"#0d0887\"],[0.1111111111111111,\"#46039f\"],[0.2222222222222222,\"#7201a8\"],[0.3333333333333333,\"#9c179e\"],[0.4444444444444444,\"#bd3786\"],[0.5555555555555556,\"#d8576b\"],[0.6666666666666666,\"#ed7953\"],[0.7777777777777778,\"#fb9f3a\"],[0.8888888888888888,\"#fdca26\"],[1.0,\"#f0f921\"]],\"diverging\":[[0,\"#8e0152\"],[0.1,\"#c51b7d\"],[0.2,\"#de77ae\"],[0.3,\"#f1b6da\"],[0.4,\"#fde0ef\"],[0.5,\"#f7f7f7\"],[0.6,\"#e6f5d0\"],[0.7,\"#b8e186\"],[0.8,\"#7fbc41\"],[0.9,\"#4d9221\"],[1,\"#276419\"]]},\"xaxis\":{\"gridcolor\":\"white\",\"linecolor\":\"white\",\"ticks\":\"\",\"title\":{\"standoff\":15},\"zerolinecolor\":\"white\",\"automargin\":true,\"zerolinewidth\":2},\"yaxis\":{\"gridcolor\":\"white\",\"linecolor\":\"white\",\"ticks\":\"\",\"title\":{\"standoff\":15},\"zerolinecolor\":\"white\",\"automargin\":true,\"zerolinewidth\":2},\"scene\":{\"xaxis\":{\"backgroundcolor\":\"#E5ECF6\",\"gridcolor\":\"white\",\"linecolor\":\"white\",\"showbackground\":true,\"ticks\":\"\",\"zerolinecolor\":\"white\",\"gridwidth\":2},\"yaxis\":{\"backgroundcolor\":\"#E5ECF6\",\"gridcolor\":\"white\",\"linecolor\":\"white\",\"showbackground\":true,\"ticks\":\"\",\"zerolinecolor\":\"white\",\"gridwidth\":2},\"zaxis\":{\"backgroundcolor\":\"#E5ECF6\",\"gridcolor\":\"white\",\"linecolor\":\"white\",\"showbackground\":true,\"ticks\":\"\",\"zerolinecolor\":\"white\",\"gridwidth\":2}},\"shapedefaults\":{\"line\":{\"color\":\"#2a3f5f\"}},\"annotationdefaults\":{\"arrowcolor\":\"#2a3f5f\",\"arrowhead\":0,\"arrowwidth\":1},\"geo\":{\"bgcolor\":\"white\",\"landcolor\":\"#E5ECF6\",\"subunitcolor\":\"white\",\"showland\":true,\"showlakes\":true,\"lakecolor\":\"white\"},\"title\":{\"x\":0.05},\"mapbox\":{\"style\":\"light\"}}},\"xaxis\":{\"anchor\":\"y\",\"domain\":[0.0,1.0],\"title\":{\"text\":\"Years\"}},\"yaxis\":{\"anchor\":\"x\",\"domain\":[0.0,1.0],\"title\":{\"text\":\"Water use [m\\u00b3/s]\"}},\"legend\":{\"tracegroupgap\":0},\"title\":{\"text\":\"Non Land Water Use in Chile\"}},                        {\"responsive\": true}                    ).then(function(){\n",
              "                            \n",
              "var gd = document.getElementById('edb2ca02-d33c-4917-a60d-e4868ad5f169');\n",
              "var x = new MutationObserver(function (mutations, observer) {{\n",
              "        var display = window.getComputedStyle(gd).display;\n",
              "        if (!display || display === 'none') {{\n",
              "            console.log([gd, 'removed!']);\n",
              "            Plotly.purge(gd);\n",
              "            observer.disconnect();\n",
              "        }}\n",
              "}});\n",
              "\n",
              "// Listen for the removal of the full notebook cells\n",
              "var notebookContainer = gd.closest('#notebook-container');\n",
              "if (notebookContainer) {{\n",
              "    x.observe(notebookContainer, {childList: true});\n",
              "}}\n",
              "\n",
              "// Listen for the clearing of the current output cell\n",
              "var outputEl = gd.closest('.output');\n",
              "if (outputEl) {{\n",
              "    x.observe(outputEl, {childList: true});\n",
              "}}\n",
              "\n",
              "                        })                };                            </script>        </div>\n",
              "</body>\n",
              "</html>"
            ]
          },
          "metadata": {}
        }
      ]
    },
    {
      "cell_type": "code",
      "source": [
        "#Useful lists\n",
        "year_list = NLU_regions['Years'].tolist()\n",
        "reg_list = [i for i in cod_reg_nom_reg.values()] #not ordered by lat\n",
        "com_list = [i for i in cod_com_nom_com.values()] #not ordered by lat"
      ],
      "metadata": {
        "id": "P9P0tTSIFfoX"
      },
      "execution_count": null,
      "outputs": []
    },
    {
      "cell_type": "code",
      "source": [
        "total_use = NLU_nation['NLU'].sum()\n",
        "#total_use_km3 = NLU_nation['NLU_year'].sum()\n",
        "\n",
        "#Min and max\n",
        "year_max = NLU_nation.loc[NLU_nation['NLU'].idxmax(), 'Years']\n",
        "year_min = NLU_nation.loc[NLU_nation['NLU'].idxmin(), 'Years']\n",
        "use_max = NLU_nation['NLU'].max()\n",
        "use_min = NLU_nation['NLU'].min()\n",
        "\n",
        "#Mean use in the last 10 years\n",
        "last_years = (NLU_nation['Years'] >= 2010) & (NLU_nation['Years'] <= 2020)\n",
        "NLU_last_years = NLU_nation[last_years]\n",
        "mean_use = NLU_last_years['NLU'].mean()\n",
        "#mean_use_km3 = NLU_last_years['NLU_year'].mean()\n",
        "\n",
        "print(\"Total water use:\", f\"{total_use:.1f}\"\"[m³/s]\") #quizás esto no tiene mucho sentido\n",
        "#print(\"Total water use:\", f\"{total_use_km3:.1f}\"\"[km³]\")\n",
        "print(\"Highest water use year:\", f\"{use_max:.1f}\" \"[m³/s]\", \"in\", year_max)\n",
        "print(\"Lowest water use year:\", f\"{use_min:.1f}\" \"[m³/s]\", \"in\",year_min)\n",
        "print(\"Mean water during the last 10 years:\", f\"{mean_use:.1f}\"\"[m³/s]\")\n",
        "#print(\"Mean water during the last 10 years per year:\", f\"{mean_use_km3:.1f}\"\"[km³/y]\")"
      ],
      "metadata": {
        "id": "FbMw-h3ZFkZ2"
      },
      "execution_count": null,
      "outputs": []
    },
    {
      "cell_type": "code",
      "source": [
        "#Según el Informe Mundial de las Naciones Unidas sobre el Desarrollo de los Recursos Hídricos, \n",
        "#el consumo total de agua dulce a nivel mundial se estima en alrededor de 4.600 kilómetros cúbicos (km³) por año.\n",
        "#y según Naciones Unidas, existen 195 países\n",
        "\n",
        "#4600/195 = 23.6 => cada país usa 23.6[km3] de agua dulce al año\n",
        "#92.2/23.6 =3.9 => pero Chile, usa casi 4 veces ese volumen (92.2[km3] usados en promedio entre 2010 y 2020) "
      ],
      "metadata": {
        "id": "N2hCNvR9Fntc"
      },
      "execution_count": null,
      "outputs": []
    },
    {
      "cell_type": "code",
      "source": [
        "#Graph of yearly national (Non Land) Water Use [m3/s]\n",
        "\n",
        "#English\n",
        "fig = px.scatter(NLU_nation, x=\"Years\", y=\"NLU\", trendline='ols',\n",
        "              title=\"Non Land Water Use in Chile\", \n",
        "              labels={'Years':'Years', 'NLU':'Water use [m³/s]'}) \n",
        "fig.show()\n",
        "\n",
        "#Spanish\n",
        "fig2 = px.line(NLU_nation, x=\"Years\", y=\"NLU\", \n",
        "               title=\"Uso de agua no relacionado con la tierra\", \n",
        "               labels={'Years':'Años', 'NLU':'Uso de agua [m³/s]'})\n",
        "fig2.show()"
      ],
      "metadata": {
        "id": "gGPYsKl9Fs6v"
      },
      "execution_count": null,
      "outputs": []
    },
    {
      "cell_type": "markdown",
      "source": [
        "National Water Use and Inhabitants"
      ],
      "metadata": {
        "id": "gCc6KltvF04M"
      }
    },
    {
      "cell_type": "code",
      "source": [
        "# hacerlo para un path que sí tenga acceso\n",
        "#pop = pd.read_csv(r'/mnt/home2/mari/Tesis/INE_2002-2035.csv', index_col=0, sep=';', encoding='latin-1')"
      ],
      "metadata": {
        "id": "UbIoWuFpF8OR"
      },
      "execution_count": null,
      "outputs": []
    },
    {
      "cell_type": "code",
      "source": [
        "#Refining Dataframe Population\n",
        "\n",
        "#Eliminate columns\n",
        "col_drop = ['Sexo (1=Hombre 2=Mujer)', 'Grupo edad']\n",
        "pop = pop.drop(col_drop,axis=1)\n",
        "\n",
        "#Changing column names\n",
        "pop_grouped = pop.groupby(['Nombre Comuna', 'Area (1=Urbano 2=Rural)'])[pop.columns[6:39]].sum().reset_index()\n",
        "pop = pop.rename(columns=lambda x: x.replace('Poblacion ', '') if x.startswith('Poblacion ') else x) #year columns\n",
        "pop = pop.rename(columns=lambda x: x.replace('Nombre ', 'nom_') if x.startswith('Nombre ') else x) \n",
        "pop = pop.rename(columns={'Provincia':'cod_provincia'})\n",
        "pop = pop.rename(columns=lambda x: x.replace('Region', 'region') if 'Region' in x else x)\n",
        "pop = pop.rename(columns=lambda x: x.replace('Provincia', 'provincia') if 'Provincia' in x else x)\n",
        "pop = pop.rename(columns=lambda x: x.replace('Comuna', 'comuna') if 'Comuna' in x else x)\n",
        "pop = pop.rename(columns={'Area (1=Urbano 2=Rural)':'urban1_rural2'})\n",
        "pop.index.name = 'region'"
      ],
      "metadata": {
        "id": "dlEZvpeiGHDM"
      },
      "execution_count": null,
      "outputs": []
    },
    {
      "cell_type": "code",
      "source": [
        "#Tengo que hacerlo para pop grouped, lo borré sin querer\n",
        "#Population and NL Water Use Dataframe\n",
        "pop_tot = pop.iloc[:, 6:25].sum().astype(int) #total population\n",
        "#pop_tot = pop.iloc[:, 6:25].shift().sum().astype(int)\n",
        "pop_years = pd.DataFrame({'Years': pop_tot.index, 'Population': pop_tot.values})\n",
        "pop_years.head()"
      ],
      "metadata": {
        "id": "zGucOh57GLR7"
      },
      "execution_count": null,
      "outputs": []
    },
    {
      "cell_type": "code",
      "source": [
        "NLU_pop = NLU_nation_[NLU_nation_['Years'] >= 2002].reset_index(drop=True) #using NLU_nation_ 2 decimals NLU\n",
        "#NLU_pop = NLU_nation_[NLU_nation_['Years'] >= 2002].reset_index(drop=True) #using NLU_nation_ 2 decimals NLU\n",
        "#NLU_pop['Population']=pop_years_g['Population'] #usar este cuando corrija lo de arriba (crear pop years grouped)\n",
        "NLU_pop['Population']=pop_years['Population']\n",
        "NLU_pop.head()"
      ],
      "metadata": {
        "id": "rfHGbb8NGOOK"
      },
      "execution_count": null,
      "outputs": []
    },
    {
      "cell_type": "code",
      "source": [
        "fig = px.scatter(NLU_pop, x=\"Population\", y=\"NLU\", trendline = 'ols',\n",
        "              title=\"Population and Water Use in Chile\", \n",
        "              labels={'Population':'Population', 'NLU':'Water use [km³]'}) \n",
        "\n",
        "\n",
        "\n",
        "fig2 = go.Figure(data=go.Scatter(x=NLU_pop[\"Population\"], y=NLU_pop[\"NLU\"]))\n",
        "fig2.update_traces(line=dict(color='red'))\n",
        "\n",
        "fig.show()\n",
        "fig2.show()"
      ],
      "metadata": {
        "id": "xjKZYFl0GSvn"
      },
      "execution_count": null,
      "outputs": []
    },
    {
      "cell_type": "code",
      "source": [
        "\n",
        "NLU_pop['Log_Pop']=np.log(NLU_pop['Population'])\n",
        "NLU_pop['Log_NLU']=np.log(NLU_pop['NLU'])\n",
        "fig = px.line(NLU_pop, x=\"Log_Pop\", y=\"Log_NLU\", \n",
        "              title=\"Population and Water Use in Chile\", \n",
        "              labels={'Log_Pop':'Log Population', 'NLU':'Log Water use'}) \n",
        "\n",
        "fig.show()\n",
        "fig.write_image(r\"/mnt/home2/mari/Tesis/logpopul_logwater.png\")"
      ],
      "metadata": {
        "id": "2eLeptidGsUo"
      },
      "execution_count": null,
      "outputs": []
    },
    {
      "cell_type": "markdown",
      "source": [
        "Regional Water Use"
      ],
      "metadata": {
        "id": "fKaiKi9LG3aF"
      }
    },
    {
      "cell_type": "code",
      "source": [
        "#Graph of yearly regional (Non Land) Water Use [m3/s]\n",
        "\n",
        "x_column = NLU_regions_plot.columns[0]\n",
        "NLU_regions_melted = NLU_regions_plot.melt(id_vars=x_column)\n",
        "fig = px.bar(NLU_regions_melted, x=x_column, y='value', color='variable',\n",
        "             barmode='stack', title = \"Non Land Water Use in Chile\",labels={'Years':'Years', 'value':'Water use [m³/s]'}) \n",
        "fig.update_layout(legend_title_text=\"Regions\")\n",
        "\n",
        "fig.show()\n",
        "\n",
        "fig2 = px.bar(NLU_regions_melted, x=x_column, y='value', color='variable',\n",
        "             barmode='stack', title=\"Uso de agua no relacionado con la tierra en CHile\", labels={'Years':'Años', 'value':'Uso de agua [m³/s]'}) \n",
        "fig2.update_layout(legend_title_text=\"Regiones\")\n",
        "\n",
        "fig2.show()"
      ],
      "metadata": {
        "id": "ALueh1pZFvjZ"
      },
      "execution_count": null,
      "outputs": []
    },
    {
      "cell_type": "markdown",
      "source": [
        "Regional Water Use Analysis"
      ],
      "metadata": {
        "id": "hUvPu2XEG9wV"
      }
    },
    {
      "cell_type": "code",
      "source": [
        "#Last 10 years WU\n",
        "NLU_regions_plot2 = NLU_regions_plot.loc[NLU_regions_plot['Years'] > 2010]"
      ],
      "metadata": {
        "id": "90sBAFFzG9F4"
      },
      "execution_count": null,
      "outputs": []
    },
    {
      "cell_type": "code",
      "source": [
        "#Regional latitude order\n",
        "ord_col = ['Years','REGIÓN DE ARICA Y PARINACOTA','REGIÓN DE TARAPACÁ', 'REGIÓN DE ANTOFAGASTA',\n",
        "       'REGIÓN DE ATACAMA', 'REGIÓN DE COQUIMBO', 'REGIÓN DE VALPARAÍSO','REGIÓN METROPOLITANA DE SANTIAGO',\n",
        "       \"REGIÓN DEL LIBERTADOR GENERAL BERNARDO O'HIGGINS\", 'REGIÓN DEL MAULE','REGIÓN DE ÑUBLE',\n",
        "       'REGIÓN DEL BIOBÍO', 'REGIÓN DE LA ARAUCANÍA', 'REGIÓN DE LOS RÍOS', 'REGIÓN DE LOS LAGOS',\n",
        "       'REGIÓN DE AYSÉN DEL GENERAL CARLOS IBÁÑEZ DEL CAMPO',\n",
        "       'REGIÓN DE MAGALLANES Y DE LA ANTÁRTICA CHILENA']\n",
        "\n",
        "NLU_regions_plot2 = NLU_regions_plot2.reindex(columns=ord_col)\n",
        "\n",
        "mean_values = NLU_regions_plot2.iloc[:, 1:].shift().mean()\n",
        "#mean_row = pd.DataFrame([mean_values], columns=NLU_regions_plot2.columns[1:])\n",
        "\n",
        "fig = px.bar(mean_values, x=mean_values.index, y=mean_values.values, \n",
        "             title='Yearly mean water use during the last 10 years by region ordered from north to south',\n",
        "            labels={'index':'','y':'Water use [m³/s]'})\n",
        "fig.update_xaxes(tickangle=60, tickfont=dict(size=9))\n",
        "fig.update_layout(width = 1000, height = 800)\n",
        "fig.show()"
      ],
      "metadata": {
        "id": "VR__MTksHAfY"
      },
      "execution_count": null,
      "outputs": []
    },
    {
      "cell_type": "markdown",
      "source": [
        "Type of Use Analysis"
      ],
      "metadata": {
        "id": "a4FKoCfnHKBh"
      }
    },
    {
      "cell_type": "code",
      "source": [
        "DW_nation = pd.read_csv(r'/mnt/home2/mari/Tesis/NLU/csv/Total/DrinkingWater/CR2WU_NLU_DrinkingWater_historical_1950-2020_nation.csv')\n",
        "DW_regions = pd.read_csv(r'/mnt/home2/mari/Tesis/NLU/csv/Total/DrinkingWater/CR2WU_NLU_DrinkingWater_historical_1950-2020_regions.csv')"
      ],
      "metadata": {
        "id": "j5ZfTd4sHLzw"
      },
      "execution_count": null,
      "outputs": []
    },
    {
      "cell_type": "code",
      "source": [
        "#Total use = DW+Energy+....\n",
        "Total_nation = pd.read_csv(r'/mnt/home2/mari/Tesis/NLU/csv/Total/CR2WU_NLU_Total_historical_1950-2020_nation.csv')\n",
        "Energy_nation = pd.read_csv(r'/mnt/home2/mari/Tesis/NLU/csv/Total/Energy/CR2WU_NLU_Energy_historical_1950-2020_nation.csv')\n",
        "Industry_nation = pd.read_csv(r'/mnt/home2/mari/Tesis/NLU/csv/Total/Industry/CR2WU_NLU_Industry_historical_1950-2020_nation.csv')\n",
        "Livestock_nation = pd.read_csv(r'/mnt/home2/mari/Tesis/NLU/csv/Total/Livestock/CR2WU_NLU_Livestock_historical_1950-2020_nation.csv')\n",
        "Mining_nation = pd.read_csv(r'/mnt/home2/mari/Tesis/NLU/csv/Total/Mining/CR2WU_NLU_Mining_historical_1950-2020_nation.csv')\n",
        "WaterBodies_nation = pd.read_csv(r'/mnt/home2/mari/Tesis/NLU/csv/Total/WaterBodies/CR2WU_NLU_WaterBodies_historical_1950-2020_nation.csv')"
      ],
      "metadata": {
        "id": "wa3K3aoZHMg5"
      },
      "execution_count": null,
      "outputs": []
    },
    {
      "cell_type": "code",
      "source": [
        "#suma sin purificar \n",
        "E_tot = Energy_nation['1'].sum()\n",
        "I_tot = Industry_nation['1'].sum()\n",
        "L_tot = Livestock_nation['1'].sum()\n",
        "M_tot = Mining_nation['1'].sum()\n",
        "W_tot = WaterBodies_nation['1'].sum()\n",
        "D_tot = DW_nation['1'].sum()\n",
        "Total_tot = Total_nation['1'].sum()\n",
        "sum_tot = D_tot+E_tot+I_tot+L_tot+M_tot+W_tot\n",
        "Total_tot-sum_tot #-1.4551915228366852e-11 diría que es error de truncamiento"
      ],
      "metadata": {
        "id": "09gz_ua6HPPH"
      },
      "execution_count": null,
      "outputs": []
    },
    {
      "cell_type": "code",
      "source": [
        "#Database cleaning\n",
        "DW_nation['Date'] = pd.to_datetime(DW_nation[\"Date\"])\n",
        "DW_nation['Date'] = DW_nation['Date'].dt.strftime('%Y')\n",
        "DW_nation = DW_nation.rename(columns={\"Date\": \"Years\",\"1\":\"NLU\"})\n",
        "DW_nation['Years'] = DW_nation['Years'].astype(int)\n",
        "\n",
        "DW_regions['Date'] = pd.to_datetime(DW_regions[\"Date\"])\n",
        "DW_regions['Date'] = DW_regions['Date'].dt.strftime('%Y')\n",
        "DW_regions = DW_regions.rename(columns={\"Date\": \"Years\"})\n",
        "DW_regions['Years'] = DW_regions['Years'].astype(int)\n",
        "\n",
        "#Adding Region's names\n",
        "DW_regions_plot = DW_regions.rename(columns=cod_reg_nom_reg)\n",
        "\n",
        "#NLU national 2 decimal\n",
        "DW_nation_ = DW_nation\n",
        "DW_nation_['NLU'] = DW_nation_['NLU'].round(decimals=2)"
      ],
      "metadata": {
        "id": "6SuhqtN_HSrX"
      },
      "execution_count": null,
      "outputs": []
    },
    {
      "cell_type": "code",
      "source": [
        "DW_pop = DW_nation_[DW_nation_['Years'] >= 2002].reset_index(drop=True) #using NLU_nation_ 2 decimals NLU\n",
        "#NLU_pop['Population']=pop_years_g['Population'] #usar este cuando corrija lo de arriba (crear pop years grouped)\n",
        "DW_pop['Population']=pop_years['Population']\n",
        "DW_pop.head()"
      ],
      "metadata": {
        "id": "jYYl2TmYHX1F"
      },
      "execution_count": null,
      "outputs": []
    },
    {
      "cell_type": "code",
      "source": [
        "fig = px.scatter(DW_pop, x=\"Population\", y=\"NLU\", \n",
        "              title=\"Population and Drinking Water Use in Chile\", \n",
        "              labels={'Population':'Population', 'NLU':'Drinking water use [m³/s]'}) \n",
        "\n",
        "fig.show()\n",
        "#fig.write_image(r\"/mnt/home2/mari/Tesis/pop_dw.png\")"
      ],
      "metadata": {
        "id": "Wi9fTYCgHZsp"
      },
      "execution_count": null,
      "outputs": []
    },
    {
      "cell_type": "code",
      "source": [
        "DW_pop['Log_Pop']=np.log(DW_pop['Population'])\n",
        "DW_pop['Log_NLU_DW']=np.log(DW_pop['NLU'])\n",
        "fig = px.scatter(DW_pop, x=\"Log_Pop\", y=\"Log_NLU_DW\", \n",
        "              title=\"Population and Drinking Water Use in Chile\", \n",
        "              labels={'Log_Pop':'Log Population', 'NLU':'Log Drinking Water use'}) \n",
        "\n",
        "fig.show()\n",
        "#fig.write_image(r\"/mnt/home2/mari/Tesis/logpopul_logdw.png\")"
      ],
      "metadata": {
        "id": "MrRECUQUHdmh"
      },
      "execution_count": null,
      "outputs": []
    },
    {
      "cell_type": "code",
      "source": [
        "fig = px.scatter(DW_pop, x=\"Years\", y=\"NLU/Pop\", trendline=\"ols\",\n",
        "              title=\"Population and Drinking Water Use in Chile\", \n",
        "              labels={'Years':'Years', 'NLU/Pop':'Drinking Water use per cápita [m³/s pp]'})\n",
        "fig.update_layout(yaxis_tickformat = '.1e')\n",
        "\n",
        "\n",
        "fig.show()"
      ],
      "metadata": {
        "id": "xUv754nVHhpf"
      },
      "execution_count": null,
      "outputs": []
    },
    {
      "cell_type": "code",
      "source": [
        "DW_pop['NLU/Pop']=DW_pop['NLU']/DW_pop['Population']\n",
        "DW_pop['Log_NLU/Pop' ]=np.log(DW_pop['NLU/Pop'])\n",
        "fig = px.scatter(DW_pop, x=\"Log_Pop\", y=\"Log_NLU/pop\", \n",
        "              title=\"Population and Drinking Water Use in Chile\", \n",
        "              labels={'Log_Pop':'Log Population', 'Log_NLU/pop':'Log Drinking Water use per cápita'})\n",
        "\n",
        "fig.show()"
      ],
      "metadata": {
        "id": "LthAOg4iHkl9"
      },
      "execution_count": null,
      "outputs": []
    },
    {
      "cell_type": "code",
      "source": [],
      "metadata": {
        "id": "IDu7OjQ9HFeX"
      },
      "execution_count": null,
      "outputs": []
    }
  ]
}