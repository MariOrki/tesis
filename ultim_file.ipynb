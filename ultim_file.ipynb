{
 "cells": [
  {
   "attachments": {},
   "cell_type": "markdown",
   "metadata": {},
   "source": [
    "# Urban Metabolism in the Web of Science"
   ]
  },
  {
   "attachments": {},
   "cell_type": "markdown",
   "metadata": {},
   "source": [
    "Mariana Bruning González\n",
    "\n",
    "mariana.bruning@alumnos.uach.cl\n",
    "\n",
    "26/07/2023"
   ]
  },
  {
   "attachments": {},
   "cell_type": "markdown",
   "metadata": {},
   "source": [
    "# Packages"
   ]
  },
  {
   "cell_type": "code",
   "execution_count": 1,
   "metadata": {},
   "outputs": [
    {
     "name": "stdout",
     "output_type": "stream",
     "text": [
      "Collecting wos\n",
      "  Downloading wos-0.2.7.tar.gz (11 kB)\n",
      "  Preparing metadata (setup.py): started\n",
      "  Preparing metadata (setup.py): finished with status 'done'\n",
      "Collecting limit\n",
      "  Downloading limit-0.2.3.tar.gz (1.9 kB)\n",
      "  Preparing metadata (setup.py): started\n",
      "  Preparing metadata (setup.py): finished with status 'done'\n",
      "Collecting suds-py3\n",
      "  Downloading suds_py3-1.4.5.0-py3-none-any.whl (298 kB)\n",
      "     -------------------------------------- 298.8/298.8 kB 2.6 MB/s eta 0:00:00\n",
      "Building wheels for collected packages: wos, limit\n",
      "  Building wheel for wos (setup.py): started\n",
      "  Building wheel for wos (setup.py): finished with status 'done'\n",
      "  Created wheel for wos: filename=wos-0.2.7-py3-none-any.whl size=9948 sha256=00856f1262fea881c9a33606f313e9a59fcf679780304f924bf64f37a8e978ce\n",
      "  Stored in directory: c:\\users\\mariana\\appdata\\local\\pip\\cache\\wheels\\56\\6b\\17\\ac5407f4aea39f91fbb275c06fa13a32b379c521de96e4453c\n",
      "  Building wheel for limit (setup.py): started\n",
      "  Building wheel for limit (setup.py): finished with status 'done'\n",
      "  Created wheel for limit: filename=limit-0.2.3-py3-none-any.whl size=2344 sha256=d9419337c079b95eb226d828d3eaadf5a5ff8b2c4bb8429101b7dcd8d7c03916\n",
      "  Stored in directory: c:\\users\\mariana\\appdata\\local\\pip\\cache\\wheels\\6b\\01\\9b\\58628f51846abc09a50dea499334247af58a117cb6882d24dd\n",
      "Successfully built wos limit\n",
      "Installing collected packages: suds-py3, limit, wos\n",
      "Successfully installed limit-0.2.3 suds-py3-1.4.5.0 wos-0.2.7\n"
     ]
    }
   ],
   "source": [
    "!pip install wos"
   ]
  },
  {
   "cell_type": "code",
   "execution_count": 6,
   "metadata": {},
   "outputs": [],
   "source": [
    "from argparse import ArgumentParser\n",
    "from wos.utils import query, doi_to_wos\n",
    "from wos import WosClient"
   ]
  },
  {
   "cell_type": "code",
   "execution_count": 9,
   "metadata": {},
   "outputs": [
    {
     "name": "stdout",
     "output_type": "stream",
     "text": [
      "Help on function query in module wos.utils:\n",
      "\n",
      "query(wosclient, wos_query, xml_query=None, count=5, offset=1, limit=100)\n",
      "    Query Web of Science and XML query results with multiple requests.\n",
      "\n"
     ]
    }
   ],
   "source": [
    "help(query)"
   ]
  },
  {
   "attachments": {},
   "cell_type": "markdown",
   "metadata": {},
   "source": [
    "# Último Archivo"
   ]
  },
  {
   "attachments": {},
   "cell_type": "markdown",
   "metadata": {},
   "source": [
    "## Packages"
   ]
  },
  {
   "cell_type": "code",
   "execution_count": 7,
   "metadata": {},
   "outputs": [
    {
     "name": "stdout",
     "output_type": "stream",
     "text": [
      "Requirement already satisfied: pandas in c:\\users\\mariana\\.conda\\envs\\tesis\\lib\\site-packages (2.0.1)\n",
      "Requirement already satisfied: python-dateutil>=2.8.2 in c:\\users\\mariana\\.conda\\envs\\tesis\\lib\\site-packages (from pandas) (2.8.2)\n",
      "Requirement already satisfied: pytz>=2020.1 in c:\\users\\mariana\\.conda\\envs\\tesis\\lib\\site-packages (from pandas) (2023.3)\n",
      "Requirement already satisfied: tzdata>=2022.1 in c:\\users\\mariana\\.conda\\envs\\tesis\\lib\\site-packages (from pandas) (2023.3)\n",
      "Requirement already satisfied: numpy>=1.21.0 in c:\\users\\mariana\\.conda\\envs\\tesis\\lib\\site-packages (from pandas) (1.24.3)\n",
      "Requirement already satisfied: six>=1.5 in c:\\users\\mariana\\.conda\\envs\\tesis\\lib\\site-packages (from python-dateutil>=2.8.2->pandas) (1.16.0)\n"
     ]
    }
   ],
   "source": [
    "!pip install pandas"
   ]
  },
  {
   "cell_type": "code",
   "execution_count": 8,
   "metadata": {},
   "outputs": [],
   "source": [
    "import os\n",
    "import pandas as pd"
   ]
  },
  {
   "cell_type": "code",
   "execution_count": 27,
   "metadata": {},
   "outputs": [
    {
     "data": {
      "text/plain": [
       "'C:\\\\Users\\\\Mariana\\\\Google Drive\\\\Doctorado\\\\Doctorado_UACh\\\\Tesis\\\\BBDD\\\\CR2\\\\NLU'"
      ]
     },
     "execution_count": 27,
     "metadata": {},
     "output_type": "execute_result"
    }
   ],
   "source": [
    "os.chdir(r\"C:\\Users\\Mariana\\Google Drive\\Doctorado\\Doctorado_UACh\\Tesis\\BBDD\\CR2\\NLU\")\n",
    "os.getcwd()"
   ]
  },
  {
   "cell_type": "code",
   "execution_count": 21,
   "metadata": {},
   "outputs": [],
   "source": [
    "def get_smallest_unit_file(path):\n",
    "    # Get all files in the directory\n",
    "    files = os.listdir(path)\n",
    "    \n",
    "    # Filter out directories and sort to get consistent order\n",
    "    files = sorted(file for file in files if os.path.isfile(os.path.join(path, file)))\n",
    "    \n",
    "    # Return the last file (smallest unit file) or None if no files found\n",
    "    return files[-1] if files else None\n",
    "\n",
    "def list_files(input_directory):\n",
    "    lista_ultimos_archivos = []\n",
    "    for root, _, _ in os.walk(input_directory):\n",
    "        # Get the file in the current directory (smallest unit file)\n",
    "        smallest_unit_file = get_smallest_unit_file(root)\n",
    "        if smallest_unit_file:\n",
    "            file_path = os.path.join(root, smallest_unit_file)\n",
    "            print(file_path)\n",
    "            lista_ultimos_archivos = lista_ultimos_archivos + [file_path]\n",
    "\n",
    "    return lista_ultimos_archivos\n",
    "\n",
    "def concatenate_files(files_list, output_dir):\n",
    "    for index, file_path in enumerate(files_list): \n",
    "        file = pd.read_csv(file_path) # acá hay que ver cómo son los separadores y esas cosas para que lo lea bien \n",
    "        file['fuente'] = os.path.dirname(file_path).replace('/', '_')\n",
    "        if index == 0:\n",
    "            concatenated_file = file\n",
    "        else: \n",
    "            concatenated_file = pd.concat([concatenated_file, file])\n",
    "    # aquí en vez de retornarlo lo podemos escribir en csv\n",
    "    concatenated_file.to_csv(output_dir)\n",
    "    return concatenated_file \n"
   ]
  },
  {
   "cell_type": "code",
   "execution_count": 28,
   "metadata": {},
   "outputs": [
    {
     "name": "stdout",
     "output_type": "stream",
     "text": [
      "[]\n"
     ]
    }
   ],
   "source": [
    "unidades_minimas = list_files('prueba cris')\n",
    "print(unidades_minimas)\n"
   ]
  },
  {
   "cell_type": "code",
   "execution_count": 31,
   "metadata": {},
   "outputs": [
    {
     "name": "stdout",
     "output_type": "stream",
     "text": [
      "C:\\Users\\Mariana\\Google Drive\\Doctorado\\Doctorado_UACh\\Tesis\\BBDD\\CR2\\NLU\\csv\\Total\\CR2WU_NLU_Total_historical_1950-2020_regions.csv\n",
      "C:\\Users\\Mariana\\Google Drive\\Doctorado\\Doctorado_UACh\\Tesis\\BBDD\\CR2\\NLU\\csv\\Total\\DrinkingWater\\CR2WU_NLU_DrinkingWater_historical_1950-2020_regions.csv\n",
      "C:\\Users\\Mariana\\Google Drive\\Doctorado\\Doctorado_UACh\\Tesis\\BBDD\\CR2\\NLU\\csv\\Total\\DrinkingWater\\Rural\\CR2WU_NLU_DrinkingWater_Rural_historical_1950-2020_regions.csv\n",
      "C:\\Users\\Mariana\\Google Drive\\Doctorado\\Doctorado_UACh\\Tesis\\BBDD\\CR2\\NLU\\csv\\Total\\DrinkingWater\\Rural\\Domestic\\CR2WU_NLU_DrinkingWater_Rural_Domestic_historical_1950-2020_regions.csv\n",
      "C:\\Users\\Mariana\\Google Drive\\Doctorado\\Doctorado_UACh\\Tesis\\BBDD\\CR2\\NLU\\csv\\Total\\DrinkingWater\\Rural\\Losses\\CR2WU_NLU_DrinkingWater_Rural_Losses_historical_1950-2020_regions.csv\n",
      "C:\\Users\\Mariana\\Google Drive\\Doctorado\\Doctorado_UACh\\Tesis\\BBDD\\CR2\\NLU\\csv\\Total\\DrinkingWater\\Urban\\CR2WU_NLU_DrinkingWater_Urban_historical_1950-2020_regions.csv\n",
      "C:\\Users\\Mariana\\Google Drive\\Doctorado\\Doctorado_UACh\\Tesis\\BBDD\\CR2\\NLU\\csv\\Total\\DrinkingWater\\Urban\\Commercial\\CR2WU_NLU_DrinkingWater_Urban_Commercial_historical_1950-2020_regions.csv\n",
      "C:\\Users\\Mariana\\Google Drive\\Doctorado\\Doctorado_UACh\\Tesis\\BBDD\\CR2\\NLU\\csv\\Total\\DrinkingWater\\Urban\\Domestic\\CR2WU_NLU_DrinkingWater_Urban_Domestic_historical_1950-2020_regions.csv\n",
      "C:\\Users\\Mariana\\Google Drive\\Doctorado\\Doctorado_UACh\\Tesis\\BBDD\\CR2\\NLU\\csv\\Total\\DrinkingWater\\Urban\\GreenAreas\\CR2WU_NLU_DrinkingWater_Urban_GreenAreas_historical_1950-2020_regions.csv\n",
      "C:\\Users\\Mariana\\Google Drive\\Doctorado\\Doctorado_UACh\\Tesis\\BBDD\\CR2\\NLU\\csv\\Total\\DrinkingWater\\Urban\\Industrial\\CR2WU_NLU_DrinkingWater_Urban_Industrial_historical_1950-2020_regions.csv\n",
      "C:\\Users\\Mariana\\Google Drive\\Doctorado\\Doctorado_UACh\\Tesis\\BBDD\\CR2\\NLU\\csv\\Total\\DrinkingWater\\Urban\\Losses\\CR2WU_NLU_DrinkingWater_Urban_Losses_historical_1950-2020_regions.csv\n",
      "C:\\Users\\Mariana\\Google Drive\\Doctorado\\Doctorado_UACh\\Tesis\\BBDD\\CR2\\NLU\\csv\\Total\\Energy\\CR2WU_NLU_Energy_historical_1950-2020_regions.csv\n",
      "C:\\Users\\Mariana\\Google Drive\\Doctorado\\Doctorado_UACh\\Tesis\\BBDD\\CR2\\NLU\\csv\\Total\\Energy\\Hydraulic\\CR2WU_NLU_Energy_Hydraulic_historical_1950-2020_regions.csv\n",
      "C:\\Users\\Mariana\\Google Drive\\Doctorado\\Doctorado_UACh\\Tesis\\BBDD\\CR2\\NLU\\csv\\Total\\Energy\\Hydraulic\\Reservoir\\CR2WU_NLU_Energy_Hydraulic_Reservoir_historical_1950-2020_regions.csv\n",
      "C:\\Users\\Mariana\\Google Drive\\Doctorado\\Doctorado_UACh\\Tesis\\BBDD\\CR2\\NLU\\csv\\Total\\Energy\\Hydraulic\\ROR\\CR2WU_NLU_Energy_Hydraulic_ROR_historical_1950-2020_regions.csv\n",
      "C:\\Users\\Mariana\\Google Drive\\Doctorado\\Doctorado_UACh\\Tesis\\BBDD\\CR2\\NLU\\csv\\Total\\Energy\\NCRE\\CR2WU_NLU_Energy_NCRE_historical_1950-2020_regions.csv\n",
      "C:\\Users\\Mariana\\Google Drive\\Doctorado\\Doctorado_UACh\\Tesis\\BBDD\\CR2\\NLU\\csv\\Total\\Energy\\NCRE\\Solar\\CR2WU_NLU_Energy_NCRE_Solar_historical_1950-2020_regions.csv\n",
      "C:\\Users\\Mariana\\Google Drive\\Doctorado\\Doctorado_UACh\\Tesis\\BBDD\\CR2\\NLU\\csv\\Total\\Energy\\NCRE\\Wind\\CR2WU_NLU_Energy_NCRE_Wind_historical_1950-2020_regions.csv\n",
      "C:\\Users\\Mariana\\Google Drive\\Doctorado\\Doctorado_UACh\\Tesis\\BBDD\\CR2\\NLU\\csv\\Total\\Energy\\Thermal\\CR2WU_NLU_Energy_Thermal_historical_1950-2020_regions.csv\n",
      "C:\\Users\\Mariana\\Google Drive\\Doctorado\\Doctorado_UACh\\Tesis\\BBDD\\CR2\\NLU\\csv\\Total\\Energy\\Thermal\\Biomass\\CR2WU_NLU_Energy_Thermal_Biomass_historical_1950-2020_regions.csv\n",
      "C:\\Users\\Mariana\\Google Drive\\Doctorado\\Doctorado_UACh\\Tesis\\BBDD\\CR2\\NLU\\csv\\Total\\Energy\\Thermal\\Coal\\CR2WU_NLU_Energy_Thermal_Coal_historical_1950-2020_regions.csv\n",
      "C:\\Users\\Mariana\\Google Drive\\Doctorado\\Doctorado_UACh\\Tesis\\BBDD\\CR2\\NLU\\csv\\Total\\Energy\\Thermal\\Gas\\CR2WU_NLU_Energy_Thermal_Gas_historical_1950-2020_regions.csv\n",
      "C:\\Users\\Mariana\\Google Drive\\Doctorado\\Doctorado_UACh\\Tesis\\BBDD\\CR2\\NLU\\csv\\Total\\Energy\\Thermal\\Geothermal\\CR2WU_NLU_Energy_Thermal_Geothermal_historical_1950-2020_regions.csv\n",
      "C:\\Users\\Mariana\\Google Drive\\Doctorado\\Doctorado_UACh\\Tesis\\BBDD\\CR2\\NLU\\csv\\Total\\Energy\\Thermal\\Petroleum\\CR2WU_NLU_Energy_Thermal_Petroleum_historical_1950-2020_regions.csv\n",
      "C:\\Users\\Mariana\\Google Drive\\Doctorado\\Doctorado_UACh\\Tesis\\BBDD\\CR2\\NLU\\csv\\Total\\Industry\\CR2WU_NLU_Industry_historical_1950-2020_regions.csv\n",
      "C:\\Users\\Mariana\\Google Drive\\Doctorado\\Doctorado_UACh\\Tesis\\BBDD\\CR2\\NLU\\csv\\Total\\Industry\\Cellulose\\CR2WU_NLU_Industry_Cellulose_historical_1950-2020_regions.csv\n",
      "C:\\Users\\Mariana\\Google Drive\\Doctorado\\Doctorado_UACh\\Tesis\\BBDD\\CR2\\NLU\\csv\\Total\\Industry\\ChemicalRubberPlastic\\CR2WU_NLU_Industry_ChemicalRubberPlastic_historical_1950-2020_regions.csv\n",
      "C:\\Users\\Mariana\\Google Drive\\Doctorado\\Doctorado_UACh\\Tesis\\BBDD\\CR2\\NLU\\csv\\Total\\Industry\\DrinksTobacco\\CR2WU_NLU_Industry_DrinksTobacco_historical_1950-2020_regions.csv\n",
      "C:\\Users\\Mariana\\Google Drive\\Doctorado\\Doctorado_UACh\\Tesis\\BBDD\\CR2\\NLU\\csv\\Total\\Industry\\Food\\CR2WU_NLU_Industry_Food_historical_1950-2020_regions.csv\n",
      "C:\\Users\\Mariana\\Google Drive\\Doctorado\\Doctorado_UACh\\Tesis\\BBDD\\CR2\\NLU\\csv\\Total\\Industry\\MineralsMetallicProducts\\CR2WU_NLU_Industry_MineralsMetallicProducts_historical_1950-2020_regions.csv\n",
      "C:\\Users\\Mariana\\Google Drive\\Doctorado\\Doctorado_UACh\\Tesis\\BBDD\\CR2\\NLU\\csv\\Total\\Industry\\PetroleumRefining\\CR2WU_NLU_Industry_PetroleumRefining_historical_1950-2020_regions.csv\n",
      "C:\\Users\\Mariana\\Google Drive\\Doctorado\\Doctorado_UACh\\Tesis\\BBDD\\CR2\\NLU\\csv\\Total\\Industry\\Textile\\CR2WU_NLU_Industry_Textile_historical_1950-2020_regions.csv\n",
      "C:\\Users\\Mariana\\Google Drive\\Doctorado\\Doctorado_UACh\\Tesis\\BBDD\\CR2\\NLU\\csv\\Total\\Industry\\WoodFurniture\\CR2WU_NLU_Industry_WoodFurniture_historical_1950-2020_regions.csv\n",
      "C:\\Users\\Mariana\\Google Drive\\Doctorado\\Doctorado_UACh\\Tesis\\BBDD\\CR2\\NLU\\csv\\Total\\Livestock\\CR2WU_NLU_Livestock_historical_1950-2020_regions.csv\n",
      "C:\\Users\\Mariana\\Google Drive\\Doctorado\\Doctorado_UACh\\Tesis\\BBDD\\CR2\\NLU\\csv\\Total\\Livestock\\Birds\\CR2WU_NLU_Livestock_Birds_historical_1950-2020_regions.csv\n",
      "C:\\Users\\Mariana\\Google Drive\\Doctorado\\Doctorado_UACh\\Tesis\\BBDD\\CR2\\NLU\\csv\\Total\\Livestock\\Birds\\Chickens\\CR2WU_NLU_Livestock_Birds_Chickens_historical_1950-2020_regions.csv\n",
      "C:\\Users\\Mariana\\Google Drive\\Doctorado\\Doctorado_UACh\\Tesis\\BBDD\\CR2\\NLU\\csv\\Total\\Livestock\\Birds\\Ducks\\CR2WU_NLU_Livestock_Birds_Ducks_historical_1950-2020_regions.csv\n",
      "C:\\Users\\Mariana\\Google Drive\\Doctorado\\Doctorado_UACh\\Tesis\\BBDD\\CR2\\NLU\\csv\\Total\\Livestock\\Birds\\Gooses\\CR2WU_NLU_Livestock_Birds_Gooses_historical_1950-2020_regions.csv\n",
      "C:\\Users\\Mariana\\Google Drive\\Doctorado\\Doctorado_UACh\\Tesis\\BBDD\\CR2\\NLU\\csv\\Total\\Livestock\\Birds\\OtherBirds\\CR2WU_NLU_Livestock_Birds_OtherBirds_historical_1950-2020_regions.csv\n",
      "C:\\Users\\Mariana\\Google Drive\\Doctorado\\Doctorado_UACh\\Tesis\\BBDD\\CR2\\NLU\\csv\\Total\\Livestock\\Birds\\Turkeys\\CR2WU_NLU_Livestock_Birds_Turkeys_historical_1950-2020_regions.csv\n",
      "C:\\Users\\Mariana\\Google Drive\\Doctorado\\Doctorado_UACh\\Tesis\\BBDD\\CR2\\NLU\\csv\\Total\\Livestock\\Bovine\\CR2WU_NLU_Livestock_Bovine_historical_1950-2020_regions.csv\n",
      "C:\\Users\\Mariana\\Google Drive\\Doctorado\\Doctorado_UACh\\Tesis\\BBDD\\CR2\\NLU\\csv\\Total\\Livestock\\Bovine\\Bulls\\CR2WU_NLU_Livestock_Bovine_Bulls_historical_1950-2020_regions.csv\n",
      "C:\\Users\\Mariana\\Google Drive\\Doctorado\\Doctorado_UACh\\Tesis\\BBDD\\CR2\\NLU\\csv\\Total\\Livestock\\Bovine\\Calves\\CR2WU_NLU_Livestock_Bovine_Calves_historical_1950-2020_regions.csv\n",
      "C:\\Users\\Mariana\\Google Drive\\Doctorado\\Doctorado_UACh\\Tesis\\BBDD\\CR2\\NLU\\csv\\Total\\Livestock\\Bovine\\Cows\\CR2WU_NLU_Livestock_Bovine_Cows_historical_1950-2020_regions.csv\n",
      "C:\\Users\\Mariana\\Google Drive\\Doctorado\\Doctorado_UACh\\Tesis\\BBDD\\CR2\\NLU\\csv\\Total\\Livestock\\Bovine\\Heifers\\CR2WU_NLU_Livestock_Bovine_Heifers_historical_1950-2020_regions.csv\n",
      "C:\\Users\\Mariana\\Google Drive\\Doctorado\\Doctorado_UACh\\Tesis\\BBDD\\CR2\\NLU\\csv\\Total\\Livestock\\Bovine\\Oxen\\CR2WU_NLU_Livestock_Bovine_Oxen_historical_1950-2020_regions.csv\n",
      "C:\\Users\\Mariana\\Google Drive\\Doctorado\\Doctorado_UACh\\Tesis\\BBDD\\CR2\\NLU\\csv\\Total\\Livestock\\Bovine\\Steers\\CR2WU_NLU_Livestock_Bovine_Steers_historical_1950-2020_regions.csv\n",
      "C:\\Users\\Mariana\\Google Drive\\Doctorado\\Doctorado_UACh\\Tesis\\BBDD\\CR2\\NLU\\csv\\Total\\Livestock\\Camelids\\CR2WU_NLU_Livestock_Camelids_historical_1950-2020_regions.csv\n",
      "C:\\Users\\Mariana\\Google Drive\\Doctorado\\Doctorado_UACh\\Tesis\\BBDD\\CR2\\NLU\\csv\\Total\\Livestock\\Camelids\\Alpacas\\CR2WU_NLU_Livestock_Camelids_Alpacas_historical_1950-2020_regions.csv\n",
      "C:\\Users\\Mariana\\Google Drive\\Doctorado\\Doctorado_UACh\\Tesis\\BBDD\\CR2\\NLU\\csv\\Total\\Livestock\\Camelids\\Llamas\\CR2WU_NLU_Livestock_Camelids_Llamas_historical_1950-2020_regions.csv\n",
      "C:\\Users\\Mariana\\Google Drive\\Doctorado\\Doctorado_UACh\\Tesis\\BBDD\\CR2\\NLU\\csv\\Total\\Livestock\\Equines\\CR2WU_NLU_Livestock_Equines_historical_1950-2020_regions.csv\n",
      "C:\\Users\\Mariana\\Google Drive\\Doctorado\\Doctorado_UACh\\Tesis\\BBDD\\CR2\\NLU\\csv\\Total\\Livestock\\Equines\\Horses\\CR2WU_NLU_Livestock_Equines_Horses_historical_1950-2020_regions.csv\n",
      "C:\\Users\\Mariana\\Google Drive\\Doctorado\\Doctorado_UACh\\Tesis\\BBDD\\CR2\\NLU\\csv\\Total\\Livestock\\Equines\\MulesDonkeys\\CR2WU_NLU_Livestock_Equines_MulesDonkeys_historical_1950-2020_regions.csv\n",
      "C:\\Users\\Mariana\\Google Drive\\Doctorado\\Doctorado_UACh\\Tesis\\BBDD\\CR2\\NLU\\csv\\Total\\Livestock\\OtherLivestock\\CR2WU_NLU_Livestock_OtherLivestock_historical_1950-2020_regions.csv\n",
      "C:\\Users\\Mariana\\Google Drive\\Doctorado\\Doctorado_UACh\\Tesis\\BBDD\\CR2\\NLU\\csv\\Total\\Livestock\\OtherLivestock\\Goats\\CR2WU_NLU_Livestock_OtherLivestock_Goats_historical_1950-2020_regions.csv\n",
      "C:\\Users\\Mariana\\Google Drive\\Doctorado\\Doctorado_UACh\\Tesis\\BBDD\\CR2\\NLU\\csv\\Total\\Livestock\\OtherLivestock\\Pigs\\CR2WU_NLU_Livestock_OtherLivestock_Pigs_historical_1950-2020_regions.csv\n",
      "C:\\Users\\Mariana\\Google Drive\\Doctorado\\Doctorado_UACh\\Tesis\\BBDD\\CR2\\NLU\\csv\\Total\\Livestock\\OtherLivestock\\Rabbits\\CR2WU_NLU_Livestock_OtherLivestock_Rabbits_historical_1950-2020_regions.csv\n",
      "C:\\Users\\Mariana\\Google Drive\\Doctorado\\Doctorado_UACh\\Tesis\\BBDD\\CR2\\NLU\\csv\\Total\\Livestock\\OtherLivestock\\Sheeps\\CR2WU_NLU_Livestock_OtherLivestock_Sheeps_historical_1950-2020_regions.csv\n",
      "C:\\Users\\Mariana\\Google Drive\\Doctorado\\Doctorado_UACh\\Tesis\\BBDD\\CR2\\NLU\\csv\\Total\\Mining\\CR2WU_NLU_Mining_historical_1950-2020_regions.csv\n",
      "C:\\Users\\Mariana\\Google Drive\\Doctorado\\Doctorado_UACh\\Tesis\\BBDD\\CR2\\NLU\\csv\\Total\\Mining\\Metallic\\CR2WU_NLU_Mining_Metallic_historical_1950-2020_regions.csv\n",
      "C:\\Users\\Mariana\\Google Drive\\Doctorado\\Doctorado_UACh\\Tesis\\BBDD\\CR2\\NLU\\csv\\Total\\Mining\\Metallic\\CopperCathodes\\CR2WU_NLU_Mining_Metallic_CopperCathodes_historical_1950-2020_regions.csv\n",
      "C:\\Users\\Mariana\\Google Drive\\Doctorado\\Doctorado_UACh\\Tesis\\BBDD\\CR2\\NLU\\csv\\Total\\Mining\\Metallic\\CopperConcetrates\\CR2WU_NLU_Mining_Metallic_CopperConcetrates_historical_1950-2020_regions.csv\n",
      "C:\\Users\\Mariana\\Google Drive\\Doctorado\\Doctorado_UACh\\Tesis\\BBDD\\CR2\\NLU\\csv\\Total\\Mining\\Metallic\\Gold\\CR2WU_NLU_Mining_Metallic_Gold_historical_1950-2020_regions.csv\n",
      "C:\\Users\\Mariana\\Google Drive\\Doctorado\\Doctorado_UACh\\Tesis\\BBDD\\CR2\\NLU\\csv\\Total\\Mining\\Metallic\\Iron\\CR2WU_NLU_Mining_Metallic_Iron_historical_1950-2020_regions.csv\n",
      "C:\\Users\\Mariana\\Google Drive\\Doctorado\\Doctorado_UACh\\Tesis\\BBDD\\CR2\\NLU\\csv\\Total\\Mining\\Metallic\\Molybdenum\\CR2WU_NLU_Mining_Metallic_Molybdenum_historical_1950-2020_regions.csv\n",
      "C:\\Users\\Mariana\\Google Drive\\Doctorado\\Doctorado_UACh\\Tesis\\BBDD\\CR2\\NLU\\csv\\Total\\Mining\\Metallic\\Silver\\CR2WU_NLU_Mining_Metallic_Silver_historical_1950-2020_regions.csv\n",
      "C:\\Users\\Mariana\\Google Drive\\Doctorado\\Doctorado_UACh\\Tesis\\BBDD\\CR2\\NLU\\csv\\Total\\Mining\\Metallic\\Zinc\\CR2WU_NLU_Mining_Metallic_Zinc_historical_1950-2020_regions.csv\n",
      "C:\\Users\\Mariana\\Google Drive\\Doctorado\\Doctorado_UACh\\Tesis\\BBDD\\CR2\\NLU\\csv\\Total\\Mining\\NonMetallic\\CR2WU_NLU_Mining_NonMetallic_historical_1950-2020_regions.csv\n",
      "C:\\Users\\Mariana\\Google Drive\\Doctorado\\Doctorado_UACh\\Tesis\\BBDD\\CR2\\NLU\\csv\\Total\\Mining\\NonMetallic\\Coal\\CR2WU_NLU_Mining_NonMetallic_Coal_historical_1950-2020_regions.csv\n",
      "C:\\Users\\Mariana\\Google Drive\\Doctorado\\Doctorado_UACh\\Tesis\\BBDD\\CR2\\NLU\\csv\\Total\\Mining\\NonMetallic\\Iodine\\CR2WU_NLU_Mining_NonMetallic_Iodine_historical_1950-2020_regions.csv\n",
      "C:\\Users\\Mariana\\Google Drive\\Doctorado\\Doctorado_UACh\\Tesis\\BBDD\\CR2\\NLU\\csv\\Total\\Mining\\NonMetallic\\LithiumCarbonate\\CR2WU_NLU_Mining_NonMetallic_LithiumCarbonate_historical_1950-2020_regions.csv\n",
      "C:\\Users\\Mariana\\Google Drive\\Doctorado\\Doctorado_UACh\\Tesis\\BBDD\\CR2\\NLU\\csv\\Total\\Mining\\NonMetallic\\Nitrates\\CR2WU_NLU_Mining_NonMetallic_Nitrates_historical_1950-2020_regions.csv\n",
      "C:\\Users\\Mariana\\Google Drive\\Doctorado\\Doctorado_UACh\\Tesis\\BBDD\\CR2\\NLU\\csv\\Total\\Mining\\NonMetallic\\Ulexite\\CR2WU_NLU_Mining_NonMetallic_Ulexite_historical_1950-2020_regions.csv\n",
      "C:\\Users\\Mariana\\Google Drive\\Doctorado\\Doctorado_UACh\\Tesis\\BBDD\\CR2\\NLU\\csv\\Total\\WaterBodies\\CR2WU_NLU_WaterBodies_historical_1950-2020_regions.csv\n",
      "C:\\Users\\Mariana\\Google Drive\\Doctorado\\Doctorado_UACh\\Tesis\\BBDD\\CR2\\NLU\\csv\\Total\\WaterBodies\\Dams\\CR2WU_NLU_WaterBodies_Dams_historical_1950-2020_regions.csv\n",
      "C:\\Users\\Mariana\\Google Drive\\Doctorado\\Doctorado_UACh\\Tesis\\BBDD\\CR2\\NLU\\csv\\Total\\WaterBodies\\Reservoirs\\CR2WU_NLU_WaterBodies_Reservoirs_historical_1950-2020_regions.csv\n",
      "['C:\\\\Users\\\\Mariana\\\\Google Drive\\\\Doctorado\\\\Doctorado_UACh\\\\Tesis\\\\BBDD\\\\CR2\\\\NLU\\\\csv\\\\Total\\\\CR2WU_NLU_Total_historical_1950-2020_regions.csv', 'C:\\\\Users\\\\Mariana\\\\Google Drive\\\\Doctorado\\\\Doctorado_UACh\\\\Tesis\\\\BBDD\\\\CR2\\\\NLU\\\\csv\\\\Total\\\\DrinkingWater\\\\CR2WU_NLU_DrinkingWater_historical_1950-2020_regions.csv', 'C:\\\\Users\\\\Mariana\\\\Google Drive\\\\Doctorado\\\\Doctorado_UACh\\\\Tesis\\\\BBDD\\\\CR2\\\\NLU\\\\csv\\\\Total\\\\DrinkingWater\\\\Rural\\\\CR2WU_NLU_DrinkingWater_Rural_historical_1950-2020_regions.csv', 'C:\\\\Users\\\\Mariana\\\\Google Drive\\\\Doctorado\\\\Doctorado_UACh\\\\Tesis\\\\BBDD\\\\CR2\\\\NLU\\\\csv\\\\Total\\\\DrinkingWater\\\\Rural\\\\Domestic\\\\CR2WU_NLU_DrinkingWater_Rural_Domestic_historical_1950-2020_regions.csv', 'C:\\\\Users\\\\Mariana\\\\Google Drive\\\\Doctorado\\\\Doctorado_UACh\\\\Tesis\\\\BBDD\\\\CR2\\\\NLU\\\\csv\\\\Total\\\\DrinkingWater\\\\Rural\\\\Losses\\\\CR2WU_NLU_DrinkingWater_Rural_Losses_historical_1950-2020_regions.csv', 'C:\\\\Users\\\\Mariana\\\\Google Drive\\\\Doctorado\\\\Doctorado_UACh\\\\Tesis\\\\BBDD\\\\CR2\\\\NLU\\\\csv\\\\Total\\\\DrinkingWater\\\\Urban\\\\CR2WU_NLU_DrinkingWater_Urban_historical_1950-2020_regions.csv', 'C:\\\\Users\\\\Mariana\\\\Google Drive\\\\Doctorado\\\\Doctorado_UACh\\\\Tesis\\\\BBDD\\\\CR2\\\\NLU\\\\csv\\\\Total\\\\DrinkingWater\\\\Urban\\\\Commercial\\\\CR2WU_NLU_DrinkingWater_Urban_Commercial_historical_1950-2020_regions.csv', 'C:\\\\Users\\\\Mariana\\\\Google Drive\\\\Doctorado\\\\Doctorado_UACh\\\\Tesis\\\\BBDD\\\\CR2\\\\NLU\\\\csv\\\\Total\\\\DrinkingWater\\\\Urban\\\\Domestic\\\\CR2WU_NLU_DrinkingWater_Urban_Domestic_historical_1950-2020_regions.csv', 'C:\\\\Users\\\\Mariana\\\\Google Drive\\\\Doctorado\\\\Doctorado_UACh\\\\Tesis\\\\BBDD\\\\CR2\\\\NLU\\\\csv\\\\Total\\\\DrinkingWater\\\\Urban\\\\GreenAreas\\\\CR2WU_NLU_DrinkingWater_Urban_GreenAreas_historical_1950-2020_regions.csv', 'C:\\\\Users\\\\Mariana\\\\Google Drive\\\\Doctorado\\\\Doctorado_UACh\\\\Tesis\\\\BBDD\\\\CR2\\\\NLU\\\\csv\\\\Total\\\\DrinkingWater\\\\Urban\\\\Industrial\\\\CR2WU_NLU_DrinkingWater_Urban_Industrial_historical_1950-2020_regions.csv', 'C:\\\\Users\\\\Mariana\\\\Google Drive\\\\Doctorado\\\\Doctorado_UACh\\\\Tesis\\\\BBDD\\\\CR2\\\\NLU\\\\csv\\\\Total\\\\DrinkingWater\\\\Urban\\\\Losses\\\\CR2WU_NLU_DrinkingWater_Urban_Losses_historical_1950-2020_regions.csv', 'C:\\\\Users\\\\Mariana\\\\Google Drive\\\\Doctorado\\\\Doctorado_UACh\\\\Tesis\\\\BBDD\\\\CR2\\\\NLU\\\\csv\\\\Total\\\\Energy\\\\CR2WU_NLU_Energy_historical_1950-2020_regions.csv', 'C:\\\\Users\\\\Mariana\\\\Google Drive\\\\Doctorado\\\\Doctorado_UACh\\\\Tesis\\\\BBDD\\\\CR2\\\\NLU\\\\csv\\\\Total\\\\Energy\\\\Hydraulic\\\\CR2WU_NLU_Energy_Hydraulic_historical_1950-2020_regions.csv', 'C:\\\\Users\\\\Mariana\\\\Google Drive\\\\Doctorado\\\\Doctorado_UACh\\\\Tesis\\\\BBDD\\\\CR2\\\\NLU\\\\csv\\\\Total\\\\Energy\\\\Hydraulic\\\\Reservoir\\\\CR2WU_NLU_Energy_Hydraulic_Reservoir_historical_1950-2020_regions.csv', 'C:\\\\Users\\\\Mariana\\\\Google Drive\\\\Doctorado\\\\Doctorado_UACh\\\\Tesis\\\\BBDD\\\\CR2\\\\NLU\\\\csv\\\\Total\\\\Energy\\\\Hydraulic\\\\ROR\\\\CR2WU_NLU_Energy_Hydraulic_ROR_historical_1950-2020_regions.csv', 'C:\\\\Users\\\\Mariana\\\\Google Drive\\\\Doctorado\\\\Doctorado_UACh\\\\Tesis\\\\BBDD\\\\CR2\\\\NLU\\\\csv\\\\Total\\\\Energy\\\\NCRE\\\\CR2WU_NLU_Energy_NCRE_historical_1950-2020_regions.csv', 'C:\\\\Users\\\\Mariana\\\\Google Drive\\\\Doctorado\\\\Doctorado_UACh\\\\Tesis\\\\BBDD\\\\CR2\\\\NLU\\\\csv\\\\Total\\\\Energy\\\\NCRE\\\\Solar\\\\CR2WU_NLU_Energy_NCRE_Solar_historical_1950-2020_regions.csv', 'C:\\\\Users\\\\Mariana\\\\Google Drive\\\\Doctorado\\\\Doctorado_UACh\\\\Tesis\\\\BBDD\\\\CR2\\\\NLU\\\\csv\\\\Total\\\\Energy\\\\NCRE\\\\Wind\\\\CR2WU_NLU_Energy_NCRE_Wind_historical_1950-2020_regions.csv', 'C:\\\\Users\\\\Mariana\\\\Google Drive\\\\Doctorado\\\\Doctorado_UACh\\\\Tesis\\\\BBDD\\\\CR2\\\\NLU\\\\csv\\\\Total\\\\Energy\\\\Thermal\\\\CR2WU_NLU_Energy_Thermal_historical_1950-2020_regions.csv', 'C:\\\\Users\\\\Mariana\\\\Google Drive\\\\Doctorado\\\\Doctorado_UACh\\\\Tesis\\\\BBDD\\\\CR2\\\\NLU\\\\csv\\\\Total\\\\Energy\\\\Thermal\\\\Biomass\\\\CR2WU_NLU_Energy_Thermal_Biomass_historical_1950-2020_regions.csv', 'C:\\\\Users\\\\Mariana\\\\Google Drive\\\\Doctorado\\\\Doctorado_UACh\\\\Tesis\\\\BBDD\\\\CR2\\\\NLU\\\\csv\\\\Total\\\\Energy\\\\Thermal\\\\Coal\\\\CR2WU_NLU_Energy_Thermal_Coal_historical_1950-2020_regions.csv', 'C:\\\\Users\\\\Mariana\\\\Google Drive\\\\Doctorado\\\\Doctorado_UACh\\\\Tesis\\\\BBDD\\\\CR2\\\\NLU\\\\csv\\\\Total\\\\Energy\\\\Thermal\\\\Gas\\\\CR2WU_NLU_Energy_Thermal_Gas_historical_1950-2020_regions.csv', 'C:\\\\Users\\\\Mariana\\\\Google Drive\\\\Doctorado\\\\Doctorado_UACh\\\\Tesis\\\\BBDD\\\\CR2\\\\NLU\\\\csv\\\\Total\\\\Energy\\\\Thermal\\\\Geothermal\\\\CR2WU_NLU_Energy_Thermal_Geothermal_historical_1950-2020_regions.csv', 'C:\\\\Users\\\\Mariana\\\\Google Drive\\\\Doctorado\\\\Doctorado_UACh\\\\Tesis\\\\BBDD\\\\CR2\\\\NLU\\\\csv\\\\Total\\\\Energy\\\\Thermal\\\\Petroleum\\\\CR2WU_NLU_Energy_Thermal_Petroleum_historical_1950-2020_regions.csv', 'C:\\\\Users\\\\Mariana\\\\Google Drive\\\\Doctorado\\\\Doctorado_UACh\\\\Tesis\\\\BBDD\\\\CR2\\\\NLU\\\\csv\\\\Total\\\\Industry\\\\CR2WU_NLU_Industry_historical_1950-2020_regions.csv', 'C:\\\\Users\\\\Mariana\\\\Google Drive\\\\Doctorado\\\\Doctorado_UACh\\\\Tesis\\\\BBDD\\\\CR2\\\\NLU\\\\csv\\\\Total\\\\Industry\\\\Cellulose\\\\CR2WU_NLU_Industry_Cellulose_historical_1950-2020_regions.csv', 'C:\\\\Users\\\\Mariana\\\\Google Drive\\\\Doctorado\\\\Doctorado_UACh\\\\Tesis\\\\BBDD\\\\CR2\\\\NLU\\\\csv\\\\Total\\\\Industry\\\\ChemicalRubberPlastic\\\\CR2WU_NLU_Industry_ChemicalRubberPlastic_historical_1950-2020_regions.csv', 'C:\\\\Users\\\\Mariana\\\\Google Drive\\\\Doctorado\\\\Doctorado_UACh\\\\Tesis\\\\BBDD\\\\CR2\\\\NLU\\\\csv\\\\Total\\\\Industry\\\\DrinksTobacco\\\\CR2WU_NLU_Industry_DrinksTobacco_historical_1950-2020_regions.csv', 'C:\\\\Users\\\\Mariana\\\\Google Drive\\\\Doctorado\\\\Doctorado_UACh\\\\Tesis\\\\BBDD\\\\CR2\\\\NLU\\\\csv\\\\Total\\\\Industry\\\\Food\\\\CR2WU_NLU_Industry_Food_historical_1950-2020_regions.csv', 'C:\\\\Users\\\\Mariana\\\\Google Drive\\\\Doctorado\\\\Doctorado_UACh\\\\Tesis\\\\BBDD\\\\CR2\\\\NLU\\\\csv\\\\Total\\\\Industry\\\\MineralsMetallicProducts\\\\CR2WU_NLU_Industry_MineralsMetallicProducts_historical_1950-2020_regions.csv', 'C:\\\\Users\\\\Mariana\\\\Google Drive\\\\Doctorado\\\\Doctorado_UACh\\\\Tesis\\\\BBDD\\\\CR2\\\\NLU\\\\csv\\\\Total\\\\Industry\\\\PetroleumRefining\\\\CR2WU_NLU_Industry_PetroleumRefining_historical_1950-2020_regions.csv', 'C:\\\\Users\\\\Mariana\\\\Google Drive\\\\Doctorado\\\\Doctorado_UACh\\\\Tesis\\\\BBDD\\\\CR2\\\\NLU\\\\csv\\\\Total\\\\Industry\\\\Textile\\\\CR2WU_NLU_Industry_Textile_historical_1950-2020_regions.csv', 'C:\\\\Users\\\\Mariana\\\\Google Drive\\\\Doctorado\\\\Doctorado_UACh\\\\Tesis\\\\BBDD\\\\CR2\\\\NLU\\\\csv\\\\Total\\\\Industry\\\\WoodFurniture\\\\CR2WU_NLU_Industry_WoodFurniture_historical_1950-2020_regions.csv', 'C:\\\\Users\\\\Mariana\\\\Google Drive\\\\Doctorado\\\\Doctorado_UACh\\\\Tesis\\\\BBDD\\\\CR2\\\\NLU\\\\csv\\\\Total\\\\Livestock\\\\CR2WU_NLU_Livestock_historical_1950-2020_regions.csv', 'C:\\\\Users\\\\Mariana\\\\Google Drive\\\\Doctorado\\\\Doctorado_UACh\\\\Tesis\\\\BBDD\\\\CR2\\\\NLU\\\\csv\\\\Total\\\\Livestock\\\\Birds\\\\CR2WU_NLU_Livestock_Birds_historical_1950-2020_regions.csv', 'C:\\\\Users\\\\Mariana\\\\Google Drive\\\\Doctorado\\\\Doctorado_UACh\\\\Tesis\\\\BBDD\\\\CR2\\\\NLU\\\\csv\\\\Total\\\\Livestock\\\\Birds\\\\Chickens\\\\CR2WU_NLU_Livestock_Birds_Chickens_historical_1950-2020_regions.csv', 'C:\\\\Users\\\\Mariana\\\\Google Drive\\\\Doctorado\\\\Doctorado_UACh\\\\Tesis\\\\BBDD\\\\CR2\\\\NLU\\\\csv\\\\Total\\\\Livestock\\\\Birds\\\\Ducks\\\\CR2WU_NLU_Livestock_Birds_Ducks_historical_1950-2020_regions.csv', 'C:\\\\Users\\\\Mariana\\\\Google Drive\\\\Doctorado\\\\Doctorado_UACh\\\\Tesis\\\\BBDD\\\\CR2\\\\NLU\\\\csv\\\\Total\\\\Livestock\\\\Birds\\\\Gooses\\\\CR2WU_NLU_Livestock_Birds_Gooses_historical_1950-2020_regions.csv', 'C:\\\\Users\\\\Mariana\\\\Google Drive\\\\Doctorado\\\\Doctorado_UACh\\\\Tesis\\\\BBDD\\\\CR2\\\\NLU\\\\csv\\\\Total\\\\Livestock\\\\Birds\\\\OtherBirds\\\\CR2WU_NLU_Livestock_Birds_OtherBirds_historical_1950-2020_regions.csv', 'C:\\\\Users\\\\Mariana\\\\Google Drive\\\\Doctorado\\\\Doctorado_UACh\\\\Tesis\\\\BBDD\\\\CR2\\\\NLU\\\\csv\\\\Total\\\\Livestock\\\\Birds\\\\Turkeys\\\\CR2WU_NLU_Livestock_Birds_Turkeys_historical_1950-2020_regions.csv', 'C:\\\\Users\\\\Mariana\\\\Google Drive\\\\Doctorado\\\\Doctorado_UACh\\\\Tesis\\\\BBDD\\\\CR2\\\\NLU\\\\csv\\\\Total\\\\Livestock\\\\Bovine\\\\CR2WU_NLU_Livestock_Bovine_historical_1950-2020_regions.csv', 'C:\\\\Users\\\\Mariana\\\\Google Drive\\\\Doctorado\\\\Doctorado_UACh\\\\Tesis\\\\BBDD\\\\CR2\\\\NLU\\\\csv\\\\Total\\\\Livestock\\\\Bovine\\\\Bulls\\\\CR2WU_NLU_Livestock_Bovine_Bulls_historical_1950-2020_regions.csv', 'C:\\\\Users\\\\Mariana\\\\Google Drive\\\\Doctorado\\\\Doctorado_UACh\\\\Tesis\\\\BBDD\\\\CR2\\\\NLU\\\\csv\\\\Total\\\\Livestock\\\\Bovine\\\\Calves\\\\CR2WU_NLU_Livestock_Bovine_Calves_historical_1950-2020_regions.csv', 'C:\\\\Users\\\\Mariana\\\\Google Drive\\\\Doctorado\\\\Doctorado_UACh\\\\Tesis\\\\BBDD\\\\CR2\\\\NLU\\\\csv\\\\Total\\\\Livestock\\\\Bovine\\\\Cows\\\\CR2WU_NLU_Livestock_Bovine_Cows_historical_1950-2020_regions.csv', 'C:\\\\Users\\\\Mariana\\\\Google Drive\\\\Doctorado\\\\Doctorado_UACh\\\\Tesis\\\\BBDD\\\\CR2\\\\NLU\\\\csv\\\\Total\\\\Livestock\\\\Bovine\\\\Heifers\\\\CR2WU_NLU_Livestock_Bovine_Heifers_historical_1950-2020_regions.csv', 'C:\\\\Users\\\\Mariana\\\\Google Drive\\\\Doctorado\\\\Doctorado_UACh\\\\Tesis\\\\BBDD\\\\CR2\\\\NLU\\\\csv\\\\Total\\\\Livestock\\\\Bovine\\\\Oxen\\\\CR2WU_NLU_Livestock_Bovine_Oxen_historical_1950-2020_regions.csv', 'C:\\\\Users\\\\Mariana\\\\Google Drive\\\\Doctorado\\\\Doctorado_UACh\\\\Tesis\\\\BBDD\\\\CR2\\\\NLU\\\\csv\\\\Total\\\\Livestock\\\\Bovine\\\\Steers\\\\CR2WU_NLU_Livestock_Bovine_Steers_historical_1950-2020_regions.csv', 'C:\\\\Users\\\\Mariana\\\\Google Drive\\\\Doctorado\\\\Doctorado_UACh\\\\Tesis\\\\BBDD\\\\CR2\\\\NLU\\\\csv\\\\Total\\\\Livestock\\\\Camelids\\\\CR2WU_NLU_Livestock_Camelids_historical_1950-2020_regions.csv', 'C:\\\\Users\\\\Mariana\\\\Google Drive\\\\Doctorado\\\\Doctorado_UACh\\\\Tesis\\\\BBDD\\\\CR2\\\\NLU\\\\csv\\\\Total\\\\Livestock\\\\Camelids\\\\Alpacas\\\\CR2WU_NLU_Livestock_Camelids_Alpacas_historical_1950-2020_regions.csv', 'C:\\\\Users\\\\Mariana\\\\Google Drive\\\\Doctorado\\\\Doctorado_UACh\\\\Tesis\\\\BBDD\\\\CR2\\\\NLU\\\\csv\\\\Total\\\\Livestock\\\\Camelids\\\\Llamas\\\\CR2WU_NLU_Livestock_Camelids_Llamas_historical_1950-2020_regions.csv', 'C:\\\\Users\\\\Mariana\\\\Google Drive\\\\Doctorado\\\\Doctorado_UACh\\\\Tesis\\\\BBDD\\\\CR2\\\\NLU\\\\csv\\\\Total\\\\Livestock\\\\Equines\\\\CR2WU_NLU_Livestock_Equines_historical_1950-2020_regions.csv', 'C:\\\\Users\\\\Mariana\\\\Google Drive\\\\Doctorado\\\\Doctorado_UACh\\\\Tesis\\\\BBDD\\\\CR2\\\\NLU\\\\csv\\\\Total\\\\Livestock\\\\Equines\\\\Horses\\\\CR2WU_NLU_Livestock_Equines_Horses_historical_1950-2020_regions.csv', 'C:\\\\Users\\\\Mariana\\\\Google Drive\\\\Doctorado\\\\Doctorado_UACh\\\\Tesis\\\\BBDD\\\\CR2\\\\NLU\\\\csv\\\\Total\\\\Livestock\\\\Equines\\\\MulesDonkeys\\\\CR2WU_NLU_Livestock_Equines_MulesDonkeys_historical_1950-2020_regions.csv', 'C:\\\\Users\\\\Mariana\\\\Google Drive\\\\Doctorado\\\\Doctorado_UACh\\\\Tesis\\\\BBDD\\\\CR2\\\\NLU\\\\csv\\\\Total\\\\Livestock\\\\OtherLivestock\\\\CR2WU_NLU_Livestock_OtherLivestock_historical_1950-2020_regions.csv', 'C:\\\\Users\\\\Mariana\\\\Google Drive\\\\Doctorado\\\\Doctorado_UACh\\\\Tesis\\\\BBDD\\\\CR2\\\\NLU\\\\csv\\\\Total\\\\Livestock\\\\OtherLivestock\\\\Goats\\\\CR2WU_NLU_Livestock_OtherLivestock_Goats_historical_1950-2020_regions.csv', 'C:\\\\Users\\\\Mariana\\\\Google Drive\\\\Doctorado\\\\Doctorado_UACh\\\\Tesis\\\\BBDD\\\\CR2\\\\NLU\\\\csv\\\\Total\\\\Livestock\\\\OtherLivestock\\\\Pigs\\\\CR2WU_NLU_Livestock_OtherLivestock_Pigs_historical_1950-2020_regions.csv', 'C:\\\\Users\\\\Mariana\\\\Google Drive\\\\Doctorado\\\\Doctorado_UACh\\\\Tesis\\\\BBDD\\\\CR2\\\\NLU\\\\csv\\\\Total\\\\Livestock\\\\OtherLivestock\\\\Rabbits\\\\CR2WU_NLU_Livestock_OtherLivestock_Rabbits_historical_1950-2020_regions.csv', 'C:\\\\Users\\\\Mariana\\\\Google Drive\\\\Doctorado\\\\Doctorado_UACh\\\\Tesis\\\\BBDD\\\\CR2\\\\NLU\\\\csv\\\\Total\\\\Livestock\\\\OtherLivestock\\\\Sheeps\\\\CR2WU_NLU_Livestock_OtherLivestock_Sheeps_historical_1950-2020_regions.csv', 'C:\\\\Users\\\\Mariana\\\\Google Drive\\\\Doctorado\\\\Doctorado_UACh\\\\Tesis\\\\BBDD\\\\CR2\\\\NLU\\\\csv\\\\Total\\\\Mining\\\\CR2WU_NLU_Mining_historical_1950-2020_regions.csv', 'C:\\\\Users\\\\Mariana\\\\Google Drive\\\\Doctorado\\\\Doctorado_UACh\\\\Tesis\\\\BBDD\\\\CR2\\\\NLU\\\\csv\\\\Total\\\\Mining\\\\Metallic\\\\CR2WU_NLU_Mining_Metallic_historical_1950-2020_regions.csv', 'C:\\\\Users\\\\Mariana\\\\Google Drive\\\\Doctorado\\\\Doctorado_UACh\\\\Tesis\\\\BBDD\\\\CR2\\\\NLU\\\\csv\\\\Total\\\\Mining\\\\Metallic\\\\CopperCathodes\\\\CR2WU_NLU_Mining_Metallic_CopperCathodes_historical_1950-2020_regions.csv', 'C:\\\\Users\\\\Mariana\\\\Google Drive\\\\Doctorado\\\\Doctorado_UACh\\\\Tesis\\\\BBDD\\\\CR2\\\\NLU\\\\csv\\\\Total\\\\Mining\\\\Metallic\\\\CopperConcetrates\\\\CR2WU_NLU_Mining_Metallic_CopperConcetrates_historical_1950-2020_regions.csv', 'C:\\\\Users\\\\Mariana\\\\Google Drive\\\\Doctorado\\\\Doctorado_UACh\\\\Tesis\\\\BBDD\\\\CR2\\\\NLU\\\\csv\\\\Total\\\\Mining\\\\Metallic\\\\Gold\\\\CR2WU_NLU_Mining_Metallic_Gold_historical_1950-2020_regions.csv', 'C:\\\\Users\\\\Mariana\\\\Google Drive\\\\Doctorado\\\\Doctorado_UACh\\\\Tesis\\\\BBDD\\\\CR2\\\\NLU\\\\csv\\\\Total\\\\Mining\\\\Metallic\\\\Iron\\\\CR2WU_NLU_Mining_Metallic_Iron_historical_1950-2020_regions.csv', 'C:\\\\Users\\\\Mariana\\\\Google Drive\\\\Doctorado\\\\Doctorado_UACh\\\\Tesis\\\\BBDD\\\\CR2\\\\NLU\\\\csv\\\\Total\\\\Mining\\\\Metallic\\\\Molybdenum\\\\CR2WU_NLU_Mining_Metallic_Molybdenum_historical_1950-2020_regions.csv', 'C:\\\\Users\\\\Mariana\\\\Google Drive\\\\Doctorado\\\\Doctorado_UACh\\\\Tesis\\\\BBDD\\\\CR2\\\\NLU\\\\csv\\\\Total\\\\Mining\\\\Metallic\\\\Silver\\\\CR2WU_NLU_Mining_Metallic_Silver_historical_1950-2020_regions.csv', 'C:\\\\Users\\\\Mariana\\\\Google Drive\\\\Doctorado\\\\Doctorado_UACh\\\\Tesis\\\\BBDD\\\\CR2\\\\NLU\\\\csv\\\\Total\\\\Mining\\\\Metallic\\\\Zinc\\\\CR2WU_NLU_Mining_Metallic_Zinc_historical_1950-2020_regions.csv', 'C:\\\\Users\\\\Mariana\\\\Google Drive\\\\Doctorado\\\\Doctorado_UACh\\\\Tesis\\\\BBDD\\\\CR2\\\\NLU\\\\csv\\\\Total\\\\Mining\\\\NonMetallic\\\\CR2WU_NLU_Mining_NonMetallic_historical_1950-2020_regions.csv', 'C:\\\\Users\\\\Mariana\\\\Google Drive\\\\Doctorado\\\\Doctorado_UACh\\\\Tesis\\\\BBDD\\\\CR2\\\\NLU\\\\csv\\\\Total\\\\Mining\\\\NonMetallic\\\\Coal\\\\CR2WU_NLU_Mining_NonMetallic_Coal_historical_1950-2020_regions.csv', 'C:\\\\Users\\\\Mariana\\\\Google Drive\\\\Doctorado\\\\Doctorado_UACh\\\\Tesis\\\\BBDD\\\\CR2\\\\NLU\\\\csv\\\\Total\\\\Mining\\\\NonMetallic\\\\Iodine\\\\CR2WU_NLU_Mining_NonMetallic_Iodine_historical_1950-2020_regions.csv', 'C:\\\\Users\\\\Mariana\\\\Google Drive\\\\Doctorado\\\\Doctorado_UACh\\\\Tesis\\\\BBDD\\\\CR2\\\\NLU\\\\csv\\\\Total\\\\Mining\\\\NonMetallic\\\\LithiumCarbonate\\\\CR2WU_NLU_Mining_NonMetallic_LithiumCarbonate_historical_1950-2020_regions.csv', 'C:\\\\Users\\\\Mariana\\\\Google Drive\\\\Doctorado\\\\Doctorado_UACh\\\\Tesis\\\\BBDD\\\\CR2\\\\NLU\\\\csv\\\\Total\\\\Mining\\\\NonMetallic\\\\Nitrates\\\\CR2WU_NLU_Mining_NonMetallic_Nitrates_historical_1950-2020_regions.csv', 'C:\\\\Users\\\\Mariana\\\\Google Drive\\\\Doctorado\\\\Doctorado_UACh\\\\Tesis\\\\BBDD\\\\CR2\\\\NLU\\\\csv\\\\Total\\\\Mining\\\\NonMetallic\\\\Ulexite\\\\CR2WU_NLU_Mining_NonMetallic_Ulexite_historical_1950-2020_regions.csv', 'C:\\\\Users\\\\Mariana\\\\Google Drive\\\\Doctorado\\\\Doctorado_UACh\\\\Tesis\\\\BBDD\\\\CR2\\\\NLU\\\\csv\\\\Total\\\\WaterBodies\\\\CR2WU_NLU_WaterBodies_historical_1950-2020_regions.csv', 'C:\\\\Users\\\\Mariana\\\\Google Drive\\\\Doctorado\\\\Doctorado_UACh\\\\Tesis\\\\BBDD\\\\CR2\\\\NLU\\\\csv\\\\Total\\\\WaterBodies\\\\Dams\\\\CR2WU_NLU_WaterBodies_Dams_historical_1950-2020_regions.csv', 'C:\\\\Users\\\\Mariana\\\\Google Drive\\\\Doctorado\\\\Doctorado_UACh\\\\Tesis\\\\BBDD\\\\CR2\\\\NLU\\\\csv\\\\Total\\\\WaterBodies\\\\Reservoirs\\\\CR2WU_NLU_WaterBodies_Reservoirs_historical_1950-2020_regions.csv']\n"
     ]
    }
   ],
   "source": [
    "unidades_minimas = list_files(r\"C:\\Users\\Mariana\\Google Drive\\Doctorado\\Doctorado_UACh\\Tesis\\BBDD\\CR2\\NLU\\csv\")\n",
    "print(unidades_minimas)\n"
   ]
  },
  {
   "cell_type": "code",
   "execution_count": 32,
   "metadata": {},
   "outputs": [
    {
     "data": {
      "text/plain": [
       "76"
      ]
     },
     "execution_count": 32,
     "metadata": {},
     "output_type": "execute_result"
    }
   ],
   "source": [
    "len(unidades_minimas)"
   ]
  }
 ],
 "metadata": {
  "kernelspec": {
   "display_name": "tesis",
   "language": "python",
   "name": "python3"
  },
  "language_info": {
   "codemirror_mode": {
    "name": "ipython",
    "version": 3
   },
   "file_extension": ".py",
   "mimetype": "text/x-python",
   "name": "python",
   "nbconvert_exporter": "python",
   "pygments_lexer": "ipython3",
   "version": "3.11.3"
  },
  "orig_nbformat": 4
 },
 "nbformat": 4,
 "nbformat_minor": 2
}
