{
 "cells": [
  {
   "attachments": {},
   "cell_type": "markdown",
   "metadata": {},
   "source": [
    "# Urban Metabolism in the Web of Science"
   ]
  },
  {
   "attachments": {},
   "cell_type": "markdown",
   "metadata": {},
   "source": [
    "Mariana Bruning González\n",
    "\n",
    "mariana.bruning@alumnos.uach.cl\n",
    "\n",
    "26/07/2023"
   ]
  },
  {
   "attachments": {},
   "cell_type": "markdown",
   "metadata": {},
   "source": [
    "# Packages"
   ]
  },
  {
   "cell_type": "code",
   "execution_count": 1,
   "metadata": {},
   "outputs": [
    {
     "name": "stdout",
     "output_type": "stream",
     "text": [
      "Collecting wos\n",
      "  Downloading wos-0.2.7.tar.gz (11 kB)\n",
      "  Preparing metadata (setup.py): started\n",
      "  Preparing metadata (setup.py): finished with status 'done'\n",
      "Collecting limit\n",
      "  Downloading limit-0.2.3.tar.gz (1.9 kB)\n",
      "  Preparing metadata (setup.py): started\n",
      "  Preparing metadata (setup.py): finished with status 'done'\n",
      "Collecting suds-py3\n",
      "  Downloading suds_py3-1.4.5.0-py3-none-any.whl (298 kB)\n",
      "     -------------------------------------- 298.8/298.8 kB 2.6 MB/s eta 0:00:00\n",
      "Building wheels for collected packages: wos, limit\n",
      "  Building wheel for wos (setup.py): started\n",
      "  Building wheel for wos (setup.py): finished with status 'done'\n",
      "  Created wheel for wos: filename=wos-0.2.7-py3-none-any.whl size=9948 sha256=00856f1262fea881c9a33606f313e9a59fcf679780304f924bf64f37a8e978ce\n",
      "  Stored in directory: c:\\users\\mariana\\appdata\\local\\pip\\cache\\wheels\\56\\6b\\17\\ac5407f4aea39f91fbb275c06fa13a32b379c521de96e4453c\n",
      "  Building wheel for limit (setup.py): started\n",
      "  Building wheel for limit (setup.py): finished with status 'done'\n",
      "  Created wheel for limit: filename=limit-0.2.3-py3-none-any.whl size=2344 sha256=d9419337c079b95eb226d828d3eaadf5a5ff8b2c4bb8429101b7dcd8d7c03916\n",
      "  Stored in directory: c:\\users\\mariana\\appdata\\local\\pip\\cache\\wheels\\6b\\01\\9b\\58628f51846abc09a50dea499334247af58a117cb6882d24dd\n",
      "Successfully built wos limit\n",
      "Installing collected packages: suds-py3, limit, wos\n",
      "Successfully installed limit-0.2.3 suds-py3-1.4.5.0 wos-0.2.7\n"
     ]
    }
   ],
   "source": [
    "!pip install wos"
   ]
  },
  {
   "cell_type": "code",
   "execution_count": 6,
   "metadata": {},
   "outputs": [],
   "source": [
    "from argparse import ArgumentParser\n",
    "from wos.utils import query, doi_to_wos\n",
    "from wos import WosClient"
   ]
  },
  {
   "cell_type": "code",
   "execution_count": 9,
   "metadata": {},
   "outputs": [
    {
     "name": "stdout",
     "output_type": "stream",
     "text": [
      "Help on function query in module wos.utils:\n",
      "\n",
      "query(wosclient, wos_query, xml_query=None, count=5, offset=1, limit=100)\n",
      "    Query Web of Science and XML query results with multiple requests.\n",
      "\n"
     ]
    }
   ],
   "source": [
    "help(query)"
   ]
  },
  {
   "attachments": {},
   "cell_type": "markdown",
   "metadata": {},
   "source": [
    "# Último Archivo"
   ]
  },
  {
   "attachments": {},
   "cell_type": "markdown",
   "metadata": {},
   "source": [
    "## Packages"
   ]
  },
  {
   "cell_type": "code",
   "execution_count": 10,
   "metadata": {},
   "outputs": [],
   "source": [
    "import os\n",
    "import pandas as pd"
   ]
  },
  {
   "cell_type": "code",
   "execution_count": 18,
   "metadata": {},
   "outputs": [
    {
     "name": "stdout",
     "output_type": "stream",
     "text": [
      " El volumen de la unidad C es OS\n",
      " El n�mero de serie del volumen es: 9E3A-F665\n",
      "\n",
      " Directorio de C:\\Users\\Mariana\n",
      "\n"
     ]
    },
    {
     "name": "stderr",
     "output_type": "stream",
     "text": [
      "No se encuentra el archivo\n"
     ]
    }
   ],
   "source": [
    "ls Mariana"
   ]
  },
  {
   "cell_type": "code",
   "execution_count": 20,
   "metadata": {},
   "outputs": [
    {
     "name": "stdout",
     "output_type": "stream",
     "text": [
      " El volumen de la unidad C es OS\n",
      " El n�mero de serie del volumen es: 9E3A-F665\n",
      "\n",
      " Directorio de C:\\Users\\Mariana\n",
      "\n",
      "26-06-2023  16:42    <DIR>          .\n",
      "23-03-2023  18:45    <DIR>          ..\n",
      "05-09-2022  21:38    <DIR>          .anaconda\n",
      "21-11-2022  11:36    <DIR>          .arduinoIDE\n",
      "03-04-2020  11:17    <DIR>          .cisco\n",
      "16-05-2022  16:09    <DIR>          .conda\n",
      "21-05-2022  14:19                42 .condarc\n",
      "13-05-2022  15:31    <DIR>          .continuum\n",
      "17-10-2022  10:52    <DIR>          .dbus-keyrings\n",
      "30-12-2020  12:23    <DIR>          .EFDB\n",
      "14-05-2023  22:08               207 .gitconfig\n",
      "07-12-2022  22:52    <DIR>          .ipynb_checkpoints\n",
      "28-01-2022  10:04    <DIR>          .ipython\n",
      "16-05-2022  18:51    <DIR>          .jupyter\n",
      "25-05-2022  19:37    <DIR>          .matplotlib\n",
      "27-06-2022  09:02    <DIR>          .ms-ad\n",
      "08-04-2020  18:58    <DIR>          .openjfx\n",
      "18-05-2020  00:09            34.981 .pdfbox.cache\n",
      "14-09-2022  09:09    <DIR>          .spyder-py3\n",
      "18-05-2023  09:42    <DIR>          .ssh\n",
      "26-05-2023  12:38    <DIR>          .streamlit\n",
      "26-06-2023  16:42    <DIR>          .vscode\n",
      "16-05-2023  16:17    <DIR>          .vscode-R\n",
      "08-03-2021  11:01    <DIR>          3D Objects\n",
      "06-09-2022  15:26             9.296 BD_GBIF.ipynb\n",
      "02-07-2023  03:59    <DIR>          Biblioteca de calibre\n",
      "06-12-2022  08:08         8.583.657 bio.geojson\n",
      "05-12-2022  21:45         7.275.594 bio_wgs.geojson\n",
      "18-11-2022  11:38            28.594 Clasepython.ipynb\n",
      "24-03-2023  09:01    <DIR>          Contacts\n",
      "14-05-2023  22:14       348.622.744 database.ipynb\n",
      "10-07-2023  16:11    <DIR>          Desktop\n",
      "05-06-2023  15:24    <DIR>          Documents\n",
      "26-07-2023  16:25    <DIR>          Downloads\n",
      "21-07-2023  13:23    <DIR>          Dropbox\n",
      "24-03-2023  09:01    <DIR>          Favorites\n",
      "17-10-2022  10:32            27.458 fig.png\n",
      "26-07-2023  09:52    <DIR>          Google Drive\n",
      "30-08-2021  08:56    <DIR>          Google Drive (mbruning@cyclosustainability.com)\n",
      "14-09-2022  09:10    <DIR>          Jedi\n",
      "04-04-2006  13:10             1.509 license.txt\n",
      "24-03-2023  09:01    <DIR>          Links\n",
      "19-10-2022  19:29             9.375 Maga.xlsx\n",
      "19-10-2022  19:26               761 Maguita.ipynb\n",
      "24-03-2023  09:01    <DIR>          Music\n",
      "29-08-2021  13:41    <DIR>          OneDrive\n",
      "25-04-2023  18:22    <DIR>          OneDrive - Universidad Austral de Chile\n",
      "24-03-2023  10:40    <DIR>          Pictures\n",
      "31-01-2022  22:43    <DIR>          proyecto_ses2\n",
      "12-04-2022  10:42             2.800 pspp.jnl\n",
      "09-03-2019  01:07    <DIR>          Roaming\n",
      "24-03-2023  09:01    <DIR>          Saved Games\n",
      "16-05-2022  22:33             2.770 Script bbdd biodiversity.ipynb\n",
      "24-03-2023  09:01    <DIR>          Searches\n",
      "14-05-2023  22:10    <DIR>          Tesis_git\n",
      "05-12-2019  03:37           384.216 UnRAR.exe\n",
      "24-03-2023  09:01    <DIR>          Videos\n",
      "25-07-2023  17:25    <DIR>          Zotero\n",
      "              15 archivos    364.984.004 bytes\n",
      "              43 dirs  21.081.640.960 bytes libres\n"
     ]
    }
   ],
   "source": [
    "ls"
   ]
  }
 ],
 "metadata": {
  "kernelspec": {
   "display_name": "tesis",
   "language": "python",
   "name": "python3"
  },
  "language_info": {
   "codemirror_mode": {
    "name": "ipython",
    "version": 3
   },
   "file_extension": ".py",
   "mimetype": "text/x-python",
   "name": "python",
   "nbconvert_exporter": "python",
   "pygments_lexer": "ipython3",
   "version": "3.11.3"
  },
  "orig_nbformat": 4
 },
 "nbformat": 4,
 "nbformat_minor": 2
}
